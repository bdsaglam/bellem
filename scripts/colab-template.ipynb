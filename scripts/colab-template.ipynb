{
  "cells": [
    {
      "cell_type": "markdown",
      "metadata": {
        "id": "ZTDSy6OJ0e3R"
      },
      "source": [
        "## Setup"
      ]
    },
    {
      "cell_type": "code",
      "execution_count": null,
      "metadata": {
        "colab": {
          "base_uri": "https://localhost:8080/"
        },
        "id": "l7yMlNeVP4uz",
        "outputId": "5c098ed2-820c-4229-f54e-2b8387671c1a"
      },
      "outputs": [],
      "source": [
        "!pip install -Uqq wandb\n",
        "\n",
        "!pip install clip@git+https://github.com/openai/CLIP.git\n",
        "!pip install -Uqq bellem@git+https://github.com/bdsaglam/bellem.git\n",
        "!pip show bellem\n",
        "!pip show fastmtl"
      ]
    },
    {
      "cell_type": "code",
      "execution_count": null,
      "metadata": {},
      "outputs": [],
      "source": [
        "import json\n",
        "import os\n",
        "from pathlib import Path\n",
        "\n",
        "import numpy as np\n",
        "import pandas as pd\n",
        "import matplotlib.pyplot as plt\n",
        "import torch\n",
        "import torch.nn as nn\n",
        "import torch.nn.functional as F\n",
        "import torchvision\n",
        "from torchvision import transforms"
      ]
    },
    {
      "cell_type": "code",
      "execution_count": null,
      "metadata": {
        "id": "T7FqI7cQzZ61"
      },
      "outputs": [],
      "source": [
        "import os\n",
        "from getpass import getpass\n",
        "os.environ['KAGGLE_USERNAME'] = 'bdsaglam'\n",
        "os.environ['KAGGLE_KEY'] = 'TODO'"
      ]
    },
    {
      "cell_type": "code",
      "execution_count": null,
      "metadata": {
        "colab": {
          "base_uri": "https://localhost:8080/"
        },
        "id": "emkNncrrFtX7",
        "outputId": "4a5ee17c-cb8b-4997-b761-1064a6641e36"
      },
      "outputs": [],
      "source": [
        "import wandb\n",
        "\n",
        "wandb_username = \"bdsaglam\"\n",
        "wandb_token = \"TODO\"\n",
        "\n",
        "!wandb login --relogin $wandb_token"
      ]
    },
    {
      "cell_type": "markdown",
      "metadata": {
        "id": "koM2Fv1I0cxw"
      },
      "source": [
        "## Data"
      ]
    },
    {
      "cell_type": "code",
      "execution_count": null,
      "metadata": {
        "colab": {
          "base_uri": "https://localhost:8080/",
          "height": 54
        },
        "id": "xuQmEdpwzYnW",
        "outputId": "0afb52a2-230b-4bcc-cf61-8acfabf8bc97"
      },
      "outputs": [],
      "source": [
        "from fastai.data.all import untar_data\n",
        "from fastai.vision.all import URLs\n",
        "\n",
        "imagenette_path = Path(untar_data(URLs.IMAGENETTE_320)).absolute()\n",
        "print(imagenette_path)"
      ]
    },
    {
      "cell_type": "code",
      "execution_count": null,
      "metadata": {
        "colab": {
          "base_uri": "https://localhost:8080/"
        },
        "id": "4PO4R6xDzbaK",
        "outputId": "a219fc70-0ab0-4128-8bac-1e62d68ba38a"
      },
      "outputs": [],
      "source": [
        "imagenette_sketch_path =  Path('./imagenette-sketch').absolute()\n",
        "\n",
        "!rm -rf $imagenette_sketch_path \n",
        "!mkdir $imagenette_sketch_path \n",
        "!(cd $imagenette_sketch_path && kaggle datasets download -d bdsaglam/imagenette-sketch-classification && unzip imagenette-sketch-classification.zip)\n",
        "!(rm ./imagenette-sketch/imagenette-sketch-classification.zip)\n",
        "\n",
        "print(imagenette_sketch_path)"
      ]
    },
    {
      "cell_type": "markdown",
      "metadata": {
        "id": "-_EfW9tE_dQ8"
      },
      "source": [
        "## Train & Evaluate"
      ]
    },
    {
      "cell_type": "code",
      "execution_count": 1,
      "metadata": {},
      "outputs": [],
      "source": [
        "# PLACEHOLDER FOR TRAINING SCRIPT"
      ]
    },
    {
      "cell_type": "code",
      "execution_count": null,
      "metadata": {
        "id": "kiYrpPOU90_k"
      },
      "outputs": [],
      "source": [
        "config = {\n",
        "  \"seed\": 42,\n",
        "  \"data\": {\n",
        "    \"imagenet\": {\n",
        "      \"path\": str(imagenette_path),\n",
        "      \"batch_size\": 16\n",
        "    },\n",
        "    \"imagenet_sketch\": {\n",
        "      \"path\": str(imagenette_sketch_path),\n",
        "      \"valid_pct\": 0.3,\n",
        "      \"batch_size\": 16\n",
        "    }\n",
        "  },\n",
        "  \"clip\": {\n",
        "    \"model_name\": \"RN50\",\n",
        "    \"prec\": \"fp32\"\n",
        "  },\n",
        "  \"coop\": {\n",
        "    \"class_specific_contexts\": True,\n",
        "    \"n_ctx\": 16\n",
        "  },\n",
        "  \"train\": {\n",
        "    \"n_epoch\": 50,\n",
        "    \"lr\": 1e-4\n",
        "  },\n",
        "  \"wandb\": {\n",
        "    \"mode\": \"offline\",\n",
        "    \"entity\": \"bdsaglam\",\n",
        "    \"project\": \"coop\"\n",
        "  }\n",
        "}\n",
        "\n",
        "sweep_config = {\n",
        "    \"metric\": {\"name\": \"accuracy\", \"goal\": \"maximize\"},\n",
        "    \"method\": \"bayes\",\n",
        "    \"parameters\": {\n",
        "        \"clip.model_name\": {\"values\": [\"RN50\"]},\n",
        "        \"coop.n_ctx\": {\"values\": [1, 8, 16, 32]},\n",
        "        \"train.lr\": {\"max\": 1e-2, \"min\": 1e-4}\n",
        "    },\n",
        "    \"count\": 20\n",
        "}\n"
      ]
    },
    {
      "cell_type": "code",
      "execution_count": null,
      "metadata": {
        "colab": {
          "base_uri": "https://localhost:8080/",
          "height": 402
        },
        "id": "y3DONtIu-ge6",
        "outputId": "f9075706-3176-473b-dfd8-572c559e804a"
      },
      "outputs": [],
      "source": [
        "from types import SimpleNamespace\n",
        "\n",
        "with open('./config.json', 'w') as f:\n",
        "    json.dump(config, f)\n",
        "\n",
        "with open('./sweep-config.json', 'w') as f:\n",
        "    json.dump(sweep_config, f)\n",
        "\n",
        "args = SimpleNamespace(**{'cfg': './config.json', 'sweep_cfg': './sweep-config.json'})\n",
        "main(args)"
      ]
    }
  ],
  "metadata": {
    "accelerator": "GPU",
    "colab": {
      "provenance": []
    },
    "gpuClass": "standard",
    "kernelspec": {
      "display_name": "bellem2",
      "language": "python",
      "name": "python3"
    },
    "language_info": {
      "codemirror_mode": {
        "name": "ipython",
        "version": 3
      },
      "file_extension": ".py",
      "mimetype": "text/x-python",
      "name": "python",
      "nbconvert_exporter": "python",
      "pygments_lexer": "ipython3",
      "version": "3.10.9"
    },
    "vscode": {
      "interpreter": {
        "hash": "8f15712e8b838c3671974534c846374c5db7f7484e6171f3f8f39d2680981751"
      }
    }
  },
  "nbformat": 4,
  "nbformat_minor": 0
}

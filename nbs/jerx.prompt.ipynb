{
 "cells": [
  {
   "cell_type": "markdown",
   "metadata": {},
   "source": [
    "# Prompting utils for joint entity relation extraction"
   ]
  },
  {
   "cell_type": "code",
   "execution_count": null,
   "metadata": {},
   "outputs": [],
   "source": [
    "#|default_exp jerx.prompt"
   ]
  },
  {
   "cell_type": "code",
   "execution_count": null,
   "metadata": {},
   "outputs": [],
   "source": [
    "#|hide\n",
    "from fastcore.test import *\n",
    "from nbdev.showdoc import *"
   ]
  },
  {
   "cell_type": "code",
   "execution_count": null,
   "metadata": {},
   "outputs": [],
   "source": [
    "#|export\n",
    "import random\n",
    "from dataclasses import dataclass\n",
    "from typing import Iterable, Callable, Any, Generator\n",
    "\n",
    "from bellem.logging import get_logger\n",
    "\n",
    "log = get_logger(__name__)"
   ]
  },
  {
   "cell_type": "code",
   "execution_count": null,
   "metadata": {},
   "outputs": [],
   "source": [
    "#|hide\n",
    "import json\n",
    "def pprint(obj):\n",
    "    print(json.dumps(obj, indent=2, ensure_ascii=False))"
   ]
  },
  {
   "cell_type": "markdown",
   "metadata": {},
   "source": [
    "## Prompting for joint entity-relation extraction"
   ]
  },
  {
   "cell_type": "code",
   "execution_count": null,
   "metadata": {},
   "outputs": [],
   "source": [
    "#|export\n",
    "\n",
    "DEFAULT_SYSTEM_PROMPT_TEMPLATE = \"\"\"You are a helpful assistant that extracts up to {max_triplets} entity-relation-entity triplets from given text. Use '{delimiter}' as delimiter and provide one triplet per line. The entities in a triplet must be different.\n",
    "{relation_set_prompt}\n",
    "\"\"\".strip()\n",
    "\n",
    "DEFAULT_RELATION_SET_PROMPT_TEMPLATE = \"\"\"Here are the list of relations that you can use:\n",
    "{relation_set}\n",
    "\"\"\".strip()\n",
    "\n",
    "@dataclass\n",
    "class JERXChatFormatter:\n",
    "    system_prompt_template: str = DEFAULT_SYSTEM_PROMPT_TEMPLATE\n",
    "    relation_set_prompt_template: str = DEFAULT_RELATION_SET_PROMPT_TEMPLATE\n",
    "    relation_set: set|None = None\n",
    "    max_triplets_margin: int = 0\n",
    "    delimiter: str = \" | \"\n",
    "\n",
    "    def __post_init__(self):\n",
    "        if self.relation_set:\n",
    "            self.relation_set = sorted(self.relation_set)\n",
    "\n",
    "    def format(self, batch: list[dict], max_triplets: int | None = None):\n",
    "        if \"triplets\" not in batch[0]:\n",
    "            assert len(batch) == 1, \"Only one example is allowed when 'triplets' is not present\"\n",
    "        if max_triplets is None:\n",
    "            if \"triplets\" in batch[0]:\n",
    "                max_triplets = max([len(example['triplets']) for example in batch]) + self.max_triplets_margin\n",
    "            else:\n",
    "                max_triplets = random.randint(15, 20)\n",
    "        messages = [\n",
    "            self.make_system_message(max_triplets),\n",
    "            *[message for example in batch for message in self.make_messages(example)],\n",
    "        ]\n",
    "        return {'messages': messages}\n",
    "\n",
    "    def make_system_message(self, max_triplets: int) -> str:\n",
    "        rsp = self.relation_set_prompt_template.format(relation_set=','.join(self.relation_set)) if self.relation_set else \"\"\n",
    "        content = self.system_prompt_template.format(max_triplets=max_triplets, delimiter=self.delimiter, relation_set_prompt=rsp)\n",
    "        return {\"role\": \"system\", \"content\": content}\n",
    "\n",
    "    def make_messages(self, example: dict) -> Generator[dict, None, None]:\n",
    "        yield {\"role\": \"user\", \"content\": example[\"text\"]}\n",
    "        if \"triplets\" in example:\n",
    "            yield {\"role\": \"assistant\", \"content\": self._format_triplets(example[\"triplets\"])}\n",
    "\n",
    "    def _format_triplets(self, triplets: Iterable[str]) -> str:\n",
    "        return '\\n'.join(triplets)"
   ]
  },
  {
   "cell_type": "code",
   "execution_count": null,
   "metadata": {},
   "outputs": [
    {
     "name": "stdout",
     "output_type": "stream",
     "text": [
      "================================================================================\n",
      "{\n",
      "  \"messages\": [\n",
      "    {\n",
      "      \"role\": \"system\",\n",
      "      \"content\": \"You are a helpful assistant that extracts up to 2 entity-relation-entity triplets from given text. Use ' | ' as delimiter and provide one triplet per line. The entities in a triplet must be different.\\n\"\n",
      "    },\n",
      "    {\n",
      "      \"role\": \"user\",\n",
      "      \"content\": \"Ankara is capital city of Turkey\"\n",
      "    },\n",
      "    {\n",
      "      \"role\": \"assistant\",\n",
      "      \"content\": \"Ankara | capital of | Turkey\"\n",
      "    },\n",
      "    {\n",
      "      \"role\": \"user\",\n",
      "      \"content\": \"Paris is capital city of France, and The Eiffel Tower is located in Paris.\"\n",
      "    },\n",
      "    {\n",
      "      \"role\": \"assistant\",\n",
      "      \"content\": \"Paris | capital of | France\\nEiffel Tower | location | Paris\"\n",
      "    }\n",
      "  ]\n",
      "}\n",
      "================================================================================\n",
      "{\n",
      "  \"messages\": [\n",
      "    {\n",
      "      \"role\": \"system\",\n",
      "      \"content\": \"You are a helpful assistant that extracts up to 1 entity-relation-entity triplets from given text. Use ' | ' as delimiter and provide one triplet per line. The entities in a triplet must be different.\\n\"\n",
      "    },\n",
      "    {\n",
      "      \"role\": \"user\",\n",
      "      \"content\": \"London is capital city of UK\"\n",
      "    },\n",
      "    {\n",
      "      \"role\": \"assistant\",\n",
      "      \"content\": \"London | capital of | UK\"\n",
      "    }\n",
      "  ]\n",
      "}\n"
     ]
    }
   ],
   "source": [
    "batches = [\n",
    "    [\n",
    "        {\n",
    "            \"text\": \"Ankara is capital city of Turkey\",\n",
    "            \"triplets\": [\n",
    "                \"Ankara | capital of | Turkey\",\n",
    "            ],\n",
    "        },\n",
    "        {\n",
    "            \"text\": \"Paris is capital city of France, and The Eiffel Tower is located in Paris.\",\n",
    "            \"triplets\": [\n",
    "                \"Paris | capital of | France\",\n",
    "                \"Eiffel Tower | location | Paris\",\n",
    "            ],\n",
    "        },\n",
    "    ],\n",
    "    [\n",
    "        {\n",
    "            \"text\": \"London is capital city of UK\",\n",
    "            \"triplets\": [\n",
    "                \"London | capital of | UK\",\n",
    "            ],\n",
    "        }\n",
    "    ],\n",
    "]\n",
    "erx2chat_formatter = JERXChatFormatter()\n",
    "for batch in batches:\n",
    "    print(\"=\" * 80)\n",
    "    pprint(erx2chat_formatter.format(batch))"
   ]
  },
  {
   "cell_type": "code",
   "execution_count": null,
   "metadata": {},
   "outputs": [
    {
     "name": "stdout",
     "output_type": "stream",
     "text": [
      "{\n",
      "  \"messages\": [\n",
      "    {\n",
      "      \"role\": \"system\",\n",
      "      \"content\": \"You are a helpful assistant that extracts up to 18 entity-relation-entity triplets from given text. Use ' | ' as delimiter and provide one triplet per line. The entities in a triplet must be different.\\n\"\n",
      "    },\n",
      "    {\n",
      "      \"role\": \"user\",\n",
      "      \"content\": \"Ankara is capital city of Turkey.\"\n",
      "    }\n",
      "  ]\n",
      "}\n"
     ]
    }
   ],
   "source": [
    "example = {\n",
    "    \"text\": \"Ankara is capital city of Turkey.\",\n",
    "}\n",
    "erx2chat_formatter = JERXChatFormatter()\n",
    "pprint(erx2chat_formatter.format([example]))"
   ]
  },
  {
   "cell_type": "code",
   "execution_count": null,
   "metadata": {},
   "outputs": [],
   "source": [
    "#|export\n",
    "\n",
    "DEFAULT_SIMPLE_SYSTEM_PROMPT_TEMPLATE = \"\"\"\n",
    "You are an excellent knowledge graph construction agent. Extract knowledge triplets in the form of (subject, relation, object) from user's messages. Avoid stopwords. Use '{delimiter}' as delimiter and provide one triplet per line.\n",
    "\"\"\".strip()\n",
    "\n",
    "@dataclass\n",
    "class JERXSimpleChatFormatter:\n",
    "    system_prompt_template: str = DEFAULT_SIMPLE_SYSTEM_PROMPT_TEMPLATE\n",
    "    delimiter: str = \" | \"\n",
    "\n",
    "    def format(self, batch: list[dict]):\n",
    "        if \"triplets\" not in batch[0]:\n",
    "            assert len(batch) == 1, \"Only one example is allowed when 'triplets' is not present\"\n",
    "        messages = [\n",
    "            self.make_system_message(),\n",
    "            *[message for example in batch for message in self.make_messages(example)],\n",
    "        ]\n",
    "        return {'messages': messages}\n",
    "\n",
    "    def make_system_message(self) -> str:\n",
    "        content = self.system_prompt_template.format(delimiter=self.delimiter)\n",
    "        return {\"role\": \"system\", \"content\": content}\n",
    "\n",
    "    def make_messages(self, example: dict) -> Generator[dict, None, None]:\n",
    "        yield {\"role\": \"user\", \"content\": example[\"text\"]}\n",
    "        if \"triplets\" in example:\n",
    "            yield {\"role\": \"assistant\", \"content\": self._format_triplets(example[\"triplets\"])}\n",
    "\n",
    "    def _format_triplets(self, triplets: Iterable[str]) -> str:\n",
    "        return '\\n'.join(set(triplets))"
   ]
  },
  {
   "cell_type": "code",
   "execution_count": null,
   "metadata": {},
   "outputs": [
    {
     "name": "stdout",
     "output_type": "stream",
     "text": [
      "{\n",
      "  \"messages\": [\n",
      "    {\n",
      "      \"role\": \"system\",\n",
      "      \"content\": \"You are an excellent knowledge graph construction agent. Extract knowledge triplets in the form of (subject, relation, object) from user's messages. Avoid stopwords. Use ' | ' as delimiter and provide one triplet per line.\"\n",
      "    },\n",
      "    {\n",
      "      \"role\": \"user\",\n",
      "      \"content\": \"Ankara is capital city of Turkey.\"\n",
      "    }\n",
      "  ]\n",
      "}\n"
     ]
    }
   ],
   "source": [
    "example = {\n",
    "    \"text\": \"Ankara is capital city of Turkey.\",\n",
    "}\n",
    "pprint(JERXSimpleChatFormatter().format([example]))"
   ]
  },
  {
   "cell_type": "code",
   "execution_count": null,
   "metadata": {},
   "outputs": [],
   "source": [
    "#|hide\n",
    "import nbdev; nbdev.nbdev_export()"
   ]
  }
 ],
 "metadata": {
  "kernelspec": {
   "display_name": "python3",
   "language": "python",
   "name": "python3"
  }
 },
 "nbformat": 4,
 "nbformat_minor": 2
}

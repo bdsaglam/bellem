{
 "cells": [
  {
   "cell_type": "markdown",
   "metadata": {},
   "source": [
    "# Vision \n",
    "> Computer vision utilities"
   ]
  },
  {
   "cell_type": "code",
   "execution_count": null,
   "metadata": {},
   "outputs": [],
   "source": [
    "#|default_exp ml.vision"
   ]
  },
  {
   "cell_type": "code",
   "execution_count": null,
   "metadata": {},
   "outputs": [],
   "source": [
    "#|hide\n",
    "from fastcore.test import *\n",
    "from nbdev.showdoc import *"
   ]
  },
  {
   "cell_type": "code",
   "execution_count": null,
   "metadata": {},
   "outputs": [],
   "source": [
    "#|export\n",
    "\n",
    "from PIL.Image import Image \n",
    "from torchvision.transforms import Compose\n",
    "\n",
    "from fastcore.transform import Transform\n",
    "from fastai.vision.core import PILImage"
   ]
  },
  {
   "cell_type": "code",
   "execution_count": null,
   "metadata": {},
   "outputs": [],
   "source": [
    "#|export\n",
    "\n",
    "class Make3Channel:\n",
    "    \"\"\"Tiles 1 channel image to 3 channel\"\"\"\n",
    "\n",
    "    def __call__(self, x):\n",
    "        if isinstance(x, Image):\n",
    "            return x.convert(mode='RGB')\n",
    "        rpts = (3, 1, 1) if x.ndim == 3 else (1, 3, 1, 1)\n",
    "        return x.repeat(*rpts)\n",
    "    \n",
    "    def __repr__(self):\n",
    "        return \"Make3Channel()\""
   ]
  },
  {
   "cell_type": "code",
   "execution_count": null,
   "metadata": {},
   "outputs": [],
   "source": [
    "#|export \n",
    "\n",
    "class TorchVisionTransform(Transform):\n",
    "    \"\"\"Converts a torchvision transform to fastai transform\"\"\"\n",
    "    def __init__(self, transform):\n",
    "        self.tfm = transform\n",
    "\n",
    "    def encodes(self, o: PILImage): \n",
    "        return self.tfm(o)"
   ]
  },
  {
   "cell_type": "code",
   "execution_count": null,
   "metadata": {},
   "outputs": [],
   "source": [
    "from fastai.vision.core import PILImage\n",
    "from torchvision.transforms import Resize\n",
    "from bellem.testing import TEST_IMAGE\n",
    "\n",
    "target_size = (224, 224)\n",
    "img = PILImage.create(TEST_IMAGE)\n",
    "tfm = TorchVisionTransform(Resize(size=target_size))\n",
    "out = tfm(img)\n",
    "test_eq(out.size, target_size)"
   ]
  },
  {
   "cell_type": "code",
   "execution_count": null,
   "metadata": {},
   "outputs": [],
   "source": [
    "#|hide\n",
    "import nbdev; nbdev.nbdev_export()"
   ]
  }
 ],
 "metadata": {
  "kernelspec": {
   "display_name": "python3",
   "language": "python",
   "name": "python3"
  }
 },
 "nbformat": 4,
 "nbformat_minor": 2
}

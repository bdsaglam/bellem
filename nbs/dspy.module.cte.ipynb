{
 "cells": [
  {
   "attachments": {},
   "cell_type": "markdown",
   "metadata": {},
   "source": [
    "# DSPy QA with CTE"
   ]
  },
  {
   "cell_type": "code",
   "execution_count": null,
   "metadata": {},
   "outputs": [],
   "source": [
    "#|default_exp dspy.module.cte"
   ]
  },
  {
   "cell_type": "code",
   "execution_count": null,
   "metadata": {},
   "outputs": [],
   "source": [
    "#|hide\n",
    "from fastcore.test import *\n",
    "from nbdev.showdoc import *"
   ]
  },
  {
   "cell_type": "code",
   "execution_count": null,
   "metadata": {},
   "outputs": [],
   "source": [
    "#|export\n",
    "\n",
    "import dspy\n",
    "from dspy.primitives.program import Module\n",
    "from dspy.signatures.signature import ensure_signature\n",
    "\n",
    "from bellem.logging import get_logger\n",
    "\n",
    "log = get_logger(__name__)"
   ]
  },
  {
   "cell_type": "code",
   "execution_count": null,
   "metadata": {},
   "outputs": [],
   "source": [
    "#|export\n",
    "\n",
    "class JERX(dspy.Signature):\n",
    "    \"\"\"Extract the triples relevant to the question from the given context.\"\"\"\n",
    "\n",
    "    context = dspy.InputField(desc=\"may contain relevant facts\")\n",
    "    question = dspy.InputField()\n",
    "    triples: list[tuple[str, str, str]] = dspy.OutputField(desc=\"List of triples (subject, predicate, object)\")\n",
    "\n",
    "\n",
    "class QA(dspy.Signature):\n",
    "    \"\"\"Answer the question based on the given triples.\"\"\"\n",
    "\n",
    "    triples: str = dspy.InputField(desc=\"List of triples (subject, predicate, object)\")\n",
    "    question = dspy.InputField()\n",
    "    answer = dspy.OutputField(desc=\"often between 1 and 5 words\")\n",
    "\n",
    "\n",
    "def validate_triple_format(triple):\n",
    "    return len(triple) == 3\n",
    "\n",
    "def validate_number_of_triples(triples, max_n_triples: int):\n",
    "    if isinstance(triples, str):\n",
    "        triples = triples.split(\"\\n\")\n",
    "    return len(triples) < 8\n",
    "\n",
    "class ConnectTheEntities(dspy.Module):\n",
    "    def __init__(self, max_n_triples=8):\n",
    "        super().__init__()\n",
    "        self._jerx = dspy.Predict(JERX)\n",
    "        self._qa = dspy.Predict(QA)\n",
    "        self.max_n_triples = max_n_triples\n",
    "\n",
    "    def forward(self, context, question):\n",
    "        triple_list = self._jerx(context=context, question=question).triples\n",
    "        dspy.Suggest(\n",
    "            all(validate_triple_format(triple) for triple in triple_list),\n",
    "            \"Triples must be in the format of (subject, predicate, object)\",\n",
    "            target_module=self._jerx,\n",
    "        )\n",
    "        dspy.Suggest(\n",
    "            validate_number_of_triples(triple_list, self.max_n_triples),\n",
    "            f\"There must be max {self.max_n_triples} triples\",\n",
    "            target_module=self._jerx,\n",
    "        )\n",
    "        if isinstance(triple_list, list):\n",
    "            triples = \"\\n\".join(\";\".join(triple) for triple in triple_list)\n",
    "        elif isinstance(triple_list, str):\n",
    "            triples = triple_list\n",
    "        else:\n",
    "            raise ValueError(\"Unexpected type for triples\")\n",
    "\n",
    "        pred = self._qa(triples=triples, question=question)\n",
    "        return dspy.Prediction(triples=triples, answer=pred.answer)"
   ]
  },
  {
   "cell_type": "code",
   "execution_count": null,
   "metadata": {},
   "outputs": [],
   "source": [
    "#|hide\n",
    "import nbdev; nbdev.nbdev_export()"
   ]
  }
 ],
 "metadata": {
  "kernelspec": {
   "display_name": "python3",
   "language": "python",
   "name": "python3"
  }
 },
 "nbformat": 4,
 "nbformat_minor": 2
}

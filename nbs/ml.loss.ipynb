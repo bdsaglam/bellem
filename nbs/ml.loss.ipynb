{
 "cells": [
  {
   "attachments": {},
   "cell_type": "markdown",
   "metadata": {},
   "source": [
    "# Loss functions"
   ]
  },
  {
   "cell_type": "code",
   "execution_count": null,
   "metadata": {},
   "outputs": [],
   "source": [
    "#|default_exp ml.loss"
   ]
  },
  {
   "cell_type": "code",
   "execution_count": null,
   "metadata": {},
   "outputs": [
    {
     "ename": "ModuleNotFoundError",
     "evalue": "No module named 'fastcore.style'",
     "output_type": "error",
     "traceback": [
      "\u001b[0;31m---------------------------------------------------------------------------\u001b[0m",
      "\u001b[0;31mModuleNotFoundError\u001b[0m                       Traceback (most recent call last)",
      "Cell \u001b[0;32mIn[2], line 3\u001b[0m\n\u001b[1;32m      1\u001b[0m \u001b[39m#|hide\u001b[39;00m\n\u001b[1;32m      2\u001b[0m \u001b[39mfrom\u001b[39;00m \u001b[39mfastcore\u001b[39;00m\u001b[39m.\u001b[39;00m\u001b[39mtest\u001b[39;00m \u001b[39mimport\u001b[39;00m \u001b[39m*\u001b[39m\n\u001b[0;32m----> 3\u001b[0m \u001b[39mfrom\u001b[39;00m \u001b[39mnbdev\u001b[39;00m\u001b[39m.\u001b[39;00m\u001b[39mshowdoc\u001b[39;00m \u001b[39mimport\u001b[39;00m \u001b[39m*\u001b[39m\n",
      "File \u001b[0;32m~/miniconda3/envs/bellem/lib/python3.10/site-packages/nbdev/__init__.py:3\u001b[0m\n\u001b[1;32m      1\u001b[0m __version__ \u001b[39m=\u001b[39m \u001b[39m\"\u001b[39m\u001b[39m2.3.9\u001b[39m\u001b[39m\"\u001b[39m\n\u001b[0;32m----> 3\u001b[0m \u001b[39mfrom\u001b[39;00m \u001b[39m.\u001b[39;00m\u001b[39mdoclinks\u001b[39;00m \u001b[39mimport\u001b[39;00m nbdev_export\n\u001b[1;32m      4\u001b[0m \u001b[39mfrom\u001b[39;00m \u001b[39m.\u001b[39;00m\u001b[39mshowdoc\u001b[39;00m \u001b[39mimport\u001b[39;00m show_doc\n",
      "File \u001b[0;32m~/miniconda3/envs/bellem/lib/python3.10/site-packages/nbdev/doclinks.py:7\u001b[0m\n\u001b[1;32m      4\u001b[0m __all__ \u001b[39m=\u001b[39m [\u001b[39m'\u001b[39m\u001b[39mpatch_name\u001b[39m\u001b[39m'\u001b[39m, \u001b[39m'\u001b[39m\u001b[39mnbglob\u001b[39m\u001b[39m'\u001b[39m, \u001b[39m'\u001b[39m\u001b[39mnbglob_cli\u001b[39m\u001b[39m'\u001b[39m, \u001b[39m'\u001b[39m\u001b[39mnbdev_export\u001b[39m\u001b[39m'\u001b[39m, \u001b[39m'\u001b[39m\u001b[39mNbdevLookup\u001b[39m\u001b[39m'\u001b[39m]\n\u001b[1;32m      6\u001b[0m \u001b[39m# %% ../nbs/api/doclinks.ipynb 2\u001b[39;00m\n\u001b[0;32m----> 7\u001b[0m \u001b[39mfrom\u001b[39;00m \u001b[39m.\u001b[39;00m\u001b[39mconfig\u001b[39;00m \u001b[39mimport\u001b[39;00m \u001b[39m*\u001b[39m\n\u001b[1;32m      8\u001b[0m \u001b[39mfrom\u001b[39;00m \u001b[39m.\u001b[39;00m\u001b[39mmaker\u001b[39;00m \u001b[39mimport\u001b[39;00m \u001b[39m*\u001b[39m\n\u001b[1;32m      9\u001b[0m \u001b[39mfrom\u001b[39;00m \u001b[39m.\u001b[39;00m\u001b[39mexport\u001b[39;00m \u001b[39mimport\u001b[39;00m \u001b[39m*\u001b[39m\n",
      "File \u001b[0;32m~/miniconda3/envs/bellem/lib/python3.10/site-packages/nbdev/config.py:20\u001b[0m\n\u001b[1;32m     18\u001b[0m \u001b[39mfrom\u001b[39;00m \u001b[39mfastcore\u001b[39;00m\u001b[39m.\u001b[39;00m\u001b[39mmeta\u001b[39;00m \u001b[39mimport\u001b[39;00m \u001b[39m*\u001b[39m\n\u001b[1;32m     19\u001b[0m \u001b[39mfrom\u001b[39;00m \u001b[39mfastcore\u001b[39;00m\u001b[39m.\u001b[39;00m\u001b[39mscript\u001b[39;00m \u001b[39mimport\u001b[39;00m \u001b[39m*\u001b[39m\n\u001b[0;32m---> 20\u001b[0m \u001b[39mfrom\u001b[39;00m \u001b[39mfastcore\u001b[39;00m\u001b[39m.\u001b[39;00m\u001b[39mstyle\u001b[39;00m \u001b[39mimport\u001b[39;00m \u001b[39m*\u001b[39m\n\u001b[1;32m     21\u001b[0m \u001b[39mfrom\u001b[39;00m \u001b[39mfastcore\u001b[39;00m\u001b[39m.\u001b[39;00m\u001b[39mxdg\u001b[39;00m \u001b[39mimport\u001b[39;00m \u001b[39m*\u001b[39m\n\u001b[1;32m     23\u001b[0m \u001b[39mimport\u001b[39;00m \u001b[39mast\u001b[39;00m\n",
      "\u001b[0;31mModuleNotFoundError\u001b[0m: No module named 'fastcore.style'"
     ]
    }
   ],
   "source": [
    "#|hide\n",
    "from fastcore.test import *\n",
    "from nbdev.showdoc import *"
   ]
  },
  {
   "cell_type": "code",
   "execution_count": null,
   "metadata": {},
   "outputs": [],
   "source": [
    "#|export\n",
    "\n",
    "import torch\n",
    "from torch import nn\n",
    "from fastcore.basics import ifnone"
   ]
  },
  {
   "cell_type": "code",
   "execution_count": null,
   "metadata": {},
   "outputs": [],
   "source": [
    "#|export\n",
    "\n",
    "# license: https://www.kaggle.com/crissallan/pytorchlightning-efficientnet-focalloss-training\n",
    "class BinaryFocalLoss(nn.Module):\n",
    "    \"\"\"\n",
    "    <sup>\n",
    "    T.-Y. Lin, P. Goyal, R. Girshick, K. He, and P. Dollar, “Focal loss for dense object detection,” in Proceedings of the IEEE International Conference on Computer Vision (ICCV), Oct 2017.\n",
    "    </sup>\n",
    "    \"\"\"\n",
    "    def __init__(self, alpha=1, gamma=2, weight=None, reduction=torch.mean, thresh=0.5):\n",
    "        super().__init__()\n",
    "        self.alpha = alpha\n",
    "        self.gamma = gamma\n",
    "        self.weight = None if weight is None else torch.tensor([weight], dtype=torch.float, requires_grad=False, device='cuda')\n",
    "        self.reduction = reduction\n",
    "        self.thresh = 0.5\n",
    "        self.eps = 1e-12 # prevent training from Nan-loss error\n",
    "\n",
    "    def forward(self, logits, targets):\n",
    "        \"\"\"\n",
    "        logits & target should be tensors with shape [batch_size, num_classes]\n",
    "        \"\"\"\n",
    "        probs = torch.sigmoid(logits)\n",
    "        log_pt = targets * torch.log(probs + self.eps) + (1.0 - targets) * torch.log(1.0 - probs + self.eps)\n",
    "        focal_loss = -self.alpha * ((1 - torch.exp(log_pt)) ** self.gamma) * log_pt\n",
    "        if self.weight is not None:\n",
    "            focal_loss = focal_loss * self.weight\n",
    "        \n",
    "        reduction = ifnone(self.reduction, lambda x:x)\n",
    "        return reduction(focal_loss)\n",
    "    \n",
    "    def decodes(self, x):    \n",
    "        return x > self.thresh\n",
    "\n",
    "    def activation(self, x): \n",
    "        return torch.sigmoid(x)"
   ]
  },
  {
   "cell_type": "markdown",
   "metadata": {},
   "source": [
    "$ \n",
    "p_T = \n",
    "    \\begin{cases}\n",
    "        p &\\quad \\text{if y = 1} \\\\\n",
    "        1 - p &\\quad \\text{otherwise}\n",
    "    \\end{cases}\n",
    "$\n",
    "\n",
    "$\n",
    "    \\text{FL}(p_t) = -\\alpha_t (1 - p_t)^{\\gamma}\\log{p_t} \n",
    "$"
   ]
  },
  {
   "cell_type": "code",
   "execution_count": null,
   "metadata": {},
   "outputs": [],
   "source": [
    "targets = torch.tensor([\n",
    "    [1,0,0,1,0],\n",
    "    [0,0,1,0,1],\n",
    "    [0,1,0,1,0],\n",
    "    [0,0,0,1,1],\n",
    "], dtype=float)\n",
    "\n",
    "logits = torch.tensor([\n",
    "    [1,-1,-1,1,-1],\n",
    "    [-1,-1,1,-1,1],\n",
    "    [-1,1,-1,1,-1],\n",
    "    [-1,-1,-1,1,1],\n",
    "],dtype=float)*1e6\n",
    "\n",
    "# verify BCE results in zero loss with these inputs\n",
    "bce = nn.BCEWithLogitsLoss()\n",
    "test_close(bce(logits, targets).numpy(), 0.0)\n",
    "\n",
    "# test binary focal loss\n",
    "fl = BinaryFocalLoss()\n",
    "activations = fl.activation(logits)\n",
    "\n",
    "test_close(fl(logits, targets).numpy(), 0.0)\n",
    "test_close(activations, targets)\n",
    "test_close(fl.decodes(activations).float(), targets)\n"
   ]
  },
  {
   "cell_type": "code",
   "execution_count": null,
   "metadata": {},
   "outputs": [
    {
     "data": {
      "text/plain": [
       "[<matplotlib.lines.Line2D>]"
      ]
     },
     "execution_count": null,
     "metadata": {},
     "output_type": "execute_result"
    },
    {
     "data": {
      "image/png": "[encoded data removed]",
      "text/plain": [
       "<Figure size 640x480 with 1 Axes>"
      ]
     },
     "metadata": {},
     "output_type": "display_data"
    }
   ],
   "source": [
    "import numpy as np\n",
    "import matplotlib.pyplot as plt\n",
    "\n",
    "targets = torch.tensor([\n",
    "    [1,0,0,1,0],\n",
    "    [0,0,1,0,1],\n",
    "    [0,1,0,1,0],\n",
    "    [0,0,0,1,1],\n",
    "], dtype=float)\n",
    "\n",
    "fl = BinaryFocalLoss()\n",
    "logits = torch.rand(targets.shape) * 1e6\n",
    "ps = np.arange(0.2, 1.0, 0.1)\n",
    "losses = np.array([fl(logits, targets*p).numpy() for p in ps])\n",
    "\n",
    "plt.figure()\n",
    "plt.plot(ps, losses)"
   ]
  },
  {
   "cell_type": "code",
   "execution_count": null,
   "metadata": {},
   "outputs": [],
   "source": []
  }
 ],
 "metadata": {
  "kernelspec": {
   "display_name": "python3",
   "language": "python",
   "name": "python3"
  }
 },
 "nbformat": 4,
 "nbformat_minor": 2
}

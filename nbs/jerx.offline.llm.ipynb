{
 "cells": [
  {
   "cell_type": "markdown",
   "metadata": {},
   "source": [
    "# Few-shot JERX task offline inference"
   ]
  },
  {
   "cell_type": "code",
   "execution_count": null,
   "metadata": {},
   "outputs": [],
   "source": [
    "#|default_exp jerx.offline.llm"
   ]
  },
  {
   "cell_type": "code",
   "execution_count": null,
   "metadata": {},
   "outputs": [],
   "source": [
    "#|hide\n",
    "from fastcore.test import *\n",
    "from nbdev.showdoc import *"
   ]
  },
  {
   "cell_type": "code",
   "execution_count": null,
   "metadata": {},
   "outputs": [],
   "source": [
    "#|export\n",
    "import json\n",
    "from pathlib import Path\n",
    "from bellem.jerx.utils import parse_triplets\n",
    "from bellem.logging import get_logger\n",
    "\n",
    "log = get_logger(__name__)"
   ]
  },
  {
   "cell_type": "code",
   "execution_count": null,
   "metadata": {},
   "outputs": [
    {
     "data": {
      "text/plain": [
       "True"
      ]
     },
     "execution_count": null,
     "metadata": {},
     "output_type": "execute_result"
    }
   ],
   "source": [
    "#|hide\n",
    "from dotenv import load_dotenv\n",
    "load_dotenv()"
   ]
  },
  {
   "cell_type": "code",
   "execution_count": null,
   "metadata": {},
   "outputs": [],
   "source": [
    "#|export\n",
    "\n",
    "def parse_triplet_response(response: str, *args, **kwargs) -> list[tuple[str, str, str]]:\n",
    "    triplets = parse_triplets(response.strip())\n",
    "    return [(e1, rel, e2) if e1 != e2 else (e1, rel, e2 + \"(obj)\") for e1, rel, e2 in triplets]\n",
    "\n",
    "\n",
    "def make_kg_triplet_extract_fn(inference_cache_filepath: Path):\n",
    "    mapping = {}\n",
    "    with open(inference_cache_filepath, \"r\") as f:\n",
    "        for i, line in enumerate(f):\n",
    "            record = json.loads(line.strip())\n",
    "            mapping[record[\"text\"]] = record[\"generation\"]\n",
    "\n",
    "    def extract_kg_triplets(text: str) -> list[tuple[str, str, str]]:\n",
    "        return parse_triplet_response(mapping[text])\n",
    "\n",
    "    return extract_kg_triplets"
   ]
  },
  {
   "cell_type": "code",
   "execution_count": null,
   "metadata": {},
   "outputs": [],
   "source": [
    "#|hide\n",
    "jerx_inferences_filepath = Path(\"../data/raw/musique-evaluation/jerx-inferences/llama3-base.jsonl\")\n",
    "func = make_kg_triplet_extract_fn(jerx_inferences_filepath)"
   ]
  },
  {
   "cell_type": "code",
   "execution_count": null,
   "metadata": {},
   "outputs": [
    {
     "name": "stdout",
     "output_type": "stream",
     "text": [
      "[('Maria Carrillo High School', 'location', 'Santa Rosa, California, United States'), ('Maria Carrillo High School', 'management', 'Santa Rosa City Schools district'), ('Maria Carrillo High School', 'opening year', '1996')]\n"
     ]
    }
   ],
   "source": [
    "#|hide\n",
    "text = \"# Maria Carrillo High School\\nMaria Carrillo High School is a public high school located in Santa Rosa, California, United States. It is managed by the Santa Rosa City Schools district. It opened in 1996 and is located in the Rincon Valley neighborhood of Santa Rosa.\"\n",
    "print(func(text))"
   ]
  },
  {
   "cell_type": "code",
   "execution_count": null,
   "metadata": {},
   "outputs": [],
   "source": [
    "#|hide\n",
    "import nbdev; nbdev.nbdev_export()"
   ]
  }
 ],
 "metadata": {
  "kernelspec": {
   "display_name": "python3",
   "language": "python",
   "name": "python3"
  }
 },
 "nbformat": 4,
 "nbformat_minor": 2
}

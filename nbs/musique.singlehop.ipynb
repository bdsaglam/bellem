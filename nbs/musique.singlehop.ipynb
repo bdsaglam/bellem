{
 "cells": [
  {
   "cell_type": "markdown",
   "metadata": {},
   "source": [
    "# MuSiQue single-hop baseline"
   ]
  },
  {
   "cell_type": "code",
   "execution_count": null,
   "metadata": {},
   "outputs": [],
   "source": [
    "#|default_exp musique.singlehop"
   ]
  },
  {
   "cell_type": "code",
   "execution_count": null,
   "metadata": {},
   "outputs": [],
   "source": [
    "#|hide\n",
    "from fastcore.test import *\n",
    "from nbdev.showdoc import *"
   ]
  },
  {
   "cell_type": "code",
   "execution_count": null,
   "metadata": {},
   "outputs": [],
   "source": [
    "#|export\n",
    "\n",
    "from typing import Callable\n",
    "\n",
    "import pandas as pd\n",
    "from tqdm.auto import tqdm\n",
    "\n",
    "from bellek.musique.eval import compute_scores_dataframe, aggregate_scores\n",
    "\n",
    "tqdm.pandas()"
   ]
  },
  {
   "cell_type": "code",
   "execution_count": null,
   "metadata": {},
   "outputs": [],
   "source": [
    "#|export\n",
    "\n",
    "def make_docs(example):\n",
    "    ps = example[\"paragraphs\"]\n",
    "    for p in ps:\n",
    "        idx = p[\"idx\"]\n",
    "        title = p[\"title\"]\n",
    "        body = p[\"paragraph_text\"]\n",
    "        is_supporting = p[\"is_supporting\"]\n",
    "        text = f\"# {title}\\n{body}\"\n",
    "        yield dict(\n",
    "            text=text,\n",
    "            is_supporting=is_supporting,\n",
    "            parent_id=example[\"id\"],\n",
    "            idx=idx,\n",
    "        )"
   ]
  },
  {
   "cell_type": "code",
   "execution_count": null,
   "metadata": {},
   "outputs": [],
   "source": [
    "#|export\n",
    "\n",
    "class BaselineSingleHop:\n",
    "    def __init__(self, qa_func, retrieval_func):\n",
    "        self.qa_func = qa_func\n",
    "        self.retrieval_func = retrieval_func\n",
    "\n",
    "    def _call(self, example) -> dict:\n",
    "        docs = list(make_docs(example))\n",
    "        question = example[\"question\"]\n",
    "        query = question\n",
    "        retrieved_docs = self.retrieval_func(docs, query)\n",
    "        context = \"\\n\\n\".join(doc['text'] for doc in retrieved_docs)\n",
    "        qa_result = self.qa_func(context=context, question=question)\n",
    "        answer = qa_result.get(\"answer\")\n",
    "        hop = {\n",
    "            \"question\": question,\n",
    "            \"query\" : query,\n",
    "            \"retrieved_docs\": retrieved_docs,\n",
    "            \"context\": context,\n",
    "            \"answer\": answer,\n",
    "            \"qa_result\": qa_result,\n",
    "        }\n",
    "        return {'answer': answer, 'hops': [hop]}\n",
    "\n",
    "    def __call__(self, example, ignore_errors: bool = False) -> dict:\n",
    "        try:\n",
    "            output = self._call(example)\n",
    "        except Exception as exc:\n",
    "            if ignore_errors:\n",
    "                id = example[\"id\"]\n",
    "                print(f\"Failed to answer the question {id}\\n{exc}\")\n",
    "                output = dict(answer=\"N/A\", hops=[{'error': str(exc)}])\n",
    "            else:\n",
    "                raise\n",
    "        return output"
   ]
  },
  {
   "cell_type": "code",
   "execution_count": null,
   "metadata": {},
   "outputs": [],
   "source": [
    "# |export\n",
    "\n",
    "\n",
    "def benchmark(\n",
    "    dataf: pd.DataFrame,\n",
    "    qa_func: Callable,\n",
    "    retrieval_func: Callable,\n",
    "    ignore_errors: bool = False,\n",
    ") -> tuple[pd.DataFrame, dict]:\n",
    "    pipeline = BaselineSingleHop(qa_func, retrieval_func)\n",
    "\n",
    "    def process(example):\n",
    "        output = pipeline(example, ignore_errors=ignore_errors)\n",
    "        example[\"predicted_answer\"] = output[\"answer\"]\n",
    "        example[\"raw_output\"] = output\n",
    "        example[\"answers\"] = [example[\"answer\"], *example[\"answer_aliases\"]]\n",
    "        return example\n",
    "\n",
    "    dataf = dataf.progress_apply(process, axis=1)\n",
    "    dataf = compute_scores_dataframe(dataf)\n",
    "    scores = aggregate_scores(dataf)\n",
    "    return dataf, scores"
   ]
  },
  {
   "cell_type": "code",
   "execution_count": null,
   "metadata": {},
   "outputs": [],
   "source": [
    "from dotenv import load_dotenv\n",
    "load_dotenv()"
   ]
  },
  {
   "cell_type": "code",
   "execution_count": null,
   "metadata": {},
   "outputs": [
    {
     "name": "stdout",
     "output_type": "stream",
     "text": [
      "300\n"
     ]
    },
    {
     "data": {
      "text/html": [
       "<div>\n",
       "<style scoped>\n",
       "    .dataframe tbody tr th:only-of-type {\n",
       "        vertical-align: middle;\n",
       "    }\n",
       "\n",
       "    .dataframe tbody tr th {\n",
       "        vertical-align: top;\n",
       "    }\n",
       "\n",
       "    .dataframe thead th {\n",
       "        text-align: right;\n",
       "    }\n",
       "</style>\n",
       "<table border=\"1\" class=\"dataframe\">\n",
       "  <thead>\n",
       "    <tr style=\"text-align: right;\">\n",
       "      <th></th>\n",
       "      <th>id</th>\n",
       "      <th>paragraphs</th>\n",
       "      <th>question</th>\n",
       "      <th>question_decomposition</th>\n",
       "      <th>answer</th>\n",
       "      <th>answer_aliases</th>\n",
       "      <th>answerable</th>\n",
       "      <th>n_hops</th>\n",
       "    </tr>\n",
       "  </thead>\n",
       "  <tbody>\n",
       "    <tr>\n",
       "      <th>0</th>\n",
       "      <td>2hop__129127_90527</td>\n",
       "      <td>[{'idx': 0, 'is_supporting': False, 'paragraph...</td>\n",
       "      <td>What is the average summer temperature in the ...</td>\n",
       "      <td>[{'answer': 'Missouri', 'id': 129127, 'paragra...</td>\n",
       "      <td>75 ° F</td>\n",
       "      <td>[]</td>\n",
       "      <td>True</td>\n",
       "      <td>2</td>\n",
       "    </tr>\n",
       "    <tr>\n",
       "      <th>1</th>\n",
       "      <td>2hop__97238_154727</td>\n",
       "      <td>[{'idx': 0, 'is_supporting': False, 'paragraph...</td>\n",
       "      <td>What year did the war Jameel Sayhood fought in...</td>\n",
       "      <td>[{'answer': 'Gulf War', 'id': 97238, 'paragrap...</td>\n",
       "      <td>2 August 1990</td>\n",
       "      <td>[]</td>\n",
       "      <td>True</td>\n",
       "      <td>2</td>\n",
       "    </tr>\n",
       "    <tr>\n",
       "      <th>2</th>\n",
       "      <td>2hop__819850_32467</td>\n",
       "      <td>[{'idx': 0, 'is_supporting': False, 'paragraph...</td>\n",
       "      <td>How old are some of the private schools in the...</td>\n",
       "      <td>[{'answer': 'Charleston', 'id': 819850, 'parag...</td>\n",
       "      <td>150 years</td>\n",
       "      <td>[]</td>\n",
       "      <td>True</td>\n",
       "      <td>2</td>\n",
       "    </tr>\n",
       "    <tr>\n",
       "      <th>3</th>\n",
       "      <td>2hop__71611_90450</td>\n",
       "      <td>[{'idx': 0, 'is_supporting': False, 'paragraph...</td>\n",
       "      <td>Who was president when the place where the maj...</td>\n",
       "      <td>[{'answer': 'Iowa', 'id': 71611, 'paragraph_su...</td>\n",
       "      <td>President James K. Polk</td>\n",
       "      <td>[James K. Polk]</td>\n",
       "      <td>True</td>\n",
       "      <td>2</td>\n",
       "    </tr>\n",
       "    <tr>\n",
       "      <th>4</th>\n",
       "      <td>2hop__612535_47295</td>\n",
       "      <td>[{'idx': 0, 'is_supporting': False, 'paragraph...</td>\n",
       "      <td>What is the area code for the state where Thom...</td>\n",
       "      <td>[{'answer': 'Hawaii', 'id': 612535, 'paragraph...</td>\n",
       "      <td>808</td>\n",
       "      <td>[]</td>\n",
       "      <td>True</td>\n",
       "      <td>2</td>\n",
       "    </tr>\n",
       "  </tbody>\n",
       "</table>\n",
       "</div>"
      ],
      "text/plain": [
       "                   id                                         paragraphs  \\\n",
       "0  2hop__129127_90527  [{'idx': 0, 'is_supporting': False, 'paragraph...   \n",
       "1  2hop__97238_154727  [{'idx': 0, 'is_supporting': False, 'paragraph...   \n",
       "2  2hop__819850_32467  [{'idx': 0, 'is_supporting': False, 'paragraph...   \n",
       "3   2hop__71611_90450  [{'idx': 0, 'is_supporting': False, 'paragraph...   \n",
       "4  2hop__612535_47295  [{'idx': 0, 'is_supporting': False, 'paragraph...   \n",
       "\n",
       "                                            question  \\\n",
       "0  What is the average summer temperature in the ...   \n",
       "1  What year did the war Jameel Sayhood fought in...   \n",
       "2  How old are some of the private schools in the...   \n",
       "3  Who was president when the place where the maj...   \n",
       "4  What is the area code for the state where Thom...   \n",
       "\n",
       "                              question_decomposition                   answer  \\\n",
       "0  [{'answer': 'Missouri', 'id': 129127, 'paragra...                   75 ° F   \n",
       "1  [{'answer': 'Gulf War', 'id': 97238, 'paragrap...            2 August 1990   \n",
       "2  [{'answer': 'Charleston', 'id': 819850, 'parag...                150 years   \n",
       "3  [{'answer': 'Iowa', 'id': 71611, 'paragraph_su...  President James K. Polk   \n",
       "4  [{'answer': 'Hawaii', 'id': 612535, 'paragraph...                      808   \n",
       "\n",
       "    answer_aliases  answerable  n_hops  \n",
       "0               []        True       2  \n",
       "1               []        True       2  \n",
       "2               []        True       2  \n",
       "3  [James K. Polk]        True       2  \n",
       "4               []        True       2  "
      ]
     },
     "execution_count": null,
     "metadata": {},
     "output_type": "execute_result"
    }
   ],
   "source": [
    "from datasets import load_dataset\n",
    "df = load_dataset(\"bdsaglam/musique-mini\", \"answerable\", split=\"train\").to_pandas()\n",
    "print(len(df))\n",
    "df.head()"
   ]
  },
  {
   "cell_type": "code",
   "execution_count": null,
   "metadata": {},
   "outputs": [],
   "source": [
    "from bellek.musique.qa import answer_question_standard\n",
    "\n",
    "qa_func = answer_question_standard\n",
    "retrieval_func = lambda docs, query: docs\n",
    "pipeline = BaselineSingleHop(qa_func, retrieval_func)"
   ]
  },
  {
   "cell_type": "code",
   "execution_count": null,
   "metadata": {},
   "outputs": [
    {
     "name": "stdout",
     "output_type": "stream",
     "text": [
      "Question: What year did the war Jameel Sayhood fought in start?\n",
      "Reference answer: 2 August 1990\n",
      "Predicted answer: 1990\n",
      "Reasoning: [{'question': 'What year did the war Jameel Sayhood fought in start?', 'query': 'What year did the war Jameel Sayhood fought in start?', 'retrieved_docs': [{'text': \"# Muslim Atayev\\nMuslim Atayev (June 24, 1973 – January 27, 2005), also known as Emir Sayfullah, was the founder of the militant organization Yarmuk Jamaat, which later became part of the Caucasus Front's Kabardino-Balkarian Sector in the Russian-held Caucasian Muslim state Kabardino-Balkaria of the Second Chechen War. Atayev was an ethnic Balkar and started his military career as a volunteer fighting in Chechnya.\", 'is_supporting': False, 'parent_id': '2hop__97238_154727', 'idx': 0}, {'text': '# Warsaw Pact\\nFor 36 years, NATO and the Warsaw Pact never directly waged war against each other in Europe; the United States and the Soviet Union and their respective allies implemented strategic policies aimed at the containment of each other in Europe, while working and fighting for influence within the wider Cold War on the international stage.', 'is_supporting': False, 'parent_id': '2hop__97238_154727', 'idx': 1}, {'text': \"# Jean de Clermont\\nJean de Clermont (d. 19 September 1356), Lord of Chantilly and of Beaumont, was a Marshal of France (1352) who was killed fighting in the Hundred Years' War at the Battle of Poitiers.\", 'is_supporting': False, 'parent_id': '2hop__97238_154727', 'idx': 2}, {'text': \"# Morgan McCammon\\nBorn in Montreal, Quebec, he started studying at McGill University in 1940. He did not complete his education but rather joined the Canadian Army, fighting during World War II with the Princess Patricia's Canadian Light Infantry. After the war, he continued his education receiving a law degree in 1949. He worked four years as a lawyer with the law firm of Brais-Campbell before joining Steinberg's real-estate business in 1953. He joined Molson Breweries in 1958 eventually becoming President and Chairman.\", 'is_supporting': False, 'parent_id': '2hop__97238_154727', 'idx': 3}, {'text': '# Boxing After Dark\\nBoxing After Dark is an HBO boxing program, premiering on February 3, 1996, that usually showed fights between well-known contenders, but usually not \"championship\" or \"title\" fights. Unlike its sister program, \"HBO World Championship Boxing\", \"BAD\" featured fighters who were usually moving up from ESPN\\'s \"Friday Night Fights\" or another basic cable boxing program. This was where fighters were given their start to become famous depending on how well they fare on \"BAD\" they might have a title fight on \"World Championship Boxing\" or could fall back (Ex: Jason Litzau had many entertaining fights on ESPN before moving up to \"BAD\" to face Jose Hernandez. After Litzau lost by knockout he returned to \"FNF\")', 'is_supporting': False, 'parent_id': '2hop__97238_154727', 'idx': 4}, {'text': \"# Constantin Brătescu\\nConstantin Brătescu (March 8, 1892 – April 13, 1971) was a Romanian Major-General during World War II. In 1941, he served first as Chief Propaganda Section General Staff (Romania's Propaganda Minister) and then as a Romanian liaison officer to the German Military Mission, meaning that he served as a German military officer during Operation Barbarossa and the Axis Invasion of the Soviet Union. Starting in 1942 Brătescu was a Romanian General Officer (at the rank of Major-General) and commanded the 1st Cavalry Division throughout the campaign against the Soviets, fighting in such engagements as Operation Barbarossa, Operation Blue, and the Battle of Stalingrad. Following the surrender of Friedrich Paulus' 6th Army at the Battle of Stalingrad, Brătescu became a prisoner of war and was held captive from 1943 to 1948. Finally, in 1948, he was released after five years of imprisonment and subsequently retired from active service. Bratescu ultimately died twenty-three years later, in 1971, at the age of seventy-nine.\", 'is_supporting': False, 'parent_id': '2hop__97238_154727', 'idx': 5}, {'text': \"# Esther Duflo\\nEsther Duflo, FBA (; born 25 October 1972) is a French American economist, Co-Founder and Director of the Abdul Latif Jameel Poverty Action Lab (J-PAL), and Professor of Poverty Alleviation and Development Economics at the Massachusetts Institute of Technology. Duflo is an NBER Research Associate, serves on the board of the Bureau for Research and Economic Analysis of Development (BREAD), and is Director of the Center for Economic and Policy Research's development economics program.\", 'is_supporting': False, 'parent_id': '2hop__97238_154727', 'idx': 6}, {'text': '# Blue Star Memorial Highway\\nBlue Star Memorial Highways are highways in the United States that are marked to pay tribute to the U.S. armed forces. The National Council of State Garden Clubs, now known as National Garden Clubs, Inc., started the program in 1945 after World War II. The blue star was used on service flags to denote a service member fighting in the war. The program has since been expanded to include Memorial Markers and Memorial By-ways (since 1994). These markers are used in National Cemeteries, parks, veterans facilities, and gardens.', 'is_supporting': False, 'parent_id': '2hop__97238_154727', 'idx': 7}, {'text': \"# Kamakura Gongorō Kagemasa\\nKamakura Gongorō Kagemasa (鎌倉権五郎景政) (born 1069) was a samurai descended from the Taira clan, who fought for the Minamoto clan in the Gosannen War of Japan's Heian period. He is famous for having continued to fight after losing an eye in battle during that war. This was in 1085, when Kagemasa was sixteen years of age.\", 'is_supporting': False, 'parent_id': '2hop__97238_154727', 'idx': 8}, {'text': '# Gulf War\\nThe Gulf War (2 August 199028 February 1991), codenamed Operation Desert Shield (2 August 199017 January 1991) for operations leading to the buildup of troops and defense of Saudi Arabia and Operation Desert Storm (17 January 199128 February 1991) in its combat phase, was a war waged by coalition forces from 35 nations led by the United States against Iraq in response to Iraq\\'s invasion and annexation of Kuwait arising from oil pricing and production disputes. The war is also known under other names, such as the Persian Gulf War, First Gulf War, Gulf War I, Kuwait War, First Iraq War or Iraq War, before the term \"Iraq War\" became identified instead with the post-2003 Iraq War.', 'is_supporting': True, 'parent_id': '2hop__97238_154727', 'idx': 9}, {'text': \"# Samuel Hearne\\nSamuel Hearne was born in February 1745 in London UK. Hearne's father was Secretary of the Waterworks, of the London Bridge who died in 1748. His mother's name was Diana, and his sister's name was Sarah, three years younger than Samuel. Samuel Hearne joined the British Royal Navy in 1756 at the age of 11 as midshipman under the fighting captain Samuel Hood. He remained with Hood during the Seven Years' War, seeing considerable action during the conflict, including the bombardment of Le Havre. At the end of the Seven Years' War, having served in the English Channel and then the Mediterranean, he left the Navy in 1763.\", 'is_supporting': False, 'parent_id': '2hop__97238_154727', 'idx': 10}, {'text': \"# Léon Bourjade\\nLéon Bourjade (25 May 1889 – 22 October 1924), born Jean-Pierre Léon Bourjade, was a leading French fighter pilot in World War I, notable for being his country's leading balloon-busting ace. He interrupted his theological studies to fight in World War I; post-war, he completed his studies and spent the few remaining years of his life as a missionary in what is now Papua New Guinea.\", 'is_supporting': False, 'parent_id': '2hop__97238_154727', 'idx': 11}, {'text': '# Nene Hatun\\nNene Hatun (1857 – 22 May 1955) was a Turkish folk heroine, who became known for fighting against Russian forces during the recapture of Fort Aziziye in Erzurum from Russian forces at the start of the Russo-Turkish War of 1877–1878.', 'is_supporting': False, 'parent_id': '2hop__97238_154727', 'idx': 12}, {'text': '# Ten Years\\' War\\nThe Ten Years\\' War () (1868–1878), also known as the Great War (\"Guerra Grande\") and the War of \\'68, was part of Cuba\\'s fight for independence from Spain. The uprising was led by Cuban-born planters and other wealthy natives. On October 10, 1868 sugar mill owner Carlos Manuel de Céspedes and his followers proclaimed independence, beginning the conflict. This was the first of three liberation wars that Cuba fought against Spain, the other two being the Little War (1879–1880) and the Cuban War of Independence (1895–1898). The final three months of the last conflict escalated with United States involvement, leading to the Spanish–American War.', 'is_supporting': False, 'parent_id': '2hop__97238_154727', 'idx': 13}, {'text': \"# Nine Years' War (Ireland)\\nThe war against O'Neill and his allies was the largest conflict fought by England in the Elizabethan era. At the height of the conflict (1600–1601) more than 18,000 soldiers were fighting in the English army in Ireland. By contrast, the English army assisting the Dutch during the Eighty Years' War was never more than 12,000 strong at any one time.\", 'is_supporting': False, 'parent_id': '2hop__97238_154727', 'idx': 14}, {'text': '# United States in World War I\\nThe United States declared war on Germany on April 6, 1917, over 2 \\u200b ⁄ years after World War I started. A ceasefire and Armistice was declared on November 11, 1918. Before entering the war, the U.S. had remained neutral, though it had been an important supplier to Great Britain and the other Allied powers.', 'is_supporting': False, 'parent_id': '2hop__97238_154727', 'idx': 15}, {'text': '# French and Indian War\\nIn Europe, the North American theater of the Seven Years\\' War usually is not given a separate name. The entire international conflict is known as the Seven Years\\' War. \"Seven Years\" refers to events in Europe, from the official declaration of war in 1756 to the signing of the peace treaty in 1763. These dates do not correspond with the fighting on mainland North America, where the fighting between the two colonial powers was largely concluded in six years, from the Battle of Jumonville Glen in 1754 to the capture of Montreal in 1760.', 'is_supporting': False, 'parent_id': '2hop__97238_154727', 'idx': 16}, {'text': '# Jameel Sayhood\\nJameel Sayhood was an Iraqi pilot in the Gulf War who it is claimed managed to attain one of the few aerial victories by the Iraqi Air Force in his MiG-29B, before being shot down by USAF Captain Craig Underhill and Captain Cesar Rodriguez with their F-15Cs mere minutes after his air-air victory.', 'is_supporting': True, 'parent_id': '2hop__97238_154727', 'idx': 17}, {'text': '# Kitos War\\nThe Kitos War (115–117; : \"mered ha\\'galuyot\" or \"mered ha\\'tfutzot\" [מרד התפוצות]; translation: rebellion of the diaspora. ) was one of the major Jewish–Roman wars, 66–136. The rebellions erupted in the year 115, when majority of the Roman armies were fighting Trajan\\'s Parthian War on the eastern border of the Roman Empire, major uprisings by ethnic Judeans in Cyrenaica, Cyprus and Egypt spiraled out of control, resulting in a widespread slaughter of left-behind Roman garrisons and Roman citizens by Jewish rebels.', 'is_supporting': False, 'parent_id': '2hop__97238_154727', 'idx': 18}, {'text': '# Indo-Pakistani War of 1971\\nThe Indian Army Chief in 1971 Field Marshal Sam Manekshaw had the highest respect for the fighting capability of the Pakistan Army but he did not accept the theory that they did not fight the Bangladesh war with enough vigor and zeal. In a BBC interview, he said:', 'is_supporting': False, 'parent_id': '2hop__97238_154727', 'idx': 19}], 'context': '# Muslim Atayev\\nMuslim Atayev (June 24, 1973 – January 27, 2005), also known as Emir Sayfullah, was the founder of the militant organization Yarmuk Jamaat, which later became part of the Caucasus Front\\'s Kabardino-Balkarian Sector in the Russian-held Caucasian Muslim state Kabardino-Balkaria of the Second Chechen War. Atayev was an ethnic Balkar and started his military career as a volunteer fighting in Chechnya.\\n\\n# Warsaw Pact\\nFor 36 years, NATO and the Warsaw Pact never directly waged war against each other in Europe; the United States and the Soviet Union and their respective allies implemented strategic policies aimed at the containment of each other in Europe, while working and fighting for influence within the wider Cold War on the international stage.\\n\\n# Jean de Clermont\\nJean de Clermont (d. 19 September 1356), Lord of Chantilly and of Beaumont, was a Marshal of France (1352) who was killed fighting in the Hundred Years\\' War at the Battle of Poitiers.\\n\\n# Morgan McCammon\\nBorn in Montreal, Quebec, he started studying at McGill University in 1940. He did not complete his education but rather joined the Canadian Army, fighting during World War II with the Princess Patricia\\'s Canadian Light Infantry. After the war, he continued his education receiving a law degree in 1949. He worked four years as a lawyer with the law firm of Brais-Campbell before joining Steinberg\\'s real-estate business in 1953. He joined Molson Breweries in 1958 eventually becoming President and Chairman.\\n\\n# Boxing After Dark\\nBoxing After Dark is an HBO boxing program, premiering on February 3, 1996, that usually showed fights between well-known contenders, but usually not \"championship\" or \"title\" fights. Unlike its sister program, \"HBO World Championship Boxing\", \"BAD\" featured fighters who were usually moving up from ESPN\\'s \"Friday Night Fights\" or another basic cable boxing program. This was where fighters were given their start to become famous depending on how well they fare on \"BAD\" they might have a title fight on \"World Championship Boxing\" or could fall back (Ex: Jason Litzau had many entertaining fights on ESPN before moving up to \"BAD\" to face Jose Hernandez. After Litzau lost by knockout he returned to \"FNF\")\\n\\n# Constantin Brătescu\\nConstantin Brătescu (March 8, 1892 – April 13, 1971) was a Romanian Major-General during World War II. In 1941, he served first as Chief Propaganda Section General Staff (Romania\\'s Propaganda Minister) and then as a Romanian liaison officer to the German Military Mission, meaning that he served as a German military officer during Operation Barbarossa and the Axis Invasion of the Soviet Union. Starting in 1942 Brătescu was a Romanian General Officer (at the rank of Major-General) and commanded the 1st Cavalry Division throughout the campaign against the Soviets, fighting in such engagements as Operation Barbarossa, Operation Blue, and the Battle of Stalingrad. Following the surrender of Friedrich Paulus\\' 6th Army at the Battle of Stalingrad, Brătescu became a prisoner of war and was held captive from 1943 to 1948. Finally, in 1948, he was released after five years of imprisonment and subsequently retired from active service. Bratescu ultimately died twenty-three years later, in 1971, at the age of seventy-nine.\\n\\n# Esther Duflo\\nEsther Duflo, FBA (; born 25 October 1972) is a French American economist, Co-Founder and Director of the Abdul Latif Jameel Poverty Action Lab (J-PAL), and Professor of Poverty Alleviation and Development Economics at the Massachusetts Institute of Technology. Duflo is an NBER Research Associate, serves on the board of the Bureau for Research and Economic Analysis of Development (BREAD), and is Director of the Center for Economic and Policy Research\\'s development economics program.\\n\\n# Blue Star Memorial Highway\\nBlue Star Memorial Highways are highways in the United States that are marked to pay tribute to the U.S. armed forces. The National Council of State Garden Clubs, now known as National Garden Clubs, Inc., started the program in 1945 after World War II. The blue star was used on service flags to denote a service member fighting in the war. The program has since been expanded to include Memorial Markers and Memorial By-ways (since 1994). These markers are used in National Cemeteries, parks, veterans facilities, and gardens.\\n\\n# Kamakura Gongorō Kagemasa\\nKamakura Gongorō Kagemasa (鎌倉権五郎景政) (born 1069) was a samurai descended from the Taira clan, who fought for the Minamoto clan in the Gosannen War of Japan\\'s Heian period. He is famous for having continued to fight after losing an eye in battle during that war. This was in 1085, when Kagemasa was sixteen years of age.\\n\\n# Gulf War\\nThe Gulf War (2 August 199028 February 1991), codenamed Operation Desert Shield (2 August 199017 January 1991) for operations leading to the buildup of troops and defense of Saudi Arabia and Operation Desert Storm (17 January 199128 February 1991) in its combat phase, was a war waged by coalition forces from 35 nations led by the United States against Iraq in response to Iraq\\'s invasion and annexation of Kuwait arising from oil pricing and production disputes. The war is also known under other names, such as the Persian Gulf War, First Gulf War, Gulf War I, Kuwait War, First Iraq War or Iraq War, before the term \"Iraq War\" became identified instead with the post-2003 Iraq War.\\n\\n# Samuel Hearne\\nSamuel Hearne was born in February 1745 in London UK. Hearne\\'s father was Secretary of the Waterworks, of the London Bridge who died in 1748. His mother\\'s name was Diana, and his sister\\'s name was Sarah, three years younger than Samuel. Samuel Hearne joined the British Royal Navy in 1756 at the age of 11 as midshipman under the fighting captain Samuel Hood. He remained with Hood during the Seven Years\\' War, seeing considerable action during the conflict, including the bombardment of Le Havre. At the end of the Seven Years\\' War, having served in the English Channel and then the Mediterranean, he left the Navy in 1763.\\n\\n# Léon Bourjade\\nLéon Bourjade (25 May 1889 – 22 October 1924), born Jean-Pierre Léon Bourjade, was a leading French fighter pilot in World War I, notable for being his country\\'s leading balloon-busting ace. He interrupted his theological studies to fight in World War I; post-war, he completed his studies and spent the few remaining years of his life as a missionary in what is now Papua New Guinea.\\n\\n# Nene Hatun\\nNene Hatun (1857 – 22 May 1955) was a Turkish folk heroine, who became known for fighting against Russian forces during the recapture of Fort Aziziye in Erzurum from Russian forces at the start of the Russo-Turkish War of 1877–1878.\\n\\n# Ten Years\\' War\\nThe Ten Years\\' War () (1868–1878), also known as the Great War (\"Guerra Grande\") and the War of \\'68, was part of Cuba\\'s fight for independence from Spain. The uprising was led by Cuban-born planters and other wealthy natives. On October 10, 1868 sugar mill owner Carlos Manuel de Céspedes and his followers proclaimed independence, beginning the conflict. This was the first of three liberation wars that Cuba fought against Spain, the other two being the Little War (1879–1880) and the Cuban War of Independence (1895–1898). The final three months of the last conflict escalated with United States involvement, leading to the Spanish–American War.\\n\\n# Nine Years\\' War (Ireland)\\nThe war against O\\'Neill and his allies was the largest conflict fought by England in the Elizabethan era. At the height of the conflict (1600–1601) more than 18,000 soldiers were fighting in the English army in Ireland. By contrast, the English army assisting the Dutch during the Eighty Years\\' War was never more than 12,000 strong at any one time.\\n\\n# United States in World War I\\nThe United States declared war on Germany on April 6, 1917, over 2 \\u200b ⁄ years after World War I started. A ceasefire and Armistice was declared on November 11, 1918. Before entering the war, the U.S. had remained neutral, though it had been an important supplier to Great Britain and the other Allied powers.\\n\\n# French and Indian War\\nIn Europe, the North American theater of the Seven Years\\' War usually is not given a separate name. The entire international conflict is known as the Seven Years\\' War. \"Seven Years\" refers to events in Europe, from the official declaration of war in 1756 to the signing of the peace treaty in 1763. These dates do not correspond with the fighting on mainland North America, where the fighting between the two colonial powers was largely concluded in six years, from the Battle of Jumonville Glen in 1754 to the capture of Montreal in 1760.\\n\\n# Jameel Sayhood\\nJameel Sayhood was an Iraqi pilot in the Gulf War who it is claimed managed to attain one of the few aerial victories by the Iraqi Air Force in his MiG-29B, before being shot down by USAF Captain Craig Underhill and Captain Cesar Rodriguez with their F-15Cs mere minutes after his air-air victory.\\n\\n# Kitos War\\nThe Kitos War (115–117; : \"mered ha\\'galuyot\" or \"mered ha\\'tfutzot\" [מרד התפוצות]; translation: rebellion of the diaspora. ) was one of the major Jewish–Roman wars, 66–136. The rebellions erupted in the year 115, when majority of the Roman armies were fighting Trajan\\'s Parthian War on the eastern border of the Roman Empire, major uprisings by ethnic Judeans in Cyrenaica, Cyprus and Egypt spiraled out of control, resulting in a widespread slaughter of left-behind Roman garrisons and Roman citizens by Jewish rebels.\\n\\n# Indo-Pakistani War of 1971\\nThe Indian Army Chief in 1971 Field Marshal Sam Manekshaw had the highest respect for the fighting capability of the Pakistan Army but he did not accept the theory that they did not fight the Bangladesh war with enough vigor and zeal. In a BBC interview, he said:', 'answer': '1990', 'qa_result': {'answer': '1990', 'generation': 'Answer: 1990'}}]\n"
     ]
    }
   ],
   "source": [
    "i = 1\n",
    "example = df.iloc[i].to_dict()\n",
    "output = pipeline(example)\n",
    "print(\"Question:\", example['question'])\n",
    "print(\"Reference answer:\", example['answer'])\n",
    "print(\"Predicted answer:\", output['answer'])\n",
    "print(\"Reasoning:\", output['hops'])"
   ]
  },
  {
   "cell_type": "code",
   "execution_count": null,
   "metadata": {},
   "outputs": [
    {
     "data": {
      "application/vnd.jupyter.widget-view+json": {
       "model_id": "45187993cc4c46ec87c974d46b81d72d",
       "version_major": 2,
       "version_minor": 0
      },
      "text/plain": [
       "  0%|          | 0/2 [00:00<?, ?it/s]"
      ]
     },
     "metadata": {},
     "output_type": "display_data"
    },
    {
     "name": "stdout",
     "output_type": "stream",
     "text": [
      "{'exact_match': 0.5, 'f1': 0.5, 'fuzzy_match': 0.5}\n"
     ]
    },
    {
     "data": {
      "text/html": [
       "<div>\n",
       "<style scoped>\n",
       "    .dataframe tbody tr th:only-of-type {\n",
       "        vertical-align: middle;\n",
       "    }\n",
       "\n",
       "    .dataframe tbody tr th {\n",
       "        vertical-align: top;\n",
       "    }\n",
       "\n",
       "    .dataframe thead th {\n",
       "        text-align: right;\n",
       "    }\n",
       "</style>\n",
       "<table border=\"1\" class=\"dataframe\">\n",
       "  <thead>\n",
       "    <tr style=\"text-align: right;\">\n",
       "      <th></th>\n",
       "      <th>id</th>\n",
       "      <th>paragraphs</th>\n",
       "      <th>question</th>\n",
       "      <th>question_decomposition</th>\n",
       "      <th>answer</th>\n",
       "      <th>answer_aliases</th>\n",
       "      <th>answerable</th>\n",
       "      <th>n_hops</th>\n",
       "      <th>predicted_answer</th>\n",
       "      <th>raw_output</th>\n",
       "      <th>answers</th>\n",
       "      <th>exact_match</th>\n",
       "      <th>f1</th>\n",
       "      <th>fuzzy_match</th>\n",
       "    </tr>\n",
       "  </thead>\n",
       "  <tbody>\n",
       "    <tr>\n",
       "      <th>73</th>\n",
       "      <td>2hop__458962_37939</td>\n",
       "      <td>[{'idx': 0, 'is_supporting': False, 'paragraph...</td>\n",
       "      <td>How many TEUs did the location of Villa Bianca...</td>\n",
       "      <td>[{'answer': 'Thessaloniki', 'id': 458962, 'par...</td>\n",
       "      <td>273,282</td>\n",
       "      <td>[]</td>\n",
       "      <td>True</td>\n",
       "      <td>2</td>\n",
       "      <td>273,282</td>\n",
       "      <td>{'answer': '273,282', 'hops': [{'question': 'H...</td>\n",
       "      <td>[273,282]</td>\n",
       "      <td>1.0</td>\n",
       "      <td>1.0</td>\n",
       "      <td>1.0</td>\n",
       "    </tr>\n",
       "    <tr>\n",
       "      <th>58</th>\n",
       "      <td>2hop__297202_14970</td>\n",
       "      <td>[{'idx': 0, 'is_supporting': False, 'paragraph...</td>\n",
       "      <td>What is the size of the continent Marian Cove ...</td>\n",
       "      <td>[{'answer': 'Antarctica', 'id': 297202, 'parag...</td>\n",
       "      <td>5,400,000</td>\n",
       "      <td>[]</td>\n",
       "      <td>True</td>\n",
       "      <td>2</td>\n",
       "      <td>Not provided</td>\n",
       "      <td>{'answer': 'Not provided', 'hops': [{'question...</td>\n",
       "      <td>[5,400,000]</td>\n",
       "      <td>0.0</td>\n",
       "      <td>0.0</td>\n",
       "      <td>0.0</td>\n",
       "    </tr>\n",
       "  </tbody>\n",
       "</table>\n",
       "</div>"
      ],
      "text/plain": [
       "                    id                                         paragraphs  \\\n",
       "73  2hop__458962_37939  [{'idx': 0, 'is_supporting': False, 'paragraph...   \n",
       "58  2hop__297202_14970  [{'idx': 0, 'is_supporting': False, 'paragraph...   \n",
       "\n",
       "                                             question  \\\n",
       "73  How many TEUs did the location of Villa Bianca...   \n",
       "58  What is the size of the continent Marian Cove ...   \n",
       "\n",
       "                               question_decomposition     answer  \\\n",
       "73  [{'answer': 'Thessaloniki', 'id': 458962, 'par...    273,282   \n",
       "58  [{'answer': 'Antarctica', 'id': 297202, 'parag...  5,400,000   \n",
       "\n",
       "   answer_aliases  answerable  n_hops predicted_answer  \\\n",
       "73             []        True       2          273,282   \n",
       "58             []        True       2     Not provided   \n",
       "\n",
       "                                           raw_output      answers  \\\n",
       "73  {'answer': '273,282', 'hops': [{'question': 'H...    [273,282]   \n",
       "58  {'answer': 'Not provided', 'hops': [{'question...  [5,400,000]   \n",
       "\n",
       "    exact_match   f1  fuzzy_match  \n",
       "73          1.0  1.0          1.0  \n",
       "58          0.0  0.0          0.0  "
      ]
     },
     "execution_count": null,
     "metadata": {},
     "output_type": "execute_result"
    }
   ],
   "source": [
    "mdf, scores = benchmark(df.sample(2), qa_func, retrieval_func)\n",
    "print(scores)\n",
    "mdf"
   ]
  },
  {
   "cell_type": "code",
   "execution_count": null,
   "metadata": {},
   "outputs": [],
   "source": [
    "#|hide\n",
    "import nbdev; nbdev.nbdev_export()"
   ]
  }
 ],
 "metadata": {
  "kernelspec": {
   "display_name": "python3",
   "language": "python",
   "name": "python3"
  }
 },
 "nbformat": 4,
 "nbformat_minor": 2
}

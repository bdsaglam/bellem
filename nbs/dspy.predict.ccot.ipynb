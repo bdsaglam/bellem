{
 "cells": [
  {
   "attachments": {},
   "cell_type": "markdown",
   "metadata": {},
   "source": [
    "# DSPy Concise COT"
   ]
  },
  {
   "cell_type": "code",
   "execution_count": 1,
   "metadata": {},
   "outputs": [],
   "source": [
    "#|default_exp dspy.predict.ccot"
   ]
  },
  {
   "cell_type": "code",
   "execution_count": 2,
   "metadata": {},
   "outputs": [],
   "source": [
    "#|hide\n",
    "from fastcore.test import *\n",
    "from nbdev.showdoc import *"
   ]
  },
  {
   "cell_type": "code",
   "execution_count": 3,
   "metadata": {},
   "outputs": [],
   "source": [
    "#|export\n",
    "\n",
    "import dspy\n",
    "from dspy.primitives.program import Module\n",
    "from dspy.signatures.signature import ensure_signature\n",
    "\n",
    "from bellem.logging import get_logger\n",
    "\n",
    "log = get_logger(__name__)"
   ]
  },
  {
   "cell_type": "code",
   "execution_count": 5,
   "metadata": {},
   "outputs": [],
   "source": [
    "#|export\n",
    "\n",
    "class ConciseChainOfThought(Module):\n",
    "    def __init__(self, signature, rationale_type=None, activated=True, **config):\n",
    "        super().__init__()\n",
    "\n",
    "        self.activated = activated\n",
    "\n",
    "        self.signature = signature = ensure_signature(signature)\n",
    "        *_keys, last_key = signature.output_fields.keys()\n",
    "\n",
    "        prefix = \"Reasoning: Let's think step by step in order to\"\n",
    "\n",
    "        if isinstance(dspy.settings.lm, dspy.LM):\n",
    "            desc = \"${reasoning}\"\n",
    "        elif dspy.settings.experimental:\n",
    "            desc = \"${produce the output fields}. Be concise. We ...\"\n",
    "        else:\n",
    "            desc = f\"${{produce the {last_key}}}. Be concise. We ...\"\n",
    "\n",
    "        rationale_type = rationale_type or dspy.OutputField(prefix=prefix, desc=desc)\n",
    "\n",
    "        # Add \"rationale\" field to the output signature.\n",
    "        if isinstance(dspy.settings.lm, dspy.LM) or dspy.settings.experimental:\n",
    "            extended_signature = signature.prepend(\"reasoning\", rationale_type, type_=str)\n",
    "        else:\n",
    "            extended_signature = signature.prepend(\"rationale\", rationale_type, type_=str)\n",
    "        \n",
    "        self._predict = dspy.Predict(extended_signature, **config)\n",
    "        self._predict.extended_signature = extended_signature\n",
    "\n",
    "    def forward(self, **kwargs):\n",
    "        assert self.activated in [True, False]\n",
    "\n",
    "        signature = kwargs.pop(\"new_signature\", self._predict.extended_signature if self.activated else self.signature)\n",
    "        return self._predict(signature=signature, **kwargs)\n",
    "\n",
    "    @property\n",
    "    def demos(self):\n",
    "        return self._predict.demos\n",
    "\n",
    "    @property\n",
    "    def extended_signature(self):\n",
    "        return self._predict.extended_signature"
   ]
  },
  {
   "cell_type": "code",
   "execution_count": 6,
   "metadata": {},
   "outputs": [],
   "source": [
    "#|hide\n",
    "import nbdev; nbdev.nbdev_export()"
   ]
  }
 ],
 "metadata": {
  "kernelspec": {
   "display_name": "thesis",
   "language": "python",
   "name": "python3"
  },
  "language_info": {
   "codemirror_mode": {
    "name": "ipython",
    "version": 3
   },
   "file_extension": ".py",
   "mimetype": "text/x-python",
   "name": "python",
   "nbconvert_exporter": "python",
   "pygments_lexer": "ipython3",
   "version": "3.10.16"
  }
 },
 "nbformat": 4,
 "nbformat_minor": 2
}

{
 "cells": [
  {
   "attachments": {},
   "cell_type": "markdown",
   "metadata": {},
   "source": [
    "# ML Datasets"
   ]
  },
  {
   "attachments": {},
   "cell_type": "markdown",
   "metadata": {},
   "source": [
    "## Imagenet\n",
    "\n",
    "Use [ImageNetV2_pytorch](https://github.com/modestyachts/ImageNetV2_pytorch) library to download ImageNetV2 by [Recht et al.](https://arxiv.org/abs/1902.10811)\n",
    "\n",
    "```py\n",
    "!pip install git+https://github.com/modestyachts/ImageNetV2_pytorch\n",
    "\n",
    "from imagenetv2_pytorch import ImageNetV2Dataset\n",
    "from bellem.ml.data import get_imagenet_id_label_map, IMAGENET_SIMPLE_LABELS\n",
    "\n",
    "\n",
    "images = ImageNetV2Dataset(transform=preprocess)\n",
    "loader = torch.utils.data.DataLoader(images, batch_size=32, num_workers=2)\n",
    "```"
   ]
  }
 ],
 "metadata": {
  "kernelspec": {
   "display_name": "python3",
   "language": "python",
   "name": "python3"
  }
 },
 "nbformat": 4,
 "nbformat_minor": 2
}

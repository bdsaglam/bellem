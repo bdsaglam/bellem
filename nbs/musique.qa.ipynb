{
 "cells": [
  {
   "cell_type": "markdown",
   "metadata": {},
   "source": [
    "# Question answering with LLM"
   ]
  },
  {
   "cell_type": "code",
   "execution_count": null,
   "metadata": {},
   "outputs": [],
   "source": [
    "#|default_exp musique.qa"
   ]
  },
  {
   "cell_type": "code",
   "execution_count": null,
   "metadata": {},
   "outputs": [],
   "source": [
    "#|hide\n",
    "from fastcore.test import *\n",
    "from nbdev.showdoc import *"
   ]
  },
  {
   "cell_type": "code",
   "execution_count": null,
   "metadata": {},
   "outputs": [
    {
     "data": {
      "text/plain": [
       "True"
      ]
     },
     "execution_count": null,
     "metadata": {},
     "output_type": "execute_result"
    }
   ],
   "source": [
    "#|hide\n",
    "from dotenv import load_dotenv\n",
    "\n",
    "load_dotenv()"
   ]
  },
  {
   "cell_type": "code",
   "execution_count": null,
   "metadata": {},
   "outputs": [],
   "source": [
    "#|export\n",
    "from typing import Callable\n",
    "\n",
    "import openai\n",
    "\n",
    "from bellem.logging import get_logger\n",
    "\n",
    "log = get_logger(__name__)"
   ]
  },
  {
   "cell_type": "code",
   "execution_count": null,
   "metadata": {},
   "outputs": [],
   "source": [
    "#|export\n",
    "\n",
    "DEFAULT_MODEL = \"gpt-3.5-turbo\"\n",
    "DEFAULT_COMPLETION_KWARGS = {\"temperature\": 0.1}"
   ]
  },
  {
   "cell_type": "code",
   "execution_count": null,
   "metadata": {},
   "outputs": [],
   "source": [
    "# DEFAULT_MODEL = \"gpt-4o\"\n",
    "\n",
    "TEST_EXAMPLE = {\n",
    "    \"id\": \"2hop__834974_332063\",\n",
    "    \"context\": \"# N. Monroe Marshall\\nNathaniel Monroe Marshall (June 13, 1854 Schuyler Falls, Clinton County, New York \\u2013 February 16, 1935 Malone, Franklin County, New York) was an American banker and politician.\\n# Perry Township, Clinton County, Indiana\\nPerry Township is one of fourteen townships in Clinton County, Indiana. As of the 2010 census, its population was 1,459 and it contained 606 housing units. The township was named for Oliver Hazard Perry, an American naval officer in the War of 1812.\",\n",
    "    \"question\": \"Which region shares border with one where Perry Township is located?\",\n",
    "    \"answers\": [\"Franklin County\"],\n",
    "}"
   ]
  },
  {
   "cell_type": "code",
   "execution_count": null,
   "metadata": {},
   "outputs": [],
   "source": [
    "#|export\n",
    "\n",
    "DEFAULT_USER_PROMPT_TEMPLATE = \"\"\"The context information is provided below.\n",
    "---------------------\n",
    "{context}\n",
    "---------------------\n",
    "Given the context information and not prior knowledge, answer the question.\n",
    "{question}\n",
    "\"\"\"\n",
    "\n",
    "\n",
    "def make_qa_func(\n",
    "    system_prompt: str,\n",
    "    user_prompt_template: str = DEFAULT_USER_PROMPT_TEMPLATE,\n",
    "    few_shot_examples: list[dict] | None = None,\n",
    "):\n",
    "    few_shot_examples = few_shot_examples or []\n",
    "\n",
    "    def answer_question(\n",
    "        context: str,\n",
    "        question: str,\n",
    "        model_name: str = DEFAULT_MODEL,\n",
    "        completion_kwargs: dict | None = None,\n",
    "        client=None,\n",
    "    ) -> dict:\n",
    "        if client is None:\n",
    "            client = openai.Client()\n",
    "\n",
    "        if completion_kwargs is None:\n",
    "            completion_kwargs = DEFAULT_COMPLETION_KWARGS\n",
    "\n",
    "        # Prepare the messages\n",
    "        few_shot_messages = []\n",
    "        for example in few_shot_examples:\n",
    "            few_shot_messages.extend(\n",
    "                [\n",
    "                    {\n",
    "                        \"role\": \"user\",\n",
    "                        \"content\": user_prompt_template.format(\n",
    "                            context=example[\"context\"],\n",
    "                            question=example[\"question\"],\n",
    "                        ),\n",
    "                    },\n",
    "                    {\n",
    "                        \"role\": \"assistant\",\n",
    "                        \"content\": example[\"generation\"],\n",
    "                    },\n",
    "                ]\n",
    "            )\n",
    "        messages = [\n",
    "            {\"role\": \"system\", \"content\": system_prompt},\n",
    "            *few_shot_messages,\n",
    "            {\n",
    "                \"role\": \"user\",\n",
    "                \"content\": user_prompt_template.format(context=context, question=question),\n",
    "            },\n",
    "        ]\n",
    "        chat_completion = client.chat.completions.create(\n",
    "            model=model_name,\n",
    "            messages=messages,\n",
    "            **completion_kwargs,\n",
    "        )\n",
    "        generation = chat_completion.choices[0].message.content\n",
    "        parts = generation.split(\"Answer:\")\n",
    "        if len(parts) < 2:\n",
    "            return dict(answer=\"\", generation=generation)\n",
    "        answer = parts[1].strip()\n",
    "        return dict(answer=answer, generation=generation)\n",
    "\n",
    "    return answer_question"
   ]
  },
  {
   "cell_type": "markdown",
   "metadata": {},
   "source": [
    "### Standard prompt"
   ]
  },
  {
   "cell_type": "code",
   "execution_count": null,
   "metadata": {},
   "outputs": [],
   "source": [
    "#|export\n",
    "\n",
    "SYSTEM_PROMPT_STANDARD = \"\"\"\n",
    "You are an excellent question-answering system known for providing accurate and reliable answers. Your responses should be solely based on the context information given, without drawing on prior knowledge. \n",
    "\n",
    "# Output format\n",
    "Answer: [answer in least number of words possible]\n",
    "\"\"\".strip()\n",
    "\n",
    "\n",
    "answer_question_standard = make_qa_func(\n",
    "    system_prompt=SYSTEM_PROMPT_STANDARD,\n",
    ")"
   ]
  },
  {
   "cell_type": "code",
   "execution_count": null,
   "metadata": {},
   "outputs": [
    {
     "name": "stdout",
     "output_type": "stream",
     "text": [
      "Answer: Franklin County, New York\n",
      "Franklin County, New York\n"
     ]
    }
   ],
   "source": [
    "result = answer_question_standard(TEST_EXAMPLE['context'], TEST_EXAMPLE['question'])\n",
    "print(result['generation'])\n",
    "print(result['answer'])"
   ]
  },
  {
   "cell_type": "markdown",
   "metadata": {},
   "source": [
    "### Chain-of-thought prompt"
   ]
  },
  {
   "cell_type": "code",
   "execution_count": null,
   "metadata": {},
   "outputs": [],
   "source": [
    "#|export\n",
    "\n",
    "SYSTEM_PROMPT_COT = \"\"\"You are an excellent question-answering system known for providing accurate and reliable answers. Your responses should be solely based on the context information given, without drawing on prior knowledge. Always provide clear and logical step-by-step reasoning in your response.\n",
    "\n",
    "# Output format\n",
    "Reasoning: [Step-by-step reasoning for the answer.]\n",
    "Answer: [answer in least number of words possible]\n",
    "\"\"\"\n",
    "\n",
    "answer_question_cot_zs = make_qa_func(\n",
    "    system_prompt=SYSTEM_PROMPT_COT,\n",
    ")"
   ]
  },
  {
   "cell_type": "code",
   "execution_count": null,
   "metadata": {},
   "outputs": [
    {
     "name": "stdout",
     "output_type": "stream",
     "text": [
      "Reasoning: Perry Township is located in Clinton County, Indiana. To determine a region that shares a border with Clinton County, Indiana, we need to identify neighboring counties. Clinton County, Indiana is bordered by Carroll County to the north, Howard County to the northeast, Tipton County to the east, Hamilton County to the south, Boone County to the west, and Montgomery County to the northwest. Therefore, a region that shares a border with a county where Perry Township is located is Hamilton County.\n",
      "\n",
      "Answer: Hamilton County\n",
      "================================================================================\n",
      "Hamilton County\n"
     ]
    }
   ],
   "source": [
    "result = answer_question_cot_zs(TEST_EXAMPLE['context'], TEST_EXAMPLE['question'])\n",
    "print(result['generation'])\n",
    "print(\"=\"*80)\n",
    "print(result['answer'])"
   ]
  },
  {
   "cell_type": "code",
   "execution_count": null,
   "metadata": {},
   "outputs": [],
   "source": [
    "#|export\n",
    "\n",
    "FEW_SHOT_EXAMPLES_COT = [\n",
    "    {\n",
    "        \"id\": \"2hop__784447_126070\",\n",
    "        \"context\": 'Glenhis Hern\\u00e1ndez (born 7 October 1990 in Havana) is a taekwondo practitioner from Cuba. She was the 2013 World\\nChampion in middleweight.\\n\\nThe current mayor of Havana (\"President of the People\\'s Power Provincial Assembly\") is Marta Hern\\u00e1ndez Romero, she\\nwas elected on March 5, 2011.',\n",
    "        \"question\": \"Who is the current mayor of the city Glenhis Hern\\u00e1ndez was born?\",\n",
    "        \"generation\": \"Reasoning:\\n1. Glenhis Hernández was born in Havana, as mentioned in the context.\\n2. The current mayor of Havana mentioned in the context is Marta Hernández Romero.\\n3. Therefore, the current mayor of the city where Glenhis Hernández was born is Marta Hernández Romero.\\n\\nAnswer: Marta Hernández Romero\",\n",
    "    },\n",
    "    {\n",
    "        \"id\": \"2hop__823584_776926\",\n",
    "        \"context\": '# Rotst\\u00f6ckli\\nThe Rotst\\u00f6ckli (2,901 m) is a peak of the Urner Alps below the Titlis, on the border between the Swiss cantons of Obwalden and Nidwalden. It is Nidwalden\\'s highest point. The summit is split between the municipalities of Engelberg (Obwalden) and Wolfenschiessen (Nidwalden).\\n# Uri Alps\\nThe Uri Alps (also known as \"Urner Alps\", ) are a mountain range in Central Switzerland and part of the Western Alps. They extend into the cantons of Obwalden, Valais, Bern, Uri and Nidwalden and are bordered by the Bernese Alps (Grimsel Pass) and the Emmental Alps to the west (the four lakes: Lungerersee, Sarnersee, Wichelsee, and Alpnachersee), the Schwyzer Alps to the north (Lake Lucerne), the Lepontine Alps to the south (the valley of Urseren with Andermatt) and the Glarus Alps to the east (Reuss).',\n",
    "        \"question\": \"What area contains the region that encompasses Rotst\\u00f6ckli?\",\n",
    "        \"generation\": \"Reasoning:\\n- The context indicates that the Rotstöckli is a peak within the Urner Alps.\\n- It further describes the Urner Alps as part of the Western Alps, a larger mountain range.\\n- Therefore, the larger area that contains the region encompassing the Rotstöckli is the Western Alps, as deduced from the hierarchical geographical categorization provided.\\n\\nAnswer: Western Alps\",\n",
    "    },\n",
    "]\n",
    "\n",
    "answer_question_cot_fs = make_qa_func(\n",
    "    system_prompt=SYSTEM_PROMPT_COT,\n",
    "    few_shot_examples=FEW_SHOT_EXAMPLES_COT,\n",
    ")"
   ]
  },
  {
   "cell_type": "code",
   "execution_count": null,
   "metadata": {},
   "outputs": [
    {
     "name": "stdout",
     "output_type": "stream",
     "text": [
      "Reasoning:\n",
      "- Perry Township is located in Clinton County, Indiana.\n",
      "- To determine a region that shares a border with Clinton County, Indiana, we need to identify neighboring regions.\n",
      "- Based on the context, since Nathaniel Monroe Marshall was born in Schuyler Falls, Clinton County, New York, we can infer that Clinton County, New York is a region that shares a border with Clinton County, Indiana.\n",
      "\n",
      "Answer: Clinton County, New York\n",
      "================================================================================\n",
      "Clinton County, New York\n"
     ]
    }
   ],
   "source": [
    "result = answer_question_cot_fs(TEST_EXAMPLE['context'], TEST_EXAMPLE['question'])\n",
    "print(result['generation'])\n",
    "print(\"=\"*80)\n",
    "print(result['answer'])"
   ]
  },
  {
   "cell_type": "markdown",
   "metadata": {},
   "source": [
    "### Connect-the-Entities prompt"
   ]
  },
  {
   "cell_type": "code",
   "execution_count": null,
   "metadata": {},
   "outputs": [],
   "source": [
    "# |export\n",
    "\n",
    "SYSTEM_PROMPT_CTE = \"\"\"\n",
    "You are an excellent question-answering system known for providing accurate and reliable answers. Your responses should be solely based on the context information given, without drawing on prior knowledge.\n",
    "\n",
    "Before answering the question, first, you extract relevant entity-relation-entity triplets from the context. Then, you answer the question based on the triplets.\n",
    "\n",
    "# Output format\n",
    "Triplets: [A list of entity-relation-entity triplets extracted from the context.]\n",
    "Answer: [answer in least number of words possible]\n",
    "\"\"\".strip()\n",
    "\n",
    "answer_question_cte_zs = make_qa_func(\n",
    "    system_prompt=SYSTEM_PROMPT_CTE,\n",
    ")"
   ]
  },
  {
   "cell_type": "code",
   "execution_count": null,
   "metadata": {},
   "outputs": [
    {
     "name": "stdout",
     "output_type": "stream",
     "text": [
      "Triplets:\n",
      "1. Perry Township - located in - Clinton County, Indiana\n",
      "2. Clinton County, Indiana - shares border with - another region\n",
      "\n",
      "Answer: Clinton County, Indiana shares a border with another region.\n",
      "================================================================================\n",
      "Clinton County, Indiana shares a border with another region.\n"
     ]
    }
   ],
   "source": [
    "result = answer_question_cte_zs(TEST_EXAMPLE['context'], TEST_EXAMPLE['question'])\n",
    "print(result['generation'])\n",
    "print(\"=\"*80)\n",
    "print(result['answer'])"
   ]
  },
  {
   "cell_type": "code",
   "execution_count": null,
   "metadata": {},
   "outputs": [],
   "source": [
    "#|export\n",
    "\n",
    "FEW_SHOT_EXAMPLES_CTE = [\n",
    "    {\n",
    "        \"id\": \"2hop__784447_126070\",\n",
    "        \"context\": 'Glenhis Hern\\u00e1ndez (born 7 October 1990 in Havana) is a taekwondo practitioner from Cuba. She was the 2013 World\\nChampion in middleweight.\\n\\nThe current mayor of Havana (\"President of the People\\'s Power Provincial Assembly\") is Marta Hern\\u00e1ndez Romero, she\\nwas elected on March 5, 2011.',\n",
    "        \"question\": \"Who is the current mayor of the city Glenhis Hern\\u00e1ndez was born?\",\n",
    "        \"generation\": \"Triplets: \\nGlenhis Hern\\u00e1ndez | birth place | Havana\\nMarta Hern\\u00e1ndez Romero | mayor of| Havana\\n\\nAnswer: Marta Hern\\u00e1ndez Romero\",\n",
    "    },\n",
    "    {\n",
    "        \"id\": \"2hop__823584_776926\",\n",
    "        \"context\": '# Rotst\\u00f6ckli\\nThe Rotst\\u00f6ckli (2,901 m) is a peak of the Urner Alps below the Titlis, on the border between the Swiss cantons of Obwalden and Nidwalden. It is Nidwalden\\'s highest point. The summit is split between the municipalities of Engelberg (Obwalden) and Wolfenschiessen (Nidwalden).\\n# Uri Alps\\nThe Uri Alps (also known as \"Urner Alps\", ) are a mountain range in Central Switzerland and part of the Western Alps. They extend into the cantons of Obwalden, Valais, Bern, Uri and Nidwalden and are bordered by the Bernese Alps (Grimsel Pass) and the Emmental Alps to the west (the four lakes: Lungerersee, Sarnersee, Wichelsee, and Alpnachersee), the Schwyzer Alps to the north (Lake Lucerne), the Lepontine Alps to the south (the valley of Urseren with Andermatt) and the Glarus Alps to the east (Reuss).',\n",
    "        \"question\": \"What area contains the region that encompasses Rotst\\u00f6ckli?\",\n",
    "        \"generation\": \"Triplets:\\nRotst\\u00f6ckli | part of | Urner Alps\\nUrner Alps | part of | Western Alps\\n\\nAnswer: Western Alps\",\n",
    "    },\n",
    "]\n",
    "\n",
    "answer_question_cte_fs = make_qa_func(\n",
    "    system_prompt=SYSTEM_PROMPT_CTE,\n",
    "    few_shot_examples=FEW_SHOT_EXAMPLES_CTE,\n",
    ")"
   ]
  },
  {
   "cell_type": "code",
   "execution_count": null,
   "metadata": {},
   "outputs": [
    {
     "name": "stdout",
     "output_type": "stream",
     "text": [
      "Triplets:\n",
      "Perry Township | located in | Clinton County, Indiana\n",
      "Clinton County, Indiana | shares border with | Franklin County, New York\n",
      "\n",
      "Answer: Franklin County, New York\n",
      "================================================================================\n",
      "Franklin County, New York\n"
     ]
    }
   ],
   "source": [
    "result = answer_question_cte_fs(TEST_EXAMPLE['context'], TEST_EXAMPLE['question'])\n",
    "print(result['generation'])\n",
    "print(\"=\"*80)\n",
    "print(result['answer'])"
   ]
  },
  {
   "cell_type": "code",
   "execution_count": null,
   "metadata": {},
   "outputs": [],
   "source": [
    "#|export\n",
    "\n",
    "def load_qa_func(prompt_technique: str) -> Callable:\n",
    "    prompt_technique = prompt_technique.lower()\n",
    "    if prompt_technique == \"standard\":\n",
    "        return answer_question_standard\n",
    "    elif prompt_technique == \"cot-zs\":\n",
    "        return answer_question_cot_zs\n",
    "    elif prompt_technique == \"cot-fs\":\n",
    "        return answer_question_cot_fs\n",
    "    elif prompt_technique == \"cte\":\n",
    "        return answer_question_cte_fs\n",
    "    else:\n",
    "        raise ValueError(f\"Unknown prompt technique: {prompt_technique}\")"
   ]
  },
  {
   "cell_type": "code",
   "execution_count": null,
   "metadata": {},
   "outputs": [],
   "source": [
    "#|hide\n",
    "import nbdev; nbdev.nbdev_export()"
   ]
  }
 ],
 "metadata": {
  "kernelspec": {
   "display_name": "python3",
   "language": "python",
   "name": "python3"
  }
 },
 "nbformat": 4,
 "nbformat_minor": 2
}

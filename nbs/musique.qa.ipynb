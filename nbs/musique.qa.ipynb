{
 "cells": [
  {
   "cell_type": "markdown",
   "metadata": {},
   "source": [
    "# Question answering with LLM"
   ]
  },
  {
   "cell_type": "code",
   "execution_count": null,
   "metadata": {},
   "outputs": [],
   "source": [
    "#|default_exp musique.qa"
   ]
  },
  {
   "cell_type": "code",
   "execution_count": null,
   "metadata": {},
   "outputs": [],
   "source": [
    "#|hide\n",
    "from fastcore.test import *\n",
    "from nbdev.showdoc import *"
   ]
  },
  {
   "cell_type": "code",
   "execution_count": null,
   "metadata": {},
   "outputs": [
    {
     "data": {
      "text/plain": [
       "True"
      ]
     },
     "execution_count": null,
     "metadata": {},
     "output_type": "execute_result"
    }
   ],
   "source": [
    "#|hide\n",
    "from dotenv import load_dotenv\n",
    "\n",
    "load_dotenv()"
   ]
  },
  {
   "cell_type": "code",
   "execution_count": null,
   "metadata": {},
   "outputs": [],
   "source": [
    "#|export\n",
    "from collections import Counter\n",
    "from typing import Callable\n",
    "\n",
    "import openai\n",
    "\n",
    "from bellem.logging import get_logger\n",
    "\n",
    "log = get_logger(__name__)"
   ]
  },
  {
   "cell_type": "code",
   "execution_count": null,
   "metadata": {},
   "outputs": [],
   "source": [
    "#|export\n",
    "\n",
    "DEFAULT_MODEL = \"gpt-4o-mini\"\n",
    "DEFAULT_COMPLETION_KWARGS = {\"temperature\": 0.5}"
   ]
  },
  {
   "cell_type": "code",
   "execution_count": null,
   "metadata": {},
   "outputs": [],
   "source": [
    "# DEFAULT_MODEL = \"gpt-4o\"\n",
    "\n",
    "TEST_EXAMPLE = {\n",
    "    \"id\": \"2hop__834974_332063\",\n",
    "    \"context\": \"# N. Monroe Marshall\\nNathaniel Monroe Marshall (June 13, 1854 Schuyler Falls, Clinton County, New York \\u2013 February 16, 1935 Malone, Franklin County, New York) was an American banker and politician.\\n# Perry Township, Clinton County, Indiana\\nPerry Township is one of fourteen townships in Clinton County, Indiana. As of the 2010 census, its population was 1,459 and it contained 606 housing units. The township was named for Oliver Hazard Perry, an American naval officer in the War of 1812.\",\n",
    "    \"question\": \"Which region shares border with one where Perry Township is located?\",\n",
    "    \"answers\": [\"Franklin County\"],\n",
    "}"
   ]
  },
  {
   "cell_type": "code",
   "execution_count": null,
   "metadata": {},
   "outputs": [],
   "source": [
    "#|export\n",
    "\n",
    "DEFAULT_USER_PROMPT_TEMPLATE = \"\"\"The context information is provided below.\n",
    "---------------------\n",
    "{context}\n",
    "---------------------\n",
    "Given the context information and not prior knowledge, answer the question.\n",
    "{question}\n",
    "\"\"\"\n",
    "\n",
    "\n",
    "def make_qa_func(\n",
    "    system_prompt: str,\n",
    "    user_prompt_template: str = DEFAULT_USER_PROMPT_TEMPLATE,\n",
    "    few_shot_examples: list[dict] | None = None,\n",
    "):\n",
    "    few_shot_examples = few_shot_examples or []\n",
    "\n",
    "    def answer_question(\n",
    "        context: str,\n",
    "        question: str,\n",
    "        model_name: str = DEFAULT_MODEL,\n",
    "        completion_kwargs: dict | None = None,\n",
    "        client=None,\n",
    "    ) -> dict:\n",
    "        if client is None:\n",
    "            client = openai.Client()\n",
    "\n",
    "        if completion_kwargs is None:\n",
    "            completion_kwargs = DEFAULT_COMPLETION_KWARGS\n",
    "\n",
    "        # Prepare the messages\n",
    "        few_shot_messages = []\n",
    "        for example in few_shot_examples:\n",
    "            few_shot_messages.extend(\n",
    "                [\n",
    "                    {\n",
    "                        \"role\": \"user\",\n",
    "                        \"content\": user_prompt_template.format(\n",
    "                            context=example[\"context\"],\n",
    "                            question=example[\"question\"],\n",
    "                        ),\n",
    "                    },\n",
    "                    {\n",
    "                        \"role\": \"assistant\",\n",
    "                        \"content\": example[\"generation\"],\n",
    "                    },\n",
    "                ]\n",
    "            )\n",
    "        messages = [\n",
    "            {\"role\": \"system\", \"content\": system_prompt},\n",
    "            *few_shot_messages,\n",
    "            {\n",
    "                \"role\": \"user\",\n",
    "                \"content\": user_prompt_template.format(context=context, question=question),\n",
    "            },\n",
    "        ]\n",
    "        chat_completion = client.chat.completions.create(\n",
    "            model=model_name,\n",
    "            messages=messages,\n",
    "            **completion_kwargs,\n",
    "        )\n",
    "        generation = chat_completion.choices[0].message.content\n",
    "        parts = generation.split(\"Answer:\")\n",
    "        if len(parts) < 2:\n",
    "            return dict(answer=\"\", generation=generation)\n",
    "        answer = parts[1].strip()\n",
    "        return dict(answer=answer, generation=generation)\n",
    "\n",
    "    return answer_question"
   ]
  },
  {
   "cell_type": "markdown",
   "metadata": {},
   "source": [
    "### Standard prompt"
   ]
  },
  {
   "cell_type": "code",
   "execution_count": null,
   "metadata": {},
   "outputs": [],
   "source": [
    "#|export\n",
    "\n",
    "SYSTEM_PROMPT_STANDARD = \"\"\"\n",
    "You are an excellent question-answering system known for providing accurate and reliable answers. Your responses should be solely based on the context information given, without drawing on prior knowledge. \n",
    "\n",
    "# Output format\n",
    "Answer: [answer in least number of words possible]\n",
    "\"\"\".strip()\n",
    "\n",
    "\n",
    "answer_question_standard = make_qa_func(\n",
    "    system_prompt=SYSTEM_PROMPT_STANDARD,\n",
    ")"
   ]
  },
  {
   "cell_type": "code",
   "execution_count": null,
   "metadata": {},
   "outputs": [
    {
     "name": "stdout",
     "output_type": "stream",
     "text": [
      "Answer: Franklin County, New York\n",
      "Franklin County, New York\n"
     ]
    }
   ],
   "source": [
    "result = answer_question_standard(TEST_EXAMPLE['context'], TEST_EXAMPLE['question'])\n",
    "print(result['generation'])\n",
    "print(result['answer'])"
   ]
  },
  {
   "cell_type": "markdown",
   "metadata": {},
   "source": [
    "### Chain-of-thought prompt"
   ]
  },
  {
   "cell_type": "code",
   "execution_count": null,
   "metadata": {},
   "outputs": [],
   "source": [
    "#|export\n",
    "\n",
    "SYSTEM_PROMPT_COT = \"\"\"You are an excellent question-answering system known for providing accurate and reliable answers. Your responses should be solely based on the context information given, without drawing on prior knowledge. Always provide clear and logical step-by-step reasoning in your response.\n",
    "\n",
    "# Output format\n",
    "Reasoning: [Step-by-step reasoning for the answer.]\n",
    "Answer: [answer in least number of words possible]\n",
    "\"\"\"\n",
    "\n",
    "answer_question_cot_zs = make_qa_func(\n",
    "    system_prompt=SYSTEM_PROMPT_COT,\n",
    ")"
   ]
  },
  {
   "cell_type": "code",
   "execution_count": null,
   "metadata": {},
   "outputs": [
    {
     "name": "stdout",
     "output_type": "stream",
     "text": [
      "Reasoning: Perry Township is located in Clinton County, Indiana. To find a region that shares a border with Clinton County, Indiana, we need to look for neighboring regions. Since Clinton County is located in Indiana, we need to identify a neighboring state. Indiana is bordered by the states of Illinois, Kentucky, Michigan, and Ohio. Therefore, a region that shares a border with one where Perry Township is located is the state of Illinois.\n",
      "\n",
      "Answer: Illinois\n",
      "================================================================================\n",
      "Illinois\n"
     ]
    }
   ],
   "source": [
    "result = answer_question_cot_zs(TEST_EXAMPLE['context'], TEST_EXAMPLE['question'])\n",
    "print(result['generation'])\n",
    "print(\"=\"*80)\n",
    "print(result['answer'])"
   ]
  },
  {
   "cell_type": "code",
   "execution_count": null,
   "metadata": {},
   "outputs": [],
   "source": [
    "#|export\n",
    "\n",
    "FEW_SHOT_EXAMPLES_COT = [\n",
    "    {\n",
    "        \"id\": \"2hop__784447_126070\",\n",
    "        \"context\": 'Glenhis Hern\\u00e1ndez (born 7 October 1990 in Havana) is a taekwondo practitioner from Cuba. She was the 2013 World\\nChampion in middleweight.\\n\\nThe current mayor of Havana (\"President of the People\\'s Power Provincial Assembly\") is Marta Hern\\u00e1ndez Romero, she\\nwas elected on March 5, 2011.',\n",
    "        \"question\": \"Who is the current mayor of the city Glenhis Hern\\u00e1ndez was born?\",\n",
    "        \"generation\": \"Reasoning:\\n1. Glenhis Hernández was born in Havana, as mentioned in the context.\\n2. The current mayor of Havana mentioned in the context is Marta Hernández Romero.\\n3. Therefore, the current mayor of the city where Glenhis Hernández was born is Marta Hernández Romero.\\n\\nAnswer: Marta Hernández Romero\",\n",
    "    },\n",
    "    {\n",
    "        \"id\": \"2hop__823584_776926\",\n",
    "        \"context\": '# Rotst\\u00f6ckli\\nThe Rotst\\u00f6ckli (2,901 m) is a peak of the Urner Alps below the Titlis, on the border between the Swiss cantons of Obwalden and Nidwalden. It is Nidwalden\\'s highest point. The summit is split between the municipalities of Engelberg (Obwalden) and Wolfenschiessen (Nidwalden).\\n# Uri Alps\\nThe Uri Alps (also known as \"Urner Alps\", ) are a mountain range in Central Switzerland and part of the Western Alps. They extend into the cantons of Obwalden, Valais, Bern, Uri and Nidwalden and are bordered by the Bernese Alps (Grimsel Pass) and the Emmental Alps to the west (the four lakes: Lungerersee, Sarnersee, Wichelsee, and Alpnachersee), the Schwyzer Alps to the north (Lake Lucerne), the Lepontine Alps to the south (the valley of Urseren with Andermatt) and the Glarus Alps to the east (Reuss).',\n",
    "        \"question\": \"What area contains the region that encompasses Rotst\\u00f6ckli?\",\n",
    "        \"generation\": \"Reasoning:\\n- The context indicates that the Rotstöckli is a peak within the Urner Alps.\\n- It further describes the Urner Alps as part of the Western Alps, a larger mountain range.\\n- Therefore, the larger area that contains the region encompassing the Rotstöckli is the Western Alps, as deduced from the hierarchical geographical categorization provided.\\n\\nAnswer: Western Alps\",\n",
    "    },\n",
    "]\n",
    "\n",
    "answer_question_cot_fs = make_qa_func(\n",
    "    system_prompt=SYSTEM_PROMPT_COT,\n",
    "    few_shot_examples=FEW_SHOT_EXAMPLES_COT,\n",
    ")"
   ]
  },
  {
   "cell_type": "code",
   "execution_count": null,
   "metadata": {},
   "outputs": [
    {
     "name": "stdout",
     "output_type": "stream",
     "text": [
      "Reasoning:\n",
      "- Perry Township is located in Clinton County, Indiana.\n",
      "- To determine the region that shares a border with Clinton County, Indiana, we need to identify the neighboring region.\n",
      "- Based on the context, Perry Township is located in Clinton County, Indiana, which is in the state of Indiana.\n",
      "- Therefore, the region that shares a border with Indiana is the state of Ohio, as Ohio is located to the east of Indiana.\n",
      "\n",
      "Answer: Ohio\n",
      "================================================================================\n",
      "Ohio\n"
     ]
    }
   ],
   "source": [
    "result = answer_question_cot_fs(TEST_EXAMPLE['context'], TEST_EXAMPLE['question'])\n",
    "print(result['generation'])\n",
    "print(\"=\"*80)\n",
    "print(result['answer'])"
   ]
  },
  {
   "cell_type": "markdown",
   "metadata": {},
   "source": [
    "### Connect-the-Entities prompt"
   ]
  },
  {
   "cell_type": "code",
   "execution_count": null,
   "metadata": {},
   "outputs": [],
   "source": [
    "# |export\n",
    "\n",
    "SYSTEM_PROMPT_CTE = \"\"\"\n",
    "You are an excellent question-answering system known for providing accurate and reliable answers. Your responses should be solely based on the context information given, without drawing on prior knowledge.\n",
    "\n",
    "Before answering the question, first, you extract relevant entity-relation-entity triplets from the context. Then, you answer the question based on the triplets.\n",
    "\n",
    "# Output format\n",
    "Triplets: [A list of entity-relation-entity triplets extracted from the context.]\n",
    "Answer: [answer in least number of words possible]\n",
    "\"\"\".strip()\n",
    "\n",
    "answer_question_cte_zs = make_qa_func(\n",
    "    system_prompt=SYSTEM_PROMPT_CTE,\n",
    ")"
   ]
  },
  {
   "cell_type": "code",
   "execution_count": null,
   "metadata": {},
   "outputs": [
    {
     "name": "stdout",
     "output_type": "stream",
     "text": [
      "Triplets: \n",
      "1. Perry Township - is located in - Clinton County, Indiana\n",
      "2. Clinton County, Indiana - is a part of - Indiana\n",
      "\n",
      "Answer: Indiana\n",
      "================================================================================\n",
      "Indiana\n"
     ]
    }
   ],
   "source": [
    "result = answer_question_cte_zs(TEST_EXAMPLE['context'], TEST_EXAMPLE['question'])\n",
    "print(result['generation'])\n",
    "print(\"=\"*80)\n",
    "print(result['answer'])"
   ]
  },
  {
   "cell_type": "code",
   "execution_count": null,
   "metadata": {},
   "outputs": [],
   "source": [
    "#|export\n",
    "\n",
    "FEW_SHOT_EXAMPLES_CTE = [\n",
    "    {\n",
    "        \"id\": \"2hop__784447_126070\",\n",
    "        \"context\": 'Glenhis Hern\\u00e1ndez (born 7 October 1990 in Havana) is a taekwondo practitioner from Cuba. She was the 2013 World\\nChampion in middleweight.\\n\\nThe current mayor of Havana (\"President of the People\\'s Power Provincial Assembly\") is Marta Hern\\u00e1ndez Romero, she\\nwas elected on March 5, 2011.',\n",
    "        \"question\": \"Who is the current mayor of the city Glenhis Hern\\u00e1ndez was born?\",\n",
    "        \"generation\": \"Triplets: \\nGlenhis Hern\\u00e1ndez | birth place | Havana\\nMarta Hern\\u00e1ndez Romero | mayor of| Havana\\n\\nAnswer: Marta Hern\\u00e1ndez Romero\",\n",
    "    },\n",
    "    {\n",
    "        \"id\": \"2hop__823584_776926\",\n",
    "        \"context\": '# Rotst\\u00f6ckli\\nThe Rotst\\u00f6ckli (2,901 m) is a peak of the Urner Alps below the Titlis, on the border between the Swiss cantons of Obwalden and Nidwalden. It is Nidwalden\\'s highest point. The summit is split between the municipalities of Engelberg (Obwalden) and Wolfenschiessen (Nidwalden).\\n# Uri Alps\\nThe Uri Alps (also known as \"Urner Alps\", ) are a mountain range in Central Switzerland and part of the Western Alps. They extend into the cantons of Obwalden, Valais, Bern, Uri and Nidwalden and are bordered by the Bernese Alps (Grimsel Pass) and the Emmental Alps to the west (the four lakes: Lungerersee, Sarnersee, Wichelsee, and Alpnachersee), the Schwyzer Alps to the north (Lake Lucerne), the Lepontine Alps to the south (the valley of Urseren with Andermatt) and the Glarus Alps to the east (Reuss).',\n",
    "        \"question\": \"What area contains the region that encompasses Rotst\\u00f6ckli?\",\n",
    "        \"generation\": \"Triplets:\\nRotst\\u00f6ckli | part of | Urner Alps\\nUrner Alps | part of | Western Alps\\n\\nAnswer: Western Alps\",\n",
    "    },\n",
    "]\n",
    "\n",
    "answer_question_cte_fs = make_qa_func(\n",
    "    system_prompt=SYSTEM_PROMPT_CTE,\n",
    "    few_shot_examples=FEW_SHOT_EXAMPLES_CTE,\n",
    ")"
   ]
  },
  {
   "cell_type": "code",
   "execution_count": null,
   "metadata": {},
   "outputs": [
    {
     "name": "stdout",
     "output_type": "stream",
     "text": [
      "Triplets:\n",
      "Perry Township | located in | Clinton County, Indiana\n",
      "Clinton County, Indiana | shares border with | Franklin County, New York\n",
      "\n",
      "Answer: Franklin County, New York\n",
      "================================================================================\n",
      "Franklin County, New York\n"
     ]
    }
   ],
   "source": [
    "result = answer_question_cte_fs(TEST_EXAMPLE['context'], TEST_EXAMPLE['question'])\n",
    "print(result['generation'])\n",
    "print(\"=\"*80)\n",
    "print(result['answer'])"
   ]
  },
  {
   "cell_type": "code",
   "execution_count": null,
   "metadata": {},
   "outputs": [],
   "source": [
    "#|export\n",
    "\n",
    "def load_qa_func(prompt_technique: str) -> Callable:\n",
    "    prompt_technique = prompt_technique.lower()\n",
    "    if prompt_technique == \"standard\":\n",
    "        return answer_question_standard\n",
    "    elif prompt_technique == \"cot-zs\":\n",
    "        return answer_question_cot_zs\n",
    "    elif prompt_technique == \"cot-fs\":\n",
    "        return answer_question_cot_fs\n",
    "    elif prompt_technique == \"cte\":\n",
    "        return answer_question_cte_fs\n",
    "    else:\n",
    "        raise ValueError(f\"Unknown prompt technique: {prompt_technique}\")"
   ]
  },
  {
   "cell_type": "code",
   "execution_count": null,
   "metadata": {},
   "outputs": [],
   "source": [
    "#|export\n",
    "\n",
    "def self_consistency_decorator(qa_func: Callable, n_samples: int = 10) -> Callable:\n",
    "    \"\"\"A decorator for Self-Consistency Prompting technique, which will apply majority voting on the answers.\"\"\"\n",
    "    def self_consistent_qa_func(\n",
    "        context: str,\n",
    "        question: str,\n",
    "        *args,\n",
    "        **kwargs,\n",
    "    ) -> dict:\n",
    "        results =  [qa_func(context, question, *args, **kwargs) for _ in range(n_samples)]\n",
    "        answers = [result[\"answer\"] for result in results]\n",
    "        majority_answer = Counter(answers).most_common(1)[0][0]\n",
    "        generation = \"\\n\\n\".join(result[\"generation\"] for result in results)\n",
    "        return dict(answer=majority_answer, generation=generation)\n",
    "\n",
    "    return self_consistent_qa_func"
   ]
  },
  {
   "cell_type": "code",
   "execution_count": null,
   "metadata": {},
   "outputs": [
    {
     "name": "stdout",
     "output_type": "stream",
     "text": [
      "Predicted Answer: Franklin County, New York ✅\n",
      "Reference Answers: ['Franklin County']\n",
      "\n",
      "Triplets:\n",
      "Perry Township | located in | Clinton County, Indiana\n",
      "Clinton County, Indiana | shares border with | Franklin County, New York\n",
      "\n",
      "Answer: Franklin County, New York\n",
      "\n",
      "Triplets:\n",
      "Perry Township | located in | Clinton County, Indiana\n",
      "\n",
      "Answer: Clinton County, Indiana\n",
      "\n",
      "Triplets:\n",
      "Perry Township | located in | Clinton County, Indiana\n",
      "\n",
      "Answer: Clinton County, Indiana\n",
      "\n",
      "Triplets:\n",
      "Perry Township, Clinton County, Indiana | located in | Clinton County, Indiana\n",
      "Clinton County, Indiana | shares border with | Franklin County, New York\n",
      "\n",
      "Answer: Franklin County, New York\n",
      "\n",
      "Triplets:\n",
      "Perry Township, Clinton County, Indiana | located in | Clinton County, Indiana\n",
      "Clinton County, Indiana | shares border with | Franklin County, New York\n",
      "\n",
      "Answer: Franklin County, New York\n"
     ]
    }
   ],
   "source": [
    "from bellem.text.utils import fuzzy_match\n",
    "\n",
    "result = self_consistency_decorator(answer_question_cte_fs, n_samples=5)(TEST_EXAMPLE[\"context\"], TEST_EXAMPLE[\"question\"])\n",
    "predicted_answer = result[\"answer\"]\n",
    "emoji = \"✅\" if any(fuzzy_match(predicted_answer,  ref_ans) for ref_ans in TEST_EXAMPLE[\"answers\"]) else \"❌\"\n",
    "print(\"Predicted Answer:\", result[\"answer\"], emoji)\n",
    "print(\"Reference Answers:\", TEST_EXAMPLE[\"answers\"])\n",
    "print()\n",
    "print(result[\"generation\"])"
   ]
  },
  {
   "cell_type": "code",
   "execution_count": null,
   "metadata": {},
   "outputs": [],
   "source": [
    "#|hide\n",
    "import nbdev; nbdev.nbdev_export()"
   ]
  }
 ],
 "metadata": {
  "kernelspec": {
   "display_name": "python3",
   "language": "python",
   "name": "python3"
  }
 },
 "nbformat": 4,
 "nbformat_minor": 2
}

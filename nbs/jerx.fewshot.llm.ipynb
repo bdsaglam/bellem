{
 "cells": [
  {
   "cell_type": "markdown",
   "metadata": {},
   "source": [
    "# Few-shot JERX task"
   ]
  },
  {
   "cell_type": "code",
   "execution_count": null,
   "metadata": {},
   "outputs": [],
   "source": [
    "#|default_exp jerx.fewshot.llm"
   ]
  },
  {
   "cell_type": "code",
   "execution_count": null,
   "metadata": {},
   "outputs": [],
   "source": [
    "#|hide\n",
    "from fastcore.test import *\n",
    "from nbdev.showdoc import *"
   ]
  },
  {
   "cell_type": "code",
   "execution_count": null,
   "metadata": {},
   "outputs": [],
   "source": [
    "#|export\n",
    "from openai import OpenAI\n",
    "from bellem.jerx.utils import parse_triplets\n",
    "from bellem.logging import get_logger\n",
    "\n",
    "log = get_logger(__name__)"
   ]
  },
  {
   "cell_type": "code",
   "execution_count": null,
   "metadata": {},
   "outputs": [
    {
     "data": {
      "text/plain": [
       "True"
      ]
     },
     "execution_count": null,
     "metadata": {},
     "output_type": "execute_result"
    }
   ],
   "source": [
    "#|hide\n",
    "from dotenv import load_dotenv\n",
    "load_dotenv()"
   ]
  },
  {
   "cell_type": "code",
   "execution_count": null,
   "metadata": {},
   "outputs": [],
   "source": [
    "#|export\n",
    "\n",
    "DEFAULT_FEW_SHOT_EXAMPLE_MESSAGES = [\n",
    "    dict(\n",
    "        role=\"user\",\n",
    "        content=\"\"\"\n",
    "Glenhis Hernández (born 7 October 1990 in Havana) is a taekwondo practitioner from Cuba. She was the 2013 World\n",
    "Champion in middleweight.\n",
    "\n",
    "The current mayor of Havana (\"President of the People's Power Provincial Assembly\") is Marta Hernández Romero, she\n",
    "was elected on March 5, 2011.\n",
    "\"\"\".strip(),\n",
    "    ),\n",
    "    dict(\n",
    "        role=\"assistant\",\n",
    "        content=\"\"\"\n",
    "Glenhis Hernández (Athlete) | born on | October 7, 1990\n",
    "Glenhis Hernández (Athlete) | birth place | Havana\n",
    "Glenhis Hernández (Athlete) | specializes in | taekwondo\n",
    "Glenhis Hernández (Athlete) | won | 2013 World Champion title (Middleweight)\n",
    "Marta Hernández Romero (Politician) | serves as | mayor of Havana\n",
    "Marta Hernández Romero (Politician) | holds | the position of \"President of the People's Power Provincial Assembly\"\n",
    "Marta Hernández Romero (Politician) | elected on | March 5, 2011.\n",
    "\"\"\".strip(),\n",
    "    ),\n",
    "    dict(role=\"user\", content=\"A Wizard of Mars was written by Diane Duane and is available in print form.\"),\n",
    "    dict(\n",
    "        role=\"assistant\", content=\"\"\"\n",
    "A Wizard of Mars | author | Diane Duane\n",
    "A Wizard of Mars | media type | Print\n",
    "\"\"\".strip(),\n",
    "    ),\n",
    "    dict(\n",
    "        role=\"user\",\n",
    "        content=\"The United States Air Force, which fought in the Korean War, operates the Al Asad airbase. Among the USAF attack aircraft are the Lockheed C-130, which serves as a transport plane, the General Dynamics F-16 Fighting Falcon and the attack aircraft Lockheed AC-130. The orbital Period of 1001 Gaussia is 5.75 days and the epoch date is 27 June 2015. The Abarth company makes the Abarth 1000 GT Coupe and was founded in Bologna.\",\n",
    "    ),\n",
    "    dict(\n",
    "        role=\"assistant\",\n",
    "        content=\"\"\"\n",
    "Al Asad Airbase | operating organisation | United States Air Force\n",
    "United States Air Force | attack aircraft | Lockheed AC-130\n",
    "United States Air Force | battle | Korean War\n",
    "United States Air Force | aircraft fighter | General Dynamics F-16 Fighting Falcon\n",
    "United States Air Force | transport aircraft | Lockheed C-130 Hercules\n",
    "1001 Gaussia | epoch | 2015-06-27\n",
    "1001 Gaussia | orbital period | 5.75 (days)\n",
    "Abarth | foundation place | Bologna\n",
    "Abarth 1000 GT Coupé | manufacturer | Abarth\n",
    "\"\"\".strip(),\n",
    "    ),\n",
    "]"
   ]
  },
  {
   "cell_type": "code",
   "execution_count": null,
   "metadata": {},
   "outputs": [],
   "source": [
    "#|export\n",
    "\n",
    "DEFAULT_JERX_SYSTEM_MESSAGE_FOR_GPT = \"\"\"\n",
    "You are an excellent joint entity-relation extraction algorithm. Your extract knowledge triplets in the form of (subject, relation, object) from user's messages. The goal is to create a network of entities and their interrelations that enables answering complex, multi-hop questions. This requires careful analysis to identify and categorize entities (such as individuals, locations, organizations) and the specific, nuanced relationships between them.\n",
    "\n",
    "# Guidelines\n",
    "The goal is to build a detailed and accurate map of entities and their interrelations, enabling a comprehensive understanding of the document's content and supporting the answering of detailed, multi-hop questions derived from or related to the document. Prepare to adapt your extraction techniques to the nuances and specifics presented by the document, recognizing the diversity in structures and styles across documents.\n",
    "\n",
    "# Core Objectives\n",
    "- **Comprehensive Entity and Relation Identification**: Systematically identify all relevant entities and their relationships within the document. Each entity and relation must be captured with precision, reflecting the document's depth of information.\n",
    "\n",
    "- **Entity Differentiation and Categorization**: Distinguish between different types of entities, avoiding the amalgamation of distinct entities into a single category. For instance, separate individuals from their professions or titles and define their relationship clearly.\n",
    "\n",
    "- **Clarification of Relationships and Avoidance of Redundancy**: Ensure each relationship is clearly defined, avoiding duplicate information. Relations should form a coherent, logical network, mapping connections between entities accurately, especially in hierarchical or geographic contexts.\n",
    "\n",
    "- **Inference of Implicit Relations**: Infer and articulate relations that are implied but not explicitly stated within the document. This nuanced understanding allows for a richer, more interconnected entity-relation map.\n",
    "\n",
    "- **Consistency and Cross-Validation**: Maintain consistency in entity references throughout the document and cross-validate entities and relations for accuracy. This includes harmonizing multiple references to the same entity and ensuring the entity-relation map is free from contradictions.\n",
    "\n",
    "- **Detail-Oriented Relation Extraction**: Pay attention to the details within relations, capturing temporal and quantitative aspects where relevant. This adds depth to the understanding of each relationship, enhancing the capability to answer nuanced questions. Capture date and time relations with full detail as much as possible.\n",
    "\n",
    "# Disambiguation and Unique Identification:\n",
    "- **Explicit Disambiguation of Identical Names**: When encountering entities with identical names, explicitly disambiguate them by adding context-specific qualifiers in parentheses. These qualifiers should reflect the nature or category of the entity to prevent confusion and ensure clear differentiation. For example, differentiate geographical locations from non-geographical entities, people from non-person entities, and temporal from non-temporal entities with appropriate qualifiers.\n",
    "\n",
    "# Formatting\n",
    "- Avoid stopwords.\n",
    "- Encode dates in the format: January 1, 1990\n",
    "- Employ the format: `entity1 | relation | entity2` for each extracted relation, ensuring clarity and precision in representation. Each triplet should be in a new line.\n",
    "\"\"\".strip()"
   ]
  },
  {
   "cell_type": "code",
   "execution_count": null,
   "metadata": {},
   "outputs": [],
   "source": [
    "#|export\n",
    "\n",
    "DEFAULT_JERX_SYSTEM_MESSAGE_FOR_LLAMA = \"\"\"\n",
    "You are an excellent knowledge graph construction agent. Extract knowledge triplets in the form of (subject, relation, object) from user's messages. Avoid stopwords. Use ' | ' as delimiter and provide one triplet per line.\n",
    "\"\"\".strip()"
   ]
  },
  {
   "cell_type": "code",
   "execution_count": null,
   "metadata": {},
   "outputs": [],
   "source": [
    "# |export\n",
    "\n",
    "\n",
    "def parse_triplet_response(response: str, *args, **kwargs) -> list[tuple[str, str, str]]:\n",
    "    triplets = parse_triplets(response.strip())\n",
    "    return [(e1, rel, e2) if e1 != e2 else (e1, rel, e2 + \"(obj)\") for e1, rel, e2 in triplets]\n",
    "\n",
    "\n",
    "def make_kg_triplet_extract_fn(\n",
    "    *,\n",
    "    model: str = \"gpt-3.5-turbo\",\n",
    "    prefix_messages: list[dict] | None = None,\n",
    "    client: OpenAI = None,\n",
    "    completion_params: dict | None = None,\n",
    "):\n",
    "    if client is None:\n",
    "        client = OpenAI()\n",
    "\n",
    "    if prefix_messages is None:\n",
    "        if \"gpt\" in model:\n",
    "            system_message = DEFAULT_JERX_SYSTEM_MESSAGE_FOR_GPT\n",
    "        elif \"llama\" in model:\n",
    "            system_message = DEFAULT_JERX_SYSTEM_MESSAGE_FOR_LLAMA\n",
    "        else:\n",
    "            raise ValueError(f\"Unsupported model name: {model}\")\n",
    "\n",
    "        prefix_messages = [\n",
    "            dict(role=\"system\", content=system_message),\n",
    "            *DEFAULT_FEW_SHOT_EXAMPLE_MESSAGES,\n",
    "        ]\n",
    "\n",
    "    if completion_params is None:\n",
    "        completion_params = {}\n",
    "    \n",
    "    def extract_kg_triplets(text: str) -> list[tuple[str, str, str]]:\n",
    "        messages = [*prefix_messages, dict(role=\"user\", content=text)]\n",
    "        chat_completion = client.chat.completions.create(\n",
    "            model=model,\n",
    "            messages=messages,\n",
    "            **completion_params,\n",
    "        )\n",
    "        text = chat_completion.choices[0].message.content\n",
    "        return parse_triplet_response(text)\n",
    "\n",
    "    return extract_kg_triplets"
   ]
  },
  {
   "cell_type": "code",
   "execution_count": null,
   "metadata": {},
   "outputs": [
    {
     "name": "stdout",
     "output_type": "stream",
     "text": [
      "('Midland', 'located in', 'Midland County, Texas, United States')\n",
      "('Midland', 'county seat of', 'Midland County, Texas')\n",
      "('Midland', 'situated on', 'Southern Plains of Texas')\n",
      "('Midland', 'located in', 'Western area of Texas')\n",
      "('Midland', 'extends into', 'Martin County')\n",
      "('KNFM (92.3 FM)', 'radio station', '\"Lonestar 92\"')\n",
      "('KNFM (92.3 FM)', 'format', 'Country music')\n",
      "('KNFM (92.3 FM)', 'serves', 'Midland–Odessa metropolitan area')\n",
      "('KNFM (92.3 FM)', 'frequency', '92.3 (FM)')\n",
      "('KNFM (92.3 FM)', 'owned by', 'Townsquare Media')\n"
     ]
    }
   ],
   "source": [
    "extract_kg_triplets = make_kg_triplet_extract_fn()\n",
    "\n",
    "text = \"\"\"\n",
    "Midland is a city in and the county seat of Midland County, Texas, United States, on the Southern Plains of the state's western area. A small portion of the city extends into Martin County.\n",
    "KNFM (92.3 FM), branded as \"Lonestar 92\", is a Country music formatted radio station that serves the Midland–Odessa metropolitan area. The station broadcasts on FM frequency 92.3 and is under ownership of Townsquare Media.\n",
    "\"\"\".strip()\n",
    "\n",
    "triplets = extract_kg_triplets(text)\n",
    "for triplet in triplets:\n",
    "    print(triplet)"
   ]
  },
  {
   "cell_type": "code",
   "execution_count": null,
   "metadata": {},
   "outputs": [],
   "source": [
    "#|hide\n",
    "import nbdev; nbdev.nbdev_export()"
   ]
  }
 ],
 "metadata": {
  "kernelspec": {
   "display_name": "python3",
   "language": "python",
   "name": "python3"
  }
 },
 "nbformat": 4,
 "nbformat_minor": 2
}

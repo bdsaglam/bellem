{
 "cells": [
  {
   "cell_type": "markdown",
   "metadata": {},
   "source": [
    "# Quality reward model JERX task"
   ]
  },
  {
   "cell_type": "code",
   "execution_count": null,
   "metadata": {},
   "outputs": [],
   "source": [
    "#|default_exp jerx.reward.llm"
   ]
  },
  {
   "cell_type": "code",
   "execution_count": null,
   "metadata": {},
   "outputs": [],
   "source": [
    "#|hide\n",
    "from fastcore.test import *\n",
    "from nbdev.showdoc import *"
   ]
  },
  {
   "cell_type": "code",
   "execution_count": null,
   "metadata": {},
   "outputs": [],
   "source": [
    "#|export\n",
    "import magentic\n",
    "from pydantic import BaseModel, Field\n",
    "\n",
    "from bellem.logging import get_logger\n",
    "\n",
    "log = get_logger(__name__)"
   ]
  },
  {
   "cell_type": "code",
   "execution_count": null,
   "metadata": {},
   "outputs": [
    {
     "data": {
      "text/plain": [
       "True"
      ]
     },
     "execution_count": null,
     "metadata": {},
     "output_type": "execute_result"
    }
   ],
   "source": [
    "#|hide\n",
    "from dotenv import load_dotenv\n",
    "load_dotenv()"
   ]
  },
  {
   "cell_type": "code",
   "execution_count": null,
   "metadata": {},
   "outputs": [],
   "source": [
    "#|export\n",
    "\n",
    "SYSTEM_PROMPT = \"\"\"\n",
    "Assess the quality of the entity-relation-entity triplets extracted from the document. Provide a brief explanation for your assessment and a score between 0 and 1. The score should reflect the quality of the triplets in terms of their relevance and completeness. The explanation should describe the strengths and weaknesses of the triplets and how they could be improved. Your output must \n",
    "Reasoning: 1-line explanation of the assessment.\n",
    "Score: a number between 0 and 1.\n",
    "\"\"\".strip()\n",
    "\n",
    "@magentic.chatprompt(\n",
    "        magentic.SystemMessage(SYSTEM_PROMPT),\n",
    "        magentic.UserMessage(\"\"\"\n",
    "# Document\n",
    "Washington Township is one of the thirteen townships of Henry County, Ohio, United States. As of the 2010\n",
    "census the population was 1,912, of whom 1,794 lived in the unincorporated portion of the township.\n",
    "# Triplets\n",
    "Washington Township | is one of | thirteen townships of Henry County\n",
    "Washington Township | located in | Henry County, Ohio\n",
    "Washington Township | had population in 2010 census | 1,912\n",
    "Unincorporated portion of Washington Township | had population in 2010 census | 1,794\n",
    "Washington Township | part of census | 2010\n",
    "\"\"\".strip()),\n",
    "        magentic.AssistantMessage(\"\"\"\n",
    "Reasoning: The triplets are well-crafted and highly relevant but miss some opportunities for providing comprehensive details that would make them even more useful for answering a broader range of related questions.\n",
    "Score: 0.6\n",
    "\"\"\".strip()),\n",
    "        magentic.UserMessage(\"\"\"\n",
    "# Document\n",
    "Turkeycock Mountain is a mountain summit located in Franklin County, Virginia and Henry County, Virginia.\n",
    "Rising out of the eastern foothills of the Blue Ridge Mountains, Turkeycock Mountain rises to above sea level and is\n",
    "located at . A portion of the mountain is protected as the Turkeycock Wildlife Management Area, which is open to the\n",
    "public.\n",
    "\n",
    "# Triplets\n",
    "Turkeycock Mountain | located in | Franklin County, Virginia\n",
    "Turkeycock Mountain | located in | Henry County, Virginia\n",
    "Turkeycock Mountain | part of | Blue Ridge Mountains\n",
    "Turkeycock Mountain | feature | rises to above sea level\n",
    "Turkeycock Mountain | rises from | eastern foothills of Blue Ridge Mountains\n",
    "Turkeycock Mountain | elevation | above sea level\n",
    "Turkeycock Wildlife Management Area | part of | Turkeycock Mountain\n",
    "Turkeycock Wildlife Management Area | status | protected\n",
    "Turkeycock Wildlife Management Area | open to | public\n",
    "Turkeycock Wildlife Management Area | allows | public access\n",
    "\"\"\".strip()),\n",
    "        magentic.AssistantMessage(\"\"\"\n",
    "Reasoning: The triplets are accurate and complete.\n",
    "Score: 1.0\n",
    "\"\"\".strip()),\n",
    "        magentic.UserMessage(\"\"\"\n",
    "# Document\n",
    "Joachim II ( or \"Hektor\"; 13 January 1505 – 3 January 1571) was a Prince-elector of the Margraviate of Brandenburg (1535–1571), the sixth member of the House of Hohenzollern. Joachim II was the eldest son of Joachim I Nestor, Elector of Brandenburg and his wife Elizabeth of Denmark, Norway, and Sweden. He received the cognomen Hector after the Trojan prince and warrior for his qualities and prowess.\n",
    "\n",
    "# Triplets\n",
    "Joachim II | legacy | helped to establish the Hohenzollern dynasty as a major power in Europe\n",
    "Joachim II | legacy | helped to establish the Hohenzollern dynasty as a major power in Europe\n",
    "Joachim II | legacy | helped to establish the Hohenzollern dynasty as a major power in Europe\n",
    "Joachim II | legacy | helped to establish the Hohenzollern dynasty as a major power in Europe\n",
    "Joachim II | legacy | helped to establish the Hohenzollern dynasty as a major power in the world\n",
    "Joachim II | legacy | helped to establish the Hohenzollern dynasty as a major power in the world\n",
    "Joachim II | legacy | helped to establish the Hohenzollern dynasty as a major power in the world\n",
    "Joachim II | legacy | helped to establish the Hohenzollern dynasty as a major power in the world\n",
    "Joachim II | legacy | helped to establish the Hohenzollern dynasty as a major power in the world\n",
    "Joachim II | legacy | helped to establish the Hohenzollern dynasty as a major power in the world\n",
    "Joachim II | legacy | helped to establish the Hohenzollern dynasty as a major power in the world\n",
    "Joachim II | legacy | helped to establish the Hohenzollern dynasty as a major power in the world\n",
    "Joachim II | legacy | helped to establish the Hohenzollern dynasty as a major power in the world\n",
    "\"\"\".strip()),\n",
    "        magentic.AssistantMessage(\"\"\"\n",
    "Reasoning: There are many duplicate triplets in the response and the triplets do not capture the full range of information in the document. The format of each triplet is correct.\n",
    "Score: 0.05\n",
    "\"\"\".strip()),\n",
    "\n",
    "        magentic.UserMessage(\"\"\"\n",
    "# Document\n",
    "{document}\n",
    "\n",
    "# Triplets\n",
    "{triplets_str}\n",
    "\"\"\".strip()),\n",
    ")\n",
    "def _assess_triplets(document: str, triplets_str: str) -> str: ...\n"
   ]
  },
  {
   "cell_type": "code",
   "execution_count": null,
   "metadata": {},
   "outputs": [],
   "source": [
    "#|export\n",
    "\n",
    "class Assessment(BaseModel):\n",
    "    reasoning: str = Field(description=\"A brief reasoning for the assessment.\")\n",
    "    reward: float = Field(ge=0, le=1, description=\"The reward of the assessment.\")\n",
    "\n",
    "def assess_quality(document: str, triplets_str: str) -> Assessment:\n",
    "    result = _assess_triplets(document, triplets_str)\n",
    "    lines = result.splitlines()\n",
    "    if len(lines) < 2:\n",
    "        return Assessment(reasoning=result, reward=0.0)\n",
    "    \n",
    "    last_line = lines[-1]\n",
    "    if not last_line.startswith(\"Score: \"):\n",
    "        return Assessment(reasoning=result, reward=0.0)\n",
    "    \n",
    "    reward = float(last_line[len(\"Score:\"):].strip())\n",
    "    return Assessment(reasoning=\"\\n\".join(lines[:-1]), reward=reward)"
   ]
  },
  {
   "cell_type": "code",
   "execution_count": null,
   "metadata": {},
   "outputs": [
    {
     "data": {
      "text/plain": [
       "Assessment(explanation='Reasoning: The triplets correctly capture the key information about both individuals, though there is a minor redundancy in specifying the occupation in parentheses.', reward=0.9)"
      ]
     },
     "execution_count": null,
     "metadata": {},
     "output_type": "execute_result"
    }
   ],
   "source": [
    "document = \"\"\"\n",
    "Glenhis Hernández (born 7 October 1990 in Havana) is a taekwondo practitioner from Cuba. She was the 2013 World\n",
    "Champion in middleweight.\n",
    "\n",
    "The current mayor of Havana (\"President of the People's Power Provincial Assembly\") is Marta Hernández Romero, she\n",
    "was elected on March 5, 2011.\n",
    "\"\"\".strip()\n",
    "\n",
    "triplets_str = \"\"\"\n",
    "Glenhis Hernández (Athlete) | born on | October 7, 1990\n",
    "Glenhis Hernández (Athlete) | birth place | Havana\n",
    "Glenhis Hernández (Athlete) | specializes in | taekwondo\n",
    "Glenhis Hernández (Athlete) | won | 2013 World Champion title (Middleweight)\n",
    "Marta Hernández Romero (Politician) | serves as | mayor of Havana\n",
    "Marta Hernández Romero (Politician) | holds | the position of \"President of the People's Power Provincial Assembly\"\n",
    "Marta Hernández Romero (Politician) | elected on | March 5, 2011\n",
    "\"\"\".strip()\n",
    "\n",
    "result = assess_quality(document, triplets_str)\n",
    "result"
   ]
  },
  {
   "cell_type": "code",
   "execution_count": null,
   "metadata": {},
   "outputs": [
    {
     "data": {
      "text/plain": [
       "Assessment(explanation=\"Reasoning: The triplets are mostly accurate and capture the essential information, but there are some inaccuracies and missed details such as the date and location of the 9th BRICS summit, as well as the distinction that South Africa was inducted into BRICS in 2010. Also, BRIC's formation year is not mentioned in the document.\", reward=0.7)"
      ]
     },
     "execution_count": null,
     "metadata": {},
     "output_type": "execute_result"
    }
   ],
   "source": [
    "document = \"\"\"\n",
    "BRICS is the acronym for an association of five major emerging national economies: Brazil, Russia, India, China and South Africa. Originally the first four were grouped as ``BRIC ''(or`` the BRICs''), before the induction of South Africa in 2010. The BRICS members are all leading developing or newly industrialized countries, but they are distinguished by their large, sometimes fast - growing economies and significant influence on regional affairs; all five are G - 20 members. Since 2009, the BRICS nations have met annually at formal summits. China hosted the 9th BRICS summit in Xiamen on September 3rd, 4th and 5th, 2017. The term does not include countries such as South Korea, Mexico and Turkey for which other acronyms and group associations were later created.\n",
    "\"\"\".strip()\n",
    "\n",
    "triplets_str = \"\"\"\n",
    "BRICS | acronym | Brazil, Russia, India, China, South Africa\n",
    "BRIC | acronym | Brazil, Russia, India, China\n",
    "BRIC | year of formation | 2001\n",
    "BRIC | year of induction of South Africa | 2010\n",
    "BRICS members | characteristic | leading developing or newly industrialized countries\n",
    "BRICS members | characteristic | large economies\n",
    "BRICS members | characteristic | significant influence on regional affairs\n",
    "BRICS members | characteristic | G-20 members\n",
    "BRICS summits | frequency | annual\n",
    "\"\"\".strip()\n",
    "\n",
    "result = assess_quality(document, triplets_str)\n",
    "result"
   ]
  },
  {
   "cell_type": "code",
   "execution_count": null,
   "metadata": {},
   "outputs": [],
   "source": [
    "#|hide\n",
    "import nbdev; nbdev.nbdev_export()"
   ]
  }
 ],
 "metadata": {
  "kernelspec": {
   "display_name": "python3",
   "language": "python",
   "name": "python3"
  }
 },
 "nbformat": 4,
 "nbformat_minor": 2
}

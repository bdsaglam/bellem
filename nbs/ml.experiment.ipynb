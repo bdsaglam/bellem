{
 "cells": [
  {
   "attachments": {},
   "cell_type": "markdown",
   "metadata": {},
   "source": [
    "# Experiment"
   ]
  },
  {
   "cell_type": "code",
   "execution_count": null,
   "metadata": {},
   "outputs": [],
   "source": [
    "#|default_exp ml.experiment"
   ]
  },
  {
   "cell_type": "code",
   "execution_count": null,
   "metadata": {},
   "outputs": [],
   "source": [
    "#|hide\n",
    "from fastcore.test import *\n",
    "from nbdev.showdoc import *"
   ]
  },
  {
   "cell_type": "code",
   "execution_count": null,
   "metadata": {},
   "outputs": [],
   "source": [
    "#|export\n",
    "\n",
    "import os\n",
    "from pathlib import Path\n",
    "import wandb\n",
    "import json\n",
    "from bellem.ds import NestedDict, flatten_dict"
   ]
  },
  {
   "cell_type": "code",
   "execution_count": null,
   "metadata": {},
   "outputs": [],
   "source": [
    "#|export\n",
    "\n",
    "def make_experiment_dir(root=\".experiments\", name=None):\n",
    "    if name is None:\n",
    "        from bellem.utils import generate_time_id\n",
    "        name = generate_time_id()\n",
    "    experiment_dir = Path(root) / name\n",
    "    experiment_dir.mkdir(parents=True, exist_ok=True)\n",
    "    return experiment_dir"
   ]
  },
  {
   "cell_type": "code",
   "execution_count": null,
   "metadata": {},
   "outputs": [],
   "source": [
    "#|export\n",
    "\n",
    "def before_experiment(wandb_run):\n",
    "    config = NestedDict.from_flat_dict(wandb_run.config)\n",
    "\n",
    "    # W&B variables\n",
    "    config.set(\"wandb.id\", wandb_run.id)\n",
    "    os.environ[\"WANDB_PROJECT\"] = wandb_run.project\n",
    "    os.environ[\"WANDB_LOG_MODEL\"] = \"end\"\n",
    "\n",
    "    # Set random seed\n",
    "    if seed := config.get(\"seed\"):\n",
    "        from fastai.torch_core import set_seed\n",
    "\n",
    "        set_seed(seed)\n",
    "\n",
    "    pp_config = config.at(\"metaconfig.preprocessing\")\n",
    "    \n",
    "    # Resolve paths\n",
    "    if pp_config.get(\"resolve_paths\"):\n",
    "        exclude_resolving_paths = pp_config.get(\"exclude_resolving_paths\", [])\n",
    "        for k, v in config.flat().items():\n",
    "            if isinstance(k, str) and k.endswith(\"path\") and k not in exclude_resolving_paths:\n",
    "                config.set(k, str(Path(v).resolve()))\n",
    "\n",
    "    # Resolve device\n",
    "    if \"device\" not in config and pp_config.get(\"resolve_device\"):\n",
    "        import torch\n",
    "\n",
    "        config[\"device\"] = torch.device(\"cuda\" if torch.cuda.is_available() else \"cpu\")\n",
    "\n",
    "    # Update W&B config\n",
    "    wandb_run.config.update(flatten_dict(config), allow_val_change=True)\n",
    "\n",
    "    # Save preprocessed config\n",
    "    with open(\"./config.before.json\", \"w\") as f:\n",
    "        json.dump(config, f, indent=2)\n",
    "\n",
    "\n",
    "def after_experiment(wandb_run):\n",
    "    config = NestedDict.from_flat_dict(wandb_run.config)\n",
    "    with open(\"./config.after.json\", \"w\") as f:\n",
    "        json.dump(config, f, indent=2)"
   ]
  },
  {
   "cell_type": "code",
   "execution_count": null,
   "metadata": {},
   "outputs": [],
   "source": [
    "#|export\n",
    "\n",
    "def make_run_experiment_sweep(run_experiment, config_defaults):\n",
    "    def func():\n",
    "        wandb_params = config_defaults[\"wandb\"]\n",
    "        with wandb.init(config=flatten_dict(config_defaults), **wandb_params) as wandb_run:\n",
    "            before_experiment(wandb_run)\n",
    "            run_experiment(wandb_run)\n",
    "            after_experiment(wandb_run)\n",
    "    return func\n",
    "\n",
    "def main(run_experiment, args):\n",
    "    with open(args.cfg) as f:\n",
    "        config = NestedDict(json.load(f))\n",
    "\n",
    "    is_sweep = hasattr(args, \"sweep_cfg\") and args.sweep_cfg\n",
    "    if is_sweep:\n",
    "        with open(args.sweep_cfg) as f:\n",
    "            sweep_config = json.load(f)\n",
    "    else:\n",
    "        sweep_config = {}\n",
    "\n",
    "    run_experiment_sweep = make_run_experiment_sweep(run_experiment, config)\n",
    "    if is_sweep:\n",
    "        wandb_params = config[\"wandb\"]\n",
    "        count = sweep_config.pop(\"count\") if \"count\" in sweep_config else None\n",
    "        sweep_id = wandb.sweep(\n",
    "            sweep_config,\n",
    "            entity=wandb_params[\"entity\"],\n",
    "            project=wandb_params[\"project\"],\n",
    "        )\n",
    "        wandb.agent(sweep_id, run_experiment_sweep, count=count)\n",
    "    else:\n",
    "        run_experiment_sweep()\n"
   ]
  },
  {
   "cell_type": "code",
   "execution_count": null,
   "metadata": {},
   "outputs": [],
   "source": [
    "#|hide\n",
    "import nbdev; nbdev.nbdev_export()"
   ]
  }
 ],
 "metadata": {
  "kernelspec": {
   "display_name": "python3",
   "language": "python",
   "name": "python3"
  }
 },
 "nbformat": 4,
 "nbformat_minor": 2
}

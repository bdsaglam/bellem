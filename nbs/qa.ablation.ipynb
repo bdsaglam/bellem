{
 "cells": [
  {
   "cell_type": "markdown",
   "metadata": {},
   "source": [
    "# Question answering with LLM"
   ]
  },
  {
   "cell_type": "code",
   "execution_count": null,
   "metadata": {},
   "outputs": [],
   "source": [
    "#|default_exp qa.ablation"
   ]
  },
  {
   "cell_type": "code",
   "execution_count": null,
   "metadata": {},
   "outputs": [],
   "source": [
    "#|hide\n",
    "from fastcore.test import *\n",
    "from nbdev.showdoc import *"
   ]
  },
  {
   "cell_type": "code",
   "execution_count": null,
   "metadata": {},
   "outputs": [
    {
     "data": {
      "text/plain": [
       "True"
      ]
     },
     "execution_count": null,
     "metadata": {},
     "output_type": "execute_result"
    }
   ],
   "source": [
    "#|hide\n",
    "from dotenv import load_dotenv\n",
    "load_dotenv()"
   ]
  },
  {
   "cell_type": "code",
   "execution_count": null,
   "metadata": {},
   "outputs": [],
   "source": [
    "#|export\n",
    "import magentic\n",
    "from pydantic import BaseModel, Field\n",
    "\n",
    "from bellem.logging import get_logger\n",
    "\n",
    "log = get_logger(__name__)"
   ]
  },
  {
   "cell_type": "code",
   "execution_count": null,
   "metadata": {},
   "outputs": [],
   "source": [
    "#|export\n",
    "\n",
    "USER_PROMPT = \"\"\"The context information is provided below.\n",
    "---------------------\n",
    "{context}\n",
    "---------------------\n",
    "Given the context information and not prior knowledge, answer the question.\n",
    "{question}\n",
    "\"\"\""
   ]
  },
  {
   "cell_type": "code",
   "execution_count": null,
   "metadata": {},
   "outputs": [],
   "source": [
    "#|export\n",
    "\n",
    "SYSTEM_PROMPT_STANDARD = \"\"\"You are an excellent question-answering system known for providing accurate and reliable answers. Your responses should be solely based on the context information given, without drawing on prior knowledge.\"\"\"\n",
    "\n",
    "class QuestionAnsweringResultStandard(BaseModel):\n",
    "    \"\"\"Data model for answering the question.\"\"\"\n",
    "\n",
    "    answer: str = Field(description=\"The answer to the question in 2-4 words.\")\n",
    "\n",
    "\n",
    "@magentic.chatprompt(\n",
    "    magentic.SystemMessage(SYSTEM_PROMPT_STANDARD), \n",
    "    magentic.UserMessage(USER_PROMPT),\n",
    ")\n",
    "def answer_question_standard(\n",
    "    context: str,\n",
    "    question: str,\n",
    ") -> QuestionAnsweringResultStandard: ..."
   ]
  },
  {
   "cell_type": "code",
   "execution_count": null,
   "metadata": {},
   "outputs": [],
   "source": [
    "#|export\n",
    "\n",
    "SYSTEM_PROMPT_COT = \"\"\"You are an excellent question-answering system known for providing accurate and reliable answers. Your responses should be solely based on the context information given, without drawing on prior knowledge. Always provide clear and logical step-by-step reasoning in your response.\"\"\"\n",
    "\n",
    "class QuestionAnsweringResultCOT(BaseModel):\n",
    "    \"\"\"Data model for answering the question.\"\"\"\n",
    "\n",
    "    reasoning: str = Field(description=\"Step-by-step reasoning for the answer.\")\n",
    "    answer: str = Field(description=\"The answer to the question in 2-4 words.\")\n",
    "\n",
    "\n",
    "@magentic.chatprompt(\n",
    "    magentic.SystemMessage(SYSTEM_PROMPT_COT), \n",
    "    magentic.UserMessage(USER_PROMPT),\n",
    ")\n",
    "def answer_question_cot(\n",
    "    context: str,\n",
    "    question: str,\n",
    ") -> QuestionAnsweringResultCOT: ..."
   ]
  },
  {
   "cell_type": "code",
   "execution_count": null,
   "metadata": {},
   "outputs": [],
   "source": [
    "#|export\n",
    "\n",
    "SYSTEM_PROMPT_COT_FS = \"\"\"You are an excellent question-answering system known for providing accurate and reliable answers. Your responses should be solely based on the context information given, without drawing on prior knowledge. Always provide clear and logical step-by-step reasoning in your response.\n",
    "\n",
    "# Example\n",
    "Context: \"Glenhis Hernández (born 7 October 1990 in Havana) is a taekwondo practitioner from Cuba. She was the 2013 World\n",
    "Champion in middleweight.\n",
    "\n",
    "The current mayor of Havana (\"President of the People's Power Provincial Assembly\") is Marta Hernández Romero, she\n",
    "was elected on March 5, 2011.\"\n",
    "\n",
    "Question: \"Who is the current mayor of the city Glenhis Hernández was born?\"\n",
    "\n",
    "Reasoning:\n",
    "1. The context states that Glenhis Hernández was born in Havana.\n",
    "2. It also mentions that the current mayor (President of the People's Power Provincial Assembly) of Havana is Marta Hernández Romero.\n",
    "3. Marta Hernández Romero has been the mayor since her election on March 5, 2011.\n",
    "\n",
    "Answer: \"Marta Hernández Romero\"\n",
    "\"\"\"\n",
    "\n",
    "class QuestionAnsweringResultCOTFS(BaseModel):\n",
    "    \"\"\"Data model for answering the question.\"\"\"\n",
    "\n",
    "    reasoning: str = Field(description=\"Step-by-step reasoning for the answer.\")\n",
    "    answer: str = Field(description=\"The answer to the question in 2-4 words.\")\n",
    "\n",
    "\n",
    "@magentic.chatprompt(\n",
    "    magentic.SystemMessage(SYSTEM_PROMPT_COT_FS), \n",
    "    magentic.UserMessage(USER_PROMPT),\n",
    ")\n",
    "def answer_question_cot_fs(\n",
    "    context: str,\n",
    "    question: str,\n",
    ") -> QuestionAnsweringResultCOTFS: ..."
   ]
  },
  {
   "cell_type": "code",
   "execution_count": null,
   "metadata": {},
   "outputs": [],
   "source": [
    "#|export\n",
    "\n",
    "SYSTEM_PROMPT_CTE = \"\"\"You are an excellent question-answering system known for providing accurate and reliable answers. Your responses should be solely based on the context information given, without drawing on prior knowledge.\n",
    "\n",
    "Before answering the question, first, you extract relevant entity-relation-entity triplets from the context. Then, you answer the question based on the triplets. For instance, \n",
    "\n",
    "# Example\n",
    "Context: \"Glenhis Hernández (born 7 October 1990 in Havana) is a taekwondo practitioner from Cuba. She was the 2013 World\n",
    "Champion in middleweight.\n",
    "\n",
    "The current mayor of Havana (\"President of the People's Power Provincial Assembly\") is Marta Hernández Romero, she\n",
    "was elected on March 5, 2011.\"\n",
    "\n",
    "Question: \"Who is the current mayor of city Glenhis Hernández was born?\"\n",
    "\n",
    "Triplets: \n",
    "Glenhis Hernández | birth place | Havana\n",
    "Marta Hernández Romero | serves as | mayor of Havana\n",
    "\n",
    "Answer: \"Marta Hernández Romero\"\n",
    "\"\"\"\n",
    "\n",
    "class _QuestionAnsweringResultCTE(BaseModel):\n",
    "    \"\"\"Data model for answering the question.\"\"\"\n",
    "\n",
    "    triplets: list[str] = Field(description=\"A list of entity-relation-entity triplets extracted from the context.\")\n",
    "    answer: str = Field(description=\"The answer to the question in 2-4 words.\")\n",
    "\n",
    "class QuestionAnsweringResultCTE(_QuestionAnsweringResultCTE):\n",
    "    reasoning: str = \"\"\n",
    "\n",
    "@magentic.chatprompt(\n",
    "    magentic.SystemMessage(SYSTEM_PROMPT_CTE), \n",
    "    magentic.UserMessage(USER_PROMPT),\n",
    ")\n",
    "def _answer_question_cte(\n",
    "    context: str,\n",
    "    question: str,\n",
    ") -> _QuestionAnsweringResultCTE: ...\n",
    "\n",
    "def answer_question_cte(\n",
    "    context: str,\n",
    "    question: str,\n",
    ") -> QuestionAnsweringResultCTE: \n",
    "    result = _answer_question_cte(context, question)\n",
    "    return QuestionAnsweringResultCTE(triplets=result.triplets, answer=result.answer)"
   ]
  },
  {
   "cell_type": "code",
   "execution_count": null,
   "metadata": {},
   "outputs": [],
   "source": [
    "#|export\n",
    "\n",
    "SYSTEM_PROMPT_CTE_COT = \"\"\"You are an excellent question-answering system known for providing accurate and reliable answers. Your responses should be solely based on context the information given, without drawing on prior knowledge. Always provide clear and logical step-by-step reasoning in your response.\n",
    "\n",
    "Before answering the question, first, you extract relevant entity-relation-entity triplets from the context. Then, you answer the question based on the triplets. For instance, \n",
    "\n",
    "# Example\n",
    "Context: \"Glenhis Hernández (born 7 October 1990 in Havana) is a taekwondo practitioner from Cuba. She was the 2013 World\n",
    "Champion in middleweight.\n",
    "\n",
    "The current mayor of Havana (\"President of the People's Power Provincial Assembly\") is Marta Hernández Romero, she\n",
    "was elected on March 5, 2011.\"\n",
    "\n",
    "Question: \"Who is the current mayor of city Glenhis Hernández was born?\"\n",
    "\n",
    "Triplets: \"Glenhis Hernández (Athlete) | born on | October 7, 1990\n",
    "Glenhis Hernández (Athlete) | birth place | Havana\n",
    "Glenhis Hernández (Athlete) | specializes in | taekwondo\n",
    "Glenhis Hernández (Athlete) | won | 2013 World Champion title (Middleweight)\n",
    "Marta Hernández Romero (Politician) | serves as | mayor of Havana\n",
    "Marta Hernández Romero (Politician) | holds | the position of 'President of the People's Power Provincial Assembly'\n",
    "Marta Hernández Romero (Politician) | elected on | March 5, 2011.\"\n",
    "\n",
    "Reasoning: \"Glenhis Hernández (Athlete) | birth place | Havana\n",
    "This indicates that Glenhis Hernández was born in Havana.\n",
    "\n",
    "Marta Hernández Romero (Politician) | serves as | mayor of Havana\n",
    "This states that Marta Hernández Romero is the mayor of Havana.\n",
    "\n",
    "From these triplets, we conclude that Marta Hernández Romero is the mayor of Havana.\"\n",
    "\n",
    "Answer: \"Marta Hernández Romero\"\n",
    "\"\"\"\n",
    "\n",
    "class QuestionAnsweringResultCTECOT(BaseModel):\n",
    "    \"\"\"Data model for answering the question.\"\"\"\n",
    "\n",
    "    triplets: list[str] = Field(description=\"A list of entity-relation-entity triplets extracted from the context.\")\n",
    "    reasoning: str = Field(description=\"Step-by-step reasoning for the answer.\")\n",
    "    answer: str = Field(description=\"The answer to the question in 2-4 words.\")\n",
    "\n",
    "\n",
    "@magentic.chatprompt(\n",
    "    magentic.SystemMessage(SYSTEM_PROMPT_CTE_COT), \n",
    "    magentic.UserMessage(USER_PROMPT),\n",
    ")\n",
    "def answer_question_cte_cot(\n",
    "    context: str,\n",
    "    question: str,\n",
    ") -> QuestionAnsweringResultCTECOT: ..."
   ]
  },
  {
   "cell_type": "code",
   "execution_count": null,
   "metadata": {},
   "outputs": [],
   "source": [
    "context = \"\"\"Sings America is an album released by David Hasselhoff in August 2004 (see 2004 in music). The album contains covers of songs originally made famous by artists such as Elvis Presley, The Beach Boys, Glen Campbell, Burt Bacharach and Madonna. The German release contains a bonus track, \"More Than Words Can Say\", which is the only original Hasselhoff composition on the album (written in conjunction with Wade Hubbard and Glenn Morrow).\"\"\"\n",
    "question = \"Who performed Sings America?\"\n",
    "answer = \"David Hasselhoff\""
   ]
  },
  {
   "cell_type": "code",
   "execution_count": null,
   "metadata": {},
   "outputs": [
    {
     "name": "stdout",
     "output_type": "stream",
     "text": [
      "David Hasselhoff\n"
     ]
    }
   ],
   "source": [
    "with magentic.OpenaiChatModel(\"gpt-3.5-turbo\", temperature=0.1):\n",
    "    result = answer_question_standard(context=context, question=question)\n",
    "print(result.answer)"
   ]
  },
  {
   "cell_type": "code",
   "execution_count": null,
   "metadata": {},
   "outputs": [
    {
     "name": "stdout",
     "output_type": "stream",
     "text": [
      "David Hasselhoff\n",
      "\n",
      "The album 'Sings America' was released by David Hasselhoff in August 2004, as mentioned in the context information.\n"
     ]
    }
   ],
   "source": [
    "with magentic.OpenaiChatModel(\"gpt-3.5-turbo\", temperature=0.1):\n",
    "    result = answer_question_cot(context=context, question=question)\n",
    "print(result.answer)\n",
    "print()\n",
    "print(result.reasoning)"
   ]
  },
  {
   "cell_type": "code",
   "execution_count": null,
   "metadata": {},
   "outputs": [
    {
     "name": "stdout",
     "output_type": "stream",
     "text": [
      "David Hasselhoff\n",
      "\n",
      "The context mentions that the album 'Sings America' was released by David Hasselhoff in August 2004. It contains covers of songs originally made famous by various artists, including Elvis Presley, The Beach Boys, Glen Campbell, Burt Bacharach, and Madonna. Additionally, the German release of the album includes a bonus track, 'More Than Words Can Say', which is the only original composition by David Hasselhoff.\n"
     ]
    }
   ],
   "source": [
    "with magentic.OpenaiChatModel(\"gpt-3.5-turbo\", temperature=0.1):\n",
    "    result = answer_question_cot_fs(context=context, question=question)\n",
    "print(result.answer)\n",
    "print()\n",
    "print(result.reasoning)"
   ]
  },
  {
   "cell_type": "code",
   "execution_count": null,
   "metadata": {},
   "outputs": [
    {
     "name": "stdout",
     "output_type": "stream",
     "text": [
      "David Hasselhoff\n",
      "\n",
      "The context information states that the album 'Sings America' was released by David Hasselhoff in August 2004. It mentions the covers of songs by various artists on the album, as well as the bonus track 'More Than Words Can Say,' which is an original Hasselhoff composition.\n"
     ]
    }
   ],
   "source": [
    "with magentic.OpenaiChatModel(\"gpt-3.5-turbo\", temperature=1.0):\n",
    "    result = answer_question_cot_fs(context=context, question=question)\n",
    "print(result.answer)\n",
    "print()\n",
    "print(result.reasoning)"
   ]
  },
  {
   "cell_type": "code",
   "execution_count": null,
   "metadata": {},
   "outputs": [
    {
     "name": "stdout",
     "output_type": "stream",
     "text": [
      "David Hasselhoff\n",
      "\n",
      "David Hasselhoff | released | Sings America\n",
      "\n",
      "\n"
     ]
    }
   ],
   "source": [
    "with magentic.OpenaiChatModel(\"gpt-3.5-turbo\", temperature=0.1):\n",
    "    result = answer_question_cte(context=context, question=question)\n",
    "print(result.answer)\n",
    "print()\n",
    "for triplet in result.triplets:\n",
    "    print(triplet)\n",
    "print()\n",
    "print(result.reasoning)"
   ]
  },
  {
   "cell_type": "code",
   "execution_count": null,
   "metadata": {},
   "outputs": [
    {
     "name": "stdout",
     "output_type": "stream",
     "text": [
      "David Hasselhoff\n",
      "\n",
      "David Hasselhoff (Musician) | released | Sings America album\n",
      "David Hasselhoff (Musician) | released in | August 2004\n",
      "David Hasselhoff (Musician) | album contains | covers of songs by various artists\n",
      "David Hasselhoff (Musician) | album contains | bonus track 'More Than Words Can Say'\n",
      "David Hasselhoff (Musician) | composed | 'More Than Words Can Say' with Wade Hubbard and Glenn Morrow\n",
      "\n",
      "David Hasselhoff (Musician) | released | Sings America album\n",
      "This indicates that David Hasselhoff performed Sings America album.\n",
      "\n",
      "From these triplets, we can conclude that David Hasselhoff performed Sings America.\n"
     ]
    }
   ],
   "source": [
    "with magentic.OpenaiChatModel(\"gpt-3.5-turbo\", temperature=0.1):\n",
    "    result = answer_question_cte_cot(context=context, question=question)\n",
    "print(result.answer)\n",
    "print()\n",
    "for triplet in result.triplets:\n",
    "    print(triplet)\n",
    "print()\n",
    "print(result.reasoning)"
   ]
  },
  {
   "cell_type": "code",
   "execution_count": null,
   "metadata": {},
   "outputs": [],
   "source": [
    "#|hide\n",
    "import nbdev; nbdev.nbdev_export()"
   ]
  }
 ],
 "metadata": {
  "kernelspec": {
   "display_name": "python3",
   "language": "python",
   "name": "python3"
  }
 },
 "nbformat": 4,
 "nbformat_minor": 2
}

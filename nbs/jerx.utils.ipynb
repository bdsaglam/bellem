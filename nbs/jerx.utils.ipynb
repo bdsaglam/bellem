{
 "cells": [
  {
   "cell_type": "markdown",
   "metadata": {},
   "source": [
    "# Utilities of joint entity and relation extraction"
   ]
  },
  {
   "cell_type": "code",
   "execution_count": null,
   "metadata": {},
   "outputs": [],
   "source": [
    "#|default_exp jerx.utils"
   ]
  },
  {
   "cell_type": "code",
   "execution_count": null,
   "metadata": {},
   "outputs": [],
   "source": [
    "#|hide\n",
    "from fastcore.test import *\n",
    "from nbdev.showdoc import *"
   ]
  },
  {
   "cell_type": "code",
   "execution_count": null,
   "metadata": {},
   "outputs": [],
   "source": [
    "#|export\n",
    "import re\n",
    "from typing import TypeAlias, Iterable, Callable, Any, Generator\n",
    "\n",
    "from bellem.logging import get_logger\n",
    "\n",
    "log = get_logger(__name__)"
   ]
  },
  {
   "cell_type": "code",
   "execution_count": null,
   "metadata": {},
   "outputs": [],
   "source": [
    "#|export\n",
    "\n",
    "Entity: TypeAlias = str|tuple[str, str]\n",
    "Relation: TypeAlias = str\n",
    "Triplet: TypeAlias = tuple[Entity, Relation, Entity]"
   ]
  },
  {
   "cell_type": "code",
   "execution_count": null,
   "metadata": {},
   "outputs": [],
   "source": [
    "#|export\n",
    "\n",
    "def remove_enumeration(s):\n",
    "    # This pattern matches any leading digits followed by a dot and a space\n",
    "    pattern = r'^\\d+\\.\\s'\n",
    "    # Use re.sub to replace the matched pattern with an empty string\n",
    "    return re.sub(pattern, '', s)\n",
    "\n",
    "def parse_triplet_strings(text: str, delimiter: str=\"|\") -> list[str]:\n",
    "    return [remove_enumeration(line) for line in text.splitlines() if line and line.count(delimiter) == 2]\n",
    "\n",
    "def parse_triplets(text: str, delimiter: str=\"|\") -> list[Triplet]:\n",
    "    return [tuple([s.strip() for s in triplet_string.split(delimiter)]) for triplet_string in parse_triplet_strings(text, delimiter=delimiter)]"
   ]
  },
  {
   "cell_type": "code",
   "execution_count": null,
   "metadata": {},
   "outputs": [],
   "source": [
    "#|hide\n",
    "text = \"\"\"\n",
    "  Sure! Here are the entity-relation-entity triplets for the given text:\n",
    "\n",
    "Aleksandre_Guruli|club|US_Lesquin\n",
    "Paris | capitalOf | France\n",
    "\n",
    "Please provide the next text for extraction.\n",
    "\"\"\"\n",
    "assert sorted(parse_triplet_strings(text)) == [\"Aleksandre_Guruli|club|US_Lesquin\", \"Paris | capitalOf | France\"]\n",
    "assert sorted(parse_triplets(text)) == [(\"Aleksandre_Guruli\", \"club\", \"US_Lesquin\"), ('Paris', 'capitalOf', 'France')]"
   ]
  },
  {
   "cell_type": "code",
   "execution_count": null,
   "metadata": {},
   "outputs": [],
   "source": [
    "#|hide\n",
    "import nbdev; nbdev.nbdev_export()"
   ]
  }
 ],
 "metadata": {
  "kernelspec": {
   "display_name": "python3",
   "language": "python",
   "name": "python3"
  }
 },
 "nbformat": 4,
 "nbformat_minor": 2
}

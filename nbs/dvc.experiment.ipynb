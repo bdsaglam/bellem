{
 "cells": [
  {
   "attachments": {},
   "cell_type": "markdown",
   "metadata": {},
   "source": [
    "# Utils for DVC experiments"
   ]
  },
  {
   "cell_type": "code",
   "execution_count": null,
   "metadata": {},
   "outputs": [],
   "source": [
    "#|default_exp dvc.experiment"
   ]
  },
  {
   "cell_type": "code",
   "execution_count": null,
   "metadata": {},
   "outputs": [],
   "source": [
    "#|hide\n",
    "from fastcore.test import *\n",
    "from nbdev.showdoc import *"
   ]
  },
  {
   "cell_type": "code",
   "execution_count": null,
   "metadata": {},
   "outputs": [],
   "source": [
    "#|export\n",
    "import json\n",
    "from typing import Generator\n",
    "\n",
    "from bellem.logging import get_logger\n",
    "\n",
    "log = get_logger(__name__)"
   ]
  },
  {
   "cell_type": "code",
   "execution_count": null,
   "metadata": {},
   "outputs": [],
   "source": [
    "#|export\n",
    "\n",
    "def parse_params(record):\n",
    "    params_node = record.get(\"data\", {}).get(\"params\", {})\n",
    "    params = {}\n",
    "    for k, v in params_node.items():\n",
    "        params.update(v.get(\"data\", {}))\n",
    "    return params\n",
    "\n",
    "def parse_metrics(record):\n",
    "    metrics_node = record.get(\"data\", {}).get(\"metrics\", {})\n",
    "    metrics = {}\n",
    "    for k, v in metrics_node.items():\n",
    "        metrics.update(v.get(\"data\", {}))\n",
    "    return metrics\n",
    "\n",
    "def parse_experiment(record):\n",
    "    return {\n",
    "        'id': record['rev'],\n",
    "        'name': record['name'],\n",
    "        'params': parse_params(record),\n",
    "        'metrics': parse_metrics(record),\n",
    "    }\n",
    "\n",
    "\n",
    "def parse_experiments(data: list[dict]) -> Generator[dict, None, None]:\n",
    "    for node in data:\n",
    "        if node.get(\"error\"):\n",
    "            continue\n",
    "        commit = node.get(\"rev\")\n",
    "        if experiments := (node.get('experiments') or []):\n",
    "            for experiment in experiments:\n",
    "                for rev in (experiment.get('revs') or []):\n",
    "                    if not rev.get(\"error\"):\n",
    "                        yield {\"commit\": commit, **parse_experiment(rev)}\n",
    "        else:\n",
    "            yield {\"commit\": commit, **parse_experiment(node)}\n",
    "\n",
    "def load_experiments(json_filepath):\n",
    "    with open(json_filepath, 'r') as f:\n",
    "        data = json.load(f)\n",
    "    return list(parse_experiments(data))"
   ]
  },
  {
   "cell_type": "code",
   "execution_count": null,
   "metadata": {},
   "outputs": [],
   "source": [
    "#|hide\n",
    "import nbdev; nbdev.nbdev_export()"
   ]
  }
 ],
 "metadata": {
  "kernelspec": {
   "display_name": "python3",
   "language": "python",
   "name": "python3"
  }
 },
 "nbformat": 4,
 "nbformat_minor": 2
}

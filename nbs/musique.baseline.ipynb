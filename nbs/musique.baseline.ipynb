{
 "cells": [
  {
   "cell_type": "markdown",
   "metadata": {},
   "source": [
    "# MuSiQue baselines"
   ]
  },
  {
   "cell_type": "code",
   "execution_count": null,
   "metadata": {},
   "outputs": [],
   "source": [
    "#|default_exp musique.baseline"
   ]
  },
  {
   "cell_type": "code",
   "execution_count": null,
   "metadata": {},
   "outputs": [],
   "source": [
    "#|hide\n",
    "from fastcore.test import *\n",
    "from nbdev.showdoc import *"
   ]
  },
  {
   "cell_type": "code",
   "execution_count": null,
   "metadata": {},
   "outputs": [],
   "source": [
    "#|export\n",
    "\n",
    "import json\n",
    "from concurrent.futures import ProcessPoolExecutor, ThreadPoolExecutor, as_completed\n",
    "from typing import Callable\n",
    "\n",
    "import pandas as pd\n",
    "from tqdm.auto import tqdm\n",
    "\n",
    "from bellem.jerx.reward.llm import QuestionAnsweringResult\n",
    "from bellem.musique.eval import calculate_metrics, compare_answers\n",
    "\n",
    "tqdm.pandas()"
   ]
  },
  {
   "cell_type": "code",
   "execution_count": null,
   "metadata": {},
   "outputs": [],
   "source": [
    "#|export\n",
    "\n",
    "def make_docs(example):\n",
    "    ps = example[\"paragraphs\"]\n",
    "    for p in ps:\n",
    "        idx = p[\"idx\"]\n",
    "        title = p[\"title\"]\n",
    "        body = p[\"paragraph_text\"]\n",
    "        is_supporting = p[\"is_supporting\"]\n",
    "        text = f\"# {title}\\n{body}\"\n",
    "        yield dict(\n",
    "            text=text,\n",
    "            is_supporting=is_supporting,\n",
    "            parent_id=example[\"id\"],\n",
    "            id=idx,\n",
    "        )"
   ]
  },
  {
   "cell_type": "code",
   "execution_count": null,
   "metadata": {},
   "outputs": [],
   "source": [
    "#|export\n",
    "\n",
    "class BaselineSingleHop:\n",
    "    def __init__(self, qa_func, retrieval_func):\n",
    "        self.qa_func = qa_func\n",
    "        self.retrieval_func = retrieval_func\n",
    "\n",
    "    def _call(self, example) -> QuestionAnsweringResult:\n",
    "        docs = list(make_docs(example))\n",
    "        retrieved_docs = self.retrieval_func(docs, example['question'])\n",
    "        context = \"\\n\\n\".join([doc[\"text\"] for doc in retrieved_docs])\n",
    "        return self.qa_func(context=context, question=example['question'])\n",
    "\n",
    "    def __call__(self, example, ignore_errors: bool = False) -> QuestionAnsweringResult:\n",
    "        try:\n",
    "            output = self._call(example)\n",
    "        except Exception as exc:\n",
    "            if ignore_errors:\n",
    "                id = example['id']\n",
    "                print(f\"Failed to answer the question {id}\\n{exc}\")\n",
    "                output = QuestionAnsweringResult(reasoning=\"\", answer=\"N/A\", raw_output=str(exc))\n",
    "            else:\n",
    "                raise\n",
    "        return output"
   ]
  },
  {
   "cell_type": "code",
   "execution_count": null,
   "metadata": {},
   "outputs": [],
   "source": [
    "#|export\n",
    "\n",
    "class BaselineMultiHop:\n",
    "    def __init__(self, qa_func, retrieval_func):\n",
    "        self.qa_func = qa_func\n",
    "        self.retrieval_func = retrieval_func\n",
    "\n",
    "    def _call(self, example) -> QuestionAnsweringResult:\n",
    "        docs = list(make_docs(example))\n",
    "        \n",
    "        # First question\n",
    "        question1 = example[\"question_decomposition\"][0][\"question\"]\n",
    "        query1 = question1\n",
    "        docs1 = self.retrieval_func(docs, query1)\n",
    "        context1 = \"\\n\".join(doc['text'] for doc in docs1)\n",
    "        result1 = self.qa_func(context=context1, question=question1)\n",
    "        hop1 = {\n",
    "            \"question\": question1,\n",
    "            \"query\" : query1,\n",
    "            \"context\": context1,\n",
    "            \"answer\": result1.answer,\n",
    "            \"reasoning\": result1.reasoning,\n",
    "        }\n",
    "\n",
    "        # Second question\n",
    "        if result1.answer == \"N/A\":\n",
    "            return {\n",
    "                \"answer\": \"N/A\",\n",
    "                \"reasoning\": result1.reasoning,\n",
    "                \"hops\": [hop1],\n",
    "            }\n",
    "\n",
    "        question2 = example[\"question_decomposition\"][1][\"question\"]\n",
    "        question2 = question2.replace(\"#1\", result1.answer)\n",
    "        query2 = question2\n",
    "        docs2 = self.retrieval_func(docs, query2)\n",
    "        context2 = \"\\n\".join(doc['text'] for doc in docs2)\n",
    "        result2 = self.qa_func(context=context2, question=question2)\n",
    "        hop2 = {\n",
    "            \"question\": question2,\n",
    "            \"query\": query2,\n",
    "            \"context\": context2,\n",
    "            \"answer\": result2.answer,\n",
    "            \"reasoning\": result2.reasoning,\n",
    "        }\n",
    "        return QuestionAnsweringResult(answer=result2.answer, reasoning=result2.reasoning, raw_output=json.dumps([hop1, hop2]))\n",
    "\n",
    "    def __call__(self, example, ignore_errors: bool = False) -> QuestionAnsweringResult:\n",
    "        try:\n",
    "            output = self._call(example)\n",
    "        except Exception as exc:\n",
    "            if ignore_errors:\n",
    "                id = example['id']\n",
    "                print(f\"Failed to answer the question {id}\\n{exc}\")\n",
    "                output = QuestionAnsweringResult(reasoning=\"\", answer=\"N/A\", raw_output=str(exc))\n",
    "            else:\n",
    "                raise\n",
    "        return output"
   ]
  },
  {
   "cell_type": "code",
   "execution_count": null,
   "metadata": {},
   "outputs": [],
   "source": [
    "#|export\n",
    "\n",
    "def benchmark(\n",
    "    dataf: pd.DataFrame,\n",
    "    pipeline: Callable,\n",
    "    ignore_errors: bool = False,\n",
    "    n_workers: int = 8,\n",
    ") -> tuple[pd.DataFrame, dict]:\n",
    "\n",
    "    def process(example):\n",
    "        output = pipeline(example, ignore_errors=ignore_errors)\n",
    "        example[\"predicted_answer\"] = output.answer\n",
    "        example[\"raw_llm_output\"] = output\n",
    "        return example\n",
    "\n",
    "    rows = [] \n",
    "    with ThreadPoolExecutor(max_workers=n_workers) as executor:\n",
    "        futures = [executor.submit(process, row) for _, row in dataf.iterrows()]\n",
    "        for future in tqdm(as_completed(futures), total=len(dataf), desc=\"Processing samples\"):\n",
    "            rows.append(future.result())\n",
    "    \n",
    "    dataf = pd.DataFrame(rows)\n",
    "    dataf = compare_answers(dataf)\n",
    "    scores = calculate_metrics(dataf)\n",
    "    scores[\"fuzzy_match\"] = dataf[\"fuzzy_match\"].mean()\n",
    "    return dataf, scores"
   ]
  },
  {
   "cell_type": "code",
   "execution_count": null,
   "metadata": {},
   "outputs": [
    {
     "name": "stdout",
     "output_type": "stream",
     "text": [
      "1252\n"
     ]
    },
    {
     "data": {
      "text/html": [
       "<div>\n",
       "<style scoped>\n",
       "    .dataframe tbody tr th:only-of-type {\n",
       "        vertical-align: middle;\n",
       "    }\n",
       "\n",
       "    .dataframe tbody tr th {\n",
       "        vertical-align: top;\n",
       "    }\n",
       "\n",
       "    .dataframe thead th {\n",
       "        text-align: right;\n",
       "    }\n",
       "</style>\n",
       "<table border=\"1\" class=\"dataframe\">\n",
       "  <thead>\n",
       "    <tr style=\"text-align: right;\">\n",
       "      <th></th>\n",
       "      <th>id</th>\n",
       "      <th>paragraphs</th>\n",
       "      <th>question</th>\n",
       "      <th>question_decomposition</th>\n",
       "      <th>answer</th>\n",
       "      <th>answer_aliases</th>\n",
       "      <th>answerable</th>\n",
       "      <th>answers</th>\n",
       "    </tr>\n",
       "  </thead>\n",
       "  <tbody>\n",
       "    <tr>\n",
       "      <th>0</th>\n",
       "      <td>2hop__131818_161450</td>\n",
       "      <td>[{'idx': 0, 'title': 'Maria Carrillo High Scho...</td>\n",
       "      <td>Where is the Voshmgir District located?</td>\n",
       "      <td>[{'id': 131818, 'question': 'Which state is Vo...</td>\n",
       "      <td>in the north-east of the country south of the ...</td>\n",
       "      <td>[Caspian Sea, in the north-east of the country...</td>\n",
       "      <td>True</td>\n",
       "      <td>[Caspian Sea, in the north-east of the country...</td>\n",
       "    </tr>\n",
       "    <tr>\n",
       "      <th>1</th>\n",
       "      <td>2hop__444265_82341</td>\n",
       "      <td>[{'idx': 0, 'title': 'Ocala, Florida', 'paragr...</td>\n",
       "      <td>In what part of Florida is Tom Denney's birthp...</td>\n",
       "      <td>[{'id': 444265, 'question': 'Tom Denney &gt;&gt; pla...</td>\n",
       "      <td>in Northern Florida</td>\n",
       "      <td>[in Northern Florida, Northern Florida]</td>\n",
       "      <td>True</td>\n",
       "      <td>[in Northern Florida, Northern Florida]</td>\n",
       "    </tr>\n",
       "    <tr>\n",
       "      <th>2</th>\n",
       "      <td>2hop__711946_269414</td>\n",
       "      <td>[{'idx': 0, 'title': 'Wild Thing (Tone Lōc son...</td>\n",
       "      <td>What record label is the performer who release...</td>\n",
       "      <td>[{'id': 711946, 'question': 'All Your Faded Th...</td>\n",
       "      <td>Kill Rock Stars</td>\n",
       "      <td>[Kill Rock Stars]</td>\n",
       "      <td>True</td>\n",
       "      <td>[Kill Rock Stars]</td>\n",
       "    </tr>\n",
       "    <tr>\n",
       "      <th>3</th>\n",
       "      <td>2hop__311931_417706</td>\n",
       "      <td>[{'idx': 0, 'title': 'The Main Attraction (alb...</td>\n",
       "      <td>What record label does the performer of Emotio...</td>\n",
       "      <td>[{'id': 311931, 'question': 'Emotional Rain &gt;&gt;...</td>\n",
       "      <td>Attic Records</td>\n",
       "      <td>[Attic, Attic Records]</td>\n",
       "      <td>True</td>\n",
       "      <td>[Attic, Attic Records]</td>\n",
       "    </tr>\n",
       "    <tr>\n",
       "      <th>4</th>\n",
       "      <td>2hop__809785_606637</td>\n",
       "      <td>[{'idx': 0, 'title': 'The Main Attraction (alb...</td>\n",
       "      <td>What record label does the performer of Advent...</td>\n",
       "      <td>[{'id': 809785, 'question': 'Adventures in You...</td>\n",
       "      <td>Secret City Records</td>\n",
       "      <td>[Secret City Records]</td>\n",
       "      <td>True</td>\n",
       "      <td>[Secret City Records]</td>\n",
       "    </tr>\n",
       "  </tbody>\n",
       "</table>\n",
       "</div>"
      ],
      "text/plain": [
       "                    id                                         paragraphs  \\\n",
       "0  2hop__131818_161450  [{'idx': 0, 'title': 'Maria Carrillo High Scho...   \n",
       "1   2hop__444265_82341  [{'idx': 0, 'title': 'Ocala, Florida', 'paragr...   \n",
       "2  2hop__711946_269414  [{'idx': 0, 'title': 'Wild Thing (Tone Lōc son...   \n",
       "3  2hop__311931_417706  [{'idx': 0, 'title': 'The Main Attraction (alb...   \n",
       "4  2hop__809785_606637  [{'idx': 0, 'title': 'The Main Attraction (alb...   \n",
       "\n",
       "                                            question  \\\n",
       "0            Where is the Voshmgir District located?   \n",
       "1  In what part of Florida is Tom Denney's birthp...   \n",
       "2  What record label is the performer who release...   \n",
       "3  What record label does the performer of Emotio...   \n",
       "4  What record label does the performer of Advent...   \n",
       "\n",
       "                              question_decomposition  \\\n",
       "0  [{'id': 131818, 'question': 'Which state is Vo...   \n",
       "1  [{'id': 444265, 'question': 'Tom Denney >> pla...   \n",
       "2  [{'id': 711946, 'question': 'All Your Faded Th...   \n",
       "3  [{'id': 311931, 'question': 'Emotional Rain >>...   \n",
       "4  [{'id': 809785, 'question': 'Adventures in You...   \n",
       "\n",
       "                                              answer  \\\n",
       "0  in the north-east of the country south of the ...   \n",
       "1                                in Northern Florida   \n",
       "2                                    Kill Rock Stars   \n",
       "3                                      Attic Records   \n",
       "4                                Secret City Records   \n",
       "\n",
       "                                      answer_aliases  answerable  \\\n",
       "0  [Caspian Sea, in the north-east of the country...        True   \n",
       "1            [in Northern Florida, Northern Florida]        True   \n",
       "2                                  [Kill Rock Stars]        True   \n",
       "3                             [Attic, Attic Records]        True   \n",
       "4                              [Secret City Records]        True   \n",
       "\n",
       "                                             answers  \n",
       "0  [Caspian Sea, in the north-east of the country...  \n",
       "1            [in Northern Florida, Northern Florida]  \n",
       "2                                  [Kill Rock Stars]  \n",
       "3                             [Attic, Attic Records]  \n",
       "4                              [Secret City Records]  "
      ]
     },
     "execution_count": null,
     "metadata": {},
     "output_type": "execute_result"
    }
   ],
   "source": [
    "df = pd.read_json('../data/generated/musique-evaluation/dataset.jsonl', orient='records', lines=True)\n",
    "print(len(df))\n",
    "df.head()"
   ]
  },
  {
   "cell_type": "code",
   "execution_count": null,
   "metadata": {},
   "outputs": [
    {
     "data": {
      "text/plain": [
       "\"In what part of Florida is Tom Denney's birthplace located?\""
      ]
     },
     "execution_count": null,
     "metadata": {},
     "output_type": "execute_result"
    }
   ],
   "source": [
    "i = 1\n",
    "example = df.iloc[i].to_dict()\n",
    "example['question']"
   ]
  },
  {
   "cell_type": "code",
   "execution_count": null,
   "metadata": {},
   "outputs": [],
   "source": [
    "from bellem.qa.llm import make_question_answer_func\n",
    "\n",
    "qa_func = make_question_answer_func()\n",
    "retrieval_func = lambda docs, query: docs"
   ]
  },
  {
   "cell_type": "code",
   "execution_count": null,
   "metadata": {},
   "outputs": [
    {
     "name": "stdout",
     "output_type": "stream",
     "text": [
      "Question: In what part of Florida is Tom Denney's birthplace located?\n",
      "Reference answer: in Northern Florida\n",
      "Predicted answer: Northern Florida.\n",
      "Reasoning: Tom Denney was mentioned to be from Ocala, Florida in the context information.\n",
      "{\n",
      "  \"reasoning\": \"Tom Denney was mentioned to be from Ocala, Florida in the context information.\",\n",
      "  \"answer\": \"Northern Florida.\"\n",
      "}\n"
     ]
    }
   ],
   "source": [
    "from bellem.utils import jprint\n",
    "\n",
    "pipeline = BaselineSingleHop(qa_func, retrieval_func)\n",
    "output = pipeline(example).dict()\n",
    "print(\"Question:\", example['question'])\n",
    "print(\"Reference answer:\", example['answer'])\n",
    "print(\"Predicted answer:\", output['answer'])\n",
    "print(\"Reasoning:\", output['reasoning'])\n",
    "jprint(json.loads(output['raw_output']))"
   ]
  },
  {
   "cell_type": "code",
   "execution_count": null,
   "metadata": {},
   "outputs": [
    {
     "name": "stdout",
     "output_type": "stream",
     "text": [
      "Question: In what part of Florida is Tom Denney's birthplace located?\n",
      "Reference answer: in Northern Florida\n",
      "Predicted answer: Northern Florida\n",
      "Reasoning: Ocala is located in Northern Florida.\n",
      "[\n",
      "  {\n",
      "    \"question\": \"Tom Denney >> place of birth\",\n",
      "    \"query\": \"Tom Denney >> place of birth\",\n",
      "    \"context\": \"# Ocala, Florida\\nOcala (/ o\\u028a \\u02c8k\\u00e6l\\u0259 / oh - KAL - \\u0259) is a city located in Northern Florida. As of the 2013 census, its population, estimated by the United States Census Bureau, was 57,468, making it the 45th most populated city in Florida.\\n# Jasmine Estates, Florida\\nJasmine Estates is a census-designated place (CDP) in Pasco County, Florida, United States. The population was 18,989 at the 2010 census.\\n# Ridgecrest, Florida\\nRidgecrest is a census-designated place (CDP) in Pinellas County, Florida, United States. The population was 2,558 at the 2010 census.\\n# Villas, Florida\\nVillas is a census designated place (CDP) in Lee County, Florida, United States. The population was 11,346 at the 2000 census. It is part of the Cape Coral-Fort Myers, Florida Metropolitan Statistical Area.\\n# Lacoochee, Florida\\nLacoochee is a census-designated place (CDP) in Pasco County, Florida, United States. The population was 1,345 at the 2000 census.\\n# Solana, Florida\\nSolana is an unincorporated community and census-designated place (CDP) in Charlotte County, Florida, United States. The population was 742 at the 2010 census. It is part of the Punta Gorda, Florida Metropolitan Statistical Area.\\n# Tamiami, Florida\\nTamiami is a census-designated place (CDP) in Miami-Dade County, Florida, United States. The population was 55,271 at the 2010 census.\\n# Gladeview, Florida\\nGladeview is a census-designated place (CDP) in Miami-Dade County, Florida, United States. The population was 11,535 at the 2010 census.\\n# Golden Lakes, Florida\\nGolden Lakes was a census-designated place (CDP) in Palm Beach County, Florida, United States. The population was 6,694 at the 2000 census.\\n# Zephyrhills North, Florida\\nZephyrhills North is a census-designated place (CDP) in Pasco County, Florida, United States. The population was 2,544 at the 2000 census.\\n# East Palatka, Florida\\nEast Palatka is a census-designated place (CDP) in Putnam County, Florida, United States. The population was 1,654 at the 2010 census.\\n# West DeLand, Florida\\nWest DeLand is a census-designated place (CDP) in Volusia County, Florida, United States. The population was 3,535 at the 2010 census.\\n# Tom Denney\\nTom Denney (born November 23, 1982) is an American musician from Ocala, Florida. Denney is a founding member and the ex-lead guitarist of A Day to Remember. He has since parted ways with the band and now produces at his own recording studio.\\n# Royal Palm Estates, Florida\\nRoyal Palm Estates is a census-designated place (CDP) in Palm Beach County, Florida, United States. The population was 3,583 at the 2000 census.\\n# Kendall Green, Pompano Beach, Florida\\nKendall Green was a census-designated place (CDP) in Broward County, Florida, United States, and is now a neighborhood of Pompano Beach, Florida. The population was 3,084 at the 2000 census.\\n# Princeton, Florida\\nPrinceton is a census-designated place (CDP) and unincorporated community in Miami-Dade County, Florida, United States. The population was 22,038 at the 2010 census.\\n# South Beach, Florida\\nSouth Beach is a census-designated place (CDP) on Orchid Island in Indian River County, Florida, United States. The population was 3,501 at the 2010 census. It is ranked tenth in Florida locations by per capita income as of 2010.\\n# Ives Estates, Florida\\nIves Estates is a census-designated place (CDP) in Miami-Dade County, Florida, United States. The population was 17,586 at the 2000 census.\\n# Tom Hammonds\\nTom Edward Hammonds (born March 27, 1967) is a retired American professional basketball player and National Hot Rod Association drag racer. He was born in Fort Walton Beach, Florida, and attended Crestview High School in Crestview, Florida.\\n# Dildo Key\\nDildo Key is a small island in the Florida Bay in the U.S. state of Florida, located in Everglades National Park. It is named for the Dildo Cactus (\\\"Acanthocereus tetragonus\\\"), a native species. Dildo Key has been noted for its unusual place name.\",\n",
      "    \"answer\": \"Ocala, Florida\",\n",
      "    \"reasoning\": \"Tom Denney was born in Ocala, Florida.\"\n",
      "  },\n",
      "  {\n",
      "    \"question\": \"where is Ocala, Florida in the state of florida\",\n",
      "    \"query\": \"where is Ocala, Florida in the state of florida\",\n",
      "    \"context\": \"# Ocala, Florida\\nOcala (/ o\\u028a \\u02c8k\\u00e6l\\u0259 / oh - KAL - \\u0259) is a city located in Northern Florida. As of the 2013 census, its population, estimated by the United States Census Bureau, was 57,468, making it the 45th most populated city in Florida.\\n# Jasmine Estates, Florida\\nJasmine Estates is a census-designated place (CDP) in Pasco County, Florida, United States. The population was 18,989 at the 2010 census.\\n# Ridgecrest, Florida\\nRidgecrest is a census-designated place (CDP) in Pinellas County, Florida, United States. The population was 2,558 at the 2010 census.\\n# Villas, Florida\\nVillas is a census designated place (CDP) in Lee County, Florida, United States. The population was 11,346 at the 2000 census. It is part of the Cape Coral-Fort Myers, Florida Metropolitan Statistical Area.\\n# Lacoochee, Florida\\nLacoochee is a census-designated place (CDP) in Pasco County, Florida, United States. The population was 1,345 at the 2000 census.\\n# Solana, Florida\\nSolana is an unincorporated community and census-designated place (CDP) in Charlotte County, Florida, United States. The population was 742 at the 2010 census. It is part of the Punta Gorda, Florida Metropolitan Statistical Area.\\n# Tamiami, Florida\\nTamiami is a census-designated place (CDP) in Miami-Dade County, Florida, United States. The population was 55,271 at the 2010 census.\\n# Gladeview, Florida\\nGladeview is a census-designated place (CDP) in Miami-Dade County, Florida, United States. The population was 11,535 at the 2010 census.\\n# Golden Lakes, Florida\\nGolden Lakes was a census-designated place (CDP) in Palm Beach County, Florida, United States. The population was 6,694 at the 2000 census.\\n# Zephyrhills North, Florida\\nZephyrhills North is a census-designated place (CDP) in Pasco County, Florida, United States. The population was 2,544 at the 2000 census.\\n# East Palatka, Florida\\nEast Palatka is a census-designated place (CDP) in Putnam County, Florida, United States. The population was 1,654 at the 2010 census.\\n# West DeLand, Florida\\nWest DeLand is a census-designated place (CDP) in Volusia County, Florida, United States. The population was 3,535 at the 2010 census.\\n# Tom Denney\\nTom Denney (born November 23, 1982) is an American musician from Ocala, Florida. Denney is a founding member and the ex-lead guitarist of A Day to Remember. He has since parted ways with the band and now produces at his own recording studio.\\n# Royal Palm Estates, Florida\\nRoyal Palm Estates is a census-designated place (CDP) in Palm Beach County, Florida, United States. The population was 3,583 at the 2000 census.\\n# Kendall Green, Pompano Beach, Florida\\nKendall Green was a census-designated place (CDP) in Broward County, Florida, United States, and is now a neighborhood of Pompano Beach, Florida. The population was 3,084 at the 2000 census.\\n# Princeton, Florida\\nPrinceton is a census-designated place (CDP) and unincorporated community in Miami-Dade County, Florida, United States. The population was 22,038 at the 2010 census.\\n# South Beach, Florida\\nSouth Beach is a census-designated place (CDP) on Orchid Island in Indian River County, Florida, United States. The population was 3,501 at the 2010 census. It is ranked tenth in Florida locations by per capita income as of 2010.\\n# Ives Estates, Florida\\nIves Estates is a census-designated place (CDP) in Miami-Dade County, Florida, United States. The population was 17,586 at the 2000 census.\\n# Tom Hammonds\\nTom Edward Hammonds (born March 27, 1967) is a retired American professional basketball player and National Hot Rod Association drag racer. He was born in Fort Walton Beach, Florida, and attended Crestview High School in Crestview, Florida.\\n# Dildo Key\\nDildo Key is a small island in the Florida Bay in the U.S. state of Florida, located in Everglades National Park. It is named for the Dildo Cactus (\\\"Acanthocereus tetragonus\\\"), a native species. Dildo Key has been noted for its unusual place name.\",\n",
      "    \"answer\": \"Northern Florida\",\n",
      "    \"reasoning\": \"Ocala is located in Northern Florida.\"\n",
      "  }\n",
      "]\n"
     ]
    }
   ],
   "source": [
    "from bellem.utils import jprint\n",
    "\n",
    "pipeline = BaselineMultiHop(qa_func, retrieval_func)\n",
    "output = pipeline(example).dict()\n",
    "print(\"Question:\", example['question'])\n",
    "print(\"Reference answer:\", example['answer'])\n",
    "print(\"Predicted answer:\", output['answer'])\n",
    "print(\"Reasoning:\", output['reasoning'])\n",
    "jprint(json.loads(output['raw_output']))\n"
   ]
  },
  {
   "cell_type": "code",
   "execution_count": null,
   "metadata": {},
   "outputs": [],
   "source": [
    "mini_df = df.sample(3)"
   ]
  },
  {
   "cell_type": "code",
   "execution_count": null,
   "metadata": {},
   "outputs": [
    {
     "data": {
      "application/vnd.jupyter.widget-view+json": {
       "model_id": "e476de23055641adbcc23dd8006e4ae0",
       "version_major": 2,
       "version_minor": 0
      },
      "text/plain": [
       "Processing samples:   0%|          | 0/3 [00:00<?, ?it/s]"
      ]
     },
     "metadata": {},
     "output_type": "display_data"
    },
    {
     "ename": "AttributeError",
     "evalue": "Can't pickle local object 'benchmark.<locals>.process'",
     "output_type": "error",
     "traceback": [
      "\u001b[0;31m---------------------------------------------------------------------------\u001b[0m",
      "\u001b[0;31m_RemoteTraceback\u001b[0m                          Traceback (most recent call last)",
      "\u001b[0;31m_RemoteTraceback\u001b[0m: \n\"\"\"\nTraceback (most recent call last):\n  File \"/Users/bdsaglam/.pyenv/versions/3.10.12/lib/python3.10/multiprocessing/queues.py\", line 244, in _feed\n    obj = _ForkingPickler.dumps(obj)\n  File \"/Users/bdsaglam/.pyenv/versions/3.10.12/lib/python3.10/multiprocessing/reduction.py\", line 51, in dumps\n    cls(buf, protocol).dump(obj)\nAttributeError: Can't pickle local object 'benchmark.<locals>.process'\n\"\"\"",
      "\nThe above exception was the direct cause of the following exception:\n",
      "\u001b[0;31mAttributeError\u001b[0m                            Traceback (most recent call last)",
      "Cell \u001b[0;32mIn[14], line 1\u001b[0m\n\u001b[0;32m----> 1\u001b[0m shqa_df, scores \u001b[38;5;241m=\u001b[39m \u001b[43mbenchmark\u001b[49m\u001b[43m(\u001b[49m\u001b[43mmini_df\u001b[49m\u001b[43m,\u001b[49m\u001b[43m \u001b[49m\u001b[43mBaselineSingleHop\u001b[49m\u001b[43m(\u001b[49m\u001b[43mqa_func\u001b[49m\u001b[43m,\u001b[49m\u001b[43m \u001b[49m\u001b[43mretrieval_func\u001b[49m\u001b[43m)\u001b[49m\u001b[43m)\u001b[49m\n\u001b[1;32m      2\u001b[0m \u001b[38;5;28mprint\u001b[39m(scores)\n\u001b[1;32m      3\u001b[0m shqa_df\n",
      "Cell \u001b[0;32mIn[7], line 20\u001b[0m, in \u001b[0;36mbenchmark\u001b[0;34m(dataf, pipeline, ignore_errors, n_workers)\u001b[0m\n\u001b[1;32m     18\u001b[0m     futures \u001b[38;5;241m=\u001b[39m [executor\u001b[38;5;241m.\u001b[39msubmit(process, row) \u001b[38;5;28;01mfor\u001b[39;00m _, row \u001b[38;5;129;01min\u001b[39;00m dataf\u001b[38;5;241m.\u001b[39miterrows()]\n\u001b[1;32m     19\u001b[0m     \u001b[38;5;28;01mfor\u001b[39;00m future \u001b[38;5;129;01min\u001b[39;00m tqdm(as_completed(futures), total\u001b[38;5;241m=\u001b[39m\u001b[38;5;28mlen\u001b[39m(dataf), desc\u001b[38;5;241m=\u001b[39m\u001b[38;5;124m\"\u001b[39m\u001b[38;5;124mProcessing samples\u001b[39m\u001b[38;5;124m\"\u001b[39m):\n\u001b[0;32m---> 20\u001b[0m         rows\u001b[38;5;241m.\u001b[39mappend(\u001b[43mfuture\u001b[49m\u001b[38;5;241;43m.\u001b[39;49m\u001b[43mresult\u001b[49m\u001b[43m(\u001b[49m\u001b[43m)\u001b[49m)\n\u001b[1;32m     22\u001b[0m dataf \u001b[38;5;241m=\u001b[39m pd\u001b[38;5;241m.\u001b[39mDataFrame(rows)\n\u001b[1;32m     23\u001b[0m dataf \u001b[38;5;241m=\u001b[39m compare_answers(dataf)\n",
      "File \u001b[0;32m~/.pyenv/versions/3.10.12/lib/python3.10/concurrent/futures/_base.py:451\u001b[0m, in \u001b[0;36mFuture.result\u001b[0;34m(self, timeout)\u001b[0m\n\u001b[1;32m    449\u001b[0m     \u001b[38;5;28;01mraise\u001b[39;00m CancelledError()\n\u001b[1;32m    450\u001b[0m \u001b[38;5;28;01melif\u001b[39;00m \u001b[38;5;28mself\u001b[39m\u001b[38;5;241m.\u001b[39m_state \u001b[38;5;241m==\u001b[39m FINISHED:\n\u001b[0;32m--> 451\u001b[0m     \u001b[38;5;28;01mreturn\u001b[39;00m \u001b[38;5;28;43mself\u001b[39;49m\u001b[38;5;241;43m.\u001b[39;49m\u001b[43m__get_result\u001b[49m\u001b[43m(\u001b[49m\u001b[43m)\u001b[49m\n\u001b[1;32m    453\u001b[0m \u001b[38;5;28mself\u001b[39m\u001b[38;5;241m.\u001b[39m_condition\u001b[38;5;241m.\u001b[39mwait(timeout)\n\u001b[1;32m    455\u001b[0m \u001b[38;5;28;01mif\u001b[39;00m \u001b[38;5;28mself\u001b[39m\u001b[38;5;241m.\u001b[39m_state \u001b[38;5;129;01min\u001b[39;00m [CANCELLED, CANCELLED_AND_NOTIFIED]:\n",
      "File \u001b[0;32m~/.pyenv/versions/3.10.12/lib/python3.10/concurrent/futures/_base.py:403\u001b[0m, in \u001b[0;36mFuture.__get_result\u001b[0;34m(self)\u001b[0m\n\u001b[1;32m    401\u001b[0m \u001b[38;5;28;01mif\u001b[39;00m \u001b[38;5;28mself\u001b[39m\u001b[38;5;241m.\u001b[39m_exception:\n\u001b[1;32m    402\u001b[0m     \u001b[38;5;28;01mtry\u001b[39;00m:\n\u001b[0;32m--> 403\u001b[0m         \u001b[38;5;28;01mraise\u001b[39;00m \u001b[38;5;28mself\u001b[39m\u001b[38;5;241m.\u001b[39m_exception\n\u001b[1;32m    404\u001b[0m     \u001b[38;5;28;01mfinally\u001b[39;00m:\n\u001b[1;32m    405\u001b[0m         \u001b[38;5;66;03m# Break a reference cycle with the exception in self._exception\u001b[39;00m\n\u001b[1;32m    406\u001b[0m         \u001b[38;5;28mself\u001b[39m \u001b[38;5;241m=\u001b[39m \u001b[38;5;28;01mNone\u001b[39;00m\n",
      "File \u001b[0;32m~/.pyenv/versions/3.10.12/lib/python3.10/multiprocessing/queues.py:244\u001b[0m, in \u001b[0;36mQueue._feed\u001b[0;34m(buffer, notempty, send_bytes, writelock, reader_close, writer_close, ignore_epipe, onerror, queue_sem)\u001b[0m\n\u001b[1;32m    241\u001b[0m     \u001b[38;5;28;01mreturn\u001b[39;00m\n\u001b[1;32m    243\u001b[0m \u001b[38;5;66;03m# serialize the data before acquiring the lock\u001b[39;00m\n\u001b[0;32m--> 244\u001b[0m obj \u001b[38;5;241m=\u001b[39m \u001b[43m_ForkingPickler\u001b[49m\u001b[38;5;241;43m.\u001b[39;49m\u001b[43mdumps\u001b[49m\u001b[43m(\u001b[49m\u001b[43mobj\u001b[49m\u001b[43m)\u001b[49m\n\u001b[1;32m    245\u001b[0m \u001b[38;5;28;01mif\u001b[39;00m wacquire \u001b[38;5;129;01mis\u001b[39;00m \u001b[38;5;28;01mNone\u001b[39;00m:\n\u001b[1;32m    246\u001b[0m     send_bytes(obj)\n",
      "File \u001b[0;32m~/.pyenv/versions/3.10.12/lib/python3.10/multiprocessing/reduction.py:51\u001b[0m, in \u001b[0;36mForkingPickler.dumps\u001b[0;34m(cls, obj, protocol)\u001b[0m\n\u001b[1;32m     48\u001b[0m \u001b[38;5;129m@classmethod\u001b[39m\n\u001b[1;32m     49\u001b[0m \u001b[38;5;28;01mdef\u001b[39;00m \u001b[38;5;21mdumps\u001b[39m(\u001b[38;5;28mcls\u001b[39m, obj, protocol\u001b[38;5;241m=\u001b[39m\u001b[38;5;28;01mNone\u001b[39;00m):\n\u001b[1;32m     50\u001b[0m     buf \u001b[38;5;241m=\u001b[39m io\u001b[38;5;241m.\u001b[39mBytesIO()\n\u001b[0;32m---> 51\u001b[0m     \u001b[38;5;28;43mcls\u001b[39;49m\u001b[43m(\u001b[49m\u001b[43mbuf\u001b[49m\u001b[43m,\u001b[49m\u001b[43m \u001b[49m\u001b[43mprotocol\u001b[49m\u001b[43m)\u001b[49m\u001b[38;5;241;43m.\u001b[39;49m\u001b[43mdump\u001b[49m\u001b[43m(\u001b[49m\u001b[43mobj\u001b[49m\u001b[43m)\u001b[49m\n\u001b[1;32m     52\u001b[0m     \u001b[38;5;28;01mreturn\u001b[39;00m buf\u001b[38;5;241m.\u001b[39mgetbuffer()\n",
      "\u001b[0;31mAttributeError\u001b[0m: Can't pickle local object 'benchmark.<locals>.process'"
     ]
    }
   ],
   "source": [
    "shqa_df, scores = benchmark(mini_df, BaselineSingleHop(qa_func, retrieval_func))\n",
    "print(scores)\n",
    "shqa_df"
   ]
  },
  {
   "cell_type": "code",
   "execution_count": null,
   "metadata": {},
   "outputs": [
    {
     "data": {
      "application/vnd.jupyter.widget-view+json": {
       "model_id": "eb217a1ce6c64bf7a0a7956e60e3b566",
       "version_major": 2,
       "version_minor": 0
      },
      "text/plain": [
       "Processing samples:   0%|          | 0/3 [00:00<?, ?it/s]"
      ]
     },
     "metadata": {},
     "output_type": "display_data"
    },
    {
     "name": "stdout",
     "output_type": "stream",
     "text": [
      "{'exact_match': 0.6666666666666666, 'f1': 0.6666666666666666, 'fuzzy_match': 0.6666666666666666}\n"
     ]
    },
    {
     "data": {
      "text/html": [
       "<div>\n",
       "<style scoped>\n",
       "    .dataframe tbody tr th:only-of-type {\n",
       "        vertical-align: middle;\n",
       "    }\n",
       "\n",
       "    .dataframe tbody tr th {\n",
       "        vertical-align: top;\n",
       "    }\n",
       "\n",
       "    .dataframe thead th {\n",
       "        text-align: right;\n",
       "    }\n",
       "</style>\n",
       "<table border=\"1\" class=\"dataframe\">\n",
       "  <thead>\n",
       "    <tr style=\"text-align: right;\">\n",
       "      <th></th>\n",
       "      <th>id</th>\n",
       "      <th>paragraphs</th>\n",
       "      <th>question</th>\n",
       "      <th>question_decomposition</th>\n",
       "      <th>answer</th>\n",
       "      <th>answer_aliases</th>\n",
       "      <th>answerable</th>\n",
       "      <th>answers</th>\n",
       "      <th>predicted_answer</th>\n",
       "      <th>raw_llm_output</th>\n",
       "      <th>exact_match</th>\n",
       "      <th>fuzzy_match</th>\n",
       "    </tr>\n",
       "  </thead>\n",
       "  <tbody>\n",
       "    <tr>\n",
       "      <th>468</th>\n",
       "      <td>2hop__684287_78303</td>\n",
       "      <td>[{'idx': 0, 'title': 'Dakota National Forest',...</td>\n",
       "      <td>what was the name of the producer of Forest Wa...</td>\n",
       "      <td>[{'id': 684287, 'question': 'Forest Warrior &gt;&gt;...</td>\n",
       "      <td>Cordell Walker</td>\n",
       "      <td>[Cordell Walker]</td>\n",
       "      <td>True</td>\n",
       "      <td>[Cordell Walker]</td>\n",
       "      <td>James Trivette</td>\n",
       "      <td>reasoning='Identify character portrayal by nam...</td>\n",
       "      <td>False</td>\n",
       "      <td>False</td>\n",
       "    </tr>\n",
       "    <tr>\n",
       "      <th>511</th>\n",
       "      <td>2hop__166820_52835</td>\n",
       "      <td>[{'idx': 0, 'title': 'Crook &amp; Chase', 'paragra...</td>\n",
       "      <td>Who wrote turn me on, which was performed by t...</td>\n",
       "      <td>[{'id': 166820, 'question': 'Chasing Pirates &gt;...</td>\n",
       "      <td>John D. Loudermilk</td>\n",
       "      <td>[John D. Loudermilk]</td>\n",
       "      <td>True</td>\n",
       "      <td>[John D. Loudermilk]</td>\n",
       "      <td>John D. Loudermilk</td>\n",
       "      <td>reasoning=\"The context mentions the songwriter...</td>\n",
       "      <td>True</td>\n",
       "      <td>True</td>\n",
       "    </tr>\n",
       "    <tr>\n",
       "      <th>436</th>\n",
       "      <td>2hop__129721_40482</td>\n",
       "      <td>[{'idx': 0, 'title': 'Ute Cemetery', 'paragrap...</td>\n",
       "      <td>From whom did the Huguenots in the state encom...</td>\n",
       "      <td>[{'id': 129721, 'question': 'In which state is...</td>\n",
       "      <td>Edmund Bellinger</td>\n",
       "      <td>[Edmund Bellinger]</td>\n",
       "      <td>True</td>\n",
       "      <td>[Edmund Bellinger]</td>\n",
       "      <td>Edmund Bellinger</td>\n",
       "      <td>reasoning='The Huguenots in South Carolina pur...</td>\n",
       "      <td>True</td>\n",
       "      <td>True</td>\n",
       "    </tr>\n",
       "  </tbody>\n",
       "</table>\n",
       "</div>"
      ],
      "text/plain": [
       "                     id                                         paragraphs  \\\n",
       "468  2hop__684287_78303  [{'idx': 0, 'title': 'Dakota National Forest',...   \n",
       "511  2hop__166820_52835  [{'idx': 0, 'title': 'Crook & Chase', 'paragra...   \n",
       "436  2hop__129721_40482  [{'idx': 0, 'title': 'Ute Cemetery', 'paragrap...   \n",
       "\n",
       "                                              question  \\\n",
       "468  what was the name of the producer of Forest Wa...   \n",
       "511  Who wrote turn me on, which was performed by t...   \n",
       "436  From whom did the Huguenots in the state encom...   \n",
       "\n",
       "                                question_decomposition              answer  \\\n",
       "468  [{'id': 684287, 'question': 'Forest Warrior >>...      Cordell Walker   \n",
       "511  [{'id': 166820, 'question': 'Chasing Pirates >...  John D. Loudermilk   \n",
       "436  [{'id': 129721, 'question': 'In which state is...    Edmund Bellinger   \n",
       "\n",
       "           answer_aliases  answerable               answers  \\\n",
       "468      [Cordell Walker]        True      [Cordell Walker]   \n",
       "511  [John D. Loudermilk]        True  [John D. Loudermilk]   \n",
       "436    [Edmund Bellinger]        True    [Edmund Bellinger]   \n",
       "\n",
       "       predicted_answer                                     raw_llm_output  \\\n",
       "468      James Trivette  reasoning='Identify character portrayal by nam...   \n",
       "511  John D. Loudermilk  reasoning=\"The context mentions the songwriter...   \n",
       "436    Edmund Bellinger  reasoning='The Huguenots in South Carolina pur...   \n",
       "\n",
       "     exact_match  fuzzy_match  \n",
       "468        False        False  \n",
       "511         True         True  \n",
       "436         True         True  "
      ]
     },
     "execution_count": null,
     "metadata": {},
     "output_type": "execute_result"
    }
   ],
   "source": [
    "mhqa_df, scores = benchmark(mini_df, BaselineMultiHop(qa_func, retrieval_func))\n",
    "print(scores)\n",
    "mhqa_df"
   ]
  },
  {
   "cell_type": "code",
   "execution_count": null,
   "metadata": {},
   "outputs": [],
   "source": [
    "#|hide\n",
    "import nbdev; nbdev.nbdev_export()"
   ]
  }
 ],
 "metadata": {
  "kernelspec": {
   "display_name": "python3",
   "language": "python",
   "name": "python3"
  }
 },
 "nbformat": 4,
 "nbformat_minor": 2
}

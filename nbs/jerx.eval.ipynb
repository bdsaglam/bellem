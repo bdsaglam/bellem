{
 "cells": [
  {
   "cell_type": "markdown",
   "metadata": {},
   "source": [
    "# Evaluation of joint entity and relation extraction"
   ]
  },
  {
   "cell_type": "code",
   "execution_count": null,
   "metadata": {},
   "outputs": [],
   "source": [
    "#|default_exp jerx.eval"
   ]
  },
  {
   "cell_type": "code",
   "execution_count": null,
   "metadata": {},
   "outputs": [],
   "source": [
    "#|hide\n",
    "from fastcore.test import *\n",
    "from nbdev.showdoc import *"
   ]
  },
  {
   "cell_type": "code",
   "execution_count": null,
   "metadata": {},
   "outputs": [],
   "source": [
    "#|export\n",
    "from operator import eq\n",
    "from typing import Iterable, Callable, Any, Generator\n",
    "import numpy as np\n",
    "from bellem.jerx.utils import Triplet, parse_triplet_strings\n",
    "from bellem.utils import is_in\n",
    "from bellem.logging import get_logger\n",
    "\n",
    "log = get_logger(__name__)"
   ]
  },
  {
   "cell_type": "code",
   "execution_count": null,
   "metadata": {},
   "outputs": [],
   "source": [
    "#|export\n",
    "\n",
    "def evaluate_jerx_single(*, reference: Iterable[Triplet], prediction: Iterable[Triplet], eq_fn=eq):\n",
    "    \"\"\"\n",
    "    Example: [(('John', 'PERSON'), 'works_at', ('Google', 'ORG'))]\n",
    "    \"\"\"\n",
    "\n",
    "    reference_set = set(reference)\n",
    "    prediction_set = set(prediction)\n",
    "    if len(reference) != len(reference_set):\n",
    "        log.warning(\"Duplicates found in references.\")\n",
    "\n",
    "    tp = sum(int(is_in(item, prediction, eq_fn=eq_fn)) for item in reference)\n",
    "    fp = len(prediction_set) - tp\n",
    "    fn = len(reference_set) - tp\n",
    "    \n",
    "    # Calculate metrics\n",
    "    precision = tp / (tp + fp) if tp + fp > 0 else 0\n",
    "    recall = tp / (tp + fn) if tp + fn > 0 else 0\n",
    "    f1_score = 2 * (precision * recall) / (precision + recall) if precision + recall > 0 else 0\n",
    "    \n",
    "    return {\n",
    "        'precision': precision,\n",
    "        'recall': recall,\n",
    "        'f1': f1_score\n",
    "    }\n",
    "\n",
    "def evaluate_jerx(*, references: Iterable[Iterable[Triplet]], predictions: Iterable[Iterable[Triplet]]):\n",
    "    score_dicts = [\n",
    "        evaluate_jerx_single(reference=reference, prediction=prediction) \n",
    "        for reference, prediction in zip(references, predictions)\n",
    "    ]\n",
    "    return {('mean_' + key): np.mean([scores[key] for scores in score_dicts]) for key in score_dicts[0].keys()}"
   ]
  },
  {
   "cell_type": "code",
   "execution_count": null,
   "metadata": {},
   "outputs": [
    {
     "name": "stdout",
     "output_type": "stream",
     "text": [
      "{'precision': 0.5, 'recall': 0.3333333333333333, 'f1': 0.4}\n"
     ]
    }
   ],
   "source": [
    "reference = [(('John', 'PERSON'), 'works_at', ('Google', 'ORG')), (('Mike', 'PERSON'), 'lives_in', ('Paris', 'LOC')), (('Dwight', 'PERSON'), 'sells', ('Paper', 'OBJ'))]\n",
    "prediction = [(('John', 'PERSON'), 'works_at', ('Google', 'ORG')), (('Mike', 'PERSON'), 'lives_in', ('New York', 'LOC'))]\n",
    "\n",
    "scores = evaluate_jerx_single(reference=reference, prediction=prediction)\n",
    "test_eq(scores, {'precision': 0.5, 'recall': 0.3333333333333333, 'f1': 0.4})\n",
    "print(scores)"
   ]
  },
  {
   "cell_type": "code",
   "execution_count": null,
   "metadata": {},
   "outputs": [],
   "source": [
    "reference = [(('John', 'PERSON'), 'works_at', ('Google', 'ORG')), (('Mike', 'PERSON'), 'lives_in', ('Paris', 'LOC')), (('Dwight', 'PERSON'), 'sells', ('Paper', 'OBJ'))]\n",
    "prediction = [(('John', 'PERSON'), 'works_at', ('Google', 'ORG')), (('Mike', 'PERSON'), 'lives_in', ('New York', 'LOC'))]\n",
    "\n",
    "scores = evaluate_jerx_single(reference=reference, prediction=prediction)\n",
    "test_eq(scores, {'precision': 0.5, 'recall': 0.3333333333333333, 'f1': 0.4})\n",
    "print(scores)"
   ]
  },
  {
   "cell_type": "code",
   "execution_count": null,
   "metadata": {},
   "outputs": [
    {
     "name": "stdout",
     "output_type": "stream",
     "text": [
      "{'mean_precision': 0.25, 'mean_recall': 0.16666666666666666, 'mean_f1': 0.2}\n"
     ]
    }
   ],
   "source": [
    "references = [\n",
    "    [(('John', 'PERSON'), 'works_at', ('Google', 'ORG')), (('Mike', 'PERSON'), 'lives_in', ('Paris', 'LOC')), (('Dwight', 'PERSON'), 'sells', ('Paper', 'OBJ'))],\n",
    "    [(('Henry', 'PERSON'), 'founded', ('Ford', 'ORG'))],\n",
    "]\n",
    "predictions = [\n",
    "    [(('John', 'PERSON'), 'works_at', ('Google', 'ORG')), (('Mike', 'PERSON'), 'lives_in', ('New York', 'LOC'))],\n",
    "    [(('Henry', 'PERSON'), 'founded', ('Boston Dynamics', 'ORG'))],\n",
    "]\n",
    "\n",
    "scores = evaluate_jerx(references=references, predictions=predictions)\n",
    "test_eq(scores, {'mean_precision': 0.25, 'mean_recall': 0.16666666666666666, 'mean_f1': 0.2})\n",
    "print(scores)"
   ]
  },
  {
   "cell_type": "code",
   "execution_count": null,
   "metadata": {},
   "outputs": [],
   "source": [
    "#|export\n",
    "\n",
    "def evaluate_pipe_jerx(dataset, pipe):\n",
    "    import evaluate\n",
    "\n",
    "    log.info(f\"Evaluating model for JER on dataset with {len(dataset)} samples.\")\n",
    "\n",
    "    tokenizer = pipe.tokenizer\n",
    "\n",
    "    def _clean(text):\n",
    "        return text.replace(tokenizer.special_tokens_map[\"eos_token\"], \"\").strip()\n",
    "\n",
    "    results = pipe(dataset[\"input\"])\n",
    "    generations = [result[0][\"generated_text\"] for result in results]\n",
    "    predictions = [parse_triplet_strings(_clean(text)) for text in generations]\n",
    "    references = [parse_triplet_strings(_clean(text)) for text in dataset[\"output\"]]\n",
    "\n",
    "    dataf = dataset.to_pandas()\n",
    "    dataf[\"generation\"] = generations\n",
    "    dataf[\"prediction\"] = predictions\n",
    "    dataf[\"reference\"] = references\n",
    "\n",
    "    metric = evaluate.load(\"bdsaglam/jer\")\n",
    "    scores = metric.compute(predictions=predictions, references=references)\n",
    "\n",
    "    return scores, dataf\n",
    "\n",
    "\n",
    "def evaluate_model_jerx(\n",
    "    dataset,\n",
    "    *,\n",
    "    response_template: str,\n",
    "    tokenizer,\n",
    "    model,\n",
    "    max_new_tokens=256,\n",
    "    batch_size=4,\n",
    "    **kwargs,\n",
    "):\n",
    "    assert len(dataset) > 0, \"Dataset is empty!\"\n",
    "\n",
    "    def extract_input_output(example):\n",
    "        input, output = example[\"text\"].rsplit(response_template, 1)\n",
    "        input += response_template\n",
    "        return {\"input\": input, \"output\": output}\n",
    "\n",
    "    dataset = dataset.map(extract_input_output)\n",
    "\n",
    "    # setup generation pipeline\n",
    "    from transformers import pipeline\n",
    "\n",
    "    pipe = pipeline(\n",
    "        task=\"text-generation\",\n",
    "        model=model,\n",
    "        tokenizer=tokenizer,\n",
    "        max_new_tokens=max_new_tokens,\n",
    "        batch_size=batch_size,\n",
    "        return_full_text=False,\n",
    "        **kwargs,\n",
    "    )\n",
    "\n",
    "    return evaluate_pipe_jerx(dataset, pipe)"
   ]
  },
  {
   "cell_type": "code",
   "execution_count": null,
   "metadata": {},
   "outputs": [],
   "source": [
    "#|hide\n",
    "import nbdev; nbdev.nbdev_export()"
   ]
  }
 ],
 "metadata": {
  "kernelspec": {
   "display_name": "python3",
   "language": "python",
   "name": "python3"
  }
 },
 "nbformat": 4,
 "nbformat_minor": 2
}

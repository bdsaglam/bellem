{
 "cells": [
  {
   "attachments": {},
   "cell_type": "markdown",
   "metadata": {},
   "source": [
    "# DSPy Self-Consistency"
   ]
  },
  {
   "cell_type": "code",
   "execution_count": 1,
   "metadata": {},
   "outputs": [],
   "source": [
    "#|default_exp dspy.module.sc"
   ]
  },
  {
   "cell_type": "code",
   "execution_count": 2,
   "metadata": {},
   "outputs": [],
   "source": [
    "#|hide\n",
    "from fastcore.test import *\n",
    "from nbdev.showdoc import *"
   ]
  },
  {
   "cell_type": "code",
   "execution_count": 3,
   "metadata": {},
   "outputs": [],
   "source": [
    "#|export\n",
    "from copy import deepcopy\n",
    "\n",
    "import dspy\n",
    "from dspy.primitives.program import Module\n",
    "\n",
    "from bellem.logging import get_logger\n",
    "\n",
    "log = get_logger(__name__)"
   ]
  },
  {
   "cell_type": "code",
   "execution_count": 4,
   "metadata": {},
   "outputs": [],
   "source": [
    "#|export\n",
    "\n",
    "class SelfConsistency(Module):\n",
    "    def __init__(self, predictors: list, field: str):\n",
    "        super().__init__()\n",
    "        assert len(predictors) > 1, \"Self-consistency prompting requires at least 2 predictors\"\n",
    "        self.predictors = predictors\n",
    "        self.field = field\n",
    "    \n",
    "    @classmethod\n",
    "    def from_clones(cls, predictor, field: str, n: int):\n",
    "        return cls(predictors=[deepcopy(predictor) for _ in range(n)], field=field)    \n",
    "\n",
    "    def forward(self, **kwargs):\n",
    "        predictions = [predictor(**kwargs) for predictor in self.predictors]\n",
    "        final_prediction = dspy.majority(predictions, field=self.field)\n",
    "        final_prediction.candidate_predictions = predictions\n",
    "        return final_prediction"
   ]
  },
  {
   "cell_type": "code",
   "execution_count": 5,
   "metadata": {},
   "outputs": [
    {
     "data": {
      "text/plain": [
       "True"
      ]
     },
     "execution_count": 5,
     "metadata": {},
     "output_type": "execute_result"
    }
   ],
   "source": [
    "#|hide\n",
    "from dotenv import load_dotenv\n",
    "load_dotenv()"
   ]
  },
  {
   "cell_type": "code",
   "execution_count": 6,
   "metadata": {},
   "outputs": [],
   "source": [
    "from bellem.dspy.utils import configure_lm\n",
    "\n",
    "lm = configure_lm('openai/gpt-4o-mini', temperature=0.7)"
   ]
  },
  {
   "cell_type": "code",
   "execution_count": 7,
   "metadata": {},
   "outputs": [],
   "source": [
    "context = \"\"\"\n",
    "# Corn production in the United States\\nIowa, the largest producer of corn in the US, grows three times as much corn as Mexico. Iowa harvested 3,548 acres (1,436 ha) of sweet corn in 2007. In 2011, the state had 92,300 corn farms on 30,700,000 acres (12,400,000 ha), the average size being 333 acres (135 ha), and the average dollar value per acre being US $6,708. In the same year, there were 13.7 million harvested acres of corn for grain, producing 2.36 billion bushels, which yielded 172.0 bu / acre, with US $14.5 billion of corn value of production. Almost 1.88 billion bushels of corn were grown in the state in 2012 on 13.7 million acres of land, while the 2013 projections are 2.45 billion bushels of corn on 13.97 million acres of land.\\n\\n# Iowa\\nAlmost immediately after achieving territorial status, a clamor arose for statehood. On December 28, 1846, Iowa became the 29th state in the Union when President James K. Polk signed Iowa's admission bill into law. Once admitted to the Union, the state's boundary issues resolved, and most of its land purchased from the Indians, Iowa set its direction to development and organized campaigns for settlers and investors, boasting the young frontier state's rich farmlands, fine citizens, free and open society, and good government.\n",
    "\"\"\".strip()\n",
    "\n",
    "question = 'Who was president when the place where the majority of sweet corn is grown became a state?'"
   ]
  },
  {
   "cell_type": "code",
   "execution_count": 8,
   "metadata": {},
   "outputs": [],
   "source": [
    "class QA(dspy.Signature):\n",
    "    \"\"\"Answer the question based on the given context.\"\"\"\n",
    "\n",
    "    context: str = dspy.InputField()\n",
    "    question = dspy.InputField()\n",
    "    answer = dspy.OutputField(desc=\"in a few words\")\n",
    "\n",
    "cot = dspy.ChainOfThought(QA)\n",
    "sc = SelfConsistency.from_clones(cot, field='answer', n=3)"
   ]
  },
  {
   "cell_type": "code",
   "execution_count": 9,
   "metadata": {},
   "outputs": [
    {
     "data": {
      "text/plain": [
       "Prediction(\n",
       "    reasoning='Iowa, where the majority of sweet corn is grown, became a state on December 28, 1846. At that time, James K. Polk was the President of the United States, having taken office in 1845. Therefore, he was the president when Iowa achieved statehood.',\n",
       "    answer='James K. Polk',\n",
       "    candidate_predictions=[Prediction(\n",
       "    reasoning='Iowa, where the majority of sweet corn is grown, became a state on December 28, 1846. At that time, James K. Polk was the President of the United States, having taken office in 1845. Therefore, he was the president when Iowa achieved statehood.',\n",
       "    answer='James K. Polk'\n",
       "), Prediction(\n",
       "    reasoning=\"Iowa became a state on December 28, 1846. At that time, the President of the United States was James K. Polk, who signed Iowa's admission bill into law. Therefore, James K. Polk was the president when Iowa, the largest producer of sweet corn in the U.S., became a state.\",\n",
       "    answer='James K. Polk'\n",
       "), Prediction(\n",
       "    reasoning=\"Iowa, the largest producer of corn in the US, became a state on December 28, 1846. At that time, James K. Polk was the President of the United States, as he signed Iowa's admission bill into law. Therefore, he was the president when Iowa, where the majority of sweet corn is grown, became a state.\",\n",
       "    answer='James K. Polk'\n",
       ")]\n",
       ")"
      ]
     },
     "execution_count": 9,
     "metadata": {},
     "output_type": "execute_result"
    }
   ],
   "source": [
    "sc_prediction = sc(context=context, question=question)\n",
    "sc_prediction"
   ]
  },
  {
   "cell_type": "code",
   "execution_count": 10,
   "metadata": {},
   "outputs": [],
   "source": [
    "#|hide\n",
    "import nbdev; nbdev.nbdev_export()"
   ]
  }
 ],
 "metadata": {
  "kernelspec": {
   "display_name": "thesis",
   "language": "python",
   "name": "python3"
  },
  "language_info": {
   "codemirror_mode": {
    "name": "ipython",
    "version": 3
   },
   "file_extension": ".py",
   "mimetype": "text/x-python",
   "name": "python",
   "nbconvert_exporter": "python",
   "pygments_lexer": "ipython3",
   "version": "3.10.16"
  }
 },
 "nbformat": 4,
 "nbformat_minor": 2
}

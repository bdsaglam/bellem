{
 "cells": [
  {
   "cell_type": "markdown",
   "metadata": {},
   "source": [
    "# Reward heuristic JERX task"
   ]
  },
  {
   "cell_type": "code",
   "execution_count": null,
   "metadata": {},
   "outputs": [],
   "source": [
    "#|default_exp jerx.reward.heuristic"
   ]
  },
  {
   "cell_type": "code",
   "execution_count": null,
   "metadata": {},
   "outputs": [],
   "source": [
    "#|hide\n",
    "from fastcore.test import *\n",
    "from nbdev.showdoc import *"
   ]
  },
  {
   "cell_type": "code",
   "execution_count": null,
   "metadata": {},
   "outputs": [],
   "source": [
    "#|export\n",
    "\n",
    "from bellem.logging import get_logger\n",
    "\n",
    "log = get_logger(__name__)"
   ]
  },
  {
   "cell_type": "code",
   "execution_count": null,
   "metadata": {},
   "outputs": [],
   "source": [
    "#|export\n",
    "\n",
    "def compute_heuristic_reward(generation: str, delimiter: str = \"|\") -> float:\n",
    "    lines = generation.splitlines()\n",
    "    if len(lines) < 2:\n",
    "        return 0\n",
    "\n",
    "    triplets = set([line for line in lines if len(line.split(delimiter)) == 3])\n",
    "    if len(triplets) > 30:\n",
    "        return 0\n",
    "\n",
    "    entities = set()\n",
    "    relations = set()\n",
    "    for triplet in triplets:\n",
    "        subj, relation, obj = triplet.split(delimiter)\n",
    "        entities.add(subj.strip())\n",
    "        entities.add(obj.strip())\n",
    "        relations.add(relation.strip())\n",
    "\n",
    "    reward = 0\n",
    "    if len(entities) > 5:\n",
    "        reward += 0.3\n",
    "    if len(relations) > 5:\n",
    "        reward += 0.5\n",
    "\n",
    "    if len(triplets) > 5:\n",
    "        reward += 0.1\n",
    "    elif len(triplets) >= 3:\n",
    "        reward += 0.05\n",
    "\n",
    "    if (len(triplets) / len(lines)) > 0.8:\n",
    "        reward += 0.05\n",
    "\n",
    "    return reward\n",
    "\n"
   ]
  },
  {
   "cell_type": "code",
   "execution_count": null,
   "metadata": {},
   "outputs": [
    {
     "data": {
      "text/plain": [
       "0.9500000000000001"
      ]
     },
     "execution_count": null,
     "metadata": {},
     "output_type": "execute_result"
    }
   ],
   "source": [
    "generation = \"\"\"\n",
    "Robinson | location | Delaware County, Iowa\n",
    "Robinson | location coordinates | 42.340037N, -91.578738W\n",
    "Robinson | distance from Ryan | 5 miles\n",
    "Robinson | distance from Monti | 3 miles\n",
    "Waukee High School | location | Waukee, Iowa\n",
    "Waukee High School | type | public high school\n",
    "Waukee High School | grade levels | 10-12\n",
    "Waukee High School | affiliation | Waukee Community School District\n",
    "Prairieview | type | 8/9 school\n",
    "Timberline | type | 8/9 school\n",
    "\"\"\".strip()\n",
    "\n",
    "compute_heuristic_reward(generation)"
   ]
  },
  {
   "cell_type": "code",
   "execution_count": null,
   "metadata": {},
   "outputs": [],
   "source": [
    "#|hide\n",
    "import nbdev; nbdev.nbdev_export()"
   ]
  }
 ],
 "metadata": {
  "kernelspec": {
   "display_name": "python3",
   "language": "python",
   "name": "python3"
  }
 },
 "nbformat": 4,
 "nbformat_minor": 2
}

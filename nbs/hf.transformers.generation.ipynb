{
 "cells": [
  {
   "attachments": {},
   "cell_type": "markdown",
   "metadata": {},
   "source": [
    "# Transformers utils for text generation"
   ]
  },
  {
   "cell_type": "code",
   "execution_count": null,
   "metadata": {},
   "outputs": [],
   "source": [
    "#|default_exp hf.transformers.generation"
   ]
  },
  {
   "cell_type": "code",
   "execution_count": null,
   "metadata": {},
   "outputs": [],
   "source": [
    "#|hide\n",
    "from fastcore.test import *\n",
    "from nbdev.showdoc import *"
   ]
  },
  {
   "cell_type": "code",
   "execution_count": null,
   "metadata": {},
   "outputs": [],
   "source": [
    "#|export\n",
    "\n",
    "from copy import deepcopy\n",
    "\n",
    "from tqdm import tqdm\n",
    "\n",
    "from bellem.logging import get_logger\n",
    "\n",
    "log = get_logger(__name__)"
   ]
  },
  {
   "cell_type": "code",
   "execution_count": null,
   "metadata": {},
   "outputs": [],
   "source": [
    "#|export\n",
    "\n",
    "def flat_pipeline(pipe):\n",
    "    def func(inputs, **kwargs) -> list[str]:\n",
    "        return [result[0][\"generated_text\"] for result in tqdm(pipe(inputs, **kwargs), total=len(inputs))]\n",
    "\n",
    "    return func\n",
    "\n",
    "\n",
    "def preprocess_generation_params(tokenizer, generation_params: dict) -> dict:\n",
    "    generation_params = deepcopy(generation_params)\n",
    "\n",
    "    terminators = generation_params.pop(\"terminators\", [])\n",
    "    eos_token_ids = {tokenizer.eos_token_id}\n",
    "    for terminator in terminators:\n",
    "        if isinstance(terminator, int):\n",
    "            eos_token_ids.add(terminator)\n",
    "        elif isinstance(terminator, str):\n",
    "            eos_token_ids.add(tokenizer.convert_tokens_to_ids(terminator))\n",
    "        else:\n",
    "            raise ValueError(f\"Invalid terminator token {terminator}.\")\n",
    "    generation_params[\"eos_token_id\"] = sorted(eos_token_ids)\n",
    "\n",
    "    generation_params[\"pad_token_id\"] = tokenizer.eos_token_id\n",
    "\n",
    "    return generation_params\n",
    "\n",
    "\n",
    "def generate(\n",
    "    pipe,\n",
    "    inputs,\n",
    "    **generation_kwargs,\n",
    ") -> list[str]:\n",
    "    # Setup generation parameters\n",
    "    generation_kwargs = preprocess_generation_params(pipe.tokenizer, generation_kwargs)\n",
    "    generation_kwargs[\"return_full_text\"] = False\n",
    "\n",
    "    # Generate text\n",
    "    log.info(f\"Running pipeline on {len(inputs)} samples...\")\n",
    "    return flat_pipeline(pipe)(inputs, **generation_kwargs)"
   ]
  },
  {
   "cell_type": "code",
   "execution_count": null,
   "metadata": {},
   "outputs": [],
   "source": [
    "#|hide\n",
    "import nbdev; nbdev.nbdev_export()"
   ]
  }
 ],
 "metadata": {
  "kernelspec": {
   "display_name": "python3",
   "language": "python",
   "name": "python3"
  }
 },
 "nbformat": 4,
 "nbformat_minor": 2
}

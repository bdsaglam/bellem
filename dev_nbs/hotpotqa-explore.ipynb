{
 "cells": [
  {
   "cell_type": "code",
   "execution_count": 3,
   "metadata": {},
   "outputs": [],
   "source": [
    "from datasets import load_dataset"
   ]
  },
  {
   "cell_type": "code",
   "execution_count": 4,
   "metadata": {},
   "outputs": [
    {
     "data": {
      "text/plain": [
       "DatasetDict({\n",
       "    validation: Dataset({\n",
       "        features: ['id', 'paragraphs', 'question', 'question_decomposition', 'answer', 'answer_aliases', 'answerable'],\n",
       "        num_rows: 7405\n",
       "    })\n",
       "})"
      ]
     },
     "execution_count": 4,
     "metadata": {},
     "output_type": "execute_result"
    }
   ],
   "source": [
    "dsd = load_dataset('bdsaglam/hotpotqa-distractor')\n",
    "dsd"
   ]
  },
  {
   "cell_type": "code",
   "execution_count": 8,
   "metadata": {},
   "outputs": [
    {
     "data": {
      "text/plain": [
       "DatasetDict({\n",
       "    validation: Dataset({\n",
       "        features: ['id', 'paragraphs', 'question', 'question_decomposition', 'answer', 'answer_aliases', 'answerable', 'n_hops'],\n",
       "        num_rows: 7405\n",
       "    })\n",
       "})"
      ]
     },
     "execution_count": 8,
     "metadata": {},
     "output_type": "execute_result"
    }
   ],
   "source": [
    "dsd = dsd.map(lambda x: {'n_hops': len(x['question_decomposition'])})\n",
    "dsd"
   ]
  },
  {
   "cell_type": "code",
   "execution_count": null,
   "metadata": {},
   "outputs": [
    {
     "data": {
      "text/html": [
       "<div>\n",
       "<style scoped>\n",
       "    .dataframe tbody tr th:only-of-type {\n",
       "        vertical-align: middle;\n",
       "    }\n",
       "\n",
       "    .dataframe tbody tr th {\n",
       "        vertical-align: top;\n",
       "    }\n",
       "\n",
       "    .dataframe thead th {\n",
       "        text-align: right;\n",
       "    }\n",
       "</style>\n",
       "<table border=\"1\" class=\"dataframe\">\n",
       "  <thead>\n",
       "    <tr style=\"text-align: right;\">\n",
       "      <th></th>\n",
       "      <th>id</th>\n",
       "      <th>paragraphs</th>\n",
       "      <th>question</th>\n",
       "      <th>question_decomposition</th>\n",
       "      <th>answer</th>\n",
       "      <th>answer_aliases</th>\n",
       "      <th>answerable</th>\n",
       "      <th>n_hops</th>\n",
       "    </tr>\n",
       "  </thead>\n",
       "  <tbody>\n",
       "    <tr>\n",
       "      <th>0</th>\n",
       "      <td>5a8b57f25542995d1e6f1371</td>\n",
       "      <td>[{'idx': 0, 'is_supporting': False, 'paragraph...</td>\n",
       "      <td>Were Scott Derrickson and Ed Wood of the same ...</td>\n",
       "      <td>[{'answer': '', 'id': 0, 'paragraph_support_id...</td>\n",
       "      <td>yes</td>\n",
       "      <td>[]</td>\n",
       "      <td>True</td>\n",
       "      <td>2</td>\n",
       "    </tr>\n",
       "    <tr>\n",
       "      <th>1</th>\n",
       "      <td>5a8c7595554299585d9e36b6</td>\n",
       "      <td>[{'idx': 0, 'is_supporting': False, 'paragraph...</td>\n",
       "      <td>What government position was held by the woman...</td>\n",
       "      <td>[{'answer': '', 'id': 0, 'paragraph_support_id...</td>\n",
       "      <td>Chief of Protocol</td>\n",
       "      <td>[]</td>\n",
       "      <td>True</td>\n",
       "      <td>2</td>\n",
       "    </tr>\n",
       "    <tr>\n",
       "      <th>2</th>\n",
       "      <td>5a85ea095542994775f606a8</td>\n",
       "      <td>[{'idx': 0, 'is_supporting': False, 'paragraph...</td>\n",
       "      <td>What science fantasy young adult series, told ...</td>\n",
       "      <td>[{'answer': '', 'id': 0, 'paragraph_support_id...</td>\n",
       "      <td>Animorphs</td>\n",
       "      <td>[]</td>\n",
       "      <td>True</td>\n",
       "      <td>2</td>\n",
       "    </tr>\n",
       "    <tr>\n",
       "      <th>3</th>\n",
       "      <td>5adbf0a255429947ff17385a</td>\n",
       "      <td>[{'idx': 0, 'is_supporting': False, 'paragraph...</td>\n",
       "      <td>Are the Laleli Mosque and Esma Sultan Mansion ...</td>\n",
       "      <td>[{'answer': '', 'id': 0, 'paragraph_support_id...</td>\n",
       "      <td>no</td>\n",
       "      <td>[]</td>\n",
       "      <td>True</td>\n",
       "      <td>2</td>\n",
       "    </tr>\n",
       "    <tr>\n",
       "      <th>4</th>\n",
       "      <td>5a8e3ea95542995a26add48d</td>\n",
       "      <td>[{'idx': 0, 'is_supporting': False, 'paragraph...</td>\n",
       "      <td>The director of the romantic comedy \"Big Stone...</td>\n",
       "      <td>[{'answer': '', 'id': 0, 'paragraph_support_id...</td>\n",
       "      <td>Greenwich Village, New York City</td>\n",
       "      <td>[]</td>\n",
       "      <td>True</td>\n",
       "      <td>2</td>\n",
       "    </tr>\n",
       "  </tbody>\n",
       "</table>\n",
       "</div>"
      ],
      "text/plain": [
       "                         id  \\\n",
       "0  5a8b57f25542995d1e6f1371   \n",
       "1  5a8c7595554299585d9e36b6   \n",
       "2  5a85ea095542994775f606a8   \n",
       "3  5adbf0a255429947ff17385a   \n",
       "4  5a8e3ea95542995a26add48d   \n",
       "\n",
       "                                          paragraphs  \\\n",
       "0  [{'idx': 0, 'is_supporting': False, 'paragraph...   \n",
       "1  [{'idx': 0, 'is_supporting': False, 'paragraph...   \n",
       "2  [{'idx': 0, 'is_supporting': False, 'paragraph...   \n",
       "3  [{'idx': 0, 'is_supporting': False, 'paragraph...   \n",
       "4  [{'idx': 0, 'is_supporting': False, 'paragraph...   \n",
       "\n",
       "                                            question  \\\n",
       "0  Were Scott Derrickson and Ed Wood of the same ...   \n",
       "1  What government position was held by the woman...   \n",
       "2  What science fantasy young adult series, told ...   \n",
       "3  Are the Laleli Mosque and Esma Sultan Mansion ...   \n",
       "4  The director of the romantic comedy \"Big Stone...   \n",
       "\n",
       "                              question_decomposition  \\\n",
       "0  [{'answer': '', 'id': 0, 'paragraph_support_id...   \n",
       "1  [{'answer': '', 'id': 0, 'paragraph_support_id...   \n",
       "2  [{'answer': '', 'id': 0, 'paragraph_support_id...   \n",
       "3  [{'answer': '', 'id': 0, 'paragraph_support_id...   \n",
       "4  [{'answer': '', 'id': 0, 'paragraph_support_id...   \n",
       "\n",
       "                             answer answer_aliases  answerable  n_hops  \n",
       "0                               yes             []        True       2  \n",
       "1                 Chief of Protocol             []        True       2  \n",
       "2                         Animorphs             []        True       2  \n",
       "3                                no             []        True       2  \n",
       "4  Greenwich Village, New York City             []        True       2  "
      ]
     },
     "execution_count": 9,
     "metadata": {},
     "output_type": "execute_result"
    }
   ],
   "source": [
    "df = dsd['validation'].to_pandas()\n",
    "df.head()"
   ]
  },
  {
   "cell_type": "code",
   "execution_count": 10,
   "metadata": {},
   "outputs": [
    {
     "data": {
      "text/plain": [
       "count    7405.0\n",
       "mean        2.0\n",
       "std         0.0\n",
       "min         2.0\n",
       "25%         2.0\n",
       "50%         2.0\n",
       "75%         2.0\n",
       "max         2.0\n",
       "Name: n_hops, dtype: float64"
      ]
     },
     "execution_count": 10,
     "metadata": {},
     "output_type": "execute_result"
    }
   ],
   "source": [
    "df['n_hops'].describe()"
   ]
  },
  {
   "cell_type": "code",
   "execution_count": null,
   "metadata": {},
   "outputs": [],
   "source": []
  }
 ],
 "metadata": {
  "kernelspec": {
   "display_name": "baris",
   "language": "python",
   "name": "python3"
  },
  "language_info": {
   "codemirror_mode": {
    "name": "ipython",
    "version": 3
   },
   "file_extension": ".py",
   "mimetype": "text/x-python",
   "name": "python",
   "nbconvert_exporter": "python",
   "pygments_lexer": "ipython3",
   "version": "3.10.14"
  }
 },
 "nbformat": 4,
 "nbformat_minor": 2
}

{
 "cells": [
  {
   "cell_type": "markdown",
   "metadata": {},
   "source": [
    "# JERX predictions"
   ]
  },
  {
   "cell_type": "code",
   "execution_count": null,
   "metadata": {},
   "outputs": [],
   "source": [
    "import logging\n",
    "logging.basicConfig(level=logging.INFO, format='%(asctime)s - %(name)s - %(levelname)s - %(message)s')"
   ]
  },
  {
   "cell_type": "code",
   "execution_count": null,
   "metadata": {},
   "outputs": [
    {
     "data": {
      "text/plain": [
       "True"
      ]
     },
     "execution_count": null,
     "metadata": {},
     "output_type": "execute_result"
    }
   ],
   "source": [
    "from dotenv import load_dotenv\n",
    "load_dotenv()"
   ]
  },
  {
   "cell_type": "code",
   "execution_count": null,
   "metadata": {},
   "outputs": [],
   "source": [
    "import nest_asyncio\n",
    "nest_asyncio.apply()"
   ]
  },
  {
   "cell_type": "code",
   "execution_count": null,
   "metadata": {},
   "outputs": [],
   "source": [
    "import os\n",
    "import random\n",
    "import warnings\n",
    "import json\n",
    "import types\n",
    "import textwrap\n",
    "from pathlib import Path\n",
    "\n",
    "import pandas as pd\n",
    "from pydantic import BaseModel\n",
    "\n",
    "from bellem.text.utils import fuzzy_match\n",
    "from bellem.utils import generate_time_id, set_seed\n",
    "\n",
    "set_seed(42)"
   ]
  },
  {
   "cell_type": "code",
   "execution_count": null,
   "metadata": {},
   "outputs": [
    {
     "data": {
      "text/html": [
       "<div>\n",
       "<style scoped>\n",
       "    .dataframe tbody tr th:only-of-type {\n",
       "        vertical-align: middle;\n",
       "    }\n",
       "\n",
       "    .dataframe tbody tr th {\n",
       "        vertical-align: top;\n",
       "    }\n",
       "\n",
       "    .dataframe thead th {\n",
       "        text-align: right;\n",
       "    }\n",
       "</style>\n",
       "<table border=\"1\" class=\"dataframe\">\n",
       "  <thead>\n",
       "    <tr style=\"text-align: right;\">\n",
       "      <th></th>\n",
       "      <th>paragraph_idx</th>\n",
       "      <th>is_supporting</th>\n",
       "      <th>text</th>\n",
       "      <th>__index_level_0__</th>\n",
       "      <th>input</th>\n",
       "      <th>generation</th>\n",
       "    </tr>\n",
       "    <tr>\n",
       "      <th>id</th>\n",
       "      <th></th>\n",
       "      <th></th>\n",
       "      <th></th>\n",
       "      <th></th>\n",
       "      <th></th>\n",
       "      <th></th>\n",
       "    </tr>\n",
       "  </thead>\n",
       "  <tbody>\n",
       "    <tr>\n",
       "      <th>2hop__128801_205185</th>\n",
       "      <td>1</td>\n",
       "      <td>True</td>\n",
       "      <td># Midland, Texas\\nMidland is a city in and the...</td>\n",
       "      <td>0</td>\n",
       "      <td>[{'content': 'You are an excellent knowledge g...</td>\n",
       "      <td>Midland, Texas | is part of | Midland County, ...</td>\n",
       "    </tr>\n",
       "    <tr>\n",
       "      <th>2hop__128801_205185</th>\n",
       "      <td>11</td>\n",
       "      <td>True</td>\n",
       "      <td># KNFM\\nKNFM (92.3 FM), branded as \"Lonestar 9...</td>\n",
       "      <td>1</td>\n",
       "      <td>[{'content': 'You are an excellent knowledge g...</td>\n",
       "      <td>KNFM | broadcast area | Midland–Odessa metropo...</td>\n",
       "    </tr>\n",
       "    <tr>\n",
       "      <th>2hop__128806_205185</th>\n",
       "      <td>5</td>\n",
       "      <td>True</td>\n",
       "      <td># KQRX\\nKQRX (95.1 FM, \"Rock 95.1\") is a comme...</td>\n",
       "      <td>2</td>\n",
       "      <td>[{'content': 'You are an excellent knowledge g...</td>\n",
       "      <td>KQRX | location | Midland, Texas\\nKQRX | broad...</td>\n",
       "    </tr>\n",
       "    <tr>\n",
       "      <th>2hop__128895_11424</th>\n",
       "      <td>3</td>\n",
       "      <td>True</td>\n",
       "      <td># Atlantic City, New Jersey\\nThere were 15,504...</td>\n",
       "      <td>4</td>\n",
       "      <td>[{'content': 'You are an excellent knowledge g...</td>\n",
       "      <td>Atlantic City, New Jersey | population density...</td>\n",
       "    </tr>\n",
       "    <tr>\n",
       "      <th>2hop__128895_11424</th>\n",
       "      <td>12</td>\n",
       "      <td>True</td>\n",
       "      <td># WPUR\\nWPUR (107.3 FM) is a country music for...</td>\n",
       "      <td>5</td>\n",
       "      <td>[{'content': 'You are an excellent knowledge g...</td>\n",
       "      <td>WPUR | city | Atlantic City, New Jersey\\nWPUR ...</td>\n",
       "    </tr>\n",
       "  </tbody>\n",
       "</table>\n",
       "</div>"
      ],
      "text/plain": [
       "                     paragraph_idx  is_supporting  \\\n",
       "id                                                  \n",
       "2hop__128801_205185              1           True   \n",
       "2hop__128801_205185             11           True   \n",
       "2hop__128806_205185              5           True   \n",
       "2hop__128895_11424               3           True   \n",
       "2hop__128895_11424              12           True   \n",
       "\n",
       "                                                                  text  \\\n",
       "id                                                                       \n",
       "2hop__128801_205185  # Midland, Texas\\nMidland is a city in and the...   \n",
       "2hop__128801_205185  # KNFM\\nKNFM (92.3 FM), branded as \"Lonestar 9...   \n",
       "2hop__128806_205185  # KQRX\\nKQRX (95.1 FM, \"Rock 95.1\") is a comme...   \n",
       "2hop__128895_11424   # Atlantic City, New Jersey\\nThere were 15,504...   \n",
       "2hop__128895_11424   # WPUR\\nWPUR (107.3 FM) is a country music for...   \n",
       "\n",
       "                     __index_level_0__  \\\n",
       "id                                       \n",
       "2hop__128801_205185                  0   \n",
       "2hop__128801_205185                  1   \n",
       "2hop__128806_205185                  2   \n",
       "2hop__128895_11424                   4   \n",
       "2hop__128895_11424                   5   \n",
       "\n",
       "                                                                 input  \\\n",
       "id                                                                       \n",
       "2hop__128801_205185  [{'content': 'You are an excellent knowledge g...   \n",
       "2hop__128801_205185  [{'content': 'You are an excellent knowledge g...   \n",
       "2hop__128806_205185  [{'content': 'You are an excellent knowledge g...   \n",
       "2hop__128895_11424   [{'content': 'You are an excellent knowledge g...   \n",
       "2hop__128895_11424   [{'content': 'You are an excellent knowledge g...   \n",
       "\n",
       "                                                            generation  \n",
       "id                                                                      \n",
       "2hop__128801_205185  Midland, Texas | is part of | Midland County, ...  \n",
       "2hop__128801_205185  KNFM | broadcast area | Midland–Odessa metropo...  \n",
       "2hop__128806_205185  KQRX | location | Midland, Texas\\nKQRX | broad...  \n",
       "2hop__128895_11424   Atlantic City, New Jersey | population density...  \n",
       "2hop__128895_11424   WPUR | city | Atlantic City, New Jersey\\nWPUR ...  "
      ]
     },
     "execution_count": null,
     "metadata": {},
     "output_type": "execute_result"
    }
   ],
   "source": [
    "df = pd.read_json('/Users/bdsaglam/dev/repos/bellem/data/raw/musique-evaluation/jerx-inferences/llama3-sft-aw7ihmbc.jsonl', lines=True)\n",
    "df.set_index(\"id\", inplace=True)\n",
    "df.head()"
   ]
  },
  {
   "cell_type": "code",
   "execution_count": null,
   "metadata": {},
   "outputs": [],
   "source": [
    "i = 0\n",
    "row = df.iloc[0]"
   ]
  },
  {
   "cell_type": "code",
   "execution_count": null,
   "metadata": {},
   "outputs": [
    {
     "name": "stdout",
     "output_type": "stream",
     "text": [
      "# Midland, Texas\n",
      "Midland is a city in and the county seat of Midland County, Texas, United States, on the Southern Plains of the state's western area. A small portion of the city extends into Martin County.\n"
     ]
    }
   ],
   "source": [
    "document = row['input'][-1]['content']\n",
    "print(document)"
   ]
  },
  {
   "cell_type": "code",
   "execution_count": null,
   "metadata": {},
   "outputs": [
    {
     "name": "stdout",
     "output_type": "stream",
     "text": [
      "Midland, Texas | is part of | Midland County, Texas\n",
      "Midland, Texas | is part of | Texas\n",
      "Midland, Texas | is part of | Martin County, Texas\n",
      "Midland, Texas | country | United States\n",
      "Midland, Texas | is part of | Southern Plains\n",
      "Midland, Texas | is part of | Western United States\n"
     ]
    }
   ],
   "source": [
    "triplets = row['generation']\n",
    "print(triplets)"
   ]
  },
  {
   "cell_type": "code",
   "execution_count": null,
   "metadata": {},
   "outputs": [],
   "source": []
  }
 ],
 "metadata": {
  "kernelspec": {
   "display_name": "python3",
   "language": "python",
   "name": "python3"
  }
 },
 "nbformat": 4,
 "nbformat_minor": 4
}

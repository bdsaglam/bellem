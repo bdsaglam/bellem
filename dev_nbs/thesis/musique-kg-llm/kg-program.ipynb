{
 "cells": [
  {
   "cell_type": "code",
   "execution_count": 1,
   "metadata": {},
   "outputs": [
    {
     "data": {
      "text/plain": [
       "True"
      ]
     },
     "execution_count": 1,
     "metadata": {},
     "output_type": "execute_result"
    }
   ],
   "source": [
    "from dotenv import load_dotenv\n",
    "load_dotenv()"
   ]
  },
  {
   "cell_type": "code",
   "execution_count": 2,
   "metadata": {},
   "outputs": [],
   "source": [
    "import os\n",
    "import random\n",
    "from functools import partial\n",
    "from pathlib import Path\n",
    "\n",
    "import pandas as pd\n",
    "from openai import OpenAI\n",
    "\n",
    "from bellem.utils import jprint\n",
    "from bellem.utils import set_seed\n",
    "\n",
    "set_seed(42)"
   ]
  },
  {
   "cell_type": "code",
   "execution_count": 3,
   "metadata": {},
   "outputs": [],
   "source": [
    "from tqdm.auto import tqdm\n",
    "tqdm.pandas()"
   ]
  },
  {
   "cell_type": "code",
   "execution_count": 4,
   "metadata": {},
   "outputs": [],
   "source": [
    "LLM_MODEL_NAME = \"gpt-3.5-turbo\"\n",
    "# LLM_MODEL_NAME = \"llama-3-70b-tgi\""
   ]
  },
  {
   "cell_type": "code",
   "execution_count": 5,
   "metadata": {},
   "outputs": [],
   "source": [
    "import bm25s\n",
    "\n",
    "class KnowledgeGraph:\n",
    "    def __init__(self, triplets: list[tuple[str, str, str]]):\n",
    "        self.corpus = [' | '.join(triplet) for triplet in triplets]\n",
    "        self.retriever = bm25s.BM25(corpus=self.corpus)\n",
    "        self.tokenized_corpus = bm25s.tokenize(self.corpus)\n",
    "        self.retriever.index(self.tokenized_corpus)\n",
    "\n",
    "    def search(self, query: str, top_k: int = 10):\n",
    "        top_k = min(top_k, len(self.corpus))\n",
    "        results, _ = self.retriever.retrieve(bm25s.tokenize(query), k=top_k)\n",
    "        return results[0].tolist()"
   ]
  },
  {
   "cell_type": "code",
   "execution_count": 6,
   "metadata": {},
   "outputs": [],
   "source": [
    "import logging\n",
    "from bm25s import debug_logger as bm25s_logger\n",
    "\n",
    "bm25s_logger.setLevel(logging.WARNING)"
   ]
  },
  {
   "cell_type": "code",
   "execution_count": 7,
   "metadata": {},
   "outputs": [],
   "source": [
    "DEFAULT_SYSTEM_PROMPT = \"\"\"You are an expert Q&A system that is trusted around the world. Always answer the question using the provided context information, and not prior knowledge.\n",
    "Some rules to follow:\n",
    "1. Never directly reference the given context in your answer.\n",
    "2. Avoid statements like 'Based on the context, ...' or 'The context information ...' or anything along those lines.\n",
    "3. Do not use propositions like 'because', 'since', 'as', 'due to', 'as a result', 'in', 'on', 'at', etc.\n",
    "4. If the answer is not present in the context, provide \"N/A\" as the answer.\n",
    "\"\"\"\n",
    "\n",
    "USER_PROMPT = \"\"\"The context information below is provided as a set of entity-relation-entity triplets from knowledge graph.\n",
    "---------------------\n",
    "{context}\n",
    "---------------------\n",
    "Given the context information and not prior knowledge, answer the question.\n",
    "{question}\n",
    "\n",
    "Response Format:\n",
    "Reasoning: Provide your reasoning for the answer.\n",
    "Answer: Provide the answer in 2-4 words.\n",
    "\"\"\"\n",
    "\n",
    "\n",
    "def make_question_answer_func(model_name: str = \"gpt-3.5-turbo\", client: OpenAI = None):\n",
    "    if client is None:\n",
    "        client = OpenAI()\n",
    "\n",
    "    def func(context: str, question: str) -> dict:\n",
    "        messages = [\n",
    "            {\n",
    "                \"role\": \"system\",\n",
    "                \"content\": DEFAULT_SYSTEM_PROMPT,\n",
    "            },\n",
    "            {\n",
    "                \"role\": \"user\",\n",
    "                \"content\": USER_PROMPT.format(context=context, question=question),\n",
    "            },\n",
    "        ]\n",
    "        chat_completion = client.chat.completions.create(\n",
    "            model=model_name,\n",
    "            messages=messages,\n",
    "        )\n",
    "        text = chat_completion.choices[0].message.content\n",
    "        reasoning = \"\"\n",
    "        answer = \"N/A\"\n",
    "        for line in text.splitlines():\n",
    "            if line.lower().startswith(\"reasoning:\"):\n",
    "                reasoning = line.split(\":\", 1)[1].strip()\n",
    "            elif line.lower().startswith(\"answer:\"):\n",
    "                answer = line.split(\":\", 1)[1].strip()\n",
    "        return dict(answer=answer, reasoning=reasoning, raw=text)\n",
    "\n",
    "    return func"
   ]
  },
  {
   "cell_type": "code",
   "execution_count": 8,
   "metadata": {},
   "outputs": [],
   "source": [
    "DEFAULT_SYSTEM_PROMPT = \"\"\"You are an excellent knowledge graph search agent that is trusted around the world. You come up with a query from a given question so that you can search the knowledge graph for relevant information. \n",
    "\n",
    "# Example\n",
    "Question: What is the capital of France?\n",
    "Query: capital of France\n",
    "\n",
    "Question: Which city Mississipi river flows through?\n",
    "Query: Mississipi river\n",
    "\n",
    "# Task\n",
    "Question: {question}\n",
    "Query: \n",
    "\"\"\"\n",
    "\n",
    "def make_query_expansion_func(model_name: str = \"gpt-3.5-turbo\", client: OpenAI = None):\n",
    "    if client is None:\n",
    "        client = OpenAI()\n",
    "\n",
    "    def func(question: str) -> dict:\n",
    "        messages = [\n",
    "            {\n",
    "                \"role\": \"system\",\n",
    "                \"content\": DEFAULT_SYSTEM_PROMPT.format(question=question),\n",
    "            },\n",
    "        ]\n",
    "        chat_completion = client.chat.completions.create(\n",
    "            model=model_name,\n",
    "            messages=messages,\n",
    "        )\n",
    "        text = chat_completion.choices[0].message.content\n",
    "        return text.replace(\"Query: \", \"\").strip().split(\", \")\n",
    "\n",
    "    return func"
   ]
  },
  {
   "cell_type": "markdown",
   "metadata": {},
   "source": [
    "## Dataset"
   ]
  },
  {
   "cell_type": "code",
   "execution_count": 9,
   "metadata": {},
   "outputs": [
    {
     "data": {
      "text/html": [
       "<div>\n",
       "<style scoped>\n",
       "    .dataframe tbody tr th:only-of-type {\n",
       "        vertical-align: middle;\n",
       "    }\n",
       "\n",
       "    .dataframe tbody tr th {\n",
       "        vertical-align: top;\n",
       "    }\n",
       "\n",
       "    .dataframe thead th {\n",
       "        text-align: right;\n",
       "    }\n",
       "</style>\n",
       "<table border=\"1\" class=\"dataframe\">\n",
       "  <thead>\n",
       "    <tr style=\"text-align: right;\">\n",
       "      <th></th>\n",
       "      <th>id</th>\n",
       "      <th>paragraphs</th>\n",
       "      <th>question</th>\n",
       "      <th>question_decomposition</th>\n",
       "      <th>answer</th>\n",
       "      <th>answer_aliases</th>\n",
       "      <th>answerable</th>\n",
       "      <th>answers</th>\n",
       "    </tr>\n",
       "  </thead>\n",
       "  <tbody>\n",
       "    <tr>\n",
       "      <th>0</th>\n",
       "      <td>2hop__131818_161450</td>\n",
       "      <td>[{'idx': 0, 'title': 'Maria Carrillo High Scho...</td>\n",
       "      <td>Where is the Voshmgir District located?</td>\n",
       "      <td>[{'id': 131818, 'question': 'Which state is Vo...</td>\n",
       "      <td>in the north-east of the country south of the ...</td>\n",
       "      <td>[Caspian Sea, in the north-east of the country...</td>\n",
       "      <td>True</td>\n",
       "      <td>[Caspian Sea, in the north-east of the country...</td>\n",
       "    </tr>\n",
       "    <tr>\n",
       "      <th>1</th>\n",
       "      <td>2hop__444265_82341</td>\n",
       "      <td>[{'idx': 0, 'title': 'Ocala, Florida', 'paragr...</td>\n",
       "      <td>In what part of Florida is Tom Denney's birthp...</td>\n",
       "      <td>[{'id': 444265, 'question': 'Tom Denney &gt;&gt; pla...</td>\n",
       "      <td>in Northern Florida</td>\n",
       "      <td>[in Northern Florida, Northern Florida]</td>\n",
       "      <td>True</td>\n",
       "      <td>[in Northern Florida, Northern Florida]</td>\n",
       "    </tr>\n",
       "    <tr>\n",
       "      <th>2</th>\n",
       "      <td>2hop__711946_269414</td>\n",
       "      <td>[{'idx': 0, 'title': 'Wild Thing (Tone Lōc son...</td>\n",
       "      <td>What record label is the performer who release...</td>\n",
       "      <td>[{'id': 711946, 'question': 'All Your Faded Th...</td>\n",
       "      <td>Kill Rock Stars</td>\n",
       "      <td>[Kill Rock Stars]</td>\n",
       "      <td>True</td>\n",
       "      <td>[Kill Rock Stars]</td>\n",
       "    </tr>\n",
       "    <tr>\n",
       "      <th>3</th>\n",
       "      <td>2hop__311931_417706</td>\n",
       "      <td>[{'idx': 0, 'title': 'The Main Attraction (alb...</td>\n",
       "      <td>What record label does the performer of Emotio...</td>\n",
       "      <td>[{'id': 311931, 'question': 'Emotional Rain &gt;&gt;...</td>\n",
       "      <td>Attic Records</td>\n",
       "      <td>[Attic, Attic Records]</td>\n",
       "      <td>True</td>\n",
       "      <td>[Attic, Attic Records]</td>\n",
       "    </tr>\n",
       "    <tr>\n",
       "      <th>4</th>\n",
       "      <td>2hop__809785_606637</td>\n",
       "      <td>[{'idx': 0, 'title': 'The Main Attraction (alb...</td>\n",
       "      <td>What record label does the performer of Advent...</td>\n",
       "      <td>[{'id': 809785, 'question': 'Adventures in You...</td>\n",
       "      <td>Secret City Records</td>\n",
       "      <td>[Secret City Records]</td>\n",
       "      <td>True</td>\n",
       "      <td>[Secret City Records]</td>\n",
       "    </tr>\n",
       "  </tbody>\n",
       "</table>\n",
       "</div>"
      ],
      "text/plain": [
       "                    id                                         paragraphs  \\\n",
       "0  2hop__131818_161450  [{'idx': 0, 'title': 'Maria Carrillo High Scho...   \n",
       "1   2hop__444265_82341  [{'idx': 0, 'title': 'Ocala, Florida', 'paragr...   \n",
       "2  2hop__711946_269414  [{'idx': 0, 'title': 'Wild Thing (Tone Lōc son...   \n",
       "3  2hop__311931_417706  [{'idx': 0, 'title': 'The Main Attraction (alb...   \n",
       "4  2hop__809785_606637  [{'idx': 0, 'title': 'The Main Attraction (alb...   \n",
       "\n",
       "                                            question  \\\n",
       "0            Where is the Voshmgir District located?   \n",
       "1  In what part of Florida is Tom Denney's birthp...   \n",
       "2  What record label is the performer who release...   \n",
       "3  What record label does the performer of Emotio...   \n",
       "4  What record label does the performer of Advent...   \n",
       "\n",
       "                              question_decomposition  \\\n",
       "0  [{'id': 131818, 'question': 'Which state is Vo...   \n",
       "1  [{'id': 444265, 'question': 'Tom Denney >> pla...   \n",
       "2  [{'id': 711946, 'question': 'All Your Faded Th...   \n",
       "3  [{'id': 311931, 'question': 'Emotional Rain >>...   \n",
       "4  [{'id': 809785, 'question': 'Adventures in You...   \n",
       "\n",
       "                                              answer  \\\n",
       "0  in the north-east of the country south of the ...   \n",
       "1                                in Northern Florida   \n",
       "2                                    Kill Rock Stars   \n",
       "3                                      Attic Records   \n",
       "4                                Secret City Records   \n",
       "\n",
       "                                      answer_aliases  answerable  \\\n",
       "0  [Caspian Sea, in the north-east of the country...        True   \n",
       "1            [in Northern Florida, Northern Florida]        True   \n",
       "2                                  [Kill Rock Stars]        True   \n",
       "3                             [Attic, Attic Records]        True   \n",
       "4                              [Secret City Records]        True   \n",
       "\n",
       "                                             answers  \n",
       "0  [Caspian Sea, in the north-east of the country...  \n",
       "1            [in Northern Florida, Northern Florida]  \n",
       "2                                  [Kill Rock Stars]  \n",
       "3                             [Attic, Attic Records]  \n",
       "4                              [Secret City Records]  "
      ]
     },
     "execution_count": 9,
     "metadata": {},
     "output_type": "execute_result"
    }
   ],
   "source": [
    "dataset_file: Path = Path(\"../../data/generated/musique-evaluation/dataset.jsonl\")\n",
    "df = pd.read_json(dataset_file, lines=True)\n",
    "df.head()"
   ]
  },
  {
   "cell_type": "code",
   "execution_count": 10,
   "metadata": {},
   "outputs": [
    {
     "data": {
      "text/html": [
       "<div>\n",
       "<style scoped>\n",
       "    .dataframe tbody tr th:only-of-type {\n",
       "        vertical-align: middle;\n",
       "    }\n",
       "\n",
       "    .dataframe tbody tr th {\n",
       "        vertical-align: top;\n",
       "    }\n",
       "\n",
       "    .dataframe thead th {\n",
       "        text-align: right;\n",
       "    }\n",
       "</style>\n",
       "<table border=\"1\" class=\"dataframe\">\n",
       "  <thead>\n",
       "    <tr style=\"text-align: right;\">\n",
       "      <th></th>\n",
       "      <th>id</th>\n",
       "      <th>paragraph_idx</th>\n",
       "      <th>paragraph_text</th>\n",
       "      <th>paragraph_title</th>\n",
       "      <th>is_supporting</th>\n",
       "      <th>text</th>\n",
       "      <th>input</th>\n",
       "      <th>generation</th>\n",
       "    </tr>\n",
       "  </thead>\n",
       "  <tbody>\n",
       "    <tr>\n",
       "      <th>0</th>\n",
       "      <td>2hop__131818_161450</td>\n",
       "      <td>0</td>\n",
       "      <td>Maria Carrillo High School is a public high sc...</td>\n",
       "      <td>Maria Carrillo High School</td>\n",
       "      <td>False</td>\n",
       "      <td># Maria Carrillo High School\\nMaria Carrillo H...</td>\n",
       "      <td>[{'content': 'You are an excellent knowledge g...</td>\n",
       "      <td>Maria Carrillo High School | location | Santa ...</td>\n",
       "    </tr>\n",
       "    <tr>\n",
       "      <th>1</th>\n",
       "      <td>2hop__131818_161450</td>\n",
       "      <td>1</td>\n",
       "      <td>Golestān Province (Persian: استان گلستان‎, Ost...</td>\n",
       "      <td>Golestan Province</td>\n",
       "      <td>True</td>\n",
       "      <td># Golestan Province\\nGolestān Province (Persia...</td>\n",
       "      <td>[{'content': 'You are an excellent knowledge g...</td>\n",
       "      <td>Golestan Province | location | north-east of I...</td>\n",
       "    </tr>\n",
       "    <tr>\n",
       "      <th>2</th>\n",
       "      <td>2hop__131818_161450</td>\n",
       "      <td>2</td>\n",
       "      <td>Voshmgir District () is a district (bakhsh) in...</td>\n",
       "      <td>Voshmgir District</td>\n",
       "      <td>True</td>\n",
       "      <td># Voshmgir District\\nVoshmgir District () is a...</td>\n",
       "      <td>[{'content': 'You are an excellent knowledge g...</td>\n",
       "      <td>Voshmgir District | location | Aqqala County, ...</td>\n",
       "    </tr>\n",
       "    <tr>\n",
       "      <th>3</th>\n",
       "      <td>2hop__131818_161450</td>\n",
       "      <td>3</td>\n",
       "      <td>52 Heroor is a village in the southern state o...</td>\n",
       "      <td>52 Heroor</td>\n",
       "      <td>False</td>\n",
       "      <td># 52 Heroor\\n52 Heroor is a village in the sou...</td>\n",
       "      <td>[{'content': 'You are an excellent knowledge g...</td>\n",
       "      <td>52 Heroor | location | Karnataka, India\\n52 He...</td>\n",
       "    </tr>\n",
       "    <tr>\n",
       "      <th>4</th>\n",
       "      <td>2hop__131818_161450</td>\n",
       "      <td>4</td>\n",
       "      <td>Vennaimalai is a village of Karur District loc...</td>\n",
       "      <td>Vennaimalai</td>\n",
       "      <td>False</td>\n",
       "      <td># Vennaimalai\\nVennaimalai is a village of Kar...</td>\n",
       "      <td>[{'content': 'You are an excellent knowledge g...</td>\n",
       "      <td>Vennaimalai | location | Karur District\\nVenna...</td>\n",
       "    </tr>\n",
       "  </tbody>\n",
       "</table>\n",
       "</div>"
      ],
      "text/plain": [
       "                    id  paragraph_idx  \\\n",
       "0  2hop__131818_161450              0   \n",
       "1  2hop__131818_161450              1   \n",
       "2  2hop__131818_161450              2   \n",
       "3  2hop__131818_161450              3   \n",
       "4  2hop__131818_161450              4   \n",
       "\n",
       "                                      paragraph_text  \\\n",
       "0  Maria Carrillo High School is a public high sc...   \n",
       "1  Golestān Province (Persian: استان گلستان‎, Ost...   \n",
       "2  Voshmgir District () is a district (bakhsh) in...   \n",
       "3  52 Heroor is a village in the southern state o...   \n",
       "4  Vennaimalai is a village of Karur District loc...   \n",
       "\n",
       "              paragraph_title  is_supporting  \\\n",
       "0  Maria Carrillo High School          False   \n",
       "1           Golestan Province           True   \n",
       "2           Voshmgir District           True   \n",
       "3                   52 Heroor          False   \n",
       "4                 Vennaimalai          False   \n",
       "\n",
       "                                                text  \\\n",
       "0  # Maria Carrillo High School\\nMaria Carrillo H...   \n",
       "1  # Golestan Province\\nGolestān Province (Persia...   \n",
       "2  # Voshmgir District\\nVoshmgir District () is a...   \n",
       "3  # 52 Heroor\\n52 Heroor is a village in the sou...   \n",
       "4  # Vennaimalai\\nVennaimalai is a village of Kar...   \n",
       "\n",
       "                                               input  \\\n",
       "0  [{'content': 'You are an excellent knowledge g...   \n",
       "1  [{'content': 'You are an excellent knowledge g...   \n",
       "2  [{'content': 'You are an excellent knowledge g...   \n",
       "3  [{'content': 'You are an excellent knowledge g...   \n",
       "4  [{'content': 'You are an excellent knowledge g...   \n",
       "\n",
       "                                          generation  \n",
       "0  Maria Carrillo High School | location | Santa ...  \n",
       "1  Golestan Province | location | north-east of I...  \n",
       "2  Voshmgir District | location | Aqqala County, ...  \n",
       "3  52 Heroor | location | Karnataka, India\\n52 He...  \n",
       "4  Vennaimalai | location | Karur District\\nVenna...  "
      ]
     },
     "execution_count": 10,
     "metadata": {},
     "output_type": "execute_result"
    }
   ],
   "source": [
    "jerx_file = Path(\"../../data/raw/musique-evaluation/jerx-inferences/llama3-base.jsonl\")\n",
    "jerx_df = pd.read_json(jerx_file, lines=True)\n",
    "jerx_df.head()"
   ]
  },
  {
   "cell_type": "code",
   "execution_count": 11,
   "metadata": {},
   "outputs": [],
   "source": [
    "jerx_mapping = {(row['id'], row['paragraph_idx']): row['generation'] for _, row in jerx_df.iterrows()}\n",
    "\n",
    "def extract_triplets(example: dict):\n",
    "    generations = '\\n'.join(jerx_mapping[(example['id'], p['idx'])] for p in example['paragraphs'] if p['is_supporting'])\n",
    "    example[\"triplets\"] = [line.split(\" | \") for line in generations.split('\\n') if line.strip()]\n",
    "    return example"
   ]
  },
  {
   "cell_type": "code",
   "execution_count": 12,
   "metadata": {},
   "outputs": [
    {
     "data": {
      "text/html": [
       "<div>\n",
       "<style scoped>\n",
       "    .dataframe tbody tr th:only-of-type {\n",
       "        vertical-align: middle;\n",
       "    }\n",
       "\n",
       "    .dataframe tbody tr th {\n",
       "        vertical-align: top;\n",
       "    }\n",
       "\n",
       "    .dataframe thead th {\n",
       "        text-align: right;\n",
       "    }\n",
       "</style>\n",
       "<table border=\"1\" class=\"dataframe\">\n",
       "  <thead>\n",
       "    <tr style=\"text-align: right;\">\n",
       "      <th></th>\n",
       "      <th>id</th>\n",
       "      <th>paragraphs</th>\n",
       "      <th>question</th>\n",
       "      <th>question_decomposition</th>\n",
       "      <th>answer</th>\n",
       "      <th>answer_aliases</th>\n",
       "      <th>answerable</th>\n",
       "      <th>answers</th>\n",
       "      <th>triplets</th>\n",
       "    </tr>\n",
       "  </thead>\n",
       "  <tbody>\n",
       "    <tr>\n",
       "      <th>0</th>\n",
       "      <td>2hop__131818_161450</td>\n",
       "      <td>[{'idx': 0, 'title': 'Maria Carrillo High Scho...</td>\n",
       "      <td>Where is the Voshmgir District located?</td>\n",
       "      <td>[{'id': 131818, 'question': 'Which state is Vo...</td>\n",
       "      <td>in the north-east of the country south of the ...</td>\n",
       "      <td>[Caspian Sea, in the north-east of the country...</td>\n",
       "      <td>True</td>\n",
       "      <td>[Caspian Sea, in the north-east of the country...</td>\n",
       "      <td>[[Golestan Province, location, north-east of I...</td>\n",
       "    </tr>\n",
       "    <tr>\n",
       "      <th>1</th>\n",
       "      <td>2hop__444265_82341</td>\n",
       "      <td>[{'idx': 0, 'title': 'Ocala, Florida', 'paragr...</td>\n",
       "      <td>In what part of Florida is Tom Denney's birthp...</td>\n",
       "      <td>[{'id': 444265, 'question': 'Tom Denney &gt;&gt; pla...</td>\n",
       "      <td>in Northern Florida</td>\n",
       "      <td>[in Northern Florida, Northern Florida]</td>\n",
       "      <td>True</td>\n",
       "      <td>[in Northern Florida, Northern Florida]</td>\n",
       "      <td>[[Ocala, location, Florida], [Ocala, location ...</td>\n",
       "    </tr>\n",
       "    <tr>\n",
       "      <th>2</th>\n",
       "      <td>2hop__711946_269414</td>\n",
       "      <td>[{'idx': 0, 'title': 'Wild Thing (Tone Lōc son...</td>\n",
       "      <td>What record label is the performer who release...</td>\n",
       "      <td>[{'id': 711946, 'question': 'All Your Faded Th...</td>\n",
       "      <td>Kill Rock Stars</td>\n",
       "      <td>[Kill Rock Stars]</td>\n",
       "      <td>True</td>\n",
       "      <td>[Kill Rock Stars]</td>\n",
       "      <td>[[All Your Faded Things, album, ], [All Your F...</td>\n",
       "    </tr>\n",
       "    <tr>\n",
       "      <th>3</th>\n",
       "      <td>2hop__311931_417706</td>\n",
       "      <td>[{'idx': 0, 'title': 'The Main Attraction (alb...</td>\n",
       "      <td>What record label does the performer of Emotio...</td>\n",
       "      <td>[{'id': 311931, 'question': 'Emotional Rain &gt;&gt;...</td>\n",
       "      <td>Attic Records</td>\n",
       "      <td>[Attic, Attic Records]</td>\n",
       "      <td>True</td>\n",
       "      <td>[Attic, Attic Records]</td>\n",
       "      <td>[[Lee Aaron (album), release date, 1987-02-17]...</td>\n",
       "    </tr>\n",
       "    <tr>\n",
       "      <th>4</th>\n",
       "      <td>2hop__809785_606637</td>\n",
       "      <td>[{'idx': 0, 'title': 'The Main Attraction (alb...</td>\n",
       "      <td>What record label does the performer of Advent...</td>\n",
       "      <td>[{'id': 809785, 'question': 'Adventures in You...</td>\n",
       "      <td>Secret City Records</td>\n",
       "      <td>[Secret City Records]</td>\n",
       "      <td>True</td>\n",
       "      <td>[Secret City Records]</td>\n",
       "      <td>[[Adventures in Your Own Backyard, type, album...</td>\n",
       "    </tr>\n",
       "  </tbody>\n",
       "</table>\n",
       "</div>"
      ],
      "text/plain": [
       "                    id                                         paragraphs  \\\n",
       "0  2hop__131818_161450  [{'idx': 0, 'title': 'Maria Carrillo High Scho...   \n",
       "1   2hop__444265_82341  [{'idx': 0, 'title': 'Ocala, Florida', 'paragr...   \n",
       "2  2hop__711946_269414  [{'idx': 0, 'title': 'Wild Thing (Tone Lōc son...   \n",
       "3  2hop__311931_417706  [{'idx': 0, 'title': 'The Main Attraction (alb...   \n",
       "4  2hop__809785_606637  [{'idx': 0, 'title': 'The Main Attraction (alb...   \n",
       "\n",
       "                                            question  \\\n",
       "0            Where is the Voshmgir District located?   \n",
       "1  In what part of Florida is Tom Denney's birthp...   \n",
       "2  What record label is the performer who release...   \n",
       "3  What record label does the performer of Emotio...   \n",
       "4  What record label does the performer of Advent...   \n",
       "\n",
       "                              question_decomposition  \\\n",
       "0  [{'id': 131818, 'question': 'Which state is Vo...   \n",
       "1  [{'id': 444265, 'question': 'Tom Denney >> pla...   \n",
       "2  [{'id': 711946, 'question': 'All Your Faded Th...   \n",
       "3  [{'id': 311931, 'question': 'Emotional Rain >>...   \n",
       "4  [{'id': 809785, 'question': 'Adventures in You...   \n",
       "\n",
       "                                              answer  \\\n",
       "0  in the north-east of the country south of the ...   \n",
       "1                                in Northern Florida   \n",
       "2                                    Kill Rock Stars   \n",
       "3                                      Attic Records   \n",
       "4                                Secret City Records   \n",
       "\n",
       "                                      answer_aliases  answerable  \\\n",
       "0  [Caspian Sea, in the north-east of the country...        True   \n",
       "1            [in Northern Florida, Northern Florida]        True   \n",
       "2                                  [Kill Rock Stars]        True   \n",
       "3                             [Attic, Attic Records]        True   \n",
       "4                              [Secret City Records]        True   \n",
       "\n",
       "                                             answers  \\\n",
       "0  [Caspian Sea, in the north-east of the country...   \n",
       "1            [in Northern Florida, Northern Florida]   \n",
       "2                                  [Kill Rock Stars]   \n",
       "3                             [Attic, Attic Records]   \n",
       "4                              [Secret City Records]   \n",
       "\n",
       "                                            triplets  \n",
       "0  [[Golestan Province, location, north-east of I...  \n",
       "1  [[Ocala, location, Florida], [Ocala, location ...  \n",
       "2  [[All Your Faded Things, album, ], [All Your F...  \n",
       "3  [[Lee Aaron (album), release date, 1987-02-17]...  \n",
       "4  [[Adventures in Your Own Backyard, type, album...  "
      ]
     },
     "execution_count": 12,
     "metadata": {},
     "output_type": "execute_result"
    }
   ],
   "source": [
    "df = df.apply(extract_triplets, axis=1)\n",
    "df.head()"
   ]
  },
  {
   "cell_type": "code",
   "execution_count": 13,
   "metadata": {},
   "outputs": [
    {
     "data": {
      "text/plain": [
       "id                                                       2hop__444265_82341\n",
       "paragraphs                [{'idx': 0, 'title': 'Ocala, Florida', 'paragr...\n",
       "question                  In what part of Florida is Tom Denney's birthp...\n",
       "question_decomposition    [{'id': 444265, 'question': 'Tom Denney >> pla...\n",
       "answer                                                  in Northern Florida\n",
       "answer_aliases                      [in Northern Florida, Northern Florida]\n",
       "answerable                                                             True\n",
       "answers                             [in Northern Florida, Northern Florida]\n",
       "triplets                  [[Ocala, location, Florida], [Ocala, location ...\n",
       "Name: 1, dtype: object"
      ]
     },
     "execution_count": 13,
     "metadata": {},
     "output_type": "execute_result"
    }
   ],
   "source": [
    "i = 1\n",
    "example = df.iloc[i]\n",
    "example"
   ]
  },
  {
   "cell_type": "code",
   "execution_count": 14,
   "metadata": {},
   "outputs": [
    {
     "name": "stdout",
     "output_type": "stream",
     "text": [
      "In what part of Florida is Tom Denney's birthplace located?\n"
     ]
    }
   ],
   "source": [
    "print(example['question'])"
   ]
  },
  {
   "cell_type": "code",
   "execution_count": 15,
   "metadata": {},
   "outputs": [
    {
     "name": "stdout",
     "output_type": "stream",
     "text": [
      "Tom Denney >> place of birth\n",
      "where is #1 in the state of florida\n"
     ]
    }
   ],
   "source": [
    "print(example['question_decomposition'][0]['question'])\n",
    "print(example['question_decomposition'][1]['question'])"
   ]
  },
  {
   "cell_type": "markdown",
   "metadata": {},
   "source": [
    "## Search"
   ]
  },
  {
   "cell_type": "code",
   "execution_count": 16,
   "metadata": {},
   "outputs": [
    {
     "data": {
      "text/plain": [
       "[{'id': 269659,\n",
       "  'question': 'National Observer >> owned by',\n",
       "  'answer': 'Dow Jones & Company',\n",
       "  'paragraph_support_idx': 17},\n",
       " {'id': 722575,\n",
       "  'question': '#1 >> owned by',\n",
       "  'answer': 'News Corp',\n",
       "  'paragraph_support_idx': 15}]"
      ]
     },
     "execution_count": 16,
     "metadata": {},
     "output_type": "execute_result"
    }
   ],
   "source": [
    "i = random.choice(range(len(df)))\n",
    "example = df.iloc[i]\n",
    "example['question_decomposition']"
   ]
  },
  {
   "cell_type": "code",
   "execution_count": 17,
   "metadata": {},
   "outputs": [
    {
     "data": {
      "application/vnd.jupyter.widget-view+json": {
       "model_id": "6fabae1cd0a54f1b8c1a09451eaeb19a",
       "version_major": 2,
       "version_minor": 0
      },
      "text/plain": [
       "Split strings:   0%|          | 0/10 [00:00<?, ?it/s]"
      ]
     },
     "metadata": {},
     "output_type": "display_data"
    },
    {
     "data": {
      "application/vnd.jupyter.widget-view+json": {
       "model_id": "f8190d486c4a40f3a4da9fb43138d5c4",
       "version_major": 2,
       "version_minor": 0
      },
      "text/plain": [
       "BM25S Count Tokens:   0%|          | 0/10 [00:00<?, ?it/s]"
      ]
     },
     "metadata": {},
     "output_type": "display_data"
    },
    {
     "data": {
      "application/vnd.jupyter.widget-view+json": {
       "model_id": "bcf2c53aad6f4567927c6715e15c92e0",
       "version_major": 2,
       "version_minor": 0
      },
      "text/plain": [
       "BM25S Compute Scores:   0%|          | 0/10 [00:00<?, ?it/s]"
      ]
     },
     "metadata": {},
     "output_type": "display_data"
    }
   ],
   "source": [
    "kg = KnowledgeGraph(example['triplets'])"
   ]
  },
  {
   "cell_type": "code",
   "execution_count": 18,
   "metadata": {},
   "outputs": [
    {
     "name": "stdout",
     "output_type": "stream",
     "text": [
      "National Observer >> owned by\n"
     ]
    },
    {
     "data": {
      "application/vnd.jupyter.widget-view+json": {
       "model_id": "a17eb8aa57b64aa2bae112132661cc02",
       "version_major": 2,
       "version_minor": 0
      },
      "text/plain": [
       "Split strings:   0%|          | 0/1 [00:00<?, ?it/s]"
      ]
     },
     "metadata": {},
     "output_type": "display_data"
    },
    {
     "data": {
      "application/vnd.jupyter.widget-view+json": {
       "model_id": "28f9a4933f0544d78e5aecaac60426a1",
       "version_major": 2,
       "version_minor": 0
      },
      "text/plain": [
       "BM25S Retrieve:   0%|          | 0/1 [00:00<?, ?it/s]"
      ]
     },
     "metadata": {},
     "output_type": "display_data"
    },
    {
     "name": "stdout",
     "output_type": "stream",
     "text": [
      "Hunter S. Thompson | wrote for | National Observer\n",
      "National Observer | publication period | 1962-1977\n",
      "National Observer | publication type | Weekly newspaper\n",
      "National Observer | publisher | Dow Jones & Company\n",
      "Hunter S. Thompson | notable work | Articles for National Observer\n",
      "National Observer | publication end date | July 11, 1977\n",
      "Hunter S. Thompson | role | Correspondent for Latin America\n",
      "Dow Jones & Company | type | publishing and financial information firm\n",
      "Dow Jones & Company | ownership start date | 2007\n",
      "Dow Jones & Company | ownership | News Corp\n"
     ]
    }
   ],
   "source": [
    "question = example['question_decomposition'][0]['question']\n",
    "print(question)\n",
    "for triplet in kg.search(question):\n",
    "    print(triplet)"
   ]
  },
  {
   "cell_type": "markdown",
   "metadata": {},
   "source": [
    "## Multi-hop question answering"
   ]
  },
  {
   "cell_type": "code",
   "execution_count": 19,
   "metadata": {},
   "outputs": [],
   "source": [
    "qa_func = make_question_answer_func(LLM_MODEL_NAME)"
   ]
  },
  {
   "cell_type": "code",
   "execution_count": 20,
   "metadata": {},
   "outputs": [],
   "source": [
    "def mhqa(example: dict, top_k: int = 10) -> dict:\n",
    "    kg = KnowledgeGraph(example['triplets'])\n",
    "\n",
    "    # First question\n",
    "    question1 = example[\"question_decomposition\"][0][\"question\"]\n",
    "    query1 = question1\n",
    "    docs1 = kg.search(query1, top_k=top_k)\n",
    "    context1 = \"\\n\".join(docs1)\n",
    "    result1 = qa_func(context=context1, question=question1)\n",
    "    hop1 = {\n",
    "        \"question\": question1,\n",
    "        \"query\" : query1,\n",
    "        \"context\": context1,\n",
    "        \"answer\": result1[\"answer\"],\n",
    "        \"reasoning\": result1[\"reasoning\"],\n",
    "    }\n",
    "\n",
    "    # Second question\n",
    "    if result1[\"answer\"] == \"N/A\":\n",
    "        return {\n",
    "            \"answer\": \"N/A\",\n",
    "            \"hops\": [hop1],\n",
    "        }\n",
    "\n",
    "    question2 = example[\"question_decomposition\"][1][\"question\"]\n",
    "    question2 = question2.replace(\"#1\", result1[\"answer\"])\n",
    "    query2 = question2\n",
    "    docs2 = kg.search(query2, top_k=top_k)\n",
    "    context2 = \"\\n\".join(docs2)\n",
    "    result2 = qa_func(context=context2, question=question2)\n",
    "    hop2 = {\n",
    "        \"question\": question2,\n",
    "        \"query\": query2,\n",
    "        \"context\": context2,\n",
    "        \"answer\": result2[\"answer\"],\n",
    "        \"reasoning\": result2[\"reasoning\"],\n",
    "    }\n",
    "    return {\n",
    "        \"answer\": result2[\"answer\"],\n",
    "        \"hops\": [hop1, hop2],\n",
    "    }"
   ]
  },
  {
   "cell_type": "code",
   "execution_count": 21,
   "metadata": {},
   "outputs": [
    {
     "data": {
      "application/vnd.jupyter.widget-view+json": {
       "model_id": "65728d0eb1cc4e99a9a71d251ae9fd13",
       "version_major": 2,
       "version_minor": 0
      },
      "text/plain": [
       "Split strings:   0%|          | 0/9 [00:00<?, ?it/s]"
      ]
     },
     "metadata": {},
     "output_type": "display_data"
    },
    {
     "data": {
      "application/vnd.jupyter.widget-view+json": {
       "model_id": "aa7c54604a3940cd95d89884f8a959a0",
       "version_major": 2,
       "version_minor": 0
      },
      "text/plain": [
       "BM25S Count Tokens:   0%|          | 0/9 [00:00<?, ?it/s]"
      ]
     },
     "metadata": {},
     "output_type": "display_data"
    },
    {
     "data": {
      "application/vnd.jupyter.widget-view+json": {
       "model_id": "cb1b036ca7d84e0189ae9562ff8c7cbf",
       "version_major": 2,
       "version_minor": 0
      },
      "text/plain": [
       "BM25S Compute Scores:   0%|          | 0/9 [00:00<?, ?it/s]"
      ]
     },
     "metadata": {},
     "output_type": "display_data"
    },
    {
     "data": {
      "application/vnd.jupyter.widget-view+json": {
       "model_id": "9dab0c39e16f4ee9a3985df5c76d8699",
       "version_major": 2,
       "version_minor": 0
      },
      "text/plain": [
       "Split strings:   0%|          | 0/1 [00:00<?, ?it/s]"
      ]
     },
     "metadata": {},
     "output_type": "display_data"
    },
    {
     "data": {
      "application/vnd.jupyter.widget-view+json": {
       "model_id": "5cb83ec29d7e4400a02376827783528b",
       "version_major": 2,
       "version_minor": 0
      },
      "text/plain": [
       "BM25S Retrieve:   0%|          | 0/1 [00:00<?, ?it/s]"
      ]
     },
     "metadata": {},
     "output_type": "display_data"
    },
    {
     "data": {
      "application/vnd.jupyter.widget-view+json": {
       "model_id": "131e1dc31b074017b268efe10e0dae6c",
       "version_major": 2,
       "version_minor": 0
      },
      "text/plain": [
       "Split strings:   0%|          | 0/1 [00:00<?, ?it/s]"
      ]
     },
     "metadata": {},
     "output_type": "display_data"
    },
    {
     "data": {
      "application/vnd.jupyter.widget-view+json": {
       "model_id": "e2ad0006ce814455975d94ae5bd6a1b9",
       "version_major": 2,
       "version_minor": 0
      },
      "text/plain": [
       "BM25S Retrieve:   0%|          | 0/1 [00:00<?, ?it/s]"
      ]
     },
     "metadata": {},
     "output_type": "display_data"
    },
    {
     "name": "stdout",
     "output_type": "stream",
     "text": [
      "{\n",
      "  \"answer\": \"N/A\",\n",
      "  \"hops\": [\n",
      "    {\n",
      "      \"question\": \"Which state is Voshmgir District located?\",\n",
      "      \"query\": \"Which state is Voshmgir District located?\",\n",
      "      \"context\": \"Voshmgir District | city | Anbar Olum\\nVoshmgir District | population in families | 5,266\\nVoshmgir District | population | 25,149\\nVoshmgir District | rural districts | Mazraeh-ye Jonubi Rural District, Mazraeh-ye Shomali Rural District\\nVoshmgir District | location | Aqqala County, Golestan Province, Iran\\nGolestan Province | country | Iran\\nGolestan Province | capital | Gorgan\\nGolestan Province | location relative to Caspian Sea | south\\nGolestan Province | location | north-east of Iran\",\n",
      "      \"answer\": \"Golestan Province\",\n",
      "      \"reasoning\": \"By looking at the provided triplets from the knowledge graph, we can see that Voshmgir District is located in Golestan Province, as mentioned in the triplet \\\"Voshmgir District | location | Aqqala County, Golestan Province, Iran\\\". Additionally, it is stated that Golestan Province is in the north-east of Iran, as shown in the triplet \\\"Golestan Province | location | north-east of Iran\\\". This information allows us to determine the state in which Voshmgir District is located.\"\n",
      "    },\n",
      "    {\n",
      "      \"question\": \"Where is Golestan Province located?\",\n",
      "      \"query\": \"Where is Golestan Province located?\",\n",
      "      \"context\": \"Golestan Province | country | Iran\\nGolestan Province | capital | Gorgan\\nGolestan Province | location | north-east of Iran\\nGolestan Province | location relative to Caspian Sea | south\\nVoshmgir District | location | Aqqala County, Golestan Province, Iran\\nVoshmgir District | rural districts | Mazraeh-ye Jonubi Rural District, Mazraeh-ye Shomali Rural District\\nVoshmgir District | city | Anbar Olum\\nVoshmgir District | population in families | 5,266\\nVoshmgir District | population | 25,149\",\n",
      "      \"answer\": \"N/A\",\n",
      "      \"reasoning\": \"\"\n",
      "    }\n",
      "  ]\n",
      "}\n",
      "['Caspian Sea', 'in the north-east of the country south of the Caspian Sea']\n"
     ]
    }
   ],
   "source": [
    "i = 0\n",
    "example = df.iloc[i]\n",
    "result = mhqa(example)\n",
    "jprint(result)\n",
    "print(example['answers'])"
   ]
  },
  {
   "cell_type": "code",
   "execution_count": null,
   "metadata": {},
   "outputs": [],
   "source": [
    "df['mhqa_result'] = df.progress_apply(mhqa, axis=1)\n",
    "df[\"predicted_answer\"] = df[\"mhqa_result\"].map(lambda x: x[\"answer\"] or \"N/A\")"
   ]
  },
  {
   "cell_type": "code",
   "execution_count": 23,
   "metadata": {},
   "outputs": [
    {
     "name": "stdout",
     "output_type": "stream",
     "text": [
      "{\n",
      "  \"exact_match\": 0.17,\n",
      "  \"f1\": 0.26041269841269843,\n",
      "  \"fuzzy_match\": 0.25\n",
      "}\n"
     ]
    }
   ],
   "source": [
    "from bellem.musique.eval import calculate_metrics, compare_answers\n",
    "\n",
    "comp_df = compare_answers(df)\n",
    "scores = calculate_metrics(comp_df)\n",
    "scores[\"fuzzy_match\"] = comp_df[\"fuzzy_match\"].mean()\n",
    "jprint(scores)"
   ]
  },
  {
   "cell_type": "markdown",
   "metadata": {},
   "source": [
    "## Inspect"
   ]
  },
  {
   "cell_type": "code",
   "execution_count": 24,
   "metadata": {},
   "outputs": [
    {
     "data": {
      "text/plain": [
       "id                                                      2hop__809785_606637\n",
       "paragraphs                [{'idx': 0, 'title': 'The Main Attraction (alb...\n",
       "question                  What record label does the performer of Advent...\n",
       "question_decomposition    [{'id': 809785, 'question': 'Adventures in You...\n",
       "answer                                                  Secret City Records\n",
       "answer_aliases                                        [Secret City Records]\n",
       "answerable                                                             True\n",
       "answers                                               [Secret City Records]\n",
       "triplets                  [[Adventures in Your Own Backyard, type, album...\n",
       "mhqa_result               {'answer': 'N/A', 'hops': [{'question': 'Adven...\n",
       "predicted_answer                                                        N/A\n",
       "exact_match                                                           False\n",
       "fuzzy_match                                                           False\n",
       "Name: 4, dtype: object"
      ]
     },
     "execution_count": 24,
     "metadata": {},
     "output_type": "execute_result"
    }
   ],
   "source": [
    "i = 4\n",
    "example = df.iloc[i]\n",
    "example"
   ]
  },
  {
   "cell_type": "code",
   "execution_count": 25,
   "metadata": {},
   "outputs": [
    {
     "data": {
      "text/plain": [
       "[{'id': 809785,\n",
       "  'question': 'Adventures in Your Own Backyard >> performer',\n",
       "  'answer': 'Patrick Watson',\n",
       "  'paragraph_support_idx': 15},\n",
       " {'id': 606637,\n",
       "  'question': '#1 >> record label',\n",
       "  'answer': 'Secret City Records',\n",
       "  'paragraph_support_idx': 18}]"
      ]
     },
     "execution_count": 25,
     "metadata": {},
     "output_type": "execute_result"
    }
   ],
   "source": [
    "example['question_decomposition']"
   ]
  },
  {
   "cell_type": "code",
   "execution_count": 26,
   "metadata": {},
   "outputs": [
    {
     "data": {
      "text/plain": [
       "['Secret City Records']"
      ]
     },
     "execution_count": 26,
     "metadata": {},
     "output_type": "execute_result"
    }
   ],
   "source": [
    "example['answer_aliases']"
   ]
  },
  {
   "cell_type": "code",
   "execution_count": 27,
   "metadata": {},
   "outputs": [
    {
     "data": {
      "text/plain": [
       "{'answer': 'N/A',\n",
       " 'hops': [{'question': 'Adventures in Your Own Backyard >> performer',\n",
       "   'query': 'Adventures in Your Own Backyard >> performer',\n",
       "   'context': 'Adventures in Your Own Backyard | type | album\\nAdventures in Your Own Backyard | artist | Patrick Watson\\nAdventures in Your Own Backyard | release date | April 2012\\nAdventures in Your Own Backyard | genre | musical style (simpler and more emotional)\\nFireweed | music video | features live action and animation\\nFireweed | album single release date | (unknown)\\nBeijing | album performance | on CBC Radio\\'s \"Q\" radio show\\nTracy\\'s Waters | album single release date | 2009-03-05\\nPatrick Watson | album label | Secret City Records\\nPatrick Watson | album release date | 2009-04-28',\n",
       "   'answer': 'N/A',\n",
       "   'reasoning': ''}]}"
      ]
     },
     "execution_count": 27,
     "metadata": {},
     "output_type": "execute_result"
    }
   ],
   "source": [
    "example['mhqa_result']"
   ]
  },
  {
   "cell_type": "code",
   "execution_count": null,
   "metadata": {},
   "outputs": [],
   "source": []
  }
 ],
 "metadata": {
  "kernelspec": {
   "display_name": ".venv",
   "language": "python",
   "name": "python3"
  },
  "language_info": {
   "codemirror_mode": {
    "name": "ipython",
    "version": 3
   },
   "file_extension": ".py",
   "mimetype": "text/x-python",
   "name": "python",
   "nbconvert_exporter": "python",
   "pygments_lexer": "ipython3",
   "version": "3.10.12"
  }
 },
 "nbformat": 4,
 "nbformat_minor": 2
}

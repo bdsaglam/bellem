{
 "cells": [
  {
   "cell_type": "code",
   "execution_count": 1,
   "metadata": {},
   "outputs": [],
   "source": [
    "import logging\n",
    "logging.basicConfig(level=logging.INFO, format='%(asctime)s - %(name)s - %(levelname)s - %(message)s')\n"
   ]
  },
  {
   "cell_type": "code",
   "execution_count": 2,
   "metadata": {},
   "outputs": [],
   "source": [
    "from llama_index import set_global_handler\n",
    "\n",
    "set_global_handler(\"simple\")"
   ]
  },
  {
   "cell_type": "code",
   "execution_count": 3,
   "metadata": {},
   "outputs": [],
   "source": [
    "from bellem.llama_index.indices.knowledge_graph.base import patch_knowledge_graph_index\n",
    "from bellem.llama_index.data_structs.data_structs import patch_kg_data_struct\n",
    "\n",
    "patch_kg_data_struct()\n",
    "patch_knowledge_graph_index()\n"
   ]
  },
  {
   "cell_type": "code",
   "execution_count": 4,
   "metadata": {},
   "outputs": [
    {
     "name": "stderr",
     "output_type": "stream",
     "text": [
      "2024-02-17 21:23:35,610 - phoenix.datasets.dataset - INFO - Dataset: phoenix_dataset_c73b62d8-5b56-402c-8ad3-7e25df5ac223 initialized\n"
     ]
    }
   ],
   "source": [
    "import json\n",
    "from pathlib import Path\n",
    "\n",
    "import kuzu\n",
    "import typer\n",
    "from dotenv import load_dotenv\n",
    "from llama_index import ServiceContext, StorageContext, load_index_from_storage\n",
    "from llama_index.callbacks import CallbackManager\n",
    "from llama_index.embeddings.huggingface import HuggingFaceEmbedding\n",
    "from llama_index.indices.base import BaseIndex\n",
    "from llama_index.llms import OpenAI\n",
    "from llama_index.query_engine.retriever_query_engine import RetrieverQueryEngine\n",
    "from rich.console import Console\n",
    "\n",
    "from bellem.llama_index.graph_stores.kuzu import KuzuGraphStore\n",
    "from bellem.llama_index.obs import make_phoenix_trace_callback_handler\n",
    "from bellem.utils import set_seed\n",
    "\n",
    "err = Console(stderr=True).print\n",
    "\n",
    "load_dotenv()\n",
    "\n",
    "set_seed(42)\n"
   ]
  },
  {
   "cell_type": "code",
   "execution_count": 5,
   "metadata": {},
   "outputs": [
    {
     "name": "stderr",
     "output_type": "stream",
     "text": [
      "/Users/bdsaglam/dev/repos/bellem/.venv/lib/python3.10/site-packages/torch/_utils.py:831: UserWarning: TypedStorage is deprecated. It will be removed in the future and UntypedStorage will be the only storage class. This should only matter to you if you are using storages directly.  To access UntypedStorage directly, use tensor.untyped_storage() instead of tensor.storage()\n",
      "  return self.fget.__get__(instance, owner)()\n"
     ]
    }
   ],
   "source": [
    "# model to generate embeddings for triplets\n",
    "embed_model = HuggingFaceEmbedding(\"sentence-transformers/all-MiniLM-L6-v2\")\n",
    "\n",
    "# language model to use for triplet extraction\n",
    "llm = OpenAI(temperature=0, model=\"gpt-3.5-turbo\")\n",
    "\n",
    "\n",
    "def make_service_context(directory: Path, example_id: str):\n",
    "    # example_dir = directory / example_id\n",
    "    # example_dir.mkdir(exist_ok=True, parents=True)\n",
    "\n",
    "    # traces_filepath = example_dir / \"traces.jsonl\"\n",
    "    # traces_filepath.unlink(missing_ok=True)\n",
    "    # trace_callback_handler = make_phoenix_trace_callback_handler(traces_filepath)\n",
    "    # callback_manager = CallbackManager(handlers=[trace_callback_handler])\n",
    "    return ServiceContext.from_defaults(\n",
    "        llm=llm,\n",
    "        embed_model=embed_model,\n",
    "        # callback_manager=callback_manager,\n",
    "    )\n",
    "\n",
    "def load_storage_context(directory: Path):\n",
    "    db = kuzu.Database(str(directory / \"kuzu\"))\n",
    "    graph_store = KuzuGraphStore(db)\n",
    "    storage_context = StorageContext.from_defaults(persist_dir=directory / \"index\", graph_store=graph_store)\n",
    "    return storage_context\n",
    "\n",
    "def load_index(directory: Path, service_context: ServiceContext):\n",
    "    storage_context = load_storage_context(directory)\n",
    "    return load_index_from_storage(\n",
    "        storage_context,\n",
    "        service_context=service_context,\n",
    "        include_embeddings=True,\n",
    "    )"
   ]
  },
  {
   "cell_type": "code",
   "execution_count": 6,
   "metadata": {},
   "outputs": [],
   "source": [
    "TEXT_QA_PROMPT_USER_MSG_CONTENT = \"\"\"Context information is below.\n",
    "---------------------\n",
    "{context_str}\n",
    "---------------------\n",
    "Given the context information and not prior knowledge, answer the query.\n",
    "Query: {query_str}\n",
    "Answer in 2-4 words: \"\"\"\n",
    "\n",
    "\n",
    "\n",
    "def make_query_engine(index: BaseIndex):\n",
    "    query_engine: RetrieverQueryEngine = index.as_query_engine(\n",
    "        include_text=False,\n",
    "        embedding_mode=\"hybrid\",\n",
    "        response_mode=\"simple_summarize\",\n",
    "        verbose=True,\n",
    "    )\n",
    "    original_text_qa_prompt = query_engine.get_prompts()[\"response_synthesizer:text_qa_template\"]\n",
    "    original_text_qa_prompt.conditionals[0][1].message_templates[1].content = TEXT_QA_PROMPT_USER_MSG_CONTENT\n",
    "    query_engine.update_prompts({\"response_synthesizer:text_qa_template\": original_text_qa_prompt})\n",
    "    return query_engine"
   ]
  },
  {
   "cell_type": "code",
   "execution_count": 7,
   "metadata": {},
   "outputs": [],
   "source": [
    "def answer_questions(query_engine, example):\n",
    "    sub_questions = [item[\"question\"] for item in example[\"question_decomposition\"]]\n",
    "    hop1_question = sub_questions[0]\n",
    "    hop1_answer = query_engine.query(hop1_question).response\n",
    "    example[\"question_decomposition\"][0][\"answer\"] = hop1_answer\n",
    "    hop2_question = sub_questions[1].replace(\"#1\", hop1_answer)\n",
    "    hop2_answer = query_engine.query(hop2_question).response\n",
    "    example[\"question_decomposition\"][1][\"answer\"] = hop2_answer\n",
    "    return example\n"
   ]
  },
  {
   "cell_type": "code",
   "execution_count": 8,
   "metadata": {},
   "outputs": [],
   "source": [
    "dataset_file = Path(\"../../data/generated/musique-evaluation/question-decomposition.jsonl\")\n",
    "knowledge_graph_directory = Path(\"../../data/generated/musique-evaluation/knowledge-graphs/\")\n",
    "out = Path(\"../../data/generated/musique-evaluation/answers.jsonl\")"
   ]
  },
  {
   "cell_type": "code",
   "execution_count": 9,
   "metadata": {},
   "outputs": [],
   "source": [
    "lines = dataset_file.read_text().strip().split(\"\\n\")"
   ]
  },
  {
   "cell_type": "code",
   "execution_count": 10,
   "metadata": {},
   "outputs": [],
   "source": [
    "line = lines[57]"
   ]
  },
  {
   "cell_type": "code",
   "execution_count": 11,
   "metadata": {},
   "outputs": [
    {
     "data": {
      "text/html": [
       "<pre style=\"white-space:pre;overflow-x:auto;line-height:normal;font-family:Menlo,'DejaVu Sans Mono',consolas,'Courier New',monospace\">Setting up query engine for 2hop__354073_511430\n",
       "</pre>\n"
      ],
      "text/plain": [
       "Setting up query engine for 2hop__354073_511430\n"
      ]
     },
     "metadata": {},
     "output_type": "display_data"
    },
    {
     "name": "stderr",
     "output_type": "stream",
     "text": [
      "2024-02-17 21:23:56,870 - llama_index.indices.loading - INFO - Loading all indices.\n"
     ]
    },
    {
     "data": {
      "text/html": [
       "<pre style=\"white-space:pre;overflow-x:auto;line-height:normal;font-family:Menlo,'DejaVu Sans Mono',consolas,'Courier New',monospace\">Answering the question in the sample 2hop__354073_511430\n",
       "</pre>\n"
      ],
      "text/plain": [
       "Answering the question in the sample 2hop__354073_511430\n"
      ]
     },
     "metadata": {},
     "output_type": "display_data"
    },
    {
     "name": "stderr",
     "output_type": "stream",
     "text": [
      "2024-02-17 21:23:56,968 - httpx - INFO - HTTP Request: POST http://localhost:8111/chat/completions \"HTTP/1.1 200 OK\"\n",
      "2024-02-17 21:23:57,062 - bellem.llama_index.indices.knowledge_graph.retrievers - WARNING - Index was not constructed with embeddings, skipping embedding usage...\n"
     ]
    },
    {
     "name": "stdout",
     "output_type": "stream",
     "text": [
      "** Messages: **\n",
      "user: A question is provided below. Given the question, extract up to 10 keywords from the text. Focus on extracting the keywords that we can use to best lookup answers to the question. Avoid stopwords.\n",
      "---------------------\n",
      "In which country is Debel located?\n",
      "---------------------\n",
      "Provide keywords in the following comma-separated format: 'KEYWORDS: <keywords>'\n",
      "\n",
      "**************************************************\n",
      "** Response: **\n",
      "assistant: KEYWORDS: country, Debel, located\n",
      "**************************************************\n",
      "\n",
      "\n",
      "\u001b[1;3;32mExtracted keywords: ['Debel', 'country', 'located']\n",
      "\u001b[0m\u001b[1;3;34mKG context:\n",
      "The following are knowledge sequence in max depth 2 in the form of directed graph like:\n",
      "`subject -[predicate]->, object, <-[predicate_next_hop]-, object_next_hop ...`\n",
      "['Lebanon (2009 film)', 'director', 'Samuel Maoz']\n",
      "['Lebanon (2009 film)', 'country', 'Israel']\n",
      "['Lebanon (2009 film)', 'international title', \"Lebanon: The Soldier's Journey in the UK\"]\n",
      "['Lebanon (2009 film)', 'nationality', 'Israeli']\n",
      "['Lebanon (2009 film)', 'nominated for', 'Israeli Film Academy Award for Best Picture']\n",
      "['Lebanon (2009 film)', 'status', 'Controversial']\n",
      "['66th Venice International Film Festival', 'award', \"Leone d'Oro\"]\n",
      "['14th Annual Satyajit Ray Award', 'winner', 'Lebanon (2009 film)']\n",
      "['14th Annual Satyajit Ray Award', 'winner', 'Lebanon (2009 film)', 'director', 'Samuel Maoz']\n",
      "['14th Annual Satyajit Ray Award', 'winner', 'Lebanon (2009 film)', 'country', 'Israel']\n",
      "['14th Annual Satyajit Ray Award', 'winner', 'Lebanon (2009 film)', 'international title', \"Lebanon: The Soldier's Journey in the UK\"]\n",
      "['14th Annual Satyajit Ray Award', 'winner', 'Lebanon (2009 film)', 'nationality', 'Israeli']\n",
      "['14th Annual Satyajit Ray Award', 'winner', 'Lebanon (2009 film)', 'nominated for', 'Israeli Film Academy Award for Best Picture']\n",
      "['14th Annual Satyajit Ray Award', 'winner', 'Lebanon (2009 film)', 'status', 'Controversial']\n",
      "['Debel, Lebanon', 'country', 'Lebanon']\n",
      "['Debel, Lebanon', 'is part of', 'Bint Jbeil']\n",
      "['Debel, Lebanon', 'is part of', 'Nabatiye Governorate']\n",
      "['Debel, Lebanon', 'is part of', 'Nabatiye, Lebanon']\n",
      "['Debel, Lebanon', 'alternative name', 'Dibil']\n",
      "['Debel, Lebanon', 'language', 'Arabic']\n",
      "['Lebanon (2009 film)', 'director', 'Samuel Maoz']\n",
      "['Lebanon (2009 film)', 'country', 'Israel']\n",
      "['Lebanon (2009 film)', 'international title', \"Lebanon: The Soldier's Journey in the UK\"]\n",
      "['Lebanon (2009 film)', 'nationality', 'Israeli']\n",
      "['Lebanon (2009 film)', 'nominated for', 'Israeli Film Academy Award for Best Picture']\n",
      "['Lebanon (2009 film)', 'status', 'Controversial']\n",
      "['66th Venice International Film Festival', 'award', \"Leone d'Oro\"]\n",
      "['14th Annual Satyajit Ray Award', 'winner', 'Lebanon (2009 film)']\n",
      "['14th Annual Satyajit Ray Award', 'winner', 'Lebanon (2009 film)', 'director', 'Samuel Maoz']\n",
      "['14th Annual Satyajit Ray Award', 'winner', 'Lebanon (2009 film)', 'country', 'Israel']\n",
      "['14th Annual Satyajit Ray Award', 'winner', 'Lebanon (2009 film)', 'international title', \"Lebanon: The Soldier's Journey in the UK\"]\n",
      "['14th Annual Satyajit Ray Award', 'winner', 'Lebanon (2009 film)', 'nationality', 'Israeli']\n",
      "['14th Annual Satyajit Ray Award', 'winner', 'Lebanon (2009 film)', 'nominated for', 'Israeli Film Academy Award for Best Picture']\n",
      "['14th Annual Satyajit Ray Award', 'winner', 'Lebanon (2009 film)', 'status', 'Controversial']\n",
      "['Debel, Lebanon', 'country', 'Lebanon']\n",
      "['Debel, Lebanon', 'is part of', 'Bint Jbeil']\n",
      "['Debel, Lebanon', 'is part of', 'Nabatiye Governorate']\n",
      "['Debel, Lebanon', 'is part of', 'Nabatiye, Lebanon']\n",
      "['Debel, Lebanon', 'alternative name', 'Dibil']\n",
      "['Debel, Lebanon', 'language', 'Arabic']\n",
      "\u001b[0m"
     ]
    },
    {
     "name": "stderr",
     "output_type": "stream",
     "text": [
      "2024-02-17 21:23:57,700 - httpx - INFO - HTTP Request: POST http://localhost:8111/chat/completions \"HTTP/1.1 200 OK\"\n",
      "2024-02-17 21:23:57,715 - httpx - INFO - HTTP Request: POST http://localhost:8111/chat/completions \"HTTP/1.1 200 OK\"\n",
      "2024-02-17 21:23:57,756 - bellem.llama_index.indices.knowledge_graph.retrievers - WARNING - Index was not constructed with embeddings, skipping embedding usage...\n"
     ]
    },
    {
     "name": "stdout",
     "output_type": "stream",
     "text": [
      "** Messages: **\n",
      "system: You are an expert Q&A system that is trusted around the world.\n",
      "Always answer the query using the provided context information, and not prior knowledge.\n",
      "Some rules to follow:\n",
      "1. Never directly reference the given context in your answer.\n",
      "2. Avoid statements like 'Based on the context, ...' or 'The context information ...' or anything along those lines.\n",
      "user: Context information is below.\n",
      "---------------------\n",
      "kg_schema: {'schema': None}\n",
      "\n",
      "The following are knowledge sequence in max depth 2 in the form of directed graph like:\n",
      "`subject -[predicate]->, object, <-[predicate_next_hop]-, object_next_hop ...`\n",
      "['Lebanon (2009 film)', 'director', 'Samuel Maoz']\n",
      "['Lebanon (2009 film)', 'country', 'Israel']\n",
      "['Lebanon (2009 film)', 'international title', \"Lebanon: The Soldier's Journey in the UK\"]\n",
      "['Lebanon (2009 film)', 'nationality', 'Israeli']\n",
      "['Lebanon (2009 film)', 'nominated for', 'Israeli Film Academy Award for Best Picture']\n",
      "['Lebanon (2009 film)', 'status', 'Controversial']\n",
      "['66th Venice International Film Festival', 'award', \"Leone d'Oro\"]\n",
      "['14th Annual Satyajit Ray Award', 'winner', 'Lebanon (2009 film)']\n",
      "['14th Annual Satyajit Ray Award', 'winner', 'Lebanon (2009 film)', 'director', 'Samuel Maoz']\n",
      "['14th Annual Satyajit Ray Award', 'winner', 'Lebanon (2009 film)', 'country', 'Israel']\n",
      "['14th Annual Satyajit Ray Award', 'winner', 'Lebanon (2009 film)', 'international title', \"Lebanon: The Soldier's Journey in the UK\"]\n",
      "['14th Annual Satyajit Ray Award', 'winner', 'Lebanon (2009 film)', 'nationality', 'Israeli']\n",
      "['14th Annual Satyajit Ray Award', 'winner', 'Lebanon (2009 film)', 'nominated for', 'Israeli Film Academy Award for Best Picture']\n",
      "['14th Annual Satyajit Ray Award', 'winner', 'Lebanon (2009 film)', 'status', 'Controversial']\n",
      "['Debel, Lebanon', 'country', 'Lebanon']\n",
      "['Debel, Lebanon', 'is part of', 'Bint Jbeil']\n",
      "['Debel, Lebanon', 'is part of', 'Nabatiye Governorate']\n",
      "['Debel, Lebanon', 'is part of', 'Nabatiye, Lebanon']\n",
      "['Debel, Lebanon', 'alternative name', 'Dibil']\n",
      "['Debel, Lebanon', 'language', 'Arabic']\n",
      "['Lebanon (2009 film)', 'director', 'Samuel Maoz']\n",
      "['Lebanon (2009 film)', 'country', 'Israel']\n",
      "['Lebanon (2009 film)', 'international title', \"Lebanon: The Soldier's Journey in the UK\"]\n",
      "['Lebanon (2009 film)', 'nationality', 'Israeli']\n",
      "['Lebanon (2009 film)', 'nominated for', 'Israeli Film Academy Award for Best Picture']\n",
      "['Lebanon (2009 film)', 'status', 'Controversial']\n",
      "['66th Venice International Film Festival', 'award', \"Leone d'Oro\"]\n",
      "['14th Annual Satyajit Ray Award', 'winner', 'Lebanon (2009 film)']\n",
      "['14th Annual Satyajit Ray Award', 'winner', 'Lebanon (2009 film)', 'director', 'Samuel Maoz']\n",
      "['14th Annual Satyajit Ray Award', 'winner', 'Lebanon (2009 film)', 'country', 'Israel']\n",
      "['14th Annual Satyajit Ray Award', 'winner', 'Lebanon (2009 film)', 'international title', \"Lebanon: The Soldier's Journey in the UK\"]\n",
      "['14th Annual Satyajit Ray Award', 'winner', 'Lebanon (2009 film)', 'nationality', 'Israeli']\n",
      "['14th Annual Satyajit Ray Award', 'winner', 'Lebanon (2009 film)', 'nominated for', 'Israeli Film Academy Award for Best Picture']\n",
      "['14th Annual Satyajit Ray Award', 'winner', 'Lebanon (2009 film)', 'status', 'Controversial']\n",
      "['Debel, Lebanon', 'country', 'Lebanon']\n",
      "['Debel, Lebanon', 'is part of', 'Bint Jbeil']\n",
      "['Debel, Lebanon', 'is part of', 'Nabatiye Governorate']\n",
      "['Debel, Lebanon', 'is part of', 'Nabatiye, Lebanon']\n",
      "['Debel, Lebanon', 'alternative name', 'Dibil']\n",
      "['Debel, Lebanon', 'language', 'Arabic']\n",
      "---------------------\n",
      "Given the context information and not prior knowledge, answer the query.\n",
      "Query: In which country is Debel located?\n",
      "Answer in 2-4 words: \n",
      "**************************************************\n",
      "** Response: **\n",
      "assistant: Lebanon\n",
      "**************************************************\n",
      "\n",
      "\n",
      "** Messages: **\n",
      "user: A question is provided below. Given the question, extract up to 10 keywords from the text. Focus on extracting the keywords that we can use to best lookup answers to the question. Avoid stopwords.\n",
      "---------------------\n",
      "Who is the screenwriter of the film named after Lebanon?\n",
      "---------------------\n",
      "Provide keywords in the following comma-separated format: 'KEYWORDS: <keywords>'\n",
      "\n",
      "**************************************************\n",
      "** Response: **\n",
      "assistant: KEYWORDS: screenwriter, film, Lebanon\n",
      "**************************************************\n",
      "\n",
      "\n",
      "\u001b[1;3;32mExtracted keywords: ['film', 'Lebanon', 'screenwriter']\n",
      "\u001b[0m\u001b[1;3;34mKG context:\n",
      "The following are knowledge sequence in max depth 2 in the form of directed graph like:\n",
      "`subject -[predicate]->, object, <-[predicate_next_hop]-, object_next_hop ...`\n",
      "['Debel, Lebanon', 'country', 'Lebanon']\n",
      "['Debel, Lebanon', 'is part of', 'Bint Jbeil']\n",
      "['Debel, Lebanon', 'is part of', 'Nabatiye Governorate']\n",
      "['Debel, Lebanon', 'is part of', 'Nabatiye, Lebanon']\n",
      "['Debel, Lebanon', 'alternative name', 'Dibil']\n",
      "['Debel, Lebanon', 'language', 'Arabic']\n",
      "['66th Venice International Film Festival', 'award', \"Leone d'Oro\"]\n",
      "['Lebanon (2009 film)', 'director', 'Samuel Maoz']\n",
      "['Lebanon (2009 film)', 'country', 'Israel']\n",
      "['Lebanon (2009 film)', 'international title', \"Lebanon: The Soldier's Journey in the UK\"]\n",
      "['Lebanon (2009 film)', 'nationality', 'Israeli']\n",
      "['Lebanon (2009 film)', 'nominated for', 'Israeli Film Academy Award for Best Picture']\n",
      "['Lebanon (2009 film)', 'status', 'Controversial']\n",
      "['14th Annual Satyajit Ray Award', 'winner', 'Lebanon (2009 film)']\n",
      "['14th Annual Satyajit Ray Award', 'winner', 'Lebanon (2009 film)', 'director', 'Samuel Maoz']\n",
      "['14th Annual Satyajit Ray Award', 'winner', 'Lebanon (2009 film)', 'country', 'Israel']\n",
      "['14th Annual Satyajit Ray Award', 'winner', 'Lebanon (2009 film)', 'international title', \"Lebanon: The Soldier's Journey in the UK\"]\n",
      "['14th Annual Satyajit Ray Award', 'winner', 'Lebanon (2009 film)', 'nationality', 'Israeli']\n",
      "['14th Annual Satyajit Ray Award', 'winner', 'Lebanon (2009 film)', 'nominated for', 'Israeli Film Academy Award for Best Picture']\n",
      "['14th Annual Satyajit Ray Award', 'winner', 'Lebanon (2009 film)', 'status', 'Controversial']\n",
      "['Debel, Lebanon', 'country', 'Lebanon']\n",
      "['Debel, Lebanon', 'is part of', 'Bint Jbeil']\n",
      "['Debel, Lebanon', 'is part of', 'Nabatiye Governorate']\n",
      "['Debel, Lebanon', 'is part of', 'Nabatiye, Lebanon']\n",
      "['Debel, Lebanon', 'alternative name', 'Dibil']\n",
      "['Debel, Lebanon', 'language', 'Arabic']\n",
      "['Debel, Lebanon', 'country', 'Lebanon']\n",
      "['Debel, Lebanon', 'is part of', 'Bint Jbeil']\n",
      "['Debel, Lebanon', 'is part of', 'Nabatiye Governorate']\n",
      "['Debel, Lebanon', 'is part of', 'Nabatiye, Lebanon']\n",
      "['Debel, Lebanon', 'alternative name', 'Dibil']\n",
      "['Debel, Lebanon', 'language', 'Arabic']\n",
      "['66th Venice International Film Festival', 'award', \"Leone d'Oro\"]\n",
      "['Lebanon (2009 film)', 'director', 'Samuel Maoz']\n",
      "['Lebanon (2009 film)', 'country', 'Israel']\n",
      "['Lebanon (2009 film)', 'international title', \"Lebanon: The Soldier's Journey in the UK\"]\n",
      "['Lebanon (2009 film)', 'nationality', 'Israeli']\n",
      "['Lebanon (2009 film)', 'nominated for', 'Israeli Film Academy Award for Best Picture']\n",
      "['Lebanon (2009 film)', 'status', 'Controversial']\n",
      "['14th Annual Satyajit Ray Award', 'winner', 'Lebanon (2009 film)']\n",
      "['14th Annual Satyajit Ray Award', 'winner', 'Lebanon (2009 film)', 'director', 'Samuel Maoz']\n",
      "['14th Annual Satyajit Ray Award', 'winner', 'Lebanon (2009 film)', 'country', 'Israel']\n",
      "['14th Annual Satyajit Ray Award', 'winner', 'Lebanon (2009 film)', 'international title', \"Lebanon: The Soldier's Journey in the UK\"]\n",
      "['14th Annual Satyajit Ray Award', 'winner', 'Lebanon (2009 film)', 'nationality', 'Israeli']\n",
      "['14th Annual Satyajit Ray Award', 'winner', 'Lebanon (2009 film)', 'nominated for', 'Israeli Film Academy Award for Best Picture']\n",
      "['14th Annual Satyajit Ray Award', 'winner', 'Lebanon (2009 film)', 'status', 'Controversial']\n",
      "\u001b[0m"
     ]
    },
    {
     "name": "stderr",
     "output_type": "stream",
     "text": [
      "2024-02-17 21:23:58,162 - httpx - INFO - HTTP Request: POST http://localhost:8111/chat/completions \"HTTP/1.1 200 OK\"\n"
     ]
    },
    {
     "name": "stdout",
     "output_type": "stream",
     "text": [
      "** Messages: **\n",
      "system: You are an expert Q&A system that is trusted around the world.\n",
      "Always answer the query using the provided context information, and not prior knowledge.\n",
      "Some rules to follow:\n",
      "1. Never directly reference the given context in your answer.\n",
      "2. Avoid statements like 'Based on the context, ...' or 'The context information ...' or anything along those lines.\n",
      "user: Context information is below.\n",
      "---------------------\n",
      "kg_schema: {'schema': None}\n",
      "\n",
      "The following are knowledge sequence in max depth 2 in the form of directed graph like:\n",
      "`subject -[predicate]->, object, <-[predicate_next_hop]-, object_next_hop ...`\n",
      "['Debel, Lebanon', 'country', 'Lebanon']\n",
      "['Debel, Lebanon', 'is part of', 'Bint Jbeil']\n",
      "['Debel, Lebanon', 'is part of', 'Nabatiye Governorate']\n",
      "['Debel, Lebanon', 'is part of', 'Nabatiye, Lebanon']\n",
      "['Debel, Lebanon', 'alternative name', 'Dibil']\n",
      "['Debel, Lebanon', 'language', 'Arabic']\n",
      "['66th Venice International Film Festival', 'award', \"Leone d'Oro\"]\n",
      "['Lebanon (2009 film)', 'director', 'Samuel Maoz']\n",
      "['Lebanon (2009 film)', 'country', 'Israel']\n",
      "['Lebanon (2009 film)', 'international title', \"Lebanon: The Soldier's Journey in the UK\"]\n",
      "['Lebanon (2009 film)', 'nationality', 'Israeli']\n",
      "['Lebanon (2009 film)', 'nominated for', 'Israeli Film Academy Award for Best Picture']\n",
      "['Lebanon (2009 film)', 'status', 'Controversial']\n",
      "['14th Annual Satyajit Ray Award', 'winner', 'Lebanon (2009 film)']\n",
      "['14th Annual Satyajit Ray Award', 'winner', 'Lebanon (2009 film)', 'director', 'Samuel Maoz']\n",
      "['14th Annual Satyajit Ray Award', 'winner', 'Lebanon (2009 film)', 'country', 'Israel']\n",
      "['14th Annual Satyajit Ray Award', 'winner', 'Lebanon (2009 film)', 'international title', \"Lebanon: The Soldier's Journey in the UK\"]\n",
      "['14th Annual Satyajit Ray Award', 'winner', 'Lebanon (2009 film)', 'nationality', 'Israeli']\n",
      "['14th Annual Satyajit Ray Award', 'winner', 'Lebanon (2009 film)', 'nominated for', 'Israeli Film Academy Award for Best Picture']\n",
      "['14th Annual Satyajit Ray Award', 'winner', 'Lebanon (2009 film)', 'status', 'Controversial']\n",
      "['Debel, Lebanon', 'country', 'Lebanon']\n",
      "['Debel, Lebanon', 'is part of', 'Bint Jbeil']\n",
      "['Debel, Lebanon', 'is part of', 'Nabatiye Governorate']\n",
      "['Debel, Lebanon', 'is part of', 'Nabatiye, Lebanon']\n",
      "['Debel, Lebanon', 'alternative name', 'Dibil']\n",
      "['Debel, Lebanon', 'language', 'Arabic']\n",
      "['Debel, Lebanon', 'country', 'Lebanon']\n",
      "['Debel, Lebanon', 'is part of', 'Bint Jbeil']\n",
      "['Debel, Lebanon', 'is part of', 'Nabatiye Governorate']\n",
      "['Debel, Lebanon', 'is part of', 'Nabatiye, Lebanon']\n",
      "['Debel, Lebanon', 'alternative name', 'Dibil']\n",
      "['Debel, Lebanon', 'language', 'Arabic']\n",
      "['66th Venice International Film Festival', 'award', \"Leone d'Oro\"]\n",
      "['Lebanon (2009 film)', 'director', 'Samuel Maoz']\n",
      "['Lebanon (2009 film)', 'country', 'Israel']\n",
      "['Lebanon (2009 film)', 'international title', \"Lebanon: The Soldier's Journey in the UK\"]\n",
      "['Lebanon (2009 film)', 'nationality', 'Israeli']\n",
      "['Lebanon (2009 film)', 'nominated for', 'Israeli Film Academy Award for Best Picture']\n",
      "['Lebanon (2009 film)', 'status', 'Controversial']\n",
      "['14th Annual Satyajit Ray Award', 'winner', 'Lebanon (2009 film)']\n",
      "['14th Annual Satyajit Ray Award', 'winner', 'Lebanon (2009 film)', 'director', 'Samuel Maoz']\n",
      "['14th Annual Satyajit Ray Award', 'winner', 'Lebanon (2009 film)', 'country', 'Israel']\n",
      "['14th Annual Satyajit Ray Award', 'winner', 'Lebanon (2009 film)', 'international title', \"Lebanon: The Soldier's Journey in the UK\"]\n",
      "['14th Annual Satyajit Ray Award', 'winner', 'Lebanon (2009 film)', 'nationality', 'Israeli']\n",
      "['14th Annual Satyajit Ray Award', 'winner', 'Lebanon (2009 film)', 'nominated for', 'Israeli Film Academy Award for Best Picture']\n",
      "['14th Annual Satyajit Ray Award', 'winner', 'Lebanon (2009 film)', 'status', 'Controversial']\n",
      "---------------------\n",
      "Given the context information and not prior knowledge, answer the query.\n",
      "Query: Who is the screenwriter of the film named after Lebanon?\n",
      "Answer in 2-4 words: \n",
      "**************************************************\n",
      "** Response: **\n",
      "assistant: Samuel Maoz\n",
      "**************************************************\n",
      "\n",
      "\n"
     ]
    }
   ],
   "source": [
    "intermediate_directory = dataset_file.parent / \"question-answering\"\n",
    "intermediate_directory.mkdir(exist_ok=True, parents=True)\n",
    "\n",
    "example = json.loads(line)\n",
    "example_id = example[\"id\"]\n",
    "\n",
    "err(f\"Setting up query engine for {example_id}\")\n",
    "service_context = make_service_context(intermediate_directory, example_id)\n",
    "index = load_index(knowledge_graph_directory / example_id, service_context)\n",
    "query_engine = make_query_engine(index)\n",
    "\n",
    "err(f\"Answering the question in the sample {example_id}\")\n",
    "example_answered = answer_questions(query_engine, example)\n"
   ]
  },
  {
   "cell_type": "code",
   "execution_count": 12,
   "metadata": {},
   "outputs": [
    {
     "name": "stdout",
     "output_type": "stream",
     "text": [
      "\u001b[0;31mSignature:\u001b[0m \u001b[0mindex\u001b[0m\u001b[0;34m.\u001b[0m\u001b[0mstorage_context\u001b[0m\u001b[0;34m.\u001b[0m\u001b[0mindex_store\u001b[0m\u001b[0;34m.\u001b[0m\u001b[0mindex_structs\u001b[0m\u001b[0;34m(\u001b[0m\u001b[0;34m)\u001b[0m \u001b[0;34m->\u001b[0m \u001b[0mList\u001b[0m\u001b[0;34m[\u001b[0m\u001b[0mllama_index\u001b[0m\u001b[0;34m.\u001b[0m\u001b[0mdata_structs\u001b[0m\u001b[0;34m.\u001b[0m\u001b[0mdata_structs\u001b[0m\u001b[0;34m.\u001b[0m\u001b[0mIndexStruct\u001b[0m\u001b[0;34m]\u001b[0m\u001b[0;34m\u001b[0m\u001b[0;34m\u001b[0m\u001b[0m\n",
      "\u001b[0;31mDocstring:\u001b[0m\n",
      "Get all index structs.\n",
      "\n",
      "Returns:\n",
      "    List[IndexStruct]: index structs\n",
      "\u001b[0;31mFile:\u001b[0m      ~/dev/repos/bellem/.venv/lib/python3.10/site-packages/llama_index/storage/index_store/keyval_index_store.py\n",
      "\u001b[0;31mType:\u001b[0m      method"
     ]
    }
   ],
   "source": [
    "\n",
    "index.storage_context.index_store.index_structs?"
   ]
  },
  {
   "cell_type": "code",
   "execution_count": 13,
   "metadata": {},
   "outputs": [
    {
     "data": {
      "text/plain": [
       "KG(index_id='dc5463d2-b161-4270-be58-3458231e8866', summary=None, table={'14th Annual Satyajit Ray Award': {'4c90ff18-35c2-4265-bf5a-5b62e00782e6'}, 'Lebanon (2009 film)': {'4c90ff18-35c2-4265-bf5a-5b62e00782e6'}, '66th Venice International Film Festival': {'4c90ff18-35c2-4265-bf5a-5b62e00782e6'}, \"Leone d'Oro\": {'4c90ff18-35c2-4265-bf5a-5b62e00782e6'}, 'Samuel Maoz': {'4c90ff18-35c2-4265-bf5a-5b62e00782e6'}, 'Israel': {'4c90ff18-35c2-4265-bf5a-5b62e00782e6'}, \"Lebanon: The Soldier's Journey in the UK\": {'4c90ff18-35c2-4265-bf5a-5b62e00782e6'}, 'Israeli': {'4c90ff18-35c2-4265-bf5a-5b62e00782e6'}, 'Israeli Film Academy Award for Best Picture': {'4c90ff18-35c2-4265-bf5a-5b62e00782e6'}, 'Controversial': {'4c90ff18-35c2-4265-bf5a-5b62e00782e6'}, 'Debel, Lebanon': {'2e989546-f800-454f-8553-bbd7db068b69'}, 'Lebanon': {'2e989546-f800-454f-8553-bbd7db068b69'}, 'Bint Jbeil': {'2e989546-f800-454f-8553-bbd7db068b69'}, 'Nabatiye Governorate': {'2e989546-f800-454f-8553-bbd7db068b69'}, 'Nabatiye, Lebanon': {'2e989546-f800-454f-8553-bbd7db068b69'}, 'Dibil': {'2e989546-f800-454f-8553-bbd7db068b69'}, 'Arabic': {'2e989546-f800-454f-8553-bbd7db068b69'}}, rel_map={}, embedding_dict={}, keyword_match_threshold=0.6)"
      ]
     },
     "execution_count": 13,
     "metadata": {},
     "output_type": "execute_result"
    }
   ],
   "source": [
    "index.storage_context.index_store.index_structs()[0]"
   ]
  },
  {
   "cell_type": "code",
   "execution_count": 14,
   "metadata": {},
   "outputs": [
    {
     "data": {
      "text/plain": [
       "bellem.llama_index.data_structs.data_structs.KG"
      ]
     },
     "execution_count": 14,
     "metadata": {},
     "output_type": "execute_result"
    }
   ],
   "source": [
    "index._index_struct.__class__"
   ]
  },
  {
   "cell_type": "code",
   "execution_count": 15,
   "metadata": {},
   "outputs": [
    {
     "data": {
      "text/plain": [
       "bellem.llama_index.data_structs.data_structs.KG"
      ]
     },
     "execution_count": 15,
     "metadata": {},
     "output_type": "execute_result"
    }
   ],
   "source": [
    "query_engine.retriever._index_struct.__class__"
   ]
  },
  {
   "cell_type": "code",
   "execution_count": 16,
   "metadata": {},
   "outputs": [
    {
     "data": {
      "text/plain": [
       "StorageContext(docstore=<llama_index.storage.docstore.simple_docstore.SimpleDocumentStore object at 0x150a748e0>, index_store=<llama_index.storage.index_store.simple_index_store.SimpleIndexStore object at 0x150a74f10>, vector_stores={'image': <llama_index.vector_stores.simple.SimpleVectorStore object at 0x1530af460>, 'default': <llama_index.vector_stores.simple.SimpleVectorStore object at 0x150a47af0>}, graph_store=<bellem.llama_index.graph_stores.kuzu.KuzuGraphStore object at 0x150a74d30>)"
      ]
     },
     "execution_count": 16,
     "metadata": {},
     "output_type": "execute_result"
    }
   ],
   "source": [
    "storage_context = load_storage_context(knowledge_graph_directory / example_id)\n",
    "storage_context"
   ]
  },
  {
   "cell_type": "code",
   "execution_count": 17,
   "metadata": {},
   "outputs": [
    {
     "data": {
      "text/plain": [
       "{'Debel, Lebanon': [['Debel, Lebanon', 'country', 'Lebanon'],\n",
       "  ['Debel, Lebanon', 'is part of', 'Bint Jbeil'],\n",
       "  ['Debel, Lebanon', 'is part of', 'Nabatiye Governorate'],\n",
       "  ['Debel, Lebanon', 'is part of', 'Nabatiye, Lebanon'],\n",
       "  ['Debel, Lebanon', 'alternative name', 'Dibil'],\n",
       "  ['Debel, Lebanon', 'language', 'Arabic']],\n",
       " 'Lebanon (2009 film)': [['Lebanon (2009 film)', 'director', 'Samuel Maoz'],\n",
       "  ['Lebanon (2009 film)', 'country', 'Israel'],\n",
       "  ['Lebanon (2009 film)',\n",
       "   'international title',\n",
       "   \"Lebanon: The Soldier's Journey in the UK\"],\n",
       "  ['Lebanon (2009 film)', 'nationality', 'Israeli'],\n",
       "  ['Lebanon (2009 film)',\n",
       "   'nominated for',\n",
       "   'Israeli Film Academy Award for Best Picture'],\n",
       "  ['Lebanon (2009 film)', 'status', 'Controversial']],\n",
       " '66th Venice International Film Festival': [['66th Venice International Film Festival',\n",
       "   'award',\n",
       "   \"Leone d'Oro\"]],\n",
       " '14th Annual Satyajit Ray Award': [['14th Annual Satyajit Ray Award',\n",
       "   'winner',\n",
       "   'Lebanon (2009 film)'],\n",
       "  ['14th Annual Satyajit Ray Award',\n",
       "   'winner',\n",
       "   'Lebanon (2009 film)',\n",
       "   'director',\n",
       "   'Samuel Maoz'],\n",
       "  ['14th Annual Satyajit Ray Award',\n",
       "   'winner',\n",
       "   'Lebanon (2009 film)',\n",
       "   'country',\n",
       "   'Israel'],\n",
       "  ['14th Annual Satyajit Ray Award',\n",
       "   'winner',\n",
       "   'Lebanon (2009 film)',\n",
       "   'international title',\n",
       "   \"Lebanon: The Soldier's Journey in the UK\"],\n",
       "  ['14th Annual Satyajit Ray Award',\n",
       "   'winner',\n",
       "   'Lebanon (2009 film)',\n",
       "   'nationality',\n",
       "   'Israeli'],\n",
       "  ['14th Annual Satyajit Ray Award',\n",
       "   'winner',\n",
       "   'Lebanon (2009 film)',\n",
       "   'nominated for',\n",
       "   'Israeli Film Academy Award for Best Picture'],\n",
       "  ['14th Annual Satyajit Ray Award',\n",
       "   'winner',\n",
       "   'Lebanon (2009 film)',\n",
       "   'status',\n",
       "   'Controversial']]}"
      ]
     },
     "execution_count": 17,
     "metadata": {},
     "output_type": "execute_result"
    }
   ],
   "source": [
    "storage_context.graph_store.get_rel_map()"
   ]
  },
  {
   "cell_type": "code",
   "execution_count": 18,
   "metadata": {},
   "outputs": [],
   "source": [
    "query_engine = index.as_query_engine(\n",
    "    include_text=False,\n",
    "    embedding_mode=\"hybrid\",\n",
    "    response_mode=\"simple_summarize\",\n",
    "    verbose=True,\n",
    ")"
   ]
  },
  {
   "cell_type": "code",
   "execution_count": 19,
   "metadata": {},
   "outputs": [
    {
     "data": {
      "text/plain": [
       "['In which country is Debel located?',\n",
       " 'Who is the screenwriter of the film named after #1?']"
      ]
     },
     "execution_count": 19,
     "metadata": {},
     "output_type": "execute_result"
    }
   ],
   "source": [
    "sub_questions = [item[\"question\"] for item in example[\"question_decomposition\"]]\n",
    "sub_questions"
   ]
  },
  {
   "cell_type": "code",
   "execution_count": 20,
   "metadata": {},
   "outputs": [
    {
     "name": "stderr",
     "output_type": "stream",
     "text": [
      "2024-02-17 21:23:58,892 - httpx - INFO - HTTP Request: POST http://localhost:8111/chat/completions \"HTTP/1.1 200 OK\"\n",
      "2024-02-17 21:23:58,945 - bellem.llama_index.indices.knowledge_graph.retrievers - WARNING - Index was not constructed with embeddings, skipping embedding usage...\n"
     ]
    },
    {
     "name": "stdout",
     "output_type": "stream",
     "text": [
      "** Messages: **\n",
      "user: A question is provided below. Given the question, extract up to 10 keywords from the text. Focus on extracting the keywords that we can use to best lookup answers to the question. Avoid stopwords.\n",
      "---------------------\n",
      "In which country is Debel located?\n",
      "---------------------\n",
      "Provide keywords in the following comma-separated format: 'KEYWORDS: <keywords>'\n",
      "\n",
      "**************************************************\n",
      "** Response: **\n",
      "assistant: KEYWORDS: country, Debel, located\n",
      "**************************************************\n",
      "\n",
      "\n",
      "\u001b[1;3;32mExtracted keywords: ['Debel', 'country', 'located']\n",
      "\u001b[0m\u001b[1;3;34mKG context:\n",
      "The following are knowledge sequence in max depth 2 in the form of directed graph like:\n",
      "`subject -[predicate]->, object, <-[predicate_next_hop]-, object_next_hop ...`\n",
      "['Lebanon (2009 film)', 'director', 'Samuel Maoz']\n",
      "['Lebanon (2009 film)', 'country', 'Israel']\n",
      "['Lebanon (2009 film)', 'international title', \"Lebanon: The Soldier's Journey in the UK\"]\n",
      "['Lebanon (2009 film)', 'nationality', 'Israeli']\n",
      "['Lebanon (2009 film)', 'nominated for', 'Israeli Film Academy Award for Best Picture']\n",
      "['Lebanon (2009 film)', 'status', 'Controversial']\n",
      "['Debel, Lebanon', 'country', 'Lebanon']\n",
      "['Debel, Lebanon', 'is part of', 'Bint Jbeil']\n",
      "['Debel, Lebanon', 'is part of', 'Nabatiye Governorate']\n",
      "['Debel, Lebanon', 'is part of', 'Nabatiye, Lebanon']\n",
      "['Debel, Lebanon', 'alternative name', 'Dibil']\n",
      "['Debel, Lebanon', 'language', 'Arabic']\n",
      "['14th Annual Satyajit Ray Award', 'winner', 'Lebanon (2009 film)']\n",
      "['14th Annual Satyajit Ray Award', 'winner', 'Lebanon (2009 film)', 'director', 'Samuel Maoz']\n",
      "['14th Annual Satyajit Ray Award', 'winner', 'Lebanon (2009 film)', 'country', 'Israel']\n",
      "['14th Annual Satyajit Ray Award', 'winner', 'Lebanon (2009 film)', 'international title', \"Lebanon: The Soldier's Journey in the UK\"]\n",
      "['14th Annual Satyajit Ray Award', 'winner', 'Lebanon (2009 film)', 'nationality', 'Israeli']\n",
      "['14th Annual Satyajit Ray Award', 'winner', 'Lebanon (2009 film)', 'nominated for', 'Israeli Film Academy Award for Best Picture']\n",
      "['14th Annual Satyajit Ray Award', 'winner', 'Lebanon (2009 film)', 'status', 'Controversial']\n",
      "['66th Venice International Film Festival', 'award', \"Leone d'Oro\"]\n",
      "['Lebanon (2009 film)', 'director', 'Samuel Maoz']\n",
      "['Lebanon (2009 film)', 'country', 'Israel']\n",
      "['Lebanon (2009 film)', 'international title', \"Lebanon: The Soldier's Journey in the UK\"]\n",
      "['Lebanon (2009 film)', 'nationality', 'Israeli']\n",
      "['Lebanon (2009 film)', 'nominated for', 'Israeli Film Academy Award for Best Picture']\n",
      "['Lebanon (2009 film)', 'status', 'Controversial']\n",
      "['14th Annual Satyajit Ray Award', 'winner', 'Lebanon (2009 film)']\n",
      "['14th Annual Satyajit Ray Award', 'winner', 'Lebanon (2009 film)', 'director', 'Samuel Maoz']\n",
      "['14th Annual Satyajit Ray Award', 'winner', 'Lebanon (2009 film)', 'country', 'Israel']\n",
      "['14th Annual Satyajit Ray Award', 'winner', 'Lebanon (2009 film)', 'international title', \"Lebanon: The Soldier's Journey in the UK\"]\n",
      "['14th Annual Satyajit Ray Award', 'winner', 'Lebanon (2009 film)', 'nationality', 'Israeli']\n",
      "['14th Annual Satyajit Ray Award', 'winner', 'Lebanon (2009 film)', 'nominated for', 'Israeli Film Academy Award for Best Picture']\n",
      "['14th Annual Satyajit Ray Award', 'winner', 'Lebanon (2009 film)', 'status', 'Controversial']\n",
      "['66th Venice International Film Festival', 'award', \"Leone d'Oro\"]\n",
      "['Debel, Lebanon', 'country', 'Lebanon']\n",
      "['Debel, Lebanon', 'is part of', 'Bint Jbeil']\n",
      "['Debel, Lebanon', 'is part of', 'Nabatiye Governorate']\n",
      "['Debel, Lebanon', 'is part of', 'Nabatiye, Lebanon']\n",
      "['Debel, Lebanon', 'alternative name', 'Dibil']\n",
      "['Debel, Lebanon', 'language', 'Arabic']\n",
      "\u001b[0m"
     ]
    },
    {
     "name": "stderr",
     "output_type": "stream",
     "text": [
      "2024-02-17 21:23:59,499 - httpx - INFO - HTTP Request: POST http://localhost:8111/chat/completions \"HTTP/1.1 200 OK\"\n"
     ]
    },
    {
     "name": "stdout",
     "output_type": "stream",
     "text": [
      "** Messages: **\n",
      "system: You are an expert Q&A system that is trusted around the world.\n",
      "Always answer the query using the provided context information, and not prior knowledge.\n",
      "Some rules to follow:\n",
      "1. Never directly reference the given context in your answer.\n",
      "2. Avoid statements like 'Based on the context, ...' or 'The context information ...' or anything along those lines.\n",
      "user: Context information is below.\n",
      "---------------------\n",
      "kg_schema: {'schema': None}\n",
      "\n",
      "The following are knowledge sequence in max depth 2 in the form of directed graph like:\n",
      "`subject -[predicate]->, object, <-[predicate_next_hop]-, object_next_hop ...`\n",
      "['Lebanon (2009 film)', 'director', 'Samuel Maoz']\n",
      "['Lebanon (2009 film)', 'country', 'Israel']\n",
      "['Lebanon (2009 film)', 'international title', \"Lebanon: The Soldier's Journey in the UK\"]\n",
      "['Lebanon (2009 film)', 'nationality', 'Israeli']\n",
      "['Lebanon (2009 film)', 'nominated for', 'Israeli Film Academy Award for Best Picture']\n",
      "['Lebanon (2009 film)', 'status', 'Controversial']\n",
      "['Debel, Lebanon', 'country', 'Lebanon']\n",
      "['Debel, Lebanon', 'is part of', 'Bint Jbeil']\n",
      "['Debel, Lebanon', 'is part of', 'Nabatiye Governorate']\n",
      "['Debel, Lebanon', 'is part of', 'Nabatiye, Lebanon']\n",
      "['Debel, Lebanon', 'alternative name', 'Dibil']\n",
      "['Debel, Lebanon', 'language', 'Arabic']\n",
      "['14th Annual Satyajit Ray Award', 'winner', 'Lebanon (2009 film)']\n",
      "['14th Annual Satyajit Ray Award', 'winner', 'Lebanon (2009 film)', 'director', 'Samuel Maoz']\n",
      "['14th Annual Satyajit Ray Award', 'winner', 'Lebanon (2009 film)', 'country', 'Israel']\n",
      "['14th Annual Satyajit Ray Award', 'winner', 'Lebanon (2009 film)', 'international title', \"Lebanon: The Soldier's Journey in the UK\"]\n",
      "['14th Annual Satyajit Ray Award', 'winner', 'Lebanon (2009 film)', 'nationality', 'Israeli']\n",
      "['14th Annual Satyajit Ray Award', 'winner', 'Lebanon (2009 film)', 'nominated for', 'Israeli Film Academy Award for Best Picture']\n",
      "['14th Annual Satyajit Ray Award', 'winner', 'Lebanon (2009 film)', 'status', 'Controversial']\n",
      "['66th Venice International Film Festival', 'award', \"Leone d'Oro\"]\n",
      "['Lebanon (2009 film)', 'director', 'Samuel Maoz']\n",
      "['Lebanon (2009 film)', 'country', 'Israel']\n",
      "['Lebanon (2009 film)', 'international title', \"Lebanon: The Soldier's Journey in the UK\"]\n",
      "['Lebanon (2009 film)', 'nationality', 'Israeli']\n",
      "['Lebanon (2009 film)', 'nominated for', 'Israeli Film Academy Award for Best Picture']\n",
      "['Lebanon (2009 film)', 'status', 'Controversial']\n",
      "['14th Annual Satyajit Ray Award', 'winner', 'Lebanon (2009 film)']\n",
      "['14th Annual Satyajit Ray Award', 'winner', 'Lebanon (2009 film)', 'director', 'Samuel Maoz']\n",
      "['14th Annual Satyajit Ray Award', 'winner', 'Lebanon (2009 film)', 'country', 'Israel']\n",
      "['14th Annual Satyajit Ray Award', 'winner', 'Lebanon (2009 film)', 'international title', \"Lebanon: The Soldier's Journey in the UK\"]\n",
      "['14th Annual Satyajit Ray Award', 'winner', 'Lebanon (2009 film)', 'nationality', 'Israeli']\n",
      "['14th Annual Satyajit Ray Award', 'winner', 'Lebanon (2009 film)', 'nominated for', 'Israeli Film Academy Award for Best Picture']\n",
      "['14th Annual Satyajit Ray Award', 'winner', 'Lebanon (2009 film)', 'status', 'Controversial']\n",
      "['66th Venice International Film Festival', 'award', \"Leone d'Oro\"]\n",
      "['Debel, Lebanon', 'country', 'Lebanon']\n",
      "['Debel, Lebanon', 'is part of', 'Bint Jbeil']\n",
      "['Debel, Lebanon', 'is part of', 'Nabatiye Governorate']\n",
      "['Debel, Lebanon', 'is part of', 'Nabatiye, Lebanon']\n",
      "['Debel, Lebanon', 'alternative name', 'Dibil']\n",
      "['Debel, Lebanon', 'language', 'Arabic']\n",
      "---------------------\n",
      "Given the context information and not prior knowledge, answer the query.\n",
      "Query: In which country is Debel located?\n",
      "Answer: \n",
      "**************************************************\n",
      "** Response: **\n",
      "assistant: Debel is located in Lebanon.\n",
      "**************************************************\n",
      "\n",
      "\n"
     ]
    },
    {
     "name": "stderr",
     "output_type": "stream",
     "text": [
      "2024-02-17 21:24:00,079 - httpx - INFO - HTTP Request: POST http://localhost:8111/chat/completions \"HTTP/1.1 200 OK\"\n",
      "2024-02-17 21:24:00,134 - bellem.llama_index.indices.knowledge_graph.retrievers - WARNING - Index was not constructed with embeddings, skipping embedding usage...\n"
     ]
    },
    {
     "name": "stdout",
     "output_type": "stream",
     "text": [
      "** Messages: **\n",
      "user: A question is provided below. Given the question, extract up to 10 keywords from the text. Focus on extracting the keywords that we can use to best lookup answers to the question. Avoid stopwords.\n",
      "---------------------\n",
      "Who is the screenwriter of the film named after Debel is located in Lebanon.?\n",
      "---------------------\n",
      "Provide keywords in the following comma-separated format: 'KEYWORDS: <keywords>'\n",
      "\n",
      "**************************************************\n",
      "** Response: **\n",
      "assistant: KEYWORDS: screenwriter, film, Debel, Lebanon\n",
      "**************************************************\n",
      "\n",
      "\n",
      "\u001b[1;3;32mExtracted keywords: ['film', 'Debel', 'Lebanon', 'screenwriter']\n",
      "\u001b[0m\u001b[1;3;34mKG context:\n",
      "The following are knowledge sequence in max depth 2 in the form of directed graph like:\n",
      "`subject -[predicate]->, object, <-[predicate_next_hop]-, object_next_hop ...`\n",
      "['14th Annual Satyajit Ray Award', 'winner', 'Lebanon (2009 film)']\n",
      "['14th Annual Satyajit Ray Award', 'winner', 'Lebanon (2009 film)', 'director', 'Samuel Maoz']\n",
      "['14th Annual Satyajit Ray Award', 'winner', 'Lebanon (2009 film)', 'country', 'Israel']\n",
      "['14th Annual Satyajit Ray Award', 'winner', 'Lebanon (2009 film)', 'international title', \"Lebanon: The Soldier's Journey in the UK\"]\n",
      "['14th Annual Satyajit Ray Award', 'winner', 'Lebanon (2009 film)', 'nationality', 'Israeli']\n",
      "['14th Annual Satyajit Ray Award', 'winner', 'Lebanon (2009 film)', 'nominated for', 'Israeli Film Academy Award for Best Picture']\n",
      "['14th Annual Satyajit Ray Award', 'winner', 'Lebanon (2009 film)', 'status', 'Controversial']\n",
      "['Lebanon (2009 film)', 'director', 'Samuel Maoz']\n",
      "['Lebanon (2009 film)', 'country', 'Israel']\n",
      "['Lebanon (2009 film)', 'international title', \"Lebanon: The Soldier's Journey in the UK\"]\n",
      "['Lebanon (2009 film)', 'nationality', 'Israeli']\n",
      "['Lebanon (2009 film)', 'nominated for', 'Israeli Film Academy Award for Best Picture']\n",
      "['Lebanon (2009 film)', 'status', 'Controversial']\n",
      "['66th Venice International Film Festival', 'award', \"Leone d'Oro\"]\n",
      "['Debel, Lebanon', 'country', 'Lebanon']\n",
      "['Debel, Lebanon', 'is part of', 'Bint Jbeil']\n",
      "['Debel, Lebanon', 'is part of', 'Nabatiye Governorate']\n",
      "['Debel, Lebanon', 'is part of', 'Nabatiye, Lebanon']\n",
      "['Debel, Lebanon', 'alternative name', 'Dibil']\n",
      "['Debel, Lebanon', 'language', 'Arabic']\n",
      "['Debel, Lebanon', 'country', 'Lebanon']\n",
      "['Debel, Lebanon', 'is part of', 'Bint Jbeil']\n",
      "['Debel, Lebanon', 'is part of', 'Nabatiye Governorate']\n",
      "['Debel, Lebanon', 'is part of', 'Nabatiye, Lebanon']\n",
      "['Debel, Lebanon', 'alternative name', 'Dibil']\n",
      "['Debel, Lebanon', 'language', 'Arabic']\n",
      "['Lebanon (2009 film)', 'director', 'Samuel Maoz']\n",
      "['Lebanon (2009 film)', 'country', 'Israel']\n",
      "['Lebanon (2009 film)', 'international title', \"Lebanon: The Soldier's Journey in the UK\"]\n",
      "['Lebanon (2009 film)', 'nationality', 'Israeli']\n",
      "['Lebanon (2009 film)', 'nominated for', 'Israeli Film Academy Award for Best Picture']\n",
      "['Lebanon (2009 film)', 'status', 'Controversial']\n",
      "['66th Venice International Film Festival', 'award', \"Leone d'Oro\"]\n",
      "['14th Annual Satyajit Ray Award', 'winner', 'Lebanon (2009 film)']\n",
      "['14th Annual Satyajit Ray Award', 'winner', 'Lebanon (2009 film)', 'director', 'Samuel Maoz']\n",
      "['14th Annual Satyajit Ray Award', 'winner', 'Lebanon (2009 film)', 'country', 'Israel']\n",
      "['14th Annual Satyajit Ray Award', 'winner', 'Lebanon (2009 film)', 'international title', \"Lebanon: The Soldier's Journey in the UK\"]\n",
      "['14th Annual Satyajit Ray Award', 'winner', 'Lebanon (2009 film)', 'nationality', 'Israeli']\n",
      "['14th Annual Satyajit Ray Award', 'winner', 'Lebanon (2009 film)', 'nominated for', 'Israeli Film Academy Award for Best Picture']\n",
      "['14th Annual Satyajit Ray Award', 'winner', 'Lebanon (2009 film)', 'status', 'Controversial']\n",
      "['Debel, Lebanon', 'country', 'Lebanon']\n",
      "['Debel, Lebanon', 'is part of', 'Bint Jbeil']\n",
      "['Debel, Lebanon', 'is part of', 'Nabatiye Governorate']\n",
      "['Debel, Lebanon', 'is part of', 'Nabatiye, Lebanon']\n",
      "['Debel, Lebanon', 'alternative name', 'Dibil']\n",
      "['Debel, Lebanon', 'language', 'Arabic']\n",
      "\u001b[0m"
     ]
    },
    {
     "name": "stderr",
     "output_type": "stream",
     "text": [
      "2024-02-17 21:24:00,835 - httpx - INFO - HTTP Request: POST http://localhost:8111/chat/completions \"HTTP/1.1 200 OK\"\n"
     ]
    },
    {
     "name": "stdout",
     "output_type": "stream",
     "text": [
      "** Messages: **\n",
      "system: You are an expert Q&A system that is trusted around the world.\n",
      "Always answer the query using the provided context information, and not prior knowledge.\n",
      "Some rules to follow:\n",
      "1. Never directly reference the given context in your answer.\n",
      "2. Avoid statements like 'Based on the context, ...' or 'The context information ...' or anything along those lines.\n",
      "user: Context information is below.\n",
      "---------------------\n",
      "kg_schema: {'schema': None}\n",
      "\n",
      "The following are knowledge sequence in max depth 2 in the form of directed graph like:\n",
      "`subject -[predicate]->, object, <-[predicate_next_hop]-, object_next_hop ...`\n",
      "['14th Annual Satyajit Ray Award', 'winner', 'Lebanon (2009 film)']\n",
      "['14th Annual Satyajit Ray Award', 'winner', 'Lebanon (2009 film)', 'director', 'Samuel Maoz']\n",
      "['14th Annual Satyajit Ray Award', 'winner', 'Lebanon (2009 film)', 'country', 'Israel']\n",
      "['14th Annual Satyajit Ray Award', 'winner', 'Lebanon (2009 film)', 'international title', \"Lebanon: The Soldier's Journey in the UK\"]\n",
      "['14th Annual Satyajit Ray Award', 'winner', 'Lebanon (2009 film)', 'nationality', 'Israeli']\n",
      "['14th Annual Satyajit Ray Award', 'winner', 'Lebanon (2009 film)', 'nominated for', 'Israeli Film Academy Award for Best Picture']\n",
      "['14th Annual Satyajit Ray Award', 'winner', 'Lebanon (2009 film)', 'status', 'Controversial']\n",
      "['Lebanon (2009 film)', 'director', 'Samuel Maoz']\n",
      "['Lebanon (2009 film)', 'country', 'Israel']\n",
      "['Lebanon (2009 film)', 'international title', \"Lebanon: The Soldier's Journey in the UK\"]\n",
      "['Lebanon (2009 film)', 'nationality', 'Israeli']\n",
      "['Lebanon (2009 film)', 'nominated for', 'Israeli Film Academy Award for Best Picture']\n",
      "['Lebanon (2009 film)', 'status', 'Controversial']\n",
      "['66th Venice International Film Festival', 'award', \"Leone d'Oro\"]\n",
      "['Debel, Lebanon', 'country', 'Lebanon']\n",
      "['Debel, Lebanon', 'is part of', 'Bint Jbeil']\n",
      "['Debel, Lebanon', 'is part of', 'Nabatiye Governorate']\n",
      "['Debel, Lebanon', 'is part of', 'Nabatiye, Lebanon']\n",
      "['Debel, Lebanon', 'alternative name', 'Dibil']\n",
      "['Debel, Lebanon', 'language', 'Arabic']\n",
      "['Debel, Lebanon', 'country', 'Lebanon']\n",
      "['Debel, Lebanon', 'is part of', 'Bint Jbeil']\n",
      "['Debel, Lebanon', 'is part of', 'Nabatiye Governorate']\n",
      "['Debel, Lebanon', 'is part of', 'Nabatiye, Lebanon']\n",
      "['Debel, Lebanon', 'alternative name', 'Dibil']\n",
      "['Debel, Lebanon', 'language', 'Arabic']\n",
      "['Lebanon (2009 film)', 'director', 'Samuel Maoz']\n",
      "['Lebanon (2009 film)', 'country', 'Israel']\n",
      "['Lebanon (2009 film)', 'international title', \"Lebanon: The Soldier's Journey in the UK\"]\n",
      "['Lebanon (2009 film)', 'nationality', 'Israeli']\n",
      "['Lebanon (2009 film)', 'nominated for', 'Israeli Film Academy Award for Best Picture']\n",
      "['Lebanon (2009 film)', 'status', 'Controversial']\n",
      "['66th Venice International Film Festival', 'award', \"Leone d'Oro\"]\n",
      "['14th Annual Satyajit Ray Award', 'winner', 'Lebanon (2009 film)']\n",
      "['14th Annual Satyajit Ray Award', 'winner', 'Lebanon (2009 film)', 'director', 'Samuel Maoz']\n",
      "['14th Annual Satyajit Ray Award', 'winner', 'Lebanon (2009 film)', 'country', 'Israel']\n",
      "['14th Annual Satyajit Ray Award', 'winner', 'Lebanon (2009 film)', 'international title', \"Lebanon: The Soldier's Journey in the UK\"]\n",
      "['14th Annual Satyajit Ray Award', 'winner', 'Lebanon (2009 film)', 'nationality', 'Israeli']\n",
      "['14th Annual Satyajit Ray Award', 'winner', 'Lebanon (2009 film)', 'nominated for', 'Israeli Film Academy Award for Best Picture']\n",
      "['14th Annual Satyajit Ray Award', 'winner', 'Lebanon (2009 film)', 'status', 'Controversial']\n",
      "['Debel, Lebanon', 'country', 'Lebanon']\n",
      "['Debel, Lebanon', 'is part of', 'Bint Jbeil']\n",
      "['Debel, Lebanon', 'is part of', 'Nabatiye Governorate']\n",
      "['Debel, Lebanon', 'is part of', 'Nabatiye, Lebanon']\n",
      "['Debel, Lebanon', 'alternative name', 'Dibil']\n",
      "['Debel, Lebanon', 'language', 'Arabic']\n",
      "---------------------\n",
      "Given the context information and not prior knowledge, answer the query.\n",
      "Query: Who is the screenwriter of the film named after Debel is located in Lebanon.?\n",
      "Answer: \n",
      "**************************************************\n",
      "** Response: **\n",
      "assistant: The screenwriter of the film named after Debel, which is located in Lebanon, is not provided in the given context information.\n",
      "**************************************************\n",
      "\n",
      "\n"
     ]
    },
    {
     "data": {
      "text/plain": [
       "{'id': '2hop__354073_511430',\n",
       " 'question': 'Who is the screenwriter of the film named after the country Debel is located?',\n",
       " 'question_decomposition': [{'question': 'In which country is Debel located?',\n",
       "   'answer': 'Debel is located in Lebanon.'},\n",
       "  {'question': 'Who is the screenwriter of the film named after #1?',\n",
       "   'answer': 'The screenwriter of the film named after Debel, which is located in Lebanon, is not provided in the given context information.'}]}"
      ]
     },
     "execution_count": 20,
     "metadata": {},
     "output_type": "execute_result"
    }
   ],
   "source": [
    "example_answered = answer_questions(query_engine, example)\n",
    "example_answered"
   ]
  },
  {
   "cell_type": "code",
   "execution_count": 21,
   "metadata": {},
   "outputs": [
    {
     "name": "stderr",
     "output_type": "stream",
     "text": [
      "2024-02-17 21:24:00,872 - httpx - INFO - HTTP Request: POST http://localhost:8111/chat/completions \"HTTP/1.1 200 OK\"\n",
      "2024-02-17 21:24:01,012 - bellem.llama_index.indices.knowledge_graph.retrievers - WARNING - Index was not constructed with embeddings, skipping embedding usage...\n"
     ]
    },
    {
     "name": "stdout",
     "output_type": "stream",
     "text": [
      "** Messages: **\n",
      "user: A question is provided below. Given the question, extract up to 10 keywords from the text. Focus on extracting the keywords that we can use to best lookup answers to the question. Avoid stopwords.\n",
      "---------------------\n",
      "In which country is Debel located?\n",
      "---------------------\n",
      "Provide keywords in the following comma-separated format: 'KEYWORDS: <keywords>'\n",
      "\n",
      "**************************************************\n",
      "** Response: **\n",
      "assistant: KEYWORDS: country, Debel, located\n",
      "**************************************************\n",
      "\n",
      "\n",
      "\u001b[1;3;32mExtracted keywords: ['Debel', 'country', 'located']\n",
      "\u001b[0m\u001b[1;3;34mKG context:\n",
      "The following are knowledge sequence in max depth 2 in the form of directed graph like:\n",
      "`subject -[predicate]->, object, <-[predicate_next_hop]-, object_next_hop ...`\n",
      "['Lebanon (2009 film)', 'director', 'Samuel Maoz']\n",
      "['Lebanon (2009 film)', 'country', 'Israel']\n",
      "['Lebanon (2009 film)', 'international title', \"Lebanon: The Soldier's Journey in the UK\"]\n",
      "['Lebanon (2009 film)', 'nationality', 'Israeli']\n",
      "['Lebanon (2009 film)', 'nominated for', 'Israeli Film Academy Award for Best Picture']\n",
      "['Lebanon (2009 film)', 'status', 'Controversial']\n",
      "['14th Annual Satyajit Ray Award', 'winner', 'Lebanon (2009 film)']\n",
      "['14th Annual Satyajit Ray Award', 'winner', 'Lebanon (2009 film)', 'director', 'Samuel Maoz']\n",
      "['14th Annual Satyajit Ray Award', 'winner', 'Lebanon (2009 film)', 'country', 'Israel']\n",
      "['14th Annual Satyajit Ray Award', 'winner', 'Lebanon (2009 film)', 'international title', \"Lebanon: The Soldier's Journey in the UK\"]\n",
      "['14th Annual Satyajit Ray Award', 'winner', 'Lebanon (2009 film)', 'nationality', 'Israeli']\n",
      "['14th Annual Satyajit Ray Award', 'winner', 'Lebanon (2009 film)', 'nominated for', 'Israeli Film Academy Award for Best Picture']\n",
      "['14th Annual Satyajit Ray Award', 'winner', 'Lebanon (2009 film)', 'status', 'Controversial']\n",
      "['66th Venice International Film Festival', 'award', \"Leone d'Oro\"]\n",
      "['Debel, Lebanon', 'country', 'Lebanon']\n",
      "['Debel, Lebanon', 'is part of', 'Bint Jbeil']\n",
      "['Debel, Lebanon', 'is part of', 'Nabatiye Governorate']\n",
      "['Debel, Lebanon', 'is part of', 'Nabatiye, Lebanon']\n",
      "['Debel, Lebanon', 'alternative name', 'Dibil']\n",
      "['Debel, Lebanon', 'language', 'Arabic']\n",
      "['Debel, Lebanon', 'country', 'Lebanon']\n",
      "['Debel, Lebanon', 'is part of', 'Bint Jbeil']\n",
      "['Debel, Lebanon', 'is part of', 'Nabatiye Governorate']\n",
      "['Debel, Lebanon', 'is part of', 'Nabatiye, Lebanon']\n",
      "['Debel, Lebanon', 'alternative name', 'Dibil']\n",
      "['Debel, Lebanon', 'language', 'Arabic']\n",
      "['Lebanon (2009 film)', 'director', 'Samuel Maoz']\n",
      "['Lebanon (2009 film)', 'country', 'Israel']\n",
      "['Lebanon (2009 film)', 'international title', \"Lebanon: The Soldier's Journey in the UK\"]\n",
      "['Lebanon (2009 film)', 'nationality', 'Israeli']\n",
      "['Lebanon (2009 film)', 'nominated for', 'Israeli Film Academy Award for Best Picture']\n",
      "['Lebanon (2009 film)', 'status', 'Controversial']\n",
      "['66th Venice International Film Festival', 'award', \"Leone d'Oro\"]\n",
      "['14th Annual Satyajit Ray Award', 'winner', 'Lebanon (2009 film)']\n",
      "['14th Annual Satyajit Ray Award', 'winner', 'Lebanon (2009 film)', 'director', 'Samuel Maoz']\n",
      "['14th Annual Satyajit Ray Award', 'winner', 'Lebanon (2009 film)', 'country', 'Israel']\n",
      "['14th Annual Satyajit Ray Award', 'winner', 'Lebanon (2009 film)', 'international title', \"Lebanon: The Soldier's Journey in the UK\"]\n",
      "['14th Annual Satyajit Ray Award', 'winner', 'Lebanon (2009 film)', 'nationality', 'Israeli']\n",
      "['14th Annual Satyajit Ray Award', 'winner', 'Lebanon (2009 film)', 'nominated for', 'Israeli Film Academy Award for Best Picture']\n",
      "['14th Annual Satyajit Ray Award', 'winner', 'Lebanon (2009 film)', 'status', 'Controversial']\n",
      "\u001b[0m"
     ]
    },
    {
     "name": "stderr",
     "output_type": "stream",
     "text": [
      "2024-02-17 21:24:01,487 - httpx - INFO - HTTP Request: POST http://localhost:8111/chat/completions \"HTTP/1.1 200 OK\"\n"
     ]
    },
    {
     "name": "stdout",
     "output_type": "stream",
     "text": [
      "** Messages: **\n",
      "system: You are an expert Q&A system that is trusted around the world.\n",
      "Always answer the query using the provided context information, and not prior knowledge.\n",
      "Some rules to follow:\n",
      "1. Never directly reference the given context in your answer.\n",
      "2. Avoid statements like 'Based on the context, ...' or 'The context information ...' or anything along those lines.\n",
      "user: Context information from multiple sources is below.\n",
      "---------------------\n",
      "kg_schema: {'schema': None}\n",
      "\n",
      "The following are knowledge sequence in max depth 2 in the form of directed graph like:\n",
      "`subject -[predicate]->, object, <-[predicate_next_hop]-, object_next_hop ...`\n",
      "['Lebanon (2009 film)', 'director', 'Samuel Maoz']\n",
      "['Lebanon (2009 film)', 'country', 'Israel']\n",
      "['Lebanon (2009 film)', 'international title', \"Lebanon: The Soldier's Journey in the UK\"]\n",
      "['Lebanon (2009 film)', 'nationality', 'Israeli']\n",
      "['Lebanon (2009 film)', 'nominated for', 'Israeli Film Academy Award for Best Picture']\n",
      "['Lebanon (2009 film)', 'status', 'Controversial']\n",
      "['14th Annual Satyajit Ray Award', 'winner', 'Lebanon (2009 film)']\n",
      "['14th Annual Satyajit Ray Award', 'winner', 'Lebanon (2009 film)', 'director', 'Samuel Maoz']\n",
      "['14th Annual Satyajit Ray Award', 'winner', 'Lebanon (2009 film)', 'country', 'Israel']\n",
      "['14th Annual Satyajit Ray Award', 'winner', 'Lebanon (2009 film)', 'international title', \"Lebanon: The Soldier's Journey in the UK\"]\n",
      "['14th Annual Satyajit Ray Award', 'winner', 'Lebanon (2009 film)', 'nationality', 'Israeli']\n",
      "['14th Annual Satyajit Ray Award', 'winner', 'Lebanon (2009 film)', 'nominated for', 'Israeli Film Academy Award for Best Picture']\n",
      "['14th Annual Satyajit Ray Award', 'winner', 'Lebanon (2009 film)', 'status', 'Controversial']\n",
      "['66th Venice International Film Festival', 'award', \"Leone d'Oro\"]\n",
      "['Debel, Lebanon', 'country', 'Lebanon']\n",
      "['Debel, Lebanon', 'is part of', 'Bint Jbeil']\n",
      "['Debel, Lebanon', 'is part of', 'Nabatiye Governorate']\n",
      "['Debel, Lebanon', 'is part of', 'Nabatiye, Lebanon']\n",
      "['Debel, Lebanon', 'alternative name', 'Dibil']\n",
      "['Debel, Lebanon', 'language', 'Arabic']\n",
      "['Debel, Lebanon', 'country', 'Lebanon']\n",
      "['Debel, Lebanon', 'is part of', 'Bint Jbeil']\n",
      "['Debel, Lebanon', 'is part of', 'Nabatiye Governorate']\n",
      "['Debel, Lebanon', 'is part of', 'Nabatiye, Lebanon']\n",
      "['Debel, Lebanon', 'alternative name', 'Dibil']\n",
      "['Debel, Lebanon', 'language', 'Arabic']\n",
      "['Lebanon (2009 film)', 'director', 'Samuel Maoz']\n",
      "['Lebanon (2009 film)', 'country', 'Israel']\n",
      "['Lebanon (2009 film)', 'international title', \"Lebanon: The Soldier's Journey in the UK\"]\n",
      "['Lebanon (2009 film)', 'nationality', 'Israeli']\n",
      "['Lebanon (2009 film)', 'nominated for', 'Israeli Film Academy Award for Best Picture']\n",
      "['Lebanon (2009 film)', 'status', 'Controversial']\n",
      "['66th Venice International Film Festival', 'award', \"Leone d'Oro\"]\n",
      "['14th Annual Satyajit Ray Award', 'winner', 'Lebanon (2009 film)']\n",
      "['14th Annual Satyajit Ray Award', 'winner', 'Lebanon (2009 film)', 'director', 'Samuel Maoz']\n",
      "['14th Annual Satyajit Ray Award', 'winner', 'Lebanon (2009 film)', 'country', 'Israel']\n",
      "['14th Annual Satyajit Ray Award', 'winner', 'Lebanon (2009 film)', 'international title', \"Lebanon: The Soldier's Journey in the UK\"]\n",
      "['14th Annual Satyajit Ray Award', 'winner', 'Lebanon (2009 film)', 'nationality', 'Israeli']\n",
      "['14th Annual Satyajit Ray Award', 'winner', 'Lebanon (2009 film)', 'nominated for', 'Israeli Film Academy Award for Best Picture']\n",
      "['14th Annual Satyajit Ray Award', 'winner', 'Lebanon (2009 film)', 'status', 'Controversial']\n",
      "---------------------\n",
      "Given the information from multiple sources and not prior knowledge, answer the query.\n",
      "Query: In which country is Debel located?\n",
      "Answer: \n",
      "**************************************************\n",
      "** Response: **\n",
      "assistant: Debel is located in Lebanon.\n",
      "**************************************************\n",
      "\n",
      "\n"
     ]
    },
    {
     "data": {
      "text/plain": [
       "Response(response='Debel is located in Lebanon.', source_nodes=[NodeWithScore(node=TextNode(id_='eca4a98f-783f-4da3-a9bc-f0dcb1a4328a', embedding=None, metadata={'kg_rel_texts': [\"['Lebanon (2009 film)', 'director', 'Samuel Maoz']\", \"['Lebanon (2009 film)', 'country', 'Israel']\", '[\\'Lebanon (2009 film)\\', \\'international title\\', \"Lebanon: The Soldier\\'s Journey in the UK\"]', \"['Lebanon (2009 film)', 'nationality', 'Israeli']\", \"['Lebanon (2009 film)', 'nominated for', 'Israeli Film Academy Award for Best Picture']\", \"['Lebanon (2009 film)', 'status', 'Controversial']\", \"['14th Annual Satyajit Ray Award', 'winner', 'Lebanon (2009 film)']\", \"['14th Annual Satyajit Ray Award', 'winner', 'Lebanon (2009 film)', 'director', 'Samuel Maoz']\", \"['14th Annual Satyajit Ray Award', 'winner', 'Lebanon (2009 film)', 'country', 'Israel']\", '[\\'14th Annual Satyajit Ray Award\\', \\'winner\\', \\'Lebanon (2009 film)\\', \\'international title\\', \"Lebanon: The Soldier\\'s Journey in the UK\"]', \"['14th Annual Satyajit Ray Award', 'winner', 'Lebanon (2009 film)', 'nationality', 'Israeli']\", \"['14th Annual Satyajit Ray Award', 'winner', 'Lebanon (2009 film)', 'nominated for', 'Israeli Film Academy Award for Best Picture']\", \"['14th Annual Satyajit Ray Award', 'winner', 'Lebanon (2009 film)', 'status', 'Controversial']\", '[\\'66th Venice International Film Festival\\', \\'award\\', \"Leone d\\'Oro\"]', \"['Debel, Lebanon', 'country', 'Lebanon']\", \"['Debel, Lebanon', 'is part of', 'Bint Jbeil']\", \"['Debel, Lebanon', 'is part of', 'Nabatiye Governorate']\", \"['Debel, Lebanon', 'is part of', 'Nabatiye, Lebanon']\", \"['Debel, Lebanon', 'alternative name', 'Dibil']\", \"['Debel, Lebanon', 'language', 'Arabic']\", \"['Debel, Lebanon', 'country', 'Lebanon']\", \"['Debel, Lebanon', 'is part of', 'Bint Jbeil']\", \"['Debel, Lebanon', 'is part of', 'Nabatiye Governorate']\", \"['Debel, Lebanon', 'is part of', 'Nabatiye, Lebanon']\", \"['Debel, Lebanon', 'alternative name', 'Dibil']\", \"['Debel, Lebanon', 'language', 'Arabic']\", \"['Lebanon (2009 film)', 'director', 'Samuel Maoz']\", \"['Lebanon (2009 film)', 'country', 'Israel']\", '[\\'Lebanon (2009 film)\\', \\'international title\\', \"Lebanon: The Soldier\\'s Journey in the UK\"]', \"['Lebanon (2009 film)', 'nationality', 'Israeli']\", \"['Lebanon (2009 film)', 'nominated for', 'Israeli Film Academy Award for Best Picture']\", \"['Lebanon (2009 film)', 'status', 'Controversial']\", '[\\'66th Venice International Film Festival\\', \\'award\\', \"Leone d\\'Oro\"]', \"['14th Annual Satyajit Ray Award', 'winner', 'Lebanon (2009 film)']\", \"['14th Annual Satyajit Ray Award', 'winner', 'Lebanon (2009 film)', 'director', 'Samuel Maoz']\", \"['14th Annual Satyajit Ray Award', 'winner', 'Lebanon (2009 film)', 'country', 'Israel']\", '[\\'14th Annual Satyajit Ray Award\\', \\'winner\\', \\'Lebanon (2009 film)\\', \\'international title\\', \"Lebanon: The Soldier\\'s Journey in the UK\"]', \"['14th Annual Satyajit Ray Award', 'winner', 'Lebanon (2009 film)', 'nationality', 'Israeli']\", \"['14th Annual Satyajit Ray Award', 'winner', 'Lebanon (2009 film)', 'nominated for', 'Israeli Film Academy Award for Best Picture']\", \"['14th Annual Satyajit Ray Award', 'winner', 'Lebanon (2009 film)', 'status', 'Controversial']\"], 'kg_rel_map': {'Lebanon (2009 film)': [['Lebanon (2009 film)', 'director', 'Samuel Maoz'], ['Lebanon (2009 film)', 'country', 'Israel'], ['Lebanon (2009 film)', 'international title', \"Lebanon: The Soldier's Journey in the UK\"], ['Lebanon (2009 film)', 'nationality', 'Israeli'], ['Lebanon (2009 film)', 'nominated for', 'Israeli Film Academy Award for Best Picture'], ['Lebanon (2009 film)', 'status', 'Controversial']], '14th Annual Satyajit Ray Award': [['14th Annual Satyajit Ray Award', 'winner', 'Lebanon (2009 film)'], ['14th Annual Satyajit Ray Award', 'winner', 'Lebanon (2009 film)', 'director', 'Samuel Maoz'], ['14th Annual Satyajit Ray Award', 'winner', 'Lebanon (2009 film)', 'country', 'Israel'], ['14th Annual Satyajit Ray Award', 'winner', 'Lebanon (2009 film)', 'international title', \"Lebanon: The Soldier's Journey in the UK\"], ['14th Annual Satyajit Ray Award', 'winner', 'Lebanon (2009 film)', 'nationality', 'Israeli'], ['14th Annual Satyajit Ray Award', 'winner', 'Lebanon (2009 film)', 'nominated for', 'Israeli Film Academy Award for Best Picture'], ['14th Annual Satyajit Ray Award', 'winner', 'Lebanon (2009 film)', 'status', 'Controversial']], '66th Venice International Film Festival': [['66th Venice International Film Festival', 'award', \"Leone d'Oro\"]], 'Debel, Lebanon': [['Debel, Lebanon', 'country', 'Lebanon'], ['Debel, Lebanon', 'is part of', 'Bint Jbeil'], ['Debel, Lebanon', 'is part of', 'Nabatiye Governorate'], ['Debel, Lebanon', 'is part of', 'Nabatiye, Lebanon'], ['Debel, Lebanon', 'alternative name', 'Dibil'], ['Debel, Lebanon', 'language', 'Arabic']]}, 'kg_schema': {'schema': None}}, excluded_embed_metadata_keys=['kg_rel_map', 'kg_rel_texts'], excluded_llm_metadata_keys=['kg_rel_map', 'kg_rel_texts'], relationships={}, text='The following are knowledge sequence in max depth 2 in the form of directed graph like:\\n`subject -[predicate]->, object, <-[predicate_next_hop]-, object_next_hop ...`\\n[\\'Lebanon (2009 film)\\', \\'director\\', \\'Samuel Maoz\\']\\n[\\'Lebanon (2009 film)\\', \\'country\\', \\'Israel\\']\\n[\\'Lebanon (2009 film)\\', \\'international title\\', \"Lebanon: The Soldier\\'s Journey in the UK\"]\\n[\\'Lebanon (2009 film)\\', \\'nationality\\', \\'Israeli\\']\\n[\\'Lebanon (2009 film)\\', \\'nominated for\\', \\'Israeli Film Academy Award for Best Picture\\']\\n[\\'Lebanon (2009 film)\\', \\'status\\', \\'Controversial\\']\\n[\\'14th Annual Satyajit Ray Award\\', \\'winner\\', \\'Lebanon (2009 film)\\']\\n[\\'14th Annual Satyajit Ray Award\\', \\'winner\\', \\'Lebanon (2009 film)\\', \\'director\\', \\'Samuel Maoz\\']\\n[\\'14th Annual Satyajit Ray Award\\', \\'winner\\', \\'Lebanon (2009 film)\\', \\'country\\', \\'Israel\\']\\n[\\'14th Annual Satyajit Ray Award\\', \\'winner\\', \\'Lebanon (2009 film)\\', \\'international title\\', \"Lebanon: The Soldier\\'s Journey in the UK\"]\\n[\\'14th Annual Satyajit Ray Award\\', \\'winner\\', \\'Lebanon (2009 film)\\', \\'nationality\\', \\'Israeli\\']\\n[\\'14th Annual Satyajit Ray Award\\', \\'winner\\', \\'Lebanon (2009 film)\\', \\'nominated for\\', \\'Israeli Film Academy Award for Best Picture\\']\\n[\\'14th Annual Satyajit Ray Award\\', \\'winner\\', \\'Lebanon (2009 film)\\', \\'status\\', \\'Controversial\\']\\n[\\'66th Venice International Film Festival\\', \\'award\\', \"Leone d\\'Oro\"]\\n[\\'Debel, Lebanon\\', \\'country\\', \\'Lebanon\\']\\n[\\'Debel, Lebanon\\', \\'is part of\\', \\'Bint Jbeil\\']\\n[\\'Debel, Lebanon\\', \\'is part of\\', \\'Nabatiye Governorate\\']\\n[\\'Debel, Lebanon\\', \\'is part of\\', \\'Nabatiye, Lebanon\\']\\n[\\'Debel, Lebanon\\', \\'alternative name\\', \\'Dibil\\']\\n[\\'Debel, Lebanon\\', \\'language\\', \\'Arabic\\']\\n[\\'Debel, Lebanon\\', \\'country\\', \\'Lebanon\\']\\n[\\'Debel, Lebanon\\', \\'is part of\\', \\'Bint Jbeil\\']\\n[\\'Debel, Lebanon\\', \\'is part of\\', \\'Nabatiye Governorate\\']\\n[\\'Debel, Lebanon\\', \\'is part of\\', \\'Nabatiye, Lebanon\\']\\n[\\'Debel, Lebanon\\', \\'alternative name\\', \\'Dibil\\']\\n[\\'Debel, Lebanon\\', \\'language\\', \\'Arabic\\']\\n[\\'Lebanon (2009 film)\\', \\'director\\', \\'Samuel Maoz\\']\\n[\\'Lebanon (2009 film)\\', \\'country\\', \\'Israel\\']\\n[\\'Lebanon (2009 film)\\', \\'international title\\', \"Lebanon: The Soldier\\'s Journey in the UK\"]\\n[\\'Lebanon (2009 film)\\', \\'nationality\\', \\'Israeli\\']\\n[\\'Lebanon (2009 film)\\', \\'nominated for\\', \\'Israeli Film Academy Award for Best Picture\\']\\n[\\'Lebanon (2009 film)\\', \\'status\\', \\'Controversial\\']\\n[\\'66th Venice International Film Festival\\', \\'award\\', \"Leone d\\'Oro\"]\\n[\\'14th Annual Satyajit Ray Award\\', \\'winner\\', \\'Lebanon (2009 film)\\']\\n[\\'14th Annual Satyajit Ray Award\\', \\'winner\\', \\'Lebanon (2009 film)\\', \\'director\\', \\'Samuel Maoz\\']\\n[\\'14th Annual Satyajit Ray Award\\', \\'winner\\', \\'Lebanon (2009 film)\\', \\'country\\', \\'Israel\\']\\n[\\'14th Annual Satyajit Ray Award\\', \\'winner\\', \\'Lebanon (2009 film)\\', \\'international title\\', \"Lebanon: The Soldier\\'s Journey in the UK\"]\\n[\\'14th Annual Satyajit Ray Award\\', \\'winner\\', \\'Lebanon (2009 film)\\', \\'nationality\\', \\'Israeli\\']\\n[\\'14th Annual Satyajit Ray Award\\', \\'winner\\', \\'Lebanon (2009 film)\\', \\'nominated for\\', \\'Israeli Film Academy Award for Best Picture\\']\\n[\\'14th Annual Satyajit Ray Award\\', \\'winner\\', \\'Lebanon (2009 film)\\', \\'status\\', \\'Controversial\\']', start_char_idx=None, end_char_idx=None, text_template='{metadata_str}\\n\\n{content}', metadata_template='{key}: {value}', metadata_seperator='\\n'), score=1000.0)], metadata={'eca4a98f-783f-4da3-a9bc-f0dcb1a4328a': {'kg_rel_texts': [\"['Lebanon (2009 film)', 'director', 'Samuel Maoz']\", \"['Lebanon (2009 film)', 'country', 'Israel']\", '[\\'Lebanon (2009 film)\\', \\'international title\\', \"Lebanon: The Soldier\\'s Journey in the UK\"]', \"['Lebanon (2009 film)', 'nationality', 'Israeli']\", \"['Lebanon (2009 film)', 'nominated for', 'Israeli Film Academy Award for Best Picture']\", \"['Lebanon (2009 film)', 'status', 'Controversial']\", \"['14th Annual Satyajit Ray Award', 'winner', 'Lebanon (2009 film)']\", \"['14th Annual Satyajit Ray Award', 'winner', 'Lebanon (2009 film)', 'director', 'Samuel Maoz']\", \"['14th Annual Satyajit Ray Award', 'winner', 'Lebanon (2009 film)', 'country', 'Israel']\", '[\\'14th Annual Satyajit Ray Award\\', \\'winner\\', \\'Lebanon (2009 film)\\', \\'international title\\', \"Lebanon: The Soldier\\'s Journey in the UK\"]', \"['14th Annual Satyajit Ray Award', 'winner', 'Lebanon (2009 film)', 'nationality', 'Israeli']\", \"['14th Annual Satyajit Ray Award', 'winner', 'Lebanon (2009 film)', 'nominated for', 'Israeli Film Academy Award for Best Picture']\", \"['14th Annual Satyajit Ray Award', 'winner', 'Lebanon (2009 film)', 'status', 'Controversial']\", '[\\'66th Venice International Film Festival\\', \\'award\\', \"Leone d\\'Oro\"]', \"['Debel, Lebanon', 'country', 'Lebanon']\", \"['Debel, Lebanon', 'is part of', 'Bint Jbeil']\", \"['Debel, Lebanon', 'is part of', 'Nabatiye Governorate']\", \"['Debel, Lebanon', 'is part of', 'Nabatiye, Lebanon']\", \"['Debel, Lebanon', 'alternative name', 'Dibil']\", \"['Debel, Lebanon', 'language', 'Arabic']\", \"['Debel, Lebanon', 'country', 'Lebanon']\", \"['Debel, Lebanon', 'is part of', 'Bint Jbeil']\", \"['Debel, Lebanon', 'is part of', 'Nabatiye Governorate']\", \"['Debel, Lebanon', 'is part of', 'Nabatiye, Lebanon']\", \"['Debel, Lebanon', 'alternative name', 'Dibil']\", \"['Debel, Lebanon', 'language', 'Arabic']\", \"['Lebanon (2009 film)', 'director', 'Samuel Maoz']\", \"['Lebanon (2009 film)', 'country', 'Israel']\", '[\\'Lebanon (2009 film)\\', \\'international title\\', \"Lebanon: The Soldier\\'s Journey in the UK\"]', \"['Lebanon (2009 film)', 'nationality', 'Israeli']\", \"['Lebanon (2009 film)', 'nominated for', 'Israeli Film Academy Award for Best Picture']\", \"['Lebanon (2009 film)', 'status', 'Controversial']\", '[\\'66th Venice International Film Festival\\', \\'award\\', \"Leone d\\'Oro\"]', \"['14th Annual Satyajit Ray Award', 'winner', 'Lebanon (2009 film)']\", \"['14th Annual Satyajit Ray Award', 'winner', 'Lebanon (2009 film)', 'director', 'Samuel Maoz']\", \"['14th Annual Satyajit Ray Award', 'winner', 'Lebanon (2009 film)', 'country', 'Israel']\", '[\\'14th Annual Satyajit Ray Award\\', \\'winner\\', \\'Lebanon (2009 film)\\', \\'international title\\', \"Lebanon: The Soldier\\'s Journey in the UK\"]', \"['14th Annual Satyajit Ray Award', 'winner', 'Lebanon (2009 film)', 'nationality', 'Israeli']\", \"['14th Annual Satyajit Ray Award', 'winner', 'Lebanon (2009 film)', 'nominated for', 'Israeli Film Academy Award for Best Picture']\", \"['14th Annual Satyajit Ray Award', 'winner', 'Lebanon (2009 film)', 'status', 'Controversial']\"], 'kg_rel_map': {'Lebanon (2009 film)': [['Lebanon (2009 film)', 'director', 'Samuel Maoz'], ['Lebanon (2009 film)', 'country', 'Israel'], ['Lebanon (2009 film)', 'international title', \"Lebanon: The Soldier's Journey in the UK\"], ['Lebanon (2009 film)', 'nationality', 'Israeli'], ['Lebanon (2009 film)', 'nominated for', 'Israeli Film Academy Award for Best Picture'], ['Lebanon (2009 film)', 'status', 'Controversial']], '14th Annual Satyajit Ray Award': [['14th Annual Satyajit Ray Award', 'winner', 'Lebanon (2009 film)'], ['14th Annual Satyajit Ray Award', 'winner', 'Lebanon (2009 film)', 'director', 'Samuel Maoz'], ['14th Annual Satyajit Ray Award', 'winner', 'Lebanon (2009 film)', 'country', 'Israel'], ['14th Annual Satyajit Ray Award', 'winner', 'Lebanon (2009 film)', 'international title', \"Lebanon: The Soldier's Journey in the UK\"], ['14th Annual Satyajit Ray Award', 'winner', 'Lebanon (2009 film)', 'nationality', 'Israeli'], ['14th Annual Satyajit Ray Award', 'winner', 'Lebanon (2009 film)', 'nominated for', 'Israeli Film Academy Award for Best Picture'], ['14th Annual Satyajit Ray Award', 'winner', 'Lebanon (2009 film)', 'status', 'Controversial']], '66th Venice International Film Festival': [['66th Venice International Film Festival', 'award', \"Leone d'Oro\"]], 'Debel, Lebanon': [['Debel, Lebanon', 'country', 'Lebanon'], ['Debel, Lebanon', 'is part of', 'Bint Jbeil'], ['Debel, Lebanon', 'is part of', 'Nabatiye Governorate'], ['Debel, Lebanon', 'is part of', 'Nabatiye, Lebanon'], ['Debel, Lebanon', 'alternative name', 'Dibil'], ['Debel, Lebanon', 'language', 'Arabic']]}, 'kg_schema': {'schema': None}}})"
      ]
     },
     "execution_count": 21,
     "metadata": {},
     "output_type": "execute_result"
    }
   ],
   "source": [
    "query_engine = index.as_query_engine(\n",
    "    include_text=False, \n",
    "    response_mode=\"tree_summarize\",\n",
    "    verbose=True,\n",
    ")\n",
    "response = query_engine.query(sub_questions[0])\n",
    "response"
   ]
  },
  {
   "cell_type": "code",
   "execution_count": 22,
   "metadata": {},
   "outputs": [],
   "source": [
    "from llama_index.indices.knowledge_graph.retrievers import KGRetrieverMode\n",
    "\n",
    "retriever = index.as_retriever(\n",
    "    retriever_mode=KGRetrieverMode.HYBRID,\n",
    "    include_text=False,\n",
    "    verbose=True,\n",
    ")"
   ]
  },
  {
   "cell_type": "code",
   "execution_count": 23,
   "metadata": {},
   "outputs": [
    {
     "name": "stderr",
     "output_type": "stream",
     "text": [
      "2024-02-17 21:24:01,639 - httpx - INFO - HTTP Request: POST http://localhost:8111/chat/completions \"HTTP/1.1 200 OK\"\n",
      "2024-02-17 21:24:01,671 - bellem.llama_index.indices.knowledge_graph.retrievers - WARNING - Index was not constructed with embeddings, skipping embedding usage...\n"
     ]
    },
    {
     "name": "stdout",
     "output_type": "stream",
     "text": [
      "** Messages: **\n",
      "user: A question is provided below. Given the question, extract up to 10 keywords from the text. Focus on extracting the keywords that we can use to best lookup answers to the question. Avoid stopwords.\n",
      "---------------------\n",
      "In which country is Debel located?\n",
      "---------------------\n",
      "Provide keywords in the following comma-separated format: 'KEYWORDS: <keywords>'\n",
      "\n",
      "**************************************************\n",
      "** Response: **\n",
      "assistant: KEYWORDS: country, Debel, located\n",
      "**************************************************\n",
      "\n",
      "\n",
      "\u001b[1;3;32mExtracted keywords: ['Debel', 'country', 'located']\n",
      "\u001b[0m\u001b[1;3;34mKG context:\n",
      "The following are knowledge sequence in max depth 2 in the form of directed graph like:\n",
      "`subject -[predicate]->, object, <-[predicate_next_hop]-, object_next_hop ...`\n",
      "['14th Annual Satyajit Ray Award', 'winner', 'Lebanon (2009 film)', 'international title', \"Lebanon: The Soldier's Journey in the UK\"]\n",
      "['14th Annual Satyajit Ray Award', 'winner', 'Lebanon (2009 film)', 'nominated for', 'Israeli Film Academy Award for Best Picture']\n",
      "['14th Annual Satyajit Ray Award', 'winner', 'Lebanon (2009 film)', 'status', 'Controversial']\n",
      "['14th Annual Satyajit Ray Award', 'winner', 'Lebanon (2009 film)', 'director', 'Samuel Maoz']\n",
      "['14th Annual Satyajit Ray Award', 'winner', 'Lebanon (2009 film)', 'nationality', 'Israeli']\n",
      "['Lebanon (2009 film)', 'international title', \"Lebanon: The Soldier's Journey in the UK\"]\n",
      "['14th Annual Satyajit Ray Award', 'winner', 'Lebanon (2009 film)', 'country', 'Israel']\n",
      "['Lebanon (2009 film)', 'nominated for', 'Israeli Film Academy Award for Best Picture']\n",
      "['66th Venice International Film Festival', 'award', \"Leone d'Oro\"]\n",
      "['14th Annual Satyajit Ray Award', 'winner', 'Lebanon (2009 film)']\n",
      "['Debel, Lebanon', 'is part of', 'Nabatiye Governorate']\n",
      "['Debel, Lebanon', 'is part of', 'Nabatiye, Lebanon']\n",
      "['Lebanon (2009 film)', 'status', 'Controversial']\n",
      "['Lebanon (2009 film)', 'director', 'Samuel Maoz']\n",
      "['Lebanon (2009 film)', 'nationality', 'Israeli']\n",
      "['Debel, Lebanon', 'alternative name', 'Dibil']\n",
      "['Debel, Lebanon', 'is part of', 'Bint Jbeil']\n",
      "['Lebanon (2009 film)', 'country', 'Israel']\n",
      "['Debel, Lebanon', 'language', 'Arabic']\n",
      "['Debel, Lebanon', 'country', 'Lebanon']\n",
      "\u001b[0m"
     ]
    },
    {
     "data": {
      "text/plain": [
       "[NodeWithScore(node=TextNode(id_='9f028baa-f531-4598-a8c5-001d87ef0cbf', embedding=None, metadata={'kg_rel_texts': ['[\\'14th Annual Satyajit Ray Award\\', \\'winner\\', \\'Lebanon (2009 film)\\', \\'international title\\', \"Lebanon: The Soldier\\'s Journey in the UK\"]', \"['14th Annual Satyajit Ray Award', 'winner', 'Lebanon (2009 film)', 'nominated for', 'Israeli Film Academy Award for Best Picture']\", \"['14th Annual Satyajit Ray Award', 'winner', 'Lebanon (2009 film)', 'status', 'Controversial']\", \"['14th Annual Satyajit Ray Award', 'winner', 'Lebanon (2009 film)', 'director', 'Samuel Maoz']\", \"['14th Annual Satyajit Ray Award', 'winner', 'Lebanon (2009 film)', 'nationality', 'Israeli']\", '[\\'Lebanon (2009 film)\\', \\'international title\\', \"Lebanon: The Soldier\\'s Journey in the UK\"]', \"['14th Annual Satyajit Ray Award', 'winner', 'Lebanon (2009 film)', 'country', 'Israel']\", \"['Lebanon (2009 film)', 'nominated for', 'Israeli Film Academy Award for Best Picture']\", '[\\'66th Venice International Film Festival\\', \\'award\\', \"Leone d\\'Oro\"]', \"['14th Annual Satyajit Ray Award', 'winner', 'Lebanon (2009 film)']\", \"['Debel, Lebanon', 'is part of', 'Nabatiye Governorate']\", \"['Debel, Lebanon', 'is part of', 'Nabatiye, Lebanon']\", \"['Lebanon (2009 film)', 'status', 'Controversial']\", \"['Lebanon (2009 film)', 'director', 'Samuel Maoz']\", \"['Lebanon (2009 film)', 'nationality', 'Israeli']\", \"['Debel, Lebanon', 'alternative name', 'Dibil']\", \"['Debel, Lebanon', 'is part of', 'Bint Jbeil']\", \"['Lebanon (2009 film)', 'country', 'Israel']\", \"['Debel, Lebanon', 'language', 'Arabic']\", \"['Debel, Lebanon', 'country', 'Lebanon']\"], 'kg_rel_map': {'Lebanon (2009 film)': [['Lebanon (2009 film)', 'director', 'Samuel Maoz'], ['Lebanon (2009 film)', 'country', 'Israel'], ['Lebanon (2009 film)', 'international title', \"Lebanon: The Soldier's Journey in the UK\"], ['Lebanon (2009 film)', 'nationality', 'Israeli'], ['Lebanon (2009 film)', 'nominated for', 'Israeli Film Academy Award for Best Picture'], ['Lebanon (2009 film)', 'status', 'Controversial']], '14th Annual Satyajit Ray Award': [['14th Annual Satyajit Ray Award', 'winner', 'Lebanon (2009 film)'], ['14th Annual Satyajit Ray Award', 'winner', 'Lebanon (2009 film)', 'director', 'Samuel Maoz'], ['14th Annual Satyajit Ray Award', 'winner', 'Lebanon (2009 film)', 'country', 'Israel'], ['14th Annual Satyajit Ray Award', 'winner', 'Lebanon (2009 film)', 'international title', \"Lebanon: The Soldier's Journey in the UK\"], ['14th Annual Satyajit Ray Award', 'winner', 'Lebanon (2009 film)', 'nationality', 'Israeli'], ['14th Annual Satyajit Ray Award', 'winner', 'Lebanon (2009 film)', 'nominated for', 'Israeli Film Academy Award for Best Picture'], ['14th Annual Satyajit Ray Award', 'winner', 'Lebanon (2009 film)', 'status', 'Controversial']], '66th Venice International Film Festival': [['66th Venice International Film Festival', 'award', \"Leone d'Oro\"]], 'Debel, Lebanon': [['Debel, Lebanon', 'country', 'Lebanon'], ['Debel, Lebanon', 'is part of', 'Bint Jbeil'], ['Debel, Lebanon', 'is part of', 'Nabatiye Governorate'], ['Debel, Lebanon', 'is part of', 'Nabatiye, Lebanon'], ['Debel, Lebanon', 'alternative name', 'Dibil'], ['Debel, Lebanon', 'language', 'Arabic']]}, 'kg_schema': {'schema': None}}, excluded_embed_metadata_keys=['kg_rel_map', 'kg_rel_texts'], excluded_llm_metadata_keys=['kg_rel_map', 'kg_rel_texts'], relationships={}, text='The following are knowledge sequence in max depth 2 in the form of directed graph like:\\n`subject -[predicate]->, object, <-[predicate_next_hop]-, object_next_hop ...`\\n[\\'14th Annual Satyajit Ray Award\\', \\'winner\\', \\'Lebanon (2009 film)\\', \\'international title\\', \"Lebanon: The Soldier\\'s Journey in the UK\"]\\n[\\'14th Annual Satyajit Ray Award\\', \\'winner\\', \\'Lebanon (2009 film)\\', \\'nominated for\\', \\'Israeli Film Academy Award for Best Picture\\']\\n[\\'14th Annual Satyajit Ray Award\\', \\'winner\\', \\'Lebanon (2009 film)\\', \\'status\\', \\'Controversial\\']\\n[\\'14th Annual Satyajit Ray Award\\', \\'winner\\', \\'Lebanon (2009 film)\\', \\'director\\', \\'Samuel Maoz\\']\\n[\\'14th Annual Satyajit Ray Award\\', \\'winner\\', \\'Lebanon (2009 film)\\', \\'nationality\\', \\'Israeli\\']\\n[\\'Lebanon (2009 film)\\', \\'international title\\', \"Lebanon: The Soldier\\'s Journey in the UK\"]\\n[\\'14th Annual Satyajit Ray Award\\', \\'winner\\', \\'Lebanon (2009 film)\\', \\'country\\', \\'Israel\\']\\n[\\'Lebanon (2009 film)\\', \\'nominated for\\', \\'Israeli Film Academy Award for Best Picture\\']\\n[\\'66th Venice International Film Festival\\', \\'award\\', \"Leone d\\'Oro\"]\\n[\\'14th Annual Satyajit Ray Award\\', \\'winner\\', \\'Lebanon (2009 film)\\']\\n[\\'Debel, Lebanon\\', \\'is part of\\', \\'Nabatiye Governorate\\']\\n[\\'Debel, Lebanon\\', \\'is part of\\', \\'Nabatiye, Lebanon\\']\\n[\\'Lebanon (2009 film)\\', \\'status\\', \\'Controversial\\']\\n[\\'Lebanon (2009 film)\\', \\'director\\', \\'Samuel Maoz\\']\\n[\\'Lebanon (2009 film)\\', \\'nationality\\', \\'Israeli\\']\\n[\\'Debel, Lebanon\\', \\'alternative name\\', \\'Dibil\\']\\n[\\'Debel, Lebanon\\', \\'is part of\\', \\'Bint Jbeil\\']\\n[\\'Lebanon (2009 film)\\', \\'country\\', \\'Israel\\']\\n[\\'Debel, Lebanon\\', \\'language\\', \\'Arabic\\']\\n[\\'Debel, Lebanon\\', \\'country\\', \\'Lebanon\\']', start_char_idx=None, end_char_idx=None, text_template='{metadata_str}\\n\\n{content}', metadata_template='{key}: {value}', metadata_seperator='\\n'), score=1000.0)]"
      ]
     },
     "execution_count": 23,
     "metadata": {},
     "output_type": "execute_result"
    }
   ],
   "source": [
    "from llama_index.schema import QueryBundle\n",
    "\n",
    "retriever.retrieve(QueryBundle(query_str=sub_questions[0]))"
   ]
  },
  {
   "cell_type": "code",
   "execution_count": 24,
   "metadata": {},
   "outputs": [
    {
     "data": {
      "text/plain": [
       "{}"
      ]
     },
     "execution_count": 24,
     "metadata": {},
     "output_type": "execute_result"
    }
   ],
   "source": [
    "retriever._index_struct.search_node_by_keyword(\"Midland, Texas\")"
   ]
  },
  {
   "cell_type": "code",
   "execution_count": 25,
   "metadata": {},
   "outputs": [
    {
     "data": {
      "text/plain": [
       "{'Debel, Lebanon': [['Debel, Lebanon', 'country', 'Lebanon'],\n",
       "  ['Debel, Lebanon', 'is part of', 'Bint Jbeil'],\n",
       "  ['Debel, Lebanon', 'is part of', 'Nabatiye Governorate'],\n",
       "  ['Debel, Lebanon', 'is part of', 'Nabatiye, Lebanon'],\n",
       "  ['Debel, Lebanon', 'alternative name', 'Dibil'],\n",
       "  ['Debel, Lebanon', 'language', 'Arabic']],\n",
       " '14th Annual Satyajit Ray Award': [['14th Annual Satyajit Ray Award',\n",
       "   'winner',\n",
       "   'Lebanon (2009 film)'],\n",
       "  ['14th Annual Satyajit Ray Award',\n",
       "   'winner',\n",
       "   'Lebanon (2009 film)',\n",
       "   'director',\n",
       "   'Samuel Maoz'],\n",
       "  ['14th Annual Satyajit Ray Award',\n",
       "   'winner',\n",
       "   'Lebanon (2009 film)',\n",
       "   'country',\n",
       "   'Israel'],\n",
       "  ['14th Annual Satyajit Ray Award',\n",
       "   'winner',\n",
       "   'Lebanon (2009 film)',\n",
       "   'international title',\n",
       "   \"Lebanon: The Soldier's Journey in the UK\"],\n",
       "  ['14th Annual Satyajit Ray Award',\n",
       "   'winner',\n",
       "   'Lebanon (2009 film)',\n",
       "   'nationality',\n",
       "   'Israeli'],\n",
       "  ['14th Annual Satyajit Ray Award',\n",
       "   'winner',\n",
       "   'Lebanon (2009 film)',\n",
       "   'nominated for',\n",
       "   'Israeli Film Academy Award for Best Picture'],\n",
       "  ['14th Annual Satyajit Ray Award',\n",
       "   'winner',\n",
       "   'Lebanon (2009 film)',\n",
       "   'status',\n",
       "   'Controversial']],\n",
       " 'Lebanon (2009 film)': [['Lebanon (2009 film)', 'director', 'Samuel Maoz'],\n",
       "  ['Lebanon (2009 film)', 'country', 'Israel'],\n",
       "  ['Lebanon (2009 film)',\n",
       "   'international title',\n",
       "   \"Lebanon: The Soldier's Journey in the UK\"],\n",
       "  ['Lebanon (2009 film)', 'nationality', 'Israeli'],\n",
       "  ['Lebanon (2009 film)',\n",
       "   'nominated for',\n",
       "   'Israeli Film Academy Award for Best Picture'],\n",
       "  ['Lebanon (2009 film)', 'status', 'Controversial']],\n",
       " '66th Venice International Film Festival': [['66th Venice International Film Festival',\n",
       "   'award',\n",
       "   \"Leone d'Oro\"]]}"
      ]
     },
     "execution_count": 25,
     "metadata": {},
     "output_type": "execute_result"
    }
   ],
   "source": [
    "index.storage_context.graph_store.get_rel_map()"
   ]
  },
  {
   "cell_type": "code",
   "execution_count": 26,
   "metadata": {},
   "outputs": [
    {
     "data": {
      "text/plain": [
       "[]"
      ]
     },
     "execution_count": 26,
     "metadata": {},
     "output_type": "execute_result"
    }
   ],
   "source": [
    "index.storage_context.graph_store.get(\"Midland, Texas\")"
   ]
  },
  {
   "cell_type": "code",
   "execution_count": null,
   "metadata": {},
   "outputs": [],
   "source": []
  }
 ],
 "metadata": {
  "kernelspec": {
   "display_name": ".venv",
   "language": "python",
   "name": "python3"
  },
  "language_info": {
   "codemirror_mode": {
    "name": "ipython",
    "version": 3
   },
   "file_extension": ".py",
   "mimetype": "text/x-python",
   "name": "python",
   "nbconvert_exporter": "python",
   "pygments_lexer": "ipython3",
   "version": "3.10.12"
  }
 },
 "nbformat": 4,
 "nbformat_minor": 2
}

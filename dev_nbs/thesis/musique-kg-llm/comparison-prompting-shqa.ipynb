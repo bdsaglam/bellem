{
 "cells": [
  {
   "cell_type": "code",
   "execution_count": 1,
   "metadata": {},
   "outputs": [
    {
     "data": {
      "text/plain": [
       "True"
      ]
     },
     "execution_count": 1,
     "metadata": {},
     "output_type": "execute_result"
    }
   ],
   "source": [
    "from dotenv import load_dotenv\n",
    "load_dotenv()"
   ]
  },
  {
   "cell_type": "code",
   "execution_count": 2,
   "metadata": {},
   "outputs": [
    {
     "name": "stderr",
     "output_type": "stream",
     "text": [
      "/home/pc/anaconda3/envs/baris/lib/python3.10/site-packages/torch/cuda/__init__.py:619: UserWarning: Can't initialize NVML\n",
      "  warnings.warn(\"Can't initialize NVML\")\n"
     ]
    }
   ],
   "source": [
    "import json\n",
    "import pandas as pd\n",
    "from pathlib import Path\n",
    "from copy import deepcopy\n",
    "from functools import partial\n",
    "\n",
    "from bellem.qa.ablation import answer_question_standard, answer_question_cot, answer_question_cot_fs, answer_question_cte, answer_question_cte_cot\n",
    "from bellem.utils import set_seed, jprint\n",
    "from bellem.musique.singlehop import benchmark\n",
    "\n",
    "set_seed(89)"
   ]
  },
  {
   "cell_type": "code",
   "execution_count": 3,
   "metadata": {},
   "outputs": [],
   "source": [
    "from tqdm.auto import tqdm\n",
    "tqdm.pandas()"
   ]
  },
  {
   "cell_type": "code",
   "execution_count": 4,
   "metadata": {},
   "outputs": [],
   "source": [
    "pd.options.display.float_format = '{:,.3f}'.format"
   ]
  },
  {
   "cell_type": "code",
   "execution_count": 5,
   "metadata": {},
   "outputs": [],
   "source": [
    "N_RUNS = 1\n",
    "SAMPLE_SIZE = 10"
   ]
  },
  {
   "cell_type": "code",
   "execution_count": 6,
   "metadata": {},
   "outputs": [
    {
     "name": "stdout",
     "output_type": "stream",
     "text": [
      "(10, 8)\n"
     ]
    },
    {
     "data": {
      "text/html": [
       "<div>\n",
       "<style scoped>\n",
       "    .dataframe tbody tr th:only-of-type {\n",
       "        vertical-align: middle;\n",
       "    }\n",
       "\n",
       "    .dataframe tbody tr th {\n",
       "        vertical-align: top;\n",
       "    }\n",
       "\n",
       "    .dataframe thead th {\n",
       "        text-align: right;\n",
       "    }\n",
       "</style>\n",
       "<table border=\"1\" class=\"dataframe\">\n",
       "  <thead>\n",
       "    <tr style=\"text-align: right;\">\n",
       "      <th></th>\n",
       "      <th>id</th>\n",
       "      <th>paragraphs</th>\n",
       "      <th>answer</th>\n",
       "      <th>answer_aliases</th>\n",
       "      <th>answerable</th>\n",
       "      <th>answers</th>\n",
       "      <th>question</th>\n",
       "      <th>question_decomposition</th>\n",
       "    </tr>\n",
       "  </thead>\n",
       "  <tbody>\n",
       "    <tr>\n",
       "      <th>0</th>\n",
       "      <td>2hop__575188_342798</td>\n",
       "      <td>[{'idx': 0, 'title': 'Liliana Mumy', 'paragrap...</td>\n",
       "      <td>Ahmad Shah Qajar</td>\n",
       "      <td>[Ahmad Shah Qajar]</td>\n",
       "      <td>True</td>\n",
       "      <td>[Ahmad Shah Qajar]</td>\n",
       "      <td>Who is the child of Mahmoud Mirza's father?</td>\n",
       "      <td>[{'id': 575188, 'question': 'Who is Mahmoud Mi...</td>\n",
       "    </tr>\n",
       "    <tr>\n",
       "      <th>1</th>\n",
       "      <td>2hop__731584_700117</td>\n",
       "      <td>[{'idx': 0, 'title': 'KAPE', 'paragraph_text':...</td>\n",
       "      <td>Berrien County</td>\n",
       "      <td>[Berrien County]</td>\n",
       "      <td>True</td>\n",
       "      <td>[Berrien County]</td>\n",
       "      <td>In which county is the city to which KKVU is l...</td>\n",
       "      <td>[{'id': 731584, 'question': 'To which city is ...</td>\n",
       "    </tr>\n",
       "    <tr>\n",
       "      <th>2</th>\n",
       "      <td>2hop__690412_526810</td>\n",
       "      <td>[{'idx': 0, 'title': 'Cabramatta Creek', 'para...</td>\n",
       "      <td>Chao Phraya River</td>\n",
       "      <td>[Chao Phraya River]</td>\n",
       "      <td>True</td>\n",
       "      <td>[Chao Phraya River]</td>\n",
       "      <td>For what river does the river on which Pa Sak ...</td>\n",
       "      <td>[{'id': 690412, 'question': 'On which river is...</td>\n",
       "    </tr>\n",
       "    <tr>\n",
       "      <th>3</th>\n",
       "      <td>2hop__263638_69048</td>\n",
       "      <td>[{'idx': 0, 'title': 'Michael J. Barron', 'par...</td>\n",
       "      <td>Honorable Justice Abiodun Smith</td>\n",
       "      <td>[Honorable Justice Abiodun Smith]</td>\n",
       "      <td>True</td>\n",
       "      <td>[Honorable Justice Abiodun Smith]</td>\n",
       "      <td>Who is the Chief Judge of the Tebesa Nemine's ...</td>\n",
       "      <td>[{'id': 263638, 'question': 'Where was Tebesa ...</td>\n",
       "    </tr>\n",
       "    <tr>\n",
       "      <th>4</th>\n",
       "      <td>2hop__142842_68489</td>\n",
       "      <td>[{'idx': 0, 'title': 'Perfect Night: Live in L...</td>\n",
       "      <td>Snapper Foster</td>\n",
       "      <td>[Snapper Foster]</td>\n",
       "      <td>True</td>\n",
       "      <td>[Snapper Foster]</td>\n",
       "      <td>Who did the performer of Night Rocker play on ...</td>\n",
       "      <td>[{'id': 142842, 'question': 'Who performed Nig...</td>\n",
       "    </tr>\n",
       "  </tbody>\n",
       "</table>\n",
       "</div>"
      ],
      "text/plain": [
       "                    id                                         paragraphs  \\\n",
       "0  2hop__575188_342798  [{'idx': 0, 'title': 'Liliana Mumy', 'paragrap...   \n",
       "1  2hop__731584_700117  [{'idx': 0, 'title': 'KAPE', 'paragraph_text':...   \n",
       "2  2hop__690412_526810  [{'idx': 0, 'title': 'Cabramatta Creek', 'para...   \n",
       "3   2hop__263638_69048  [{'idx': 0, 'title': 'Michael J. Barron', 'par...   \n",
       "4   2hop__142842_68489  [{'idx': 0, 'title': 'Perfect Night: Live in L...   \n",
       "\n",
       "                            answer                     answer_aliases  \\\n",
       "0                 Ahmad Shah Qajar                 [Ahmad Shah Qajar]   \n",
       "1                   Berrien County                   [Berrien County]   \n",
       "2                Chao Phraya River                [Chao Phraya River]   \n",
       "3  Honorable Justice Abiodun Smith  [Honorable Justice Abiodun Smith]   \n",
       "4                   Snapper Foster                   [Snapper Foster]   \n",
       "\n",
       "   answerable                            answers  \\\n",
       "0        True                 [Ahmad Shah Qajar]   \n",
       "1        True                   [Berrien County]   \n",
       "2        True                [Chao Phraya River]   \n",
       "3        True  [Honorable Justice Abiodun Smith]   \n",
       "4        True                   [Snapper Foster]   \n",
       "\n",
       "                                            question  \\\n",
       "0        Who is the child of Mahmoud Mirza's father?   \n",
       "1  In which county is the city to which KKVU is l...   \n",
       "2  For what river does the river on which Pa Sak ...   \n",
       "3  Who is the Chief Judge of the Tebesa Nemine's ...   \n",
       "4  Who did the performer of Night Rocker play on ...   \n",
       "\n",
       "                              question_decomposition  \n",
       "0  [{'id': 575188, 'question': 'Who is Mahmoud Mi...  \n",
       "1  [{'id': 731584, 'question': 'To which city is ...  \n",
       "2  [{'id': 690412, 'question': 'On which river is...  \n",
       "3  [{'id': 263638, 'question': 'Where was Tebesa ...  \n",
       "4  [{'id': 142842, 'question': 'Who performed Nig...  "
      ]
     },
     "execution_count": 6,
     "metadata": {},
     "output_type": "execute_result"
    }
   ],
   "source": [
    "from bellem.musique.constants import ABLATION_RECORD_IDS\n",
    "\n",
    "df = pd.read_json('../../data/generated/musique-evaluation/dataset.jsonl', orient='records', lines=True)\n",
    "df = df.set_index('id', drop=False).loc[ABLATION_RECORD_IDS].copy().reset_index(drop=True)\n",
    "qd_df = pd.read_json('../../data/generated/musique-evaluation/question-decomposition.jsonl', orient='records', lines=True)\n",
    "df = pd.merge(df.drop(columns=['question', 'question_decomposition']), qd_df, on='id', suffixes=('', ''))\n",
    "df = df.head(SAMPLE_SIZE)\n",
    "\n",
    "print(df.shape)\n",
    "df.head()"
   ]
  },
  {
   "cell_type": "code",
   "execution_count": 7,
   "metadata": {},
   "outputs": [],
   "source": [
    "perfect_retrieval_func = lambda docs, query: [doc for doc in docs if doc['is_supporting']]"
   ]
  },
  {
   "cell_type": "code",
   "execution_count": 8,
   "metadata": {},
   "outputs": [],
   "source": [
    "results = []"
   ]
  },
  {
   "cell_type": "code",
   "execution_count": 9,
   "metadata": {},
   "outputs": [
    {
     "data": {
      "application/vnd.jupyter.widget-view+json": {
       "model_id": "d4156dd0fd754c559d4c3ceffe88297e",
       "version_major": 2,
       "version_minor": 0
      },
      "text/plain": [
       "  0%|          | 0/10 [00:00<?, ?it/s]"
      ]
     },
     "metadata": {},
     "output_type": "display_data"
    },
    {
     "name": "stdout",
     "output_type": "stream",
     "text": [
      "{\n",
      "  \"exact_match\": 0.6,\n",
      "  \"f1\": 0.6666666666666666,\n",
      "  \"fuzzy_match\": 0.7\n",
      "}\n"
     ]
    }
   ],
   "source": [
    "for i in range(1, N_RUNS+1):\n",
    "    df_standard, scores = benchmark(df, answer_question_standard, perfect_retrieval_func, ignore_errors=True)\n",
    "    results.append({**scores, \"retrieval\": \"groundtruth\", \"context\": \"paragraphs\", \"qa\": \"standard\", \"run\": i})\n",
    "    jprint(scores)"
   ]
  },
  {
   "cell_type": "code",
   "execution_count": 10,
   "metadata": {},
   "outputs": [
    {
     "data": {
      "application/vnd.jupyter.widget-view+json": {
       "model_id": "34b21eed77634d8f8b7797ce1c0e6aa8",
       "version_major": 2,
       "version_minor": 0
      },
      "text/plain": [
       "  0%|          | 0/10 [00:00<?, ?it/s]"
      ]
     },
     "metadata": {},
     "output_type": "display_data"
    },
    {
     "name": "stdout",
     "output_type": "stream",
     "text": [
      "{\n",
      "  \"exact_match\": 0.6,\n",
      "  \"f1\": 0.7960317460317461,\n",
      "  \"fuzzy_match\": 0.8\n",
      "}\n"
     ]
    }
   ],
   "source": [
    "for i in range(1, N_RUNS+1):\n",
    "    df_cot, scores = benchmark(df, answer_question_cot, perfect_retrieval_func, ignore_errors=True)\n",
    "    results.append({**scores, \"retrieval\": \"groundtruth\", \"context\": \"paragraphs\", \"qa\": \"cot-zs\", \"run\": i})\n",
    "    jprint(scores)"
   ]
  },
  {
   "cell_type": "code",
   "execution_count": 11,
   "metadata": {},
   "outputs": [
    {
     "data": {
      "application/vnd.jupyter.widget-view+json": {
       "model_id": "d68605b2c6e94d39ae755b034fe706c8",
       "version_major": 2,
       "version_minor": 0
      },
      "text/plain": [
       "  0%|          | 0/10 [00:00<?, ?it/s]"
      ]
     },
     "metadata": {},
     "output_type": "display_data"
    },
    {
     "name": "stdout",
     "output_type": "stream",
     "text": [
      "{\n",
      "  \"exact_match\": 0.5,\n",
      "  \"f1\": 0.7238095238095238,\n",
      "  \"fuzzy_match\": 0.9\n",
      "}\n"
     ]
    }
   ],
   "source": [
    "for i in range(1, N_RUNS+1):\n",
    "    df_cot_fs, scores = benchmark(df, answer_question_cot_fs, perfect_retrieval_func, ignore_errors=True)\n",
    "    results.append({**scores, \"retrieval\": \"groundtruth\", \"context\": \"paragraphs\", \"qa\": \"cot-fs\", \"run\": i})\n",
    "    jprint(scores)"
   ]
  },
  {
   "cell_type": "code",
   "execution_count": 12,
   "metadata": {},
   "outputs": [
    {
     "data": {
      "application/vnd.jupyter.widget-view+json": {
       "model_id": "20206784ce434251b2375e7f913a6a8d",
       "version_major": 2,
       "version_minor": 0
      },
      "text/plain": [
       "  0%|          | 0/10 [00:00<?, ?it/s]"
      ]
     },
     "metadata": {},
     "output_type": "display_data"
    },
    {
     "name": "stdout",
     "output_type": "stream",
     "text": [
      "{\n",
      "  \"exact_match\": 0.9,\n",
      "  \"f1\": 0.9571428571428571,\n",
      "  \"fuzzy_match\": 1.0\n",
      "}\n"
     ]
    }
   ],
   "source": [
    "for i in range(1, N_RUNS+1):\n",
    "    df_cte, scores = benchmark(df, answer_question_cte, perfect_retrieval_func, ignore_errors=True)\n",
    "    results.append({**scores, \"retrieval\": \"groundtruth\", \"context\": \"paragraphs\", \"qa\": \"cte\", \"run\": i})\n",
    "    jprint(scores)"
   ]
  },
  {
   "cell_type": "markdown",
   "metadata": {},
   "source": [
    "# Report"
   ]
  },
  {
   "cell_type": "code",
   "execution_count": 14,
   "metadata": {},
   "outputs": [
    {
     "data": {
      "text/html": [
       "<div>\n",
       "<style scoped>\n",
       "    .dataframe tbody tr th:only-of-type {\n",
       "        vertical-align: middle;\n",
       "    }\n",
       "\n",
       "    .dataframe tbody tr th {\n",
       "        vertical-align: top;\n",
       "    }\n",
       "\n",
       "    .dataframe thead th {\n",
       "        text-align: right;\n",
       "    }\n",
       "</style>\n",
       "<table border=\"1\" class=\"dataframe\">\n",
       "  <thead>\n",
       "    <tr style=\"text-align: right;\">\n",
       "      <th></th>\n",
       "      <th>context</th>\n",
       "      <th>retrieval</th>\n",
       "      <th>qa</th>\n",
       "      <th>run</th>\n",
       "      <th>exact_match</th>\n",
       "      <th>f1</th>\n",
       "    </tr>\n",
       "  </thead>\n",
       "  <tbody>\n",
       "    <tr>\n",
       "      <th>0</th>\n",
       "      <td>paragraphs</td>\n",
       "      <td>groundtruth</td>\n",
       "      <td>standard</td>\n",
       "      <td>1</td>\n",
       "      <td>0.600</td>\n",
       "      <td>0.667</td>\n",
       "    </tr>\n",
       "    <tr>\n",
       "      <th>1</th>\n",
       "      <td>paragraphs</td>\n",
       "      <td>groundtruth</td>\n",
       "      <td>cot-zs</td>\n",
       "      <td>1</td>\n",
       "      <td>0.600</td>\n",
       "      <td>0.796</td>\n",
       "    </tr>\n",
       "    <tr>\n",
       "      <th>2</th>\n",
       "      <td>paragraphs</td>\n",
       "      <td>groundtruth</td>\n",
       "      <td>cot-fs</td>\n",
       "      <td>1</td>\n",
       "      <td>0.500</td>\n",
       "      <td>0.724</td>\n",
       "    </tr>\n",
       "    <tr>\n",
       "      <th>3</th>\n",
       "      <td>paragraphs</td>\n",
       "      <td>groundtruth</td>\n",
       "      <td>cte</td>\n",
       "      <td>1</td>\n",
       "      <td>0.900</td>\n",
       "      <td>0.957</td>\n",
       "    </tr>\n",
       "  </tbody>\n",
       "</table>\n",
       "</div>"
      ],
      "text/plain": [
       "      context    retrieval        qa  run  exact_match    f1\n",
       "0  paragraphs  groundtruth  standard    1        0.600 0.667\n",
       "1  paragraphs  groundtruth    cot-zs    1        0.600 0.796\n",
       "2  paragraphs  groundtruth    cot-fs    1        0.500 0.724\n",
       "3  paragraphs  groundtruth       cte    1        0.900 0.957"
      ]
     },
     "execution_count": 14,
     "metadata": {},
     "output_type": "execute_result"
    }
   ],
   "source": [
    "report_df = pd.DataFrame.from_records(results, columns=['context', 'retrieval', 'qa', 'run', 'exact_match', 'f1'])\n",
    "report_df"
   ]
  },
  {
   "cell_type": "code",
   "execution_count": 15,
   "metadata": {},
   "outputs": [],
   "source": [
    "from datetime import datetime\n",
    "suffix = datetime.utcnow().strftime(\"%Y%m%d-%H%M%S\")\n",
    "report_df.to_json(f'./comparison-prompting-technique-{suffix}.jsonl', orient='records', lines=True)"
   ]
  },
  {
   "cell_type": "markdown",
   "metadata": {},
   "source": [
    "## Inspect"
   ]
  },
  {
   "cell_type": "code",
   "execution_count": 28,
   "metadata": {},
   "outputs": [
    {
     "data": {
      "text/plain": [
       "'# KKVU\\nKKVU (104.5 FM, \"U 104.5\") is a commercial radio station licensed to Stevensville, Montana, serving the Missoula, Montana area, owned by Simmons Media Ventures, LLC, through licensee Missoula Broadcasting Company, LLC. KKVU airs an Adult Top 40 music format.\\n# Stevensville, Michigan\\nStevensville is a village in Berrien County in the U.S. state of Michigan. The village lies within Lincoln Township. The population was 1,142 at the 2010 census.'"
      ]
     },
     "execution_count": 28,
     "metadata": {},
     "output_type": "execute_result"
    }
   ],
   "source": [
    "context = cte_example['raw_output']['hops'][0]['context']\n",
    "context"
   ]
  },
  {
   "cell_type": "code",
   "execution_count": 31,
   "metadata": {},
   "outputs": [
    {
     "name": "stdout",
     "output_type": "stream",
     "text": [
      "# Question\n",
      "For what river does the river on which Pa Sak Jolasid Dam is located serve as the mouth?\n",
      "# Answers\n",
      "['Chao Phraya River']\n",
      "# Supporting paragraphs\n",
      "# Pa Sak Jolasid Dam\n",
      "The Pa Sak Jolasid Dam or Pa Sak Cholasit Dam (, ) impounds the Pa Sak River at Ban Kaeng Suea Ten, Tambon Nong Bua, Phatthana Nikhom District, Lopburi Province, Thailand. It is the biggest reservoir in central Thailand.\n",
      "# List of tributaries of the Chao Phraya River\n",
      "The principal tributaries of the Chao Phraya River of Thailand are the Pa Sak River, the Sakae Krang River, the Nan River (along with its principal confluent the Yom River), the Ping River (with its principal confluent the Wang River), and the Tha Chin River. Each of these tributaries (and the Chao Phraya itself) is further tributed by additional minor tributaries often referred to as \"khwae\". All of the tributaries, including the lesser khwae, form an extensive tree-like pattern, with branches flowing through nearly every province in central and northern Thailand.. None of the tributaries of the Chao Phraya extend beyond the nation's borders. The Nan and the Yom River flow nearly parallel from Phitsanulok to Chumsaeng in the north of Nakhon Sawan province. The Wang River enters the Ping River near Sam Ngao district in Tak province.\n",
      "================================================================================\n",
      "CTE Prompting\n",
      "================================================================================\n",
      "['Pa Sak Jolasid Dam | located on | Pa Sak River', 'Pa Sak River | flows into | Chao Phraya River']\n",
      "Chao Phraya River\n",
      "================================================================================\n",
      "COT Prompting\n",
      "================================================================================\n",
      "The Pa Sak Jolasid Dam impounds the Pa Sak River. The Pa Sak River is one of the principal tributaries of the Chao Phraya River in Thailand. Therefore, the river on which the Pa Sak Jolasid Dam is located serves as a tributary to the Chao Phraya River.\n",
      "Chao Phraya River\n"
     ]
    }
   ],
   "source": [
    "i = 2\n",
    "\n",
    "example = df.iloc[i]\n",
    "cte_example = df_cte.iloc[i]\n",
    "cot_example = df_cot.iloc[i]\n",
    "\n",
    "print(\"# Question\")\n",
    "print(example['question'])\n",
    "\n",
    "print(\"# Answers\")\n",
    "print(example['answers'])\n",
    "\n",
    "context = cte_example['raw_output']['hops'][0]['context']\n",
    "print(\"# Supporting paragraphs\")\n",
    "print(context)\n",
    "\n",
    "print(\"=\"*80)\n",
    "print(\"CTE Prompting\")\n",
    "print(\"=\"*80)\n",
    "print(cte_example['raw_output']['hops'][0]['llm_output'].triplets)\n",
    "print(cte_example['raw_output']['hops'][0]['llm_output'].answer)\n",
    "\n",
    "print(\"=\"*80)\n",
    "print(\"COT Prompting\")\n",
    "print(\"=\"*80)\n",
    "print(cot_example['raw_output']['hops'][0]['llm_output'].reasoning)\n",
    "print(cot_example['raw_output']['hops'][0]['llm_output'].answer)"
   ]
  },
  {
   "cell_type": "code",
   "execution_count": 15,
   "metadata": {},
   "outputs": [
    {
     "data": {
      "text/html": [
       "<div>\n",
       "<style scoped>\n",
       "    .dataframe tbody tr th:only-of-type {\n",
       "        vertical-align: middle;\n",
       "    }\n",
       "\n",
       "    .dataframe tbody tr th {\n",
       "        vertical-align: top;\n",
       "    }\n",
       "\n",
       "    .dataframe thead th {\n",
       "        text-align: right;\n",
       "    }\n",
       "</style>\n",
       "<table border=\"1\" class=\"dataframe\">\n",
       "  <thead>\n",
       "    <tr style=\"text-align: right;\">\n",
       "      <th></th>\n",
       "      <th>exact_match</th>\n",
       "      <th>f1</th>\n",
       "    </tr>\n",
       "    <tr>\n",
       "      <th>qa</th>\n",
       "      <th></th>\n",
       "      <th></th>\n",
       "    </tr>\n",
       "  </thead>\n",
       "  <tbody>\n",
       "    <tr>\n",
       "      <th>standard</th>\n",
       "      <td>0.577</td>\n",
       "      <td>0.674</td>\n",
       "    </tr>\n",
       "    <tr>\n",
       "      <th>cot-zs</th>\n",
       "      <td>0.437</td>\n",
       "      <td>0.582</td>\n",
       "    </tr>\n",
       "    <tr>\n",
       "      <th>cot-fs</th>\n",
       "      <td>0.503</td>\n",
       "      <td>0.640</td>\n",
       "    </tr>\n",
       "    <tr>\n",
       "      <th>cte</th>\n",
       "      <td>0.630</td>\n",
       "      <td>0.736</td>\n",
       "    </tr>\n",
       "  </tbody>\n",
       "</table>\n",
       "</div>"
      ],
      "text/plain": [
       "          exact_match    f1\n",
       "qa                         \n",
       "standard        0.577 0.674\n",
       "cot-zs          0.437 0.582\n",
       "cot-fs          0.503 0.640\n",
       "cte             0.630 0.736"
      ]
     },
     "execution_count": 15,
     "metadata": {},
     "output_type": "execute_result"
    }
   ],
   "source": [
    "report_df.drop(columns=['context', 'retrieval', 'run']).groupby(['qa']).mean().loc[['standard', 'cot-zs', 'cot-fs', 'cte']]"
   ]
  },
  {
   "cell_type": "markdown",
   "metadata": {},
   "source": [
    "## Inspect"
   ]
  },
  {
   "cell_type": "code",
   "execution_count": 16,
   "metadata": {},
   "outputs": [
    {
     "name": "stdout",
     "output_type": "stream",
     "text": [
      "For what river does the river on which Pa Sak Jolasid Dam is located serve as the mouth?\n",
      "['Chao Phraya River']\n",
      "Chao Phraya River\n",
      "The Pa Sak Jolasid Dam impounds the Pa Sak River. The Pa Sak River is one of the principal tributaries of the Chao Phraya River in Thailand. Therefore, the river on which the Pa Sak Jolasid Dam is located serves as a tributary to the Chao Phraya River.\n"
     ]
    }
   ],
   "source": [
    "i = 2\n",
    "row = df_cot.iloc[i]\n",
    "hop = row['raw_output']['hops'][0]\n",
    "print(row['question'])\n",
    "print(row['answers'])\n",
    "print(hop['llm_output'].answer)\n",
    "print(hop['llm_output'].reasoning)"
   ]
  },
  {
   "cell_type": "code",
   "execution_count": null,
   "metadata": {},
   "outputs": [],
   "source": []
  }
 ],
 "metadata": {
  "kernelspec": {
   "display_name": "python3",
   "language": "python",
   "name": "python3"
  },
  "language_info": {
   "codemirror_mode": {
    "name": "ipython",
    "version": 3
   },
   "file_extension": ".py",
   "mimetype": "text/x-python",
   "name": "python",
   "nbconvert_exporter": "python",
   "pygments_lexer": "ipython3",
   "version": "3.10.14"
  }
 },
 "nbformat": 4,
 "nbformat_minor": 4
}

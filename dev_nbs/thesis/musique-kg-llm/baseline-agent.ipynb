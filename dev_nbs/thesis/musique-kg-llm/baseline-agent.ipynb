{
 "cells": [
  {
   "cell_type": "code",
   "execution_count": 1,
   "metadata": {},
   "outputs": [],
   "source": [
    "# !pip install weaviate-client==3.26.2"
   ]
  },
  {
   "cell_type": "markdown",
   "metadata": {},
   "source": [
    "# Multi-hop question answering with agent"
   ]
  },
  {
   "cell_type": "code",
   "execution_count": 2,
   "metadata": {},
   "outputs": [
    {
     "data": {
      "text/plain": [
       "True"
      ]
     },
     "execution_count": 2,
     "metadata": {},
     "output_type": "execute_result"
    }
   ],
   "source": [
    "from dotenv import load_dotenv\n",
    "load_dotenv()"
   ]
  },
  {
   "cell_type": "code",
   "execution_count": 3,
   "metadata": {},
   "outputs": [],
   "source": [
    "import nest_asyncio\n",
    "nest_asyncio.apply()"
   ]
  },
  {
   "cell_type": "code",
   "execution_count": 4,
   "metadata": {},
   "outputs": [
    {
     "name": "stderr",
     "output_type": "stream",
     "text": [
      "/Users/bdsaglam/dev/repos/bellem/.venv/lib/python3.10/site-packages/pydantic/_internal/_config.py:284: PydanticDeprecatedSince20: Support for class-based `config` is deprecated, use ConfigDict instead. Deprecated in Pydantic V2.0 to be removed in V3.0. See Pydantic V2 Migration Guide at https://errors.pydantic.dev/2.7/migration/\n",
      "  warnings.warn(DEPRECATION_MESSAGE, DeprecationWarning)\n",
      "/Users/bdsaglam/dev/repos/bellem/.venv/lib/python3.10/site-packages/litellm/proxy/_types.py:83: PydanticDeprecatedSince20: `pydantic.config.Extra` is deprecated, use literal values instead (e.g. `extra='allow'`). Deprecated in Pydantic V2.0 to be removed in V3.0. See Pydantic V2 Migration Guide at https://errors.pydantic.dev/2.7/migration/\n",
      "  extra = Extra.allow  # Allow extra fields\n",
      "/Users/bdsaglam/dev/repos/bellem/.venv/lib/python3.10/site-packages/litellm/proxy/_types.py:86: PydanticDeprecatedSince20: Pydantic V1 style `@root_validator` validators are deprecated. You should migrate to Pydantic V2 style `@model_validator` validators, see the migration guide for more details. Deprecated in Pydantic V2.0 to be removed in V3.0. See Pydantic V2 Migration Guide at https://errors.pydantic.dev/2.7/migration/\n",
      "  @root_validator(pre=True)\n",
      "/Users/bdsaglam/dev/repos/bellem/.venv/lib/python3.10/site-packages/litellm/proxy/_types.py:111: PydanticDeprecatedSince20: Pydantic V1 style `@root_validator` validators are deprecated. You should migrate to Pydantic V2 style `@model_validator` validators, see the migration guide for more details. Deprecated in Pydantic V2.0 to be removed in V3.0. See Pydantic V2 Migration Guide at https://errors.pydantic.dev/2.7/migration/\n",
      "  @root_validator(pre=True)\n",
      "/Users/bdsaglam/dev/repos/bellem/.venv/lib/python3.10/site-packages/umap/__init__.py:9: ImportWarning: Tensorflow not installed; ParametricUMAP will be unavailable\n",
      "  warn(\n"
     ]
    }
   ],
   "source": [
    "import os\n",
    "import warnings\n",
    "from pathlib import Path\n",
    "\n",
    "import pandas as pd\n",
    "import weaviate\n",
    "from pydantic import BaseModel\n",
    "from llama_index import Document, ServiceContext\n",
    "from llama_index.prompts.base import Prompt\n",
    "from llama_index.prompts.prompt_type import PromptType\n",
    "from llama_index import VectorStoreIndex\n",
    "from llama_index.embeddings.huggingface import HuggingFaceEmbedding\n",
    "from llama_index.embeddings.openai import OpenAIEmbedding\n",
    "from llama_index.vector_stores import WeaviateVectorStore\n",
    "from llama_index.storage.storage_context import StorageContext\n",
    "from llama_index.llms import ChatMessage, OpenAI\n",
    "from llama_index.agent import OpenAIAgent\n",
    "from llama_index.tools.function_tool import FunctionTool\n",
    "from llama_index.callbacks import CallbackManager, LlamaDebugHandler\n",
    "from tqdm.auto import tqdm\n",
    "\n",
    "from bellem.llama_index.obs import make_phoenix_trace_callback_handler\n",
    "from bellem.utils import generate_time_id, set_seed\n",
    "\n",
    "set_seed(42)\n",
    "tqdm.pandas()\n"
   ]
  },
  {
   "cell_type": "code",
   "execution_count": 5,
   "metadata": {},
   "outputs": [
    {
     "data": {
      "text/html": [
       "<div>\n",
       "<style scoped>\n",
       "    .dataframe tbody tr th:only-of-type {\n",
       "        vertical-align: middle;\n",
       "    }\n",
       "\n",
       "    .dataframe tbody tr th {\n",
       "        vertical-align: top;\n",
       "    }\n",
       "\n",
       "    .dataframe thead th {\n",
       "        text-align: right;\n",
       "    }\n",
       "</style>\n",
       "<table border=\"1\" class=\"dataframe\">\n",
       "  <thead>\n",
       "    <tr style=\"text-align: right;\">\n",
       "      <th></th>\n",
       "      <th>id</th>\n",
       "      <th>paragraphs</th>\n",
       "      <th>answer</th>\n",
       "      <th>answer_aliases</th>\n",
       "      <th>answerable</th>\n",
       "      <th>question</th>\n",
       "      <th>question_decomposition</th>\n",
       "    </tr>\n",
       "  </thead>\n",
       "  <tbody>\n",
       "    <tr>\n",
       "      <th>0</th>\n",
       "      <td>2hop__131818_161450</td>\n",
       "      <td>[{'idx': 0, 'title': 'Maria Carrillo High Scho...</td>\n",
       "      <td>in the north-east of the country south of the ...</td>\n",
       "      <td>[in the north-east of the country south of the...</td>\n",
       "      <td>True</td>\n",
       "      <td>Where is the Voshmgir District located?</td>\n",
       "      <td>[{'question': 'Which country is the Voshmgir D...</td>\n",
       "    </tr>\n",
       "    <tr>\n",
       "      <th>1</th>\n",
       "      <td>2hop__444265_82341</td>\n",
       "      <td>[{'idx': 0, 'title': 'Ocala, Florida', 'paragr...</td>\n",
       "      <td>in Northern Florida</td>\n",
       "      <td>[Northern Florida, in Northern Florida]</td>\n",
       "      <td>True</td>\n",
       "      <td>In what part of Florida is Tom Denney's birthp...</td>\n",
       "      <td>[{'question': 'Where is Tom Denney's birthplac...</td>\n",
       "    </tr>\n",
       "    <tr>\n",
       "      <th>2</th>\n",
       "      <td>2hop__711946_269414</td>\n",
       "      <td>[{'idx': 0, 'title': 'Wild Thing (Tone Lōc son...</td>\n",
       "      <td>Kill Rock Stars</td>\n",
       "      <td>[Kill Rock Stars]</td>\n",
       "      <td>True</td>\n",
       "      <td>What record label is the performer who release...</td>\n",
       "      <td>[{'question': 'Who is the performer that relea...</td>\n",
       "    </tr>\n",
       "    <tr>\n",
       "      <th>3</th>\n",
       "      <td>2hop__311931_417706</td>\n",
       "      <td>[{'idx': 0, 'title': 'The Main Attraction (alb...</td>\n",
       "      <td>Attic Records</td>\n",
       "      <td>[Attic, Attic Records]</td>\n",
       "      <td>True</td>\n",
       "      <td>What record label does the performer of Emotio...</td>\n",
       "      <td>[{'question': 'Who is the performer of Emotion...</td>\n",
       "    </tr>\n",
       "    <tr>\n",
       "      <th>4</th>\n",
       "      <td>2hop__809785_606637</td>\n",
       "      <td>[{'idx': 0, 'title': 'The Main Attraction (alb...</td>\n",
       "      <td>Secret City Records</td>\n",
       "      <td>[Secret City Records]</td>\n",
       "      <td>True</td>\n",
       "      <td>What record label does the performer of Advent...</td>\n",
       "      <td>[{'question': 'Who is the performer of Adventu...</td>\n",
       "    </tr>\n",
       "  </tbody>\n",
       "</table>\n",
       "</div>"
      ],
      "text/plain": [
       "                    id                                         paragraphs  \\\n",
       "0  2hop__131818_161450  [{'idx': 0, 'title': 'Maria Carrillo High Scho...   \n",
       "1   2hop__444265_82341  [{'idx': 0, 'title': 'Ocala, Florida', 'paragr...   \n",
       "2  2hop__711946_269414  [{'idx': 0, 'title': 'Wild Thing (Tone Lōc son...   \n",
       "3  2hop__311931_417706  [{'idx': 0, 'title': 'The Main Attraction (alb...   \n",
       "4  2hop__809785_606637  [{'idx': 0, 'title': 'The Main Attraction (alb...   \n",
       "\n",
       "                                              answer  \\\n",
       "0  in the north-east of the country south of the ...   \n",
       "1                                in Northern Florida   \n",
       "2                                    Kill Rock Stars   \n",
       "3                                      Attic Records   \n",
       "4                                Secret City Records   \n",
       "\n",
       "                                      answer_aliases  answerable  \\\n",
       "0  [in the north-east of the country south of the...        True   \n",
       "1            [Northern Florida, in Northern Florida]        True   \n",
       "2                                  [Kill Rock Stars]        True   \n",
       "3                             [Attic, Attic Records]        True   \n",
       "4                              [Secret City Records]        True   \n",
       "\n",
       "                                            question  \\\n",
       "0            Where is the Voshmgir District located?   \n",
       "1  In what part of Florida is Tom Denney's birthp...   \n",
       "2  What record label is the performer who release...   \n",
       "3  What record label does the performer of Emotio...   \n",
       "4  What record label does the performer of Advent...   \n",
       "\n",
       "                              question_decomposition  \n",
       "0  [{'question': 'Which country is the Voshmgir D...  \n",
       "1  [{'question': 'Where is Tom Denney's birthplac...  \n",
       "2  [{'question': 'Who is the performer that relea...  \n",
       "3  [{'question': 'Who is the performer of Emotion...  \n",
       "4  [{'question': 'Who is the performer of Adventu...  "
      ]
     },
     "execution_count": 5,
     "metadata": {},
     "output_type": "execute_result"
    }
   ],
   "source": [
    "ds_df = pd.read_json('../../data/generated/musique-evaluation/dataset.jsonl', orient='records', lines=True)\n",
    "qd_df = pd.read_json('../../data/generated/musique-evaluation/question-decomposition.jsonl', orient='records', lines=True)\n",
    "df = pd.merge(ds_df.drop(columns=['question', 'question_decomposition']), qd_df, on='id', suffixes=('', ''))\n",
    "# df = df.sample(2)\n",
    "df.head()"
   ]
  },
  {
   "cell_type": "code",
   "execution_count": 6,
   "metadata": {},
   "outputs": [],
   "source": [
    "phoenix_handler = make_phoenix_trace_callback_handler(Path(f\"/tmp/phoenix/thesis-kg-llm/baseline-agent/traces-{generate_time_id()}.jsonl\"))\n",
    "callback_manager = CallbackManager(handlers=[\n",
    "    phoenix_handler,\n",
    "    # LlamaDebugHandler(print_trace_on_end=True),\n",
    "])"
   ]
  },
  {
   "cell_type": "code",
   "execution_count": 7,
   "metadata": {},
   "outputs": [],
   "source": [
    "# llm = OpenAI(model=\"gpt-3.5-turbo\", temperature=0)\n",
    "\n",
    "# actually, llama-3-70b-tgi\n",
    "llm = OpenAI(\n",
    "    model=\"gpt-3.5-turbo\",\n",
    "    temperature=0.0,\n",
    "    api_base=\"http://localhost:8080/v1\",\n",
    "    api_key=\"_\",\n",
    ")\n",
    "embed_model = HuggingFaceEmbedding(\"sentence-transformers/all-MiniLM-L6-v2\")\n",
    "service_context = ServiceContext.from_defaults(llm=llm, embed_model=embed_model, callback_manager=callback_manager)"
   ]
  },
  {
   "cell_type": "code",
   "execution_count": 8,
   "metadata": {},
   "outputs": [],
   "source": [
    "def make_docs(example, only_supporting=False):\n",
    "    ps = example[\"paragraphs\"]\n",
    "    for p in ps:\n",
    "        if only_supporting and not p[\"is_supporting\"]:\n",
    "            continue\n",
    "        idx = p[\"idx\"]\n",
    "        title = p[\"title\"]\n",
    "        body = p[\"paragraph_text\"]\n",
    "        is_supporting = p[\"is_supporting\"]\n",
    "        text = f\"# {title}\\n{body}\"\n",
    "        yield Document(\n",
    "            text=text,\n",
    "            metadata={\"parent_id\": example[\"id\"], \"idx\": idx, \"is_supporting\": is_supporting},\n",
    "            excluded_embed_metadata_keys=[\"parent_id\", \"idx\", \"is_supporting\"],\n",
    "            excluded_llm_metadata_keys=[\"parent_id\", \"idx\", \"is_supporting\"],\n",
    "        )"
   ]
  },
  {
   "cell_type": "code",
   "execution_count": 9,
   "metadata": {},
   "outputs": [
    {
     "name": "stderr",
     "output_type": "stream",
     "text": [
      "/Users/bdsaglam/dev/repos/bellem/.venv/lib/python3.10/site-packages/weaviate/warnings.py:121: DeprecationWarning: Dep005: You are using weaviate-client version 3.26.2. The latest version is 4.6.5.\n",
      "            Please consider upgrading to the latest version. See https://weaviate.io/developers/weaviate/client-libraries/python for details.\n",
      "  warnings.warn(\n"
     ]
    }
   ],
   "source": [
    "weaviate_client = weaviate.Client(os.getenv('WEAVIATE_CLUSTER_URL'))\n",
    "vector_store = WeaviateVectorStore(weaviate_client=weaviate_client)\n",
    "storage_context = StorageContext.from_defaults(vector_store=vector_store)\n",
    "\n",
    "def make_query_engine(example):\n",
    "    documents = list(make_docs(example, only_supporting=False))\n",
    "    vector_index = VectorStoreIndex.from_documents(documents, storage_context=storage_context, service_context=service_context)\n",
    "    query_engine = vector_index.as_query_engine(\n",
    "        service_context=service_context,\n",
    "        vector_store_query_mode=\"hybrid\",\n",
    "        alpha=0.6,\n",
    "        similarity_top_k=3,\n",
    "    )\n",
    "    return query_engine"
   ]
  },
  {
   "cell_type": "code",
   "execution_count": 10,
   "metadata": {},
   "outputs": [],
   "source": [
    "def make_answer_sub_question(example):\n",
    "    def answer_sub_question(question: str) -> str:\n",
    "        \"\"\"Use this tool to answer a sub-question.\"\"\"\n",
    "        return make_query_engine(example).query(question).response\n",
    "    return FunctionTool.from_defaults(fn=answer_sub_question)"
   ]
  },
  {
   "cell_type": "code",
   "execution_count": 11,
   "metadata": {},
   "outputs": [],
   "source": [
    "def make_persist_tool():\n",
    "    outputs = []\n",
    "    def persist_answers(sub_answers: list[str], final_answer: str) -> str:\n",
    "        \"\"\"Save the sub-answers and final answer to a database at the end.\"\"\"\n",
    "        outputs.append(dict(final_answer=final_answer, sub_answers=sub_answers))\n",
    "        return \"SUCCESS\"\n",
    "\n",
    "    tool =  FunctionTool.from_defaults(fn=persist_answers)\n",
    "    def _get_output():\n",
    "        if outputs:\n",
    "            return outputs[-1]\n",
    "        else:\n",
    "            return None\n",
    "    tool._get_output = _get_output\n",
    "    return tool"
   ]
  },
  {
   "cell_type": "code",
   "execution_count": 12,
   "metadata": {},
   "outputs": [],
   "source": [
    "SYSTEM_PROMPT_STR = \"\"\"\n",
    "You are helpful multi-hop question answering assistant that answers the given question by answering each sub-question. You must use `answer_sub_question` tool to answer each sub-question. After you get the answer for the first question, you reformulate the second sub-question and repeat the same procedure. \n",
    "Your answers must be in 2-4 words. When you reach the final answer, you persist your answers to a database by calling `persist_answers` function only once. After that, you output \"FINISH\".\n",
    "\"\"\".strip()\n",
    "\n",
    "def make_mhqa_agent(example):\n",
    "    tools = [\n",
    "        make_answer_sub_question(example),\n",
    "        make_persist_tool(),\n",
    "    ]\n",
    "    prefix_messages = [\n",
    "        ChatMessage(content=SYSTEM_PROMPT_STR, role=\"system\"),\n",
    "    ]\n",
    "    return OpenAIAgent.from_tools(\n",
    "        llm=OpenAI(model='gpt-3.5-turbo'),\n",
    "        tools=tools, \n",
    "        prefix_messages=prefix_messages,\n",
    "        # verbose=True,\n",
    "    )"
   ]
  },
  {
   "cell_type": "code",
   "execution_count": 13,
   "metadata": {},
   "outputs": [],
   "source": [
    "def format_question(example):\n",
    "    sub_questions = '\\n'.join([f\"\\t{i+1}.{item['question']}\" for i, item in enumerate(example['question_decomposition'])])\n",
    "    return f\"{example['question']}\\n\\n{sub_questions}\""
   ]
  },
  {
   "cell_type": "code",
   "execution_count": 14,
   "metadata": {},
   "outputs": [],
   "source": [
    "def mhqa(example):\n",
    "    \"\"\"Multi-hop question answering.\"\"\"\n",
    "    agent = make_mhqa_agent(example)\n",
    "    response = agent.query(format_question(example)).response\n",
    "    output = agent.agent_worker._get_tools(None)[1]._get_output()\n",
    "    if output is None:\n",
    "        example['predicted_answer'] = None\n",
    "        example['predicted_sub_answers'] = None\n",
    "    else:\n",
    "        example['predicted_answer'] = output.get(\"final_answer\")\n",
    "        example['predicted_sub_answers'] = output.get('sub_answers')\n",
    "    return example"
   ]
  },
  {
   "cell_type": "code",
   "execution_count": 15,
   "metadata": {},
   "outputs": [
    {
     "name": "stdout",
     "output_type": "stream",
     "text": [
      "Voshmgir District is located in Iran.\n",
      "Reference answer: in the north-east of the country south of the Caspian Sea\n",
      "Predictions:\n",
      "Voshmgir District is located in Iran.\n",
      "['Iran', 'Iran is situated in the north-east of the country south of the Caspian Sea.']\n"
     ]
    },
    {
     "name": "stderr",
     "output_type": "stream",
     "text": [
      "/var/folders/qq/b07g696s09j3zdy5chp1xfvh0000gn/T/ipykernel_85728/2184367607.py:10: SettingWithCopyWarning: \n",
      "A value is trying to be set on a copy of a slice from a DataFrame\n",
      "\n",
      "See the caveats in the documentation: https://pandas.pydata.org/pandas-docs/stable/user_guide/indexing.html#returning-a-view-versus-a-copy\n",
      "  example['predicted_answer'] = output.get(\"final_answer\")\n",
      "/var/folders/qq/b07g696s09j3zdy5chp1xfvh0000gn/T/ipykernel_85728/2184367607.py:10: SettingWithCopyWarning: \n",
      "A value is trying to be set on a copy of a slice from a DataFrame\n",
      "\n",
      "See the caveats in the documentation: https://pandas.pydata.org/pandas-docs/stable/user_guide/indexing.html#returning-a-view-versus-a-copy\n",
      "  example['predicted_answer'] = output.get(\"final_answer\")\n",
      "/var/folders/qq/b07g696s09j3zdy5chp1xfvh0000gn/T/ipykernel_85728/2184367607.py:11: SettingWithCopyWarning: \n",
      "A value is trying to be set on a copy of a slice from a DataFrame\n",
      "\n",
      "See the caveats in the documentation: https://pandas.pydata.org/pandas-docs/stable/user_guide/indexing.html#returning-a-view-versus-a-copy\n",
      "  example['predicted_sub_answers'] = output.get('sub_answers')\n",
      "/var/folders/qq/b07g696s09j3zdy5chp1xfvh0000gn/T/ipykernel_85728/2184367607.py:11: SettingWithCopyWarning: \n",
      "A value is trying to be set on a copy of a slice from a DataFrame\n",
      "\n",
      "See the caveats in the documentation: https://pandas.pydata.org/pandas-docs/stable/user_guide/indexing.html#returning-a-view-versus-a-copy\n",
      "  example['predicted_sub_answers'] = output.get('sub_answers')\n"
     ]
    }
   ],
   "source": [
    "i = 0\n",
    "example = df.iloc[i]\n",
    "example_ = mhqa(example)\n",
    "print(\"Reference answer:\", example['answer'])\n",
    "print(\"Predictions:\")\n",
    "print(example_['predicted_answer'])\n",
    "print(example_['predicted_sub_answers'])"
   ]
  },
  {
   "cell_type": "code",
   "execution_count": 16,
   "metadata": {},
   "outputs": [
    {
     "name": "stderr",
     "output_type": "stream",
     "text": [
      "huggingface/tokenizers: The current process just got forked, after parallelism has already been used. Disabling parallelism to avoid deadlocks...\n",
      "To disable this warning, you can either:\n",
      "\t- Avoid using `tokenizers` before the fork if possible\n",
      "\t- Explicitly set the environment variable TOKENIZERS_PARALLELISM=(true | false)\n"
     ]
    },
    {
     "data": {
      "application/vnd.jupyter.widget-view+json": {
       "model_id": "6d3b53b927db494d9d375a0087c6fc4c",
       "version_major": 2,
       "version_minor": 0
      },
      "text/plain": [
       "  0%|          | 0/200 [00:00<?, ?it/s]"
      ]
     },
     "metadata": {},
     "output_type": "display_data"
    },
    {
     "name": "stdout",
     "output_type": "stream",
     "text": [
      "Voshmgir District is located in Iran.\n",
      "Ocala, Florida\n",
      "Cold Crush Records\n",
      "A&M Records (Canada)\n",
      "Secret City Records\n",
      "Nieuwe Waterweg, North Sea\n",
      "Tasman Sea\n",
      "Sire Records\n",
      "Real World label\n",
      "Florida\n",
      "New Renaissance Records\n",
      "Gmina Stężyca\n",
      "Lesotho\n",
      "Northern Florida\n",
      "Kicking Mule Records and Blind Pig Records\n",
      "Jacqueline Rayner\n",
      "Thomas Bach\n",
      "Nieuwe Waterweg\n",
      "Gmina Daleszyce\n",
      "Mtetengwe River\n",
      "Florida\n",
      "Ramstein Air Base\n",
      "ACM\n",
      "Columbia Records\n",
      "Belarus\n",
      "International Federation of Association Football\n",
      "1150\n",
      "Little Naches River\n",
      "Routledge\n",
      "cycling promotion initiative\n",
      "Assam Football Association\n",
      "5am\n",
      "Coastal mountains at elevations of 2,000 to 4,000 feet above sea level\n",
      "Abiodun Smith\n",
      "Chao Phraya River\n",
      "Limpopo River\n",
      "June 10, 1819\n",
      "Eastern block of Catalan languages\n",
      "Fair Trade Services\n",
      "Honorable Justice Abiodun Smith\n",
      "Selous Game Reserve\n",
      "Unknown\n",
      "Britta Holmberg\n",
      "Mahmoud Mirza\n",
      "Richard Stallman\n",
      "Charles\n",
      "Rosaline Patricia Irorefe Bozimo\n",
      "Northern Florida\n",
      "Johan Remkes\n",
      "Chaya Mushka Schneersohn\n",
      "Golestan Province\n",
      "Lisbon\n",
      "Richard Stallman\n",
      "City University of New York\n",
      "a football league\n",
      "George Benson\n",
      "Ocala\n",
      "Promote European integration and disseminate information about it.\n",
      "Gmina Radwanice\n",
      "Port Jackson\n",
      "Sean Hampton\n",
      "N/A\n",
      "Sydney Harbour\n",
      "Augrabies Falls\n",
      "Snake River\n",
      "Matthew Lawrence\n",
      "The person whom Sikyona is named after is part of the Ukrainian Helsinki group (UHG).\n",
      "Ocala, Florida\n",
      "ACM and IEEE\n",
      "Chaya Mushka Schneersohn\n",
      "Eastern block\n",
      "Honorable Justice Abiodun Smith\n",
      "George Benson\n",
      "Santa Barbara County\n",
      "Golestan Province\n",
      "Sydney Harbour\n",
      "Golestan Province\n",
      "EmArcy Records\n",
      "Serbia\n",
      "Ellahy Amen Records\n",
      "News Corp.\n",
      "12\n",
      "Honorable Justice Abiodun Smith\n",
      "Derrty Entertainment and Universal Records\n",
      "Deptford Creek\n",
      "southern hemisphere\n",
      "IERS Reference Meridian\n",
      "Mok Kwai-lan\n",
      "Thaba Putsoa in the Maloti Mountains\n",
      "Aqqala County\n",
      "Richard Stallman\n",
      "Africa\n",
      "Limpopo River\n",
      "Norte Region\n",
      "George Benson\n",
      "University of British Columbia\n",
      "Digital First Media\n",
      "Margaret Wycherly\n",
      "Zhang Peijun\n",
      "The Young and the Restless\n",
      "George Benson\n",
      "Middle East\n",
      "Asian Man Records\n",
      "Season 3\n",
      "N/A\n",
      "Washington, D.C.\n",
      "Thaba Putsoa - location Maloti Mountains (Drakensberg), Lesotho\n",
      "12\n",
      "1819\n",
      "Minnesota\n",
      "Slade School of Art under Henry Tonks\n",
      "Salt dome formation\n",
      "University of Glasgow\n",
      "Whanganui, New Zealand\n",
      "River Thames\n",
      "Ocala, Florida\n",
      "Berrien County\n",
      "Rohana Wijeweera\n",
      "Grammy Award\n",
      "Stanley, North Dakota\n",
      "Fiorello La Guardia\n",
      "Sydney Harbour\n",
      "Canyon County\n",
      "Senegal\n",
      "Events after the expulsion of the German population\n",
      "Los Angeles\n",
      "Stefan Nemanja\n",
      "Lorenzo de' Medici\n",
      "City University of New York\n",
      "Rabbi Dovber Schneuri\n",
      "8.005 million\n",
      "University of Toronto\n",
      "Lisbon District\n",
      "Cabo Verde\n",
      "Benny Beaver\n",
      "1987\n",
      "New York Public Library system\n",
      "Sir Nicholas Bacon\n",
      "Massachusetts\n",
      "Maria Shriver\n",
      "Dill Records\n",
      "Cordell Walker\n",
      "The Okanogan Valley Power Company\n",
      "Sylvester and the Magic Pebble\n",
      "Margaret Wycherly\n",
      "MGM Records\n",
      "Snapper Foster\n",
      "Vienna Secession\n",
      "Maloti Mountains (Drakensberg) in Lesotho\n",
      "William Clito\n",
      "Peter (John Michael Higgins)\n",
      "1738\n",
      "Stanford University\n",
      "Colin Firth\n",
      "12–14 years old\n",
      "Delaware River in Eddystone, Pennsylvania\n",
      "Israel\n",
      "George Benson\n",
      "Gonbad-e Qabus County is situated in Golestan Province, Iran.\n",
      "1834\n",
      "Palmiro Togliatti\n",
      "March 11, 2011\n",
      "Greek mythology\n",
      "Thomas Bach\n",
      "Canada\n",
      "La Goulette\n",
      "International Federation of Association Football\n",
      "Malko Tarnovo Municipality\n",
      "Helen Pitts Douglass\n",
      "Best Performance by a Leading Actress in a Play in Ondine\n",
      "Chiang Hsiao-wu\n",
      "Joan Erikson\n",
      "Matt Damon\n",
      "2001\n",
      "American country music duo\n",
      "Peace Corps\n",
      "1572\n",
      "1941\n",
      "Dr. Alan Quartermaine\n",
      "Tompion\n",
      "December 15, 1950\n",
      "Bács-Kiskun County\n",
      "Michael Bublé\n",
      "University of British Columbia\n",
      "Hsiao-chang\n",
      "Michael Bublé\n",
      "Academy Award for Best Live Action Short Film\n",
      "Santino 'Sonny' Corleone and a Senator\n",
      "Stephen Hensley\n",
      "Hollywood Records\n",
      "Vito Corleone\n",
      "King Pyrrhus of Epirus, 280 BC and 279 BC\n",
      "The next episode of Steven Universe is yet to be announced.\n",
      "June 1982\n",
      "Benny Beaver\n",
      "Clatskanie, Oregon\n",
      "Clatskanie, Oregon\n",
      "Louis Chedid\n"
     ]
    }
   ],
   "source": [
    "df = df.progress_apply(mhqa, axis=1)"
   ]
  },
  {
   "cell_type": "code",
   "execution_count": 19,
   "metadata": {},
   "outputs": [],
   "source": [
    "df.to_json('../../data/generated/musique-evaluation/baseline-agent.jsonl', orient='records', lines=True)"
   ]
  },
  {
   "cell_type": "code",
   "execution_count": 20,
   "metadata": {},
   "outputs": [
    {
     "name": "stdout",
     "output_type": "stream",
     "text": [
      "{'exact_match': 0.44, 'f1': 0.5683546589289624}\n"
     ]
    }
   ],
   "source": [
    "from bellem.musique.eval import calculate_metrics, compare_answers\n",
    "\n",
    "df['predicted_answer'] = df['predicted_answer'].map(lambda x: x or \"N/A\")\n",
    "df = compare_answers(df)\n",
    "\n",
    "# log scores\n",
    "scores = calculate_metrics(df)\n",
    "print(scores)"
   ]
  },
  {
   "cell_type": "markdown",
   "metadata": {},
   "source": [
    "## Inspect"
   ]
  },
  {
   "cell_type": "code",
   "execution_count": null,
   "metadata": {},
   "outputs": [],
   "source": [
    "df[['id', 'question', 'answer', 'predicted_answer', 'predicted_sub_answers', 'fuzzy_match']]"
   ]
  },
  {
   "cell_type": "code",
   "execution_count": null,
   "metadata": {},
   "outputs": [],
   "source": []
  }
 ],
 "metadata": {
  "kernelspec": {
   "display_name": ".venv",
   "language": "python",
   "name": "python3"
  },
  "language_info": {
   "codemirror_mode": {
    "name": "ipython",
    "version": 3
   },
   "file_extension": ".py",
   "mimetype": "text/x-python",
   "name": "python",
   "nbconvert_exporter": "python",
   "pygments_lexer": "ipython3",
   "version": "3.10.12"
  }
 },
 "nbformat": 4,
 "nbformat_minor": 2
}

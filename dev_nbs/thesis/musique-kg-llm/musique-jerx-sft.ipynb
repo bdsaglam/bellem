{
 "cells": [
  {
   "cell_type": "markdown",
   "metadata": {},
   "source": [
    "# Multi-hop question answering with agent"
   ]
  },
  {
   "cell_type": "code",
   "execution_count": null,
   "metadata": {},
   "outputs": [],
   "source": [
    "import logging\n",
    "logging.basicConfig(level=logging.INFO, format='%(asctime)s - %(name)s - %(levelname)s - %(message)s')"
   ]
  },
  {
   "cell_type": "code",
   "execution_count": null,
   "metadata": {},
   "outputs": [
    {
     "data": {
      "text/plain": [
       "True"
      ]
     },
     "execution_count": null,
     "metadata": {},
     "output_type": "execute_result"
    }
   ],
   "source": [
    "from dotenv import load_dotenv\n",
    "load_dotenv()"
   ]
  },
  {
   "cell_type": "code",
   "execution_count": null,
   "metadata": {},
   "outputs": [],
   "source": [
    "import nest_asyncio\n",
    "nest_asyncio.apply()"
   ]
  },
  {
   "cell_type": "code",
   "execution_count": null,
   "metadata": {},
   "outputs": [],
   "source": [
    "import os\n",
    "import random\n",
    "import warnings\n",
    "import json\n",
    "import types\n",
    "from pathlib import Path\n",
    "\n",
    "import pandas as pd\n",
    "from pydantic import BaseModel\n",
    "\n",
    "from bellem.text.utils import fuzzy_match\n",
    "from bellem.utils import generate_time_id, set_seed\n",
    "\n",
    "set_seed(42)"
   ]
  },
  {
   "cell_type": "code",
   "execution_count": null,
   "metadata": {},
   "outputs": [],
   "source": [
    "HF_HUB_USER_NAME = \"bdsaglam\""
   ]
  },
  {
   "cell_type": "code",
   "execution_count": null,
   "metadata": {},
   "outputs": [],
   "source": [
    "DATA_DIR = Path(\"../../data/generated/musique-training\")\n",
    "KG_DIRECTORY = DATA_DIR / 'knowledge-graphs'\n",
    "QA_DIRECTORY = DATA_DIR / 'question-answering'"
   ]
  },
  {
   "cell_type": "code",
   "execution_count": null,
   "metadata": {},
   "outputs": [
    {
     "data": {
      "text/html": [
       "<div>\n",
       "<style scoped>\n",
       "    .dataframe tbody tr th:only-of-type {\n",
       "        vertical-align: middle;\n",
       "    }\n",
       "\n",
       "    .dataframe tbody tr th {\n",
       "        vertical-align: top;\n",
       "    }\n",
       "\n",
       "    .dataframe thead th {\n",
       "        text-align: right;\n",
       "    }\n",
       "</style>\n",
       "<table border=\"1\" class=\"dataframe\">\n",
       "  <thead>\n",
       "    <tr style=\"text-align: right;\">\n",
       "      <th></th>\n",
       "      <th>id</th>\n",
       "      <th>paragraphs</th>\n",
       "      <th>question</th>\n",
       "      <th>question_decomposition</th>\n",
       "      <th>answers</th>\n",
       "      <th>predicted_answer</th>\n",
       "      <th>exact_match</th>\n",
       "      <th>fuzzy_match</th>\n",
       "    </tr>\n",
       "    <tr>\n",
       "      <th>id</th>\n",
       "      <th></th>\n",
       "      <th></th>\n",
       "      <th></th>\n",
       "      <th></th>\n",
       "      <th></th>\n",
       "      <th></th>\n",
       "      <th></th>\n",
       "      <th></th>\n",
       "    </tr>\n",
       "  </thead>\n",
       "  <tbody>\n",
       "    <tr>\n",
       "      <th>2hop__128801_205185</th>\n",
       "      <td>2hop__128801_205185</td>\n",
       "      <td>[{'idx': 0, 'title': 'Pama, Burkina Faso', 'pa...</td>\n",
       "      <td>What county is the town where KNFM is licensed...</td>\n",
       "      <td>[{'id': 128801, 'question': 'What town is KNFM...</td>\n",
       "      <td>[Midland County, Midland County, Texas]</td>\n",
       "      <td>Midland County seat</td>\n",
       "      <td>False</td>\n",
       "      <td>True</td>\n",
       "    </tr>\n",
       "    <tr>\n",
       "      <th>2hop__719559_217649</th>\n",
       "      <td>2hop__719559_217649</td>\n",
       "      <td>[{'idx': 0, 'title': 'Antoine Marchand', 'para...</td>\n",
       "      <td>What's the record label of the artist who put ...</td>\n",
       "      <td>[{'id': 719559, 'question': 'Me and Julio Down...</td>\n",
       "      <td>[Warner Bros.]</td>\n",
       "      <td>Not explicitly stated</td>\n",
       "      <td>False</td>\n",
       "      <td>False</td>\n",
       "    </tr>\n",
       "    <tr>\n",
       "      <th>2hop__128806_205185</th>\n",
       "      <td>2hop__128806_205185</td>\n",
       "      <td>[{'idx': 0, 'title': 'Spanish Town', 'paragrap...</td>\n",
       "      <td>What region is the town where KQRX is liscense...</td>\n",
       "      <td>[{'id': 128806, 'question': 'What town is KQRX...</td>\n",
       "      <td>[Midland County, Midland County, Texas]</td>\n",
       "      <td>Southern Plains region</td>\n",
       "      <td>False</td>\n",
       "      <td>False</td>\n",
       "    </tr>\n",
       "    <tr>\n",
       "      <th>2hop__128895_11424</th>\n",
       "      <td>2hop__128895_11424</td>\n",
       "      <td>[{'idx': 0, 'title': 'Ehrhardt, South Carolina...</td>\n",
       "      <td>How many households were there in the town WPU...</td>\n",
       "      <td>[{'id': 128895, 'question': 'What town is WPUR...</td>\n",
       "      <td>[15,504]</td>\n",
       "      <td>15,504 households</td>\n",
       "      <td>False</td>\n",
       "      <td>True</td>\n",
       "    </tr>\n",
       "    <tr>\n",
       "      <th>2hop__143485_815489</th>\n",
       "      <td>2hop__143485_815489</td>\n",
       "      <td>[{'idx': 0, 'title': 'Boulevard Records (U.S.)...</td>\n",
       "      <td>What is the record label of the person who rec...</td>\n",
       "      <td>[{'id': 143485, 'question': 'Who recorded Some...</td>\n",
       "      <td>[Custard, Custard Records]</td>\n",
       "      <td>Custard Records Atlantic</td>\n",
       "      <td>False</td>\n",
       "      <td>True</td>\n",
       "    </tr>\n",
       "  </tbody>\n",
       "</table>\n",
       "</div>"
      ],
      "text/plain": [
       "                                      id  \\\n",
       "id                                         \n",
       "2hop__128801_205185  2hop__128801_205185   \n",
       "2hop__719559_217649  2hop__719559_217649   \n",
       "2hop__128806_205185  2hop__128806_205185   \n",
       "2hop__128895_11424    2hop__128895_11424   \n",
       "2hop__143485_815489  2hop__143485_815489   \n",
       "\n",
       "                                                            paragraphs  \\\n",
       "id                                                                       \n",
       "2hop__128801_205185  [{'idx': 0, 'title': 'Pama, Burkina Faso', 'pa...   \n",
       "2hop__719559_217649  [{'idx': 0, 'title': 'Antoine Marchand', 'para...   \n",
       "2hop__128806_205185  [{'idx': 0, 'title': 'Spanish Town', 'paragrap...   \n",
       "2hop__128895_11424   [{'idx': 0, 'title': 'Ehrhardt, South Carolina...   \n",
       "2hop__143485_815489  [{'idx': 0, 'title': 'Boulevard Records (U.S.)...   \n",
       "\n",
       "                                                              question  \\\n",
       "id                                                                       \n",
       "2hop__128801_205185  What county is the town where KNFM is licensed...   \n",
       "2hop__719559_217649  What's the record label of the artist who put ...   \n",
       "2hop__128806_205185  What region is the town where KQRX is liscense...   \n",
       "2hop__128895_11424   How many households were there in the town WPU...   \n",
       "2hop__143485_815489  What is the record label of the person who rec...   \n",
       "\n",
       "                                                question_decomposition  \\\n",
       "id                                                                       \n",
       "2hop__128801_205185  [{'id': 128801, 'question': 'What town is KNFM...   \n",
       "2hop__719559_217649  [{'id': 719559, 'question': 'Me and Julio Down...   \n",
       "2hop__128806_205185  [{'id': 128806, 'question': 'What town is KQRX...   \n",
       "2hop__128895_11424   [{'id': 128895, 'question': 'What town is WPUR...   \n",
       "2hop__143485_815489  [{'id': 143485, 'question': 'Who recorded Some...   \n",
       "\n",
       "                                                     answers  \\\n",
       "id                                                             \n",
       "2hop__128801_205185  [Midland County, Midland County, Texas]   \n",
       "2hop__719559_217649                           [Warner Bros.]   \n",
       "2hop__128806_205185  [Midland County, Midland County, Texas]   \n",
       "2hop__128895_11424                                  [15,504]   \n",
       "2hop__143485_815489               [Custard, Custard Records]   \n",
       "\n",
       "                             predicted_answer  exact_match  fuzzy_match  \n",
       "id                                                                       \n",
       "2hop__128801_205185       Midland County seat        False         True  \n",
       "2hop__719559_217649     Not explicitly stated        False        False  \n",
       "2hop__128806_205185    Southern Plains region        False        False  \n",
       "2hop__128895_11424          15,504 households        False         True  \n",
       "2hop__143485_815489  Custard Records Atlantic        False         True  "
      ]
     },
     "execution_count": null,
     "metadata": {},
     "output_type": "execute_result"
    }
   ],
   "source": [
    "ds_df = pd.read_json(DATA_DIR / 'dataset.jsonl', orient='records', lines=True)\n",
    "comp_df = pd.read_json(DATA_DIR / 'answer-eval/comparisons.jsonl', orient='records', lines=True)\n",
    "df = pd.merge(ds_df.drop(columns=['answerable', 'answer', 'answer_aliases']), comp_df.drop(columns=['answerable', 'paragraphs', 'question_decomposition', 'question', 'answer', 'answer_aliases', 'answers']), on='id', suffixes=('', ''))\n",
    "df.set_index(\"id\", drop=False, inplace=True)\n",
    "df.head()"
   ]
  },
  {
   "cell_type": "code",
   "execution_count": null,
   "metadata": {},
   "outputs": [],
   "source": [
    "def load_triplets(example):\n",
    "    id = example['id']\n",
    "    docs_filepath = DATA_DIR / f\"knowledge-graphs/{id}/documents.jsonl\"\n",
    "    if not docs_filepath.exists():\n",
    "        return []\n",
    "    triplets = []\n",
    "    with open(docs_filepath) as f:\n",
    "        for line in f:\n",
    "            doc = json.loads(line)\n",
    "            triplets.extend(doc['triplets'])\n",
    "    return [' | '.join(triplet) for triplet in triplets]    "
   ]
  },
  {
   "cell_type": "code",
   "execution_count": null,
   "metadata": {},
   "outputs": [],
   "source": [
    "def make_jerx_text(example):\n",
    "    return '\\n\\n'.join(p['paragraph_text'] for p in example['paragraphs'] if p['is_supporting'])"
   ]
  },
  {
   "cell_type": "code",
   "execution_count": null,
   "metadata": {},
   "outputs": [],
   "source": [
    "df['triplets'] = df.apply(load_triplets, axis=1)\n",
    "df['text'] = df.apply(make_jerx_text, axis=1)"
   ]
  },
  {
   "cell_type": "code",
   "execution_count": null,
   "metadata": {},
   "outputs": [
    {
     "data": {
      "text/plain": [
       "count    193.000000\n",
       "mean      13.259067\n",
       "std        2.724356\n",
       "min        7.000000\n",
       "25%       12.000000\n",
       "50%       13.000000\n",
       "75%       15.000000\n",
       "max       20.000000\n",
       "Name: triplets, dtype: float64"
      ]
     },
     "execution_count": null,
     "metadata": {},
     "output_type": "execute_result"
    }
   ],
   "source": [
    "df['triplets'].map(len).describe()"
   ]
  },
  {
   "cell_type": "code",
   "execution_count": null,
   "metadata": {},
   "outputs": [],
   "source": [
    "import textwrap\n",
    "\n",
    "def format_paragraph(paragraph):\n",
    "    return f\"Paragraph {paragraph['idx']} - {paragraph['paragraph_text']}\"\n",
    "\n",
    "def present_row(row):\n",
    "    print(row['id'])\n",
    "    print()\n",
    "    print(\"Success\" if row['fuzzy_match'] else \"Fail\")\n",
    "    print()\n",
    "    print(row['question'])\n",
    "    for item in row['question_decomposition']:\n",
    "        q = item['question']\n",
    "        a = item['answer']\n",
    "        print(f\"\\t{q}\")\n",
    "        print(f\"\\t\\t{a}\")\n",
    "    print()\n",
    "    print(f\"Prediction: {row['predicted_answer']}\")\n",
    "    print(f\"Reference: {row['answers']}\")\n",
    "    print()\n",
    "    for p in row['paragraphs']:\n",
    "        if p['is_supporting']:\n",
    "            for line in textwrap.wrap(format_paragraph(p), width=120):\n",
    "                print(line)\n",
    "            print()\n"
   ]
  },
  {
   "cell_type": "code",
   "execution_count": null,
   "metadata": {},
   "outputs": [
    {
     "name": "stdout",
     "output_type": "stream",
     "text": [
      "2hop__128801_205185\n",
      "\n",
      "Success\n",
      "\n",
      "What county is the town where KNFM is licensed the capital of?\n",
      "\tWhat town is KNFM liscensed in?\n",
      "\t\tMidland\n",
      "\t#1 >> capital of\n",
      "\t\tMidland County\n",
      "\n",
      "Prediction: Midland County seat\n",
      "Reference: ['Midland County', 'Midland County, Texas']\n",
      "\n",
      "Paragraph 1 - Midland is a city in and the county seat of Midland County, Texas, United States, on the Southern Plains\n",
      "of the state's western area. A small portion of the city extends into Martin County.\n",
      "\n",
      "Paragraph 11 - KNFM (92.3 FM), branded as \"Lonestar 92\", is a Country music formatted radio station that serves the\n",
      "Midland–Odessa metropolitan area. The station broadcasts on FM frequency 92.3 and is under ownership of Townsquare\n",
      "Media.\n",
      "\n",
      "['Midland | location | Texas', 'Midland | type | City', 'Midland | county seat of | Midland County', 'Midland | region | Southern Plains', 'Midland County | location | Texas', 'Martin County | location | Texas', 'Midland | extends into | Martin County', 'KNFM | branded as | Lonestar 92', 'KNFM | format | Country music', 'KNFM | serves | Midland–Odessa metropolitan area', 'KNFM | frequency | 92.3 FM', 'KNFM | owner | Townsquare Media']\n"
     ]
    }
   ],
   "source": [
    "i = 0\n",
    "example = df.iloc[i]\n",
    "present_row(example)\n",
    "print(example['triplets'])"
   ]
  },
  {
   "cell_type": "code",
   "execution_count": null,
   "metadata": {},
   "outputs": [],
   "source": [
    "from bellem.jerx.fewshot.llm import DEFAULT_FEW_SHOT_EXAMPLE_MESSAGES, DEFAULT_JERX_SYSTEM_MESSAGE_FOR_LLAMA\n",
    "\n",
    "def make_few_shot_chat(example):\n",
    "    messages = [\n",
    "        dict(role=\"system\", content=DEFAULT_JERX_SYSTEM_MESSAGE_FOR_LLAMA),\n",
    "        *DEFAULT_FEW_SHOT_EXAMPLE_MESSAGES,\n",
    "        {'role': 'assistant', \"content\": \"\\n\".join(example['triplets'])}\n",
    "    ]\n",
    "    return {'messages': messages}"
   ]
  },
  {
   "cell_type": "code",
   "execution_count": null,
   "metadata": {},
   "outputs": [
    {
     "data": {
      "text/plain": [
       "{'messages': [{'role': 'system',\n",
       "   'content': \"You are an excellent knowledge graph construction agent. Extract knowledge triplets in the form of (subject, relation, object) from user's messages. Avoid stopwords. Use ' | ' as delimiter and provide one triplet per line.\"},\n",
       "  {'role': 'user',\n",
       "   'content': 'Glenhis Hernández (born 7 October 1990 in Havana) is a taekwondo practitioner from Cuba. She was the 2013 World\\nChampion in middleweight.\\n\\nThe current mayor of Havana (\"President of the People\\'s Power Provincial Assembly\") is Marta Hernández Romero, she\\nwas elected on March 5, 2011.'},\n",
       "  {'role': 'assistant',\n",
       "   'content': 'Glenhis Hernández (Athlete) | born on | October 7, 1990\\nGlenhis Hernández (Athlete) | birth place | Havana\\nGlenhis Hernández (Athlete) | specializes in | taekwondo\\nGlenhis Hernández (Athlete) | won | 2013 World Champion title (Middleweight)\\nMarta Hernández Romero (Politician) | serves as | mayor of Havana\\nMarta Hernández Romero (Politician) | holds | the position of \"President of the People\\'s Power Provincial Assembly\"\\nMarta Hernández Romero (Politician) | elected on | March 5, 2011.'},\n",
       "  {'role': 'user',\n",
       "   'content': 'A Wizard of Mars was written by Diane Duane and is available in print form.'},\n",
       "  {'role': 'assistant',\n",
       "   'content': 'A Wizard of Mars | author | Diane Duane\\nA Wizard of Mars | media type | Print'},\n",
       "  {'role': 'user',\n",
       "   'content': 'The United States Air Force, which fought in the Korean War, operates the Al Asad airbase. Among the USAF attack aircraft are the Lockheed C-130, which serves as a transport plane, the General Dynamics F-16 Fighting Falcon and the attack aircraft Lockheed AC-130. The orbital Period of 1001 Gaussia is 5.75 days and the epoch date is 27 June 2015. The Abarth company makes the Abarth 1000 GT Coupe and was founded in Bologna.'},\n",
       "  {'role': 'assistant',\n",
       "   'content': 'Al Asad Airbase | operating organisation | United States Air Force\\nUnited States Air Force | attack aircraft | Lockheed AC-130\\nUnited States Air Force | battle | Korean War\\nUnited States Air Force | aircraft fighter | General Dynamics F-16 Fighting Falcon\\nUnited States Air Force | transport aircraft | Lockheed C-130 Hercules\\n1001 Gaussia | epoch | 2015-06-27\\n1001 Gaussia | orbital period | 5.75 (days)\\nAbarth | foundation place | Bologna\\nAbarth 1000 GT Coupé | manufacturer | Abarth'},\n",
       "  {'role': 'assistant',\n",
       "   'content': 'Midland | location | Texas\\nMidland | type | City\\nMidland | county seat of | Midland County\\nMidland | region | Southern Plains\\nMidland County | location | Texas\\nMartin County | location | Texas\\nMidland | extends into | Martin County\\nKNFM | branded as | Lonestar 92\\nKNFM | format | Country music\\nKNFM | serves | Midland–Odessa metropolitan area\\nKNFM | frequency | 92.3 FM\\nKNFM | owner | Townsquare Media'}]}"
      ]
     },
     "execution_count": null,
     "metadata": {},
     "output_type": "execute_result"
    }
   ],
   "source": [
    "make_few_shot_chat(example)"
   ]
  },
  {
   "cell_type": "code",
   "execution_count": null,
   "metadata": {},
   "outputs": [],
   "source": [
    "mask = df['exact_match']\n",
    "success_df = df.loc[mask]"
   ]
  },
  {
   "cell_type": "code",
   "execution_count": null,
   "metadata": {},
   "outputs": [
    {
     "name": "stderr",
     "output_type": "stream",
     "text": [
      "2024-06-30 21:27:04,894 - datasets - INFO - PyTorch version 2.2.2 available.\n"
     ]
    }
   ],
   "source": [
    "from datasets import Dataset"
   ]
  },
  {
   "cell_type": "code",
   "execution_count": null,
   "metadata": {},
   "outputs": [
    {
     "data": {
      "application/vnd.jupyter.widget-view+json": {
       "model_id": "b39918ca49ef4cde99a1a73fbb8d4495",
       "version_major": 2,
       "version_minor": 0
      },
      "text/plain": [
       "Uploading the dataset shards:   0%|          | 0/1 [00:00<?, ?it/s]"
      ]
     },
     "metadata": {},
     "output_type": "display_data"
    },
    {
     "data": {
      "application/vnd.jupyter.widget-view+json": {
       "model_id": "7ddcc43cfb934229a61fd5b76caaf714",
       "version_major": 2,
       "version_minor": 0
      },
      "text/plain": [
       "Creating parquet from Arrow format:   0%|          | 0/1 [00:00<?, ?ba/s]"
      ]
     },
     "metadata": {},
     "output_type": "display_data"
    },
    {
     "data": {
      "text/plain": [
       "CommitInfo(commit_url='https://huggingface.co/datasets/bdsaglam/musique-answerable-2hop-jerx/commit/71558fb2a1491e87f4dcd72e5a907a2c4e012c1d', commit_message='Upload dataset', commit_description='', oid='71558fb2a1491e87f4dcd72e5a907a2c4e012c1d', pr_url=None, pr_revision=None, pr_num=None)"
      ]
     },
     "execution_count": null,
     "metadata": {},
     "output_type": "execute_result"
    }
   ],
   "source": [
    "jerx_ds_name = \"musique-answerable-2hop-jerx\"\n",
    "\n",
    "examples = [{'text': example['text'], 'triplets': example['triplets']} for _, row in success_df.iterrows()]\n",
    "jerx_ds = Dataset.from_list(examples)\n",
    "jerx_ds.push_to_hub(f\"{HF_HUB_USER_NAME}/{jerx_ds_name}\", split=\"train\")"
   ]
  },
  {
   "cell_type": "code",
   "execution_count": null,
   "metadata": {},
   "outputs": [
    {
     "data": {
      "application/vnd.jupyter.widget-view+json": {
       "model_id": "0760003bee5a46b2ba520d3ad371a24d",
       "version_major": 2,
       "version_minor": 0
      },
      "text/plain": [
       "Map:   0%|          | 0/63 [00:00<?, ? examples/s]"
      ]
     },
     "metadata": {},
     "output_type": "display_data"
    },
    {
     "data": {
      "application/vnd.jupyter.widget-view+json": {
       "model_id": "717ef996db934ec1bb17b1c6d7853e4b",
       "version_major": 2,
       "version_minor": 0
      },
      "text/plain": [
       "Uploading the dataset shards:   0%|          | 0/1 [00:00<?, ?it/s]"
      ]
     },
     "metadata": {},
     "output_type": "display_data"
    },
    {
     "data": {
      "application/vnd.jupyter.widget-view+json": {
       "model_id": "0acbcfb561744b65a4ba2bc0f5cc7e3b",
       "version_major": 2,
       "version_minor": 0
      },
      "text/plain": [
       "Creating parquet from Arrow format:   0%|          | 0/1 [00:00<?, ?ba/s]"
      ]
     },
     "metadata": {},
     "output_type": "display_data"
    },
    {
     "data": {
      "text/plain": [
       "CommitInfo(commit_url='https://huggingface.co/datasets/bdsaglam/musique-answerable-2hop-jerx-chat/commit/0f909e14f75d8ed14aa41a5beda9fd0326f298bd', commit_message='Upload dataset', commit_description='', oid='0f909e14f75d8ed14aa41a5beda9fd0326f298bd', pr_url=None, pr_revision=None, pr_num=None)"
      ]
     },
     "execution_count": null,
     "metadata": {},
     "output_type": "execute_result"
    }
   ],
   "source": [
    "jerx_chat_ds = jerx_ds.map(make_few_shot_chat, remove_columns=['text', 'triplets'])\n",
    "jerx_chat_ds.push_to_hub(f\"{HF_HUB_USER_NAME}/{jerx_ds_name}-chat\", split=\"train\")"
   ]
  },
  {
   "cell_type": "code",
   "execution_count": null,
   "metadata": {},
   "outputs": [
    {
     "data": {
      "text/plain": [
       "63"
      ]
     },
     "execution_count": null,
     "metadata": {},
     "output_type": "execute_result"
    }
   ],
   "source": [
    "len(jerx_chat_ds)"
   ]
  },
  {
   "cell_type": "code",
   "execution_count": null,
   "metadata": {},
   "outputs": [],
   "source": []
  }
 ],
 "metadata": {
  "kernelspec": {
   "display_name": "python3",
   "language": "python",
   "name": "python3"
  }
 },
 "nbformat": 4,
 "nbformat_minor": 4
}

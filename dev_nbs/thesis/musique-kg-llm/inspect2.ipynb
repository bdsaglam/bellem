{
 "cells": [
  {
   "cell_type": "markdown",
   "metadata": {},
   "source": [
    "# Multi-hop question answering with agent"
   ]
  },
  {
   "cell_type": "code",
   "execution_count": null,
   "metadata": {},
   "outputs": [],
   "source": [
    "import logging\n",
    "logging.basicConfig(level=logging.INFO, format='%(asctime)s - %(name)s - %(levelname)s - %(message)s')"
   ]
  },
  {
   "cell_type": "code",
   "execution_count": null,
   "metadata": {},
   "outputs": [
    {
     "data": {
      "text/plain": [
       "True"
      ]
     },
     "execution_count": null,
     "metadata": {},
     "output_type": "execute_result"
    }
   ],
   "source": [
    "from dotenv import load_dotenv\n",
    "load_dotenv()"
   ]
  },
  {
   "cell_type": "code",
   "execution_count": null,
   "metadata": {},
   "outputs": [],
   "source": [
    "import nest_asyncio\n",
    "nest_asyncio.apply()"
   ]
  },
  {
   "cell_type": "code",
   "execution_count": null,
   "metadata": {},
   "outputs": [],
   "source": [
    "import os\n",
    "import random\n",
    "import warnings\n",
    "import json\n",
    "import types\n",
    "from pathlib import Path\n",
    "\n",
    "import pandas as pd\n",
    "from pydantic import BaseModel\n",
    "\n",
    "from bellem.text.utils import fuzzy_match\n",
    "from bellem.utils import generate_time_id, set_seed\n",
    "\n",
    "set_seed(42)"
   ]
  },
  {
   "cell_type": "code",
   "execution_count": null,
   "metadata": {},
   "outputs": [],
   "source": [
    "from bellem.llama_index.data_structs.data_structs import patch_kg_data_struct\n",
    "from bellem.llama_index.graph_stores.kuzu import KuzuGraphStore\n",
    "from bellem.llama_index.indices.knowledge_graph.base import patch_knowledge_graph_index\n",
    "\n",
    "patch_kg_data_struct()\n",
    "patch_knowledge_graph_index()"
   ]
  },
  {
   "cell_type": "code",
   "execution_count": null,
   "metadata": {},
   "outputs": [],
   "source": [
    "DATA_DIR = Path(\"../../data/generated/musique-evaluation\")\n",
    "KG_DIRECTORY = DATA_DIR / 'knowledge-graphs'\n",
    "QA_DIRECTORY = DATA_DIR / 'question-answering'"
   ]
  },
  {
   "cell_type": "code",
   "execution_count": null,
   "metadata": {},
   "outputs": [],
   "source": [
    "import kuzu\n",
    "from llama_index import ServiceContext, StorageContext, load_index_from_storage\n",
    "from llama_index.indices.knowledge_graph.retrievers import KGRetrieverMode\n",
    "\n",
    "\n",
    "def load_storage_context(example_id: str):\n",
    "    directory = KG_DIRECTORY / example_id\n",
    "    db = kuzu.Database(str(directory / \"kuzu\"))\n",
    "    graph_store = KuzuGraphStore(db)\n",
    "    storage_context = StorageContext.from_defaults(persist_dir=directory / \"index\", graph_store=graph_store)\n",
    "    return storage_context\n",
    "\n",
    "def load_index(example_id: str):\n",
    "    storage_context = load_storage_context(example_id)\n",
    "    return load_index_from_storage(\n",
    "        storage_context,\n",
    "        include_embeddings=True,\n",
    "    )\n"
   ]
  },
  {
   "cell_type": "code",
   "execution_count": null,
   "metadata": {},
   "outputs": [
    {
     "data": {
      "text/html": [
       "<div>\n",
       "<style scoped>\n",
       "    .dataframe tbody tr th:only-of-type {\n",
       "        vertical-align: middle;\n",
       "    }\n",
       "\n",
       "    .dataframe tbody tr th {\n",
       "        vertical-align: top;\n",
       "    }\n",
       "\n",
       "    .dataframe thead th {\n",
       "        text-align: right;\n",
       "    }\n",
       "</style>\n",
       "<table border=\"1\" class=\"dataframe\">\n",
       "  <thead>\n",
       "    <tr style=\"text-align: right;\">\n",
       "      <th></th>\n",
       "      <th>id</th>\n",
       "      <th>paragraphs</th>\n",
       "      <th>question</th>\n",
       "      <th>question_decomposition</th>\n",
       "      <th>answers</th>\n",
       "      <th>predicted_answer</th>\n",
       "      <th>exact_match</th>\n",
       "      <th>fuzzy_match</th>\n",
       "    </tr>\n",
       "    <tr>\n",
       "      <th>id</th>\n",
       "      <th></th>\n",
       "      <th></th>\n",
       "      <th></th>\n",
       "      <th></th>\n",
       "      <th></th>\n",
       "      <th></th>\n",
       "      <th></th>\n",
       "      <th></th>\n",
       "    </tr>\n",
       "  </thead>\n",
       "  <tbody>\n",
       "    <tr>\n",
       "      <th>2hop__131818_161450</th>\n",
       "      <td>2hop__131818_161450</td>\n",
       "      <td>[{'idx': 0, 'title': 'Maria Carrillo High Scho...</td>\n",
       "      <td>Where is the Voshmgir District located?</td>\n",
       "      <td>[{'id': 131818, 'question': 'Which state is Vo...</td>\n",
       "      <td>[Caspian Sea, in the north-east of the country...</td>\n",
       "      <td>Golestan Province</td>\n",
       "      <td>False</td>\n",
       "      <td>False</td>\n",
       "    </tr>\n",
       "    <tr>\n",
       "      <th>2hop__711946_269414</th>\n",
       "      <td>2hop__711946_269414</td>\n",
       "      <td>[{'idx': 0, 'title': 'Wild Thing (Tone Lōc son...</td>\n",
       "      <td>What record label is the performer who release...</td>\n",
       "      <td>[{'id': 711946, 'question': 'All Your Faded Th...</td>\n",
       "      <td>[Kill Rock Stars]</td>\n",
       "      <td>Cold Crush Records</td>\n",
       "      <td>False</td>\n",
       "      <td>False</td>\n",
       "    </tr>\n",
       "    <tr>\n",
       "      <th>2hop__311931_417706</th>\n",
       "      <td>2hop__311931_417706</td>\n",
       "      <td>[{'idx': 0, 'title': 'The Main Attraction (alb...</td>\n",
       "      <td>What record label does the performer of Emotio...</td>\n",
       "      <td>[{'id': 311931, 'question': 'Emotional Rain &gt;&gt;...</td>\n",
       "      <td>[Attic, Attic Records]</td>\n",
       "      <td>Attic Records</td>\n",
       "      <td>True</td>\n",
       "      <td>True</td>\n",
       "    </tr>\n",
       "    <tr>\n",
       "      <th>2hop__358582_189042</th>\n",
       "      <td>2hop__358582_189042</td>\n",
       "      <td>[{'idx': 0, 'title': 'The Main Attraction (alb...</td>\n",
       "      <td>What is the record label of the Thrill of a Li...</td>\n",
       "      <td>[{'id': 358582, 'question': 'Thrill of a Lifet...</td>\n",
       "      <td>[New Renaissance Records]</td>\n",
       "      <td>Capitol Records</td>\n",
       "      <td>False</td>\n",
       "      <td>False</td>\n",
       "    </tr>\n",
       "    <tr>\n",
       "      <th>2hop__341176_711757</th>\n",
       "      <td>2hop__341176_711757</td>\n",
       "      <td>[{'idx': 0, 'title': 'Gmina Pabianice', 'parag...</td>\n",
       "      <td>What other district is found in the same count...</td>\n",
       "      <td>[{'id': 341176, 'question': 'Gmina Stężyca, Lu...</td>\n",
       "      <td>[Ryki, Gmina Ryki]</td>\n",
       "      <td>Gmina Stężyca</td>\n",
       "      <td>False</td>\n",
       "      <td>False</td>\n",
       "    </tr>\n",
       "  </tbody>\n",
       "</table>\n",
       "</div>"
      ],
      "text/plain": [
       "                                      id  \\\n",
       "id                                         \n",
       "2hop__131818_161450  2hop__131818_161450   \n",
       "2hop__711946_269414  2hop__711946_269414   \n",
       "2hop__311931_417706  2hop__311931_417706   \n",
       "2hop__358582_189042  2hop__358582_189042   \n",
       "2hop__341176_711757  2hop__341176_711757   \n",
       "\n",
       "                                                            paragraphs  \\\n",
       "id                                                                       \n",
       "2hop__131818_161450  [{'idx': 0, 'title': 'Maria Carrillo High Scho...   \n",
       "2hop__711946_269414  [{'idx': 0, 'title': 'Wild Thing (Tone Lōc son...   \n",
       "2hop__311931_417706  [{'idx': 0, 'title': 'The Main Attraction (alb...   \n",
       "2hop__358582_189042  [{'idx': 0, 'title': 'The Main Attraction (alb...   \n",
       "2hop__341176_711757  [{'idx': 0, 'title': 'Gmina Pabianice', 'parag...   \n",
       "\n",
       "                                                              question  \\\n",
       "id                                                                       \n",
       "2hop__131818_161450            Where is the Voshmgir District located?   \n",
       "2hop__711946_269414  What record label is the performer who release...   \n",
       "2hop__311931_417706  What record label does the performer of Emotio...   \n",
       "2hop__358582_189042  What is the record label of the Thrill of a Li...   \n",
       "2hop__341176_711757  What other district is found in the same count...   \n",
       "\n",
       "                                                question_decomposition  \\\n",
       "id                                                                       \n",
       "2hop__131818_161450  [{'id': 131818, 'question': 'Which state is Vo...   \n",
       "2hop__711946_269414  [{'id': 711946, 'question': 'All Your Faded Th...   \n",
       "2hop__311931_417706  [{'id': 311931, 'question': 'Emotional Rain >>...   \n",
       "2hop__358582_189042  [{'id': 358582, 'question': 'Thrill of a Lifet...   \n",
       "2hop__341176_711757  [{'id': 341176, 'question': 'Gmina Stężyca, Lu...   \n",
       "\n",
       "                                                               answers  \\\n",
       "id                                                                       \n",
       "2hop__131818_161450  [Caspian Sea, in the north-east of the country...   \n",
       "2hop__711946_269414                                  [Kill Rock Stars]   \n",
       "2hop__311931_417706                             [Attic, Attic Records]   \n",
       "2hop__358582_189042                          [New Renaissance Records]   \n",
       "2hop__341176_711757                                 [Ryki, Gmina Ryki]   \n",
       "\n",
       "                       predicted_answer  exact_match  fuzzy_match  \n",
       "id                                                                 \n",
       "2hop__131818_161450   Golestan Province        False        False  \n",
       "2hop__711946_269414  Cold Crush Records        False        False  \n",
       "2hop__311931_417706       Attic Records         True         True  \n",
       "2hop__358582_189042     Capitol Records        False        False  \n",
       "2hop__341176_711757       Gmina Stężyca        False        False  "
      ]
     },
     "execution_count": null,
     "metadata": {},
     "output_type": "execute_result"
    }
   ],
   "source": [
    "ds_df = pd.read_json(DATA_DIR / 'dataset.jsonl', orient='records', lines=True)\n",
    "comp_df = pd.read_json(DATA_DIR / 'answer-eval/comparisons.jsonl', orient='records', lines=True)\n",
    "df = pd.merge(ds_df.drop(columns=['answerable', 'answer', 'answer_aliases']), comp_df.drop(columns=['answerable', 'paragraphs', 'question_decomposition', 'question', 'answer', 'answer_aliases', 'answers']), on='id', suffixes=('', ''))\n",
    "df.set_index(\"id\", drop=False, inplace=True)\n",
    "df.head()"
   ]
  },
  {
   "cell_type": "code",
   "execution_count": null,
   "metadata": {},
   "outputs": [],
   "source": [
    "def load_triplets(example):\n",
    "    id = example['id']\n",
    "    docs_filepath = DATA_DIR / f\"knowledge-graphs/{id}/documents.jsonl\"\n",
    "    if not docs_filepath.exists():\n",
    "        return []\n",
    "    triplets = []\n",
    "    with open(docs_filepath) as f:\n",
    "        for line in f:\n",
    "            doc = json.loads(line)\n",
    "            triplets.extend(doc['triplets'])\n",
    "    return triplets    "
   ]
  },
  {
   "cell_type": "code",
   "execution_count": null,
   "metadata": {},
   "outputs": [],
   "source": [
    "df['triplets'] = df.apply(load_triplets, axis=1)"
   ]
  },
  {
   "cell_type": "code",
   "execution_count": null,
   "metadata": {},
   "outputs": [
    {
     "data": {
      "text/html": [
       "<div>\n",
       "<style scoped>\n",
       "    .dataframe tbody tr th:only-of-type {\n",
       "        vertical-align: middle;\n",
       "    }\n",
       "\n",
       "    .dataframe tbody tr th {\n",
       "        vertical-align: top;\n",
       "    }\n",
       "\n",
       "    .dataframe thead th {\n",
       "        text-align: right;\n",
       "    }\n",
       "</style>\n",
       "<table border=\"1\" class=\"dataframe\">\n",
       "  <thead>\n",
       "    <tr style=\"text-align: right;\">\n",
       "      <th></th>\n",
       "      <th>id</th>\n",
       "      <th>paragraphs</th>\n",
       "      <th>question</th>\n",
       "      <th>question_decomposition</th>\n",
       "      <th>answers</th>\n",
       "      <th>predicted_answer</th>\n",
       "      <th>exact_match</th>\n",
       "      <th>fuzzy_match</th>\n",
       "      <th>triplets</th>\n",
       "    </tr>\n",
       "    <tr>\n",
       "      <th>id</th>\n",
       "      <th></th>\n",
       "      <th></th>\n",
       "      <th></th>\n",
       "      <th></th>\n",
       "      <th></th>\n",
       "      <th></th>\n",
       "      <th></th>\n",
       "      <th></th>\n",
       "      <th></th>\n",
       "    </tr>\n",
       "  </thead>\n",
       "  <tbody>\n",
       "    <tr>\n",
       "      <th>2hop__131818_161450</th>\n",
       "      <td>2hop__131818_161450</td>\n",
       "      <td>[{'idx': 0, 'title': 'Maria Carrillo High Scho...</td>\n",
       "      <td>Where is the Voshmgir District located?</td>\n",
       "      <td>[{'id': 131818, 'question': 'Which state is Vo...</td>\n",
       "      <td>[Caspian Sea, in the north-east of the country...</td>\n",
       "      <td>Golestan Province</td>\n",
       "      <td>False</td>\n",
       "      <td>False</td>\n",
       "      <td>[]</td>\n",
       "    </tr>\n",
       "    <tr>\n",
       "      <th>2hop__711946_269414</th>\n",
       "      <td>2hop__711946_269414</td>\n",
       "      <td>[{'idx': 0, 'title': 'Wild Thing (Tone Lōc son...</td>\n",
       "      <td>What record label is the performer who release...</td>\n",
       "      <td>[{'id': 711946, 'question': 'All Your Faded Th...</td>\n",
       "      <td>[Kill Rock Stars]</td>\n",
       "      <td>Cold Crush Records</td>\n",
       "      <td>False</td>\n",
       "      <td>False</td>\n",
       "      <td>[]</td>\n",
       "    </tr>\n",
       "    <tr>\n",
       "      <th>2hop__311931_417706</th>\n",
       "      <td>2hop__311931_417706</td>\n",
       "      <td>[{'idx': 0, 'title': 'The Main Attraction (alb...</td>\n",
       "      <td>What record label does the performer of Emotio...</td>\n",
       "      <td>[{'id': 311931, 'question': 'Emotional Rain &gt;&gt;...</td>\n",
       "      <td>[Attic, Attic Records]</td>\n",
       "      <td>Attic Records</td>\n",
       "      <td>True</td>\n",
       "      <td>True</td>\n",
       "      <td>[]</td>\n",
       "    </tr>\n",
       "    <tr>\n",
       "      <th>2hop__358582_189042</th>\n",
       "      <td>2hop__358582_189042</td>\n",
       "      <td>[{'idx': 0, 'title': 'The Main Attraction (alb...</td>\n",
       "      <td>What is the record label of the Thrill of a Li...</td>\n",
       "      <td>[{'id': 358582, 'question': 'Thrill of a Lifet...</td>\n",
       "      <td>[New Renaissance Records]</td>\n",
       "      <td>Capitol Records</td>\n",
       "      <td>False</td>\n",
       "      <td>False</td>\n",
       "      <td>[[Thrill of a Lifetime, album type, King Kobra...</td>\n",
       "    </tr>\n",
       "    <tr>\n",
       "      <th>2hop__341176_711757</th>\n",
       "      <td>2hop__341176_711757</td>\n",
       "      <td>[{'idx': 0, 'title': 'Gmina Pabianice', 'parag...</td>\n",
       "      <td>What other district is found in the same count...</td>\n",
       "      <td>[{'id': 341176, 'question': 'Gmina Stężyca, Lu...</td>\n",
       "      <td>[Ryki, Gmina Ryki]</td>\n",
       "      <td>Gmina Stężyca</td>\n",
       "      <td>False</td>\n",
       "      <td>False</td>\n",
       "      <td>[]</td>\n",
       "    </tr>\n",
       "  </tbody>\n",
       "</table>\n",
       "</div>"
      ],
      "text/plain": [
       "                                      id  \\\n",
       "id                                         \n",
       "2hop__131818_161450  2hop__131818_161450   \n",
       "2hop__711946_269414  2hop__711946_269414   \n",
       "2hop__311931_417706  2hop__311931_417706   \n",
       "2hop__358582_189042  2hop__358582_189042   \n",
       "2hop__341176_711757  2hop__341176_711757   \n",
       "\n",
       "                                                            paragraphs  \\\n",
       "id                                                                       \n",
       "2hop__131818_161450  [{'idx': 0, 'title': 'Maria Carrillo High Scho...   \n",
       "2hop__711946_269414  [{'idx': 0, 'title': 'Wild Thing (Tone Lōc son...   \n",
       "2hop__311931_417706  [{'idx': 0, 'title': 'The Main Attraction (alb...   \n",
       "2hop__358582_189042  [{'idx': 0, 'title': 'The Main Attraction (alb...   \n",
       "2hop__341176_711757  [{'idx': 0, 'title': 'Gmina Pabianice', 'parag...   \n",
       "\n",
       "                                                              question  \\\n",
       "id                                                                       \n",
       "2hop__131818_161450            Where is the Voshmgir District located?   \n",
       "2hop__711946_269414  What record label is the performer who release...   \n",
       "2hop__311931_417706  What record label does the performer of Emotio...   \n",
       "2hop__358582_189042  What is the record label of the Thrill of a Li...   \n",
       "2hop__341176_711757  What other district is found in the same count...   \n",
       "\n",
       "                                                question_decomposition  \\\n",
       "id                                                                       \n",
       "2hop__131818_161450  [{'id': 131818, 'question': 'Which state is Vo...   \n",
       "2hop__711946_269414  [{'id': 711946, 'question': 'All Your Faded Th...   \n",
       "2hop__311931_417706  [{'id': 311931, 'question': 'Emotional Rain >>...   \n",
       "2hop__358582_189042  [{'id': 358582, 'question': 'Thrill of a Lifet...   \n",
       "2hop__341176_711757  [{'id': 341176, 'question': 'Gmina Stężyca, Lu...   \n",
       "\n",
       "                                                               answers  \\\n",
       "id                                                                       \n",
       "2hop__131818_161450  [Caspian Sea, in the north-east of the country...   \n",
       "2hop__711946_269414                                  [Kill Rock Stars]   \n",
       "2hop__311931_417706                             [Attic, Attic Records]   \n",
       "2hop__358582_189042                          [New Renaissance Records]   \n",
       "2hop__341176_711757                                 [Ryki, Gmina Ryki]   \n",
       "\n",
       "                       predicted_answer  exact_match  fuzzy_match  \\\n",
       "id                                                                  \n",
       "2hop__131818_161450   Golestan Province        False        False   \n",
       "2hop__711946_269414  Cold Crush Records        False        False   \n",
       "2hop__311931_417706       Attic Records         True         True   \n",
       "2hop__358582_189042     Capitol Records        False        False   \n",
       "2hop__341176_711757       Gmina Stężyca        False        False   \n",
       "\n",
       "                                                              triplets  \n",
       "id                                                                      \n",
       "2hop__131818_161450                                                 []  \n",
       "2hop__711946_269414                                                 []  \n",
       "2hop__311931_417706                                                 []  \n",
       "2hop__358582_189042  [[Thrill of a Lifetime, album type, King Kobra...  \n",
       "2hop__341176_711757                                                 []  "
      ]
     },
     "execution_count": null,
     "metadata": {},
     "output_type": "execute_result"
    }
   ],
   "source": [
    "df.head()"
   ]
  },
  {
   "cell_type": "code",
   "execution_count": null,
   "metadata": {},
   "outputs": [],
   "source": [
    "import textwrap\n",
    "\n",
    "def format_paragraph(paragraph):\n",
    "    return f\"Paragraph {paragraph['idx']} - {paragraph['paragraph_text']}\"\n",
    "\n",
    "def present_row(row):\n",
    "    print(row['id'])\n",
    "    print()\n",
    "    print(\"Success\" if row['fuzzy_match'] else \"Fail\")\n",
    "    print()\n",
    "    print(row['question'])\n",
    "    for item in row['question_decomposition']:\n",
    "        q = item['question']\n",
    "        a = item['answer']\n",
    "        print(f\"\\t{q}\")\n",
    "        print(f\"\\t\\t{a}\")\n",
    "    print()\n",
    "    print(f\"Prediction: {row['predicted_answer']}\")\n",
    "    print(f\"Reference: {row['answers']}\")\n",
    "    print()\n",
    "    for p in row['paragraphs']:\n",
    "        if p['is_supporting']:\n",
    "            for line in textwrap.wrap(format_paragraph(p), width=120):\n",
    "                print(line)\n",
    "            print()\n"
   ]
  },
  {
   "cell_type": "code",
   "execution_count": null,
   "metadata": {},
   "outputs": [
    {
     "name": "stderr",
     "output_type": "stream",
     "text": [
      "2024-09-05 10:38:56,549 - phoenix.datasets.dataset - INFO - Dataset: phoenix_dataset_7cb9cc42-35b7-4e82-862d-564e3f501140 initialized\n"
     ]
    }
   ],
   "source": [
    "import phoenix as px\n",
    "from phoenix import TraceDataset\n",
    "from phoenix.trace.utils import json_lines_to_df\n",
    "\n",
    "\n",
    "def get_trace_dataset(filepath: Path):\n",
    "    with open(filepath) as f:\n",
    "        lines = [line for line in f.readlines() if line.strip()]\n",
    "    return TraceDataset(json_lines_to_df(lines))\n",
    "\n",
    "\n",
    "def launch_phoenix(example_id: str):\n",
    "    filepath = QA_DIRECTORY / example_id / \"traces.jsonl\"\n",
    "    return px.launch_app(trace=get_trace_dataset(filepath), notebook_environment='local')"
   ]
  },
  {
   "cell_type": "code",
   "execution_count": null,
   "metadata": {},
   "outputs": [],
   "source": [
    "from IPython.display import display, HTML\n",
    "\n",
    "def display_knowledge_graph(example_id: str):\n",
    "    kg_path = KG_DIRECTORY / example_id /  \"kuzu-network.html\"\n",
    "    display(HTML(kg_path.read_text()))\n",
    "    return kg_path"
   ]
  },
  {
   "cell_type": "code",
   "execution_count": null,
   "metadata": {},
   "outputs": [],
   "source": [
    "def report_success(dataf):\n",
    "    fail_dataf = dataf.loc[~dataf['fuzzy_match']]\n",
    "    success_dataf = dataf.loc[dataf['fuzzy_match']]\n",
    "    print(len(success_dataf), len(fail_dataf))\n",
    "    print(f\"{len(success_dataf)/len(dataf):.2f}\", f\"{len(fail_dataf)/len(dataf):.2f}\")\n",
    "    return success_dataf, fail_dataf"
   ]
  },
  {
   "cell_type": "code",
   "execution_count": null,
   "metadata": {},
   "outputs": [
    {
     "name": "stdout",
     "output_type": "stream",
     "text": [
      "45 55\n",
      "0.45 0.55\n"
     ]
    }
   ],
   "source": [
    "success_df, fail_df = report_success(df)"
   ]
  },
  {
   "cell_type": "code",
   "execution_count": null,
   "metadata": {},
   "outputs": [
    {
     "name": "stdout",
     "output_type": "stream",
     "text": [
      "2hop__131818_161450\n",
      "\n",
      "Fail\n",
      "\n",
      "Where is the Voshmgir District located?\n",
      "\tWhich state is Voshmgir District located?\n",
      "\t\tGolestan Province\n",
      "\tWhere is #1 located?\n",
      "\t\tin the north-east of the country south of the Caspian Sea\n",
      "\n",
      "Prediction: Golestan Province\n",
      "Reference: ['Caspian Sea', 'in the north-east of the country south of the Caspian Sea']\n",
      "\n",
      "Paragraph 1 - Golestān Province (Persian: استان گلستان‎, Ostān-e Golestān) is one of the 31 provinces of Iran, located\n",
      "in the north-east of the country south of the Caspian Sea. Its capital is Gorgan.\n",
      "\n",
      "Paragraph 2 - Voshmgir District () is a district (bakhsh) in Aqqala County, Golestan Province, Iran. At the 2006 census,\n",
      "its population was 25,149, in 5,266 families. The District has one city: Anbar Olum. The District has two rural\n",
      "districts (\"dehestan\"): Mazraeh-ye Jonubi Rural District and Mazraeh-ye Shomali Rural District.\n",
      "\n"
     ]
    }
   ],
   "source": [
    "example_id = random.choice(fail_df.index)\n",
    "# example_id = \"2hop__197090_126045\"\n",
    "row = df.loc[example_id]\n",
    "sub_questions = [item[\"question\"] for item in row[\"question_decomposition\"]]\n",
    "present_row(row)\n",
    "# kg_path = display_knowledge_graph(example_id)\n",
    "# phoenix_session = launch_phoenix(example_id)\n",
    "# phoenix_session.view()"
   ]
  },
  {
   "cell_type": "code",
   "execution_count": null,
   "metadata": {},
   "outputs": [
    {
     "name": "stdout",
     "output_type": "stream",
     "text": [
      "2hop__199513_13732\n",
      "\n",
      "Fail\n",
      "\n",
      "How old was Mary when engaged to the person from whom São José dos Campos takes it's name?\n",
      "\tSão José dos Campos >> named after\n",
      "\t\tJoseph\n",
      "\tWhen she was betrothed to #1 , approximately how old was Mary?\n",
      "\t\t12–14 years old\n",
      "\n",
      "Prediction: Widower in Israel\n",
      "Reference: ['12–14 years old']\n",
      "\n",
      "Paragraph 18 - According to the apocryphal Gospel of James, Mary was the daughter of Saint Joachim and Saint Anne.\n",
      "Before Mary's conception, Anne had been barren and was far advanced in years. Mary was given to service as a consecrated\n",
      "virgin in the Temple in Jerusalem when she was three years old, much like Hannah took Samuel to the Tabernacle as\n",
      "recorded in the Old Testament. Some apocryphal accounts state that at the time of her betrothal to Joseph, Mary was\n",
      "12–14 years old, and he was thirty years old, but such accounts are unreliable.\n",
      "\n",
      "Paragraph 19 - São José dos Campos (, meaning Saint Joseph of the Fields) is a major city and the seat of the\n",
      "municipality of the same name in the state of São Paulo, Brazil. One of the leading industrial and research centers with\n",
      "emphasis in aerospace sciences in Latin America, the city is located in the Paraíba Valley, between the two most active\n",
      "production and consumption regions in the country, São Paulo ( from the city) and Rio de Janeiro (). It is the main city\n",
      "of the Metropolitan Region of Vale do Paraíba e Litoral Norte. A native of São José dos Campos is called a \"joseense\"\n",
      "().\n",
      "\n",
      "2hop__518354_67465\n",
      "\n",
      "Fail\n",
      "\n",
      "When did the performer of Blue Slide Park release Best Day Ever?\n",
      "\tBlue Slide Park >> performer\n",
      "\t\tMac Miller\n",
      "\twhen did #1 release best day ever\n",
      "\t\tMarch 11, 2011\n",
      "\n",
      "Prediction: ID Labs\n",
      "Reference: ['March 11, 2011']\n",
      "\n",
      "Paragraph 5 - Blue Slide Park is the debut studio album by American rapper Mac Miller. It was released on November 8,\n",
      "2011, by Rostrum Records. In July 2011, the title was announced, having been named after a section of Frick Park (which\n",
      "is known as \"Blue Slide Park\") in Pittsburgh. The park section is at the corner of Beechwood Blvd and Nicholson Street,\n",
      "which is just two blocks from Taylor Allderdice High School where Miller attended. The album cover was designed by his\n",
      "older brother Miller McCormick and Redtape Design.\n",
      "\n",
      "Paragraph 7 - Best Day Ever is the fifth mixtape by American rapper Mac Miller. This mixtape was released online March\n",
      "11, 2011. Over 20,000 viewers joined Miller for a live video stream just prior to releasing the tape. The mixtape\n",
      "consists of 16 songs produced by nine producers (predominantly ID Labs).\n",
      "\n",
      "2hop__797443_120537\n",
      "\n",
      "Fail\n",
      "\n",
      "When was the organization that manufactured BAe 146 abolished?\n",
      "\tBAe 146 >> manufacturer\n",
      "\t\tBritish Aerospace\n",
      "\tWhen was #1 abolished?\n",
      "\t\t30 November 1999\n",
      "\n",
      "Prediction: Merged in 1999.\n",
      "Reference: ['30 November 1999']\n",
      "\n",
      "Paragraph 15 - The GEC merger to create a UK company compared to what would have been an Anglo-German firm, made the\n",
      "possibility of further penetration of the United States (US) defence market more likely. The company, initially called\n",
      "\"New British Aerospace\", was officially formed on 30 November 1999 and known as BAE Systems.\n",
      "\n",
      "Paragraph 19 - Avro International Aerospace was a British aircraft manufacturer formed in 1993 by British Aerospace to\n",
      "consolidate production of the British Aerospace 146 at Woodford Aerodrome near Manchester. The company produced new\n",
      "variants of the 146 with updated engines and avionics as the Avro RJ70, Avro RJ85 and Avro RJ100 regional jets.\n",
      "\n"
     ]
    }
   ],
   "source": [
    "for example_id in fail_df.index.values:\n",
    "    row = df.loc[example_id]\n",
    "    sub_questions = [item[\"question\"] for item in row[\"question_decomposition\"]]\n",
    "    if any('when' in q.lower() for q in sub_questions):\n",
    "        present_row(row)"
   ]
  },
  {
   "cell_type": "markdown",
   "metadata": {},
   "source": [
    "## Debug"
   ]
  },
  {
   "cell_type": "code",
   "execution_count": null,
   "metadata": {},
   "outputs": [
    {
     "name": "stderr",
     "output_type": "stream",
     "text": [
      "2024-06-30 20:51:34,644 - llama_index.indices.loading - INFO - Loading all indices.\n"
     ]
    }
   ],
   "source": [
    "index = load_index(example_id)\n",
    "retriever = index.as_retriever(\n",
    "    retriever_mode=KGRetrieverMode.HYBRID,\n",
    "    include_text=False,\n",
    "    verbose=True,\n",
    ")"
   ]
  },
  {
   "cell_type": "code",
   "execution_count": null,
   "metadata": {},
   "outputs": [],
   "source": [
    "keyword = \"Tom Denney\""
   ]
  },
  {
   "cell_type": "code",
   "execution_count": null,
   "metadata": {},
   "outputs": [
    {
     "name": "stderr",
     "output_type": "stream",
     "text": [
      "2024-06-30 20:51:36,461 - httpx - INFO - HTTP Request: POST http://localhost:8111/chat/completions \"HTTP/1.1 200 OK\"\n",
      "2024-06-30 20:51:36,580 - bellem.llama_index.indices.knowledge_graph.retrievers - WARNING - Index was not constructed with embeddings, skipping embedding usage...\n"
     ]
    },
    {
     "name": "stdout",
     "output_type": "stream",
     "text": [
      "\u001b[1;3;32mExtracted keywords: ['Tom Denney', 'Tom', 'Denney']\n",
      "\u001b[0m\u001b[1;3;34mKG context:\n",
      "The following are knowledge sequence in max depth 2 in the form of directed graph like:\n",
      "`subject -[predicate]->, object, <-[predicate_next_hop]-, object_next_hop ...`\n",
      "['Shelby High School', 'member of', 'Northern Ohio League (1944-2017)']\n",
      "['Shelby High School', 'member of', 'Sandusky Bay Conference (2017-)']\n",
      "['Hanna Theatre', 'renovation by', 'Great Lakes Theater Festival']\n",
      "['Shelby High School', 'location', 'Shelby, Ohio, United States']\n",
      "['Shelby High School', 'part of', 'Shelby City School District']\n",
      "['Shelby High School', 'serves', 'students in grades 9-12']\n",
      "['Hanna Theatre', 'type', 'classic theater company']\n",
      "['Hanna Theatre', 'location', 'downtown Cleveland']\n",
      "['Hanna Theatre', 'opening date', 'March 28, 1921']\n",
      "['Hanna Theatre', 'location', 'Playhouse Square']\n",
      "['Hanna Theatre', 'location', 'United States']\n",
      "['Hanna Theatre', 'reopening date', '2008']\n",
      "['Hanna Theatre', 'location', 'Ohio']\n",
      "\u001b[0m"
     ]
    }
   ],
   "source": [
    "nodes = retriever.retrieve(keyword)"
   ]
  },
  {
   "cell_type": "code",
   "execution_count": null,
   "metadata": {},
   "outputs": [
    {
     "data": {
      "text/plain": [
       "1"
      ]
     },
     "execution_count": null,
     "metadata": {},
     "output_type": "execute_result"
    }
   ],
   "source": [
    "len(nodes)"
   ]
  },
  {
   "cell_type": "code",
   "execution_count": null,
   "metadata": {},
   "outputs": [
    {
     "data": {
      "text/plain": [
       "[\"['Shelby High School', 'member of', 'Northern Ohio League (1944-2017)']\",\n",
       " \"['Shelby High School', 'member of', 'Sandusky Bay Conference (2017-)']\",\n",
       " \"['Hanna Theatre', 'renovation by', 'Great Lakes Theater Festival']\",\n",
       " \"['Shelby High School', 'location', 'Shelby, Ohio, United States']\",\n",
       " \"['Shelby High School', 'part of', 'Shelby City School District']\",\n",
       " \"['Shelby High School', 'serves', 'students in grades 9-12']\",\n",
       " \"['Hanna Theatre', 'type', 'classic theater company']\",\n",
       " \"['Hanna Theatre', 'location', 'downtown Cleveland']\",\n",
       " \"['Hanna Theatre', 'opening date', 'March 28, 1921']\",\n",
       " \"['Hanna Theatre', 'location', 'Playhouse Square']\",\n",
       " \"['Hanna Theatre', 'location', 'United States']\",\n",
       " \"['Hanna Theatre', 'reopening date', '2008']\",\n",
       " \"['Hanna Theatre', 'location', 'Ohio']\"]"
      ]
     },
     "execution_count": null,
     "metadata": {},
     "output_type": "execute_result"
    }
   ],
   "source": [
    "nodes[0].metadata['kg_rel_texts']"
   ]
  },
  {
   "cell_type": "code",
   "execution_count": null,
   "metadata": {},
   "outputs": [
    {
     "ename": "NameError",
     "evalue": "name 'jerx_inference_df' is not defined",
     "output_type": "error",
     "traceback": [
      "\u001b[0;31m---------------------------------------------------------------------------\u001b[0m",
      "\u001b[0;31mNameError\u001b[0m                                 Traceback (most recent call last)",
      "Cell \u001b[0;32mIn[23], line 1\u001b[0m\n\u001b[0;32m----> 1\u001b[0m \u001b[38;5;28;01mfor\u001b[39;00m _, row \u001b[38;5;129;01min\u001b[39;00m \u001b[43mjerx_inference_df\u001b[49m\u001b[38;5;241m.\u001b[39mloc[example_id]\u001b[38;5;241m.\u001b[39miterrows():\n\u001b[1;32m      2\u001b[0m     \u001b[38;5;28;01mif\u001b[39;00m \u001b[38;5;129;01mnot\u001b[39;00m row[\u001b[38;5;124m'\u001b[39m\u001b[38;5;124mis_supporting\u001b[39m\u001b[38;5;124m'\u001b[39m]:\n\u001b[1;32m      3\u001b[0m         \u001b[38;5;28;01mcontinue\u001b[39;00m\n",
      "\u001b[0;31mNameError\u001b[0m: name 'jerx_inference_df' is not defined"
     ]
    }
   ],
   "source": [
    "for _, row in jerx_inference_df.loc[example_id].iterrows():\n",
    "    if not row['is_supporting']:\n",
    "        continue\n",
    "    print(row['text'])\n",
    "    print('-'*80)\n",
    "    print(row['generation'])\n",
    "    print('='*80)"
   ]
  },
  {
   "cell_type": "code",
   "execution_count": null,
   "metadata": {},
   "outputs": [],
   "source": []
  },
  {
   "cell_type": "code",
   "execution_count": null,
   "metadata": {},
   "outputs": [],
   "source": [
    "retriever._index_struct.search_node_by_keyword(keyword)"
   ]
  },
  {
   "cell_type": "code",
   "execution_count": null,
   "metadata": {},
   "outputs": [],
   "source": [
    "retriever._index_struct.table"
   ]
  },
  {
   "cell_type": "code",
   "execution_count": null,
   "metadata": {},
   "outputs": [],
   "source": []
  }
 ],
 "metadata": {
  "kernelspec": {
   "display_name": "python3",
   "language": "python",
   "name": "python3"
  }
 },
 "nbformat": 4,
 "nbformat_minor": 4
}

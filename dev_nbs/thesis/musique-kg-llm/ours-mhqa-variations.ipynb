{
 "cells": [
  {
   "cell_type": "code",
   "execution_count": 30,
   "metadata": {},
   "outputs": [
    {
     "data": {
      "text/plain": [
       "True"
      ]
     },
     "execution_count": 30,
     "metadata": {},
     "output_type": "execute_result"
    }
   ],
   "source": [
    "from dotenv import load_dotenv\n",
    "load_dotenv()"
   ]
  },
  {
   "cell_type": "code",
   "execution_count": 31,
   "metadata": {},
   "outputs": [],
   "source": [
    "import json\n",
    "import pandas as pd\n",
    "from pathlib import Path\n",
    "from copy import deepcopy\n",
    "from functools import partial\n",
    "\n",
    "from bellem.qa.ablation import answer_question_standard\n",
    "from bellem.utils import set_seed, jprint\n",
    "from bellem.musique.multihop import benchmark\n",
    "\n",
    "set_seed(89)"
   ]
  },
  {
   "cell_type": "code",
   "execution_count": 32,
   "metadata": {},
   "outputs": [],
   "source": [
    "from tqdm.auto import tqdm\n",
    "tqdm.pandas()"
   ]
  },
  {
   "cell_type": "code",
   "execution_count": 33,
   "metadata": {},
   "outputs": [],
   "source": [
    "N_RUNS = 1\n",
    "SAMPLE_SIZE = 20"
   ]
  },
  {
   "cell_type": "code",
   "execution_count": 34,
   "metadata": {},
   "outputs": [
    {
     "name": "stdout",
     "output_type": "stream",
     "text": [
      "20\n"
     ]
    },
    {
     "data": {
      "text/html": [
       "<div>\n",
       "<style scoped>\n",
       "    .dataframe tbody tr th:only-of-type {\n",
       "        vertical-align: middle;\n",
       "    }\n",
       "\n",
       "    .dataframe tbody tr th {\n",
       "        vertical-align: top;\n",
       "    }\n",
       "\n",
       "    .dataframe thead th {\n",
       "        text-align: right;\n",
       "    }\n",
       "</style>\n",
       "<table border=\"1\" class=\"dataframe\">\n",
       "  <thead>\n",
       "    <tr style=\"text-align: right;\">\n",
       "      <th></th>\n",
       "      <th>id</th>\n",
       "      <th>paragraphs</th>\n",
       "      <th>question</th>\n",
       "      <th>question_decomposition</th>\n",
       "      <th>answer</th>\n",
       "      <th>answer_aliases</th>\n",
       "      <th>answerable</th>\n",
       "      <th>answers</th>\n",
       "    </tr>\n",
       "  </thead>\n",
       "  <tbody>\n",
       "    <tr>\n",
       "      <th>0</th>\n",
       "      <td>2hop__575188_342798</td>\n",
       "      <td>[{'idx': 0, 'title': 'Liliana Mumy', 'paragrap...</td>\n",
       "      <td>Who is the child of Mahmoud Mirza's father?</td>\n",
       "      <td>[{'id': 575188, 'question': 'Mahmoud Mirza &gt;&gt; ...</td>\n",
       "      <td>Ahmad Shah Qajar</td>\n",
       "      <td>[Ahmad Shah Qajar]</td>\n",
       "      <td>True</td>\n",
       "      <td>[Ahmad Shah Qajar]</td>\n",
       "    </tr>\n",
       "    <tr>\n",
       "      <th>1</th>\n",
       "      <td>2hop__731584_700117</td>\n",
       "      <td>[{'idx': 0, 'title': 'KAPE', 'paragraph_text':...</td>\n",
       "      <td>In which county is the city to which KKVU is l...</td>\n",
       "      <td>[{'id': 731584, 'question': 'KKVU &gt;&gt; licensed ...</td>\n",
       "      <td>Berrien County</td>\n",
       "      <td>[Berrien County]</td>\n",
       "      <td>True</td>\n",
       "      <td>[Berrien County]</td>\n",
       "    </tr>\n",
       "    <tr>\n",
       "      <th>2</th>\n",
       "      <td>2hop__690412_526810</td>\n",
       "      <td>[{'idx': 0, 'title': 'Cabramatta Creek', 'para...</td>\n",
       "      <td>For what river does the river on which Pa Sak ...</td>\n",
       "      <td>[{'id': 690412, 'question': 'Pa Sak Jolasid Da...</td>\n",
       "      <td>Chao Phraya River</td>\n",
       "      <td>[Chao Phraya River]</td>\n",
       "      <td>True</td>\n",
       "      <td>[Chao Phraya River]</td>\n",
       "    </tr>\n",
       "    <tr>\n",
       "      <th>3</th>\n",
       "      <td>2hop__263638_69048</td>\n",
       "      <td>[{'idx': 0, 'title': 'Michael J. Barron', 'par...</td>\n",
       "      <td>Who is the Chief Judge of the Tebesa Nemine's ...</td>\n",
       "      <td>[{'id': 263638, 'question': 'Tebesa Nemine &gt;&gt; ...</td>\n",
       "      <td>Honorable Justice Abiodun Smith</td>\n",
       "      <td>[Honorable Justice Abiodun Smith]</td>\n",
       "      <td>True</td>\n",
       "      <td>[Honorable Justice Abiodun Smith]</td>\n",
       "    </tr>\n",
       "    <tr>\n",
       "      <th>4</th>\n",
       "      <td>2hop__142842_68489</td>\n",
       "      <td>[{'idx': 0, 'title': 'Perfect Night: Live in L...</td>\n",
       "      <td>Who did the performer of Night Rocker play on ...</td>\n",
       "      <td>[{'id': 142842, 'question': 'Which performer r...</td>\n",
       "      <td>Snapper Foster</td>\n",
       "      <td>[Snapper Foster]</td>\n",
       "      <td>True</td>\n",
       "      <td>[Snapper Foster]</td>\n",
       "    </tr>\n",
       "  </tbody>\n",
       "</table>\n",
       "</div>"
      ],
      "text/plain": [
       "                    id                                         paragraphs  \\\n",
       "0  2hop__575188_342798  [{'idx': 0, 'title': 'Liliana Mumy', 'paragrap...   \n",
       "1  2hop__731584_700117  [{'idx': 0, 'title': 'KAPE', 'paragraph_text':...   \n",
       "2  2hop__690412_526810  [{'idx': 0, 'title': 'Cabramatta Creek', 'para...   \n",
       "3   2hop__263638_69048  [{'idx': 0, 'title': 'Michael J. Barron', 'par...   \n",
       "4   2hop__142842_68489  [{'idx': 0, 'title': 'Perfect Night: Live in L...   \n",
       "\n",
       "                                            question  \\\n",
       "0        Who is the child of Mahmoud Mirza's father?   \n",
       "1  In which county is the city to which KKVU is l...   \n",
       "2  For what river does the river on which Pa Sak ...   \n",
       "3  Who is the Chief Judge of the Tebesa Nemine's ...   \n",
       "4  Who did the performer of Night Rocker play on ...   \n",
       "\n",
       "                              question_decomposition  \\\n",
       "0  [{'id': 575188, 'question': 'Mahmoud Mirza >> ...   \n",
       "1  [{'id': 731584, 'question': 'KKVU >> licensed ...   \n",
       "2  [{'id': 690412, 'question': 'Pa Sak Jolasid Da...   \n",
       "3  [{'id': 263638, 'question': 'Tebesa Nemine >> ...   \n",
       "4  [{'id': 142842, 'question': 'Which performer r...   \n",
       "\n",
       "                            answer                     answer_aliases  \\\n",
       "0                 Ahmad Shah Qajar                 [Ahmad Shah Qajar]   \n",
       "1                   Berrien County                   [Berrien County]   \n",
       "2                Chao Phraya River                [Chao Phraya River]   \n",
       "3  Honorable Justice Abiodun Smith  [Honorable Justice Abiodun Smith]   \n",
       "4                   Snapper Foster                   [Snapper Foster]   \n",
       "\n",
       "   answerable                            answers  \n",
       "0        True                 [Ahmad Shah Qajar]  \n",
       "1        True                   [Berrien County]  \n",
       "2        True                [Chao Phraya River]  \n",
       "3        True  [Honorable Justice Abiodun Smith]  \n",
       "4        True                   [Snapper Foster]  "
      ]
     },
     "execution_count": 34,
     "metadata": {},
     "output_type": "execute_result"
    }
   ],
   "source": [
    "from bellem.musique.constants import ABLATION_RECORD_IDS\n",
    "\n",
    "df = pd.read_json('../../data/generated/musique-evaluation/dataset.jsonl', orient='records', lines=True)\n",
    "df.set_index('id', inplace=True, drop=False)\n",
    "df = df.loc[ABLATION_RECORD_IDS].copy().reset_index(drop=True)\n",
    "df = df.head(SAMPLE_SIZE)\n",
    "\n",
    "print(len(df))\n",
    "df.head()"
   ]
  },
  {
   "cell_type": "code",
   "execution_count": 35,
   "metadata": {},
   "outputs": [
    {
     "name": "stdout",
     "output_type": "stream",
     "text": [
      "(20, 8)\n"
     ]
    },
    {
     "data": {
      "text/html": [
       "<div>\n",
       "<style scoped>\n",
       "    .dataframe tbody tr th:only-of-type {\n",
       "        vertical-align: middle;\n",
       "    }\n",
       "\n",
       "    .dataframe tbody tr th {\n",
       "        vertical-align: top;\n",
       "    }\n",
       "\n",
       "    .dataframe thead th {\n",
       "        text-align: right;\n",
       "    }\n",
       "</style>\n",
       "<table border=\"1\" class=\"dataframe\">\n",
       "  <thead>\n",
       "    <tr style=\"text-align: right;\">\n",
       "      <th></th>\n",
       "      <th>id</th>\n",
       "      <th>paragraphs</th>\n",
       "      <th>answer</th>\n",
       "      <th>answer_aliases</th>\n",
       "      <th>answerable</th>\n",
       "      <th>answers</th>\n",
       "      <th>question</th>\n",
       "      <th>question_decomposition</th>\n",
       "    </tr>\n",
       "  </thead>\n",
       "  <tbody>\n",
       "    <tr>\n",
       "      <th>0</th>\n",
       "      <td>2hop__575188_342798</td>\n",
       "      <td>[{'idx': 0, 'title': 'Liliana Mumy', 'paragrap...</td>\n",
       "      <td>Ahmad Shah Qajar</td>\n",
       "      <td>[Ahmad Shah Qajar]</td>\n",
       "      <td>True</td>\n",
       "      <td>[Ahmad Shah Qajar]</td>\n",
       "      <td>Who is the child of Mahmoud Mirza's father?</td>\n",
       "      <td>[{'id': 575188, 'question': 'Who is Mahmoud Mi...</td>\n",
       "    </tr>\n",
       "    <tr>\n",
       "      <th>1</th>\n",
       "      <td>2hop__731584_700117</td>\n",
       "      <td>[{'idx': 0, 'title': 'KAPE', 'paragraph_text':...</td>\n",
       "      <td>Berrien County</td>\n",
       "      <td>[Berrien County]</td>\n",
       "      <td>True</td>\n",
       "      <td>[Berrien County]</td>\n",
       "      <td>In which county is the city to which KKVU is l...</td>\n",
       "      <td>[{'id': 731584, 'question': 'To which city is ...</td>\n",
       "    </tr>\n",
       "    <tr>\n",
       "      <th>2</th>\n",
       "      <td>2hop__690412_526810</td>\n",
       "      <td>[{'idx': 0, 'title': 'Cabramatta Creek', 'para...</td>\n",
       "      <td>Chao Phraya River</td>\n",
       "      <td>[Chao Phraya River]</td>\n",
       "      <td>True</td>\n",
       "      <td>[Chao Phraya River]</td>\n",
       "      <td>For what river does the river on which Pa Sak ...</td>\n",
       "      <td>[{'id': 690412, 'question': 'On which river is...</td>\n",
       "    </tr>\n",
       "    <tr>\n",
       "      <th>3</th>\n",
       "      <td>2hop__263638_69048</td>\n",
       "      <td>[{'idx': 0, 'title': 'Michael J. Barron', 'par...</td>\n",
       "      <td>Honorable Justice Abiodun Smith</td>\n",
       "      <td>[Honorable Justice Abiodun Smith]</td>\n",
       "      <td>True</td>\n",
       "      <td>[Honorable Justice Abiodun Smith]</td>\n",
       "      <td>Who is the Chief Judge of the Tebesa Nemine's ...</td>\n",
       "      <td>[{'id': 263638, 'question': 'Where was Tebesa ...</td>\n",
       "    </tr>\n",
       "    <tr>\n",
       "      <th>4</th>\n",
       "      <td>2hop__142842_68489</td>\n",
       "      <td>[{'idx': 0, 'title': 'Perfect Night: Live in L...</td>\n",
       "      <td>Snapper Foster</td>\n",
       "      <td>[Snapper Foster]</td>\n",
       "      <td>True</td>\n",
       "      <td>[Snapper Foster]</td>\n",
       "      <td>Who did the performer of Night Rocker play on ...</td>\n",
       "      <td>[{'id': 142842, 'question': 'Who performed Nig...</td>\n",
       "    </tr>\n",
       "  </tbody>\n",
       "</table>\n",
       "</div>"
      ],
      "text/plain": [
       "                    id                                         paragraphs  \\\n",
       "0  2hop__575188_342798  [{'idx': 0, 'title': 'Liliana Mumy', 'paragrap...   \n",
       "1  2hop__731584_700117  [{'idx': 0, 'title': 'KAPE', 'paragraph_text':...   \n",
       "2  2hop__690412_526810  [{'idx': 0, 'title': 'Cabramatta Creek', 'para...   \n",
       "3   2hop__263638_69048  [{'idx': 0, 'title': 'Michael J. Barron', 'par...   \n",
       "4   2hop__142842_68489  [{'idx': 0, 'title': 'Perfect Night: Live in L...   \n",
       "\n",
       "                            answer                     answer_aliases  \\\n",
       "0                 Ahmad Shah Qajar                 [Ahmad Shah Qajar]   \n",
       "1                   Berrien County                   [Berrien County]   \n",
       "2                Chao Phraya River                [Chao Phraya River]   \n",
       "3  Honorable Justice Abiodun Smith  [Honorable Justice Abiodun Smith]   \n",
       "4                   Snapper Foster                   [Snapper Foster]   \n",
       "\n",
       "   answerable                            answers  \\\n",
       "0        True                 [Ahmad Shah Qajar]   \n",
       "1        True                   [Berrien County]   \n",
       "2        True                [Chao Phraya River]   \n",
       "3        True  [Honorable Justice Abiodun Smith]   \n",
       "4        True                   [Snapper Foster]   \n",
       "\n",
       "                                            question  \\\n",
       "0        Who is the child of Mahmoud Mirza's father?   \n",
       "1  In which county is the city to which KKVU is l...   \n",
       "2  For what river does the river on which Pa Sak ...   \n",
       "3  Who is the Chief Judge of the Tebesa Nemine's ...   \n",
       "4  Who did the performer of Night Rocker play on ...   \n",
       "\n",
       "                              question_decomposition  \n",
       "0  [{'id': 575188, 'question': 'Who is Mahmoud Mi...  \n",
       "1  [{'id': 731584, 'question': 'To which city is ...  \n",
       "2  [{'id': 690412, 'question': 'On which river is...  \n",
       "3  [{'id': 263638, 'question': 'Where was Tebesa ...  \n",
       "4  [{'id': 142842, 'question': 'Who performed Nig...  "
      ]
     },
     "execution_count": 35,
     "metadata": {},
     "output_type": "execute_result"
    }
   ],
   "source": [
    "qd_df = pd.read_json('../../data/generated/musique-evaluation/question-decomposition.jsonl', orient='records', lines=True)\n",
    "df = pd.merge(df.drop(columns=['question', 'question_decomposition']), qd_df, on='id', suffixes=('', ''))\n",
    "print(df.shape)\n",
    "df.head()"
   ]
  },
  {
   "cell_type": "code",
   "execution_count": 36,
   "metadata": {},
   "outputs": [
    {
     "data": {
      "text/html": [
       "<div>\n",
       "<style scoped>\n",
       "    .dataframe tbody tr th:only-of-type {\n",
       "        vertical-align: middle;\n",
       "    }\n",
       "\n",
       "    .dataframe tbody tr th {\n",
       "        vertical-align: top;\n",
       "    }\n",
       "\n",
       "    .dataframe thead th {\n",
       "        text-align: right;\n",
       "    }\n",
       "</style>\n",
       "<table border=\"1\" class=\"dataframe\">\n",
       "  <thead>\n",
       "    <tr style=\"text-align: right;\">\n",
       "      <th></th>\n",
       "      <th>id</th>\n",
       "      <th>paragraph_idx</th>\n",
       "      <th>paragraph_text</th>\n",
       "      <th>paragraph_title</th>\n",
       "      <th>is_supporting</th>\n",
       "      <th>text</th>\n",
       "      <th>input</th>\n",
       "      <th>generation</th>\n",
       "    </tr>\n",
       "  </thead>\n",
       "  <tbody>\n",
       "    <tr>\n",
       "      <th>0</th>\n",
       "      <td>2hop__131818_161450</td>\n",
       "      <td>0</td>\n",
       "      <td>Maria Carrillo High School is a public high sc...</td>\n",
       "      <td>Maria Carrillo High School</td>\n",
       "      <td>False</td>\n",
       "      <td># Maria Carrillo High School\\nMaria Carrillo H...</td>\n",
       "      <td>[{'content': 'You are an excellent knowledge g...</td>\n",
       "      <td>Maria Carrillo High School | location | Santa ...</td>\n",
       "    </tr>\n",
       "    <tr>\n",
       "      <th>1</th>\n",
       "      <td>2hop__131818_161450</td>\n",
       "      <td>1</td>\n",
       "      <td>Golestān Province (Persian: استان گلستان‎, Ost...</td>\n",
       "      <td>Golestan Province</td>\n",
       "      <td>True</td>\n",
       "      <td># Golestan Province\\nGolestān Province (Persia...</td>\n",
       "      <td>[{'content': 'You are an excellent knowledge g...</td>\n",
       "      <td>Golestan Province | location | north-east of I...</td>\n",
       "    </tr>\n",
       "    <tr>\n",
       "      <th>2</th>\n",
       "      <td>2hop__131818_161450</td>\n",
       "      <td>2</td>\n",
       "      <td>Voshmgir District () is a district (bakhsh) in...</td>\n",
       "      <td>Voshmgir District</td>\n",
       "      <td>True</td>\n",
       "      <td># Voshmgir District\\nVoshmgir District () is a...</td>\n",
       "      <td>[{'content': 'You are an excellent knowledge g...</td>\n",
       "      <td>Voshmgir District | location | Aqqala County, ...</td>\n",
       "    </tr>\n",
       "    <tr>\n",
       "      <th>3</th>\n",
       "      <td>2hop__131818_161450</td>\n",
       "      <td>3</td>\n",
       "      <td>52 Heroor is a village in the southern state o...</td>\n",
       "      <td>52 Heroor</td>\n",
       "      <td>False</td>\n",
       "      <td># 52 Heroor\\n52 Heroor is a village in the sou...</td>\n",
       "      <td>[{'content': 'You are an excellent knowledge g...</td>\n",
       "      <td>52 Heroor | location | Karnataka, India\\n52 He...</td>\n",
       "    </tr>\n",
       "    <tr>\n",
       "      <th>4</th>\n",
       "      <td>2hop__131818_161450</td>\n",
       "      <td>4</td>\n",
       "      <td>Vennaimalai is a village of Karur District loc...</td>\n",
       "      <td>Vennaimalai</td>\n",
       "      <td>False</td>\n",
       "      <td># Vennaimalai\\nVennaimalai is a village of Kar...</td>\n",
       "      <td>[{'content': 'You are an excellent knowledge g...</td>\n",
       "      <td>Vennaimalai | location | Karur District\\nVenna...</td>\n",
       "    </tr>\n",
       "  </tbody>\n",
       "</table>\n",
       "</div>"
      ],
      "text/plain": [
       "                    id  paragraph_idx  \\\n",
       "0  2hop__131818_161450              0   \n",
       "1  2hop__131818_161450              1   \n",
       "2  2hop__131818_161450              2   \n",
       "3  2hop__131818_161450              3   \n",
       "4  2hop__131818_161450              4   \n",
       "\n",
       "                                      paragraph_text  \\\n",
       "0  Maria Carrillo High School is a public high sc...   \n",
       "1  Golestān Province (Persian: استان گلستان‎, Ost...   \n",
       "2  Voshmgir District () is a district (bakhsh) in...   \n",
       "3  52 Heroor is a village in the southern state o...   \n",
       "4  Vennaimalai is a village of Karur District loc...   \n",
       "\n",
       "              paragraph_title  is_supporting  \\\n",
       "0  Maria Carrillo High School          False   \n",
       "1           Golestan Province           True   \n",
       "2           Voshmgir District           True   \n",
       "3                   52 Heroor          False   \n",
       "4                 Vennaimalai          False   \n",
       "\n",
       "                                                text  \\\n",
       "0  # Maria Carrillo High School\\nMaria Carrillo H...   \n",
       "1  # Golestan Province\\nGolestān Province (Persia...   \n",
       "2  # Voshmgir District\\nVoshmgir District () is a...   \n",
       "3  # 52 Heroor\\n52 Heroor is a village in the sou...   \n",
       "4  # Vennaimalai\\nVennaimalai is a village of Kar...   \n",
       "\n",
       "                                               input  \\\n",
       "0  [{'content': 'You are an excellent knowledge g...   \n",
       "1  [{'content': 'You are an excellent knowledge g...   \n",
       "2  [{'content': 'You are an excellent knowledge g...   \n",
       "3  [{'content': 'You are an excellent knowledge g...   \n",
       "4  [{'content': 'You are an excellent knowledge g...   \n",
       "\n",
       "                                          generation  \n",
       "0  Maria Carrillo High School | location | Santa ...  \n",
       "1  Golestan Province | location | north-east of I...  \n",
       "2  Voshmgir District | location | Aqqala County, ...  \n",
       "3  52 Heroor | location | Karnataka, India\\n52 He...  \n",
       "4  Vennaimalai | location | Karur District\\nVenna...  "
      ]
     },
     "execution_count": 36,
     "metadata": {},
     "output_type": "execute_result"
    }
   ],
   "source": [
    "jerx_file = Path(\"../../data/raw/musique-evaluation/jerx-inferences/llama3-base.jsonl\")\n",
    "jerx_df = pd.read_json(jerx_file, lines=True)\n",
    "jerx_df.head()"
   ]
  },
  {
   "cell_type": "code",
   "execution_count": 37,
   "metadata": {},
   "outputs": [],
   "source": [
    "jerx_mapping = {(row['id'], row['paragraph_idx']): row['generation'] for _, row in jerx_df.iterrows()}\n",
    "\n",
    "def extract_triplets(example: dict):\n",
    "    example[\"triplets_str\"] = [jerx_mapping[(example['id'], p['idx'])].strip() for p in example['paragraphs']]\n",
    "    return example"
   ]
  },
  {
   "cell_type": "code",
   "execution_count": 38,
   "metadata": {},
   "outputs": [
    {
     "name": "stdout",
     "output_type": "stream",
     "text": [
      "20\n"
     ]
    },
    {
     "data": {
      "text/html": [
       "<div>\n",
       "<style scoped>\n",
       "    .dataframe tbody tr th:only-of-type {\n",
       "        vertical-align: middle;\n",
       "    }\n",
       "\n",
       "    .dataframe tbody tr th {\n",
       "        vertical-align: top;\n",
       "    }\n",
       "\n",
       "    .dataframe thead th {\n",
       "        text-align: right;\n",
       "    }\n",
       "</style>\n",
       "<table border=\"1\" class=\"dataframe\">\n",
       "  <thead>\n",
       "    <tr style=\"text-align: right;\">\n",
       "      <th></th>\n",
       "      <th>id</th>\n",
       "      <th>paragraphs</th>\n",
       "      <th>answer</th>\n",
       "      <th>answer_aliases</th>\n",
       "      <th>answerable</th>\n",
       "      <th>answers</th>\n",
       "      <th>question</th>\n",
       "      <th>question_decomposition</th>\n",
       "      <th>triplets_str</th>\n",
       "    </tr>\n",
       "  </thead>\n",
       "  <tbody>\n",
       "    <tr>\n",
       "      <th>0</th>\n",
       "      <td>2hop__575188_342798</td>\n",
       "      <td>[{'idx': 0, 'title': 'Liliana Mumy', 'paragrap...</td>\n",
       "      <td>Ahmad Shah Qajar</td>\n",
       "      <td>[Ahmad Shah Qajar]</td>\n",
       "      <td>True</td>\n",
       "      <td>[Ahmad Shah Qajar]</td>\n",
       "      <td>Who is the child of Mahmoud Mirza's father?</td>\n",
       "      <td>[{'id': 575188, 'question': 'Who is Mahmoud Mi...</td>\n",
       "      <td>[Liliana Mumy | father | Bill Mumy\\nBill Mumy ...</td>\n",
       "    </tr>\n",
       "    <tr>\n",
       "      <th>1</th>\n",
       "      <td>2hop__731584_700117</td>\n",
       "      <td>[{'idx': 0, 'title': 'KAPE', 'paragraph_text':...</td>\n",
       "      <td>Berrien County</td>\n",
       "      <td>[Berrien County]</td>\n",
       "      <td>True</td>\n",
       "      <td>[Berrien County]</td>\n",
       "      <td>In which county is the city to which KKVU is l...</td>\n",
       "      <td>[{'id': 731584, 'question': 'To which city is ...</td>\n",
       "      <td>[KAPE | broadcast frequency | 1550 AM\\nKAPE | ...</td>\n",
       "    </tr>\n",
       "    <tr>\n",
       "      <th>2</th>\n",
       "      <td>2hop__690412_526810</td>\n",
       "      <td>[{'idx': 0, 'title': 'Cabramatta Creek', 'para...</td>\n",
       "      <td>Chao Phraya River</td>\n",
       "      <td>[Chao Phraya River]</td>\n",
       "      <td>True</td>\n",
       "      <td>[Chao Phraya River]</td>\n",
       "      <td>For what river does the river on which Pa Sak ...</td>\n",
       "      <td>[{'id': 690412, 'question': 'On which river is...</td>\n",
       "      <td>[Cabramatta Creek | location | Sydney\\nCabrama...</td>\n",
       "    </tr>\n",
       "    <tr>\n",
       "      <th>3</th>\n",
       "      <td>2hop__263638_69048</td>\n",
       "      <td>[{'idx': 0, 'title': 'Michael J. Barron', 'par...</td>\n",
       "      <td>Honorable Justice Abiodun Smith</td>\n",
       "      <td>[Honorable Justice Abiodun Smith]</td>\n",
       "      <td>True</td>\n",
       "      <td>[Honorable Justice Abiodun Smith]</td>\n",
       "      <td>Who is the Chief Judge of the Tebesa Nemine's ...</td>\n",
       "      <td>[{'id': 263638, 'question': 'Where was Tebesa ...</td>\n",
       "      <td>[Michael J. Barron | birth year | 1933\\nMichae...</td>\n",
       "    </tr>\n",
       "    <tr>\n",
       "      <th>4</th>\n",
       "      <td>2hop__142842_68489</td>\n",
       "      <td>[{'idx': 0, 'title': 'Perfect Night: Live in L...</td>\n",
       "      <td>Snapper Foster</td>\n",
       "      <td>[Snapper Foster]</td>\n",
       "      <td>True</td>\n",
       "      <td>[Snapper Foster]</td>\n",
       "      <td>Who did the performer of Night Rocker play on ...</td>\n",
       "      <td>[{'id': 142842, 'question': 'Who performed Nig...</td>\n",
       "      <td>[Perfect Night: Live in London | recorded by |...</td>\n",
       "    </tr>\n",
       "  </tbody>\n",
       "</table>\n",
       "</div>"
      ],
      "text/plain": [
       "                    id                                         paragraphs  \\\n",
       "0  2hop__575188_342798  [{'idx': 0, 'title': 'Liliana Mumy', 'paragrap...   \n",
       "1  2hop__731584_700117  [{'idx': 0, 'title': 'KAPE', 'paragraph_text':...   \n",
       "2  2hop__690412_526810  [{'idx': 0, 'title': 'Cabramatta Creek', 'para...   \n",
       "3   2hop__263638_69048  [{'idx': 0, 'title': 'Michael J. Barron', 'par...   \n",
       "4   2hop__142842_68489  [{'idx': 0, 'title': 'Perfect Night: Live in L...   \n",
       "\n",
       "                            answer                     answer_aliases  \\\n",
       "0                 Ahmad Shah Qajar                 [Ahmad Shah Qajar]   \n",
       "1                   Berrien County                   [Berrien County]   \n",
       "2                Chao Phraya River                [Chao Phraya River]   \n",
       "3  Honorable Justice Abiodun Smith  [Honorable Justice Abiodun Smith]   \n",
       "4                   Snapper Foster                   [Snapper Foster]   \n",
       "\n",
       "   answerable                            answers  \\\n",
       "0        True                 [Ahmad Shah Qajar]   \n",
       "1        True                   [Berrien County]   \n",
       "2        True                [Chao Phraya River]   \n",
       "3        True  [Honorable Justice Abiodun Smith]   \n",
       "4        True                   [Snapper Foster]   \n",
       "\n",
       "                                            question  \\\n",
       "0        Who is the child of Mahmoud Mirza's father?   \n",
       "1  In which county is the city to which KKVU is l...   \n",
       "2  For what river does the river on which Pa Sak ...   \n",
       "3  Who is the Chief Judge of the Tebesa Nemine's ...   \n",
       "4  Who did the performer of Night Rocker play on ...   \n",
       "\n",
       "                              question_decomposition  \\\n",
       "0  [{'id': 575188, 'question': 'Who is Mahmoud Mi...   \n",
       "1  [{'id': 731584, 'question': 'To which city is ...   \n",
       "2  [{'id': 690412, 'question': 'On which river is...   \n",
       "3  [{'id': 263638, 'question': 'Where was Tebesa ...   \n",
       "4  [{'id': 142842, 'question': 'Who performed Nig...   \n",
       "\n",
       "                                        triplets_str  \n",
       "0  [Liliana Mumy | father | Bill Mumy\\nBill Mumy ...  \n",
       "1  [KAPE | broadcast frequency | 1550 AM\\nKAPE | ...  \n",
       "2  [Cabramatta Creek | location | Sydney\\nCabrama...  \n",
       "3  [Michael J. Barron | birth year | 1933\\nMichae...  \n",
       "4  [Perfect Night: Live in London | recorded by |...  "
      ]
     },
     "execution_count": 38,
     "metadata": {},
     "output_type": "execute_result"
    }
   ],
   "source": [
    "df = df.apply(extract_triplets, axis=1)\n",
    "print(len(df))\n",
    "df.head()"
   ]
  },
  {
   "cell_type": "code",
   "execution_count": 39,
   "metadata": {},
   "outputs": [],
   "source": [
    "import bm25s\n",
    "import logging\n",
    "\n",
    "logging.getLogger(\"bm25s\").setLevel(logging.ERROR)\n",
    "\n",
    "def bm25_retrieval(docs: list[dict], query: str, top_k: int = 5):\n",
    "    top_k = min(top_k, len(docs))\n",
    "    retriever = bm25s.BM25(corpus=docs)\n",
    "    tokenized_corpus = bm25s.tokenize([doc['text'] for doc in docs], show_progress=False)\n",
    "    retriever.index(tokenized_corpus, show_progress=False)\n",
    "    results, _ = retriever.retrieve(bm25s.tokenize(query), k=top_k, show_progress=False)\n",
    "    return results[0].tolist()"
   ]
  },
  {
   "cell_type": "code",
   "execution_count": 40,
   "metadata": {},
   "outputs": [
    {
     "name": "stderr",
     "output_type": "stream",
     "text": [
      "/home/pc/anaconda3/envs/baris/lib/python3.10/site-packages/huggingface_hub/file_download.py:1132: FutureWarning: `resume_download` is deprecated and will be removed in version 1.0.0. Downloads always resume when possible. If you want to force a new download, use `force_download=True`.\n",
      "  warnings.warn(\n"
     ]
    }
   ],
   "source": [
    "from sentence_transformers import SentenceTransformer\n",
    "\n",
    "model = SentenceTransformer(\"all-MiniLM-L6-v2\")\n",
    "\n",
    "def semantic_retrieval(docs: list[dict], query: str, top_k: int = 5):\n",
    "    embeddings = model.encode([doc['text'] for doc in docs])\n",
    "    query_vectors = model.encode([query])\n",
    "    similarities = model.similarity(embeddings, query_vectors)\n",
    "    sorted_indices = similarities.argsort(dim=0, descending=True)\n",
    "    return [docs[i] for i in sorted_indices[:top_k]]"
   ]
  },
  {
   "cell_type": "code",
   "execution_count": 41,
   "metadata": {},
   "outputs": [],
   "source": [
    "dummy_retrieval_func = lambda docs,query: docs\n",
    "perfect_retrieval_func = lambda docs,query: [doc for doc in docs if doc['is_supporting']]"
   ]
  },
  {
   "cell_type": "code",
   "execution_count": 42,
   "metadata": {},
   "outputs": [],
   "source": [
    "qa_func = answer_question_standard"
   ]
  },
  {
   "cell_type": "code",
   "execution_count": 43,
   "metadata": {},
   "outputs": [],
   "source": [
    "results = []"
   ]
  },
  {
   "cell_type": "markdown",
   "metadata": {},
   "source": [
    "## Only paragraphs"
   ]
  },
  {
   "cell_type": "code",
   "execution_count": 44,
   "metadata": {},
   "outputs": [],
   "source": [
    "%%capture\n",
    "_, scores = benchmark(df, qa_func, bm25_retrieval, ignore_errors=True)\n",
    "results.append({**scores, \"retrieval\": \"bm25\", \"context\": \"paragraphs\"})\n",
    "jprint(scores)"
   ]
  },
  {
   "cell_type": "code",
   "execution_count": 45,
   "metadata": {},
   "outputs": [
    {
     "data": {
      "application/vnd.jupyter.widget-view+json": {
       "model_id": "67b22178932c40f4a433f4fd06229175",
       "version_major": 2,
       "version_minor": 0
      },
      "text/plain": [
       "  0%|          | 0/20 [00:00<?, ?it/s]"
      ]
     },
     "metadata": {},
     "output_type": "display_data"
    },
    {
     "name": "stdout",
     "output_type": "stream",
     "text": [
      "{\n",
      "  \"exact_match\": 0.45,\n",
      "  \"f1\": 0.54,\n",
      "  \"fuzzy_match\": 0.55\n",
      "}\n"
     ]
    }
   ],
   "source": [
    "_, scores = benchmark(df, qa_func, semantic_retrieval, ignore_errors=True)\n",
    "results.append({**scores, \"retrieval\": \"semantic\", \"context\": \"paragraphs\"})\n",
    "jprint(scores)"
   ]
  },
  {
   "cell_type": "markdown",
   "metadata": {},
   "source": [
    "## Paragraphs + Triplets"
   ]
  },
  {
   "cell_type": "code",
   "execution_count": 46,
   "metadata": {},
   "outputs": [
    {
     "name": "stdout",
     "output_type": "stream",
     "text": [
      "Mirza Mehdy Ispahani (also known as Sadri Ispahani) (1923–2004), son of Mirza Ahmad Ispahani, was Chairman of M.M. Ispahani from 1949 till 2004. Mirza Ali Behrouze Ispahani, son of Mirza Mehdy Ispahani was elected as the Chairman of M.M. Ispahani in 2004.\n",
      "# Entity-relation-entity triplets\n",
      "Mirza Mehdy Ispahani | occupation | Chairman of M.M. Ispahani\n",
      "Mirza Mehdy Ispahani | tenure | 1949-2004\n",
      "Mirza Mehdy Ispahani | father | Mirza Ahmad Ispahani\n",
      "Mirza Mehdy Ispahani | alternative name | Sadri Ispahani\n",
      "Mirza Ali Behrouze Ispahani | occupation | Chairman of M.M. Ispahani\n",
      "Mirza Ali Behrouze Ispahani | father | Mirza Mehdy Ispahani\n"
     ]
    }
   ],
   "source": [
    "def enhance_paragraphs(row):\n",
    "    paragraphs_with_triplets = []\n",
    "    for p in row['paragraphs']:\n",
    "        p = deepcopy(p)\n",
    "        triplets_str = str(jerx_mapping[(row['id'], p['idx'])])\n",
    "        p['paragraph_text'] = '\\n'.join([p['paragraph_text'], \"# Entity-relation-entity triplets\", triplets_str])\n",
    "        paragraphs_with_triplets.append(p)\n",
    "    row['paragraphs'] = paragraphs_with_triplets\n",
    "    return row\n",
    "\n",
    "df_paragraph_triplets = df.apply(enhance_paragraphs, axis=1) \n",
    "df_paragraph_triplets.head()\n",
    "print(df_paragraph_triplets.iloc[0]['paragraphs'][2]['paragraph_text'])"
   ]
  },
  {
   "cell_type": "code",
   "execution_count": 47,
   "metadata": {},
   "outputs": [],
   "source": [
    "%%capture\n",
    "_, scores = benchmark(df_paragraph_triplets, qa_func, bm25_retrieval, ignore_errors=True)\n",
    "results.append({**scores, \"retrieval\": \"bm25\", \"context\": \"paragraphs+triplets\"})\n",
    "jprint(scores)"
   ]
  },
  {
   "cell_type": "code",
   "execution_count": 48,
   "metadata": {},
   "outputs": [
    {
     "data": {
      "application/vnd.jupyter.widget-view+json": {
       "model_id": "ed3ed49b7a8d4c668749ce960c24a10e",
       "version_major": 2,
       "version_minor": 0
      },
      "text/plain": [
       "  0%|          | 0/20 [00:00<?, ?it/s]"
      ]
     },
     "metadata": {},
     "output_type": "display_data"
    },
    {
     "name": "stdout",
     "output_type": "stream",
     "text": [
      "{\n",
      "  \"exact_match\": 0.5,\n",
      "  \"f1\": 0.5831818181818182,\n",
      "  \"fuzzy_match\": 0.6\n",
      "}\n"
     ]
    }
   ],
   "source": [
    "_, scores = benchmark(df_paragraph_triplets, qa_func, semantic_retrieval, ignore_errors=True)\n",
    "results.append({**scores, \"retrieval\": \"semantic\", \"context\": \"paragraphs+triplets\"})\n",
    "jprint(scores)"
   ]
  },
  {
   "cell_type": "markdown",
   "metadata": {},
   "source": [
    "## Only triplets"
   ]
  },
  {
   "cell_type": "code",
   "execution_count": 49,
   "metadata": {},
   "outputs": [
    {
     "name": "stdout",
     "output_type": "stream",
     "text": [
      "Liliana Mumy | father | Bill Mumy\n"
     ]
    }
   ],
   "source": [
    "def replace_paragraphs(row):\n",
    "    paragraphs_with_triplets = []\n",
    "    for p in row['paragraphs']:\n",
    "        triplets_str = str(jerx_mapping[(row['id'], p['idx'])])\n",
    "        for triplet in triplets_str.splitlines():\n",
    "            p = deepcopy(p) \n",
    "            p['title'] = \"\"\n",
    "            p['paragraph_text'] = triplet.strip()\n",
    "            paragraphs_with_triplets.append(p)\n",
    "    row['paragraphs'] = paragraphs_with_triplets\n",
    "    return row\n",
    "\n",
    "df_only_triplets = df.apply(replace_paragraphs, axis=1) \n",
    "df_only_triplets.head()\n",
    "print(df_only_triplets.iloc[0]['paragraphs'][0]['paragraph_text'])"
   ]
  },
  {
   "cell_type": "code",
   "execution_count": 50,
   "metadata": {},
   "outputs": [],
   "source": [
    "%%capture\n",
    "_, scores = benchmark(df_only_triplets, qa_func, partial(bm25_retrieval, top_k=10), ignore_errors=True)\n",
    "results.append({**scores, \"retrieval\": \"bm25\", \"context\": \"triplets\"})\n",
    "jprint(scores)"
   ]
  },
  {
   "cell_type": "code",
   "execution_count": 51,
   "metadata": {},
   "outputs": [
    {
     "data": {
      "application/vnd.jupyter.widget-view+json": {
       "model_id": "8d9a8e949ee4404f9ff20db7bde99e8d",
       "version_major": 2,
       "version_minor": 0
      },
      "text/plain": [
       "  0%|          | 0/20 [00:00<?, ?it/s]"
      ]
     },
     "metadata": {},
     "output_type": "display_data"
    },
    {
     "name": "stdout",
     "output_type": "stream",
     "text": [
      "{\n",
      "  \"exact_match\": 0.35,\n",
      "  \"f1\": 0.3931818181818182,\n",
      "  \"fuzzy_match\": 0.4\n",
      "}\n"
     ]
    }
   ],
   "source": [
    "_, scores = benchmark(df_only_triplets, qa_func, partial(semantic_retrieval, top_k=10), ignore_errors=True)\n",
    "results.append({**scores, \"retrieval\": \"semantic\", \"context\": \"triplets\"})\n",
    "jprint(scores)"
   ]
  },
  {
   "cell_type": "markdown",
   "metadata": {},
   "source": [
    "# Report"
   ]
  },
  {
   "cell_type": "code",
   "execution_count": 52,
   "metadata": {},
   "outputs": [
    {
     "data": {
      "text/html": [
       "<div>\n",
       "<style scoped>\n",
       "    .dataframe tbody tr th:only-of-type {\n",
       "        vertical-align: middle;\n",
       "    }\n",
       "\n",
       "    .dataframe tbody tr th {\n",
       "        vertical-align: top;\n",
       "    }\n",
       "\n",
       "    .dataframe thead th {\n",
       "        text-align: right;\n",
       "    }\n",
       "</style>\n",
       "<table border=\"1\" class=\"dataframe\">\n",
       "  <thead>\n",
       "    <tr style=\"text-align: right;\">\n",
       "      <th></th>\n",
       "      <th>context</th>\n",
       "      <th>retrieval</th>\n",
       "      <th>exact_match</th>\n",
       "      <th>fuzzy_match</th>\n",
       "      <th>f1</th>\n",
       "    </tr>\n",
       "  </thead>\n",
       "  <tbody>\n",
       "    <tr>\n",
       "      <th>0</th>\n",
       "      <td>paragraphs</td>\n",
       "      <td>bm25</td>\n",
       "      <td>0.40</td>\n",
       "      <td>0.50</td>\n",
       "      <td>0.511515</td>\n",
       "    </tr>\n",
       "    <tr>\n",
       "      <th>1</th>\n",
       "      <td>paragraphs</td>\n",
       "      <td>semantic</td>\n",
       "      <td>0.45</td>\n",
       "      <td>0.55</td>\n",
       "      <td>0.540000</td>\n",
       "    </tr>\n",
       "    <tr>\n",
       "      <th>2</th>\n",
       "      <td>paragraphs+triplets</td>\n",
       "      <td>bm25</td>\n",
       "      <td>0.45</td>\n",
       "      <td>0.55</td>\n",
       "      <td>0.491667</td>\n",
       "    </tr>\n",
       "    <tr>\n",
       "      <th>3</th>\n",
       "      <td>paragraphs+triplets</td>\n",
       "      <td>semantic</td>\n",
       "      <td>0.50</td>\n",
       "      <td>0.60</td>\n",
       "      <td>0.583182</td>\n",
       "    </tr>\n",
       "    <tr>\n",
       "      <th>4</th>\n",
       "      <td>triplets</td>\n",
       "      <td>bm25</td>\n",
       "      <td>0.30</td>\n",
       "      <td>0.50</td>\n",
       "      <td>0.423333</td>\n",
       "    </tr>\n",
       "    <tr>\n",
       "      <th>5</th>\n",
       "      <td>triplets</td>\n",
       "      <td>semantic</td>\n",
       "      <td>0.35</td>\n",
       "      <td>0.40</td>\n",
       "      <td>0.393182</td>\n",
       "    </tr>\n",
       "  </tbody>\n",
       "</table>\n",
       "</div>"
      ],
      "text/plain": [
       "               context retrieval  exact_match  fuzzy_match        f1\n",
       "0           paragraphs      bm25         0.40         0.50  0.511515\n",
       "1           paragraphs  semantic         0.45         0.55  0.540000\n",
       "2  paragraphs+triplets      bm25         0.45         0.55  0.491667\n",
       "3  paragraphs+triplets  semantic         0.50         0.60  0.583182\n",
       "4             triplets      bm25         0.30         0.50  0.423333\n",
       "5             triplets  semantic         0.35         0.40  0.393182"
      ]
     },
     "execution_count": 52,
     "metadata": {},
     "output_type": "execute_result"
    }
   ],
   "source": [
    "report_df = pd.DataFrame.from_records(results, columns=['context', 'retrieval', 'exact_match', 'fuzzy_match', 'f1'])\n",
    "report_df"
   ]
  },
  {
   "cell_type": "code",
   "execution_count": 53,
   "metadata": {},
   "outputs": [],
   "source": [
    "from datetime import datetime\n",
    "suffix = datetime.utcnow().strftime(\"%Y%m%d-%H%M%S\")\n",
    "report_df.to_json(f'../../data/generated/musique-evaluation/baseline-report-{suffix}.jsonl', orient='records', lines=True)"
   ]
  },
  {
   "cell_type": "code",
   "execution_count": 54,
   "metadata": {},
   "outputs": [
    {
     "name": "stdout",
     "output_type": "stream",
     "text": [
      "| context             |   exact_match |   fuzzy_match |       f1 |\n",
      "|:--------------------|--------------:|--------------:|---------:|\n",
      "| paragraphs          |          0.4  |          0.5  | 0.511515 |\n",
      "| paragraphs+triplets |          0.45 |          0.55 | 0.491667 |\n",
      "| triplets            |          0.3  |          0.5  | 0.423333 |\n"
     ]
    }
   ],
   "source": [
    "print(report_df[report_df['retrieval']=='bm25'].drop(columns=['retrieval']).to_markdown(index=False))"
   ]
  },
  {
   "cell_type": "code",
   "execution_count": 55,
   "metadata": {},
   "outputs": [
    {
     "name": "stdout",
     "output_type": "stream",
     "text": [
      "| context             |   exact_match |   fuzzy_match |       f1 |\n",
      "|:--------------------|--------------:|--------------:|---------:|\n",
      "| paragraphs          |          0.45 |          0.55 | 0.54     |\n",
      "| paragraphs+triplets |          0.5  |          0.6  | 0.583182 |\n",
      "| triplets            |          0.35 |          0.4  | 0.393182 |\n"
     ]
    }
   ],
   "source": [
    "print(report_df[report_df['retrieval']=='semantic'].drop(columns=['retrieval']).to_markdown(index=False))"
   ]
  },
  {
   "cell_type": "markdown",
   "metadata": {},
   "source": [
    "## Retrieval impact"
   ]
  },
  {
   "cell_type": "code",
   "execution_count": 56,
   "metadata": {},
   "outputs": [
    {
     "name": "stdout",
     "output_type": "stream",
     "text": [
      "| context    | retrieval   |   exact_match |   fuzzy_match |       f1 |\n",
      "|:-----------|:------------|--------------:|--------------:|---------:|\n",
      "| paragraphs | bm25        |          0.4  |          0.5  | 0.511515 |\n",
      "| paragraphs | semantic    |          0.45 |          0.55 | 0.54     |\n"
     ]
    }
   ],
   "source": [
    "print(report_df[report_df['context']=='paragraphs'].to_markdown(index=False))"
   ]
  },
  {
   "cell_type": "code",
   "execution_count": null,
   "metadata": {},
   "outputs": [],
   "source": []
  }
 ],
 "metadata": {
  "kernelspec": {
   "display_name": "python3",
   "language": "python",
   "name": "python3"
  },
  "language_info": {
   "codemirror_mode": {
    "name": "ipython",
    "version": 3
   },
   "file_extension": ".py",
   "mimetype": "text/x-python",
   "name": "python",
   "nbconvert_exporter": "python",
   "pygments_lexer": "ipython3",
   "version": "3.10.14"
  }
 },
 "nbformat": 4,
 "nbformat_minor": 4
}

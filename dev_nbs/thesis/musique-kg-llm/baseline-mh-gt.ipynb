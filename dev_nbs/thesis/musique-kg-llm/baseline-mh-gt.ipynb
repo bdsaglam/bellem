{
 "cells": [
  {
   "cell_type": "code",
   "execution_count": 1,
   "metadata": {},
   "outputs": [
    {
     "data": {
      "text/plain": [
       "True"
      ]
     },
     "execution_count": 1,
     "metadata": {},
     "output_type": "execute_result"
    }
   ],
   "source": [
    "from dotenv import load_dotenv\n",
    "load_dotenv()"
   ]
  },
  {
   "cell_type": "code",
   "execution_count": 2,
   "metadata": {},
   "outputs": [],
   "source": [
    "import json\n",
    "import pandas as pd\n",
    "from pathlib import Path\n",
    "from copy import deepcopy\n",
    "from functools import partial\n",
    "\n",
    "from bellem.qa.llm import make_question_answer_func\n",
    "from bellem.utils import set_seed, jprint\n",
    "from bellem.musique.multihop import benchmark\n",
    "\n",
    "set_seed(89)"
   ]
  },
  {
   "cell_type": "code",
   "execution_count": 3,
   "metadata": {},
   "outputs": [],
   "source": [
    "from tqdm.auto import tqdm\n",
    "tqdm.pandas()"
   ]
  },
  {
   "cell_type": "code",
   "execution_count": 4,
   "metadata": {},
   "outputs": [],
   "source": [
    "def silence(exc_cls):\n",
    "    def decorator(func):\n",
    "        def wrapper(*args, **kwargs):\n",
    "            try:\n",
    "                return func(*args, **kwargs)\n",
    "            except exc_cls as e:\n",
    "                return None\n",
    "        return wrapper\n",
    "    return decorator"
   ]
  },
  {
   "cell_type": "code",
   "execution_count": 5,
   "metadata": {},
   "outputs": [
    {
     "name": "stdout",
     "output_type": "stream",
     "text": [
      "(100, 8)\n"
     ]
    },
    {
     "data": {
      "text/html": [
       "<div>\n",
       "<style scoped>\n",
       "    .dataframe tbody tr th:only-of-type {\n",
       "        vertical-align: middle;\n",
       "    }\n",
       "\n",
       "    .dataframe tbody tr th {\n",
       "        vertical-align: top;\n",
       "    }\n",
       "\n",
       "    .dataframe thead th {\n",
       "        text-align: right;\n",
       "    }\n",
       "</style>\n",
       "<table border=\"1\" class=\"dataframe\">\n",
       "  <thead>\n",
       "    <tr style=\"text-align: right;\">\n",
       "      <th></th>\n",
       "      <th>id</th>\n",
       "      <th>paragraphs</th>\n",
       "      <th>answer</th>\n",
       "      <th>answer_aliases</th>\n",
       "      <th>answerable</th>\n",
       "      <th>answers</th>\n",
       "      <th>question</th>\n",
       "      <th>question_decomposition</th>\n",
       "    </tr>\n",
       "  </thead>\n",
       "  <tbody>\n",
       "    <tr>\n",
       "      <th>0</th>\n",
       "      <td>2hop__143915_68489</td>\n",
       "      <td>[{'idx': 0, 'title': 'Daniel Goddard (actor)',...</td>\n",
       "      <td>Snapper Foster</td>\n",
       "      <td>[Snapper Foster]</td>\n",
       "      <td>True</td>\n",
       "      <td>[Snapper Foster]</td>\n",
       "      <td>who did the performer of Sings America play on...</td>\n",
       "      <td>[{'id': 143915, 'question': 'Who performed Sin...</td>\n",
       "    </tr>\n",
       "    <tr>\n",
       "      <th>1</th>\n",
       "      <td>2hop__642686_7292</td>\n",
       "      <td>[{'idx': 0, 'title': 'Borat's Television Progr...</td>\n",
       "      <td>George Benson</td>\n",
       "      <td>[George Benson]</td>\n",
       "      <td>True</td>\n",
       "      <td>[George Benson]</td>\n",
       "      <td>Along with Kenny G and the performer of Hello ...</td>\n",
       "      <td>[{'id': 642686, 'question': 'Who performed Hel...</td>\n",
       "    </tr>\n",
       "    <tr>\n",
       "      <th>2</th>\n",
       "      <td>2hop__391258_161450</td>\n",
       "      <td>[{'idx': 0, 'title': 'Karimabad-e Ayaghchi', '...</td>\n",
       "      <td>in the north-east of the country south of the ...</td>\n",
       "      <td>[Caspian Sea, in the north-east of the country...</td>\n",
       "      <td>True</td>\n",
       "      <td>[Caspian Sea, in the north-east of the country...</td>\n",
       "      <td>Where is the province that contains Maraveh Ta...</td>\n",
       "      <td>[{'id': 391258, 'question': 'Which province co...</td>\n",
       "    </tr>\n",
       "    <tr>\n",
       "      <th>3</th>\n",
       "      <td>2hop__549146_223121</td>\n",
       "      <td>[{'idx': 0, 'title': 'All Funked Up', 'paragra...</td>\n",
       "      <td>Asian Man Records</td>\n",
       "      <td>[Asian Man Records]</td>\n",
       "      <td>True</td>\n",
       "      <td>[Asian Man Records]</td>\n",
       "      <td>What record label did the person who is part o...</td>\n",
       "      <td>[{'id': 549146, 'question': 'Who is part of Th...</td>\n",
       "    </tr>\n",
       "    <tr>\n",
       "      <th>4</th>\n",
       "      <td>2hop__811015_3300</td>\n",
       "      <td>[{'idx': 0, 'title': 'Blue Bloods (season 7)',...</td>\n",
       "      <td>season three</td>\n",
       "      <td>[season three]</td>\n",
       "      <td>True</td>\n",
       "      <td>[season three]</td>\n",
       "      <td>What season was the performer of Blue Skies on?</td>\n",
       "      <td>[{'id': 811015, 'question': 'Who performed Blu...</td>\n",
       "    </tr>\n",
       "  </tbody>\n",
       "</table>\n",
       "</div>"
      ],
      "text/plain": [
       "                    id                                         paragraphs  \\\n",
       "0   2hop__143915_68489  [{'idx': 0, 'title': 'Daniel Goddard (actor)',...   \n",
       "1    2hop__642686_7292  [{'idx': 0, 'title': 'Borat's Television Progr...   \n",
       "2  2hop__391258_161450  [{'idx': 0, 'title': 'Karimabad-e Ayaghchi', '...   \n",
       "3  2hop__549146_223121  [{'idx': 0, 'title': 'All Funked Up', 'paragra...   \n",
       "4    2hop__811015_3300  [{'idx': 0, 'title': 'Blue Bloods (season 7)',...   \n",
       "\n",
       "                                              answer  \\\n",
       "0                                     Snapper Foster   \n",
       "1                                      George Benson   \n",
       "2  in the north-east of the country south of the ...   \n",
       "3                                  Asian Man Records   \n",
       "4                                       season three   \n",
       "\n",
       "                                      answer_aliases  answerable  \\\n",
       "0                                   [Snapper Foster]        True   \n",
       "1                                    [George Benson]        True   \n",
       "2  [Caspian Sea, in the north-east of the country...        True   \n",
       "3                                [Asian Man Records]        True   \n",
       "4                                     [season three]        True   \n",
       "\n",
       "                                             answers  \\\n",
       "0                                   [Snapper Foster]   \n",
       "1                                    [George Benson]   \n",
       "2  [Caspian Sea, in the north-east of the country...   \n",
       "3                                [Asian Man Records]   \n",
       "4                                     [season three]   \n",
       "\n",
       "                                            question  \\\n",
       "0  who did the performer of Sings America play on...   \n",
       "1  Along with Kenny G and the performer of Hello ...   \n",
       "2  Where is the province that contains Maraveh Ta...   \n",
       "3  What record label did the person who is part o...   \n",
       "4    What season was the performer of Blue Skies on?   \n",
       "\n",
       "                              question_decomposition  \n",
       "0  [{'id': 143915, 'question': 'Who performed Sin...  \n",
       "1  [{'id': 642686, 'question': 'Who performed Hel...  \n",
       "2  [{'id': 391258, 'question': 'Which province co...  \n",
       "3  [{'id': 549146, 'question': 'Who is part of Th...  \n",
       "4  [{'id': 811015, 'question': 'Who performed Blu...  "
      ]
     },
     "execution_count": 5,
     "metadata": {},
     "output_type": "execute_result"
    }
   ],
   "source": [
    "df = pd.read_json('../../data/generated/musique-evaluation/dataset.jsonl', orient='records', lines=True).iloc[100:200]\n",
    "qd_df = pd.read_json('../../data/generated/musique-evaluation/question-decomposition.jsonl', orient='records', lines=True)\n",
    "df = pd.merge(df.drop(columns=['question', 'question_decomposition']), qd_df, on='id', suffixes=('', ''))\n",
    "print(df.shape)\n",
    "df.head()"
   ]
  },
  {
   "cell_type": "code",
   "execution_count": 6,
   "metadata": {},
   "outputs": [
    {
     "data": {
      "text/html": [
       "<div>\n",
       "<style scoped>\n",
       "    .dataframe tbody tr th:only-of-type {\n",
       "        vertical-align: middle;\n",
       "    }\n",
       "\n",
       "    .dataframe tbody tr th {\n",
       "        vertical-align: top;\n",
       "    }\n",
       "\n",
       "    .dataframe thead th {\n",
       "        text-align: right;\n",
       "    }\n",
       "</style>\n",
       "<table border=\"1\" class=\"dataframe\">\n",
       "  <thead>\n",
       "    <tr style=\"text-align: right;\">\n",
       "      <th></th>\n",
       "      <th>id</th>\n",
       "      <th>paragraph_idx</th>\n",
       "      <th>paragraph_text</th>\n",
       "      <th>paragraph_title</th>\n",
       "      <th>is_supporting</th>\n",
       "      <th>text</th>\n",
       "      <th>input</th>\n",
       "      <th>generation</th>\n",
       "    </tr>\n",
       "  </thead>\n",
       "  <tbody>\n",
       "    <tr>\n",
       "      <th>0</th>\n",
       "      <td>2hop__131818_161450</td>\n",
       "      <td>0</td>\n",
       "      <td>Maria Carrillo High School is a public high sc...</td>\n",
       "      <td>Maria Carrillo High School</td>\n",
       "      <td>False</td>\n",
       "      <td># Maria Carrillo High School\\nMaria Carrillo H...</td>\n",
       "      <td>[{'content': 'You are an excellent knowledge g...</td>\n",
       "      <td>Maria Carrillo High School | location | Santa ...</td>\n",
       "    </tr>\n",
       "    <tr>\n",
       "      <th>1</th>\n",
       "      <td>2hop__131818_161450</td>\n",
       "      <td>1</td>\n",
       "      <td>Golestān Province (Persian: استان گلستان‎, Ost...</td>\n",
       "      <td>Golestan Province</td>\n",
       "      <td>True</td>\n",
       "      <td># Golestan Province\\nGolestān Province (Persia...</td>\n",
       "      <td>[{'content': 'You are an excellent knowledge g...</td>\n",
       "      <td>Golestan Province | location | north-east of I...</td>\n",
       "    </tr>\n",
       "    <tr>\n",
       "      <th>2</th>\n",
       "      <td>2hop__131818_161450</td>\n",
       "      <td>2</td>\n",
       "      <td>Voshmgir District () is a district (bakhsh) in...</td>\n",
       "      <td>Voshmgir District</td>\n",
       "      <td>True</td>\n",
       "      <td># Voshmgir District\\nVoshmgir District () is a...</td>\n",
       "      <td>[{'content': 'You are an excellent knowledge g...</td>\n",
       "      <td>Voshmgir District | location | Aqqala County, ...</td>\n",
       "    </tr>\n",
       "    <tr>\n",
       "      <th>3</th>\n",
       "      <td>2hop__131818_161450</td>\n",
       "      <td>3</td>\n",
       "      <td>52 Heroor is a village in the southern state o...</td>\n",
       "      <td>52 Heroor</td>\n",
       "      <td>False</td>\n",
       "      <td># 52 Heroor\\n52 Heroor is a village in the sou...</td>\n",
       "      <td>[{'content': 'You are an excellent knowledge g...</td>\n",
       "      <td>52 Heroor | location | Karnataka, India\\n52 He...</td>\n",
       "    </tr>\n",
       "    <tr>\n",
       "      <th>4</th>\n",
       "      <td>2hop__131818_161450</td>\n",
       "      <td>4</td>\n",
       "      <td>Vennaimalai is a village of Karur District loc...</td>\n",
       "      <td>Vennaimalai</td>\n",
       "      <td>False</td>\n",
       "      <td># Vennaimalai\\nVennaimalai is a village of Kar...</td>\n",
       "      <td>[{'content': 'You are an excellent knowledge g...</td>\n",
       "      <td>Vennaimalai | location | Karur District\\nVenna...</td>\n",
       "    </tr>\n",
       "  </tbody>\n",
       "</table>\n",
       "</div>"
      ],
      "text/plain": [
       "                    id  paragraph_idx  \\\n",
       "0  2hop__131818_161450              0   \n",
       "1  2hop__131818_161450              1   \n",
       "2  2hop__131818_161450              2   \n",
       "3  2hop__131818_161450              3   \n",
       "4  2hop__131818_161450              4   \n",
       "\n",
       "                                      paragraph_text  \\\n",
       "0  Maria Carrillo High School is a public high sc...   \n",
       "1  Golestān Province (Persian: استان گلستان‎, Ost...   \n",
       "2  Voshmgir District () is a district (bakhsh) in...   \n",
       "3  52 Heroor is a village in the southern state o...   \n",
       "4  Vennaimalai is a village of Karur District loc...   \n",
       "\n",
       "              paragraph_title  is_supporting  \\\n",
       "0  Maria Carrillo High School          False   \n",
       "1           Golestan Province           True   \n",
       "2           Voshmgir District           True   \n",
       "3                   52 Heroor          False   \n",
       "4                 Vennaimalai          False   \n",
       "\n",
       "                                                text  \\\n",
       "0  # Maria Carrillo High School\\nMaria Carrillo H...   \n",
       "1  # Golestan Province\\nGolestān Province (Persia...   \n",
       "2  # Voshmgir District\\nVoshmgir District () is a...   \n",
       "3  # 52 Heroor\\n52 Heroor is a village in the sou...   \n",
       "4  # Vennaimalai\\nVennaimalai is a village of Kar...   \n",
       "\n",
       "                                               input  \\\n",
       "0  [{'content': 'You are an excellent knowledge g...   \n",
       "1  [{'content': 'You are an excellent knowledge g...   \n",
       "2  [{'content': 'You are an excellent knowledge g...   \n",
       "3  [{'content': 'You are an excellent knowledge g...   \n",
       "4  [{'content': 'You are an excellent knowledge g...   \n",
       "\n",
       "                                          generation  \n",
       "0  Maria Carrillo High School | location | Santa ...  \n",
       "1  Golestan Province | location | north-east of I...  \n",
       "2  Voshmgir District | location | Aqqala County, ...  \n",
       "3  52 Heroor | location | Karnataka, India\\n52 He...  \n",
       "4  Vennaimalai | location | Karur District\\nVenna...  "
      ]
     },
     "execution_count": 6,
     "metadata": {},
     "output_type": "execute_result"
    }
   ],
   "source": [
    "jerx_file = Path(\"../../data/raw/musique-evaluation/jerx-inferences/llama3-base.jsonl\")\n",
    "jerx_df = pd.read_json(jerx_file, lines=True)\n",
    "jerx_df.head()"
   ]
  },
  {
   "cell_type": "code",
   "execution_count": 7,
   "metadata": {},
   "outputs": [],
   "source": [
    "jerx_mapping = {(row['id'], row['paragraph_idx']): row['generation'] for _, row in jerx_df.iterrows()}\n",
    "\n",
    "def extract_triplets(example: dict):\n",
    "    example[\"triplets_str\"] = [jerx_mapping[(example['id'], p['idx'])].strip() for p in example['paragraphs']]\n",
    "    example[\"triplets_str\"] = [triplets_str.replace(\"|\", \"|\") for triplets_str in example[\"triplets_str\"]]\n",
    "    return example"
   ]
  },
  {
   "cell_type": "code",
   "execution_count": 8,
   "metadata": {},
   "outputs": [
    {
     "name": "stdout",
     "output_type": "stream",
     "text": [
      "100\n"
     ]
    },
    {
     "data": {
      "text/html": [
       "<div>\n",
       "<style scoped>\n",
       "    .dataframe tbody tr th:only-of-type {\n",
       "        vertical-align: middle;\n",
       "    }\n",
       "\n",
       "    .dataframe tbody tr th {\n",
       "        vertical-align: top;\n",
       "    }\n",
       "\n",
       "    .dataframe thead th {\n",
       "        text-align: right;\n",
       "    }\n",
       "</style>\n",
       "<table border=\"1\" class=\"dataframe\">\n",
       "  <thead>\n",
       "    <tr style=\"text-align: right;\">\n",
       "      <th></th>\n",
       "      <th>id</th>\n",
       "      <th>paragraphs</th>\n",
       "      <th>answer</th>\n",
       "      <th>answer_aliases</th>\n",
       "      <th>answerable</th>\n",
       "      <th>answers</th>\n",
       "      <th>question</th>\n",
       "      <th>question_decomposition</th>\n",
       "      <th>triplets_str</th>\n",
       "    </tr>\n",
       "  </thead>\n",
       "  <tbody>\n",
       "    <tr>\n",
       "      <th>0</th>\n",
       "      <td>2hop__143915_68489</td>\n",
       "      <td>[{'idx': 0, 'title': 'Daniel Goddard (actor)',...</td>\n",
       "      <td>Snapper Foster</td>\n",
       "      <td>[Snapper Foster]</td>\n",
       "      <td>True</td>\n",
       "      <td>[Snapper Foster]</td>\n",
       "      <td>who did the performer of Sings America play on...</td>\n",
       "      <td>[{'id': 143915, 'question': 'Who performed Sin...</td>\n",
       "      <td>[Daniel Goddard | profession | Actor\\nDaniel G...</td>\n",
       "    </tr>\n",
       "    <tr>\n",
       "      <th>1</th>\n",
       "      <td>2hop__642686_7292</td>\n",
       "      <td>[{'idx': 0, 'title': 'Borat's Television Progr...</td>\n",
       "      <td>George Benson</td>\n",
       "      <td>[George Benson]</td>\n",
       "      <td>True</td>\n",
       "      <td>[George Benson]</td>\n",
       "      <td>Along with Kenny G and the performer of Hello ...</td>\n",
       "      <td>[{'id': 642686, 'question': 'Who performed Hel...</td>\n",
       "      <td>[Borat's Television Programme | origin | Da Al...</td>\n",
       "    </tr>\n",
       "    <tr>\n",
       "      <th>2</th>\n",
       "      <td>2hop__391258_161450</td>\n",
       "      <td>[{'idx': 0, 'title': 'Karimabad-e Ayaghchi', '...</td>\n",
       "      <td>in the north-east of the country south of the ...</td>\n",
       "      <td>[Caspian Sea, in the north-east of the country...</td>\n",
       "      <td>True</td>\n",
       "      <td>[Caspian Sea, in the north-east of the country...</td>\n",
       "      <td>Where is the province that contains Maraveh Ta...</td>\n",
       "      <td>[{'id': 391258, 'question': 'Which province co...</td>\n",
       "      <td>[Karimabad-e Ayaghchi | location | Kurdistan P...</td>\n",
       "    </tr>\n",
       "    <tr>\n",
       "      <th>3</th>\n",
       "      <td>2hop__549146_223121</td>\n",
       "      <td>[{'idx': 0, 'title': 'All Funked Up', 'paragra...</td>\n",
       "      <td>Asian Man Records</td>\n",
       "      <td>[Asian Man Records]</td>\n",
       "      <td>True</td>\n",
       "      <td>[Asian Man Records]</td>\n",
       "      <td>What record label did the person who is part o...</td>\n",
       "      <td>[{'id': 549146, 'question': 'Who is part of Th...</td>\n",
       "      <td>[All Funked Up | album | third album\\nAll Funk...</td>\n",
       "    </tr>\n",
       "    <tr>\n",
       "      <th>4</th>\n",
       "      <td>2hop__811015_3300</td>\n",
       "      <td>[{'idx': 0, 'title': 'Blue Bloods (season 7)',...</td>\n",
       "      <td>season three</td>\n",
       "      <td>[season three]</td>\n",
       "      <td>True</td>\n",
       "      <td>[season three]</td>\n",
       "      <td>What season was the performer of Blue Skies on?</td>\n",
       "      <td>[{'id': 811015, 'question': 'Who performed Blu...</td>\n",
       "      <td>[Blue Bloods | season number | 7\\nBlue Bloods ...</td>\n",
       "    </tr>\n",
       "  </tbody>\n",
       "</table>\n",
       "</div>"
      ],
      "text/plain": [
       "                    id                                         paragraphs  \\\n",
       "0   2hop__143915_68489  [{'idx': 0, 'title': 'Daniel Goddard (actor)',...   \n",
       "1    2hop__642686_7292  [{'idx': 0, 'title': 'Borat's Television Progr...   \n",
       "2  2hop__391258_161450  [{'idx': 0, 'title': 'Karimabad-e Ayaghchi', '...   \n",
       "3  2hop__549146_223121  [{'idx': 0, 'title': 'All Funked Up', 'paragra...   \n",
       "4    2hop__811015_3300  [{'idx': 0, 'title': 'Blue Bloods (season 7)',...   \n",
       "\n",
       "                                              answer  \\\n",
       "0                                     Snapper Foster   \n",
       "1                                      George Benson   \n",
       "2  in the north-east of the country south of the ...   \n",
       "3                                  Asian Man Records   \n",
       "4                                       season three   \n",
       "\n",
       "                                      answer_aliases  answerable  \\\n",
       "0                                   [Snapper Foster]        True   \n",
       "1                                    [George Benson]        True   \n",
       "2  [Caspian Sea, in the north-east of the country...        True   \n",
       "3                                [Asian Man Records]        True   \n",
       "4                                     [season three]        True   \n",
       "\n",
       "                                             answers  \\\n",
       "0                                   [Snapper Foster]   \n",
       "1                                    [George Benson]   \n",
       "2  [Caspian Sea, in the north-east of the country...   \n",
       "3                                [Asian Man Records]   \n",
       "4                                     [season three]   \n",
       "\n",
       "                                            question  \\\n",
       "0  who did the performer of Sings America play on...   \n",
       "1  Along with Kenny G and the performer of Hello ...   \n",
       "2  Where is the province that contains Maraveh Ta...   \n",
       "3  What record label did the person who is part o...   \n",
       "4    What season was the performer of Blue Skies on?   \n",
       "\n",
       "                              question_decomposition  \\\n",
       "0  [{'id': 143915, 'question': 'Who performed Sin...   \n",
       "1  [{'id': 642686, 'question': 'Who performed Hel...   \n",
       "2  [{'id': 391258, 'question': 'Which province co...   \n",
       "3  [{'id': 549146, 'question': 'Who is part of Th...   \n",
       "4  [{'id': 811015, 'question': 'Who performed Blu...   \n",
       "\n",
       "                                        triplets_str  \n",
       "0  [Daniel Goddard | profession | Actor\\nDaniel G...  \n",
       "1  [Borat's Television Programme | origin | Da Al...  \n",
       "2  [Karimabad-e Ayaghchi | location | Kurdistan P...  \n",
       "3  [All Funked Up | album | third album\\nAll Funk...  \n",
       "4  [Blue Bloods | season number | 7\\nBlue Bloods ...  "
      ]
     },
     "execution_count": 8,
     "metadata": {},
     "output_type": "execute_result"
    }
   ],
   "source": [
    "df = df.apply(extract_triplets, axis=1)\n",
    "print(len(df))\n",
    "df.head()"
   ]
  },
  {
   "cell_type": "code",
   "execution_count": 9,
   "metadata": {},
   "outputs": [],
   "source": [
    "import bm25s\n",
    "import logging\n",
    "\n",
    "logging.getLogger(\"bm25s\").setLevel(logging.ERROR)\n",
    "\n",
    "def bm25_retrieval(docs: list[dict], query: str, top_k: int = 5):\n",
    "    top_k = min(top_k, len(docs))\n",
    "    retriever = bm25s.BM25(corpus=docs)\n",
    "    tokenized_corpus = bm25s.tokenize([doc['text'] for doc in docs], show_progress=False)\n",
    "    retriever.index(tokenized_corpus, show_progress=False)\n",
    "    results, _ = retriever.retrieve(bm25s.tokenize(query), k=top_k, show_progress=False)\n",
    "    return results[0].tolist()"
   ]
  },
  {
   "cell_type": "code",
   "execution_count": 10,
   "metadata": {},
   "outputs": [
    {
     "name": "stderr",
     "output_type": "stream",
     "text": [
      "/Users/bdsaglam/dev/repos/bellem/.venv/lib/python3.10/site-packages/huggingface_hub/file_download.py:1132: FutureWarning: `resume_download` is deprecated and will be removed in version 1.0.0. Downloads always resume when possible. If you want to force a new download, use `force_download=True`.\n",
      "  warnings.warn(\n"
     ]
    }
   ],
   "source": [
    "from sentence_transformers import SentenceTransformer\n",
    "\n",
    "model = SentenceTransformer(\"all-MiniLM-L6-v2\")\n",
    "\n",
    "def semantic_retrieval(docs: list[dict], query: str, top_k: int = 5):\n",
    "    embeddings = model.encode([doc['text'] for doc in docs])\n",
    "    query_vectors = model.encode([query])\n",
    "    similarities = model.similarity(embeddings, query_vectors)\n",
    "    sorted_indices = similarities.argsort(dim=0, descending=True)\n",
    "    return [docs[i] for i in sorted_indices[:top_k]]"
   ]
  },
  {
   "cell_type": "code",
   "execution_count": 11,
   "metadata": {},
   "outputs": [],
   "source": [
    "dummy_retrieval_func = lambda docs,query: docs\n",
    "perfect_retrieval_func = lambda docs,query: [doc for doc in docs if doc['is_supporting']]"
   ]
  },
  {
   "cell_type": "code",
   "execution_count": 12,
   "metadata": {},
   "outputs": [],
   "source": [
    "completion_kwargs={\"temperature\": 0.0, \"max_tokens\": 1024}\n",
    "qa_func = make_question_answer_func(\"gpt-3.5-turbo\", completion_kwargs=completion_kwargs)"
   ]
  },
  {
   "cell_type": "code",
   "execution_count": 13,
   "metadata": {},
   "outputs": [],
   "source": [
    "results = []"
   ]
  },
  {
   "cell_type": "markdown",
   "metadata": {},
   "source": [
    "## Only paragraphs"
   ]
  },
  {
   "cell_type": "code",
   "execution_count": 14,
   "metadata": {},
   "outputs": [
    {
     "data": {
      "application/vnd.jupyter.widget-view+json": {
       "model_id": "22c50b94f6e04b8b99c8900360e043ac",
       "version_major": 2,
       "version_minor": 0
      },
      "text/plain": [
       "  0%|          | 0/100 [00:00<?, ?it/s]"
      ]
     },
     "metadata": {},
     "output_type": "display_data"
    },
    {
     "name": "stdout",
     "output_type": "stream",
     "text": [
      "Failed to answer the question 2hop__656411_345851\n",
      "Expecting value: line 1 column 2 (char 1)\n",
      "{\n",
      "  \"exact_match\": 0.57,\n",
      "  \"f1\": 0.683778251160604,\n",
      "  \"fuzzy_match\": 0.7\n",
      "}\n"
     ]
    }
   ],
   "source": [
    "_, scores = benchmark(df, qa_func, dummy_retrieval_func, ignore_errors=True)\n",
    "results.append({**scores, \"retrieval\": \"none\", \"context\": \"paragraphs\"})\n",
    "jprint(scores)"
   ]
  },
  {
   "cell_type": "code",
   "execution_count": 15,
   "metadata": {},
   "outputs": [
    {
     "data": {
      "application/vnd.jupyter.widget-view+json": {
       "model_id": "9bdf9820cf154ed7b31f00814b7c665f",
       "version_major": 2,
       "version_minor": 0
      },
      "text/plain": [
       "  0%|          | 0/100 [00:00<?, ?it/s]"
      ]
     },
     "metadata": {},
     "output_type": "display_data"
    },
    {
     "name": "stdout",
     "output_type": "stream",
     "text": [
      "{\n",
      "  \"exact_match\": 0.73,\n",
      "  \"f1\": 0.7844935064935064,\n",
      "  \"fuzzy_match\": 0.78\n",
      "}\n"
     ]
    }
   ],
   "source": [
    "_, scores = benchmark(df, qa_func, perfect_retrieval_func, ignore_errors=True)\n",
    "results.append({**scores, \"retrieval\": \"groundtruth\", \"context\": \"paragraphs\"})\n",
    "jprint(scores)"
   ]
  },
  {
   "cell_type": "markdown",
   "metadata": {},
   "source": [
    "## Paragraphs + Triplets"
   ]
  },
  {
   "cell_type": "code",
   "execution_count": 16,
   "metadata": {},
   "outputs": [
    {
     "name": "stdout",
     "output_type": "stream",
     "text": [
      "Lauren Alice Koslow (born March 9, 1953) is an American actress, best known for her long - running portrayal of Kate Roberts on the NBC dramatic serial Days of Our Lives, which she has played continuously since 1996. She previously appeared in the soaps The Bold and the Beautiful and The Young and the Restless.\n",
      "# Entity-relation-entity triplets\n",
      "Lauren Koslow | birth date | March 9, 1953\n",
      "Lauren Koslow | birth year | 1953\n",
      "Lauren Koslow | occupation | American actress\n",
      "Lauren Koslow | notable role | Kate Roberts\n",
      "Kate Roberts | serial | Days of Our Lives\n",
      "Lauren Koslow | role duration | continuously since 1996\n",
      "Lauren Koslow | previous roles | The Bold and the Beautiful\n",
      "Lauren Koslow | previous roles | The Young and the Restless\n"
     ]
    }
   ],
   "source": [
    "def enhance_paragraphs(row):\n",
    "    paragraphs_with_triplets = []\n",
    "    for p in row['paragraphs']:\n",
    "        p = deepcopy(p)\n",
    "        triplets_str = str(jerx_mapping[(row['id'], p['idx'])])\n",
    "        p['paragraph_text'] = '\\n'.join([p['paragraph_text'], \"# Entity-relation-entity triplets\", triplets_str])\n",
    "        paragraphs_with_triplets.append(p)\n",
    "    row['paragraphs'] = paragraphs_with_triplets\n",
    "    return row\n",
    "\n",
    "df_paragraph_triplets = df.apply(enhance_paragraphs, axis=1) \n",
    "df_paragraph_triplets.head()\n",
    "print(df_paragraph_triplets.iloc[0]['paragraphs'][2]['paragraph_text'])"
   ]
  },
  {
   "cell_type": "code",
   "execution_count": 17,
   "metadata": {},
   "outputs": [
    {
     "data": {
      "application/vnd.jupyter.widget-view+json": {
       "model_id": "f91e2445c27044d39600319665a369a0",
       "version_major": 2,
       "version_minor": 0
      },
      "text/plain": [
       "  0%|          | 0/100 [00:00<?, ?it/s]"
      ]
     },
     "metadata": {},
     "output_type": "display_data"
    },
    {
     "name": "stdout",
     "output_type": "stream",
     "text": [
      "Failed to answer the question 2hop__280451_84616\n",
      "Expecting value: line 1 column 2 (char 1)\n",
      "{\n",
      "  \"exact_match\": 0.55,\n",
      "  \"f1\": 0.6223809523809524,\n",
      "  \"fuzzy_match\": 0.62\n",
      "}\n"
     ]
    }
   ],
   "source": [
    "_, scores = benchmark(df_paragraph_triplets, qa_func, dummy_retrieval_func, ignore_errors=True)\n",
    "results.append({**scores, \"retrieval\": \"none\", \"context\": \"paragraphs+triplets\"})\n",
    "jprint(scores)"
   ]
  },
  {
   "cell_type": "code",
   "execution_count": 18,
   "metadata": {},
   "outputs": [
    {
     "data": {
      "application/vnd.jupyter.widget-view+json": {
       "model_id": "9f55364f64d34d80870e1f9ec0eb5282",
       "version_major": 2,
       "version_minor": 0
      },
      "text/plain": [
       "  0%|          | 0/100 [00:00<?, ?it/s]"
      ]
     },
     "metadata": {},
     "output_type": "display_data"
    },
    {
     "name": "stdout",
     "output_type": "stream",
     "text": [
      "{\n",
      "  \"exact_match\": 0.67,\n",
      "  \"f1\": 0.7694065934065933,\n",
      "  \"fuzzy_match\": 0.8\n",
      "}\n"
     ]
    }
   ],
   "source": [
    "_, scores = benchmark(df_paragraph_triplets, qa_func, perfect_retrieval_func, ignore_errors=True)\n",
    "results.append({**scores, \"retrieval\": \"groundtruth\", \"context\": \"paragraphs+triplets\"})\n",
    "jprint(scores)"
   ]
  },
  {
   "cell_type": "markdown",
   "metadata": {},
   "source": [
    "## Only triplets"
   ]
  },
  {
   "cell_type": "code",
   "execution_count": 19,
   "metadata": {},
   "outputs": [
    {
     "name": "stdout",
     "output_type": "stream",
     "text": [
      "# Entity-relation-entity triplets\n",
      "Lauren Koslow | birth date | March 9, 1953\n",
      "Lauren Koslow | birth year | 1953\n",
      "Lauren Koslow | occupation | American actress\n",
      "Lauren Koslow | notable role | Kate Roberts\n",
      "Kate Roberts | serial | Days of Our Lives\n",
      "Lauren Koslow | role duration | continuously since 1996\n",
      "Lauren Koslow | previous roles | The Bold and the Beautiful\n",
      "Lauren Koslow | previous roles | The Young and the Restless\n"
     ]
    }
   ],
   "source": [
    "def replace_paragraphs(row):\n",
    "    paragraphs_with_triplets = []\n",
    "    for p in row['paragraphs']:\n",
    "        p = deepcopy(p) \n",
    "        triplets_str = str(jerx_mapping[(row['id'], p['idx'])])\n",
    "        p['paragraph_text'] = '\\n'.join([\"# Entity-relation-entity triplets\", triplets_str])\n",
    "        paragraphs_with_triplets.append(p)\n",
    "    row['paragraphs'] = paragraphs_with_triplets\n",
    "    return row\n",
    "\n",
    "df_only_triplets = df.apply(replace_paragraphs, axis=1) \n",
    "df_only_triplets.head()\n",
    "print(df_only_triplets.iloc[0]['paragraphs'][2]['paragraph_text'])"
   ]
  },
  {
   "cell_type": "code",
   "execution_count": 20,
   "metadata": {},
   "outputs": [
    {
     "data": {
      "application/vnd.jupyter.widget-view+json": {
       "model_id": "3fb3f1e8bba04cf885bf2219587fc48b",
       "version_major": 2,
       "version_minor": 0
      },
      "text/plain": [
       "  0%|          | 0/100 [00:00<?, ?it/s]"
      ]
     },
     "metadata": {},
     "output_type": "display_data"
    },
    {
     "name": "stdout",
     "output_type": "stream",
     "text": [
      "{\n",
      "  \"exact_match\": 0.49,\n",
      "  \"f1\": 0.5863002291825821,\n",
      "  \"fuzzy_match\": 0.6\n",
      "}\n"
     ]
    }
   ],
   "source": [
    "_, scores = benchmark(df_only_triplets, qa_func, dummy_retrieval_func, ignore_errors=True)\n",
    "results.append({**scores, \"retrieval\": \"none\", \"context\": \"triplets\"})\n",
    "jprint(scores)"
   ]
  },
  {
   "cell_type": "code",
   "execution_count": 21,
   "metadata": {},
   "outputs": [
    {
     "data": {
      "application/vnd.jupyter.widget-view+json": {
       "model_id": "ccd9883a1c9440c6bc13aadb3a1edb5c",
       "version_major": 2,
       "version_minor": 0
      },
      "text/plain": [
       "  0%|          | 0/100 [00:00<?, ?it/s]"
      ]
     },
     "metadata": {},
     "output_type": "display_data"
    },
    {
     "name": "stdout",
     "output_type": "stream",
     "text": [
      "{\n",
      "  \"exact_match\": 0.58,\n",
      "  \"f1\": 0.6773175451998981,\n",
      "  \"fuzzy_match\": 0.7\n",
      "}\n"
     ]
    }
   ],
   "source": [
    "_, scores = benchmark(df_only_triplets, qa_func, perfect_retrieval_func, ignore_errors=True)\n",
    "results.append({**scores, \"retrieval\": \"groundtruth\", \"context\": \"triplets\"})\n",
    "jprint(scores)"
   ]
  },
  {
   "cell_type": "markdown",
   "metadata": {},
   "source": [
    "# Report"
   ]
  },
  {
   "cell_type": "code",
   "execution_count": 22,
   "metadata": {},
   "outputs": [
    {
     "data": {
      "text/html": [
       "<div>\n",
       "<style scoped>\n",
       "    .dataframe tbody tr th:only-of-type {\n",
       "        vertical-align: middle;\n",
       "    }\n",
       "\n",
       "    .dataframe tbody tr th {\n",
       "        vertical-align: top;\n",
       "    }\n",
       "\n",
       "    .dataframe thead th {\n",
       "        text-align: right;\n",
       "    }\n",
       "</style>\n",
       "<table border=\"1\" class=\"dataframe\">\n",
       "  <thead>\n",
       "    <tr style=\"text-align: right;\">\n",
       "      <th></th>\n",
       "      <th>context</th>\n",
       "      <th>retrieval</th>\n",
       "      <th>exact_match</th>\n",
       "      <th>fuzzy_match</th>\n",
       "      <th>f1</th>\n",
       "    </tr>\n",
       "  </thead>\n",
       "  <tbody>\n",
       "    <tr>\n",
       "      <th>0</th>\n",
       "      <td>paragraphs</td>\n",
       "      <td>none</td>\n",
       "      <td>0.57</td>\n",
       "      <td>0.70</td>\n",
       "      <td>0.683778</td>\n",
       "    </tr>\n",
       "    <tr>\n",
       "      <th>1</th>\n",
       "      <td>paragraphs</td>\n",
       "      <td>groundtruth</td>\n",
       "      <td>0.73</td>\n",
       "      <td>0.78</td>\n",
       "      <td>0.784494</td>\n",
       "    </tr>\n",
       "    <tr>\n",
       "      <th>2</th>\n",
       "      <td>paragraphs+triplets</td>\n",
       "      <td>none</td>\n",
       "      <td>0.55</td>\n",
       "      <td>0.62</td>\n",
       "      <td>0.622381</td>\n",
       "    </tr>\n",
       "    <tr>\n",
       "      <th>3</th>\n",
       "      <td>paragraphs+triplets</td>\n",
       "      <td>groundtruth</td>\n",
       "      <td>0.67</td>\n",
       "      <td>0.80</td>\n",
       "      <td>0.769407</td>\n",
       "    </tr>\n",
       "    <tr>\n",
       "      <th>4</th>\n",
       "      <td>triplets</td>\n",
       "      <td>none</td>\n",
       "      <td>0.49</td>\n",
       "      <td>0.60</td>\n",
       "      <td>0.586300</td>\n",
       "    </tr>\n",
       "    <tr>\n",
       "      <th>5</th>\n",
       "      <td>triplets</td>\n",
       "      <td>groundtruth</td>\n",
       "      <td>0.58</td>\n",
       "      <td>0.70</td>\n",
       "      <td>0.677318</td>\n",
       "    </tr>\n",
       "  </tbody>\n",
       "</table>\n",
       "</div>"
      ],
      "text/plain": [
       "               context    retrieval  exact_match  fuzzy_match        f1\n",
       "0           paragraphs         none         0.57         0.70  0.683778\n",
       "1           paragraphs  groundtruth         0.73         0.78  0.784494\n",
       "2  paragraphs+triplets         none         0.55         0.62  0.622381\n",
       "3  paragraphs+triplets  groundtruth         0.67         0.80  0.769407\n",
       "4             triplets         none         0.49         0.60  0.586300\n",
       "5             triplets  groundtruth         0.58         0.70  0.677318"
      ]
     },
     "execution_count": 22,
     "metadata": {},
     "output_type": "execute_result"
    }
   ],
   "source": [
    "report_df = pd.DataFrame.from_records(results, columns=['context', 'retrieval', 'exact_match', 'fuzzy_match', 'f1'])\n",
    "report_df"
   ]
  },
  {
   "cell_type": "code",
   "execution_count": 23,
   "metadata": {},
   "outputs": [],
   "source": [
    "from datetime import datetime\n",
    "suffix = datetime.utcnow().strftime(\"%Y%m%d-%H%M%S\")\n",
    "report_df.to_json(f'../../data/generated/musique-evaluation/baseline-report-{suffix}.jsonl', orient='records', lines=True)"
   ]
  },
  {
   "cell_type": "code",
   "execution_count": 24,
   "metadata": {},
   "outputs": [
    {
     "name": "stdout",
     "output_type": "stream",
     "text": [
      "| context             |   exact_match |   fuzzy_match |       f1 |\n",
      "|:--------------------|--------------:|--------------:|---------:|\n",
      "| paragraphs          |          0.57 |          0.7  | 0.683778 |\n",
      "| paragraphs+triplets |          0.55 |          0.62 | 0.622381 |\n",
      "| triplets            |          0.49 |          0.6  | 0.5863   |\n"
     ]
    }
   ],
   "source": [
    "print(report_df[report_df['retrieval']=='none'].drop(columns=['retrieval']).to_markdown(index=False))"
   ]
  },
  {
   "cell_type": "code",
   "execution_count": 25,
   "metadata": {},
   "outputs": [
    {
     "name": "stdout",
     "output_type": "stream",
     "text": [
      "| context             |   exact_match |   fuzzy_match |       f1 |\n",
      "|:--------------------|--------------:|--------------:|---------:|\n",
      "| paragraphs          |          0.73 |          0.78 | 0.784494 |\n",
      "| paragraphs+triplets |          0.67 |          0.8  | 0.769407 |\n",
      "| triplets            |          0.58 |          0.7  | 0.677318 |\n"
     ]
    }
   ],
   "source": [
    "print(report_df[report_df['retrieval']=='groundtruth'].drop(columns=['retrieval']).to_markdown(index=False))"
   ]
  },
  {
   "cell_type": "code",
   "execution_count": 26,
   "metadata": {},
   "outputs": [
    {
     "name": "stdout",
     "output_type": "stream",
     "text": [
      "| context   | exact_match   | fuzzy_match   | f1   |\n",
      "|-----------|---------------|---------------|------|\n"
     ]
    }
   ],
   "source": [
    "print(report_df[report_df['retrieval']=='bm25'].drop(columns=['retrieval']).to_markdown(index=False))"
   ]
  },
  {
   "cell_type": "code",
   "execution_count": 27,
   "metadata": {},
   "outputs": [
    {
     "name": "stdout",
     "output_type": "stream",
     "text": [
      "| context   | exact_match   | fuzzy_match   | f1   |\n",
      "|-----------|---------------|---------------|------|\n"
     ]
    }
   ],
   "source": [
    "print(report_df[report_df['retrieval']=='semantic'].drop(columns=['retrieval']).to_markdown(index=False))"
   ]
  },
  {
   "cell_type": "code",
   "execution_count": null,
   "metadata": {},
   "outputs": [],
   "source": []
  }
 ],
 "metadata": {
  "kernelspec": {
   "display_name": "python3",
   "language": "python",
   "name": "python3"
  },
  "language_info": {
   "codemirror_mode": {
    "name": "ipython",
    "version": 3
   },
   "file_extension": ".py",
   "mimetype": "text/x-python",
   "name": "python",
   "nbconvert_exporter": "python",
   "pygments_lexer": "ipython3",
   "version": "3.10.12"
  }
 },
 "nbformat": 4,
 "nbformat_minor": 4
}

{
 "cells": [
  {
   "cell_type": "markdown",
   "metadata": {},
   "source": [
    "# Multi-hop question answering with agent"
   ]
  },
  {
   "cell_type": "code",
   "execution_count": 1,
   "metadata": {},
   "outputs": [],
   "source": [
    "import logging\n",
    "logging.basicConfig(level=logging.INFO, format='%(asctime)s - %(name)s - %(levelname)s - %(message)s')"
   ]
  },
  {
   "cell_type": "code",
   "execution_count": 2,
   "metadata": {},
   "outputs": [
    {
     "data": {
      "text/plain": [
       "True"
      ]
     },
     "execution_count": 2,
     "metadata": {},
     "output_type": "execute_result"
    }
   ],
   "source": [
    "from dotenv import load_dotenv\n",
    "load_dotenv()"
   ]
  },
  {
   "cell_type": "code",
   "execution_count": 3,
   "metadata": {},
   "outputs": [],
   "source": [
    "import nest_asyncio\n",
    "nest_asyncio.apply()"
   ]
  },
  {
   "cell_type": "code",
   "execution_count": 4,
   "metadata": {},
   "outputs": [],
   "source": [
    "import os\n",
    "import random\n",
    "import warnings\n",
    "import json\n",
    "import types\n",
    "from pathlib import Path\n",
    "\n",
    "import pandas as pd\n",
    "from pydantic import BaseModel\n",
    "\n",
    "from bellem.text.utils import fuzzy_match\n",
    "from bellem.utils import generate_time_id, set_seed\n",
    "\n",
    "set_seed(42)"
   ]
  },
  {
   "cell_type": "code",
   "execution_count": 5,
   "metadata": {},
   "outputs": [],
   "source": [
    "from bellem.llama_index.data_structs.data_structs import patch_kg_data_struct\n",
    "from bellem.llama_index.graph_stores.kuzu import KuzuGraphStore\n",
    "from bellem.llama_index.indices.knowledge_graph.base import patch_knowledge_graph_index\n",
    "\n",
    "patch_kg_data_struct()\n",
    "patch_knowledge_graph_index()"
   ]
  },
  {
   "cell_type": "code",
   "execution_count": null,
   "metadata": {},
   "outputs": [],
   "source": [
    "DATA_DIR = Path(\"../../data/generated/musique-evaluation\")\n",
    "KG_DIRECTORY = DATA_DIR / 'knowledge-graphs'\n",
    "QA_DIRECTORY = DATA_DIR / 'question-answering'"
   ]
  },
  {
   "cell_type": "code",
   "execution_count": 7,
   "metadata": {},
   "outputs": [],
   "source": [
    "import kuzu\n",
    "from llama_index import ServiceContext, StorageContext, load_index_from_storage\n",
    "from llama_index.indices.knowledge_graph.retrievers import KGRetrieverMode\n",
    "\n",
    "\n",
    "def load_storage_context(example_id: str):\n",
    "    directory = KG_DIRECTORY / example_id\n",
    "    db = kuzu.Database(str(directory / \"kuzu\"))\n",
    "    graph_store = KuzuGraphStore(db)\n",
    "    storage_context = StorageContext.from_defaults(persist_dir=directory / \"index\", graph_store=graph_store)\n",
    "    return storage_context\n",
    "\n",
    "def load_index(example_id: str):\n",
    "    storage_context = load_storage_context(example_id)\n",
    "    return load_index_from_storage(\n",
    "        storage_context,\n",
    "        include_embeddings=True,\n",
    "    )\n"
   ]
  },
  {
   "cell_type": "code",
   "execution_count": 8,
   "metadata": {},
   "outputs": [
    {
     "data": {
      "text/html": [
       "<div>\n",
       "<style scoped>\n",
       "    .dataframe tbody tr th:only-of-type {\n",
       "        vertical-align: middle;\n",
       "    }\n",
       "\n",
       "    .dataframe tbody tr th {\n",
       "        vertical-align: top;\n",
       "    }\n",
       "\n",
       "    .dataframe thead th {\n",
       "        text-align: right;\n",
       "    }\n",
       "</style>\n",
       "<table border=\"1\" class=\"dataframe\">\n",
       "  <thead>\n",
       "    <tr style=\"text-align: right;\">\n",
       "      <th></th>\n",
       "      <th>id</th>\n",
       "      <th>paragraphs</th>\n",
       "      <th>question</th>\n",
       "      <th>question_decomposition</th>\n",
       "      <th>answers</th>\n",
       "      <th>predicted_answer</th>\n",
       "      <th>exact_match</th>\n",
       "      <th>fuzzy_match</th>\n",
       "    </tr>\n",
       "    <tr>\n",
       "      <th>id</th>\n",
       "      <th></th>\n",
       "      <th></th>\n",
       "      <th></th>\n",
       "      <th></th>\n",
       "      <th></th>\n",
       "      <th></th>\n",
       "      <th></th>\n",
       "      <th></th>\n",
       "    </tr>\n",
       "  </thead>\n",
       "  <tbody>\n",
       "    <tr>\n",
       "      <th>2hop__128801_205185</th>\n",
       "      <td>2hop__128801_205185</td>\n",
       "      <td>[{'idx': 0, 'title': 'Pama, Burkina Faso', 'pa...</td>\n",
       "      <td>What county is the town where KNFM is licensed...</td>\n",
       "      <td>[{'id': 128801, 'question': 'What town is KNFM...</td>\n",
       "      <td>[Midland County, Midland County, Texas]</td>\n",
       "      <td>Midland County</td>\n",
       "      <td>True</td>\n",
       "      <td>True</td>\n",
       "    </tr>\n",
       "    <tr>\n",
       "      <th>2hop__719559_217649</th>\n",
       "      <td>2hop__719559_217649</td>\n",
       "      <td>[{'idx': 0, 'title': 'Antoine Marchand', 'para...</td>\n",
       "      <td>What's the record label of the artist who put ...</td>\n",
       "      <td>[{'id': 719559, 'question': 'Me and Julio Down...</td>\n",
       "      <td>[Warner Bros.]</td>\n",
       "      <td>Columbia Records</td>\n",
       "      <td>False</td>\n",
       "      <td>False</td>\n",
       "    </tr>\n",
       "    <tr>\n",
       "      <th>2hop__128806_205185</th>\n",
       "      <td>2hop__128806_205185</td>\n",
       "      <td>[{'idx': 0, 'title': 'Spanish Town', 'paragrap...</td>\n",
       "      <td>What region is the town where KQRX is liscense...</td>\n",
       "      <td>[{'id': 128806, 'question': 'What town is KQRX...</td>\n",
       "      <td>[Midland County, Midland County, Texas]</td>\n",
       "      <td>Southern Plains</td>\n",
       "      <td>False</td>\n",
       "      <td>False</td>\n",
       "    </tr>\n",
       "    <tr>\n",
       "      <th>2hop__128895_11424</th>\n",
       "      <td>2hop__128895_11424</td>\n",
       "      <td>[{'idx': 0, 'title': 'Ehrhardt, South Carolina...</td>\n",
       "      <td>How many households were there in the town WPU...</td>\n",
       "      <td>[{'id': 128895, 'question': 'What town is WPUR...</td>\n",
       "      <td>[15,504]</td>\n",
       "      <td>15,504 households</td>\n",
       "      <td>False</td>\n",
       "      <td>True</td>\n",
       "    </tr>\n",
       "    <tr>\n",
       "      <th>2hop__143485_815489</th>\n",
       "      <td>2hop__143485_815489</td>\n",
       "      <td>[{'idx': 0, 'title': 'Boulevard Records (U.S.)...</td>\n",
       "      <td>What is the record label of the person who rec...</td>\n",
       "      <td>[{'id': 143485, 'question': 'Who recorded Some...</td>\n",
       "      <td>[Custard, Custard Records]</td>\n",
       "      <td>Custard Records</td>\n",
       "      <td>True</td>\n",
       "      <td>True</td>\n",
       "    </tr>\n",
       "  </tbody>\n",
       "</table>\n",
       "</div>"
      ],
      "text/plain": [
       "                                      id  \\\n",
       "id                                         \n",
       "2hop__128801_205185  2hop__128801_205185   \n",
       "2hop__719559_217649  2hop__719559_217649   \n",
       "2hop__128806_205185  2hop__128806_205185   \n",
       "2hop__128895_11424    2hop__128895_11424   \n",
       "2hop__143485_815489  2hop__143485_815489   \n",
       "\n",
       "                                                            paragraphs  \\\n",
       "id                                                                       \n",
       "2hop__128801_205185  [{'idx': 0, 'title': 'Pama, Burkina Faso', 'pa...   \n",
       "2hop__719559_217649  [{'idx': 0, 'title': 'Antoine Marchand', 'para...   \n",
       "2hop__128806_205185  [{'idx': 0, 'title': 'Spanish Town', 'paragrap...   \n",
       "2hop__128895_11424   [{'idx': 0, 'title': 'Ehrhardt, South Carolina...   \n",
       "2hop__143485_815489  [{'idx': 0, 'title': 'Boulevard Records (U.S.)...   \n",
       "\n",
       "                                                              question  \\\n",
       "id                                                                       \n",
       "2hop__128801_205185  What county is the town where KNFM is licensed...   \n",
       "2hop__719559_217649  What's the record label of the artist who put ...   \n",
       "2hop__128806_205185  What region is the town where KQRX is liscense...   \n",
       "2hop__128895_11424   How many households were there in the town WPU...   \n",
       "2hop__143485_815489  What is the record label of the person who rec...   \n",
       "\n",
       "                                                question_decomposition  \\\n",
       "id                                                                       \n",
       "2hop__128801_205185  [{'id': 128801, 'question': 'What town is KNFM...   \n",
       "2hop__719559_217649  [{'id': 719559, 'question': 'Me and Julio Down...   \n",
       "2hop__128806_205185  [{'id': 128806, 'question': 'What town is KQRX...   \n",
       "2hop__128895_11424   [{'id': 128895, 'question': 'What town is WPUR...   \n",
       "2hop__143485_815489  [{'id': 143485, 'question': 'Who recorded Some...   \n",
       "\n",
       "                                                     answers  \\\n",
       "id                                                             \n",
       "2hop__128801_205185  [Midland County, Midland County, Texas]   \n",
       "2hop__719559_217649                           [Warner Bros.]   \n",
       "2hop__128806_205185  [Midland County, Midland County, Texas]   \n",
       "2hop__128895_11424                                  [15,504]   \n",
       "2hop__143485_815489               [Custard, Custard Records]   \n",
       "\n",
       "                      predicted_answer  exact_match  fuzzy_match  \n",
       "id                                                                \n",
       "2hop__128801_205185     Midland County         True         True  \n",
       "2hop__719559_217649   Columbia Records        False        False  \n",
       "2hop__128806_205185    Southern Plains        False        False  \n",
       "2hop__128895_11424   15,504 households        False         True  \n",
       "2hop__143485_815489    Custard Records         True         True  "
      ]
     },
     "execution_count": 8,
     "metadata": {},
     "output_type": "execute_result"
    }
   ],
   "source": [
    "ds_df = pd.read_json(DATA_DIR / 'dataset.jsonl', orient='records', lines=True)\n",
    "comp_df = pd.read_json(DATA_DIR / 'answer-eval/comparisons.jsonl', orient='records', lines=True)\n",
    "df = pd.merge(ds_df.drop(columns=['answerable', 'answer', 'answer_aliases']), comp_df.drop(columns=['answerable', 'paragraphs', 'question_decomposition', 'question', 'answer', 'answer_aliases', 'answers']), on='id', suffixes=('', ''))\n",
    "df.set_index(\"id\", drop=False, inplace=True)\n",
    "df.head()"
   ]
  },
  {
   "cell_type": "code",
   "execution_count": 9,
   "metadata": {},
   "outputs": [],
   "source": [
    "def load_triplets(example):\n",
    "    id = example['id']\n",
    "    docs_filepath = DATA_DIR / f\"knowledge-graphs/{id}/documents.jsonl\"\n",
    "    if not docs_filepath.exists():\n",
    "        return []\n",
    "    triplets = []\n",
    "    with open(docs_filepath) as f:\n",
    "        for line in f:\n",
    "            doc = json.loads(line)\n",
    "            triplets.extend(doc['triplets'])\n",
    "    return triplets    "
   ]
  },
  {
   "cell_type": "code",
   "execution_count": 10,
   "metadata": {},
   "outputs": [],
   "source": [
    "df['triplets'] = df.apply(load_triplets, axis=1)"
   ]
  },
  {
   "cell_type": "code",
   "execution_count": 11,
   "metadata": {},
   "outputs": [
    {
     "data": {
      "text/html": [
       "<div>\n",
       "<style scoped>\n",
       "    .dataframe tbody tr th:only-of-type {\n",
       "        vertical-align: middle;\n",
       "    }\n",
       "\n",
       "    .dataframe tbody tr th {\n",
       "        vertical-align: top;\n",
       "    }\n",
       "\n",
       "    .dataframe thead th {\n",
       "        text-align: right;\n",
       "    }\n",
       "</style>\n",
       "<table border=\"1\" class=\"dataframe\">\n",
       "  <thead>\n",
       "    <tr style=\"text-align: right;\">\n",
       "      <th></th>\n",
       "      <th>id</th>\n",
       "      <th>paragraphs</th>\n",
       "      <th>question</th>\n",
       "      <th>question_decomposition</th>\n",
       "      <th>answers</th>\n",
       "      <th>predicted_answer</th>\n",
       "      <th>exact_match</th>\n",
       "      <th>fuzzy_match</th>\n",
       "      <th>triplets</th>\n",
       "    </tr>\n",
       "    <tr>\n",
       "      <th>id</th>\n",
       "      <th></th>\n",
       "      <th></th>\n",
       "      <th></th>\n",
       "      <th></th>\n",
       "      <th></th>\n",
       "      <th></th>\n",
       "      <th></th>\n",
       "      <th></th>\n",
       "      <th></th>\n",
       "    </tr>\n",
       "  </thead>\n",
       "  <tbody>\n",
       "    <tr>\n",
       "      <th>2hop__128801_205185</th>\n",
       "      <td>2hop__128801_205185</td>\n",
       "      <td>[{'idx': 0, 'title': 'Pama, Burkina Faso', 'pa...</td>\n",
       "      <td>What county is the town where KNFM is licensed...</td>\n",
       "      <td>[{'id': 128801, 'question': 'What town is KNFM...</td>\n",
       "      <td>[Midland County, Midland County, Texas]</td>\n",
       "      <td>Midland County</td>\n",
       "      <td>True</td>\n",
       "      <td>True</td>\n",
       "      <td>[]</td>\n",
       "    </tr>\n",
       "    <tr>\n",
       "      <th>2hop__719559_217649</th>\n",
       "      <td>2hop__719559_217649</td>\n",
       "      <td>[{'idx': 0, 'title': 'Antoine Marchand', 'para...</td>\n",
       "      <td>What's the record label of the artist who put ...</td>\n",
       "      <td>[{'id': 719559, 'question': 'Me and Julio Down...</td>\n",
       "      <td>[Warner Bros.]</td>\n",
       "      <td>Columbia Records</td>\n",
       "      <td>False</td>\n",
       "      <td>False</td>\n",
       "      <td>[]</td>\n",
       "    </tr>\n",
       "    <tr>\n",
       "      <th>2hop__128806_205185</th>\n",
       "      <td>2hop__128806_205185</td>\n",
       "      <td>[{'idx': 0, 'title': 'Spanish Town', 'paragrap...</td>\n",
       "      <td>What region is the town where KQRX is liscense...</td>\n",
       "      <td>[{'id': 128806, 'question': 'What town is KQRX...</td>\n",
       "      <td>[Midland County, Midland County, Texas]</td>\n",
       "      <td>Southern Plains</td>\n",
       "      <td>False</td>\n",
       "      <td>False</td>\n",
       "      <td>[]</td>\n",
       "    </tr>\n",
       "    <tr>\n",
       "      <th>2hop__128895_11424</th>\n",
       "      <td>2hop__128895_11424</td>\n",
       "      <td>[{'idx': 0, 'title': 'Ehrhardt, South Carolina...</td>\n",
       "      <td>How many households were there in the town WPU...</td>\n",
       "      <td>[{'id': 128895, 'question': 'What town is WPUR...</td>\n",
       "      <td>[15,504]</td>\n",
       "      <td>15,504 households</td>\n",
       "      <td>False</td>\n",
       "      <td>True</td>\n",
       "      <td>[]</td>\n",
       "    </tr>\n",
       "    <tr>\n",
       "      <th>2hop__143485_815489</th>\n",
       "      <td>2hop__143485_815489</td>\n",
       "      <td>[{'idx': 0, 'title': 'Boulevard Records (U.S.)...</td>\n",
       "      <td>What is the record label of the person who rec...</td>\n",
       "      <td>[{'id': 143485, 'question': 'Who recorded Some...</td>\n",
       "      <td>[Custard, Custard Records]</td>\n",
       "      <td>Custard Records</td>\n",
       "      <td>True</td>\n",
       "      <td>True</td>\n",
       "      <td>[]</td>\n",
       "    </tr>\n",
       "  </tbody>\n",
       "</table>\n",
       "</div>"
      ],
      "text/plain": [
       "                                      id  \\\n",
       "id                                         \n",
       "2hop__128801_205185  2hop__128801_205185   \n",
       "2hop__719559_217649  2hop__719559_217649   \n",
       "2hop__128806_205185  2hop__128806_205185   \n",
       "2hop__128895_11424    2hop__128895_11424   \n",
       "2hop__143485_815489  2hop__143485_815489   \n",
       "\n",
       "                                                            paragraphs  \\\n",
       "id                                                                       \n",
       "2hop__128801_205185  [{'idx': 0, 'title': 'Pama, Burkina Faso', 'pa...   \n",
       "2hop__719559_217649  [{'idx': 0, 'title': 'Antoine Marchand', 'para...   \n",
       "2hop__128806_205185  [{'idx': 0, 'title': 'Spanish Town', 'paragrap...   \n",
       "2hop__128895_11424   [{'idx': 0, 'title': 'Ehrhardt, South Carolina...   \n",
       "2hop__143485_815489  [{'idx': 0, 'title': 'Boulevard Records (U.S.)...   \n",
       "\n",
       "                                                              question  \\\n",
       "id                                                                       \n",
       "2hop__128801_205185  What county is the town where KNFM is licensed...   \n",
       "2hop__719559_217649  What's the record label of the artist who put ...   \n",
       "2hop__128806_205185  What region is the town where KQRX is liscense...   \n",
       "2hop__128895_11424   How many households were there in the town WPU...   \n",
       "2hop__143485_815489  What is the record label of the person who rec...   \n",
       "\n",
       "                                                question_decomposition  \\\n",
       "id                                                                       \n",
       "2hop__128801_205185  [{'id': 128801, 'question': 'What town is KNFM...   \n",
       "2hop__719559_217649  [{'id': 719559, 'question': 'Me and Julio Down...   \n",
       "2hop__128806_205185  [{'id': 128806, 'question': 'What town is KQRX...   \n",
       "2hop__128895_11424   [{'id': 128895, 'question': 'What town is WPUR...   \n",
       "2hop__143485_815489  [{'id': 143485, 'question': 'Who recorded Some...   \n",
       "\n",
       "                                                     answers  \\\n",
       "id                                                             \n",
       "2hop__128801_205185  [Midland County, Midland County, Texas]   \n",
       "2hop__719559_217649                           [Warner Bros.]   \n",
       "2hop__128806_205185  [Midland County, Midland County, Texas]   \n",
       "2hop__128895_11424                                  [15,504]   \n",
       "2hop__143485_815489               [Custard, Custard Records]   \n",
       "\n",
       "                      predicted_answer  exact_match  fuzzy_match triplets  \n",
       "id                                                                         \n",
       "2hop__128801_205185     Midland County         True         True       []  \n",
       "2hop__719559_217649   Columbia Records        False        False       []  \n",
       "2hop__128806_205185    Southern Plains        False        False       []  \n",
       "2hop__128895_11424   15,504 households        False         True       []  \n",
       "2hop__143485_815489    Custard Records         True         True       []  "
      ]
     },
     "execution_count": 11,
     "metadata": {},
     "output_type": "execute_result"
    }
   ],
   "source": [
    "df.head()"
   ]
  },
  {
   "cell_type": "code",
   "execution_count": 12,
   "metadata": {},
   "outputs": [],
   "source": [
    "import textwrap\n",
    "\n",
    "def format_paragraph(paragraph):\n",
    "    return f\"Paragraph {paragraph['idx']} - {paragraph['paragraph_text']}\"\n",
    "\n",
    "def present_row(row):\n",
    "    print(row['id'])\n",
    "    print()\n",
    "    print(\"Success\" if row['fuzzy_match'] else \"Fail\")\n",
    "    print()\n",
    "    print(row['question'])\n",
    "    for item in row['question_decomposition']:\n",
    "        q = item['question']\n",
    "        a = item['answer']\n",
    "        print(f\"\\t{q}\")\n",
    "        print(f\"\\t\\t{a}\")\n",
    "    print()\n",
    "    print(f\"Prediction: {row['predicted_answer']}\")\n",
    "    print(f\"Reference: {row['answers']}\")\n",
    "    print()\n",
    "    for p in row['paragraphs']:\n",
    "        if p['is_supporting']:\n",
    "            for line in textwrap.wrap(format_paragraph(p), width=120):\n",
    "                print(line)\n",
    "            print()\n"
   ]
  },
  {
   "cell_type": "code",
   "execution_count": 13,
   "metadata": {},
   "outputs": [
    {
     "name": "stderr",
     "output_type": "stream",
     "text": [
      "2024-08-03 13:33:58,320 - phoenix.datasets.dataset - INFO - Dataset: phoenix_dataset_b44aaa4e-c0e7-401a-814c-232a37b522a0 initialized\n"
     ]
    }
   ],
   "source": [
    "import phoenix as px\n",
    "from phoenix import TraceDataset\n",
    "from phoenix.trace.utils import json_lines_to_df\n",
    "\n",
    "\n",
    "def get_trace_dataset(filepath: Path):\n",
    "    with open(filepath) as f:\n",
    "        lines = [line for line in f.readlines() if line.strip()]\n",
    "    return TraceDataset(json_lines_to_df(lines))\n",
    "\n",
    "\n",
    "def launch_phoenix(example_id: str):\n",
    "    filepath = QA_DIRECTORY / example_id / \"traces.jsonl\"\n",
    "    return px.launch_app(trace=get_trace_dataset(filepath), notebook_environment='local')"
   ]
  },
  {
   "cell_type": "code",
   "execution_count": 14,
   "metadata": {},
   "outputs": [],
   "source": [
    "from IPython.display import display, HTML\n",
    "\n",
    "def display_knowledge_graph(example_id: str):\n",
    "    kg_path = KG_DIRECTORY / example_id /  \"kuzu-network.html\"\n",
    "    display(HTML(kg_path.read_text()))\n",
    "    return kg_path"
   ]
  },
  {
   "cell_type": "code",
   "execution_count": 15,
   "metadata": {},
   "outputs": [],
   "source": [
    "def report_success(dataf):\n",
    "    fail_dataf = dataf.loc[~dataf['fuzzy_match']]\n",
    "    success_dataf = dataf.loc[dataf['fuzzy_match']]\n",
    "    print(len(success_dataf), len(fail_dataf))\n",
    "    print(f\"{len(success_dataf)/len(dataf):.2f}\", f\"{len(fail_dataf)/len(dataf):.2f}\")\n",
    "    return success_dataf, fail_dataf"
   ]
  },
  {
   "cell_type": "code",
   "execution_count": 16,
   "metadata": {},
   "outputs": [
    {
     "name": "stdout",
     "output_type": "stream",
     "text": [
      "763 229\n",
      "0.77 0.23\n"
     ]
    }
   ],
   "source": [
    "success_df, fail_df = report_success(df)"
   ]
  },
  {
   "cell_type": "code",
   "execution_count": 17,
   "metadata": {},
   "outputs": [
    {
     "name": "stdout",
     "output_type": "stream",
     "text": [
      "2hop__635132_754802\n",
      "\n",
      "Fail\n",
      "\n",
      "What area shares border with the region that contains Washington Township?\n",
      "\tWashington Township >> located in the administrative territorial entity\n",
      "\t\tHenry County\n",
      "\t#1 >> shares border with\n",
      "\t\tFranklin County\n",
      "\n",
      "Prediction: Turkeycock Wildlife Management Area\n",
      "Reference: ['Franklin County']\n",
      "\n",
      "Paragraph 13 - Washington Township is one of the thirteen townships of Henry County, Ohio, United States. As of the 2010\n",
      "census the population was 1,912, of whom 1,794 lived in the unincorporated portion of the township.\n",
      "\n",
      "Paragraph 16 - Turkeycock Mountain is a mountain summit located in Franklin County, Virginia and Henry County, Virginia.\n",
      "Rising out of the eastern foothills of the Blue Ridge Mountains, Turkeycock Mountain rises to above sea level and is\n",
      "located at . A portion of the mountain is protected as the Turkeycock Wildlife Management Area, which is open to the\n",
      "public.\n",
      "\n"
     ]
    },
    {
     "ename": "FileNotFoundError",
     "evalue": "[Errno 2] No such file or directory: '../../data/generated/musique-training/knowledge-graphs/2hop__635132_754802/kuzu-network.html'",
     "output_type": "error",
     "traceback": [
      "\u001b[0;31m---------------------------------------------------------------------------\u001b[0m",
      "\u001b[0;31mFileNotFoundError\u001b[0m                         Traceback (most recent call last)",
      "Cell \u001b[0;32mIn[17], line 6\u001b[0m\n\u001b[1;32m      4\u001b[0m sub_questions \u001b[38;5;241m=\u001b[39m [item[\u001b[38;5;124m\"\u001b[39m\u001b[38;5;124mquestion\u001b[39m\u001b[38;5;124m\"\u001b[39m] \u001b[38;5;28;01mfor\u001b[39;00m item \u001b[38;5;129;01min\u001b[39;00m row[\u001b[38;5;124m\"\u001b[39m\u001b[38;5;124mquestion_decomposition\u001b[39m\u001b[38;5;124m\"\u001b[39m]]\n\u001b[1;32m      5\u001b[0m present_row(row)\n\u001b[0;32m----> 6\u001b[0m kg_path \u001b[38;5;241m=\u001b[39m \u001b[43mdisplay_knowledge_graph\u001b[49m\u001b[43m(\u001b[49m\u001b[43mexample_id\u001b[49m\u001b[43m)\u001b[49m\n\u001b[1;32m      7\u001b[0m phoenix_session \u001b[38;5;241m=\u001b[39m launch_phoenix(example_id)\n\u001b[1;32m      8\u001b[0m phoenix_session\u001b[38;5;241m.\u001b[39mview()\n",
      "Cell \u001b[0;32mIn[14], line 5\u001b[0m, in \u001b[0;36mdisplay_knowledge_graph\u001b[0;34m(example_id)\u001b[0m\n\u001b[1;32m      3\u001b[0m \u001b[38;5;28;01mdef\u001b[39;00m \u001b[38;5;21mdisplay_knowledge_graph\u001b[39m(example_id: \u001b[38;5;28mstr\u001b[39m):\n\u001b[1;32m      4\u001b[0m     kg_path \u001b[38;5;241m=\u001b[39m KG_DIRECTORY \u001b[38;5;241m/\u001b[39m example_id \u001b[38;5;241m/\u001b[39m  \u001b[38;5;124m\"\u001b[39m\u001b[38;5;124mkuzu-network.html\u001b[39m\u001b[38;5;124m\"\u001b[39m\n\u001b[0;32m----> 5\u001b[0m     display(HTML(\u001b[43mkg_path\u001b[49m\u001b[38;5;241;43m.\u001b[39;49m\u001b[43mread_text\u001b[49m\u001b[43m(\u001b[49m\u001b[43m)\u001b[49m))\n\u001b[1;32m      6\u001b[0m     \u001b[38;5;28;01mreturn\u001b[39;00m kg_path\n",
      "File \u001b[0;32m~/.pyenv/versions/3.10.12/lib/python3.10/pathlib.py:1134\u001b[0m, in \u001b[0;36mPath.read_text\u001b[0;34m(self, encoding, errors)\u001b[0m\n\u001b[1;32m   1130\u001b[0m \u001b[38;5;250m\u001b[39m\u001b[38;5;124;03m\"\"\"\u001b[39;00m\n\u001b[1;32m   1131\u001b[0m \u001b[38;5;124;03mOpen the file in text mode, read it, and close the file.\u001b[39;00m\n\u001b[1;32m   1132\u001b[0m \u001b[38;5;124;03m\"\"\"\u001b[39;00m\n\u001b[1;32m   1133\u001b[0m encoding \u001b[38;5;241m=\u001b[39m io\u001b[38;5;241m.\u001b[39mtext_encoding(encoding)\n\u001b[0;32m-> 1134\u001b[0m \u001b[38;5;28;01mwith\u001b[39;00m \u001b[38;5;28;43mself\u001b[39;49m\u001b[38;5;241;43m.\u001b[39;49m\u001b[43mopen\u001b[49m\u001b[43m(\u001b[49m\u001b[43mmode\u001b[49m\u001b[38;5;241;43m=\u001b[39;49m\u001b[38;5;124;43m'\u001b[39;49m\u001b[38;5;124;43mr\u001b[39;49m\u001b[38;5;124;43m'\u001b[39;49m\u001b[43m,\u001b[49m\u001b[43m \u001b[49m\u001b[43mencoding\u001b[49m\u001b[38;5;241;43m=\u001b[39;49m\u001b[43mencoding\u001b[49m\u001b[43m,\u001b[49m\u001b[43m \u001b[49m\u001b[43merrors\u001b[49m\u001b[38;5;241;43m=\u001b[39;49m\u001b[43merrors\u001b[49m\u001b[43m)\u001b[49m \u001b[38;5;28;01mas\u001b[39;00m f:\n\u001b[1;32m   1135\u001b[0m     \u001b[38;5;28;01mreturn\u001b[39;00m f\u001b[38;5;241m.\u001b[39mread()\n",
      "File \u001b[0;32m~/.pyenv/versions/3.10.12/lib/python3.10/pathlib.py:1119\u001b[0m, in \u001b[0;36mPath.open\u001b[0;34m(self, mode, buffering, encoding, errors, newline)\u001b[0m\n\u001b[1;32m   1117\u001b[0m \u001b[38;5;28;01mif\u001b[39;00m \u001b[38;5;124m\"\u001b[39m\u001b[38;5;124mb\u001b[39m\u001b[38;5;124m\"\u001b[39m \u001b[38;5;129;01mnot\u001b[39;00m \u001b[38;5;129;01min\u001b[39;00m mode:\n\u001b[1;32m   1118\u001b[0m     encoding \u001b[38;5;241m=\u001b[39m io\u001b[38;5;241m.\u001b[39mtext_encoding(encoding)\n\u001b[0;32m-> 1119\u001b[0m \u001b[38;5;28;01mreturn\u001b[39;00m \u001b[38;5;28;43mself\u001b[39;49m\u001b[38;5;241;43m.\u001b[39;49m\u001b[43m_accessor\u001b[49m\u001b[38;5;241;43m.\u001b[39;49m\u001b[43mopen\u001b[49m\u001b[43m(\u001b[49m\u001b[38;5;28;43mself\u001b[39;49m\u001b[43m,\u001b[49m\u001b[43m \u001b[49m\u001b[43mmode\u001b[49m\u001b[43m,\u001b[49m\u001b[43m \u001b[49m\u001b[43mbuffering\u001b[49m\u001b[43m,\u001b[49m\u001b[43m \u001b[49m\u001b[43mencoding\u001b[49m\u001b[43m,\u001b[49m\u001b[43m \u001b[49m\u001b[43merrors\u001b[49m\u001b[43m,\u001b[49m\n\u001b[1;32m   1120\u001b[0m \u001b[43m                           \u001b[49m\u001b[43mnewline\u001b[49m\u001b[43m)\u001b[49m\n",
      "\u001b[0;31mFileNotFoundError\u001b[0m: [Errno 2] No such file or directory: '../../data/generated/musique-training/knowledge-graphs/2hop__635132_754802/kuzu-network.html'"
     ]
    }
   ],
   "source": [
    "example_id = random.choice(fail_df.index)\n",
    "# example_id = \"2hop__197090_126045\"\n",
    "row = df.loc[example_id]\n",
    "sub_questions = [item[\"question\"] for item in row[\"question_decomposition\"]]\n",
    "present_row(row)\n",
    "kg_path = display_knowledge_graph(example_id)\n",
    "phoenix_session = launch_phoenix(example_id)\n",
    "phoenix_session.view()"
   ]
  },
  {
   "cell_type": "markdown",
   "metadata": {},
   "source": [
    "## Debug"
   ]
  },
  {
   "cell_type": "code",
   "execution_count": null,
   "metadata": {},
   "outputs": [
    {
     "name": "stderr",
     "output_type": "stream",
     "text": [
      "2024-06-30 20:51:34,644 - llama_index.indices.loading - INFO - Loading all indices.\n"
     ]
    }
   ],
   "source": [
    "index = load_index(example_id)\n",
    "retriever = index.as_retriever(\n",
    "    retriever_mode=KGRetrieverMode.HYBRID,\n",
    "    include_text=False,\n",
    "    verbose=True,\n",
    ")"
   ]
  },
  {
   "cell_type": "code",
   "execution_count": null,
   "metadata": {},
   "outputs": [],
   "source": [
    "keyword = \"Tom Denney\""
   ]
  },
  {
   "cell_type": "code",
   "execution_count": null,
   "metadata": {},
   "outputs": [
    {
     "name": "stderr",
     "output_type": "stream",
     "text": [
      "2024-06-30 20:51:36,461 - httpx - INFO - HTTP Request: POST http://localhost:8111/chat/completions \"HTTP/1.1 200 OK\"\n",
      "2024-06-30 20:51:36,580 - bellem.llama_index.indices.knowledge_graph.retrievers - WARNING - Index was not constructed with embeddings, skipping embedding usage...\n"
     ]
    },
    {
     "name": "stdout",
     "output_type": "stream",
     "text": [
      "\u001b[1;3;32mExtracted keywords: ['Tom Denney', 'Tom', 'Denney']\n",
      "\u001b[0m\u001b[1;3;34mKG context:\n",
      "The following are knowledge sequence in max depth 2 in the form of directed graph like:\n",
      "`subject -[predicate]->, object, <-[predicate_next_hop]-, object_next_hop ...`\n",
      "['Shelby High School', 'member of', 'Northern Ohio League (1944-2017)']\n",
      "['Shelby High School', 'member of', 'Sandusky Bay Conference (2017-)']\n",
      "['Hanna Theatre', 'renovation by', 'Great Lakes Theater Festival']\n",
      "['Shelby High School', 'location', 'Shelby, Ohio, United States']\n",
      "['Shelby High School', 'part of', 'Shelby City School District']\n",
      "['Shelby High School', 'serves', 'students in grades 9-12']\n",
      "['Hanna Theatre', 'type', 'classic theater company']\n",
      "['Hanna Theatre', 'location', 'downtown Cleveland']\n",
      "['Hanna Theatre', 'opening date', 'March 28, 1921']\n",
      "['Hanna Theatre', 'location', 'Playhouse Square']\n",
      "['Hanna Theatre', 'location', 'United States']\n",
      "['Hanna Theatre', 'reopening date', '2008']\n",
      "['Hanna Theatre', 'location', 'Ohio']\n",
      "\u001b[0m"
     ]
    }
   ],
   "source": [
    "nodes = retriever.retrieve(keyword)"
   ]
  },
  {
   "cell_type": "code",
   "execution_count": null,
   "metadata": {},
   "outputs": [
    {
     "data": {
      "text/plain": [
       "1"
      ]
     },
     "execution_count": null,
     "metadata": {},
     "output_type": "execute_result"
    }
   ],
   "source": [
    "len(nodes)"
   ]
  },
  {
   "cell_type": "code",
   "execution_count": null,
   "metadata": {},
   "outputs": [
    {
     "data": {
      "text/plain": [
       "[\"['Shelby High School', 'member of', 'Northern Ohio League (1944-2017)']\",\n",
       " \"['Shelby High School', 'member of', 'Sandusky Bay Conference (2017-)']\",\n",
       " \"['Hanna Theatre', 'renovation by', 'Great Lakes Theater Festival']\",\n",
       " \"['Shelby High School', 'location', 'Shelby, Ohio, United States']\",\n",
       " \"['Shelby High School', 'part of', 'Shelby City School District']\",\n",
       " \"['Shelby High School', 'serves', 'students in grades 9-12']\",\n",
       " \"['Hanna Theatre', 'type', 'classic theater company']\",\n",
       " \"['Hanna Theatre', 'location', 'downtown Cleveland']\",\n",
       " \"['Hanna Theatre', 'opening date', 'March 28, 1921']\",\n",
       " \"['Hanna Theatre', 'location', 'Playhouse Square']\",\n",
       " \"['Hanna Theatre', 'location', 'United States']\",\n",
       " \"['Hanna Theatre', 'reopening date', '2008']\",\n",
       " \"['Hanna Theatre', 'location', 'Ohio']\"]"
      ]
     },
     "execution_count": null,
     "metadata": {},
     "output_type": "execute_result"
    }
   ],
   "source": [
    "nodes[0].metadata['kg_rel_texts']"
   ]
  },
  {
   "cell_type": "code",
   "execution_count": null,
   "metadata": {},
   "outputs": [
    {
     "ename": "NameError",
     "evalue": "name 'jerx_inference_df' is not defined",
     "output_type": "error",
     "traceback": [
      "\u001b[0;31m---------------------------------------------------------------------------\u001b[0m",
      "\u001b[0;31mNameError\u001b[0m                                 Traceback (most recent call last)",
      "Cell \u001b[0;32mIn[23], line 1\u001b[0m\n\u001b[0;32m----> 1\u001b[0m \u001b[38;5;28;01mfor\u001b[39;00m _, row \u001b[38;5;129;01min\u001b[39;00m \u001b[43mjerx_inference_df\u001b[49m\u001b[38;5;241m.\u001b[39mloc[example_id]\u001b[38;5;241m.\u001b[39miterrows():\n\u001b[1;32m      2\u001b[0m     \u001b[38;5;28;01mif\u001b[39;00m \u001b[38;5;129;01mnot\u001b[39;00m row[\u001b[38;5;124m'\u001b[39m\u001b[38;5;124mis_supporting\u001b[39m\u001b[38;5;124m'\u001b[39m]:\n\u001b[1;32m      3\u001b[0m         \u001b[38;5;28;01mcontinue\u001b[39;00m\n",
      "\u001b[0;31mNameError\u001b[0m: name 'jerx_inference_df' is not defined"
     ]
    }
   ],
   "source": [
    "for _, row in jerx_inference_df.loc[example_id].iterrows():\n",
    "    if not row['is_supporting']:\n",
    "        continue\n",
    "    print(row['text'])\n",
    "    print('-'*80)\n",
    "    print(row['generation'])\n",
    "    print('='*80)"
   ]
  },
  {
   "cell_type": "code",
   "execution_count": null,
   "metadata": {},
   "outputs": [],
   "source": []
  },
  {
   "cell_type": "code",
   "execution_count": null,
   "metadata": {},
   "outputs": [],
   "source": [
    "retriever._index_struct.search_node_by_keyword(keyword)"
   ]
  },
  {
   "cell_type": "code",
   "execution_count": null,
   "metadata": {},
   "outputs": [],
   "source": [
    "retriever._index_struct.table"
   ]
  },
  {
   "cell_type": "code",
   "execution_count": null,
   "metadata": {},
   "outputs": [],
   "source": []
  }
 ],
 "metadata": {
  "kernelspec": {
   "display_name": "python3",
   "language": "python",
   "name": "python3"
  },
  "language_info": {
   "codemirror_mode": {
    "name": "ipython",
    "version": 3
   },
   "file_extension": ".py",
   "mimetype": "text/x-python",
   "name": "python",
   "nbconvert_exporter": "python",
   "pygments_lexer": "ipython3",
   "version": "3.10.12"
  }
 },
 "nbformat": 4,
 "nbformat_minor": 4
}

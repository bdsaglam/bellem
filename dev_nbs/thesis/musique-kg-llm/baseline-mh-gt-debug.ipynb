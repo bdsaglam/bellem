{
 "cells": [
  {
   "cell_type": "code",
   "execution_count": 1,
   "metadata": {},
   "outputs": [
    {
     "data": {
      "text/plain": [
       "True"
      ]
     },
     "execution_count": 1,
     "metadata": {},
     "output_type": "execute_result"
    }
   ],
   "source": [
    "from dotenv import load_dotenv\n",
    "load_dotenv()"
   ]
  },
  {
   "cell_type": "code",
   "execution_count": 2,
   "metadata": {},
   "outputs": [],
   "source": [
    "import json\n",
    "import pandas as pd\n",
    "from pathlib import Path\n",
    "from copy import deepcopy\n",
    "from functools import partial\n",
    "\n",
    "from bellem.qa.llm import make_question_answer_func\n",
    "from bellem.utils import set_seed, jprint\n",
    "from bellem.musique.multihop import benchmark\n",
    "\n",
    "set_seed(89)"
   ]
  },
  {
   "cell_type": "code",
   "execution_count": 3,
   "metadata": {},
   "outputs": [],
   "source": [
    "from tqdm.auto import tqdm\n",
    "tqdm.pandas()"
   ]
  },
  {
   "cell_type": "code",
   "execution_count": 4,
   "metadata": {},
   "outputs": [],
   "source": [
    "def silence(exc_cls):\n",
    "    def decorator(func):\n",
    "        def wrapper(*args, **kwargs):\n",
    "            try:\n",
    "                return func(*args, **kwargs)\n",
    "            except exc_cls as e:\n",
    "                return None\n",
    "        return wrapper\n",
    "    return decorator"
   ]
  },
  {
   "cell_type": "code",
   "execution_count": 5,
   "metadata": {},
   "outputs": [
    {
     "name": "stdout",
     "output_type": "stream",
     "text": [
      "(100, 8)\n"
     ]
    },
    {
     "data": {
      "text/html": [
       "<div>\n",
       "<style scoped>\n",
       "    .dataframe tbody tr th:only-of-type {\n",
       "        vertical-align: middle;\n",
       "    }\n",
       "\n",
       "    .dataframe tbody tr th {\n",
       "        vertical-align: top;\n",
       "    }\n",
       "\n",
       "    .dataframe thead th {\n",
       "        text-align: right;\n",
       "    }\n",
       "</style>\n",
       "<table border=\"1\" class=\"dataframe\">\n",
       "  <thead>\n",
       "    <tr style=\"text-align: right;\">\n",
       "      <th></th>\n",
       "      <th>id</th>\n",
       "      <th>paragraphs</th>\n",
       "      <th>answer</th>\n",
       "      <th>answer_aliases</th>\n",
       "      <th>answerable</th>\n",
       "      <th>answers</th>\n",
       "      <th>question</th>\n",
       "      <th>question_decomposition</th>\n",
       "    </tr>\n",
       "  </thead>\n",
       "  <tbody>\n",
       "    <tr>\n",
       "      <th>0</th>\n",
       "      <td>2hop__143915_68489</td>\n",
       "      <td>[{'idx': 0, 'title': 'Daniel Goddard (actor)',...</td>\n",
       "      <td>Snapper Foster</td>\n",
       "      <td>[Snapper Foster]</td>\n",
       "      <td>True</td>\n",
       "      <td>[Snapper Foster]</td>\n",
       "      <td>who did the performer of Sings America play on...</td>\n",
       "      <td>[{'id': 143915, 'question': 'Who performed Sin...</td>\n",
       "    </tr>\n",
       "    <tr>\n",
       "      <th>1</th>\n",
       "      <td>2hop__642686_7292</td>\n",
       "      <td>[{'idx': 0, 'title': 'Borat's Television Progr...</td>\n",
       "      <td>George Benson</td>\n",
       "      <td>[George Benson]</td>\n",
       "      <td>True</td>\n",
       "      <td>[George Benson]</td>\n",
       "      <td>Along with Kenny G and the performer of Hello ...</td>\n",
       "      <td>[{'id': 642686, 'question': 'Who performed Hel...</td>\n",
       "    </tr>\n",
       "    <tr>\n",
       "      <th>2</th>\n",
       "      <td>2hop__391258_161450</td>\n",
       "      <td>[{'idx': 0, 'title': 'Karimabad-e Ayaghchi', '...</td>\n",
       "      <td>in the north-east of the country south of the ...</td>\n",
       "      <td>[Caspian Sea, in the north-east of the country...</td>\n",
       "      <td>True</td>\n",
       "      <td>[Caspian Sea, in the north-east of the country...</td>\n",
       "      <td>Where is the province that contains Maraveh Ta...</td>\n",
       "      <td>[{'id': 391258, 'question': 'Which province co...</td>\n",
       "    </tr>\n",
       "    <tr>\n",
       "      <th>3</th>\n",
       "      <td>2hop__549146_223121</td>\n",
       "      <td>[{'idx': 0, 'title': 'All Funked Up', 'paragra...</td>\n",
       "      <td>Asian Man Records</td>\n",
       "      <td>[Asian Man Records]</td>\n",
       "      <td>True</td>\n",
       "      <td>[Asian Man Records]</td>\n",
       "      <td>What record label did the person who is part o...</td>\n",
       "      <td>[{'id': 549146, 'question': 'Who is part of Th...</td>\n",
       "    </tr>\n",
       "    <tr>\n",
       "      <th>4</th>\n",
       "      <td>2hop__811015_3300</td>\n",
       "      <td>[{'idx': 0, 'title': 'Blue Bloods (season 7)',...</td>\n",
       "      <td>season three</td>\n",
       "      <td>[season three]</td>\n",
       "      <td>True</td>\n",
       "      <td>[season three]</td>\n",
       "      <td>What season was the performer of Blue Skies on?</td>\n",
       "      <td>[{'id': 811015, 'question': 'Who performed Blu...</td>\n",
       "    </tr>\n",
       "  </tbody>\n",
       "</table>\n",
       "</div>"
      ],
      "text/plain": [
       "                    id                                         paragraphs  \\\n",
       "0   2hop__143915_68489  [{'idx': 0, 'title': 'Daniel Goddard (actor)',...   \n",
       "1    2hop__642686_7292  [{'idx': 0, 'title': 'Borat's Television Progr...   \n",
       "2  2hop__391258_161450  [{'idx': 0, 'title': 'Karimabad-e Ayaghchi', '...   \n",
       "3  2hop__549146_223121  [{'idx': 0, 'title': 'All Funked Up', 'paragra...   \n",
       "4    2hop__811015_3300  [{'idx': 0, 'title': 'Blue Bloods (season 7)',...   \n",
       "\n",
       "                                              answer  \\\n",
       "0                                     Snapper Foster   \n",
       "1                                      George Benson   \n",
       "2  in the north-east of the country south of the ...   \n",
       "3                                  Asian Man Records   \n",
       "4                                       season three   \n",
       "\n",
       "                                      answer_aliases  answerable  \\\n",
       "0                                   [Snapper Foster]        True   \n",
       "1                                    [George Benson]        True   \n",
       "2  [Caspian Sea, in the north-east of the country...        True   \n",
       "3                                [Asian Man Records]        True   \n",
       "4                                     [season three]        True   \n",
       "\n",
       "                                             answers  \\\n",
       "0                                   [Snapper Foster]   \n",
       "1                                    [George Benson]   \n",
       "2  [Caspian Sea, in the north-east of the country...   \n",
       "3                                [Asian Man Records]   \n",
       "4                                     [season three]   \n",
       "\n",
       "                                            question  \\\n",
       "0  who did the performer of Sings America play on...   \n",
       "1  Along with Kenny G and the performer of Hello ...   \n",
       "2  Where is the province that contains Maraveh Ta...   \n",
       "3  What record label did the person who is part o...   \n",
       "4    What season was the performer of Blue Skies on?   \n",
       "\n",
       "                              question_decomposition  \n",
       "0  [{'id': 143915, 'question': 'Who performed Sin...  \n",
       "1  [{'id': 642686, 'question': 'Who performed Hel...  \n",
       "2  [{'id': 391258, 'question': 'Which province co...  \n",
       "3  [{'id': 549146, 'question': 'Who is part of Th...  \n",
       "4  [{'id': 811015, 'question': 'Who performed Blu...  "
      ]
     },
     "execution_count": 5,
     "metadata": {},
     "output_type": "execute_result"
    }
   ],
   "source": [
    "df = pd.read_json('../../data/generated/musique-evaluation/dataset.jsonl', orient='records', lines=True).iloc[100:200]\n",
    "qd_df = pd.read_json('../../data/generated/musique-evaluation/question-decomposition.jsonl', orient='records', lines=True)\n",
    "df = pd.merge(df.drop(columns=['question', 'question_decomposition']), qd_df, on='id', suffixes=('', ''))\n",
    "print(df.shape)\n",
    "df.head()"
   ]
  },
  {
   "cell_type": "code",
   "execution_count": 6,
   "metadata": {},
   "outputs": [
    {
     "data": {
      "text/html": [
       "<div>\n",
       "<style scoped>\n",
       "    .dataframe tbody tr th:only-of-type {\n",
       "        vertical-align: middle;\n",
       "    }\n",
       "\n",
       "    .dataframe tbody tr th {\n",
       "        vertical-align: top;\n",
       "    }\n",
       "\n",
       "    .dataframe thead th {\n",
       "        text-align: right;\n",
       "    }\n",
       "</style>\n",
       "<table border=\"1\" class=\"dataframe\">\n",
       "  <thead>\n",
       "    <tr style=\"text-align: right;\">\n",
       "      <th></th>\n",
       "      <th>id</th>\n",
       "      <th>paragraph_idx</th>\n",
       "      <th>paragraph_text</th>\n",
       "      <th>paragraph_title</th>\n",
       "      <th>is_supporting</th>\n",
       "      <th>text</th>\n",
       "      <th>input</th>\n",
       "      <th>generation</th>\n",
       "    </tr>\n",
       "  </thead>\n",
       "  <tbody>\n",
       "    <tr>\n",
       "      <th>0</th>\n",
       "      <td>2hop__131818_161450</td>\n",
       "      <td>0</td>\n",
       "      <td>Maria Carrillo High School is a public high sc...</td>\n",
       "      <td>Maria Carrillo High School</td>\n",
       "      <td>False</td>\n",
       "      <td># Maria Carrillo High School\\nMaria Carrillo H...</td>\n",
       "      <td>[{'content': 'You are an excellent knowledge g...</td>\n",
       "      <td>Maria Carrillo High School | location | Santa ...</td>\n",
       "    </tr>\n",
       "    <tr>\n",
       "      <th>1</th>\n",
       "      <td>2hop__131818_161450</td>\n",
       "      <td>1</td>\n",
       "      <td>Golestān Province (Persian: استان گلستان‎, Ost...</td>\n",
       "      <td>Golestan Province</td>\n",
       "      <td>True</td>\n",
       "      <td># Golestan Province\\nGolestān Province (Persia...</td>\n",
       "      <td>[{'content': 'You are an excellent knowledge g...</td>\n",
       "      <td>Golestan Province | location | north-east of I...</td>\n",
       "    </tr>\n",
       "    <tr>\n",
       "      <th>2</th>\n",
       "      <td>2hop__131818_161450</td>\n",
       "      <td>2</td>\n",
       "      <td>Voshmgir District () is a district (bakhsh) in...</td>\n",
       "      <td>Voshmgir District</td>\n",
       "      <td>True</td>\n",
       "      <td># Voshmgir District\\nVoshmgir District () is a...</td>\n",
       "      <td>[{'content': 'You are an excellent knowledge g...</td>\n",
       "      <td>Voshmgir District | location | Aqqala County, ...</td>\n",
       "    </tr>\n",
       "    <tr>\n",
       "      <th>3</th>\n",
       "      <td>2hop__131818_161450</td>\n",
       "      <td>3</td>\n",
       "      <td>52 Heroor is a village in the southern state o...</td>\n",
       "      <td>52 Heroor</td>\n",
       "      <td>False</td>\n",
       "      <td># 52 Heroor\\n52 Heroor is a village in the sou...</td>\n",
       "      <td>[{'content': 'You are an excellent knowledge g...</td>\n",
       "      <td>52 Heroor | location | Karnataka, India\\n52 He...</td>\n",
       "    </tr>\n",
       "    <tr>\n",
       "      <th>4</th>\n",
       "      <td>2hop__131818_161450</td>\n",
       "      <td>4</td>\n",
       "      <td>Vennaimalai is a village of Karur District loc...</td>\n",
       "      <td>Vennaimalai</td>\n",
       "      <td>False</td>\n",
       "      <td># Vennaimalai\\nVennaimalai is a village of Kar...</td>\n",
       "      <td>[{'content': 'You are an excellent knowledge g...</td>\n",
       "      <td>Vennaimalai | location | Karur District\\nVenna...</td>\n",
       "    </tr>\n",
       "  </tbody>\n",
       "</table>\n",
       "</div>"
      ],
      "text/plain": [
       "                    id  paragraph_idx  \\\n",
       "0  2hop__131818_161450              0   \n",
       "1  2hop__131818_161450              1   \n",
       "2  2hop__131818_161450              2   \n",
       "3  2hop__131818_161450              3   \n",
       "4  2hop__131818_161450              4   \n",
       "\n",
       "                                      paragraph_text  \\\n",
       "0  Maria Carrillo High School is a public high sc...   \n",
       "1  Golestān Province (Persian: استان گلستان‎, Ost...   \n",
       "2  Voshmgir District () is a district (bakhsh) in...   \n",
       "3  52 Heroor is a village in the southern state o...   \n",
       "4  Vennaimalai is a village of Karur District loc...   \n",
       "\n",
       "              paragraph_title  is_supporting  \\\n",
       "0  Maria Carrillo High School          False   \n",
       "1           Golestan Province           True   \n",
       "2           Voshmgir District           True   \n",
       "3                   52 Heroor          False   \n",
       "4                 Vennaimalai          False   \n",
       "\n",
       "                                                text  \\\n",
       "0  # Maria Carrillo High School\\nMaria Carrillo H...   \n",
       "1  # Golestan Province\\nGolestān Province (Persia...   \n",
       "2  # Voshmgir District\\nVoshmgir District () is a...   \n",
       "3  # 52 Heroor\\n52 Heroor is a village in the sou...   \n",
       "4  # Vennaimalai\\nVennaimalai is a village of Kar...   \n",
       "\n",
       "                                               input  \\\n",
       "0  [{'content': 'You are an excellent knowledge g...   \n",
       "1  [{'content': 'You are an excellent knowledge g...   \n",
       "2  [{'content': 'You are an excellent knowledge g...   \n",
       "3  [{'content': 'You are an excellent knowledge g...   \n",
       "4  [{'content': 'You are an excellent knowledge g...   \n",
       "\n",
       "                                          generation  \n",
       "0  Maria Carrillo High School | location | Santa ...  \n",
       "1  Golestan Province | location | north-east of I...  \n",
       "2  Voshmgir District | location | Aqqala County, ...  \n",
       "3  52 Heroor | location | Karnataka, India\\n52 He...  \n",
       "4  Vennaimalai | location | Karur District\\nVenna...  "
      ]
     },
     "execution_count": 6,
     "metadata": {},
     "output_type": "execute_result"
    }
   ],
   "source": [
    "jerx_file = Path(\"../../data/raw/musique-evaluation/jerx-inferences/llama3-base.jsonl\")\n",
    "jerx_df = pd.read_json(jerx_file, lines=True)\n",
    "jerx_df.head()"
   ]
  },
  {
   "cell_type": "code",
   "execution_count": 7,
   "metadata": {},
   "outputs": [],
   "source": [
    "from bellem.jerx.fewshot.llm import make_kg_triplet_extract_fn\n",
    "\n",
    "extract_kg_triplets = make_kg_triplet_extract_fn(model=\"gpt-4-turbo\")\n",
    "\n",
    "def extract_triplets(example: dict):\n",
    "    context = \"The triplets you extracted should help answering the following multi-hop question:\\n\" + example['question'] + \"\\n\\n\"\n",
    "    triplets = [triplet for p in example['paragraphs'] if p['is_supporting'] for triplet in extract_kg_triplets(context + p['paragraph_text'])]\n",
    "    example['triplets_str'] = '\\n'.join(' | '.join(triplet) for triplet in triplets)\n",
    "    return example"
   ]
  },
  {
   "cell_type": "code",
   "execution_count": 8,
   "metadata": {},
   "outputs": [],
   "source": [
    "# jerx_mapping = {(row['id'], row['paragraph_idx']): row['generation'] for _, row in jerx_df.iterrows()}\n",
    "\n",
    "# def extract_triplets(example: dict):\n",
    "#     example[\"triplets_str\"] = [jerx_mapping[(example['id'], p['idx'])].strip() for p in example['paragraphs']]\n",
    "#     example[\"triplets_str\"] = [triplets_str.replace(\"|\", \"|\") for triplets_str in example[\"triplets_str\"]]\n",
    "#     return example"
   ]
  },
  {
   "cell_type": "code",
   "execution_count": 9,
   "metadata": {},
   "outputs": [
    {
     "data": {
      "application/vnd.jupyter.widget-view+json": {
       "model_id": "03cafd3d3fb44dcb9cb2f6129540d205",
       "version_major": 2,
       "version_minor": 0
      },
      "text/plain": [
       "  0%|          | 0/100 [00:00<?, ?it/s]"
      ]
     },
     "metadata": {},
     "output_type": "display_data"
    },
    {
     "name": "stdout",
     "output_type": "stream",
     "text": [
      "100\n"
     ]
    },
    {
     "data": {
      "text/html": [
       "<div>\n",
       "<style scoped>\n",
       "    .dataframe tbody tr th:only-of-type {\n",
       "        vertical-align: middle;\n",
       "    }\n",
       "\n",
       "    .dataframe tbody tr th {\n",
       "        vertical-align: top;\n",
       "    }\n",
       "\n",
       "    .dataframe thead th {\n",
       "        text-align: right;\n",
       "    }\n",
       "</style>\n",
       "<table border=\"1\" class=\"dataframe\">\n",
       "  <thead>\n",
       "    <tr style=\"text-align: right;\">\n",
       "      <th></th>\n",
       "      <th>id</th>\n",
       "      <th>paragraphs</th>\n",
       "      <th>answer</th>\n",
       "      <th>answer_aliases</th>\n",
       "      <th>answerable</th>\n",
       "      <th>answers</th>\n",
       "      <th>question</th>\n",
       "      <th>question_decomposition</th>\n",
       "      <th>triplets_str</th>\n",
       "    </tr>\n",
       "  </thead>\n",
       "  <tbody>\n",
       "    <tr>\n",
       "      <th>0</th>\n",
       "      <td>2hop__143915_68489</td>\n",
       "      <td>[{'idx': 0, 'title': 'Daniel Goddard (actor)',...</td>\n",
       "      <td>Snapper Foster</td>\n",
       "      <td>[Snapper Foster]</td>\n",
       "      <td>True</td>\n",
       "      <td>[Snapper Foster]</td>\n",
       "      <td>who did the performer of Sings America play on...</td>\n",
       "      <td>[{'id': 143915, 'question': 'Who performed Sin...</td>\n",
       "      <td>David Hasselhoff | released | Sings America (a...</td>\n",
       "    </tr>\n",
       "    <tr>\n",
       "      <th>1</th>\n",
       "      <td>2hop__642686_7292</td>\n",
       "      <td>[{'idx': 0, 'title': 'Borat's Television Progr...</td>\n",
       "      <td>George Benson</td>\n",
       "      <td>[George Benson]</td>\n",
       "      <td>True</td>\n",
       "      <td>[George Benson]</td>\n",
       "      <td>Along with Kenny G and the performer of Hello ...</td>\n",
       "      <td>[{'id': 642686, 'question': 'Who performed Hel...</td>\n",
       "      <td>Kenny G | genre | Smooth Jazz\\nDave Koz | genr...</td>\n",
       "    </tr>\n",
       "    <tr>\n",
       "      <th>2</th>\n",
       "      <td>2hop__391258_161450</td>\n",
       "      <td>[{'idx': 0, 'title': 'Karimabad-e Ayaghchi', '...</td>\n",
       "      <td>in the north-east of the country south of the ...</td>\n",
       "      <td>[Caspian Sea, in the north-east of the country...</td>\n",
       "      <td>True</td>\n",
       "      <td>[Caspian Sea, in the north-east of the country...</td>\n",
       "      <td>Where is the province that contains Maraveh Ta...</td>\n",
       "      <td>[{'id': 391258, 'question': 'Which province co...</td>\n",
       "      <td>Maraveh Tappeh County | located in | Golestan ...</td>\n",
       "    </tr>\n",
       "    <tr>\n",
       "      <th>3</th>\n",
       "      <td>2hop__549146_223121</td>\n",
       "      <td>[{'idx': 0, 'title': 'All Funked Up', 'paragra...</td>\n",
       "      <td>Asian Man Records</td>\n",
       "      <td>[Asian Man Records]</td>\n",
       "      <td>True</td>\n",
       "      <td>[Asian Man Records]</td>\n",
       "      <td>What record label did the person who is part o...</td>\n",
       "      <td>[{'id': 549146, 'question': 'Who is part of Th...</td>\n",
       "      <td>Mike Park | member of | The Bruce Lee Band\\nTh...</td>\n",
       "    </tr>\n",
       "    <tr>\n",
       "      <th>4</th>\n",
       "      <td>2hop__811015_3300</td>\n",
       "      <td>[{'idx': 0, 'title': 'Blue Bloods (season 7)',...</td>\n",
       "      <td>season three</td>\n",
       "      <td>[season three]</td>\n",
       "      <td>True</td>\n",
       "      <td>[season three]</td>\n",
       "      <td>What season was the performer of Blue Skies on?</td>\n",
       "      <td>[{'id': 811015, 'question': 'Who performed Blu...</td>\n",
       "      <td>Blue Skies (Album) | artist | Diana DeGarmo\\nB...</td>\n",
       "    </tr>\n",
       "  </tbody>\n",
       "</table>\n",
       "</div>"
      ],
      "text/plain": [
       "                    id                                         paragraphs  \\\n",
       "0   2hop__143915_68489  [{'idx': 0, 'title': 'Daniel Goddard (actor)',...   \n",
       "1    2hop__642686_7292  [{'idx': 0, 'title': 'Borat's Television Progr...   \n",
       "2  2hop__391258_161450  [{'idx': 0, 'title': 'Karimabad-e Ayaghchi', '...   \n",
       "3  2hop__549146_223121  [{'idx': 0, 'title': 'All Funked Up', 'paragra...   \n",
       "4    2hop__811015_3300  [{'idx': 0, 'title': 'Blue Bloods (season 7)',...   \n",
       "\n",
       "                                              answer  \\\n",
       "0                                     Snapper Foster   \n",
       "1                                      George Benson   \n",
       "2  in the north-east of the country south of the ...   \n",
       "3                                  Asian Man Records   \n",
       "4                                       season three   \n",
       "\n",
       "                                      answer_aliases  answerable  \\\n",
       "0                                   [Snapper Foster]        True   \n",
       "1                                    [George Benson]        True   \n",
       "2  [Caspian Sea, in the north-east of the country...        True   \n",
       "3                                [Asian Man Records]        True   \n",
       "4                                     [season three]        True   \n",
       "\n",
       "                                             answers  \\\n",
       "0                                   [Snapper Foster]   \n",
       "1                                    [George Benson]   \n",
       "2  [Caspian Sea, in the north-east of the country...   \n",
       "3                                [Asian Man Records]   \n",
       "4                                     [season three]   \n",
       "\n",
       "                                            question  \\\n",
       "0  who did the performer of Sings America play on...   \n",
       "1  Along with Kenny G and the performer of Hello ...   \n",
       "2  Where is the province that contains Maraveh Ta...   \n",
       "3  What record label did the person who is part o...   \n",
       "4    What season was the performer of Blue Skies on?   \n",
       "\n",
       "                              question_decomposition  \\\n",
       "0  [{'id': 143915, 'question': 'Who performed Sin...   \n",
       "1  [{'id': 642686, 'question': 'Who performed Hel...   \n",
       "2  [{'id': 391258, 'question': 'Which province co...   \n",
       "3  [{'id': 549146, 'question': 'Who is part of Th...   \n",
       "4  [{'id': 811015, 'question': 'Who performed Blu...   \n",
       "\n",
       "                                        triplets_str  \n",
       "0  David Hasselhoff | released | Sings America (a...  \n",
       "1  Kenny G | genre | Smooth Jazz\\nDave Koz | genr...  \n",
       "2  Maraveh Tappeh County | located in | Golestan ...  \n",
       "3  Mike Park | member of | The Bruce Lee Band\\nTh...  \n",
       "4  Blue Skies (Album) | artist | Diana DeGarmo\\nB...  "
      ]
     },
     "execution_count": 9,
     "metadata": {},
     "output_type": "execute_result"
    }
   ],
   "source": [
    "df = df.progress_apply(extract_triplets, axis=1)\n",
    "print(len(df))\n",
    "df.head()"
   ]
  },
  {
   "cell_type": "code",
   "execution_count": 10,
   "metadata": {},
   "outputs": [],
   "source": [
    "import bm25s\n",
    "import logging\n",
    "\n",
    "logging.getLogger(\"bm25s\").setLevel(logging.ERROR)\n",
    "\n",
    "def bm25_retrieval(docs: list[dict], query: str, top_k: int = 5):\n",
    "    top_k = min(top_k, len(docs))\n",
    "    retriever = bm25s.BM25(corpus=docs)\n",
    "    tokenized_corpus = bm25s.tokenize([doc['text'] for doc in docs], show_progress=False)\n",
    "    retriever.index(tokenized_corpus, show_progress=False)\n",
    "    results, _ = retriever.retrieve(bm25s.tokenize(query), k=top_k, show_progress=False)\n",
    "    return results[0].tolist()"
   ]
  },
  {
   "cell_type": "code",
   "execution_count": 11,
   "metadata": {},
   "outputs": [
    {
     "name": "stderr",
     "output_type": "stream",
     "text": [
      "/Users/bdsaglam/dev/repos/bellem/.venv/lib/python3.10/site-packages/huggingface_hub/file_download.py:1132: FutureWarning: `resume_download` is deprecated and will be removed in version 1.0.0. Downloads always resume when possible. If you want to force a new download, use `force_download=True`.\n",
      "  warnings.warn(\n"
     ]
    }
   ],
   "source": [
    "from sentence_transformers import SentenceTransformer\n",
    "\n",
    "model = SentenceTransformer(\"all-MiniLM-L6-v2\")\n",
    "\n",
    "def semantic_retrieval(docs: list[dict], query: str, top_k: int = 5):\n",
    "    embeddings = model.encode([doc['text'] for doc in docs])\n",
    "    query_vectors = model.encode([query])\n",
    "    similarities = model.similarity(embeddings, query_vectors)\n",
    "    sorted_indices = similarities.argsort(dim=0, descending=True)\n",
    "    return [docs[i] for i in sorted_indices[:top_k]]"
   ]
  },
  {
   "cell_type": "code",
   "execution_count": 12,
   "metadata": {},
   "outputs": [],
   "source": [
    "dummy_retrieval_func = lambda docs,query: docs\n",
    "perfect_retrieval_func = lambda docs,query: [doc for doc in docs if doc['is_supporting']]"
   ]
  },
  {
   "cell_type": "code",
   "execution_count": 13,
   "metadata": {},
   "outputs": [],
   "source": [
    "completion_kwargs={\"temperature\": 0.0, \"max_tokens\": 1024}\n",
    "qa_func = make_question_answer_func(\"gpt-3.5-turbo\", completion_kwargs=completion_kwargs)"
   ]
  },
  {
   "cell_type": "code",
   "execution_count": 14,
   "metadata": {},
   "outputs": [],
   "source": [
    "results = []"
   ]
  },
  {
   "cell_type": "markdown",
   "metadata": {},
   "source": [
    "## Only paragraphs"
   ]
  },
  {
   "cell_type": "code",
   "execution_count": 15,
   "metadata": {},
   "outputs": [
    {
     "data": {
      "application/vnd.jupyter.widget-view+json": {
       "model_id": "3729fa40ef9e43a8abb9d62690cd4845",
       "version_major": 2,
       "version_minor": 0
      },
      "text/plain": [
       "  0%|          | 0/100 [00:00<?, ?it/s]"
      ]
     },
     "metadata": {},
     "output_type": "display_data"
    },
    {
     "name": "stdout",
     "output_type": "stream",
     "text": [
      "Failed to answer the question 2hop__549146_223121\n",
      "Unterminated string starting at: line 1 column 15 (char 14)\n"
     ]
    },
    {
     "name": "stderr",
     "output_type": "stream",
     "text": [
      "Using the latest cached version of the module from /Users/bdsaglam/.cache/huggingface/modules/evaluate_modules/metrics/bdsaglam--musique/9f409241d4cc6ea7853124e79cf44954a75900a0a2c0b9d20b909c2396f6b071 (last modified on Sat May  4 17:09:36 2024) since it couldn't be found locally at bdsaglam--musique, or remotely on the Hugging Face Hub.\n"
     ]
    },
    {
     "name": "stdout",
     "output_type": "stream",
     "text": [
      "{\n",
      "  \"exact_match\": 0.68,\n",
      "  \"f1\": 0.7664080364080362,\n",
      "  \"fuzzy_match\": 0.78\n",
      "}\n"
     ]
    }
   ],
   "source": [
    "_, scores = benchmark(df, qa_func, perfect_retrieval_func, ignore_errors=True)\n",
    "results.append({**scores, \"retrieval\": \"groundtruth\", \"context\": \"paragraphs\"})\n",
    "jprint(scores)"
   ]
  },
  {
   "cell_type": "markdown",
   "metadata": {},
   "source": [
    "## Paragraphs + Triplets"
   ]
  },
  {
   "cell_type": "code",
   "execution_count": 16,
   "metadata": {},
   "outputs": [
    {
     "name": "stdout",
     "output_type": "stream",
     "text": [
      "Lauren Alice Koslow (born March 9, 1953) is an American actress, best known for her long - running portrayal of Kate Roberts on the NBC dramatic serial Days of Our Lives, which she has played continuously since 1996. She previously appeared in the soaps The Bold and the Beautiful and The Young and the Restless.\n",
      "# Entity-relation-entity triplets\n",
      "David Hasselhoff | released | Sings America (album)\n",
      "Sings America (album) | release date | August 2009\n",
      "Sings America (album) | contains covers by | Elvis Presley\n",
      "Sings America (album) | contains covers by | The Beach Boys\n",
      "Sings America (album) | contains covers by | Glen Campbell\n",
      "Sings America (album) | contains covers by | Burt Bacharach\n",
      "Sings America (album) | contains covers by | Madonna\n",
      "Sings America (album) | bonus track | \"More Than Words Can Say\"\n",
      "\"More Than Words Can Say\" | composer | David Hasselhoff\n",
      "\"More Than Words Can Say\" | composer | Wade Hubbard\n",
      "\"More Than Words Can Say\" | composer | Glenn Morrow\n",
      "David Hasselhoff | role in Young and Restless | Dr. William 'Snapper' Foster Jr.\n",
      "Snapper Foster | fictionality | fictional character\n",
      "Snapper Foster | appears in | The Young and the Restless\n",
      "Snapper Foster | performer | William Gray Espy\n",
      "Snapper Foster | performer | David Hasselhoff\n",
      "William Gray Espy | role duration | March 26, 1973 to July 1975\n",
      "David Hasselhoff | role duration | 1975 to May 1982\n",
      "William Gray Espy | reprised role duration | February 28, 2003 to March 5, 2003\n",
      "David Hasselhoff | reprised role duration | June 15, 2010 to June 21, 2010\n"
     ]
    }
   ],
   "source": [
    "def enhance_paragraphs(row):\n",
    "    paragraphs_with_triplets = []\n",
    "    for p in row['paragraphs']:\n",
    "        p = deepcopy(p)\n",
    "        triplets_str = row['triplets_str']\n",
    "        p['paragraph_text'] = '\\n'.join([p['paragraph_text'], \"# Entity-relation-entity triplets\", triplets_str])\n",
    "        paragraphs_with_triplets.append(p)\n",
    "    row['paragraphs'] = paragraphs_with_triplets\n",
    "    return row\n",
    "\n",
    "df_paragraph_triplets = df.apply(enhance_paragraphs, axis=1) \n",
    "df_paragraph_triplets.head()\n",
    "print(df_paragraph_triplets.iloc[0]['paragraphs'][2]['paragraph_text'])"
   ]
  },
  {
   "cell_type": "code",
   "execution_count": 17,
   "metadata": {},
   "outputs": [
    {
     "data": {
      "application/vnd.jupyter.widget-view+json": {
       "model_id": "a835ee5512e3418b90f65049c746b771",
       "version_major": 2,
       "version_minor": 0
      },
      "text/plain": [
       "  0%|          | 0/100 [00:00<?, ?it/s]"
      ]
     },
     "metadata": {},
     "output_type": "display_data"
    },
    {
     "name": "stdout",
     "output_type": "stream",
     "text": [
      "{\n",
      "  \"exact_match\": 0.58,\n",
      "  \"f1\": 0.674978021978022,\n",
      "  \"fuzzy_match\": 0.7\n",
      "}\n"
     ]
    }
   ],
   "source": [
    "_, scores = benchmark(df_paragraph_triplets, qa_func, perfect_retrieval_func, ignore_errors=True)\n",
    "results.append({**scores, \"retrieval\": \"groundtruth\", \"context\": \"paragraphs+triplets\"})\n",
    "jprint(scores)"
   ]
  },
  {
   "cell_type": "markdown",
   "metadata": {},
   "source": [
    "## Only triplets"
   ]
  },
  {
   "cell_type": "code",
   "execution_count": 18,
   "metadata": {},
   "outputs": [
    {
     "name": "stdout",
     "output_type": "stream",
     "text": [
      "# Entity-relation-entity triplets\n",
      "David Hasselhoff | released | Sings America (album)\n",
      "Sings America (album) | release date | August 2009\n",
      "Sings America (album) | contains covers by | Elvis Presley\n",
      "Sings America (album) | contains covers by | The Beach Boys\n",
      "Sings America (album) | contains covers by | Glen Campbell\n",
      "Sings America (album) | contains covers by | Burt Bacharach\n",
      "Sings America (album) | contains covers by | Madonna\n",
      "Sings America (album) | bonus track | \"More Than Words Can Say\"\n",
      "\"More Than Words Can Say\" | composer | David Hasselhoff\n",
      "\"More Than Words Can Say\" | composer | Wade Hubbard\n",
      "\"More Than Words Can Say\" | composer | Glenn Morrow\n",
      "David Hasselhoff | role in Young and Restless | Dr. William 'Snapper' Foster Jr.\n",
      "Snapper Foster | fictionality | fictional character\n",
      "Snapper Foster | appears in | The Young and the Restless\n",
      "Snapper Foster | performer | William Gray Espy\n",
      "Snapper Foster | performer | David Hasselhoff\n",
      "William Gray Espy | role duration | March 26, 1973 to July 1975\n",
      "David Hasselhoff | role duration | 1975 to May 1982\n",
      "William Gray Espy | reprised role duration | February 28, 2003 to March 5, 2003\n",
      "David Hasselhoff | reprised role duration | June 15, 2010 to June 21, 2010\n"
     ]
    }
   ],
   "source": [
    "def replace_paragraphs(row):\n",
    "    paragraphs_with_triplets = []\n",
    "    for p in row['paragraphs']:\n",
    "        p = deepcopy(p) \n",
    "        triplets_str = row['triplets_str']\n",
    "        p['paragraph_text'] = '\\n'.join([\"# Entity-relation-entity triplets\", triplets_str])\n",
    "        paragraphs_with_triplets.append(p)\n",
    "    row['paragraphs'] = paragraphs_with_triplets\n",
    "    return row\n",
    "\n",
    "df_only_triplets = df.apply(replace_paragraphs, axis=1) \n",
    "df_only_triplets.head()\n",
    "print(df_only_triplets.iloc[0]['paragraphs'][2]['paragraph_text'])"
   ]
  },
  {
   "cell_type": "code",
   "execution_count": 19,
   "metadata": {},
   "outputs": [
    {
     "data": {
      "application/vnd.jupyter.widget-view+json": {
       "model_id": "6a9fd9aebd40450a961edae9e32361c1",
       "version_major": 2,
       "version_minor": 0
      },
      "text/plain": [
       "  0%|          | 0/100 [00:00<?, ?it/s]"
      ]
     },
     "metadata": {},
     "output_type": "display_data"
    },
    {
     "name": "stderr",
     "output_type": "stream",
     "text": [
      "Using the latest cached version of the module from /Users/bdsaglam/.cache/huggingface/modules/evaluate_modules/metrics/bdsaglam--musique/9f409241d4cc6ea7853124e79cf44954a75900a0a2c0b9d20b909c2396f6b071 (last modified on Sat May  4 17:09:36 2024) since it couldn't be found locally at bdsaglam--musique, or remotely on the Hugging Face Hub.\n"
     ]
    },
    {
     "name": "stdout",
     "output_type": "stream",
     "text": [
      "{\n",
      "  \"exact_match\": 0.6,\n",
      "  \"f1\": 0.7105796164619694,\n",
      "  \"fuzzy_match\": 0.74\n",
      "}\n"
     ]
    }
   ],
   "source": [
    "_, scores = benchmark(df_only_triplets, qa_func, perfect_retrieval_func, ignore_errors=True)\n",
    "results.append({**scores, \"retrieval\": \"groundtruth\", \"context\": \"triplets\"})\n",
    "jprint(scores)"
   ]
  },
  {
   "cell_type": "markdown",
   "metadata": {},
   "source": [
    "# Report"
   ]
  },
  {
   "cell_type": "code",
   "execution_count": 20,
   "metadata": {},
   "outputs": [
    {
     "data": {
      "text/html": [
       "<div>\n",
       "<style scoped>\n",
       "    .dataframe tbody tr th:only-of-type {\n",
       "        vertical-align: middle;\n",
       "    }\n",
       "\n",
       "    .dataframe tbody tr th {\n",
       "        vertical-align: top;\n",
       "    }\n",
       "\n",
       "    .dataframe thead th {\n",
       "        text-align: right;\n",
       "    }\n",
       "</style>\n",
       "<table border=\"1\" class=\"dataframe\">\n",
       "  <thead>\n",
       "    <tr style=\"text-align: right;\">\n",
       "      <th></th>\n",
       "      <th>context</th>\n",
       "      <th>retrieval</th>\n",
       "      <th>exact_match</th>\n",
       "      <th>fuzzy_match</th>\n",
       "      <th>f1</th>\n",
       "    </tr>\n",
       "  </thead>\n",
       "  <tbody>\n",
       "    <tr>\n",
       "      <th>0</th>\n",
       "      <td>paragraphs</td>\n",
       "      <td>groundtruth</td>\n",
       "      <td>0.68</td>\n",
       "      <td>0.78</td>\n",
       "      <td>0.766408</td>\n",
       "    </tr>\n",
       "    <tr>\n",
       "      <th>1</th>\n",
       "      <td>paragraphs+triplets</td>\n",
       "      <td>groundtruth</td>\n",
       "      <td>0.58</td>\n",
       "      <td>0.70</td>\n",
       "      <td>0.674978</td>\n",
       "    </tr>\n",
       "    <tr>\n",
       "      <th>2</th>\n",
       "      <td>triplets</td>\n",
       "      <td>groundtruth</td>\n",
       "      <td>0.60</td>\n",
       "      <td>0.74</td>\n",
       "      <td>0.710580</td>\n",
       "    </tr>\n",
       "  </tbody>\n",
       "</table>\n",
       "</div>"
      ],
      "text/plain": [
       "               context    retrieval  exact_match  fuzzy_match        f1\n",
       "0           paragraphs  groundtruth         0.68         0.78  0.766408\n",
       "1  paragraphs+triplets  groundtruth         0.58         0.70  0.674978\n",
       "2             triplets  groundtruth         0.60         0.74  0.710580"
      ]
     },
     "execution_count": 20,
     "metadata": {},
     "output_type": "execute_result"
    }
   ],
   "source": [
    "report_df = pd.DataFrame.from_records(results, columns=['context', 'retrieval', 'exact_match', 'fuzzy_match', 'f1'])\n",
    "report_df"
   ]
  },
  {
   "cell_type": "code",
   "execution_count": 21,
   "metadata": {},
   "outputs": [
    {
     "name": "stdout",
     "output_type": "stream",
     "text": [
      "| context             |   exact_match |   fuzzy_match |       f1 |\n",
      "|:--------------------|--------------:|--------------:|---------:|\n",
      "| paragraphs          |          0.68 |          0.78 | 0.766408 |\n",
      "| paragraphs+triplets |          0.58 |          0.7  | 0.674978 |\n",
      "| triplets            |          0.6  |          0.74 | 0.71058  |\n"
     ]
    }
   ],
   "source": [
    "print(report_df[report_df['retrieval']=='groundtruth'].drop(columns=['retrieval']).to_markdown(index=False))"
   ]
  },
  {
   "cell_type": "code",
   "execution_count": null,
   "metadata": {},
   "outputs": [],
   "source": []
  }
 ],
 "metadata": {
  "kernelspec": {
   "display_name": "python3",
   "language": "python",
   "name": "python3"
  },
  "language_info": {
   "codemirror_mode": {
    "name": "ipython",
    "version": 3
   },
   "file_extension": ".py",
   "mimetype": "text/x-python",
   "name": "python",
   "nbconvert_exporter": "python",
   "pygments_lexer": "ipython3",
   "version": "3.10.12"
  }
 },
 "nbformat": 4,
 "nbformat_minor": 4
}

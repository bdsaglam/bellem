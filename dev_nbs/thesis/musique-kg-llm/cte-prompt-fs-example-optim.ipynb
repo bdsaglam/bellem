{
 "cells": [
  {
   "cell_type": "code",
   "execution_count": 1,
   "metadata": {},
   "outputs": [
    {
     "data": {
      "text/plain": [
       "True"
      ]
     },
     "execution_count": 1,
     "metadata": {},
     "output_type": "execute_result"
    }
   ],
   "source": [
    "from dotenv import load_dotenv\n",
    "load_dotenv()"
   ]
  },
  {
   "cell_type": "code",
   "execution_count": 2,
   "metadata": {},
   "outputs": [],
   "source": [
    "import json\n",
    "from pathlib import Path\n",
    "from copy import deepcopy\n",
    "from functools import partial\n",
    "\n",
    "import numpy as np\n",
    "import pandas as pd\n",
    "\n",
    "from bellem.utils import set_seed, jprint\n",
    "from bellem.musique.singlehop import benchmark\n",
    "from bellem.musique.qa import answer_question_cte\n",
    "\n",
    "set_seed(89)"
   ]
  },
  {
   "cell_type": "code",
   "execution_count": 3,
   "metadata": {},
   "outputs": [],
   "source": [
    "from tqdm.auto import tqdm\n",
    "tqdm.pandas()"
   ]
  },
  {
   "cell_type": "code",
   "execution_count": 4,
   "metadata": {},
   "outputs": [],
   "source": [
    "def perfect_retrieval(docs, query):\n",
    "    return [doc for doc in docs if doc['is_supporting']]"
   ]
  },
  {
   "cell_type": "code",
   "execution_count": 5,
   "metadata": {},
   "outputs": [],
   "source": [
    "N_RUNS = 3"
   ]
  },
  {
   "cell_type": "code",
   "execution_count": 6,
   "metadata": {},
   "outputs": [
    {
     "name": "stdout",
     "output_type": "stream",
     "text": [
      "(100, 8)\n"
     ]
    },
    {
     "data": {
      "text/html": [
       "<div>\n",
       "<style scoped>\n",
       "    .dataframe tbody tr th:only-of-type {\n",
       "        vertical-align: middle;\n",
       "    }\n",
       "\n",
       "    .dataframe tbody tr th {\n",
       "        vertical-align: top;\n",
       "    }\n",
       "\n",
       "    .dataframe thead th {\n",
       "        text-align: right;\n",
       "    }\n",
       "</style>\n",
       "<table border=\"1\" class=\"dataframe\">\n",
       "  <thead>\n",
       "    <tr style=\"text-align: right;\">\n",
       "      <th></th>\n",
       "      <th>id</th>\n",
       "      <th>paragraphs</th>\n",
       "      <th>question</th>\n",
       "      <th>question_decomposition</th>\n",
       "      <th>answer</th>\n",
       "      <th>answer_aliases</th>\n",
       "      <th>answerable</th>\n",
       "      <th>answers</th>\n",
       "    </tr>\n",
       "  </thead>\n",
       "  <tbody>\n",
       "    <tr>\n",
       "      <th>0</th>\n",
       "      <td>2hop__575188_342798</td>\n",
       "      <td>[{'idx': 0, 'title': 'Liliana Mumy', 'paragrap...</td>\n",
       "      <td>Who is the child of Mahmoud Mirza's father?</td>\n",
       "      <td>[{'id': 575188, 'question': 'Mahmoud Mirza &gt;&gt; ...</td>\n",
       "      <td>Ahmad Shah Qajar</td>\n",
       "      <td>[Ahmad Shah Qajar]</td>\n",
       "      <td>True</td>\n",
       "      <td>[Ahmad Shah Qajar]</td>\n",
       "    </tr>\n",
       "    <tr>\n",
       "      <th>1</th>\n",
       "      <td>2hop__731584_700117</td>\n",
       "      <td>[{'idx': 0, 'title': 'KAPE', 'paragraph_text':...</td>\n",
       "      <td>In which county is the city to which KKVU is l...</td>\n",
       "      <td>[{'id': 731584, 'question': 'KKVU &gt;&gt; licensed ...</td>\n",
       "      <td>Berrien County</td>\n",
       "      <td>[Berrien County]</td>\n",
       "      <td>True</td>\n",
       "      <td>[Berrien County]</td>\n",
       "    </tr>\n",
       "    <tr>\n",
       "      <th>2</th>\n",
       "      <td>2hop__690412_526810</td>\n",
       "      <td>[{'idx': 0, 'title': 'Cabramatta Creek', 'para...</td>\n",
       "      <td>For what river does the river on which Pa Sak ...</td>\n",
       "      <td>[{'id': 690412, 'question': 'Pa Sak Jolasid Da...</td>\n",
       "      <td>Chao Phraya River</td>\n",
       "      <td>[Chao Phraya River]</td>\n",
       "      <td>True</td>\n",
       "      <td>[Chao Phraya River]</td>\n",
       "    </tr>\n",
       "    <tr>\n",
       "      <th>3</th>\n",
       "      <td>2hop__263638_69048</td>\n",
       "      <td>[{'idx': 0, 'title': 'Michael J. Barron', 'par...</td>\n",
       "      <td>Who is the Chief Judge of the Tebesa Nemine's ...</td>\n",
       "      <td>[{'id': 263638, 'question': 'Tebesa Nemine &gt;&gt; ...</td>\n",
       "      <td>Honorable Justice Abiodun Smith</td>\n",
       "      <td>[Honorable Justice Abiodun Smith]</td>\n",
       "      <td>True</td>\n",
       "      <td>[Honorable Justice Abiodun Smith]</td>\n",
       "    </tr>\n",
       "    <tr>\n",
       "      <th>4</th>\n",
       "      <td>2hop__142842_68489</td>\n",
       "      <td>[{'idx': 0, 'title': 'Perfect Night: Live in L...</td>\n",
       "      <td>Who did the performer of Night Rocker play on ...</td>\n",
       "      <td>[{'id': 142842, 'question': 'Which performer r...</td>\n",
       "      <td>Snapper Foster</td>\n",
       "      <td>[Snapper Foster]</td>\n",
       "      <td>True</td>\n",
       "      <td>[Snapper Foster]</td>\n",
       "    </tr>\n",
       "  </tbody>\n",
       "</table>\n",
       "</div>"
      ],
      "text/plain": [
       "                    id                                         paragraphs  \\\n",
       "0  2hop__575188_342798  [{'idx': 0, 'title': 'Liliana Mumy', 'paragrap...   \n",
       "1  2hop__731584_700117  [{'idx': 0, 'title': 'KAPE', 'paragraph_text':...   \n",
       "2  2hop__690412_526810  [{'idx': 0, 'title': 'Cabramatta Creek', 'para...   \n",
       "3   2hop__263638_69048  [{'idx': 0, 'title': 'Michael J. Barron', 'par...   \n",
       "4   2hop__142842_68489  [{'idx': 0, 'title': 'Perfect Night: Live in L...   \n",
       "\n",
       "                                            question  \\\n",
       "0        Who is the child of Mahmoud Mirza's father?   \n",
       "1  In which county is the city to which KKVU is l...   \n",
       "2  For what river does the river on which Pa Sak ...   \n",
       "3  Who is the Chief Judge of the Tebesa Nemine's ...   \n",
       "4  Who did the performer of Night Rocker play on ...   \n",
       "\n",
       "                              question_decomposition  \\\n",
       "0  [{'id': 575188, 'question': 'Mahmoud Mirza >> ...   \n",
       "1  [{'id': 731584, 'question': 'KKVU >> licensed ...   \n",
       "2  [{'id': 690412, 'question': 'Pa Sak Jolasid Da...   \n",
       "3  [{'id': 263638, 'question': 'Tebesa Nemine >> ...   \n",
       "4  [{'id': 142842, 'question': 'Which performer r...   \n",
       "\n",
       "                            answer                     answer_aliases  \\\n",
       "0                 Ahmad Shah Qajar                 [Ahmad Shah Qajar]   \n",
       "1                   Berrien County                   [Berrien County]   \n",
       "2                Chao Phraya River                [Chao Phraya River]   \n",
       "3  Honorable Justice Abiodun Smith  [Honorable Justice Abiodun Smith]   \n",
       "4                   Snapper Foster                   [Snapper Foster]   \n",
       "\n",
       "   answerable                            answers  \n",
       "0        True                 [Ahmad Shah Qajar]  \n",
       "1        True                   [Berrien County]  \n",
       "2        True                [Chao Phraya River]  \n",
       "3        True  [Honorable Justice Abiodun Smith]  \n",
       "4        True                   [Snapper Foster]  "
      ]
     },
     "execution_count": 6,
     "metadata": {},
     "output_type": "execute_result"
    }
   ],
   "source": [
    "from bellem.musique.constants import ABLATION_RECORD_IDS\n",
    "\n",
    "df = pd.read_json('../../data/generated/musique-common/base-dataset-validation.jsonl', orient='records', lines=True)\n",
    "df = df.set_index('id', drop=False).loc[ABLATION_RECORD_IDS].copy().reset_index(drop=True)\n",
    "# df = df.sample(10)\n",
    "\n",
    "print(df.shape)\n",
    "df.head()"
   ]
  },
  {
   "cell_type": "code",
   "execution_count": 7,
   "metadata": {},
   "outputs": [
    {
     "data": {
      "text/plain": [
       "37"
      ]
     },
     "execution_count": 7,
     "metadata": {},
     "output_type": "execute_result"
    }
   ],
   "source": [
    "with open(\"./cte-few-shot-examples.json\") as f:\n",
    "    few_shot_examples = json.load(f)\n",
    "\n",
    "\n",
    "len(few_shot_examples)"
   ]
  },
  {
   "cell_type": "code",
   "execution_count": 8,
   "metadata": {},
   "outputs": [],
   "source": [
    "selected_ids = [\n",
    "    \"2hop__272543_126102\",\n",
    "    \"2hop__54719_159941\",\n",
    "    \"2hop__16777_419765\",\n",
    "    \"2hop__834974_332063\",\n",
    "    \"2hop__823584_776926\",\n",
    "    \"2hop__784447_126070\",\n",
    "]\n",
    "selected_few_shot_examples = [example for example in few_shot_examples if example[\"id\"] in selected_ids]"
   ]
  },
  {
   "cell_type": "code",
   "execution_count": 9,
   "metadata": {},
   "outputs": [
    {
     "data": {
      "text/plain": [
       "21"
      ]
     },
     "execution_count": 9,
     "metadata": {},
     "output_type": "execute_result"
    }
   ],
   "source": [
    "from itertools import combinations\n",
    "\n",
    "example_combinations = []\n",
    "for i in range(1, 3):\n",
    "    example_combinations.extend(list(combinations(selected_few_shot_examples, i)))\n",
    "\n",
    "len(example_combinations)"
   ]
  },
  {
   "cell_type": "code",
   "execution_count": 10,
   "metadata": {},
   "outputs": [
    {
     "data": {
      "application/vnd.jupyter.widget-view+json": {
       "model_id": "45e7fb5b6bd84d5abb04c92c5fabff5a",
       "version_major": 2,
       "version_minor": 0
      },
      "text/plain": [
       "  0%|          | 0/21 [00:00<?, ?it/s]"
      ]
     },
     "metadata": {},
     "output_type": "display_data"
    },
    {
     "data": {
      "application/vnd.jupyter.widget-view+json": {
       "model_id": "e3661aecd6a443e3a81463e9d1ce7d9d",
       "version_major": 2,
       "version_minor": 0
      },
      "text/plain": [
       "  0%|          | 0/100 [00:00<?, ?it/s]"
      ]
     },
     "metadata": {},
     "output_type": "display_data"
    },
    {
     "data": {
      "application/vnd.jupyter.widget-view+json": {
       "model_id": "bca2a95938a2418cafacf32e8e374fd3",
       "version_major": 2,
       "version_minor": 0
      },
      "text/plain": [
       "  0%|          | 0/100 [00:00<?, ?it/s]"
      ]
     },
     "metadata": {},
     "output_type": "display_data"
    },
    {
     "data": {
      "application/vnd.jupyter.widget-view+json": {
       "model_id": "a81e32812934448d9e45ae30fb103927",
       "version_major": 2,
       "version_minor": 0
      },
      "text/plain": [
       "  0%|          | 0/100 [00:00<?, ?it/s]"
      ]
     },
     "metadata": {},
     "output_type": "display_data"
    },
    {
     "data": {
      "application/vnd.jupyter.widget-view+json": {
       "model_id": "f36285064c5340688abbf81f251724dd",
       "version_major": 2,
       "version_minor": 0
      },
      "text/plain": [
       "  0%|          | 0/100 [00:00<?, ?it/s]"
      ]
     },
     "metadata": {},
     "output_type": "display_data"
    },
    {
     "data": {
      "application/vnd.jupyter.widget-view+json": {
       "model_id": "0dce11f7f4344692b177192b3c59110e",
       "version_major": 2,
       "version_minor": 0
      },
      "text/plain": [
       "  0%|          | 0/100 [00:00<?, ?it/s]"
      ]
     },
     "metadata": {},
     "output_type": "display_data"
    },
    {
     "data": {
      "application/vnd.jupyter.widget-view+json": {
       "model_id": "9d6912b11bf140c38d82276c923b7c1b",
       "version_major": 2,
       "version_minor": 0
      },
      "text/plain": [
       "  0%|          | 0/100 [00:00<?, ?it/s]"
      ]
     },
     "metadata": {},
     "output_type": "display_data"
    },
    {
     "data": {
      "application/vnd.jupyter.widget-view+json": {
       "model_id": "20d4181f157e4fa49b6628b76ff0d7e8",
       "version_major": 2,
       "version_minor": 0
      },
      "text/plain": [
       "  0%|          | 0/100 [00:00<?, ?it/s]"
      ]
     },
     "metadata": {},
     "output_type": "display_data"
    },
    {
     "data": {
      "application/vnd.jupyter.widget-view+json": {
       "model_id": "8e185f315c9c4488a9be62636d69061e",
       "version_major": 2,
       "version_minor": 0
      },
      "text/plain": [
       "  0%|          | 0/100 [00:00<?, ?it/s]"
      ]
     },
     "metadata": {},
     "output_type": "display_data"
    },
    {
     "data": {
      "application/vnd.jupyter.widget-view+json": {
       "model_id": "17757fcfa99c4b6cb5e0d3ef4ca27ecc",
       "version_major": 2,
       "version_minor": 0
      },
      "text/plain": [
       "  0%|          | 0/100 [00:00<?, ?it/s]"
      ]
     },
     "metadata": {},
     "output_type": "display_data"
    },
    {
     "data": {
      "application/vnd.jupyter.widget-view+json": {
       "model_id": "8d517cd439f948aba5bef67a4dbd17f7",
       "version_major": 2,
       "version_minor": 0
      },
      "text/plain": [
       "  0%|          | 0/100 [00:00<?, ?it/s]"
      ]
     },
     "metadata": {},
     "output_type": "display_data"
    },
    {
     "data": {
      "application/vnd.jupyter.widget-view+json": {
       "model_id": "58629e0ab2c146a4b5f195a9bcbbb5b7",
       "version_major": 2,
       "version_minor": 0
      },
      "text/plain": [
       "  0%|          | 0/100 [00:00<?, ?it/s]"
      ]
     },
     "metadata": {},
     "output_type": "display_data"
    },
    {
     "data": {
      "application/vnd.jupyter.widget-view+json": {
       "model_id": "2277e14ca98b4b60bd6c15c405910107",
       "version_major": 2,
       "version_minor": 0
      },
      "text/plain": [
       "  0%|          | 0/100 [00:00<?, ?it/s]"
      ]
     },
     "metadata": {},
     "output_type": "display_data"
    },
    {
     "data": {
      "application/vnd.jupyter.widget-view+json": {
       "model_id": "5c8e24aefad84434b24c6ff6585375c1",
       "version_major": 2,
       "version_minor": 0
      },
      "text/plain": [
       "  0%|          | 0/100 [00:00<?, ?it/s]"
      ]
     },
     "metadata": {},
     "output_type": "display_data"
    },
    {
     "data": {
      "application/vnd.jupyter.widget-view+json": {
       "model_id": "f3adf02bfd8a42ed8999ff729e13a0d0",
       "version_major": 2,
       "version_minor": 0
      },
      "text/plain": [
       "  0%|          | 0/100 [00:00<?, ?it/s]"
      ]
     },
     "metadata": {},
     "output_type": "display_data"
    },
    {
     "data": {
      "application/vnd.jupyter.widget-view+json": {
       "model_id": "69e6d68b430a4706ba2a4feef3c3f215",
       "version_major": 2,
       "version_minor": 0
      },
      "text/plain": [
       "  0%|          | 0/100 [00:00<?, ?it/s]"
      ]
     },
     "metadata": {},
     "output_type": "display_data"
    },
    {
     "data": {
      "application/vnd.jupyter.widget-view+json": {
       "model_id": "e43e1778b69f44a7a78d9f69dc6a7718",
       "version_major": 2,
       "version_minor": 0
      },
      "text/plain": [
       "  0%|          | 0/100 [00:00<?, ?it/s]"
      ]
     },
     "metadata": {},
     "output_type": "display_data"
    },
    {
     "data": {
      "application/vnd.jupyter.widget-view+json": {
       "model_id": "f2203a627b53478f9c6893de7fe9f90b",
       "version_major": 2,
       "version_minor": 0
      },
      "text/plain": [
       "  0%|          | 0/100 [00:00<?, ?it/s]"
      ]
     },
     "metadata": {},
     "output_type": "display_data"
    },
    {
     "data": {
      "application/vnd.jupyter.widget-view+json": {
       "model_id": "bc03b8ecbe7b43faa13547a955f3afc8",
       "version_major": 2,
       "version_minor": 0
      },
      "text/plain": [
       "  0%|          | 0/100 [00:00<?, ?it/s]"
      ]
     },
     "metadata": {},
     "output_type": "display_data"
    },
    {
     "data": {
      "application/vnd.jupyter.widget-view+json": {
       "model_id": "534324aaf87844a58d80d9d965a9cf74",
       "version_major": 2,
       "version_minor": 0
      },
      "text/plain": [
       "  0%|          | 0/100 [00:00<?, ?it/s]"
      ]
     },
     "metadata": {},
     "output_type": "display_data"
    },
    {
     "data": {
      "application/vnd.jupyter.widget-view+json": {
       "model_id": "dc9c51f4580a434e85a9c5109980e43b",
       "version_major": 2,
       "version_minor": 0
      },
      "text/plain": [
       "  0%|          | 0/100 [00:00<?, ?it/s]"
      ]
     },
     "metadata": {},
     "output_type": "display_data"
    },
    {
     "data": {
      "application/vnd.jupyter.widget-view+json": {
       "model_id": "fc00c801abe9445fb3f12bb4271228ae",
       "version_major": 2,
       "version_minor": 0
      },
      "text/plain": [
       "  0%|          | 0/100 [00:00<?, ?it/s]"
      ]
     },
     "metadata": {},
     "output_type": "display_data"
    },
    {
     "data": {
      "application/vnd.jupyter.widget-view+json": {
       "model_id": "34cc791a63a748bf8f5ad1e70022c1df",
       "version_major": 2,
       "version_minor": 0
      },
      "text/plain": [
       "  0%|          | 0/100 [00:00<?, ?it/s]"
      ]
     },
     "metadata": {},
     "output_type": "display_data"
    },
    {
     "data": {
      "application/vnd.jupyter.widget-view+json": {
       "model_id": "34e4ba39450442b38c56e60ecd0d1340",
       "version_major": 2,
       "version_minor": 0
      },
      "text/plain": [
       "  0%|          | 0/100 [00:00<?, ?it/s]"
      ]
     },
     "metadata": {},
     "output_type": "display_data"
    },
    {
     "data": {
      "application/vnd.jupyter.widget-view+json": {
       "model_id": "111c40ce738a410fa30fd0e39ae5e611",
       "version_major": 2,
       "version_minor": 0
      },
      "text/plain": [
       "  0%|          | 0/100 [00:00<?, ?it/s]"
      ]
     },
     "metadata": {},
     "output_type": "display_data"
    },
    {
     "data": {
      "application/vnd.jupyter.widget-view+json": {
       "model_id": "c3195abcd434434393835d7e3cff3fab",
       "version_major": 2,
       "version_minor": 0
      },
      "text/plain": [
       "  0%|          | 0/100 [00:00<?, ?it/s]"
      ]
     },
     "metadata": {},
     "output_type": "display_data"
    },
    {
     "data": {
      "application/vnd.jupyter.widget-view+json": {
       "model_id": "11de89dc4bd34d1c8e4969669e8287ed",
       "version_major": 2,
       "version_minor": 0
      },
      "text/plain": [
       "  0%|          | 0/100 [00:00<?, ?it/s]"
      ]
     },
     "metadata": {},
     "output_type": "display_data"
    },
    {
     "data": {
      "application/vnd.jupyter.widget-view+json": {
       "model_id": "f9b1d14c52584ae49d0760241a922155",
       "version_major": 2,
       "version_minor": 0
      },
      "text/plain": [
       "  0%|          | 0/100 [00:00<?, ?it/s]"
      ]
     },
     "metadata": {},
     "output_type": "display_data"
    },
    {
     "data": {
      "application/vnd.jupyter.widget-view+json": {
       "model_id": "6747de87562e4892b284192830b2cf02",
       "version_major": 2,
       "version_minor": 0
      },
      "text/plain": [
       "  0%|          | 0/100 [00:00<?, ?it/s]"
      ]
     },
     "metadata": {},
     "output_type": "display_data"
    },
    {
     "data": {
      "application/vnd.jupyter.widget-view+json": {
       "model_id": "e485921b16034918a7fc08cc639da06a",
       "version_major": 2,
       "version_minor": 0
      },
      "text/plain": [
       "  0%|          | 0/100 [00:00<?, ?it/s]"
      ]
     },
     "metadata": {},
     "output_type": "display_data"
    },
    {
     "data": {
      "application/vnd.jupyter.widget-view+json": {
       "model_id": "a26be9af8e91434bb65a4afd31bf7227",
       "version_major": 2,
       "version_minor": 0
      },
      "text/plain": [
       "  0%|          | 0/100 [00:00<?, ?it/s]"
      ]
     },
     "metadata": {},
     "output_type": "display_data"
    },
    {
     "data": {
      "application/vnd.jupyter.widget-view+json": {
       "model_id": "38eed21fad924029a357d80e5f57e373",
       "version_major": 2,
       "version_minor": 0
      },
      "text/plain": [
       "  0%|          | 0/100 [00:00<?, ?it/s]"
      ]
     },
     "metadata": {},
     "output_type": "display_data"
    },
    {
     "data": {
      "application/vnd.jupyter.widget-view+json": {
       "model_id": "f6936307b4a1426eaa1cc001442d2e40",
       "version_major": 2,
       "version_minor": 0
      },
      "text/plain": [
       "  0%|          | 0/100 [00:00<?, ?it/s]"
      ]
     },
     "metadata": {},
     "output_type": "display_data"
    },
    {
     "data": {
      "application/vnd.jupyter.widget-view+json": {
       "model_id": "fe17f825be654b22a98072fdbc0061e9",
       "version_major": 2,
       "version_minor": 0
      },
      "text/plain": [
       "  0%|          | 0/100 [00:00<?, ?it/s]"
      ]
     },
     "metadata": {},
     "output_type": "display_data"
    },
    {
     "data": {
      "application/vnd.jupyter.widget-view+json": {
       "model_id": "9e06df9f1e134321a19d9c590bd52b9d",
       "version_major": 2,
       "version_minor": 0
      },
      "text/plain": [
       "  0%|          | 0/100 [00:00<?, ?it/s]"
      ]
     },
     "metadata": {},
     "output_type": "display_data"
    },
    {
     "data": {
      "application/vnd.jupyter.widget-view+json": {
       "model_id": "2cd7b572136f4687a187f294c7c504e9",
       "version_major": 2,
       "version_minor": 0
      },
      "text/plain": [
       "  0%|          | 0/100 [00:00<?, ?it/s]"
      ]
     },
     "metadata": {},
     "output_type": "display_data"
    },
    {
     "data": {
      "application/vnd.jupyter.widget-view+json": {
       "model_id": "5d9fe4ac1a2249938192ebcf38b768fe",
       "version_major": 2,
       "version_minor": 0
      },
      "text/plain": [
       "  0%|          | 0/100 [00:00<?, ?it/s]"
      ]
     },
     "metadata": {},
     "output_type": "display_data"
    },
    {
     "data": {
      "application/vnd.jupyter.widget-view+json": {
       "model_id": "3faf3497b248426c81bc25b984dd4058",
       "version_major": 2,
       "version_minor": 0
      },
      "text/plain": [
       "  0%|          | 0/100 [00:00<?, ?it/s]"
      ]
     },
     "metadata": {},
     "output_type": "display_data"
    },
    {
     "data": {
      "application/vnd.jupyter.widget-view+json": {
       "model_id": "b8fe5de4f5874faf94cfada39651514c",
       "version_major": 2,
       "version_minor": 0
      },
      "text/plain": [
       "  0%|          | 0/100 [00:00<?, ?it/s]"
      ]
     },
     "metadata": {},
     "output_type": "display_data"
    },
    {
     "data": {
      "application/vnd.jupyter.widget-view+json": {
       "model_id": "26c95310e0d34a92b8130b07e29ef048",
       "version_major": 2,
       "version_minor": 0
      },
      "text/plain": [
       "  0%|          | 0/100 [00:00<?, ?it/s]"
      ]
     },
     "metadata": {},
     "output_type": "display_data"
    },
    {
     "data": {
      "application/vnd.jupyter.widget-view+json": {
       "model_id": "74b97c7a47dd4b05b2859c5da6665e34",
       "version_major": 2,
       "version_minor": 0
      },
      "text/plain": [
       "  0%|          | 0/100 [00:00<?, ?it/s]"
      ]
     },
     "metadata": {},
     "output_type": "display_data"
    },
    {
     "data": {
      "application/vnd.jupyter.widget-view+json": {
       "model_id": "426b378c4007475898abf0ec13552917",
       "version_major": 2,
       "version_minor": 0
      },
      "text/plain": [
       "  0%|          | 0/100 [00:00<?, ?it/s]"
      ]
     },
     "metadata": {},
     "output_type": "display_data"
    },
    {
     "data": {
      "application/vnd.jupyter.widget-view+json": {
       "model_id": "37c4f4646f904f1fa1ee6fc3f5ab0043",
       "version_major": 2,
       "version_minor": 0
      },
      "text/plain": [
       "  0%|          | 0/100 [00:00<?, ?it/s]"
      ]
     },
     "metadata": {},
     "output_type": "display_data"
    },
    {
     "data": {
      "application/vnd.jupyter.widget-view+json": {
       "model_id": "7e73a1173fbb42afb69e720f2e8f8345",
       "version_major": 2,
       "version_minor": 0
      },
      "text/plain": [
       "  0%|          | 0/100 [00:00<?, ?it/s]"
      ]
     },
     "metadata": {},
     "output_type": "display_data"
    },
    {
     "data": {
      "application/vnd.jupyter.widget-view+json": {
       "model_id": "11a4355870014566b1bf7d815e38ffdd",
       "version_major": 2,
       "version_minor": 0
      },
      "text/plain": [
       "  0%|          | 0/100 [00:00<?, ?it/s]"
      ]
     },
     "metadata": {},
     "output_type": "display_data"
    },
    {
     "data": {
      "application/vnd.jupyter.widget-view+json": {
       "model_id": "82fc009850eb4e31b9140961afca9f02",
       "version_major": 2,
       "version_minor": 0
      },
      "text/plain": [
       "  0%|          | 0/100 [00:00<?, ?it/s]"
      ]
     },
     "metadata": {},
     "output_type": "display_data"
    },
    {
     "data": {
      "application/vnd.jupyter.widget-view+json": {
       "model_id": "d1ff7c5003c84c7c8778abe95e631d09",
       "version_major": 2,
       "version_minor": 0
      },
      "text/plain": [
       "  0%|          | 0/100 [00:00<?, ?it/s]"
      ]
     },
     "metadata": {},
     "output_type": "display_data"
    },
    {
     "data": {
      "application/vnd.jupyter.widget-view+json": {
       "model_id": "1f9a3bae7ac249139ba1ec988de9a4d4",
       "version_major": 2,
       "version_minor": 0
      },
      "text/plain": [
       "  0%|          | 0/100 [00:00<?, ?it/s]"
      ]
     },
     "metadata": {},
     "output_type": "display_data"
    },
    {
     "data": {
      "application/vnd.jupyter.widget-view+json": {
       "model_id": "2504514bd4d04823b3c46c093783ec31",
       "version_major": 2,
       "version_minor": 0
      },
      "text/plain": [
       "  0%|          | 0/100 [00:00<?, ?it/s]"
      ]
     },
     "metadata": {},
     "output_type": "display_data"
    },
    {
     "data": {
      "application/vnd.jupyter.widget-view+json": {
       "model_id": "d2d712441e8d47cbbe1d210bb6ab94a2",
       "version_major": 2,
       "version_minor": 0
      },
      "text/plain": [
       "  0%|          | 0/100 [00:00<?, ?it/s]"
      ]
     },
     "metadata": {},
     "output_type": "display_data"
    },
    {
     "data": {
      "application/vnd.jupyter.widget-view+json": {
       "model_id": "074e15b00fbd43c19d8df0d2bd55ca0a",
       "version_major": 2,
       "version_minor": 0
      },
      "text/plain": [
       "  0%|          | 0/100 [00:00<?, ?it/s]"
      ]
     },
     "metadata": {},
     "output_type": "display_data"
    },
    {
     "data": {
      "application/vnd.jupyter.widget-view+json": {
       "model_id": "9f00f555c6b94d4493572b387842295e",
       "version_major": 2,
       "version_minor": 0
      },
      "text/plain": [
       "  0%|          | 0/100 [00:00<?, ?it/s]"
      ]
     },
     "metadata": {},
     "output_type": "display_data"
    },
    {
     "data": {
      "application/vnd.jupyter.widget-view+json": {
       "model_id": "cc18d2e7f3ae4e9ab42357bc2b95d3f5",
       "version_major": 2,
       "version_minor": 0
      },
      "text/plain": [
       "  0%|          | 0/100 [00:00<?, ?it/s]"
      ]
     },
     "metadata": {},
     "output_type": "display_data"
    },
    {
     "data": {
      "application/vnd.jupyter.widget-view+json": {
       "model_id": "20745dd38364412f9f3fbb10e900b8a8",
       "version_major": 2,
       "version_minor": 0
      },
      "text/plain": [
       "  0%|          | 0/100 [00:00<?, ?it/s]"
      ]
     },
     "metadata": {},
     "output_type": "display_data"
    },
    {
     "data": {
      "application/vnd.jupyter.widget-view+json": {
       "model_id": "6170cf6ae7c64ad8b5ebc993f264dd16",
       "version_major": 2,
       "version_minor": 0
      },
      "text/plain": [
       "  0%|          | 0/100 [00:00<?, ?it/s]"
      ]
     },
     "metadata": {},
     "output_type": "display_data"
    },
    {
     "data": {
      "application/vnd.jupyter.widget-view+json": {
       "model_id": "3e17a766983b4110a3fca580cf79a82c",
       "version_major": 2,
       "version_minor": 0
      },
      "text/plain": [
       "  0%|          | 0/100 [00:00<?, ?it/s]"
      ]
     },
     "metadata": {},
     "output_type": "display_data"
    },
    {
     "data": {
      "application/vnd.jupyter.widget-view+json": {
       "model_id": "69708d52efe540d4a308136c672fe27f",
       "version_major": 2,
       "version_minor": 0
      },
      "text/plain": [
       "  0%|          | 0/100 [00:00<?, ?it/s]"
      ]
     },
     "metadata": {},
     "output_type": "display_data"
    },
    {
     "data": {
      "application/vnd.jupyter.widget-view+json": {
       "model_id": "3e73f52c435848d48db10ee65e01458d",
       "version_major": 2,
       "version_minor": 0
      },
      "text/plain": [
       "  0%|          | 0/100 [00:00<?, ?it/s]"
      ]
     },
     "metadata": {},
     "output_type": "display_data"
    },
    {
     "data": {
      "application/vnd.jupyter.widget-view+json": {
       "model_id": "03b156dad53f4afa9f0e0f46a800acad",
       "version_major": 2,
       "version_minor": 0
      },
      "text/plain": [
       "  0%|          | 0/100 [00:00<?, ?it/s]"
      ]
     },
     "metadata": {},
     "output_type": "display_data"
    },
    {
     "data": {
      "application/vnd.jupyter.widget-view+json": {
       "model_id": "bfe2922be5da4c6cb53939b0eacb3a0c",
       "version_major": 2,
       "version_minor": 0
      },
      "text/plain": [
       "  0%|          | 0/100 [00:00<?, ?it/s]"
      ]
     },
     "metadata": {},
     "output_type": "display_data"
    },
    {
     "data": {
      "application/vnd.jupyter.widget-view+json": {
       "model_id": "a25c9168759a4dfa9c1e27107ba3f72f",
       "version_major": 2,
       "version_minor": 0
      },
      "text/plain": [
       "  0%|          | 0/100 [00:00<?, ?it/s]"
      ]
     },
     "metadata": {},
     "output_type": "display_data"
    },
    {
     "data": {
      "application/vnd.jupyter.widget-view+json": {
       "model_id": "2641a94ef2fb45108a11db8286311577",
       "version_major": 2,
       "version_minor": 0
      },
      "text/plain": [
       "  0%|          | 0/100 [00:00<?, ?it/s]"
      ]
     },
     "metadata": {},
     "output_type": "display_data"
    },
    {
     "data": {
      "application/vnd.jupyter.widget-view+json": {
       "model_id": "80c220f70bbe473b87445b63a500380d",
       "version_major": 2,
       "version_minor": 0
      },
      "text/plain": [
       "  0%|          | 0/100 [00:00<?, ?it/s]"
      ]
     },
     "metadata": {},
     "output_type": "display_data"
    },
    {
     "data": {
      "application/vnd.jupyter.widget-view+json": {
       "model_id": "c3eb0368e9cb4b3081b65a9f17212c55",
       "version_major": 2,
       "version_minor": 0
      },
      "text/plain": [
       "  0%|          | 0/100 [00:00<?, ?it/s]"
      ]
     },
     "metadata": {},
     "output_type": "display_data"
    }
   ],
   "source": [
    "results = []\n",
    "\n",
    "for examples in tqdm(example_combinations):\n",
    "    example_ids = tuple([example[\"id\"] for example in examples])\n",
    "    qa_func = partial(answer_question_cte, examples=examples, completion_kwargs={'temperature': 0.1})\n",
    "    for i in range(1, N_RUNS+1):\n",
    "        df_cte, scores = benchmark(df, qa_func, perfect_retrieval, ignore_errors=False)\n",
    "        results.append({**scores, 'examples': example_ids, \"run\": i})"
   ]
  },
  {
   "cell_type": "code",
   "execution_count": 11,
   "metadata": {},
   "outputs": [],
   "source": [
    "report_df = pd.DataFrame.from_records(results, columns=['examples', 'run', 'exact_match', 'f1'])\n",
    "agg_report_df = report_df.drop(columns=['run']).groupby(['examples']).agg(['min', 'mean', 'max', 'std'])"
   ]
  },
  {
   "cell_type": "code",
   "execution_count": 13,
   "metadata": {},
   "outputs": [],
   "source": [
    "from datetime import datetime\n",
    "suffix = datetime.utcnow().strftime(\"%Y%m%d-%H%M%S\")\n",
    "report_df.to_json(f'./cte-prompt-optim-results-{suffix}.jsonl', orient='records', lines=True)"
   ]
  },
  {
   "cell_type": "code",
   "execution_count": 14,
   "metadata": {},
   "outputs": [
    {
     "data": {
      "text/html": [
       "<div>\n",
       "<style scoped>\n",
       "    .dataframe tbody tr th:only-of-type {\n",
       "        vertical-align: middle;\n",
       "    }\n",
       "\n",
       "    .dataframe tbody tr th {\n",
       "        vertical-align: top;\n",
       "    }\n",
       "\n",
       "    .dataframe thead tr th {\n",
       "        text-align: left;\n",
       "    }\n",
       "\n",
       "    .dataframe thead tr:last-of-type th {\n",
       "        text-align: right;\n",
       "    }\n",
       "</style>\n",
       "<table border=\"1\" class=\"dataframe\">\n",
       "  <thead>\n",
       "    <tr>\n",
       "      <th></th>\n",
       "      <th colspan=\"4\" halign=\"left\">exact_match</th>\n",
       "      <th colspan=\"4\" halign=\"left\">f1</th>\n",
       "    </tr>\n",
       "    <tr>\n",
       "      <th></th>\n",
       "      <th>min</th>\n",
       "      <th>mean</th>\n",
       "      <th>max</th>\n",
       "      <th>std</th>\n",
       "      <th>min</th>\n",
       "      <th>mean</th>\n",
       "      <th>max</th>\n",
       "      <th>std</th>\n",
       "    </tr>\n",
       "    <tr>\n",
       "      <th>examples</th>\n",
       "      <th></th>\n",
       "      <th></th>\n",
       "      <th></th>\n",
       "      <th></th>\n",
       "      <th></th>\n",
       "      <th></th>\n",
       "      <th></th>\n",
       "      <th></th>\n",
       "    </tr>\n",
       "  </thead>\n",
       "  <tbody>\n",
       "    <tr>\n",
       "      <th>(2hop__16777_419765, 2hop__834974_332063)</th>\n",
       "      <td>0.61</td>\n",
       "      <td>0.623333</td>\n",
       "      <td>0.64</td>\n",
       "      <td>0.015275</td>\n",
       "      <td>0.724454</td>\n",
       "      <td>0.738216</td>\n",
       "      <td>0.763407</td>\n",
       "      <td>0.021847</td>\n",
       "    </tr>\n",
       "    <tr>\n",
       "      <th>(2hop__16777_419765, 2hop__823584_776926)</th>\n",
       "      <td>0.60</td>\n",
       "      <td>0.623333</td>\n",
       "      <td>0.65</td>\n",
       "      <td>0.025166</td>\n",
       "      <td>0.706255</td>\n",
       "      <td>0.733355</td>\n",
       "      <td>0.756225</td>\n",
       "      <td>0.025252</td>\n",
       "    </tr>\n",
       "    <tr>\n",
       "      <th>(2hop__272543_126102, 2hop__54719_159941)</th>\n",
       "      <td>0.54</td>\n",
       "      <td>0.583333</td>\n",
       "      <td>0.61</td>\n",
       "      <td>0.037859</td>\n",
       "      <td>0.689240</td>\n",
       "      <td>0.714325</td>\n",
       "      <td>0.730192</td>\n",
       "      <td>0.021977</td>\n",
       "    </tr>\n",
       "    <tr>\n",
       "      <th>(2hop__834974_332063,)</th>\n",
       "      <td>0.59</td>\n",
       "      <td>0.606667</td>\n",
       "      <td>0.62</td>\n",
       "      <td>0.015275</td>\n",
       "      <td>0.701629</td>\n",
       "      <td>0.712523</td>\n",
       "      <td>0.723599</td>\n",
       "      <td>0.010986</td>\n",
       "    </tr>\n",
       "    <tr>\n",
       "      <th>(2hop__272543_126102,)</th>\n",
       "      <td>0.59</td>\n",
       "      <td>0.610000</td>\n",
       "      <td>0.64</td>\n",
       "      <td>0.026458</td>\n",
       "      <td>0.690160</td>\n",
       "      <td>0.711160</td>\n",
       "      <td>0.733494</td>\n",
       "      <td>0.021697</td>\n",
       "    </tr>\n",
       "    <tr>\n",
       "      <th>(2hop__272543_126102, 2hop__834974_332063)</th>\n",
       "      <td>0.58</td>\n",
       "      <td>0.593333</td>\n",
       "      <td>0.61</td>\n",
       "      <td>0.015275</td>\n",
       "      <td>0.698946</td>\n",
       "      <td>0.707568</td>\n",
       "      <td>0.712843</td>\n",
       "      <td>0.007529</td>\n",
       "    </tr>\n",
       "    <tr>\n",
       "      <th>(2hop__16777_419765, 2hop__54719_159941)</th>\n",
       "      <td>0.57</td>\n",
       "      <td>0.586667</td>\n",
       "      <td>0.60</td>\n",
       "      <td>0.015275</td>\n",
       "      <td>0.694939</td>\n",
       "      <td>0.706125</td>\n",
       "      <td>0.711781</td>\n",
       "      <td>0.009687</td>\n",
       "    </tr>\n",
       "    <tr>\n",
       "      <th>(2hop__823584_776926, 2hop__834974_332063)</th>\n",
       "      <td>0.58</td>\n",
       "      <td>0.580000</td>\n",
       "      <td>0.58</td>\n",
       "      <td>0.000000</td>\n",
       "      <td>0.701984</td>\n",
       "      <td>0.705284</td>\n",
       "      <td>0.707391</td>\n",
       "      <td>0.002894</td>\n",
       "    </tr>\n",
       "    <tr>\n",
       "      <th>(2hop__16777_419765,)</th>\n",
       "      <td>0.61</td>\n",
       "      <td>0.623333</td>\n",
       "      <td>0.64</td>\n",
       "      <td>0.015275</td>\n",
       "      <td>0.691264</td>\n",
       "      <td>0.704250</td>\n",
       "      <td>0.724486</td>\n",
       "      <td>0.017758</td>\n",
       "    </tr>\n",
       "    <tr>\n",
       "      <th>(2hop__834974_332063, 2hop__784447_126070)</th>\n",
       "      <td>0.60</td>\n",
       "      <td>0.603333</td>\n",
       "      <td>0.61</td>\n",
       "      <td>0.005774</td>\n",
       "      <td>0.687376</td>\n",
       "      <td>0.696176</td>\n",
       "      <td>0.701727</td>\n",
       "      <td>0.007707</td>\n",
       "    </tr>\n",
       "    <tr>\n",
       "      <th>(2hop__16777_419765, 2hop__784447_126070)</th>\n",
       "      <td>0.55</td>\n",
       "      <td>0.556667</td>\n",
       "      <td>0.56</td>\n",
       "      <td>0.005774</td>\n",
       "      <td>0.681636</td>\n",
       "      <td>0.690939</td>\n",
       "      <td>0.696242</td>\n",
       "      <td>0.008083</td>\n",
       "    </tr>\n",
       "    <tr>\n",
       "      <th>(2hop__272543_126102, 2hop__823584_776926)</th>\n",
       "      <td>0.55</td>\n",
       "      <td>0.556667</td>\n",
       "      <td>0.57</td>\n",
       "      <td>0.011547</td>\n",
       "      <td>0.683859</td>\n",
       "      <td>0.690922</td>\n",
       "      <td>0.699335</td>\n",
       "      <td>0.007826</td>\n",
       "    </tr>\n",
       "    <tr>\n",
       "      <th>(2hop__54719_159941,)</th>\n",
       "      <td>0.56</td>\n",
       "      <td>0.570000</td>\n",
       "      <td>0.58</td>\n",
       "      <td>0.010000</td>\n",
       "      <td>0.685730</td>\n",
       "      <td>0.690605</td>\n",
       "      <td>0.698852</td>\n",
       "      <td>0.007181</td>\n",
       "    </tr>\n",
       "    <tr>\n",
       "      <th>(2hop__823584_776926,)</th>\n",
       "      <td>0.56</td>\n",
       "      <td>0.570000</td>\n",
       "      <td>0.58</td>\n",
       "      <td>0.010000</td>\n",
       "      <td>0.686033</td>\n",
       "      <td>0.687743</td>\n",
       "      <td>0.689255</td>\n",
       "      <td>0.001620</td>\n",
       "    </tr>\n",
       "    <tr>\n",
       "      <th>(2hop__16777_419765, 2hop__272543_126102)</th>\n",
       "      <td>0.58</td>\n",
       "      <td>0.590000</td>\n",
       "      <td>0.60</td>\n",
       "      <td>0.010000</td>\n",
       "      <td>0.681692</td>\n",
       "      <td>0.686897</td>\n",
       "      <td>0.694000</td>\n",
       "      <td>0.006369</td>\n",
       "    </tr>\n",
       "    <tr>\n",
       "      <th>(2hop__54719_159941, 2hop__784447_126070)</th>\n",
       "      <td>0.54</td>\n",
       "      <td>0.563333</td>\n",
       "      <td>0.58</td>\n",
       "      <td>0.020817</td>\n",
       "      <td>0.672828</td>\n",
       "      <td>0.683832</td>\n",
       "      <td>0.692779</td>\n",
       "      <td>0.010133</td>\n",
       "    </tr>\n",
       "    <tr>\n",
       "      <th>(2hop__54719_159941, 2hop__834974_332063)</th>\n",
       "      <td>0.56</td>\n",
       "      <td>0.566667</td>\n",
       "      <td>0.57</td>\n",
       "      <td>0.005774</td>\n",
       "      <td>0.671603</td>\n",
       "      <td>0.679631</td>\n",
       "      <td>0.684835</td>\n",
       "      <td>0.007054</td>\n",
       "    </tr>\n",
       "    <tr>\n",
       "      <th>(2hop__823584_776926, 2hop__784447_126070)</th>\n",
       "      <td>0.55</td>\n",
       "      <td>0.560000</td>\n",
       "      <td>0.57</td>\n",
       "      <td>0.010000</td>\n",
       "      <td>0.668429</td>\n",
       "      <td>0.677418</td>\n",
       "      <td>0.686065</td>\n",
       "      <td>0.008823</td>\n",
       "    </tr>\n",
       "    <tr>\n",
       "      <th>(2hop__823584_776926, 2hop__54719_159941)</th>\n",
       "      <td>0.54</td>\n",
       "      <td>0.546667</td>\n",
       "      <td>0.55</td>\n",
       "      <td>0.005774</td>\n",
       "      <td>0.673763</td>\n",
       "      <td>0.677182</td>\n",
       "      <td>0.683352</td>\n",
       "      <td>0.005354</td>\n",
       "    </tr>\n",
       "    <tr>\n",
       "      <th>(2hop__272543_126102, 2hop__784447_126070)</th>\n",
       "      <td>0.55</td>\n",
       "      <td>0.563333</td>\n",
       "      <td>0.58</td>\n",
       "      <td>0.015275</td>\n",
       "      <td>0.651017</td>\n",
       "      <td>0.672625</td>\n",
       "      <td>0.688762</td>\n",
       "      <td>0.019458</td>\n",
       "    </tr>\n",
       "    <tr>\n",
       "      <th>(2hop__784447_126070,)</th>\n",
       "      <td>0.53</td>\n",
       "      <td>0.540000</td>\n",
       "      <td>0.55</td>\n",
       "      <td>0.010000</td>\n",
       "      <td>0.651788</td>\n",
       "      <td>0.655203</td>\n",
       "      <td>0.657424</td>\n",
       "      <td>0.003002</td>\n",
       "    </tr>\n",
       "  </tbody>\n",
       "</table>\n",
       "</div>"
      ],
      "text/plain": [
       "                                           exact_match                  \\\n",
       "                                                   min      mean   max   \n",
       "examples                                                                 \n",
       "(2hop__16777_419765, 2hop__834974_332063)         0.61  0.623333  0.64   \n",
       "(2hop__16777_419765, 2hop__823584_776926)         0.60  0.623333  0.65   \n",
       "(2hop__272543_126102, 2hop__54719_159941)         0.54  0.583333  0.61   \n",
       "(2hop__834974_332063,)                            0.59  0.606667  0.62   \n",
       "(2hop__272543_126102,)                            0.59  0.610000  0.64   \n",
       "(2hop__272543_126102, 2hop__834974_332063)        0.58  0.593333  0.61   \n",
       "(2hop__16777_419765, 2hop__54719_159941)          0.57  0.586667  0.60   \n",
       "(2hop__823584_776926, 2hop__834974_332063)        0.58  0.580000  0.58   \n",
       "(2hop__16777_419765,)                             0.61  0.623333  0.64   \n",
       "(2hop__834974_332063, 2hop__784447_126070)        0.60  0.603333  0.61   \n",
       "(2hop__16777_419765, 2hop__784447_126070)         0.55  0.556667  0.56   \n",
       "(2hop__272543_126102, 2hop__823584_776926)        0.55  0.556667  0.57   \n",
       "(2hop__54719_159941,)                             0.56  0.570000  0.58   \n",
       "(2hop__823584_776926,)                            0.56  0.570000  0.58   \n",
       "(2hop__16777_419765, 2hop__272543_126102)         0.58  0.590000  0.60   \n",
       "(2hop__54719_159941, 2hop__784447_126070)         0.54  0.563333  0.58   \n",
       "(2hop__54719_159941, 2hop__834974_332063)         0.56  0.566667  0.57   \n",
       "(2hop__823584_776926, 2hop__784447_126070)        0.55  0.560000  0.57   \n",
       "(2hop__823584_776926, 2hop__54719_159941)         0.54  0.546667  0.55   \n",
       "(2hop__272543_126102, 2hop__784447_126070)        0.55  0.563333  0.58   \n",
       "(2hop__784447_126070,)                            0.53  0.540000  0.55   \n",
       "\n",
       "                                                            f1            \\\n",
       "                                                 std       min      mean   \n",
       "examples                                                                   \n",
       "(2hop__16777_419765, 2hop__834974_332063)   0.015275  0.724454  0.738216   \n",
       "(2hop__16777_419765, 2hop__823584_776926)   0.025166  0.706255  0.733355   \n",
       "(2hop__272543_126102, 2hop__54719_159941)   0.037859  0.689240  0.714325   \n",
       "(2hop__834974_332063,)                      0.015275  0.701629  0.712523   \n",
       "(2hop__272543_126102,)                      0.026458  0.690160  0.711160   \n",
       "(2hop__272543_126102, 2hop__834974_332063)  0.015275  0.698946  0.707568   \n",
       "(2hop__16777_419765, 2hop__54719_159941)    0.015275  0.694939  0.706125   \n",
       "(2hop__823584_776926, 2hop__834974_332063)  0.000000  0.701984  0.705284   \n",
       "(2hop__16777_419765,)                       0.015275  0.691264  0.704250   \n",
       "(2hop__834974_332063, 2hop__784447_126070)  0.005774  0.687376  0.696176   \n",
       "(2hop__16777_419765, 2hop__784447_126070)   0.005774  0.681636  0.690939   \n",
       "(2hop__272543_126102, 2hop__823584_776926)  0.011547  0.683859  0.690922   \n",
       "(2hop__54719_159941,)                       0.010000  0.685730  0.690605   \n",
       "(2hop__823584_776926,)                      0.010000  0.686033  0.687743   \n",
       "(2hop__16777_419765, 2hop__272543_126102)   0.010000  0.681692  0.686897   \n",
       "(2hop__54719_159941, 2hop__784447_126070)   0.020817  0.672828  0.683832   \n",
       "(2hop__54719_159941, 2hop__834974_332063)   0.005774  0.671603  0.679631   \n",
       "(2hop__823584_776926, 2hop__784447_126070)  0.010000  0.668429  0.677418   \n",
       "(2hop__823584_776926, 2hop__54719_159941)   0.005774  0.673763  0.677182   \n",
       "(2hop__272543_126102, 2hop__784447_126070)  0.015275  0.651017  0.672625   \n",
       "(2hop__784447_126070,)                      0.010000  0.651788  0.655203   \n",
       "\n",
       "                                                                \n",
       "                                                 max       std  \n",
       "examples                                                        \n",
       "(2hop__16777_419765, 2hop__834974_332063)   0.763407  0.021847  \n",
       "(2hop__16777_419765, 2hop__823584_776926)   0.756225  0.025252  \n",
       "(2hop__272543_126102, 2hop__54719_159941)   0.730192  0.021977  \n",
       "(2hop__834974_332063,)                      0.723599  0.010986  \n",
       "(2hop__272543_126102,)                      0.733494  0.021697  \n",
       "(2hop__272543_126102, 2hop__834974_332063)  0.712843  0.007529  \n",
       "(2hop__16777_419765, 2hop__54719_159941)    0.711781  0.009687  \n",
       "(2hop__823584_776926, 2hop__834974_332063)  0.707391  0.002894  \n",
       "(2hop__16777_419765,)                       0.724486  0.017758  \n",
       "(2hop__834974_332063, 2hop__784447_126070)  0.701727  0.007707  \n",
       "(2hop__16777_419765, 2hop__784447_126070)   0.696242  0.008083  \n",
       "(2hop__272543_126102, 2hop__823584_776926)  0.699335  0.007826  \n",
       "(2hop__54719_159941,)                       0.698852  0.007181  \n",
       "(2hop__823584_776926,)                      0.689255  0.001620  \n",
       "(2hop__16777_419765, 2hop__272543_126102)   0.694000  0.006369  \n",
       "(2hop__54719_159941, 2hop__784447_126070)   0.692779  0.010133  \n",
       "(2hop__54719_159941, 2hop__834974_332063)   0.684835  0.007054  \n",
       "(2hop__823584_776926, 2hop__784447_126070)  0.686065  0.008823  \n",
       "(2hop__823584_776926, 2hop__54719_159941)   0.683352  0.005354  \n",
       "(2hop__272543_126102, 2hop__784447_126070)  0.688762  0.019458  \n",
       "(2hop__784447_126070,)                      0.657424  0.003002  "
      ]
     },
     "execution_count": 14,
     "metadata": {},
     "output_type": "execute_result"
    }
   ],
   "source": [
    "agg_report_df.sort_values(('f1', 'mean'), ascending=False)"
   ]
  },
  {
   "cell_type": "code",
   "execution_count": 15,
   "metadata": {},
   "outputs": [
    {
     "data": {
      "text/html": [
       "<div>\n",
       "<style scoped>\n",
       "    .dataframe tbody tr th:only-of-type {\n",
       "        vertical-align: middle;\n",
       "    }\n",
       "\n",
       "    .dataframe tbody tr th {\n",
       "        vertical-align: top;\n",
       "    }\n",
       "\n",
       "    .dataframe thead tr th {\n",
       "        text-align: left;\n",
       "    }\n",
       "\n",
       "    .dataframe thead tr:last-of-type th {\n",
       "        text-align: right;\n",
       "    }\n",
       "</style>\n",
       "<table border=\"1\" class=\"dataframe\">\n",
       "  <thead>\n",
       "    <tr>\n",
       "      <th></th>\n",
       "      <th colspan=\"4\" halign=\"left\">exact_match</th>\n",
       "      <th colspan=\"4\" halign=\"left\">f1</th>\n",
       "    </tr>\n",
       "    <tr>\n",
       "      <th></th>\n",
       "      <th>min</th>\n",
       "      <th>mean</th>\n",
       "      <th>max</th>\n",
       "      <th>std</th>\n",
       "      <th>min</th>\n",
       "      <th>mean</th>\n",
       "      <th>max</th>\n",
       "      <th>std</th>\n",
       "    </tr>\n",
       "    <tr>\n",
       "      <th>examples</th>\n",
       "      <th></th>\n",
       "      <th></th>\n",
       "      <th></th>\n",
       "      <th></th>\n",
       "      <th></th>\n",
       "      <th></th>\n",
       "      <th></th>\n",
       "      <th></th>\n",
       "    </tr>\n",
       "  </thead>\n",
       "  <tbody>\n",
       "    <tr>\n",
       "      <th>(2hop__16777_419765,)</th>\n",
       "      <td>0.61</td>\n",
       "      <td>0.623333</td>\n",
       "      <td>0.64</td>\n",
       "      <td>0.015275</td>\n",
       "      <td>0.691264</td>\n",
       "      <td>0.704250</td>\n",
       "      <td>0.724486</td>\n",
       "      <td>0.017758</td>\n",
       "    </tr>\n",
       "    <tr>\n",
       "      <th>(2hop__16777_419765, 2hop__834974_332063)</th>\n",
       "      <td>0.61</td>\n",
       "      <td>0.623333</td>\n",
       "      <td>0.64</td>\n",
       "      <td>0.015275</td>\n",
       "      <td>0.724454</td>\n",
       "      <td>0.738216</td>\n",
       "      <td>0.763407</td>\n",
       "      <td>0.021847</td>\n",
       "    </tr>\n",
       "    <tr>\n",
       "      <th>(2hop__16777_419765, 2hop__823584_776926)</th>\n",
       "      <td>0.60</td>\n",
       "      <td>0.623333</td>\n",
       "      <td>0.65</td>\n",
       "      <td>0.025166</td>\n",
       "      <td>0.706255</td>\n",
       "      <td>0.733355</td>\n",
       "      <td>0.756225</td>\n",
       "      <td>0.025252</td>\n",
       "    </tr>\n",
       "    <tr>\n",
       "      <th>(2hop__272543_126102,)</th>\n",
       "      <td>0.59</td>\n",
       "      <td>0.610000</td>\n",
       "      <td>0.64</td>\n",
       "      <td>0.026458</td>\n",
       "      <td>0.690160</td>\n",
       "      <td>0.711160</td>\n",
       "      <td>0.733494</td>\n",
       "      <td>0.021697</td>\n",
       "    </tr>\n",
       "    <tr>\n",
       "      <th>(2hop__834974_332063,)</th>\n",
       "      <td>0.59</td>\n",
       "      <td>0.606667</td>\n",
       "      <td>0.62</td>\n",
       "      <td>0.015275</td>\n",
       "      <td>0.701629</td>\n",
       "      <td>0.712523</td>\n",
       "      <td>0.723599</td>\n",
       "      <td>0.010986</td>\n",
       "    </tr>\n",
       "    <tr>\n",
       "      <th>(2hop__834974_332063, 2hop__784447_126070)</th>\n",
       "      <td>0.60</td>\n",
       "      <td>0.603333</td>\n",
       "      <td>0.61</td>\n",
       "      <td>0.005774</td>\n",
       "      <td>0.687376</td>\n",
       "      <td>0.696176</td>\n",
       "      <td>0.701727</td>\n",
       "      <td>0.007707</td>\n",
       "    </tr>\n",
       "    <tr>\n",
       "      <th>(2hop__272543_126102, 2hop__834974_332063)</th>\n",
       "      <td>0.58</td>\n",
       "      <td>0.593333</td>\n",
       "      <td>0.61</td>\n",
       "      <td>0.015275</td>\n",
       "      <td>0.698946</td>\n",
       "      <td>0.707568</td>\n",
       "      <td>0.712843</td>\n",
       "      <td>0.007529</td>\n",
       "    </tr>\n",
       "    <tr>\n",
       "      <th>(2hop__16777_419765, 2hop__272543_126102)</th>\n",
       "      <td>0.58</td>\n",
       "      <td>0.590000</td>\n",
       "      <td>0.60</td>\n",
       "      <td>0.010000</td>\n",
       "      <td>0.681692</td>\n",
       "      <td>0.686897</td>\n",
       "      <td>0.694000</td>\n",
       "      <td>0.006369</td>\n",
       "    </tr>\n",
       "    <tr>\n",
       "      <th>(2hop__16777_419765, 2hop__54719_159941)</th>\n",
       "      <td>0.57</td>\n",
       "      <td>0.586667</td>\n",
       "      <td>0.60</td>\n",
       "      <td>0.015275</td>\n",
       "      <td>0.694939</td>\n",
       "      <td>0.706125</td>\n",
       "      <td>0.711781</td>\n",
       "      <td>0.009687</td>\n",
       "    </tr>\n",
       "    <tr>\n",
       "      <th>(2hop__272543_126102, 2hop__54719_159941)</th>\n",
       "      <td>0.54</td>\n",
       "      <td>0.583333</td>\n",
       "      <td>0.61</td>\n",
       "      <td>0.037859</td>\n",
       "      <td>0.689240</td>\n",
       "      <td>0.714325</td>\n",
       "      <td>0.730192</td>\n",
       "      <td>0.021977</td>\n",
       "    </tr>\n",
       "    <tr>\n",
       "      <th>(2hop__823584_776926, 2hop__834974_332063)</th>\n",
       "      <td>0.58</td>\n",
       "      <td>0.580000</td>\n",
       "      <td>0.58</td>\n",
       "      <td>0.000000</td>\n",
       "      <td>0.701984</td>\n",
       "      <td>0.705284</td>\n",
       "      <td>0.707391</td>\n",
       "      <td>0.002894</td>\n",
       "    </tr>\n",
       "    <tr>\n",
       "      <th>(2hop__54719_159941,)</th>\n",
       "      <td>0.56</td>\n",
       "      <td>0.570000</td>\n",
       "      <td>0.58</td>\n",
       "      <td>0.010000</td>\n",
       "      <td>0.685730</td>\n",
       "      <td>0.690605</td>\n",
       "      <td>0.698852</td>\n",
       "      <td>0.007181</td>\n",
       "    </tr>\n",
       "    <tr>\n",
       "      <th>(2hop__823584_776926,)</th>\n",
       "      <td>0.56</td>\n",
       "      <td>0.570000</td>\n",
       "      <td>0.58</td>\n",
       "      <td>0.010000</td>\n",
       "      <td>0.686033</td>\n",
       "      <td>0.687743</td>\n",
       "      <td>0.689255</td>\n",
       "      <td>0.001620</td>\n",
       "    </tr>\n",
       "    <tr>\n",
       "      <th>(2hop__54719_159941, 2hop__834974_332063)</th>\n",
       "      <td>0.56</td>\n",
       "      <td>0.566667</td>\n",
       "      <td>0.57</td>\n",
       "      <td>0.005774</td>\n",
       "      <td>0.671603</td>\n",
       "      <td>0.679631</td>\n",
       "      <td>0.684835</td>\n",
       "      <td>0.007054</td>\n",
       "    </tr>\n",
       "    <tr>\n",
       "      <th>(2hop__272543_126102, 2hop__784447_126070)</th>\n",
       "      <td>0.55</td>\n",
       "      <td>0.563333</td>\n",
       "      <td>0.58</td>\n",
       "      <td>0.015275</td>\n",
       "      <td>0.651017</td>\n",
       "      <td>0.672625</td>\n",
       "      <td>0.688762</td>\n",
       "      <td>0.019458</td>\n",
       "    </tr>\n",
       "    <tr>\n",
       "      <th>(2hop__54719_159941, 2hop__784447_126070)</th>\n",
       "      <td>0.54</td>\n",
       "      <td>0.563333</td>\n",
       "      <td>0.58</td>\n",
       "      <td>0.020817</td>\n",
       "      <td>0.672828</td>\n",
       "      <td>0.683832</td>\n",
       "      <td>0.692779</td>\n",
       "      <td>0.010133</td>\n",
       "    </tr>\n",
       "    <tr>\n",
       "      <th>(2hop__823584_776926, 2hop__784447_126070)</th>\n",
       "      <td>0.55</td>\n",
       "      <td>0.560000</td>\n",
       "      <td>0.57</td>\n",
       "      <td>0.010000</td>\n",
       "      <td>0.668429</td>\n",
       "      <td>0.677418</td>\n",
       "      <td>0.686065</td>\n",
       "      <td>0.008823</td>\n",
       "    </tr>\n",
       "    <tr>\n",
       "      <th>(2hop__16777_419765, 2hop__784447_126070)</th>\n",
       "      <td>0.55</td>\n",
       "      <td>0.556667</td>\n",
       "      <td>0.56</td>\n",
       "      <td>0.005774</td>\n",
       "      <td>0.681636</td>\n",
       "      <td>0.690939</td>\n",
       "      <td>0.696242</td>\n",
       "      <td>0.008083</td>\n",
       "    </tr>\n",
       "    <tr>\n",
       "      <th>(2hop__272543_126102, 2hop__823584_776926)</th>\n",
       "      <td>0.55</td>\n",
       "      <td>0.556667</td>\n",
       "      <td>0.57</td>\n",
       "      <td>0.011547</td>\n",
       "      <td>0.683859</td>\n",
       "      <td>0.690922</td>\n",
       "      <td>0.699335</td>\n",
       "      <td>0.007826</td>\n",
       "    </tr>\n",
       "    <tr>\n",
       "      <th>(2hop__823584_776926, 2hop__54719_159941)</th>\n",
       "      <td>0.54</td>\n",
       "      <td>0.546667</td>\n",
       "      <td>0.55</td>\n",
       "      <td>0.005774</td>\n",
       "      <td>0.673763</td>\n",
       "      <td>0.677182</td>\n",
       "      <td>0.683352</td>\n",
       "      <td>0.005354</td>\n",
       "    </tr>\n",
       "    <tr>\n",
       "      <th>(2hop__784447_126070,)</th>\n",
       "      <td>0.53</td>\n",
       "      <td>0.540000</td>\n",
       "      <td>0.55</td>\n",
       "      <td>0.010000</td>\n",
       "      <td>0.651788</td>\n",
       "      <td>0.655203</td>\n",
       "      <td>0.657424</td>\n",
       "      <td>0.003002</td>\n",
       "    </tr>\n",
       "  </tbody>\n",
       "</table>\n",
       "</div>"
      ],
      "text/plain": [
       "                                           exact_match                  \\\n",
       "                                                   min      mean   max   \n",
       "examples                                                                 \n",
       "(2hop__16777_419765,)                             0.61  0.623333  0.64   \n",
       "(2hop__16777_419765, 2hop__834974_332063)         0.61  0.623333  0.64   \n",
       "(2hop__16777_419765, 2hop__823584_776926)         0.60  0.623333  0.65   \n",
       "(2hop__272543_126102,)                            0.59  0.610000  0.64   \n",
       "(2hop__834974_332063,)                            0.59  0.606667  0.62   \n",
       "(2hop__834974_332063, 2hop__784447_126070)        0.60  0.603333  0.61   \n",
       "(2hop__272543_126102, 2hop__834974_332063)        0.58  0.593333  0.61   \n",
       "(2hop__16777_419765, 2hop__272543_126102)         0.58  0.590000  0.60   \n",
       "(2hop__16777_419765, 2hop__54719_159941)          0.57  0.586667  0.60   \n",
       "(2hop__272543_126102, 2hop__54719_159941)         0.54  0.583333  0.61   \n",
       "(2hop__823584_776926, 2hop__834974_332063)        0.58  0.580000  0.58   \n",
       "(2hop__54719_159941,)                             0.56  0.570000  0.58   \n",
       "(2hop__823584_776926,)                            0.56  0.570000  0.58   \n",
       "(2hop__54719_159941, 2hop__834974_332063)         0.56  0.566667  0.57   \n",
       "(2hop__272543_126102, 2hop__784447_126070)        0.55  0.563333  0.58   \n",
       "(2hop__54719_159941, 2hop__784447_126070)         0.54  0.563333  0.58   \n",
       "(2hop__823584_776926, 2hop__784447_126070)        0.55  0.560000  0.57   \n",
       "(2hop__16777_419765, 2hop__784447_126070)         0.55  0.556667  0.56   \n",
       "(2hop__272543_126102, 2hop__823584_776926)        0.55  0.556667  0.57   \n",
       "(2hop__823584_776926, 2hop__54719_159941)         0.54  0.546667  0.55   \n",
       "(2hop__784447_126070,)                            0.53  0.540000  0.55   \n",
       "\n",
       "                                                            f1            \\\n",
       "                                                 std       min      mean   \n",
       "examples                                                                   \n",
       "(2hop__16777_419765,)                       0.015275  0.691264  0.704250   \n",
       "(2hop__16777_419765, 2hop__834974_332063)   0.015275  0.724454  0.738216   \n",
       "(2hop__16777_419765, 2hop__823584_776926)   0.025166  0.706255  0.733355   \n",
       "(2hop__272543_126102,)                      0.026458  0.690160  0.711160   \n",
       "(2hop__834974_332063,)                      0.015275  0.701629  0.712523   \n",
       "(2hop__834974_332063, 2hop__784447_126070)  0.005774  0.687376  0.696176   \n",
       "(2hop__272543_126102, 2hop__834974_332063)  0.015275  0.698946  0.707568   \n",
       "(2hop__16777_419765, 2hop__272543_126102)   0.010000  0.681692  0.686897   \n",
       "(2hop__16777_419765, 2hop__54719_159941)    0.015275  0.694939  0.706125   \n",
       "(2hop__272543_126102, 2hop__54719_159941)   0.037859  0.689240  0.714325   \n",
       "(2hop__823584_776926, 2hop__834974_332063)  0.000000  0.701984  0.705284   \n",
       "(2hop__54719_159941,)                       0.010000  0.685730  0.690605   \n",
       "(2hop__823584_776926,)                      0.010000  0.686033  0.687743   \n",
       "(2hop__54719_159941, 2hop__834974_332063)   0.005774  0.671603  0.679631   \n",
       "(2hop__272543_126102, 2hop__784447_126070)  0.015275  0.651017  0.672625   \n",
       "(2hop__54719_159941, 2hop__784447_126070)   0.020817  0.672828  0.683832   \n",
       "(2hop__823584_776926, 2hop__784447_126070)  0.010000  0.668429  0.677418   \n",
       "(2hop__16777_419765, 2hop__784447_126070)   0.005774  0.681636  0.690939   \n",
       "(2hop__272543_126102, 2hop__823584_776926)  0.011547  0.683859  0.690922   \n",
       "(2hop__823584_776926, 2hop__54719_159941)   0.005774  0.673763  0.677182   \n",
       "(2hop__784447_126070,)                      0.010000  0.651788  0.655203   \n",
       "\n",
       "                                                                \n",
       "                                                 max       std  \n",
       "examples                                                        \n",
       "(2hop__16777_419765,)                       0.724486  0.017758  \n",
       "(2hop__16777_419765, 2hop__834974_332063)   0.763407  0.021847  \n",
       "(2hop__16777_419765, 2hop__823584_776926)   0.756225  0.025252  \n",
       "(2hop__272543_126102,)                      0.733494  0.021697  \n",
       "(2hop__834974_332063,)                      0.723599  0.010986  \n",
       "(2hop__834974_332063, 2hop__784447_126070)  0.701727  0.007707  \n",
       "(2hop__272543_126102, 2hop__834974_332063)  0.712843  0.007529  \n",
       "(2hop__16777_419765, 2hop__272543_126102)   0.694000  0.006369  \n",
       "(2hop__16777_419765, 2hop__54719_159941)    0.711781  0.009687  \n",
       "(2hop__272543_126102, 2hop__54719_159941)   0.730192  0.021977  \n",
       "(2hop__823584_776926, 2hop__834974_332063)  0.707391  0.002894  \n",
       "(2hop__54719_159941,)                       0.698852  0.007181  \n",
       "(2hop__823584_776926,)                      0.689255  0.001620  \n",
       "(2hop__54719_159941, 2hop__834974_332063)   0.684835  0.007054  \n",
       "(2hop__272543_126102, 2hop__784447_126070)  0.688762  0.019458  \n",
       "(2hop__54719_159941, 2hop__784447_126070)   0.692779  0.010133  \n",
       "(2hop__823584_776926, 2hop__784447_126070)  0.686065  0.008823  \n",
       "(2hop__16777_419765, 2hop__784447_126070)   0.696242  0.008083  \n",
       "(2hop__272543_126102, 2hop__823584_776926)  0.699335  0.007826  \n",
       "(2hop__823584_776926, 2hop__54719_159941)   0.683352  0.005354  \n",
       "(2hop__784447_126070,)                      0.657424  0.003002  "
      ]
     },
     "execution_count": 15,
     "metadata": {},
     "output_type": "execute_result"
    }
   ],
   "source": [
    "agg_report_df.sort_values(('exact_match', 'mean'), ascending=False)"
   ]
  },
  {
   "cell_type": "code",
   "execution_count": 25,
   "metadata": {},
   "outputs": [
    {
     "data": {
      "text/plain": [
       "[(0.7099637152970486, '2hop__16777_419765'),\n",
       " (0.7065663965663966, '2hop__834974_332063'),\n",
       " (0.6972495837495838, '2hop__272543_126102'),\n",
       " (0.6953172629839296, '2hop__823584_776926'),\n",
       " (0.6919499204499204, '2hop__54719_159941'),\n",
       " (0.6793656281989615, '2hop__784447_126070')]"
      ]
     },
     "execution_count": 25,
     "metadata": {},
     "output_type": "execute_result"
    }
   ],
   "source": [
    "from collections import defaultdict\n",
    "\n",
    "example_score_mapping = defaultdict(list)\n",
    "\n",
    "for _, row in report_df.iterrows():\n",
    "    for example in row['examples']:\n",
    "        example_score_mapping[example].append(row['f1']) \n",
    "\n",
    "sorted([(np.array(scores).mean(), id) for id, scores in example_score_mapping.items()], reverse=True)"
   ]
  },
  {
   "cell_type": "code",
   "execution_count": 24,
   "metadata": {},
   "outputs": [],
   "source": [
    "selected_ids = [\n",
    "    \"2hop__16777_419765\",\n",
    "    \"2hop__823584_776926\"\n",
    "]\n",
    "with open(\"selected-cte-few-shot-examples.json\", \"w\") as f:\n",
    "    json.dump([example for example in few_shot_examples if example[\"id\"] in selected_ids], f, indent=2)"
   ]
  },
  {
   "cell_type": "code",
   "execution_count": null,
   "metadata": {},
   "outputs": [],
   "source": []
  }
 ],
 "metadata": {
  "kernelspec": {
   "display_name": "python3",
   "language": "python",
   "name": "python3"
  },
  "language_info": {
   "codemirror_mode": {
    "name": "ipython",
    "version": 3
   },
   "file_extension": ".py",
   "mimetype": "text/x-python",
   "name": "python",
   "nbconvert_exporter": "python",
   "pygments_lexer": "ipython3",
   "version": "3.10.14"
  }
 },
 "nbformat": 4,
 "nbformat_minor": 4
}

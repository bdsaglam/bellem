{
 "cells": [
  {
   "cell_type": "code",
   "execution_count": 20,
   "metadata": {},
   "outputs": [
    {
     "data": {
      "text/plain": [
       "True"
      ]
     },
     "execution_count": 20,
     "metadata": {},
     "output_type": "execute_result"
    }
   ],
   "source": [
    "from dotenv import load_dotenv\n",
    "load_dotenv()"
   ]
  },
  {
   "cell_type": "code",
   "execution_count": 21,
   "metadata": {},
   "outputs": [],
   "source": [
    "import json\n",
    "import pandas as pd\n",
    "from pathlib import Path\n",
    "from copy import deepcopy\n",
    "from functools import partial\n",
    "\n",
    "from bellem.utils import set_seed, jprint\n",
    "from bellem.musique.singlehop import benchmark\n",
    "from bellem.musique.qa import answer_question_cte\n",
    "\n",
    "# set_seed(89)"
   ]
  },
  {
   "cell_type": "code",
   "execution_count": 22,
   "metadata": {},
   "outputs": [],
   "source": [
    "from tqdm.auto import tqdm\n",
    "tqdm.pandas()"
   ]
  },
  {
   "cell_type": "code",
   "execution_count": 23,
   "metadata": {},
   "outputs": [
    {
     "name": "stdout",
     "output_type": "stream",
     "text": [
      "(14376, 8)\n"
     ]
    },
    {
     "data": {
      "text/html": [
       "<div>\n",
       "<style scoped>\n",
       "    .dataframe tbody tr th:only-of-type {\n",
       "        vertical-align: middle;\n",
       "    }\n",
       "\n",
       "    .dataframe tbody tr th {\n",
       "        vertical-align: top;\n",
       "    }\n",
       "\n",
       "    .dataframe thead th {\n",
       "        text-align: right;\n",
       "    }\n",
       "</style>\n",
       "<table border=\"1\" class=\"dataframe\">\n",
       "  <thead>\n",
       "    <tr style=\"text-align: right;\">\n",
       "      <th></th>\n",
       "      <th>id</th>\n",
       "      <th>paragraphs</th>\n",
       "      <th>question</th>\n",
       "      <th>question_decomposition</th>\n",
       "      <th>answer</th>\n",
       "      <th>answer_aliases</th>\n",
       "      <th>answerable</th>\n",
       "      <th>answers</th>\n",
       "    </tr>\n",
       "  </thead>\n",
       "  <tbody>\n",
       "    <tr>\n",
       "      <th>0</th>\n",
       "      <td>2hop__128801_205185</td>\n",
       "      <td>[{'idx': 0, 'title': 'Pama, Burkina Faso', 'pa...</td>\n",
       "      <td>What county is the town where KNFM is licensed...</td>\n",
       "      <td>[{'id': 128801, 'question': 'What town is KNFM...</td>\n",
       "      <td>Midland County</td>\n",
       "      <td>[Midland County, Midland County, Texas]</td>\n",
       "      <td>True</td>\n",
       "      <td>[Midland County, Midland County, Texas]</td>\n",
       "    </tr>\n",
       "    <tr>\n",
       "      <th>1</th>\n",
       "      <td>2hop__719559_217649</td>\n",
       "      <td>[{'idx': 0, 'title': 'Antoine Marchand', 'para...</td>\n",
       "      <td>What's the record label of the artist who put ...</td>\n",
       "      <td>[{'id': 719559, 'question': 'Me and Julio Down...</td>\n",
       "      <td>Warner Bros.</td>\n",
       "      <td>[Warner Bros.]</td>\n",
       "      <td>True</td>\n",
       "      <td>[Warner Bros.]</td>\n",
       "    </tr>\n",
       "    <tr>\n",
       "      <th>2</th>\n",
       "      <td>2hop__128806_205185</td>\n",
       "      <td>[{'idx': 0, 'title': 'Spanish Town', 'paragrap...</td>\n",
       "      <td>What region is the town where KQRX is liscense...</td>\n",
       "      <td>[{'id': 128806, 'question': 'What town is KQRX...</td>\n",
       "      <td>Midland County</td>\n",
       "      <td>[Midland County, Midland County, Texas]</td>\n",
       "      <td>True</td>\n",
       "      <td>[Midland County, Midland County, Texas]</td>\n",
       "    </tr>\n",
       "    <tr>\n",
       "      <th>3</th>\n",
       "      <td>2hop__837090_278127</td>\n",
       "      <td>[{'idx': 0, 'title': 'The Opening (album)', 'p...</td>\n",
       "      <td>What is the record label of the Do It Again pe...</td>\n",
       "      <td>[{'id': 837090, 'question': 'Do It Again &gt;&gt; pe...</td>\n",
       "      <td>Roc-A-Fella Records</td>\n",
       "      <td>[Roc-A-Fella Records]</td>\n",
       "      <td>True</td>\n",
       "      <td>[Roc-A-Fella Records]</td>\n",
       "    </tr>\n",
       "    <tr>\n",
       "      <th>4</th>\n",
       "      <td>2hop__128895_11424</td>\n",
       "      <td>[{'idx': 0, 'title': 'Ehrhardt, South Carolina...</td>\n",
       "      <td>How many households were there in the town WPU...</td>\n",
       "      <td>[{'id': 128895, 'question': 'What town is WPUR...</td>\n",
       "      <td>15,504</td>\n",
       "      <td>[15,504]</td>\n",
       "      <td>True</td>\n",
       "      <td>[15,504]</td>\n",
       "    </tr>\n",
       "  </tbody>\n",
       "</table>\n",
       "</div>"
      ],
      "text/plain": [
       "                    id                                         paragraphs  \\\n",
       "0  2hop__128801_205185  [{'idx': 0, 'title': 'Pama, Burkina Faso', 'pa...   \n",
       "1  2hop__719559_217649  [{'idx': 0, 'title': 'Antoine Marchand', 'para...   \n",
       "2  2hop__128806_205185  [{'idx': 0, 'title': 'Spanish Town', 'paragrap...   \n",
       "3  2hop__837090_278127  [{'idx': 0, 'title': 'The Opening (album)', 'p...   \n",
       "4   2hop__128895_11424  [{'idx': 0, 'title': 'Ehrhardt, South Carolina...   \n",
       "\n",
       "                                            question  \\\n",
       "0  What county is the town where KNFM is licensed...   \n",
       "1  What's the record label of the artist who put ...   \n",
       "2  What region is the town where KQRX is liscense...   \n",
       "3  What is the record label of the Do It Again pe...   \n",
       "4  How many households were there in the town WPU...   \n",
       "\n",
       "                              question_decomposition               answer  \\\n",
       "0  [{'id': 128801, 'question': 'What town is KNFM...       Midland County   \n",
       "1  [{'id': 719559, 'question': 'Me and Julio Down...         Warner Bros.   \n",
       "2  [{'id': 128806, 'question': 'What town is KQRX...       Midland County   \n",
       "3  [{'id': 837090, 'question': 'Do It Again >> pe...  Roc-A-Fella Records   \n",
       "4  [{'id': 128895, 'question': 'What town is WPUR...               15,504   \n",
       "\n",
       "                            answer_aliases  answerable  \\\n",
       "0  [Midland County, Midland County, Texas]        True   \n",
       "1                           [Warner Bros.]        True   \n",
       "2  [Midland County, Midland County, Texas]        True   \n",
       "3                    [Roc-A-Fella Records]        True   \n",
       "4                                 [15,504]        True   \n",
       "\n",
       "                                   answers  \n",
       "0  [Midland County, Midland County, Texas]  \n",
       "1                           [Warner Bros.]  \n",
       "2  [Midland County, Midland County, Texas]  \n",
       "3                    [Roc-A-Fella Records]  \n",
       "4                                 [15,504]  "
      ]
     },
     "execution_count": 23,
     "metadata": {},
     "output_type": "execute_result"
    }
   ],
   "source": [
    "df = pd.read_json('../../data/generated/musique-common/base-dataset-train.jsonl', orient='records', lines=True)\n",
    "# df = df.sample(200, random_state=31)\n",
    "\n",
    "print(df.shape)\n",
    "df.head()"
   ]
  },
  {
   "cell_type": "code",
   "execution_count": 26,
   "metadata": {},
   "outputs": [
    {
     "data": {
      "text/html": [
       "<div>\n",
       "<style scoped>\n",
       "    .dataframe tbody tr th:only-of-type {\n",
       "        vertical-align: middle;\n",
       "    }\n",
       "\n",
       "    .dataframe tbody tr th {\n",
       "        vertical-align: top;\n",
       "    }\n",
       "\n",
       "    .dataframe thead th {\n",
       "        text-align: right;\n",
       "    }\n",
       "</style>\n",
       "<table border=\"1\" class=\"dataframe\">\n",
       "  <thead>\n",
       "    <tr style=\"text-align: right;\">\n",
       "      <th></th>\n",
       "      <th>id</th>\n",
       "      <th>paragraphs</th>\n",
       "      <th>question</th>\n",
       "      <th>question_decomposition</th>\n",
       "      <th>answer</th>\n",
       "      <th>answer_aliases</th>\n",
       "      <th>answerable</th>\n",
       "      <th>answers</th>\n",
       "    </tr>\n",
       "    <tr>\n",
       "      <th>id</th>\n",
       "      <th></th>\n",
       "      <th></th>\n",
       "      <th></th>\n",
       "      <th></th>\n",
       "      <th></th>\n",
       "      <th></th>\n",
       "      <th></th>\n",
       "      <th></th>\n",
       "    </tr>\n",
       "  </thead>\n",
       "  <tbody>\n",
       "    <tr>\n",
       "      <th>2hop__834974_332063</th>\n",
       "      <td>2hop__834974_332063</td>\n",
       "      <td>[{'idx': 0, 'title': 'Kingdom of Gera', 'parag...</td>\n",
       "      <td>Which region shares border with one where Perr...</td>\n",
       "      <td>[{'id': 834974, 'question': 'Perry Township &gt;&gt;...</td>\n",
       "      <td>Franklin County</td>\n",
       "      <td>[Franklin County]</td>\n",
       "      <td>True</td>\n",
       "      <td>[Franklin County]</td>\n",
       "    </tr>\n",
       "  </tbody>\n",
       "</table>\n",
       "</div>"
      ],
      "text/plain": [
       "                                      id  \\\n",
       "id                                         \n",
       "2hop__834974_332063  2hop__834974_332063   \n",
       "\n",
       "                                                            paragraphs  \\\n",
       "id                                                                       \n",
       "2hop__834974_332063  [{'idx': 0, 'title': 'Kingdom of Gera', 'parag...   \n",
       "\n",
       "                                                              question  \\\n",
       "id                                                                       \n",
       "2hop__834974_332063  Which region shares border with one where Perr...   \n",
       "\n",
       "                                                question_decomposition  \\\n",
       "id                                                                       \n",
       "2hop__834974_332063  [{'id': 834974, 'question': 'Perry Township >>...   \n",
       "\n",
       "                              answer     answer_aliases  answerable  \\\n",
       "id                                                                    \n",
       "2hop__834974_332063  Franklin County  [Franklin County]        True   \n",
       "\n",
       "                               answers  \n",
       "id                                      \n",
       "2hop__834974_332063  [Franklin County]  "
      ]
     },
     "execution_count": 26,
     "metadata": {},
     "output_type": "execute_result"
    }
   ],
   "source": [
    "df.set_index('id', drop=False).loc[['2hop__834974_332063']]"
   ]
  },
  {
   "cell_type": "code",
   "execution_count": 5,
   "metadata": {},
   "outputs": [],
   "source": [
    "perfect_retrieval_func = lambda docs, query: [doc for doc in docs if doc['is_supporting']]"
   ]
  },
  {
   "cell_type": "code",
   "execution_count": 6,
   "metadata": {},
   "outputs": [
    {
     "data": {
      "application/vnd.jupyter.widget-view+json": {
       "model_id": "cebc936de7b84704bb33888d085c2f85",
       "version_major": 2,
       "version_minor": 0
      },
      "text/plain": [
       "  0%|          | 0/200 [00:00<?, ?it/s]"
      ]
     },
     "metadata": {},
     "output_type": "display_data"
    }
   ],
   "source": [
    "qa_func = partial(answer_question_cte, model_name=\"gpt-3.5-turbo\")\n",
    "df_gpt_35, scores = benchmark(df, qa_func, perfect_retrieval_func, ignore_errors=False)"
   ]
  },
  {
   "cell_type": "code",
   "execution_count": 7,
   "metadata": {},
   "outputs": [
    {
     "data": {
      "application/vnd.jupyter.widget-view+json": {
       "model_id": "67cbad12228a41d19c487611abfe486a",
       "version_major": 2,
       "version_minor": 0
      },
      "text/plain": [
       "  0%|          | 0/200 [00:00<?, ?it/s]"
      ]
     },
     "metadata": {},
     "output_type": "display_data"
    }
   ],
   "source": [
    "qa_func = partial(answer_question_cte, model_name=\"gpt-4-turbo\")\n",
    "df_gpt_4, scores = benchmark(df, qa_func, perfect_retrieval_func, ignore_errors=False)"
   ]
  },
  {
   "cell_type": "code",
   "execution_count": 8,
   "metadata": {},
   "outputs": [
    {
     "data": {
      "text/plain": [
       "(128, 124)"
      ]
     },
     "execution_count": 8,
     "metadata": {},
     "output_type": "execute_result"
    }
   ],
   "source": [
    "df_gpt_35['exact_match'].sum(), df_gpt_4['exact_match'].sum()"
   ]
  },
  {
   "cell_type": "code",
   "execution_count": 9,
   "metadata": {},
   "outputs": [
    {
     "data": {
      "text/plain": [
       "(161, 170)"
      ]
     },
     "execution_count": 9,
     "metadata": {},
     "output_type": "execute_result"
    }
   ],
   "source": [
    "df_gpt_35['fuzzy_match'].sum(), df_gpt_4['fuzzy_match'].sum()"
   ]
  },
  {
   "cell_type": "code",
   "execution_count": 10,
   "metadata": {},
   "outputs": [
    {
     "data": {
      "text/plain": [
       "{'answer': 'Gainesville, Florida',\n",
       " 'hops': [{'question': 'What is the birthplace of the artist who played Lucky on King of the Hill?',\n",
       "   'query': 'What is the birthplace of the artist who played Lucky on King of the Hill?',\n",
       "   'context': '# Tom Petty and the Heartbreakers\\nTom Petty and the Heartbreakers (alternately Tom Petty & The Heartbreakers) were an American rock band from Gainesville, Florida. Formed in 1976, the band originally comprised Tom Petty (lead singer, guitar), Mike Campbell (lead guitarist), Ron Blair (bass guitar), Stan Lynch (drums), and Benmont Tench (keyboards). In 1981, Blair, weary of the touring lifestyle, departed the band. His replacement, Howie Epstein, stayed with the band for the next two decades. In 1991, Scott Thurston joined the band as a multi-instrumentalist—mostly on rhythm guitar and second keyboards. Blair returned to the Heartbreakers in 2002, the year before Epstein\\'s death. In 1994, Steve Ferrone replaced Lynch on drums. The band is best known for the hit singles \"American Girl\", \"Breakdown\", \"The Waiting\", \"Learning to Fly\", \"Refugee\" and \"Mary Jane\\'s Last Dance\".\\n# List of King of the Hill characters\\nElroy ``Lucky \\'\\'Kleinschmidt (voiced by Tom Petty) -- Lucky is Luanne\\'s itinerant, but generally benign redneck husband, and is the father of Luanne\\'s child. It is often hard for Lucky to hold down a job (he has no credit or Social Security number). He lives on the remainder of the $53,000`` settlement monies\\'\\' he received after ``slipping on pee - pee at the Costco \\'\\'having had a portion of his spine fused. He was nicknamed`` Lucky\\'\\' after the settlement windfall. After he spent a majority of his money customizing his truck, his finances dwindled down to nine thousand dollars but regained another $53,000 when an ambulance chasing lawyer paid off Lucky to avoid a lawsuit. Peggy tried very hard to break him and Luanne apart, but after Luanne\\'s pregnancy was revealed, she and Hank reconciled the two, giving them a shotgun wedding at Lucky\\'s request. He is also one of the guitarists for John Redcorn\\'s band ``Big Mountain Fudgecake \\'\\'. Although dimwitted in some aspects, Lucky has learned some facets such as basic math through life experience as opposed to formal education, and was astute enough to deduce that his father - in - law spent time in jail whereas Luanne believed the story that he works on an oil rig. He yearned to receive his GED but only to prove he was good enough to marry Luanne.',\n",
       "   'answer': 'Gainesville, Florida',\n",
       "   'llm_output': {'triplets': ['Tom Petty | voiced | Lucky on King of the Hill',\n",
       "     'Tom Petty | born in | Gainesville, Florida'],\n",
       "    'answer': 'Gainesville, Florida',\n",
       "    'generation': 'Triplets:\\nTom Petty | voiced | Lucky on King of the Hill\\nTom Petty | born in | Gainesville, Florida\\n\\nAnswer: Gainesville, Florida'}}]}"
      ]
     },
     "execution_count": 10,
     "metadata": {},
     "output_type": "execute_result"
    }
   ],
   "source": [
    "df_gpt_4.iloc[0]['raw_output']"
   ]
  },
  {
   "cell_type": "code",
   "execution_count": 11,
   "metadata": {},
   "outputs": [
    {
     "data": {
      "text/plain": [
       "21"
      ]
     },
     "execution_count": 11,
     "metadata": {},
     "output_type": "execute_result"
    }
   ],
   "source": [
    "mask = (~df_gpt_35['fuzzy_match']) & df_gpt_4['fuzzy_match']\n",
    "mask.sum()"
   ]
  },
  {
   "cell_type": "code",
   "execution_count": 12,
   "metadata": {},
   "outputs": [
    {
     "data": {
      "text/plain": [
       "[{'id': '2hop__360010_159937',\n",
       "  'context': '# Sadad, Bahrain\\nSadad is a coastal village situated on the western shore of Bahrain. It is situated to the south of Malkiya and to the west of Hamad Town, in the Northern Governorate administrative region of the country.\\n# Bahrain World Trade Center\\nThe Bahrain World Trade Center (also called Bahrain WTC or BWTC) is a 240-metre-high (787 ft), 50-floor, twin tower complex located in Manama, Bahrain. Designed by the multi-national architectural firm Atkins, construction on the towers was completed in 2008. It is the first skyscraper in the world to integrate wind turbines into its design. The wind turbines were developed, built and installed by the Danish company Norwin A/S.The structure is constructed close to the King Faisal Highway, near popular landmarks such as the towers of Bahrain Financial Harbour (BFH), NBB and Abraj Al Lulu. It currently ranks as the second-tallest building in Bahrain, after the twin towers of the Bahrain Financial Harbour. The project has received several awards for sustainability, including:',\n",
       "  'question': 'What is the tallest structure in the country where Sadad is located?',\n",
       "  'generation': 'Triplets:\\nSadad | located in | Bahrain\\nBahrain World Trade Center | second-tallest building | Bahrain\\nBahrain Financial Harbour | twin towers | tallest building in Bahrain\\n\\nAnswer: Bahrain Financial Harbour'},\n",
       " {'id': '2hop__75066_20655',\n",
       "  'context': '# Industrial Revolution\\nThe precise start and end of the Industrial Revolution is still debated among historians, as is the pace of economic and social changes. Eric Hobsbawm held that the Industrial Revolution began in Britain in the 1780s and was not fully felt until the 1830s or 1840s, while T.S. Ashton held that it occurred roughly between 1760 and 1830. Rapid industrialization first began in Britain, starting with mechanized spinning in the 1780s, with high rates of growth in steam power and iron production occurring after 1800. Mechanized textile production spread from Great Britain to continental Europe and the United States in the early 19th century, with important centres of textiles, iron and coal emerging in Belgium and the United States and later textiles in France.\\n# British Empire\\nThe Suez Crisis very publicly exposed Britain\\'s limitations to the world and confirmed Britain\\'s decline on the world stage, demonstrating that henceforth it could no longer act without at least the acquiescence, if not the full support, of the United States. The events at Suez wounded British national pride, leading one MP to describe it as \"Britain\\'s Waterloo\" and another to suggest that the country had become an \"American satellite\". Margaret Thatcher later described the mindset she believed had befallen the British political establishment as \"Suez syndrome\", from which Britain did not recover until the successful recapture of the Falkland Islands from Argentina in 1982.',\n",
       "  'question': 'Where did the Waterloo for the country where the industrial revolution began occur?',\n",
       "  'generation': \"Triplets:\\nIndustrial Revolution | began in | Britain\\nSuez Crisis | described as | Britain's Waterloo\\n\\nAnswer: Suez Canal\"},\n",
       " {'id': '2hop__139924_4688',\n",
       "  'context': '# BBC Television\\nThe two systems were to run on a trial basis for six months; early television sets supported both resolutions. However, the Baird system, which used a mechanical camera for filmed programming and Farnsworth image dissector cameras for live programming, proved too cumbersome and visually inferior, and ended with closedown (at 22:00) on Saturday 13 February 1937.\\n# Elizabeth R\\nElizabeth R is a BBC television drama serial of six 85-minute plays starring Glenda Jackson as Elizabeth I of England. It was first broadcast on BBC2 from February to March 1971, through the Australian Broadcasting Corporation in Australia and broadcast in America on PBS\\'s \"Masterpiece Theatre\".',\n",
       "  'question': 'For how long did the company that broadcasted Elizabeth R alternate different broadcasting systems?',\n",
       "  'generation': 'Triplets:\\nBBC Television | broadcasted | Elizabeth R\\n\\nAnswer: Six months'},\n",
       " {'id': '2hop__295484_333904',\n",
       "  'context': '# Men of Tomorrow\\nMen of Tomorrow is a 1932 British drama film, directed by Zoltan Korda and Leontine Sagan, produced by Alexander Korda and written by Anthony Gibbs and Arthur Wimperis. It stars Maurice Braddell, Joan Gardner and Emlyn Williams and features Robert Donat\\'s movie debut.\\n# The Girl from Maxim\\'s\\nThe Girl from Maxim\\'s is a 1933 British musical comedy film directed by Alexander Korda and starring Frances Day, Leslie Henson, Lady Tree and Stanley Holloway. It was an adaptation of the 1899 play \"La Dame de chez Maxim\" by Georges Feydeau. A French-language version was filmed at the same time under the title \"La dame de chez Maxim\\'s\".',\n",
       "  'question': \"Who is the sibling of The Girl from Maxim's' director?\",\n",
       "  'generation': \"Triplets:\\nAlexander Korda | directed | Men of Tomorrow\\nAlexander Korda | directed | The Girl from Maxim's\\nZoltan Korda | directed | Men of Tomorrow\\n\\nAnswer: Zoltan Korda\"},\n",
       " {'id': '2hop__375814_89360',\n",
       "  'context': \"# Seduction (Frank Sinatra album)\\nSeduction is an album released in February 2009 featuring love songs by Frank Sinatra, from his own recording company, Reprise.\\n# Mack the Knife\\n``Mack the Knife ''was introduced to the United States hit parade by Louis Armstrong in 1956, but the song is most closely associated with Bobby Darin, who recorded his version at Fulton Studios on West 40th Street, New York City, on December 19, 1958 (with Tom Dowd engineering the recording). Even though Darin was reluctant to release the song as a single, in 1959 it reached number one on the Billboard Hot 100 and number six on the Black Singles chart, and earned him a Grammy Award for Record of the Year. Dick Clark had advised Darin not to record the song because of the perception that, having come from an opera, it would not appeal to the rock and roll audience. In subsequent years, Clark recounted the story with good humor. Frank Sinatra, who recorded the song with Quincy Jones on his L.A. Is My Lady album, called Darin's the`` definitive'' version. Billboard ranked this version as the No. 2 song for 1959. Darin's version was No. 3 on Billboard's All Time Top 100. In 2003, the Darin version was ranked # 251 on Rolling Stone's ``The 500 Greatest Songs of All Time ''list. On BBC Radio 4's Desert Island Discs, pop mogul Simon Cowell named`` Mack the Knife'' the best song ever written. Darin's version of the song was featured in the movies Quiz Show and What Women Want. Both Armstrong and Darin's versions were inducted by the Library of Congress in the National Recording Registry in 2016.\",\n",
       "  'question': 'Who recorded Mack the Knife with the performer of the album Seduction?',\n",
       "  'generation': 'Triplets:\\nFrank Sinatra | recorded album | Seduction\\nFrank Sinatra | recorded | Mack the Knife\\nQuincy Jones | recorded with | Frank Sinatra\\n\\nAnswer: Quincy Jones'},\n",
       " {'id': '2hop__400723_22796',\n",
       "  'context': \"# Crimean War\\n1853: There were four main events. 1. In the north the Turks captured the border fort of Saint Nicholas in a surprise night attack (27/28 October). They then pushed about 20000 troops across the Cholok River border. Being outnumbered the Russians abandoned Poti and Redut Kale and drew back to Marani. Both sides remained immobile for the next seven months. 2. In the center the Turks moved north from Ardahan to within cannon-shot of Akhaltsike and awaited reinforcements (13 November). The Russians routed them. The claimed losses were 4000 Turks and 400 Russians. 3. In the south about 30000 Turks slowly moved east to the main Russian concentration at Gyumri or Alexandropol (November). They crossed the border and set up artillery south of town. Prince Orbeliani tried to drive them off and found himself trapped. The Turks failed to press their advantage, the remaining Russians rescued Orbeliani and the Turks retired west. Orbeliani lost about 1000 men out of 5000. The Russians now decided to advance, the Turks took up a strong position on the Kars road and attacked. They were defeated in the battle of Başgedikler, losing 6000 men, half their artillery and all their supply train. The Russians lost 1300, including Prince Orbeliani. This was Prince Ellico Orbeliani whose wife was later kidnaped by Shamyl at Tsinandali. 4. At sea the Turks sent a fleet east which was destroyed by Admiral Nakhimov at Sinope.\\n# Shirak Airport\\nShirak Airport (, is an international airport serving Gyumri and the province of Shirak, Armenia. It is located about 5\\xa0km from the center of Gyumri. The airport was inaugurated in 1961, and is the second largest airport in the country, after Yerevan's Zvartnots International Airport.\",\n",
       "  'question': 'How many troops did the Turks send to the place served by Shirak International Airport?',\n",
       "  'generation': 'Triplets:\\nTurks | moved troops to | Gyumri\\nShirak Airport | serves | Gyumri\\n\\nAnswer: about 30000 Turks'},\n",
       " {'id': '2hop__50951_47314',\n",
       "  'context': \"# Country Strong\\nGwyneth Paltrow as Kelly Canter Tim McGraw as James Canter Leighton Meester as Chiles Stanton Garrett Hedlund as Beau Hutton Marshall Chapman as Winnie Lari White as Hair Stylist Jeremy Childs as J.J. Jim Lauderdale as Kelly's Bandmate Amanda Shires as Kelly's Bandmate Chris Scruggs as Beau's Bandmate\\n# May We All\\n``May We All ''is a song recorded by American country music group Florida Georgia Line and country music artist Tim McGraw. It is the second single from the duo's third studio album, Dig Your Roots, which was released on August 26, 2016. The song was written by Rodney Clawson and Jamie Moore.`` May We All'' was first released for sale on July 15, 2016 by Republic Nashville as a pre-order track for the album, and released as a single to radio in August.\",\n",
       "  'question': 'Who does the singer of May We All with Florida Georgia Line play in Country Strong?',\n",
       "  'generation': 'Triplets:\\nTim McGraw | collaborates with | Florida Georgia Line in \"May We All\"\\nTim McGraw | plays | James Canter in \"Country Strong\"\\n\\nAnswer: James Canter'},\n",
       " {'id': '2hop__161709_51040',\n",
       "  'context': '# Lake Ontario\\nLake Ontario is one of the five Great Lakes of North America. It is surrounded on the north, west, and southwest by the Canadian province of Ontario, and on the south and east by the American state of New York, whose water boundaries meet in the middle of the lake. Ontario, Canada\\'s most populous province, was named for the lake. Many of Ontario\\'s most populous cities, including Toronto, Canada\\'s most populous city, and Hamilton, are on the lake\\'s northern or western shores. In the Huron language, the name Ontarí\\'io means \"Lake of Shining Waters\". Its primary inlet is the Niagara River from Lake Erie.  The last in the Great Lakes chain, Lake Ontario serves as the outlet to the Atlantic Ocean via the Saint Lawrence River. It is the only Great Lake not to border the state of Michigan.\\n# January 2016 United States blizzard\\nThe January 2016 United States blizzard was a crippling and historic blizzard that produced up to 3 ft (91 cm) of snow in parts of the Mid-Atlantic and Northeast United States from January 22 to January 24, 2016. Evolving from a shortwave trough that formed in the Pacific Northwest on January 19, the system consolidated into a defined low - pressure area on January 21 over Texas. Regarding it as a ``potentially historic blizzard \\'\\', meteorologists indicated the storm could produce more than 2 ft (61 cm) of snow across a wide swath of the Mid-Atlantic region and could`` paralyze the eastern third of the nation\\'\\'. Winter weather expert Paul Kocin described the blizzard as ``kind of a top - 10 snowstorm \\'\\'.',\n",
       "  'question': 'When did the state that is east of Lake Ontario get snow in 2016?',\n",
       "  'generation': 'Triplets:\\nLake Ontario | bordered by | New York\\nJanuary 2016 United States blizzard | produced snow | New York (from context on location of Mid-Atlantic and Northeast United States)\\n\\nAnswer: January 22 to January 24, 2016'},\n",
       " {'id': '2hop__145459_495',\n",
       "  'context': '# Frédéric Chopin\\nBack in Warsaw that year, Chopin heard Niccolò Paganini play the violin, and composed a set of variations, Souvenir de Paganini. It may have been this experience which encouraged him to commence writing his first Études, (1829–32), exploring the capacities of his own instrument. On 11 August, three weeks after completing his studies at the Warsaw Conservatory, he made his debut in Vienna. He gave two piano concerts and received many favourable reviews—in addition to some commenting (in Chopin\\'s own words) that he was \"too delicate for those accustomed to the piano-bashing of local artists\". In one of these concerts, he premiered his Variations on Là ci darem la mano, Op. 2 (variations on an aria from Mozart\\'s opera Don Giovanni) for piano and orchestra. He returned to Warsaw in September 1829, where he premiered his Piano Concerto No. 2 in F minor, Op. 21 on 17 March 1830.\\n# Andrzej Strug\\nAndrzej Strug, real name Tadeusz (or Stefan) Gałecki (sources vary; 28 November 1871/1873 in Lublin – 9\\xa0December\\xa01937 in Warsaw) was a Polish socialist politician, publicist and activist for Poland\\'s independence. He was also a freemason and declined the offer to join the prestigious Polish Academy of Literature, upset by official criticism of the movement.',\n",
       "  'question': 'When did Chopin return to the city where Andrzej Strug died?',\n",
       "  'generation': 'Triplets:\\nFrédéric Chopin | returned to | Warsaw\\nAndrzej Strug | died in | Warsaw\\n\\nAnswer: September 1829'},\n",
       " {'id': '2hop__20771_46042',\n",
       "  'context': '# El Yunque National Forest\\nEl Yunque National Rainforest is located on the slopes of the Sierra de Luquillo mountains, encompassing 28,000 acres (43.753 mi or 113.32 km) of land, making it the largest block of public land in Puerto Rico.\\n# Madonna (entertainer)\\nIn September 1993, Madonna embarked on The Girlie Show World Tour, in which she dressed as a whip-cracking dominatrix surrounded by topless dancers. In Puerto Rico she rubbed the island\\'s flag between her legs on stage, resulting in outrage among the audience. In March 1994, she appeared as a guest on the Late Show with David Letterman, using profanity that required censorship on television, and handing Letterman a pair of her panties and asking him to smell it. The releases of her sexually explicit films, albums and book, and the aggressive appearance on Letterman all made critics question Madonna as a sexual renegade. Critics and fans reacted negatively, who commented that \"she had gone too far\" and that her career was over.',\n",
       "  'question': 'Where is the rainforest located in the country whose flag Madonna rubbed between her thighs and angered the public?',\n",
       "  'generation': 'Triplets:\\nEl Yunque National Rainforest | located in | Sierra de Luquillo mountains, Puerto Rico\\nMadonna | action in country | rubbed flag between legs, Puerto Rico\\n\\nAnswer: Sierra de Luquillo mountains'},\n",
       " {'id': '2hop__427142_99606',\n",
       "  'context': '# Tuvalu\\nFootball in Tuvalu is played at club and national team level. The Tuvalu national football team trains at the Tuvalu Sports Ground in Funafuti and competes in the Pacific Games. The Tuvalu National Football Association is an associate member of the Oceania Football Confederation (OFC) and is seeking membership in FIFA. The Tuvalu national futsal team participates in the Oceanian Futsal Championship.\\n# Tengako\\nTengako is a peninsula at the north end of Fongafale islet of Funafuti, Tuvalu. At the end of the peninsula is Amatuku islet on which the Tuvalu Maritime Training Institute is located.',\n",
       "  'question': 'What continent includes the island country where the peninsula of Tengako is found?',\n",
       "  'generation': 'Triplets:\\nTuvalu | plays football | national team level\\nTengako | located at | north end of Fongafale islet of Funafuti, Tuvalu\\n\\nAnswer: Oceania'},\n",
       " {'id': '2hop__27075_74242',\n",
       "  'context': \"# Oklahoma City Thunder\\nOklahoma City Thunder 2018 -- 19 Oklahoma City Thunder season Conference Western Division Northwest Founded 1967 History Seattle SuperSonics 1967 -- 2008 Oklahoma City Thunder 2008 -- present Arena Chesapeake Energy Arena Location Oklahoma City, Oklahoma Team colors Thunder blue, sunset, yellow, navy blue General manager Sam Presti Head coach Billy Donovan Ownership Professional Basketball Club LLC (Clay Bennett, Chairman) Affiliation (s) Oklahoma City Blue Championships 1 (1979) Conference titles 4 (1978, 1979, 1996, 2012) Division titles 11 (1979, 1994, 1996, 1997, 1998, 2005, 2011, 2012, 2013, 2014, 2016) Retired numbers 7 (1, 10, 19, 24, 32, 43, Microphone) Website www.nba.com/thunder Uniforms Home Away\\n# Oklahoma\\nIn descending order of population, Oklahoma's largest cities in 2010 were: Oklahoma City (579,999, +14.6%), Tulsa (391,906, −0.3%), Norman (110,925, +15.9%), Broken Arrow (98,850, +32.0%), Lawton (96,867, +4.4%), Edmond (81,405, +19.2%), Moore (55,081, +33.9%), Midwest City (54,371, +0.5%), Enid (49,379, +5.0%), and Stillwater (45,688, +17.0%). Of the state's ten largest cities, three are outside the metropolitan areas of Oklahoma City and Tulsa, and only Lawton has a metropolitan statistical area of its own as designated by the United States Census Bureau, though the metropolitan statistical area of Fort Smith, Arkansas extends into the state.\",\n",
       "  'question': \"When did the Thunder, from Oklahoma's largest city, become a team?\",\n",
       "  'generation': 'Triplets:\\nOklahoma City Thunder | founded | 1967\\nOklahoma | largest city | Oklahoma City\\n\\nAnswer: 1967'},\n",
       " {'id': '2hop__58028_633514',\n",
       "  'context': \"# James Arthur (mathematician)\\nBorn in Hamilton, Ontario, Arthur received a B.Sc. from the University of Toronto in 1966, and a M.Sc. from the same institution in 1967. He received his Ph.D. from Yale University in 1970. He was\\n# Say You Won't Let Go\\n``Say You Wo n't Let Go ''is a song by British singer and songwriter James Arthur. The song was released as a digital download on 9 September 2016 in the United Kingdom by Columbia Records as the lead single from his second studio album Back from the Edge (2016). The single peaked at the top of the UK Singles Chart, a position it maintained for three weeks. Outside the United Kingdom, the single has topped the charts in Australia, New Zealand, Sweden and the Republic of Ireland. It also became his first hit in the US, peaking at number 11 on the Billboard Hot 100.\",\n",
       "  'question': \"Where was the writer of the song Say You Won't Let Go born?\",\n",
       "  'generation': \"Triplets:\\nJames Arthur (mathematician) | born in | Hamilton, Ontario\\nJames Arthur (singer) | wrote the song | Say You Won't Let Go\\n\\nAnswer: Hamilton, Ontario\"},\n",
       " {'id': '2hop__823584_776926',\n",
       "  'context': '# Rotstöckli\\nThe Rotstöckli (2,901 m) is a peak of the Urner Alps below the Titlis, on the border between the Swiss cantons of Obwalden and Nidwalden. It is Nidwalden\\'s highest point. The summit is split between the municipalities of Engelberg (Obwalden) and Wolfenschiessen (Nidwalden).\\n# Uri Alps\\nThe Uri Alps (also known as \"Urner Alps\", ) are a mountain range in Central Switzerland and part of the Western Alps. They extend into the cantons of Obwalden, Valais, Bern, Uri and Nidwalden and are bordered by the Bernese Alps (Grimsel Pass) and the Emmental Alps to the west (the four lakes: Lungerersee, Sarnersee, Wichelsee, and Alpnachersee), the Schwyzer Alps to the north (Lake Lucerne), the Lepontine Alps to the south (the valley of Urseren with Andermatt) and the Glarus Alps to the east (Reuss).',\n",
       "  'question': 'What area contains the region that encompasses Rotstöckli?',\n",
       "  'generation': 'Triplets:\\nRotstöckli | part of | Urner Alps\\nUrner Alps | part of | Western Alps\\n\\nAnswer: Western Alps'},\n",
       " {'id': '2hop__144364_92427',\n",
       "  'context': '# William Hanna\\nWilliam Hanna was born to William John and Avice Joyce (Denby) Hanna on July 14, 1910, in Melrose, New Mexico Territory. His father immigrated from Syria to the United States in 1909, where he met his future Irish wife Avice Joyce Denby. He was the third of seven children and the only son. His father was a construction superintendent for railroads as well as water and sewer systems throughout the western regions of America, requiring the family to move frequently.\\n# San Juan Mountains\\nThe San Juan Mountains are a high and rugged mountain range in the Rocky Mountains in southwestern Colorado and northwestern New Mexico. The area is highly mineralized (the Colorado Mineral Belt) and figured in the gold and silver mining industry of early Colorado. Major towns, all old mining camps, include Creede, Lake City, Silverton, Ouray, and Telluride. Large scale mining has ended in the region, although independent prospectors still work claims throughout the range. The last large scale mines were the Sunnyside Mine near Silverton, which operated until late in the 20th century and the Idarado Mine on Red Mountain Pass that closed down in the 1970s. Famous old San Juan mines include the Camp Bird and Smuggler Union mines, both located between Telluride and Ouray.',\n",
       "  'question': 'Where are the San Juan Mountains in the state William Hanna was born?',\n",
       "  'generation': 'Triplets:\\nWilliam Hanna | born in | Melrose, New Mexico Territory\\nSan Juan Mountains | located in | southwestern Colorado, northwestern New Mexico\\n\\nAnswer: northwestern New Mexico'},\n",
       " {'id': '2hop__106934_3836',\n",
       "  'context': \"# 2008 Summer Olympics torch relay\\nHong Kong: The event was held in Hong Kong on May 2. In the ceremony held at the Hong Kong Cultural Centre in Tsim Sha Tsui, Chief Executive Donald Tsang handed the torch to the first torchbearer, Olympic medalist Lee Lai Shan. The torch relay then traveled through Nathan Road, Lantau Link, Sha Tin (crossed Shing Mun River via a dragon boat, which had been never used before in the history of Olympic torch relays), Victoria Harbour (crossed by Tin Hau, a VIP vessel managed by the Marine Department) before ending in Golden Bauhinia Square in Wan Chai. A total of 120 torchbearers were selected to participate in the event consisting of celebrities, athletes and pro-Beijing camp politicians. No politicians from the pro-democracy camp were selected as torchbearers. One torchbearer could not participate due to flight delay. It was estimated that more than 200,000 spectators came out and watched the relay. Many enthusiastic supporters wore red shirts and waved large Chinese flags. According to Hong Kong Chief Secretary for Administration Henry Tang, 3,000 police were deployed to ensure order.\\n# Highs and Lows\\nHighs and Lows () is a Hong Kong television crime drama serial produced by TVB under executive producer Lam Chi-wah. The drama stars Michael Miu, Raymond Lam, Kate Tsui, Elaine Ng, Ella Koon and Ben Wong. It originally aired from 24 September to 4 November 2012, on Hong Kong's Jade, and ran for 30 episodes.\",\n",
       "  'question': 'When did the torch reach the mother country of Highs and Lows?',\n",
       "  'generation': 'Triplets:\\n2008 Summer Olympics torch relay | held in | Hong Kong\\nHighs and Lows | produced in | Hong Kong\\n\\nAnswer: May 2, 2008'},\n",
       " {'id': '2hop__54719_159941',\n",
       "  'context': \"# Men's major golf championships\\nAlong with his record 18 major victories, Jack Nicklaus also holds the record for most runner - up finishes in major championships, with 19, including a record 7 at the Open Championship. Phil Mickelson has the second most with 11 runner - up finishes after the 2016 Open Championship, which includes a record 6 runner - up finishes at the U.S. Open, the one major he has never won. Arnold Palmer had 10 second places, including three in the major he never won, the PGA Championship. There have been three golfers with 8 runner - up finishes -- Sam Snead, Greg Norman and Tom Watson. Norman shares the distinction of having lost playoffs in each of the four majors with Craig Wood (who lost the 1934 PGA final -- at match play -- on the second extra hole).\\n# Jack Nicklaus\\nJack William Nicklaus (born January 21, 1940), nicknamed The Golden Bear, is an American retired professional golfer. In the opinion of many observers, he is the greatest golfer of all time. During a span of more than 25 years, he won a record 18 major championships, three ahead of Tiger Woods (15). Nicklaus focused on the major championships—Masters Tournament, U.S. Open, Open Championship and PGA Championship—and played a selective schedule of regular PGA Tour events. He has competed in more major championships (164) than any other player. He finished with 73 PGA Tour victories, third on the all-time list behind Sam Snead (82) and Tiger Woods (81).\",\n",
       "  'question': 'The person with the most second place finishes in Golf majors is now what?',\n",
       "  'generation': 'Triplets:\\nJack Nicklaus | record | 18 major victories\\nJack Nicklaus | record | most runner-up finishes in major championships, with 19\\n\\nAnswer: retired professional golfer'},\n",
       " {'id': '2hop__203515_853000',\n",
       "  'context': '# Warner Cope\\nBorn in Kentucky, Cope came to California in 1850 and tried mining, but found little success. In 1853 he resumed work as an attorney, first in El Dorado County and the next year in Jackson, Amador County. In October 1858, he was elected to the California State Assembly from Amador as a Democrat.\\n# Clarksville, California\\nClarksville ( Tong Ranch) is an unincorporated community in El Dorado County, California. It is located west-southwest of Placerville, at an elevation of 676 feet (206 m).',\n",
       "  'question': 'What county shares a border with the county Clarksville is located in?',\n",
       "  'generation': 'Triplets:\\nWarner Cope | resumed work as attorney | El Dorado County\\nClarksville | located in | El Dorado County\\n\\nAnswer: Amador County'},\n",
       " {'id': '2hop__14202_749335',\n",
       "  'context': '# Motorola 88000\\nThe 88000 (m88k for short) is a RISC instruction set architecture (ISA) developed by Motorola during the 1980s. The 88000 arrived on the market in 1988, some two years after the competing SPARC and MIPS. Due to the late start and extensive delays releasing the second-generation MC88110, the m88k achieved very limited success outside of the MVME platform and embedded controller environments. When Motorola joined the AIM alliance in 1991 to develop the PowerPC, further development of the 88000 ended.\\n# Macintosh\\nUpdated Motorola CPUs made a faster machine possible, and in 1987 Apple took advantage of the new Motorola technology and introduced the Macintosh II at $5500, powered by a 16 MHz Motorola 68020 processor. The primary improvement in the Macintosh II was Color QuickDraw in ROM, a color version of the graphics language which was the heart of the machine. Among the many innovations in Color QuickDraw were the ability to handle any display size, any color depth, and multiple monitors. The Macintosh II marked the start of a new direction for the Macintosh, as now for the first time it had an open architecture with several NuBus expansion slots, support for color graphics and external monitors, and a modular design similar to that of the IBM PC. It had an internal hard drive and a power supply with a fan, which was initially fairly loud. One third-party developer sold a device to regulate fan speed based on a heat sensor, but it voided the warranty. Later Macintosh computers had quieter power supplies and hard drives.',\n",
       "  'question': 'What protocol is the 88000, manufactured by the company whose technology Apple took advantage of when introducing the Macintosh II, an instance of?',\n",
       "  'generation': 'Triplets:\\n88000 (m88k) | is a | RISC instruction set architecture (ISA)\\nMotorola | developed | 88000\\nApple | used | Motorola technology for Macintosh II\\n\\nAnswer: RISC instruction set architecture (ISA)'},\n",
       " {'id': '2hop__72295_55566',\n",
       "  'context': '# List of World Series champions\\nThe Seattle Mariners and the Washington Nationals (formerly Montreal Expos) are the only current Major League Baseball franchises to have never appeared in a World Series; the San Diego Padres, Colorado Rockies, Texas Rangers (formerly the 1961 -- 1971 version of the Washington Senators), Tampa Bay Rays, and Milwaukee Brewers (formerly Seattle Pilots) have all played in the Series but have never won. The Toronto Blue Jays are the only franchise from outside the United States to appear in a World Series, winning in 1992 and 1993. The current World Series champions are the Houston Astros.\\n# Houston Astros\\nThe Astros clinched their first division title as a member of the American League West division, and first division title overall since 2001. They also became the first team in Major League history to win three different divisions, the National League West in 1980 and 1986, the National League Central from 1997 -- 1999 and 2001, and now the American League West in 2017. On September 29, the Astros won their 100th game of the season, the second time the Astros finished a season with over 100 wins (the other time was in 1998). They finished 101 -- 61 (with a 21 - game lead in the division), and faced the Red Sox in the second round of the AL playoffs. The Astros defeated the Red Sox three games to one, and advanced to the American League Championship Series against the New York Yankees. The Astros won the ALCS four games to three, and advanced to the World Series to play against the Los Angeles Dodgers. The Astros defeated the Dodgers in the deciding seventh game of the World Series, winning the first championship in franchise history.',\n",
       "  'question': 'Who did the most recent winners of the World Series play against in the playoffs?',\n",
       "  'generation': 'Triplets:\\nHouston Astros | defeated | Red Sox\\nHouston Astros | defeated | New York Yankees\\nHouston Astros | defeated | Los Angeles Dodgers\\n\\nAnswer: Red Sox, New York Yankees, Los Angeles Dodgers'},\n",
       " {'id': '2hop__834974_332063',\n",
       "  'context': '# N. Monroe Marshall\\nNathaniel Monroe Marshall (June 13, 1854 Schuyler Falls, Clinton County, New York – February 16, 1935 Malone, Franklin County, New York) was an American banker and politician.\\n# Perry Township, Clinton County, Indiana\\nPerry Township is one of fourteen townships in Clinton County, Indiana. As of the 2010 census, its population was 1,459 and it contained 606 housing units. The township was named for Oliver Hazard Perry, an American naval officer in the War of 1812.',\n",
       "  'question': 'Which region shares border with one where Perry Township is located?',\n",
       "  'generation': 'Triplets:\\nNathaniel Monroe Marshall | birth place | Clinton County, New York\\nPerry Township | located in | Clinton County, Indiana\\n\\nAnswer: Franklin County, New York'}]"
      ]
     },
     "execution_count": 12,
     "metadata": {},
     "output_type": "execute_result"
    }
   ],
   "source": [
    "examples = []\n",
    "for idx, row in df_gpt_4.loc[mask].iterrows():\n",
    "    id = row['id']\n",
    "    raw_output = row['raw_output']\n",
    "    examples.append({\n",
    "        \"id\": id,\n",
    "        \"context\": raw_output['hops'][0]['context'],\n",
    "        \"question\": raw_output['hops'][0]['question'],\n",
    "        \"generation\": raw_output['hops'][0]['llm_output']['generation'],\n",
    "    })\n",
    "examples"
   ]
  },
  {
   "cell_type": "code",
   "execution_count": 13,
   "metadata": {},
   "outputs": [],
   "source": [
    "with open('cte-few-shot-examples.json', 'w') as f:\n",
    "    json.dump(examples, f, indent=2)"
   ]
  },
  {
   "cell_type": "code",
   "execution_count": null,
   "metadata": {},
   "outputs": [],
   "source": []
  }
 ],
 "metadata": {
  "kernelspec": {
   "display_name": "python3",
   "language": "python",
   "name": "python3"
  },
  "language_info": {
   "codemirror_mode": {
    "name": "ipython",
    "version": 3
   },
   "file_extension": ".py",
   "mimetype": "text/x-python",
   "name": "python",
   "nbconvert_exporter": "python",
   "pygments_lexer": "ipython3",
   "version": "3.10.14"
  }
 },
 "nbformat": 4,
 "nbformat_minor": 4
}

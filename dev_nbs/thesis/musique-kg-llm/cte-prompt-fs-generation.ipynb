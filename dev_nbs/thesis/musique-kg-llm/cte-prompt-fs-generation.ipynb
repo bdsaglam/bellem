{
 "cells": [
  {
   "cell_type": "code",
   "execution_count": 1,
   "metadata": {},
   "outputs": [
    {
     "data": {
      "text/plain": [
       "True"
      ]
     },
     "execution_count": 1,
     "metadata": {},
     "output_type": "execute_result"
    }
   ],
   "source": [
    "from dotenv import load_dotenv\n",
    "load_dotenv()"
   ]
  },
  {
   "cell_type": "code",
   "execution_count": 2,
   "metadata": {},
   "outputs": [],
   "source": [
    "import json\n",
    "import pandas as pd\n",
    "from pathlib import Path\n",
    "from copy import deepcopy\n",
    "from functools import partial\n",
    "\n",
    "from bellem.utils import set_seed, jprint\n",
    "from bellem.musique.singlehop import benchmark\n",
    "from bellem.musique.qa import answer_question_cte\n",
    "\n",
    "# set_seed(89)"
   ]
  },
  {
   "cell_type": "code",
   "execution_count": 3,
   "metadata": {},
   "outputs": [],
   "source": [
    "from tqdm.auto import tqdm\n",
    "tqdm.pandas()"
   ]
  },
  {
   "cell_type": "code",
   "execution_count": 5,
   "metadata": {},
   "outputs": [],
   "source": [
    "with open('cte-few-shot-examples.json') as f:\n",
    "    examples = json.load(f)"
   ]
  },
  {
   "cell_type": "code",
   "execution_count": 8,
   "metadata": {},
   "outputs": [],
   "source": [
    "example_ids = [\n",
    "    \"2hop__272543_126102\",\n",
    "    \"2hop__54719_159941\",\n",
    "    \"2hop__16777_419765\",\n",
    "    \"2hop__834974_332063\",\n",
    "    \"2hop__823584_776926\",\n",
    "]"
   ]
  },
  {
   "cell_type": "code",
   "execution_count": 9,
   "metadata": {},
   "outputs": [
    {
     "name": "stdout",
     "output_type": "stream",
     "text": [
      "(5, 8)\n"
     ]
    },
    {
     "data": {
      "text/html": [
       "<div>\n",
       "<style scoped>\n",
       "    .dataframe tbody tr th:only-of-type {\n",
       "        vertical-align: middle;\n",
       "    }\n",
       "\n",
       "    .dataframe tbody tr th {\n",
       "        vertical-align: top;\n",
       "    }\n",
       "\n",
       "    .dataframe thead th {\n",
       "        text-align: right;\n",
       "    }\n",
       "</style>\n",
       "<table border=\"1\" class=\"dataframe\">\n",
       "  <thead>\n",
       "    <tr style=\"text-align: right;\">\n",
       "      <th></th>\n",
       "      <th>id</th>\n",
       "      <th>paragraphs</th>\n",
       "      <th>question</th>\n",
       "      <th>question_decomposition</th>\n",
       "      <th>answer</th>\n",
       "      <th>answer_aliases</th>\n",
       "      <th>answerable</th>\n",
       "      <th>answers</th>\n",
       "    </tr>\n",
       "  </thead>\n",
       "  <tbody>\n",
       "    <tr>\n",
       "      <th>0</th>\n",
       "      <td>2hop__272543_126102</td>\n",
       "      <td>[{'idx': 0, 'title': 'Republic of the Congo', ...</td>\n",
       "      <td>Who was in charge of the country Ceelmakoile i...</td>\n",
       "      <td>[{'id': 272543, 'question': 'Ceelmakoile &gt;&gt; co...</td>\n",
       "      <td>Hassan Sheikh Mohamud</td>\n",
       "      <td>[Hassan Sheikh Mohamud]</td>\n",
       "      <td>True</td>\n",
       "      <td>[Hassan Sheikh Mohamud]</td>\n",
       "    </tr>\n",
       "    <tr>\n",
       "      <th>1</th>\n",
       "      <td>2hop__54719_159941</td>\n",
       "      <td>[{'idx': 0, 'title': '1936–37 Scottish Divisio...</td>\n",
       "      <td>The person with the most second place finishes...</td>\n",
       "      <td>[{'id': 54719, 'question': 'who has the most s...</td>\n",
       "      <td>an American retired professional golfer</td>\n",
       "      <td>[an American retired professional golfer]</td>\n",
       "      <td>True</td>\n",
       "      <td>[an American retired professional golfer]</td>\n",
       "    </tr>\n",
       "    <tr>\n",
       "      <th>2</th>\n",
       "      <td>2hop__16777_419765</td>\n",
       "      <td>[{'idx': 0, 'title': 'Pedro Varela', 'paragrap...</td>\n",
       "      <td>Who was the father of the person who replaced ...</td>\n",
       "      <td>[{'id': 16777, 'question': 'Who replaced Derby...</td>\n",
       "      <td>Isaac D'Israeli</td>\n",
       "      <td>[Isaac D'Israeli]</td>\n",
       "      <td>True</td>\n",
       "      <td>[Isaac D'Israeli]</td>\n",
       "    </tr>\n",
       "    <tr>\n",
       "      <th>3</th>\n",
       "      <td>2hop__834974_332063</td>\n",
       "      <td>[{'idx': 0, 'title': 'Kingdom of Gera', 'parag...</td>\n",
       "      <td>Which region shares border with one where Perr...</td>\n",
       "      <td>[{'id': 834974, 'question': 'Perry Township &gt;&gt;...</td>\n",
       "      <td>Franklin County</td>\n",
       "      <td>[Franklin County]</td>\n",
       "      <td>True</td>\n",
       "      <td>[Franklin County]</td>\n",
       "    </tr>\n",
       "    <tr>\n",
       "      <th>4</th>\n",
       "      <td>2hop__823584_776926</td>\n",
       "      <td>[{'idx': 0, 'title': 'Wadera (woreda)', 'parag...</td>\n",
       "      <td>What area contains the region that encompasses...</td>\n",
       "      <td>[{'id': 823584, 'question': 'Rotstöckli &gt;&gt; par...</td>\n",
       "      <td>Western Alps</td>\n",
       "      <td>[Western Alps]</td>\n",
       "      <td>True</td>\n",
       "      <td>[Western Alps]</td>\n",
       "    </tr>\n",
       "  </tbody>\n",
       "</table>\n",
       "</div>"
      ],
      "text/plain": [
       "                    id                                         paragraphs  \\\n",
       "0  2hop__272543_126102  [{'idx': 0, 'title': 'Republic of the Congo', ...   \n",
       "1   2hop__54719_159941  [{'idx': 0, 'title': '1936–37 Scottish Divisio...   \n",
       "2   2hop__16777_419765  [{'idx': 0, 'title': 'Pedro Varela', 'paragrap...   \n",
       "3  2hop__834974_332063  [{'idx': 0, 'title': 'Kingdom of Gera', 'parag...   \n",
       "4  2hop__823584_776926  [{'idx': 0, 'title': 'Wadera (woreda)', 'parag...   \n",
       "\n",
       "                                            question  \\\n",
       "0  Who was in charge of the country Ceelmakoile i...   \n",
       "1  The person with the most second place finishes...   \n",
       "2  Who was the father of the person who replaced ...   \n",
       "3  Which region shares border with one where Perr...   \n",
       "4  What area contains the region that encompasses...   \n",
       "\n",
       "                              question_decomposition  \\\n",
       "0  [{'id': 272543, 'question': 'Ceelmakoile >> co...   \n",
       "1  [{'id': 54719, 'question': 'who has the most s...   \n",
       "2  [{'id': 16777, 'question': 'Who replaced Derby...   \n",
       "3  [{'id': 834974, 'question': 'Perry Township >>...   \n",
       "4  [{'id': 823584, 'question': 'Rotstöckli >> par...   \n",
       "\n",
       "                                    answer  \\\n",
       "0                    Hassan Sheikh Mohamud   \n",
       "1  an American retired professional golfer   \n",
       "2                          Isaac D'Israeli   \n",
       "3                          Franklin County   \n",
       "4                             Western Alps   \n",
       "\n",
       "                              answer_aliases  answerable  \\\n",
       "0                    [Hassan Sheikh Mohamud]        True   \n",
       "1  [an American retired professional golfer]        True   \n",
       "2                          [Isaac D'Israeli]        True   \n",
       "3                          [Franklin County]        True   \n",
       "4                             [Western Alps]        True   \n",
       "\n",
       "                                     answers  \n",
       "0                    [Hassan Sheikh Mohamud]  \n",
       "1  [an American retired professional golfer]  \n",
       "2                          [Isaac D'Israeli]  \n",
       "3                          [Franklin County]  \n",
       "4                             [Western Alps]  "
      ]
     },
     "execution_count": 9,
     "metadata": {},
     "output_type": "execute_result"
    }
   ],
   "source": [
    "df = pd.read_json('../../data/generated/musique-common/base-dataset-train.jsonl', orient='records', lines=True)\n",
    "df = df.set_index('id', drop=False).loc[example_ids].reset_index(drop=True)\n",
    "\n",
    "print(df.shape)\n",
    "df.head()"
   ]
  },
  {
   "cell_type": "code",
   "execution_count": 10,
   "metadata": {},
   "outputs": [],
   "source": [
    "perfect_retrieval_func = lambda docs, query: [doc for doc in docs if doc['is_supporting']]"
   ]
  },
  {
   "cell_type": "code",
   "execution_count": 11,
   "metadata": {},
   "outputs": [
    {
     "data": {
      "application/vnd.jupyter.widget-view+json": {
       "model_id": "d22d74769d3a4fad918810b8f438d1dd",
       "version_major": 2,
       "version_minor": 0
      },
      "text/plain": [
       "  0%|          | 0/5 [00:00<?, ?it/s]"
      ]
     },
     "metadata": {},
     "output_type": "display_data"
    }
   ],
   "source": [
    "qa_func = partial(answer_question_cte, model_name=\"gpt-3.5-turbo\")\n",
    "df_gpt_35, scores = benchmark(df, qa_func, perfect_retrieval_func, ignore_errors=False)"
   ]
  },
  {
   "cell_type": "code",
   "execution_count": 12,
   "metadata": {},
   "outputs": [
    {
     "data": {
      "application/vnd.jupyter.widget-view+json": {
       "model_id": "73550284fbfa4947bd5b86ec3b7a4d99",
       "version_major": 2,
       "version_minor": 0
      },
      "text/plain": [
       "  0%|          | 0/5 [00:00<?, ?it/s]"
      ]
     },
     "metadata": {},
     "output_type": "display_data"
    }
   ],
   "source": [
    "qa_func = partial(answer_question_cte, model_name=\"gpt-4-turbo\")\n",
    "df_gpt_4, scores = benchmark(df, qa_func, perfect_retrieval_func, ignore_errors=False)"
   ]
  },
  {
   "cell_type": "code",
   "execution_count": 13,
   "metadata": {},
   "outputs": [
    {
     "data": {
      "text/plain": [
       "(0, 2)"
      ]
     },
     "execution_count": 13,
     "metadata": {},
     "output_type": "execute_result"
    }
   ],
   "source": [
    "df_gpt_35['exact_match'].sum(), df_gpt_4['exact_match'].sum()"
   ]
  },
  {
   "cell_type": "code",
   "execution_count": 14,
   "metadata": {},
   "outputs": [
    {
     "data": {
      "text/plain": [
       "(0, 3)"
      ]
     },
     "execution_count": 14,
     "metadata": {},
     "output_type": "execute_result"
    }
   ],
   "source": [
    "df_gpt_35['fuzzy_match'].sum(), df_gpt_4['fuzzy_match'].sum()"
   ]
  },
  {
   "cell_type": "code",
   "execution_count": 10,
   "metadata": {},
   "outputs": [
    {
     "data": {
      "text/plain": [
       "{'answer': 'Gainesville, Florida',\n",
       " 'hops': [{'question': 'What is the birthplace of the artist who played Lucky on King of the Hill?',\n",
       "   'query': 'What is the birthplace of the artist who played Lucky on King of the Hill?',\n",
       "   'context': '# Tom Petty and the Heartbreakers\\nTom Petty and the Heartbreakers (alternately Tom Petty & The Heartbreakers) were an American rock band from Gainesville, Florida. Formed in 1976, the band originally comprised Tom Petty (lead singer, guitar), Mike Campbell (lead guitarist), Ron Blair (bass guitar), Stan Lynch (drums), and Benmont Tench (keyboards). In 1981, Blair, weary of the touring lifestyle, departed the band. His replacement, Howie Epstein, stayed with the band for the next two decades. In 1991, Scott Thurston joined the band as a multi-instrumentalist—mostly on rhythm guitar and second keyboards. Blair returned to the Heartbreakers in 2002, the year before Epstein\\'s death. In 1994, Steve Ferrone replaced Lynch on drums. The band is best known for the hit singles \"American Girl\", \"Breakdown\", \"The Waiting\", \"Learning to Fly\", \"Refugee\" and \"Mary Jane\\'s Last Dance\".\\n# List of King of the Hill characters\\nElroy ``Lucky \\'\\'Kleinschmidt (voiced by Tom Petty) -- Lucky is Luanne\\'s itinerant, but generally benign redneck husband, and is the father of Luanne\\'s child. It is often hard for Lucky to hold down a job (he has no credit or Social Security number). He lives on the remainder of the $53,000`` settlement monies\\'\\' he received after ``slipping on pee - pee at the Costco \\'\\'having had a portion of his spine fused. He was nicknamed`` Lucky\\'\\' after the settlement windfall. After he spent a majority of his money customizing his truck, his finances dwindled down to nine thousand dollars but regained another $53,000 when an ambulance chasing lawyer paid off Lucky to avoid a lawsuit. Peggy tried very hard to break him and Luanne apart, but after Luanne\\'s pregnancy was revealed, she and Hank reconciled the two, giving them a shotgun wedding at Lucky\\'s request. He is also one of the guitarists for John Redcorn\\'s band ``Big Mountain Fudgecake \\'\\'. Although dimwitted in some aspects, Lucky has learned some facets such as basic math through life experience as opposed to formal education, and was astute enough to deduce that his father - in - law spent time in jail whereas Luanne believed the story that he works on an oil rig. He yearned to receive his GED but only to prove he was good enough to marry Luanne.',\n",
       "   'answer': 'Gainesville, Florida',\n",
       "   'llm_output': {'triplets': ['Tom Petty | voiced | Lucky on King of the Hill',\n",
       "     'Tom Petty | born in | Gainesville, Florida'],\n",
       "    'answer': 'Gainesville, Florida',\n",
       "    'generation': 'Triplets:\\nTom Petty | voiced | Lucky on King of the Hill\\nTom Petty | born in | Gainesville, Florida\\n\\nAnswer: Gainesville, Florida'}}]}"
      ]
     },
     "execution_count": 10,
     "metadata": {},
     "output_type": "execute_result"
    }
   ],
   "source": [
    "df_gpt_4.iloc[0]['raw_output']"
   ]
  },
  {
   "cell_type": "code",
   "execution_count": 15,
   "metadata": {},
   "outputs": [
    {
     "data": {
      "text/plain": [
       "3"
      ]
     },
     "execution_count": 15,
     "metadata": {},
     "output_type": "execute_result"
    }
   ],
   "source": [
    "mask = (~df_gpt_35['fuzzy_match']) & df_gpt_4['fuzzy_match']\n",
    "mask.sum()"
   ]
  },
  {
   "cell_type": "code",
   "execution_count": 16,
   "metadata": {},
   "outputs": [
    {
     "data": {
      "text/plain": [
       "[{'id': '2hop__272543_126102',\n",
       "  'context': '# Somalia\\nOn 10 September 2012, parliament elected Hassan Sheikh Mohamud as the new President of Somalia. President Mohamud later appointed Abdi Farah Shirdon as the new Prime Minister on 6 October 2012, who was succeeded in office by Abdiweli Sheikh Ahmed on 21 December 2013. On 17 December 2014, former Premier Omar Abdirashid Ali Sharmarke was reappointed Prime Minister.\\n# Ceelmakoile\\nCeelmakoile is a town in the central Hiran region of Somalia. It’s mostly inhabited by the hawadle Clan sub clan of Hawiye one of the larger Somali clan',\n",
       "  'question': 'Who was in charge of the country Ceelmakoile is located in?',\n",
       "  'generation': 'Triplets:\\nHassan Sheikh Mohamud | elected as | President of Somalia\\nCeelmakoile | located in | Somalia\\n\\nAnswer: Hassan Sheikh Mohamud'},\n",
       " {'id': '2hop__54719_159941',\n",
       "  'context': \"# Men's major golf championships\\nAlong with his record 18 major victories, Jack Nicklaus also holds the record for most runner - up finishes in major championships, with 19, including a record 7 at the Open Championship. Phil Mickelson has the second most with 11 runner - up finishes after the 2016 Open Championship, which includes a record 6 runner - up finishes at the U.S. Open, the one major he has never won. Arnold Palmer had 10 second places, including three in the major he never won, the PGA Championship. There have been three golfers with 8 runner - up finishes -- Sam Snead, Greg Norman and Tom Watson. Norman shares the distinction of having lost playoffs in each of the four majors with Craig Wood (who lost the 1934 PGA final -- at match play -- on the second extra hole).\\n# Jack Nicklaus\\nJack William Nicklaus (born January 21, 1940), nicknamed The Golden Bear, is an American retired professional golfer. In the opinion of many observers, he is the greatest golfer of all time. During a span of more than 25 years, he won a record 18 major championships, three ahead of Tiger Woods (15). Nicklaus focused on the major championships—Masters Tournament, U.S. Open, Open Championship and PGA Championship—and played a selective schedule of regular PGA Tour events. He has competed in more major championships (164) than any other player. He finished with 73 PGA Tour victories, third on the all-time list behind Sam Snead (82) and Tiger Woods (81).\",\n",
       "  'question': 'The person with the most second place finishes in Golf majors is now what?',\n",
       "  'generation': 'Triplets:\\nJack Nicklaus | holds record for | most runner-up finishes in major championships\\nJack Nicklaus | nicknamed | The Golden Bear\\nJack Nicklaus | status | retired professional golfer\\n\\nAnswer: retired professional golfer'},\n",
       " {'id': '2hop__16777_419765',\n",
       "  'context': '# Coningsby Disraeli\\nBorn in Kensington, London, Disraeli was the son of Ralph Disraeli (1809–1898, the younger son of the writer Isaac D\\'Israeli). He was educated at Charterhouse School and New College, Oxford. The Prime Minister Benjamin Disraeli was his uncle. He inherited the Hughenden Manor estate acquired by his uncle on his father\\'s death in 1898.\\n# Queen Victoria\\nPalmerston died in 1865, and after a brief ministry led by Russell, Derby returned to power. In 1866, Victoria attended the State Opening of Parliament for the first time since Albert\\'s death. The following year she supported the passing of the Reform Act 1867 which doubled the electorate by extending the franchise to many urban working men, though she was not in favour of votes for women. Derby resigned in 1868, to be replaced by Benjamin Disraeli, who charmed Victoria. \"Everyone likes flattery,\" he said, \"and when you come to royalty you should lay it on with a trowel.\" With the phrase \"we authors, Ma\\'am\", he complimented her. Disraeli\\'s ministry only lasted a matter of months, and at the end of the year his Liberal rival, William Ewart Gladstone, was appointed prime minister. Victoria found Gladstone\\'s demeanour far less appealing; he spoke to her, she is thought to have complained, as though she were \"a public meeting rather than a woman\".',\n",
       "  'question': 'Who was the father of the person who replaced Derby when he resigned in 1868?',\n",
       "  'generation': \"Triplets:\\nBenjamin Disraeli | replaced | Derby (in 1868)\\nRalph Disraeli | father of | Coningsby Disraeli\\nIsaac D'Israeli | father of | Ralph Disraeli\\nBenjamin Disraeli | nephew of | Coningsby Disraeli\\n\\nAnswer: Isaac D'Israeli\"}]"
      ]
     },
     "execution_count": 16,
     "metadata": {},
     "output_type": "execute_result"
    }
   ],
   "source": [
    "examples = []\n",
    "for idx, row in df_gpt_4.loc[mask].iterrows():\n",
    "    id = row['id']\n",
    "    raw_output = row['raw_output']\n",
    "    examples.append({\n",
    "        \"id\": id,\n",
    "        \"context\": raw_output['hops'][0]['context'],\n",
    "        \"question\": raw_output['hops'][0]['question'],\n",
    "        \"generation\": raw_output['hops'][0]['llm_output']['generation'],\n",
    "    })\n",
    "examples"
   ]
  },
  {
   "cell_type": "code",
   "execution_count": 13,
   "metadata": {},
   "outputs": [],
   "source": [
    "with open('cte-few-shot-examples.json', 'w') as f:\n",
    "    json.dump(examples, f, indent=2)"
   ]
  },
  {
   "cell_type": "code",
   "execution_count": null,
   "metadata": {},
   "outputs": [],
   "source": []
  }
 ],
 "metadata": {
  "kernelspec": {
   "display_name": "python3",
   "language": "python",
   "name": "python3"
  },
  "language_info": {
   "codemirror_mode": {
    "name": "ipython",
    "version": 3
   },
   "file_extension": ".py",
   "mimetype": "text/x-python",
   "name": "python",
   "nbconvert_exporter": "python",
   "pygments_lexer": "ipython3",
   "version": "3.10.14"
  }
 },
 "nbformat": 4,
 "nbformat_minor": 4
}

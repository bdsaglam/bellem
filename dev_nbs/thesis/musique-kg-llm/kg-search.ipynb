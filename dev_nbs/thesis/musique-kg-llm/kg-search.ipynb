{
 "cells": [
  {
   "cell_type": "code",
   "execution_count": 1,
   "metadata": {},
   "outputs": [
    {
     "data": {
      "text/plain": [
       "True"
      ]
     },
     "execution_count": 1,
     "metadata": {},
     "output_type": "execute_result"
    }
   ],
   "source": [
    "from dotenv import load_dotenv\n",
    "load_dotenv()"
   ]
  },
  {
   "cell_type": "code",
   "execution_count": 2,
   "metadata": {},
   "outputs": [],
   "source": [
    "import os\n",
    "from functools import partial\n",
    "from pathlib import Path\n",
    "\n",
    "import pandas as pd\n",
    "from openai import OpenAI\n",
    "\n",
    "from bellem.utils import jprint\n",
    "from bellem.utils import set_seed\n",
    "\n",
    "set_seed(42)"
   ]
  },
  {
   "cell_type": "code",
   "execution_count": 3,
   "metadata": {},
   "outputs": [],
   "source": [
    "from tqdm.auto import tqdm\n",
    "tqdm.pandas()"
   ]
  },
  {
   "cell_type": "markdown",
   "metadata": {},
   "source": [
    "## Dataset"
   ]
  },
  {
   "cell_type": "code",
   "execution_count": 4,
   "metadata": {},
   "outputs": [
    {
     "data": {
      "text/html": [
       "<div>\n",
       "<style scoped>\n",
       "    .dataframe tbody tr th:only-of-type {\n",
       "        vertical-align: middle;\n",
       "    }\n",
       "\n",
       "    .dataframe tbody tr th {\n",
       "        vertical-align: top;\n",
       "    }\n",
       "\n",
       "    .dataframe thead th {\n",
       "        text-align: right;\n",
       "    }\n",
       "</style>\n",
       "<table border=\"1\" class=\"dataframe\">\n",
       "  <thead>\n",
       "    <tr style=\"text-align: right;\">\n",
       "      <th></th>\n",
       "      <th>id</th>\n",
       "      <th>paragraphs</th>\n",
       "      <th>question</th>\n",
       "      <th>question_decomposition</th>\n",
       "      <th>answer</th>\n",
       "      <th>answer_aliases</th>\n",
       "      <th>answerable</th>\n",
       "    </tr>\n",
       "  </thead>\n",
       "  <tbody>\n",
       "    <tr>\n",
       "      <th>0</th>\n",
       "      <td>2hop__131818_161450</td>\n",
       "      <td>[{'idx': 0, 'title': 'Maria Carrillo High Scho...</td>\n",
       "      <td>Where is the Voshmgir District located?</td>\n",
       "      <td>[{'id': 131818, 'question': 'Which state is Vo...</td>\n",
       "      <td>in the north-east of the country south of the ...</td>\n",
       "      <td>[Caspian Sea, in the north-east of the country...</td>\n",
       "      <td>True</td>\n",
       "    </tr>\n",
       "    <tr>\n",
       "      <th>1</th>\n",
       "      <td>2hop__444265_82341</td>\n",
       "      <td>[{'idx': 0, 'title': 'Ocala, Florida', 'paragr...</td>\n",
       "      <td>In what part of Florida is Tom Denney's birthp...</td>\n",
       "      <td>[{'id': 444265, 'question': 'Tom Denney &gt;&gt; pla...</td>\n",
       "      <td>in Northern Florida</td>\n",
       "      <td>[in Northern Florida, Northern Florida]</td>\n",
       "      <td>True</td>\n",
       "    </tr>\n",
       "    <tr>\n",
       "      <th>2</th>\n",
       "      <td>2hop__711946_269414</td>\n",
       "      <td>[{'idx': 0, 'title': 'Wild Thing (Tone Lōc son...</td>\n",
       "      <td>What record label is the performer who release...</td>\n",
       "      <td>[{'id': 711946, 'question': 'All Your Faded Th...</td>\n",
       "      <td>Kill Rock Stars</td>\n",
       "      <td>[Kill Rock Stars]</td>\n",
       "      <td>True</td>\n",
       "    </tr>\n",
       "    <tr>\n",
       "      <th>3</th>\n",
       "      <td>2hop__311931_417706</td>\n",
       "      <td>[{'idx': 0, 'title': 'The Main Attraction (alb...</td>\n",
       "      <td>What record label does the performer of Emotio...</td>\n",
       "      <td>[{'id': 311931, 'question': 'Emotional Rain &gt;&gt;...</td>\n",
       "      <td>Attic Records</td>\n",
       "      <td>[Attic, Attic Records]</td>\n",
       "      <td>True</td>\n",
       "    </tr>\n",
       "    <tr>\n",
       "      <th>4</th>\n",
       "      <td>2hop__809785_606637</td>\n",
       "      <td>[{'idx': 0, 'title': 'The Main Attraction (alb...</td>\n",
       "      <td>What record label does the performer of Advent...</td>\n",
       "      <td>[{'id': 809785, 'question': 'Adventures in You...</td>\n",
       "      <td>Secret City Records</td>\n",
       "      <td>[Secret City Records]</td>\n",
       "      <td>True</td>\n",
       "    </tr>\n",
       "  </tbody>\n",
       "</table>\n",
       "</div>"
      ],
      "text/plain": [
       "                    id                                         paragraphs  \\\n",
       "0  2hop__131818_161450  [{'idx': 0, 'title': 'Maria Carrillo High Scho...   \n",
       "1   2hop__444265_82341  [{'idx': 0, 'title': 'Ocala, Florida', 'paragr...   \n",
       "2  2hop__711946_269414  [{'idx': 0, 'title': 'Wild Thing (Tone Lōc son...   \n",
       "3  2hop__311931_417706  [{'idx': 0, 'title': 'The Main Attraction (alb...   \n",
       "4  2hop__809785_606637  [{'idx': 0, 'title': 'The Main Attraction (alb...   \n",
       "\n",
       "                                            question  \\\n",
       "0            Where is the Voshmgir District located?   \n",
       "1  In what part of Florida is Tom Denney's birthp...   \n",
       "2  What record label is the performer who release...   \n",
       "3  What record label does the performer of Emotio...   \n",
       "4  What record label does the performer of Advent...   \n",
       "\n",
       "                              question_decomposition  \\\n",
       "0  [{'id': 131818, 'question': 'Which state is Vo...   \n",
       "1  [{'id': 444265, 'question': 'Tom Denney >> pla...   \n",
       "2  [{'id': 711946, 'question': 'All Your Faded Th...   \n",
       "3  [{'id': 311931, 'question': 'Emotional Rain >>...   \n",
       "4  [{'id': 809785, 'question': 'Adventures in You...   \n",
       "\n",
       "                                              answer  \\\n",
       "0  in the north-east of the country south of the ...   \n",
       "1                                in Northern Florida   \n",
       "2                                    Kill Rock Stars   \n",
       "3                                      Attic Records   \n",
       "4                                Secret City Records   \n",
       "\n",
       "                                      answer_aliases  answerable  \n",
       "0  [Caspian Sea, in the north-east of the country...        True  \n",
       "1            [in Northern Florida, Northern Florida]        True  \n",
       "2                                  [Kill Rock Stars]        True  \n",
       "3                             [Attic, Attic Records]        True  \n",
       "4                              [Secret City Records]        True  "
      ]
     },
     "execution_count": 4,
     "metadata": {},
     "output_type": "execute_result"
    }
   ],
   "source": [
    "dataset_file: Path = Path(\"../../data/generated/musique-evaluation/dataset.jsonl\")\n",
    "df = pd.read_json(dataset_file, lines=True)\n",
    "df.head()"
   ]
  },
  {
   "cell_type": "code",
   "execution_count": 5,
   "metadata": {},
   "outputs": [
    {
     "data": {
      "text/html": [
       "<div>\n",
       "<style scoped>\n",
       "    .dataframe tbody tr th:only-of-type {\n",
       "        vertical-align: middle;\n",
       "    }\n",
       "\n",
       "    .dataframe tbody tr th {\n",
       "        vertical-align: top;\n",
       "    }\n",
       "\n",
       "    .dataframe thead th {\n",
       "        text-align: right;\n",
       "    }\n",
       "</style>\n",
       "<table border=\"1\" class=\"dataframe\">\n",
       "  <thead>\n",
       "    <tr style=\"text-align: right;\">\n",
       "      <th></th>\n",
       "      <th>id</th>\n",
       "      <th>paragraph_idx</th>\n",
       "      <th>paragraph_text</th>\n",
       "      <th>paragraph_title</th>\n",
       "      <th>is_supporting</th>\n",
       "      <th>text</th>\n",
       "      <th>input</th>\n",
       "      <th>generation</th>\n",
       "    </tr>\n",
       "  </thead>\n",
       "  <tbody>\n",
       "    <tr>\n",
       "      <th>0</th>\n",
       "      <td>2hop__131818_161450</td>\n",
       "      <td>0</td>\n",
       "      <td>Maria Carrillo High School is a public high sc...</td>\n",
       "      <td>Maria Carrillo High School</td>\n",
       "      <td>False</td>\n",
       "      <td># Maria Carrillo High School\\nMaria Carrillo H...</td>\n",
       "      <td>[{'content': 'You are an excellent knowledge g...</td>\n",
       "      <td>Maria Carrillo High School | location | Santa ...</td>\n",
       "    </tr>\n",
       "    <tr>\n",
       "      <th>1</th>\n",
       "      <td>2hop__131818_161450</td>\n",
       "      <td>1</td>\n",
       "      <td>Golestān Province (Persian: استان گلستان‎, Ost...</td>\n",
       "      <td>Golestan Province</td>\n",
       "      <td>True</td>\n",
       "      <td># Golestan Province\\nGolestān Province (Persia...</td>\n",
       "      <td>[{'content': 'You are an excellent knowledge g...</td>\n",
       "      <td>Golestan Province | location | north-east of I...</td>\n",
       "    </tr>\n",
       "    <tr>\n",
       "      <th>2</th>\n",
       "      <td>2hop__131818_161450</td>\n",
       "      <td>2</td>\n",
       "      <td>Voshmgir District () is a district (bakhsh) in...</td>\n",
       "      <td>Voshmgir District</td>\n",
       "      <td>True</td>\n",
       "      <td># Voshmgir District\\nVoshmgir District () is a...</td>\n",
       "      <td>[{'content': 'You are an excellent knowledge g...</td>\n",
       "      <td>Voshmgir District | location | Aqqala County, ...</td>\n",
       "    </tr>\n",
       "    <tr>\n",
       "      <th>3</th>\n",
       "      <td>2hop__131818_161450</td>\n",
       "      <td>3</td>\n",
       "      <td>52 Heroor is a village in the southern state o...</td>\n",
       "      <td>52 Heroor</td>\n",
       "      <td>False</td>\n",
       "      <td># 52 Heroor\\n52 Heroor is a village in the sou...</td>\n",
       "      <td>[{'content': 'You are an excellent knowledge g...</td>\n",
       "      <td>52 Heroor | location | Karnataka, India\\n52 He...</td>\n",
       "    </tr>\n",
       "    <tr>\n",
       "      <th>4</th>\n",
       "      <td>2hop__131818_161450</td>\n",
       "      <td>4</td>\n",
       "      <td>Vennaimalai is a village of Karur District loc...</td>\n",
       "      <td>Vennaimalai</td>\n",
       "      <td>False</td>\n",
       "      <td># Vennaimalai\\nVennaimalai is a village of Kar...</td>\n",
       "      <td>[{'content': 'You are an excellent knowledge g...</td>\n",
       "      <td>Vennaimalai | location | Karur District\\nVenna...</td>\n",
       "    </tr>\n",
       "  </tbody>\n",
       "</table>\n",
       "</div>"
      ],
      "text/plain": [
       "                    id  paragraph_idx  \\\n",
       "0  2hop__131818_161450              0   \n",
       "1  2hop__131818_161450              1   \n",
       "2  2hop__131818_161450              2   \n",
       "3  2hop__131818_161450              3   \n",
       "4  2hop__131818_161450              4   \n",
       "\n",
       "                                      paragraph_text  \\\n",
       "0  Maria Carrillo High School is a public high sc...   \n",
       "1  Golestān Province (Persian: استان گلستان‎, Ost...   \n",
       "2  Voshmgir District () is a district (bakhsh) in...   \n",
       "3  52 Heroor is a village in the southern state o...   \n",
       "4  Vennaimalai is a village of Karur District loc...   \n",
       "\n",
       "              paragraph_title  is_supporting  \\\n",
       "0  Maria Carrillo High School          False   \n",
       "1           Golestan Province           True   \n",
       "2           Voshmgir District           True   \n",
       "3                   52 Heroor          False   \n",
       "4                 Vennaimalai          False   \n",
       "\n",
       "                                                text  \\\n",
       "0  # Maria Carrillo High School\\nMaria Carrillo H...   \n",
       "1  # Golestan Province\\nGolestān Province (Persia...   \n",
       "2  # Voshmgir District\\nVoshmgir District () is a...   \n",
       "3  # 52 Heroor\\n52 Heroor is a village in the sou...   \n",
       "4  # Vennaimalai\\nVennaimalai is a village of Kar...   \n",
       "\n",
       "                                               input  \\\n",
       "0  [{'content': 'You are an excellent knowledge g...   \n",
       "1  [{'content': 'You are an excellent knowledge g...   \n",
       "2  [{'content': 'You are an excellent knowledge g...   \n",
       "3  [{'content': 'You are an excellent knowledge g...   \n",
       "4  [{'content': 'You are an excellent knowledge g...   \n",
       "\n",
       "                                          generation  \n",
       "0  Maria Carrillo High School | location | Santa ...  \n",
       "1  Golestan Province | location | north-east of I...  \n",
       "2  Voshmgir District | location | Aqqala County, ...  \n",
       "3  52 Heroor | location | Karnataka, India\\n52 He...  \n",
       "4  Vennaimalai | location | Karur District\\nVenna...  "
      ]
     },
     "execution_count": 5,
     "metadata": {},
     "output_type": "execute_result"
    }
   ],
   "source": [
    "jerx_file = Path(\"../../data/raw/musique-evaluation/jerx-inferences/llama3-base.jsonl\")\n",
    "jerx_df = pd.read_json(jerx_file, lines=True)\n",
    "jerx_df.head()"
   ]
  },
  {
   "cell_type": "code",
   "execution_count": 6,
   "metadata": {},
   "outputs": [],
   "source": [
    "jerx_mapping = {(row['id'], row['paragraph_idx']): row['generation'] for _, row in jerx_df.iterrows()}\n",
    "\n",
    "def extract_triplets(example: dict):\n",
    "    generations = '\\n'.join(jerx_mapping[(example['id'], p['idx'])] for p in example['paragraphs'] if p['is_supporting'])\n",
    "    example[\"triplets\"] = [line.split(\" | \") for line in generations.split('\\n') if line.strip()]\n",
    "    return example"
   ]
  },
  {
   "cell_type": "code",
   "execution_count": 7,
   "metadata": {},
   "outputs": [
    {
     "data": {
      "text/html": [
       "<div>\n",
       "<style scoped>\n",
       "    .dataframe tbody tr th:only-of-type {\n",
       "        vertical-align: middle;\n",
       "    }\n",
       "\n",
       "    .dataframe tbody tr th {\n",
       "        vertical-align: top;\n",
       "    }\n",
       "\n",
       "    .dataframe thead th {\n",
       "        text-align: right;\n",
       "    }\n",
       "</style>\n",
       "<table border=\"1\" class=\"dataframe\">\n",
       "  <thead>\n",
       "    <tr style=\"text-align: right;\">\n",
       "      <th></th>\n",
       "      <th>id</th>\n",
       "      <th>paragraphs</th>\n",
       "      <th>question</th>\n",
       "      <th>question_decomposition</th>\n",
       "      <th>answer</th>\n",
       "      <th>answer_aliases</th>\n",
       "      <th>answerable</th>\n",
       "      <th>triplets</th>\n",
       "    </tr>\n",
       "  </thead>\n",
       "  <tbody>\n",
       "    <tr>\n",
       "      <th>0</th>\n",
       "      <td>2hop__131818_161450</td>\n",
       "      <td>[{'idx': 0, 'title': 'Maria Carrillo High Scho...</td>\n",
       "      <td>Where is the Voshmgir District located?</td>\n",
       "      <td>[{'id': 131818, 'question': 'Which state is Vo...</td>\n",
       "      <td>in the north-east of the country south of the ...</td>\n",
       "      <td>[Caspian Sea, in the north-east of the country...</td>\n",
       "      <td>True</td>\n",
       "      <td>[[Golestan Province, location, north-east of I...</td>\n",
       "    </tr>\n",
       "    <tr>\n",
       "      <th>1</th>\n",
       "      <td>2hop__444265_82341</td>\n",
       "      <td>[{'idx': 0, 'title': 'Ocala, Florida', 'paragr...</td>\n",
       "      <td>In what part of Florida is Tom Denney's birthp...</td>\n",
       "      <td>[{'id': 444265, 'question': 'Tom Denney &gt;&gt; pla...</td>\n",
       "      <td>in Northern Florida</td>\n",
       "      <td>[in Northern Florida, Northern Florida]</td>\n",
       "      <td>True</td>\n",
       "      <td>[[Ocala, location, Florida], [Ocala, location ...</td>\n",
       "    </tr>\n",
       "    <tr>\n",
       "      <th>2</th>\n",
       "      <td>2hop__711946_269414</td>\n",
       "      <td>[{'idx': 0, 'title': 'Wild Thing (Tone Lōc son...</td>\n",
       "      <td>What record label is the performer who release...</td>\n",
       "      <td>[{'id': 711946, 'question': 'All Your Faded Th...</td>\n",
       "      <td>Kill Rock Stars</td>\n",
       "      <td>[Kill Rock Stars]</td>\n",
       "      <td>True</td>\n",
       "      <td>[[All Your Faded Things, album, ], [All Your F...</td>\n",
       "    </tr>\n",
       "    <tr>\n",
       "      <th>3</th>\n",
       "      <td>2hop__311931_417706</td>\n",
       "      <td>[{'idx': 0, 'title': 'The Main Attraction (alb...</td>\n",
       "      <td>What record label does the performer of Emotio...</td>\n",
       "      <td>[{'id': 311931, 'question': 'Emotional Rain &gt;&gt;...</td>\n",
       "      <td>Attic Records</td>\n",
       "      <td>[Attic, Attic Records]</td>\n",
       "      <td>True</td>\n",
       "      <td>[[Lee Aaron (album), release date, 1987-02-17]...</td>\n",
       "    </tr>\n",
       "    <tr>\n",
       "      <th>4</th>\n",
       "      <td>2hop__809785_606637</td>\n",
       "      <td>[{'idx': 0, 'title': 'The Main Attraction (alb...</td>\n",
       "      <td>What record label does the performer of Advent...</td>\n",
       "      <td>[{'id': 809785, 'question': 'Adventures in You...</td>\n",
       "      <td>Secret City Records</td>\n",
       "      <td>[Secret City Records]</td>\n",
       "      <td>True</td>\n",
       "      <td>[[Adventures in Your Own Backyard, type, album...</td>\n",
       "    </tr>\n",
       "  </tbody>\n",
       "</table>\n",
       "</div>"
      ],
      "text/plain": [
       "                    id                                         paragraphs  \\\n",
       "0  2hop__131818_161450  [{'idx': 0, 'title': 'Maria Carrillo High Scho...   \n",
       "1   2hop__444265_82341  [{'idx': 0, 'title': 'Ocala, Florida', 'paragr...   \n",
       "2  2hop__711946_269414  [{'idx': 0, 'title': 'Wild Thing (Tone Lōc son...   \n",
       "3  2hop__311931_417706  [{'idx': 0, 'title': 'The Main Attraction (alb...   \n",
       "4  2hop__809785_606637  [{'idx': 0, 'title': 'The Main Attraction (alb...   \n",
       "\n",
       "                                            question  \\\n",
       "0            Where is the Voshmgir District located?   \n",
       "1  In what part of Florida is Tom Denney's birthp...   \n",
       "2  What record label is the performer who release...   \n",
       "3  What record label does the performer of Emotio...   \n",
       "4  What record label does the performer of Advent...   \n",
       "\n",
       "                              question_decomposition  \\\n",
       "0  [{'id': 131818, 'question': 'Which state is Vo...   \n",
       "1  [{'id': 444265, 'question': 'Tom Denney >> pla...   \n",
       "2  [{'id': 711946, 'question': 'All Your Faded Th...   \n",
       "3  [{'id': 311931, 'question': 'Emotional Rain >>...   \n",
       "4  [{'id': 809785, 'question': 'Adventures in You...   \n",
       "\n",
       "                                              answer  \\\n",
       "0  in the north-east of the country south of the ...   \n",
       "1                                in Northern Florida   \n",
       "2                                    Kill Rock Stars   \n",
       "3                                      Attic Records   \n",
       "4                                Secret City Records   \n",
       "\n",
       "                                      answer_aliases  answerable  \\\n",
       "0  [Caspian Sea, in the north-east of the country...        True   \n",
       "1            [in Northern Florida, Northern Florida]        True   \n",
       "2                                  [Kill Rock Stars]        True   \n",
       "3                             [Attic, Attic Records]        True   \n",
       "4                              [Secret City Records]        True   \n",
       "\n",
       "                                            triplets  \n",
       "0  [[Golestan Province, location, north-east of I...  \n",
       "1  [[Ocala, location, Florida], [Ocala, location ...  \n",
       "2  [[All Your Faded Things, album, ], [All Your F...  \n",
       "3  [[Lee Aaron (album), release date, 1987-02-17]...  \n",
       "4  [[Adventures in Your Own Backyard, type, album...  "
      ]
     },
     "execution_count": 7,
     "metadata": {},
     "output_type": "execute_result"
    }
   ],
   "source": [
    "df = df.apply(extract_triplets, axis=1)\n",
    "df.head()"
   ]
  },
  {
   "cell_type": "code",
   "execution_count": 8,
   "metadata": {},
   "outputs": [
    {
     "data": {
      "text/plain": [
       "id                                                       2hop__444265_82341\n",
       "paragraphs                [{'idx': 0, 'title': 'Ocala, Florida', 'paragr...\n",
       "question                  In what part of Florida is Tom Denney's birthp...\n",
       "question_decomposition    [{'id': 444265, 'question': 'Tom Denney >> pla...\n",
       "answer                                                  in Northern Florida\n",
       "answer_aliases                      [in Northern Florida, Northern Florida]\n",
       "answerable                                                             True\n",
       "triplets                  [[Ocala, location, Florida], [Ocala, location ...\n",
       "Name: 1, dtype: object"
      ]
     },
     "execution_count": 8,
     "metadata": {},
     "output_type": "execute_result"
    }
   ],
   "source": [
    "i = 1\n",
    "example = df.iloc[i]\n",
    "example"
   ]
  },
  {
   "cell_type": "code",
   "execution_count": 9,
   "metadata": {},
   "outputs": [
    {
     "name": "stdout",
     "output_type": "stream",
     "text": [
      "In what part of Florida is Tom Denney's birthplace located?\n"
     ]
    }
   ],
   "source": [
    "print(example['question'])"
   ]
  },
  {
   "cell_type": "code",
   "execution_count": 10,
   "metadata": {},
   "outputs": [
    {
     "name": "stdout",
     "output_type": "stream",
     "text": [
      "Tom Denney >> place of birth\n",
      "where is #1 in the state of florida\n"
     ]
    }
   ],
   "source": [
    "print(example['question_decomposition'][0]['question'])\n",
    "print(example['question_decomposition'][1]['question'])"
   ]
  },
  {
   "cell_type": "markdown",
   "metadata": {},
   "source": [
    "## Search"
   ]
  },
  {
   "cell_type": "code",
   "execution_count": 11,
   "metadata": {},
   "outputs": [],
   "source": [
    "import bm25s\n",
    "\n",
    "class KnowledgeGraph:\n",
    "    def __init__(self, triplets: list[tuple[str, str, str]]):\n",
    "        self.delimiter = ' >> '\n",
    "        self.corpus = [self.delimiter.join(triplet) for triplet in triplets]\n",
    "        self.retriever = bm25s.BM25(corpus=self.corpus)\n",
    "        self.tokenized_corpus = bm25s.tokenize(self.corpus)\n",
    "        self.retriever.index(self.tokenized_corpus)\n",
    "\n",
    "    def search(self, query: str, top_k: int = 3):\n",
    "        top_k = min(top_k, len(self.corpus))\n",
    "        results, _ = self.retriever.retrieve(bm25s.tokenize(query), k=top_k)\n",
    "        return [triplet_str.split(self.delimiter) for triplet_str in results[0].tolist()]"
   ]
  },
  {
   "cell_type": "code",
   "execution_count": 12,
   "metadata": {},
   "outputs": [
    {
     "data": {
      "application/vnd.jupyter.widget-view+json": {
       "model_id": "47a735abb53b4d6fb5ba483aa1166b02",
       "version_major": 2,
       "version_minor": 0
      },
      "text/plain": [
       "Split strings:   0%|          | 0/9 [00:00<?, ?it/s]"
      ]
     },
     "metadata": {},
     "output_type": "display_data"
    },
    {
     "data": {
      "application/vnd.jupyter.widget-view+json": {
       "model_id": "2ec8abcd16b7426dba0cf23b75f156b7",
       "version_major": 2,
       "version_minor": 0
      },
      "text/plain": [
       "BM25S Count Tokens:   0%|          | 0/9 [00:00<?, ?it/s]"
      ]
     },
     "metadata": {},
     "output_type": "display_data"
    },
    {
     "data": {
      "application/vnd.jupyter.widget-view+json": {
       "model_id": "ac88b84fd174465393618a88c8fa5efb",
       "version_major": 2,
       "version_minor": 0
      },
      "text/plain": [
       "BM25S Compute Scores:   0%|          | 0/9 [00:00<?, ?it/s]"
      ]
     },
     "metadata": {},
     "output_type": "display_data"
    }
   ],
   "source": [
    "kg = KnowledgeGraph(example['triplets'])"
   ]
  },
  {
   "cell_type": "code",
   "execution_count": 13,
   "metadata": {},
   "outputs": [
    {
     "data": {
      "text/plain": [
       "'Tom Denney >> place of birth'"
      ]
     },
     "execution_count": 13,
     "metadata": {},
     "output_type": "execute_result"
    }
   ],
   "source": [
    "question = example['question_decomposition'][0]['question']\n",
    "question"
   ]
  },
  {
   "cell_type": "code",
   "execution_count": 14,
   "metadata": {},
   "outputs": [
    {
     "data": {
      "application/vnd.jupyter.widget-view+json": {
       "model_id": "fffae1938e5f4a3a8542c36875a27135",
       "version_major": 2,
       "version_minor": 0
      },
      "text/plain": [
       "Split strings:   0%|          | 0/1 [00:00<?, ?it/s]"
      ]
     },
     "metadata": {},
     "output_type": "display_data"
    },
    {
     "data": {
      "application/vnd.jupyter.widget-view+json": {
       "model_id": "d0a4230d361748f1b322b1595f53a1a6",
       "version_major": 2,
       "version_minor": 0
      },
      "text/plain": [
       "BM25S Retrieve:   0%|          | 0/1 [00:00<?, ?it/s]"
      ]
     },
     "metadata": {},
     "output_type": "display_data"
    },
    {
     "data": {
      "text/plain": [
       "[['Tom Denney', 'birth place', 'Ocala, Florida'],\n",
       " ['Tom Denney', 'birth date', 'November 23, 1982'],\n",
       " ['Tom Denney', 'profession', 'musician']]"
      ]
     },
     "execution_count": 14,
     "metadata": {},
     "output_type": "execute_result"
    }
   ],
   "source": [
    "kg.search(question, top_k=3)"
   ]
  },
  {
   "cell_type": "code",
   "execution_count": 15,
   "metadata": {},
   "outputs": [
    {
     "data": {
      "text/plain": [
       "'where is #1 in the state of florida'"
      ]
     },
     "execution_count": 15,
     "metadata": {},
     "output_type": "execute_result"
    }
   ],
   "source": [
    "question2 = example['question_decomposition'][1]['question']\n",
    "question2"
   ]
  },
  {
   "cell_type": "code",
   "execution_count": null,
   "metadata": {},
   "outputs": [],
   "source": []
  },
  {
   "cell_type": "code",
   "execution_count": 16,
   "metadata": {},
   "outputs": [
    {
     "data": {
      "application/vnd.jupyter.widget-view+json": {
       "model_id": "ac0b70757c764321800cf88a9efd5b14",
       "version_major": 2,
       "version_minor": 0
      },
      "text/plain": [
       "Split strings:   0%|          | 0/1 [00:00<?, ?it/s]"
      ]
     },
     "metadata": {},
     "output_type": "display_data"
    },
    {
     "data": {
      "application/vnd.jupyter.widget-view+json": {
       "model_id": "bf4bed4ae3bf461da35c4b64f7b92f90",
       "version_major": 2,
       "version_minor": 0
      },
      "text/plain": [
       "BM25S Retrieve:   0%|          | 0/1 [00:00<?, ?it/s]"
      ]
     },
     "metadata": {},
     "output_type": "display_data"
    },
    {
     "data": {
      "text/plain": [
       "[['Ocala', 'location', 'Florida'],\n",
       " ['Ocala', 'location type', 'Northern Florida'],\n",
       " ['Tom Denney', 'birth place', 'Ocala, Florida']]"
      ]
     },
     "execution_count": 16,
     "metadata": {},
     "output_type": "execute_result"
    }
   ],
   "source": [
    "kg.search(\"where is Ocala in the state of florida\", top_k=3)"
   ]
  },
  {
   "cell_type": "code",
   "execution_count": null,
   "metadata": {},
   "outputs": [],
   "source": []
  }
 ],
 "metadata": {
  "kernelspec": {
   "display_name": ".venv",
   "language": "python",
   "name": "python3"
  },
  "language_info": {
   "codemirror_mode": {
    "name": "ipython",
    "version": 3
   },
   "file_extension": ".py",
   "mimetype": "text/x-python",
   "name": "python",
   "nbconvert_exporter": "python",
   "pygments_lexer": "ipython3",
   "version": "3.10.12"
  }
 },
 "nbformat": 4,
 "nbformat_minor": 2
}

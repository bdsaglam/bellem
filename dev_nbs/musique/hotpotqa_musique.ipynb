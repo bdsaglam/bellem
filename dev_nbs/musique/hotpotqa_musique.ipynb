{
 "cells": [
  {
   "cell_type": "code",
   "execution_count": null,
   "metadata": {
    "id": "w97DzWQzMzIa"
   },
   "outputs": [],
   "source": [
    "import json\n",
    "\n",
    "def jprint(obj):\n",
    "    print(json.dumps(obj, indent=2))"
   ]
  },
  {
   "cell_type": "code",
   "execution_count": null,
   "metadata": {
    "id": "UdCiBgPgOxnF"
   },
   "outputs": [],
   "source": [
    "def print_dict_structure(d, indent=0):\n",
    "    \"\"\"\n",
    "    Recursively prints the structure of a nested dictionary and nested lists.\n",
    "    For lists, it displays the structure based on the first element of the list (recursively).\n",
    "\n",
    "    Parameters:\n",
    "    d (dict): The dictionary whose structure to print.\n",
    "    indent (int): The indentation level (for internal use during recursion).\n",
    "    \"\"\"\n",
    "    def print_list_structure(lst, indent):\n",
    "        \"\"\"Helper function to handle nested list structures.\"\"\"\n",
    "        if len(lst) == 0:\n",
    "            print(\" \" * indent + \"[empty list]\")\n",
    "        else:\n",
    "            first_element = lst[0]\n",
    "            if isinstance(first_element, list):\n",
    "                print(\" \" * indent + \"[list of list]\")\n",
    "                print_list_structure(first_element, indent + 4)\n",
    "            elif isinstance(first_element, dict):\n",
    "                print(\" \" * indent + \"[list of dict]\")\n",
    "                print_dict_structure(first_element, indent + 4)\n",
    "            else:\n",
    "                print(\" \" * indent + \"[list of \" + type(first_element).__name__ + \"]\")\n",
    "\n",
    "    for key, value in d.items():\n",
    "        print(\" \" * indent + str(key) + \": \", end=\"\")\n",
    "        if isinstance(value, dict):\n",
    "            print()  # Start a new line for nested dictionary\n",
    "            print_dict_structure(value, indent + 4)  # Increase indentation for nested dicts\n",
    "        elif isinstance(value, list):\n",
    "            print()  # Move to a new line for lists\n",
    "            print_list_structure(value, indent + 4)  # Recursively print list structure\n",
    "        else:\n",
    "            print(type(value).__name__)  # Print the type of the value\n"
   ]
  },
  {
   "cell_type": "code",
   "execution_count": null,
   "metadata": {
    "id": "OFf1l_dZtZJz"
   },
   "outputs": [],
   "source": [
    "from datasets import load_dataset, Dataset, DatasetDict"
   ]
  },
  {
   "cell_type": "code",
   "execution_count": null,
   "metadata": {
    "id": "R-FoWkWyqvF8"
   },
   "outputs": [],
   "source": [
    "dsd = load_dataset(\"hotpotqa/hotpot_qa\", \"distractor\", trust_remote_code=True)\n",
    "dsd"
   ]
  },
  {
   "cell_type": "code",
   "execution_count": null,
   "metadata": {
    "id": "JjWroCuCtb4t"
   },
   "outputs": [],
   "source": [
    "dsd['train'][1]"
   ]
  },
  {
   "cell_type": "code",
   "execution_count": null,
   "metadata": {
    "id": "ZtFPIAxurzvV"
   },
   "outputs": [],
   "source": [
    "musique_dsd = load_dataset('bdsaglam/musique-mini', 'answerable')\n",
    "musique_dsd"
   ]
  },
  {
   "cell_type": "code",
   "execution_count": null,
   "metadata": {
    "id": "3LGicDuNxGUo"
   },
   "outputs": [],
   "source": [
    "musique_dsd['train'][0]['question_decomposition']"
   ]
  },
  {
   "cell_type": "code",
   "execution_count": null,
   "metadata": {
    "id": "B0fd4Wi_sefb"
   },
   "outputs": [],
   "source": [
    "print_dict_structure(musique_dsd['train'][0])"
   ]
  },
  {
   "cell_type": "code",
   "execution_count": null,
   "metadata": {
    "id": "aWskUyQ0KRk8"
   },
   "outputs": [],
   "source": [
    "def convert_hotpotqa_to_musique(hotpotqa_sample):\n",
    "    musique_sample = {\n",
    "        \"id\": hotpotqa_sample[\"id\"],\n",
    "        \"paragraphs\": [],\n",
    "        \"question\": hotpotqa_sample[\"question\"],\n",
    "        \"question_decomposition\": [],\n",
    "        \"answer\": hotpotqa_sample[\"answer\"],\n",
    "        \"answer_aliases\": [],\n",
    "        \"answerable\": True\n",
    "    }\n",
    "\n",
    "    # Step 1: Process Context Paragraphs\n",
    "    context_list = list(zip(hotpotqa_sample['context']['title'], hotpotqa_sample['context']['sentences']))\n",
    "    for idx, (title, sentences) in enumerate(context_list):\n",
    "        paragraph_text = \" \".join(sentences)  # Concatenate sentences into paragraph\n",
    "        is_supporting = any([supporting_title == title for supporting_title in hotpotqa_sample[\"supporting_facts\"]['title']])\n",
    "\n",
    "        paragraph = {\n",
    "            \"idx\": idx,\n",
    "            \"is_supporting\": is_supporting,\n",
    "            \"paragraph_text\": paragraph_text,\n",
    "            \"title\": title\n",
    "        }\n",
    "        musique_sample[\"paragraphs\"].append(paragraph)\n",
    "\n",
    "    # There must be at least one supporting paragraph\n",
    "    assert any(p['is_supporting'] for p in musique_sample[\"paragraphs\"])\n",
    "\n",
    "    # Step 2: Question Decomposition (as per given structure, skipping as we have no decomposition info)\n",
    "    for idx, title in enumerate(hotpotqa_sample[\"supporting_facts\"]['title']):\n",
    "        # Find the paragraph index in the context list that matches the supporting fact title\n",
    "        paragraph_support_idx = next((i for i, t in enumerate(hotpotqa_sample[\"context\"]['title']) if t == title), -1)\n",
    "\n",
    "        question_decomposition = {\n",
    "            \"answer\": \"\",\n",
    "            \"id\": idx,\n",
    "            \"paragraph_support_idx\": paragraph_support_idx,\n",
    "            \"question\": hotpotqa_sample[\"question\"]  # Keeping the original question since no decomposition exists\n",
    "        }\n",
    "        musique_sample[\"question_decomposition\"].append(question_decomposition)\n",
    "\n",
    "    return musique_sample\n"
   ]
  },
  {
   "cell_type": "code",
   "execution_count": null,
   "metadata": {
    "id": "9SNT7ZaWMO0v"
   },
   "outputs": [],
   "source": [
    "# Example HotPotQA sample\n",
    "hotpotqa_sample = dsd['train'][1]\n",
    "jprint(hotpotqa_sample)"
   ]
  },
  {
   "cell_type": "code",
   "execution_count": null,
   "metadata": {
    "id": "4y9oyttHv0Lw"
   },
   "outputs": [],
   "source": [
    "# Convert and print the MuSiQue sample\n",
    "hotpotqa_sample_musique = convert_hotpotqa_to_musique(hotpotqa_sample)\n",
    "jprint(hotpotqa_sample_musique)\n"
   ]
  },
  {
   "cell_type": "code",
   "execution_count": null,
   "metadata": {
    "id": "k8uE4-2Kyr4O"
   },
   "outputs": [],
   "source": [
    "hotpotqa_musique_dsd = dsd.map(convert_hotpotqa_to_musique)\n",
    "hotpotqa_musique_dsd"
   ]
  },
  {
   "cell_type": "code",
   "execution_count": null,
   "metadata": {
    "id": "cAAD_-EqLQwj"
   },
   "outputs": [],
   "source": [
    "hotpotqa_musique_dsd.push_to_hub(\"bdsaglam/hotpotqa-distractor\")\n"
   ]
  },
  {
   "cell_type": "code",
   "execution_count": null,
   "metadata": {
    "id": "ORghR8WxLuNZ"
   },
   "outputs": [],
   "source": [
    "def sample_evenly(dataset, n_samples):\n",
    "    for level in ['easy', 'hard', 'medium']:\n",
    "        yield from dataset.filter(lambda x: x['level'] == level).shuffle().select(range(n_samples))\n",
    "\n",
    "def publish_mini_variant(path: str, config_name: str, n_samples: int):\n",
    "    dsd = load_dataset(path, config_name)\n",
    "    target_dsd = DatasetDict()\n",
    "    for split, ds in dsd.items():\n",
    "        target_dsd[split] = Dataset.from_list(list(sample_evenly(ds, n_samples)))\n",
    "    target_dsd.push_to_hub(f\"{path}-mini\", config_name=config_name)"
   ]
  },
  {
   "cell_type": "code",
   "execution_count": null,
   "metadata": {},
   "outputs": [],
   "source": [
    "publish_mini_variant(\"bdsaglam/hotpotqa-distractor\", \"default\", 100)"
   ]
  }
 ],
 "metadata": {
  "colab": {
   "private_outputs": true,
   "provenance": []
  },
  "kernelspec": {
   "display_name": "Python 3",
   "name": "python3"
  },
  "language_info": {
   "name": "python"
  }
 },
 "nbformat": 4,
 "nbformat_minor": 0
}

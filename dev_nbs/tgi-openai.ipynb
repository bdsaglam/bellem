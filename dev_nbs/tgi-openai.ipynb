{
 "cells": [
  {
   "cell_type": "code",
   "execution_count": 5,
   "metadata": {},
   "outputs": [
    {
     "data": {
      "text/plain": [
       "True"
      ]
     },
     "execution_count": 5,
     "metadata": {},
     "output_type": "execute_result"
    }
   ],
   "source": [
    "from dotenv import load_dotenv\n",
    "load_dotenv()"
   ]
  },
  {
   "cell_type": "code",
   "execution_count": 6,
   "metadata": {},
   "outputs": [],
   "source": [
    "import os\n",
    "os.environ['OPENAI_BASE_URL'] = 'http://0.0.0.0:8111'"
   ]
  },
  {
   "cell_type": "code",
   "execution_count": 7,
   "metadata": {},
   "outputs": [],
   "source": [
    "from openai import OpenAI\n",
    "\n",
    "client = OpenAI()"
   ]
  },
  {
   "cell_type": "code",
   "execution_count": 8,
   "metadata": {},
   "outputs": [
    {
     "name": "stdout",
     "output_type": "stream",
     "text": [
      "================================================================================\n",
      "Roger Federer's backhand is widely regarded as one of the most elegant and effective shots in tennis history! It's a stroke that has been honed to perfection over the years, and it's a key component of his overall game.\n",
      "\n",
      "Federer's backhand is known for its simplicity, yet it's incredibly effective. He uses a compact, one-handed grip, which allows him to generate immense power and control. The way he takes the ball early, using his exceptional footwork and anticipation\n",
      "================================================================================\n",
      "Roger Federer's backhand is widely considered one of the greatest shots in tennis history! It's a stroke of pure elegance and precision. Federer's one-handed backhand is a rare sight in modern tennis, and he's mastered it to perfection.\n",
      "\n",
      "What makes Federer's backhand so exceptional is its versatility. He can hit it with pace, depth, and angle, making it a formidable weapon against any opponent. He can also use it to defend, creating a high-bouncing topspin\n",
      "================================================================================\n",
      "Roger Federer's backhand is widely considered one of the most technically sound and effective shots in tennis history. Here's why:\n",
      "\n",
      "1. **Consistency**: Federer's backhand is incredibly consistent, with a high margin for error. He can hit it deep, with pace, and with precision, making it a reliable shot in high-pressure situations.\n",
      "2. **Variation**: Federer has mastered various types of backhands, including the slice, topspin, and flat backhand. He\n",
      "================================================================================\n",
      "Roger Federer's backhand is widely regarded as one of the most technically sound and effective shots in tennis history. Here are some reasons why:\n",
      "\n",
      "1. **Consistency**: Federer's backhand is incredibly consistent, with a high success rate of landing the ball deep in his opponent's court. He rarely makes unforced errors on this side.\n",
      "2. **Variation**: Federer has developed a range of backhand variations, including a slice, topspin, and flat backhand. This\n",
      "================================================================================\n",
      "Roger Federer's backhand is indeed a fascinating topic! \n",
      "\n",
      "Federer's backhand is often considered one of the most elegant and effective shots in tennis. He has developed a unique style, using a one-handed grip, which allows him to generate tremendous power, control, and precision. Here are some key aspects that make his backhand so remarkable:\n",
      "\n",
      "1. **Technique**: Federer's one-handed backhand is a rare sight in modern tennis, where most players use a two-handed\n"
     ]
    }
   ],
   "source": [
    "for i in range(5):\n",
    "    chat_completion = client.chat.completions.create(\n",
    "        model=\"llama-3-70b-tgi\",\n",
    "        messages=[\n",
    "            {\"role\": \"system\", \"content\": \"You are a helpful assistant.\"},\n",
    "            {\"role\": \"user\", \"content\": \"What do you think about Federer's backhand?\"},\n",
    "        ],\n",
    "        temperature=0.7,\n",
    "        # extra_body=dict(\n",
    "        #     do_sample=True,\n",
    "        # ),\n",
    "    )\n",
    "    print('='*80)\n",
    "    print(chat_completion.choices[0].message.content)"
   ]
  },
  {
   "cell_type": "code",
   "execution_count": null,
   "metadata": {},
   "outputs": [],
   "source": []
  }
 ],
 "metadata": {
  "kernelspec": {
   "display_name": "thesis",
   "language": "python",
   "name": "python3"
  },
  "language_info": {
   "codemirror_mode": {
    "name": "ipython",
    "version": 3
   },
   "file_extension": ".py",
   "mimetype": "text/x-python",
   "name": "python",
   "nbconvert_exporter": "python",
   "pygments_lexer": "ipython3",
   "version": "3.10.16"
  }
 },
 "nbformat": 4,
 "nbformat_minor": 2
}
